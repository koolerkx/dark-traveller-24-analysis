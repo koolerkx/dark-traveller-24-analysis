{
 "cells": [
  {
   "cell_type": "code",
   "execution_count": 1,
   "metadata": {},
   "outputs": [],
   "source": [
    "import json\n",
    "\n",
    "with open('data/points.json', 'r') as json_file:\n",
    "    points = json.load(json_file)\n",
    "\n",
    "with open('data/users.json', 'r') as json_file:\n",
    "    users = json.load(json_file)\n",
    "\n",
    "with open('data/activity_logs.json', 'r') as json_file:\n",
    "    activity_logs = json.load(json_file)"
   ]
  },
  {
   "cell_type": "code",
   "execution_count": 2,
   "metadata": {},
   "outputs": [],
   "source": [
    "import polars as pl"
   ]
  },
  {
   "cell_type": "markdown",
   "metadata": {},
   "source": [
    "## Point DF"
   ]
  },
  {
   "cell_type": "code",
   "execution_count": 3,
   "metadata": {},
   "outputs": [
    {
     "data": {
      "text/html": [
       "<div><style>\n",
       ".dataframe > thead > tr,\n",
       ".dataframe > tbody > tr {\n",
       "  text-align: right;\n",
       "  white-space: pre-wrap;\n",
       "}\n",
       "</style>\n",
       "<small>shape: (53, 5)</small><table border=\"1\" class=\"dataframe\"><thead><tr><th>point</th><th>isPublic</th><th>heroImage</th><th>long</th><th>lat</th></tr><tr><td>str</td><td>bool</td><td>str</td><td>f64</td><td>f64</td></tr></thead><tbody><tr><td>&quot;天水圍體育館&quot;</td><td>true</td><td>&quot;https://firebasestorage.google…</td><td>114.00674</td><td>22.454822</td></tr><tr><td>&quot;隱藏集合點&quot;</td><td>true</td><td>&quot;&quot;</td><td>114.008563</td><td>22.451097</td></tr><tr><td>&quot;流浮山消防局&quot;</td><td>true</td><td>&quot;https://firebasestorage.google…</td><td>114.002262</td><td>22.471316</td></tr><tr><td>&quot;天水圍運動場&quot;</td><td>true</td><td>&quot;https://firebasestorage.google…</td><td>114.003714</td><td>22.453907</td></tr><tr><td>&quot;慧景軒巴士站&quot;</td><td>true</td><td>&quot;https://firebasestorage.google…</td><td>114.005047</td><td>22.465724</td></tr><tr><td>&hellip;</td><td>&hellip;</td><td>&hellip;</td><td>&hellip;</td><td>&hellip;</td></tr><tr><td>&quot;聖葉理諾堂&quot;</td><td>true</td><td>&quot;https://firebasestorage.google…</td><td>114.001623</td><td>22.44961</td></tr><tr><td>&quot;天瑞俓（一）&quot;</td><td>true</td><td>&quot;https://firebasestorage.google…</td><td>113.998795</td><td>22.449919</td></tr><tr><td>&quot;天河路遊樂場涼亭&quot;</td><td>true</td><td>&quot;https://firebasestorage.google…</td><td>114.000367</td><td>22.449815</td></tr><tr><td>&quot;天華天橋樓梯&quot;</td><td>true</td><td>&quot;https://firebasestorage.google…</td><td>113.996744</td><td>22.460769</td></tr><tr><td>&quot;天業路公園（裏）&quot;</td><td>true</td><td>&quot;https://firebasestorage.google…</td><td>114.006367</td><td>22.463944</td></tr></tbody></table></div>"
      ],
      "text/plain": [
       "shape: (53, 5)\n",
       "┌──────────────────┬──────────┬─────────────────────────────────┬────────────┬───────────┐\n",
       "│ point            ┆ isPublic ┆ heroImage                       ┆ long       ┆ lat       │\n",
       "│ ---              ┆ ---      ┆ ---                             ┆ ---        ┆ ---       │\n",
       "│ str              ┆ bool     ┆ str                             ┆ f64        ┆ f64       │\n",
       "╞══════════════════╪══════════╪═════════════════════════════════╪════════════╪═══════════╡\n",
       "│ 天水圍體育館     ┆ true     ┆ https://firebasestorage.google… ┆ 114.00674  ┆ 22.454822 │\n",
       "│ 隱藏集合點       ┆ true     ┆                                 ┆ 114.008563 ┆ 22.451097 │\n",
       "│ 流浮山消防局     ┆ true     ┆ https://firebasestorage.google… ┆ 114.002262 ┆ 22.471316 │\n",
       "│ 天水圍運動場     ┆ true     ┆ https://firebasestorage.google… ┆ 114.003714 ┆ 22.453907 │\n",
       "│ 慧景軒巴士站     ┆ true     ┆ https://firebasestorage.google… ┆ 114.005047 ┆ 22.465724 │\n",
       "│ …                ┆ …        ┆ …                               ┆ …          ┆ …         │\n",
       "│ 聖葉理諾堂       ┆ true     ┆ https://firebasestorage.google… ┆ 114.001623 ┆ 22.44961  │\n",
       "│ 天瑞俓（一）     ┆ true     ┆ https://firebasestorage.google… ┆ 113.998795 ┆ 22.449919 │\n",
       "│ 天河路遊樂場涼亭 ┆ true     ┆ https://firebasestorage.google… ┆ 114.000367 ┆ 22.449815 │\n",
       "│ 天華天橋樓梯     ┆ true     ┆ https://firebasestorage.google… ┆ 113.996744 ┆ 22.460769 │\n",
       "│ 天業路公園（裏） ┆ true     ┆ https://firebasestorage.google… ┆ 114.006367 ┆ 22.463944 │\n",
       "└──────────────────┴──────────┴─────────────────────────────────┴────────────┴───────────┘"
      ]
     },
     "execution_count": 3,
     "metadata": {},
     "output_type": "execute_result"
    }
   ],
   "source": [
    "points_df = pl.DataFrame(list(points.values()))\n",
    "points_df = points_df.drop(\"description\")\n",
    "points_df = points_df.select([pl.col('*').exclude('location'), pl.col('location').struct.rename_fields([\"long\", \"lat\"])]).unnest(\"location\")\n",
    "points_df"
   ]
  },
  {
   "cell_type": "markdown",
   "metadata": {},
   "source": [
    "## Users DF"
   ]
  },
  {
   "cell_type": "code",
   "execution_count": 4,
   "metadata": {},
   "outputs": [],
   "source": [
    "from datetime import datetime\n",
    "\n",
    "def map_score(data):\n",
    "    score_per_second = {\n",
    "        \"_\": 1 / 60,\n",
    "        \"1\": 1 / 60,\n",
    "        \"2\": 20 / 60,\n",
    "        \"3\": 150 / 60,\n",
    "        \"4\": 250 / 60,\n",
    "        \"5\": 500 / 60,\n",
    "    }\n",
    "    \n",
    "    total_score = 0\n",
    "    for item in data:\n",
    "        created_at = datetime.fromisoformat(item['createdAt'].replace('Z', '+00:00'))\n",
    "        expired_at = datetime.fromisoformat(item['expiredAt'].replace('Z', '+00:00'))\n",
    "        duration = (expired_at - created_at).total_seconds()\n",
    "        level = str(item['level'])\n",
    "        score = duration * score_per_second.get(level, score_per_second[\"_\"])\n",
    "        total_score += score\n",
    "    return total_score\n",
    "\n",
    "def map_duration(data):\n",
    "    total_duration = 0\n",
    "    for item in data:\n",
    "        created_at = datetime.fromisoformat(item['createdAt'].replace('Z', '+00:00'))\n",
    "        expired_at = datetime.fromisoformat(item['expiredAt'].replace('Z', '+00:00'))\n",
    "        duration = (expired_at - created_at).total_seconds()\n",
    "        total_duration += duration\n",
    "        \n",
    "    return total_duration\n",
    "\n",
    "def map_average_duration(data):\n",
    "    total_duration = 0\n",
    "    for item in data:\n",
    "        created_at = datetime.fromisoformat(item['createdAt'].replace('Z', '+00:00'))\n",
    "        expired_at = datetime.fromisoformat(item['expiredAt'].replace('Z', '+00:00'))\n",
    "        duration = (expired_at - created_at).total_seconds()\n",
    "        total_duration += duration\n",
    "        \n",
    "    len = data.len() if data.len() > 0 else 1\n",
    "    return total_duration / len\n",
    "\n",
    "def map_total_captured_unique(data):\n",
    "    pointsId = [x['pointId'] for x in data]\n",
    "        \n",
    "    return len(set(pointsId))\n",
    "\n",
    "\n",
    "def map_final_level(data):\n",
    "    max_level = 1\n",
    "    \n",
    "    for item in data:\n",
    "        if(item['level'] > max_level):\n",
    "            max_level = item['level']\n",
    "    return max_level"
   ]
  },
  {
   "cell_type": "code",
   "execution_count": 5,
   "metadata": {},
   "outputs": [
    {
     "data": {
      "text/html": [
       "<div><style>\n",
       ".dataframe > thead > tr,\n",
       ".dataframe > tbody > tr {\n",
       "  text-align: right;\n",
       "  white-space: pre-wrap;\n",
       "}\n",
       "</style>\n",
       "<small>shape: (9, 11)</small><table border=\"1\" class=\"dataframe\"><thead><tr><th>capturedPoints</th><th>email</th><th>upgradedPoints</th><th>name</th><th>total_captured</th><th>total_captured_unique</th><th>score</th><th>score_offset</th><th>duration</th><th>average_duration</th><th>final_level</th></tr><tr><td>list[struct[7]]</td><td>str</td><td>list[str]</td><td>str</td><td>u32</td><td>i8</td><td>f32</td><td>f32</td><td>f32</td><td>f32</td><td>i8</td></tr></thead><tbody><tr><td>[{&quot;skc-3@example.com&quot;,&quot;南葵中心3隊&quot;,&quot;2024-08-02T21:44:31.341Z&quot;,&quot;2024-08-02T20:27:48.160Z&quot;,2,&quot;MM12lHGWCtvCbQvMy29H&quot;,&quot;天瑞俓（二）&quot;}, {&quot;skc-3@example.com&quot;,&quot;南葵中心3隊&quot;,&quot;2024-08-02T21:42:11.260Z&quot;,&quot;2024-08-02T20:29:51.988Z&quot;,2,&quot;Y54hD80CffPsd7hG6KZn&quot;,&quot;天瑞俓（三）&quot;}, … {&quot;skc-3@example.com&quot;,&quot;南葵中心3隊&quot;,&quot;2024-08-02T22:33:31.782Z&quot;,&quot;2024-08-02T21:48:30.321Z&quot;,3,&quot;xv6F5QsTKUVQasrDM5V5&quot;,&quot;天瑞俓（一）&quot;}]</td><td>&quot;skc-3@example.com&quot;</td><td>[&quot;1&quot;, &quot;3&quot;]</td><td>&quot;南葵中心3隊&quot;</td><td>19</td><td>10</td><td>55591.414062</td><td>43091.414062</td><td>46675.914062</td><td>2456.626953</td><td>3</td></tr><tr><td>[{&quot;skc-4@example.com&quot;,&quot;南葵中心4隊&quot;,&quot;2024-08-02T20:22:21.223Z&quot;,&quot;2024-08-02T20:19:06.128Z&quot;,1,&quot;xFldNrcu765eRZc2hrsn&quot;,&quot;聖葉理諾堂&quot;}, {&quot;skc-4@example.com&quot;,&quot;南葵中心4隊&quot;,&quot;2024-08-02T21:41:43.053Z&quot;,&quot;2024-08-02T20:20:21.384Z&quot;,1,&quot;yhDNSAU3ByPksCfmW3E3&quot;,&quot;天河路遊樂場涼亭&quot;}, … {&quot;skc-4@example.com&quot;,&quot;南葵中心4隊&quot;,&quot;2024-08-02T22:33:31.782Z&quot;,&quot;2024-08-02T21:42:41.441Z&quot;,3,&quot;gFJqiYep8W1OwbFTueIM&quot;,&quot;天瑞路公園涼亭&quot;}]</td><td>&quot;skc-4@example.com&quot;</td><td>[&quot;4&quot;, &quot;1&quot;]</td><td>&quot;南葵中心4隊&quot;</td><td>26</td><td>10</td><td>44894.796875</td><td>32394.796875</td><td>77038.289062</td><td>2963.01123</td><td>3</td></tr><tr><td>[{&quot;sw-2@example.com&quot;,&quot;上環/將軍澳中心隊&quot;,&quot;2024-08-02T21:46:58.326Z&quot;,&quot;2024-08-02T20:23:05.036Z&quot;,1,&quot;0gHiSX9dMHkVpffFR9RU&quot;,&quot;天水圍體育館&quot;}, {&quot;sw-2@example.com&quot;,&quot;上環/將軍澳中心隊&quot;,&quot;2024-08-02T21:41:47.810Z&quot;,&quot;2024-08-02T20:27:41.262Z&quot;,1,&quot;Un4smPc0lSA8jpfvA5zJ&quot;,&quot;天水圍游泳池&quot;}, … {&quot;sw-2@example.com&quot;,&quot;上環/將軍澳中心隊&quot;,&quot;2024-08-02T22:33:31.782Z&quot;,&quot;2024-08-02T22:15:26.468Z&quot;,3,&quot;rSnhF4HYEnTG98p9E7To&quot;,&quot;天水圍公園（西）&quot;}]</td><td>&quot;sw-2@example.com&quot;</td><td>[&quot;2&quot;, &quot;4&quot;]</td><td>&quot;上環/將軍澳中心隊&quot;</td><td>12</td><td>12</td><td>15474.444336</td><td>2974.444336</td><td>44609.160156</td><td>3717.429932</td><td>3</td></tr><tr><td>[{&quot;skc-2@example.com&quot;,&quot;南葵中心2隊&quot;,&quot;2024-08-02T20:35:10.285Z&quot;,&quot;2024-08-02T20:33:36.576Z&quot;,1,&quot;45ntnYbmnHBUIEyvTtNs&quot;,&quot;天瑞社區中心&quot;}, {&quot;skc-2@example.com&quot;,&quot;南葵中心2隊&quot;,&quot;2024-08-02T22:33:31.782Z&quot;,&quot;2024-08-02T20:51:29.331Z&quot;,2,&quot;stpbAJ0ixmFg8KELxSzz&quot;,&quot;天榮路西&quot;}, … {&quot;skc-2@example.com&quot;,&quot;南葵中心2隊&quot;,&quot;2024-08-02T22:33:31.782Z&quot;,&quot;2024-08-02T21:56:04.014Z&quot;,2,&quot;2d52tp09iWfccGggsMH5&quot;,&quot;流浮山消防局&quot;}]</td><td>&quot;skc-2@example.com&quot;</td><td>[&quot;4&quot;]</td><td>&quot;南葵中心2隊&quot;</td><td>15</td><td>15</td><td>15448.828125</td><td>2948.828125</td><td>46435.507812</td><td>3095.700439</td><td>2</td></tr><tr><td>[{&quot;skc-1@example.com&quot;,&quot;南葵中心1隊&quot;,&quot;2024-08-02T21:07:15.858Z&quot;,&quot;2024-08-02T20:22:21.223Z&quot;,1,&quot;xFldNrcu765eRZc2hrsn&quot;,&quot;聖葉理諾堂&quot;}, {&quot;skc-1@example.com&quot;,&quot;南葵中心1隊&quot;,&quot;2024-08-02T21:41:43.053Z&quot;,&quot;2024-08-02T20:24:01.956Z&quot;,1,&quot;yhDNSAU3ByPksCfmW3E3&quot;,&quot;天河路遊樂場涼亭&quot;}, … {&quot;skc-1@example.com&quot;,&quot;南葵中心1隊&quot;,&quot;2024-08-02T22:33:31.782Z&quot;,&quot;2024-08-02T22:06:50.843Z&quot;,2,&quot;1ZflGseWvmvEMDtj6YOq&quot;,&quot;隱藏集合點&quot;}]</td><td>&quot;skc-1@example.com&quot;</td><td>[&quot;4&quot;]</td><td>&quot;南葵中心1隊&quot;</td><td>23</td><td>17</td><td>10107.545898</td><td>-2392.454102</td><td>47757.152344</td><td>2076.397949</td><td>2</td></tr><tr><td>[{&quot;sd1-1@example.com&quot;,&quot;南區中心1隊&quot;,&quot;2024-08-02T22:35:06.177Z&quot;,&quot;2024-08-02T22:03:00.057Z&quot;,3,&quot;Un4smPc0lSA8jpfvA5zJ&quot;,&quot;天水圍游泳池&quot;}, {&quot;sd1-1@example.com&quot;,&quot;南區中心1隊&quot;,&quot;2024-08-02T22:33:31.782Z&quot;,&quot;2024-08-02T22:06:50.535Z&quot;,3,&quot;0gHiSX9dMHkVpffFR9RU&quot;,&quot;天水圍體育館&quot;}]</td><td>&quot;sd1-1@example.com&quot;</td><td>[&quot;1&quot;, &quot;2&quot;]</td><td>&quot;南區中心1隊&quot;</td><td>2</td><td>2</td><td>8818.417969</td><td>-3681.582031</td><td>3527.366943</td><td>1763.683472</td><td>3</td></tr><tr><td>[{&quot;sw-1@example.com&quot;,&quot;上環中心隊&quot;,&quot;2024-08-02T22:35:06.177Z&quot;,&quot;2024-08-02T21:41:47.810Z&quot;,2,&quot;Un4smPc0lSA8jpfvA5zJ&quot;,&quot;天水圍游泳池&quot;}, {&quot;sw-1@example.com&quot;,&quot;上環中心隊&quot;,&quot;2024-08-02T22:00:21.126Z&quot;,&quot;2024-08-02T21:46:58.326Z&quot;,2,&quot;0gHiSX9dMHkVpffFR9RU&quot;,&quot;天水圍體育館&quot;}, … {&quot;sw-1@example.com&quot;,&quot;上環中心隊&quot;,&quot;2024-08-02T22:33:31.782Z&quot;,&quot;2024-08-02T22:37:37.693Z&quot;,3,&quot;0gHiSX9dMHkVpffFR9RU&quot;,&quot;天水圍體育館&quot;}]</td><td>&quot;sw-1@example.com&quot;</td><td>[&quot;1&quot;, &quot;2&quot;]</td><td>&quot;上環中心隊&quot;</td><td>7</td><td>5</td><td>6006.617188</td><td>-6493.382812</td><td>5870.325195</td><td>838.617859</td><td>3</td></tr><tr><td>[{&quot;sy1@example.com&quot;,&quot;石蔭中心隊&quot;,&quot;2024-08-02T20:23:05.036Z&quot;,&quot;2024-08-02T20:14:55.939Z&quot;,1,&quot;0gHiSX9dMHkVpffFR9RU&quot;,&quot;天水圍體育館&quot;}, {&quot;sy1@example.com&quot;,&quot;石蔭中心隊&quot;,&quot;2024-08-02T20:27:41.262Z&quot;,&quot;2024-08-02T20:18:47.636Z&quot;,1,&quot;Un4smPc0lSA8jpfvA5zJ&quot;,&quot;天水圍游泳池&quot;}, … {&quot;sy1@example.com&quot;,&quot;石蔭中心隊&quot;,&quot;2024-08-02T21:40:56.120Z&quot;,&quot;2024-08-02T21:35:33.895Z&quot;,3,&quot;45ntnYbmnHBUIEyvTtNs&quot;,&quot;天瑞社區中心&quot;}]</td><td>&quot;sy1@example.com&quot;</td><td>[&quot;3&quot;, &quot;4&quot;]</td><td>&quot;石蔭中心隊&quot;</td><td>13</td><td>13</td><td>2116.935791</td><td>-10383.064453</td><td>27650.966797</td><td>2126.997314</td><td>3</td></tr><tr><td>[]</td><td>&quot;sd1-2@example.com&quot;</td><td>[]</td><td>&quot;南區中心2隊&quot;</td><td>0</td><td>0</td><td>0.0</td><td>-12500.0</td><td>0.0</td><td>0.0</td><td>1</td></tr></tbody></table></div>"
      ],
      "text/plain": [
       "shape: (9, 11)\n",
       "┌───────────┬───────────┬───────────┬───────────┬───┬───────────┬───────────┬───────────┬──────────┐\n",
       "│ capturedP ┆ email     ┆ upgradedP ┆ name      ┆ … ┆ score_off ┆ duration  ┆ average_d ┆ final_le │\n",
       "│ oints     ┆ ---       ┆ oints     ┆ ---       ┆   ┆ set       ┆ ---       ┆ uration   ┆ vel      │\n",
       "│ ---       ┆ str       ┆ ---       ┆ str       ┆   ┆ ---       ┆ f32       ┆ ---       ┆ ---      │\n",
       "│ list[stru ┆           ┆ list[str] ┆           ┆   ┆ f32       ┆           ┆ f32       ┆ i8       │\n",
       "│ ct[7]]    ┆           ┆           ┆           ┆   ┆           ┆           ┆           ┆          │\n",
       "╞═══════════╪═══════════╪═══════════╪═══════════╪═══╪═══════════╪═══════════╪═══════════╪══════════╡\n",
       "│ [{\"skc-3@ ┆ skc-3@exa ┆ [\"1\",     ┆ 南葵中心3 ┆ … ┆ 43091.414 ┆ 46675.914 ┆ 2456.6269 ┆ 3        │\n",
       "│ example.c ┆ mple.com  ┆ \"3\"]      ┆ 隊        ┆   ┆ 062       ┆ 062       ┆ 53        ┆          │\n",
       "│ om\",\"南葵 ┆           ┆           ┆           ┆   ┆           ┆           ┆           ┆          │\n",
       "│ 中心3隊\"… ┆           ┆           ┆           ┆   ┆           ┆           ┆           ┆          │\n",
       "│ [{\"skc-4@ ┆ skc-4@exa ┆ [\"4\",     ┆ 南葵中心4 ┆ … ┆ 32394.796 ┆ 77038.289 ┆ 2963.0112 ┆ 3        │\n",
       "│ example.c ┆ mple.com  ┆ \"1\"]      ┆ 隊        ┆   ┆ 875       ┆ 062       ┆ 3         ┆          │\n",
       "│ om\",\"南葵 ┆           ┆           ┆           ┆   ┆           ┆           ┆           ┆          │\n",
       "│ 中心4隊\"… ┆           ┆           ┆           ┆   ┆           ┆           ┆           ┆          │\n",
       "│ [{\"sw-2@e ┆ sw-2@exam ┆ [\"2\",     ┆ 上環/將軍 ┆ … ┆ 2974.4443 ┆ 44609.160 ┆ 3717.4299 ┆ 3        │\n",
       "│ xample.co ┆ ple.com   ┆ \"4\"]      ┆ 澳中心隊  ┆   ┆ 36        ┆ 156       ┆ 32        ┆          │\n",
       "│ m\",\"上環/ ┆           ┆           ┆           ┆   ┆           ┆           ┆           ┆          │\n",
       "│ 將軍澳中  ┆           ┆           ┆           ┆   ┆           ┆           ┆           ┆          │\n",
       "│ 心…       ┆           ┆           ┆           ┆   ┆           ┆           ┆           ┆          │\n",
       "│ [{\"skc-2@ ┆ skc-2@exa ┆ [\"4\"]     ┆ 南葵中心2 ┆ … ┆ 2948.8281 ┆ 46435.507 ┆ 3095.7004 ┆ 2        │\n",
       "│ example.c ┆ mple.com  ┆           ┆ 隊        ┆   ┆ 25        ┆ 812       ┆ 39        ┆          │\n",
       "│ om\",\"南葵 ┆           ┆           ┆           ┆   ┆           ┆           ┆           ┆          │\n",
       "│ 中心2隊\"… ┆           ┆           ┆           ┆   ┆           ┆           ┆           ┆          │\n",
       "│ [{\"skc-1@ ┆ skc-1@exa ┆ [\"4\"]     ┆ 南葵中心1 ┆ … ┆ -2392.454 ┆ 47757.152 ┆ 2076.3979 ┆ 2        │\n",
       "│ example.c ┆ mple.com  ┆           ┆ 隊        ┆   ┆ 102       ┆ 344       ┆ 49        ┆          │\n",
       "│ om\",\"南葵 ┆           ┆           ┆           ┆   ┆           ┆           ┆           ┆          │\n",
       "│ 中心1隊\"… ┆           ┆           ┆           ┆   ┆           ┆           ┆           ┆          │\n",
       "│ [{\"sd1-1@ ┆ sd1-1@exa ┆ [\"1\",     ┆ 南區中心1 ┆ … ┆ -3681.582 ┆ 3527.3669 ┆ 1763.6834 ┆ 3        │\n",
       "│ example.c ┆ mple.com  ┆ \"2\"]      ┆ 隊        ┆   ┆ 031       ┆ 43        ┆ 72        ┆          │\n",
       "│ om\",\"南區 ┆           ┆           ┆           ┆   ┆           ┆           ┆           ┆          │\n",
       "│ 中心1隊\"… ┆           ┆           ┆           ┆   ┆           ┆           ┆           ┆          │\n",
       "│ [{\"sw-1@e ┆ sw-1@exam ┆ [\"1\",     ┆ 上環中心  ┆ … ┆ -6493.382 ┆ 5870.3251 ┆ 838.61785 ┆ 3        │\n",
       "│ xample.co ┆ ple.com   ┆ \"2\"]      ┆ 隊        ┆   ┆ 812       ┆ 95        ┆ 9         ┆          │\n",
       "│ m\",\"上環  ┆           ┆           ┆           ┆   ┆           ┆           ┆           ┆          │\n",
       "│ 中心隊\",\" ┆           ┆           ┆           ┆   ┆           ┆           ┆           ┆          │\n",
       "│ …         ┆           ┆           ┆           ┆   ┆           ┆           ┆           ┆          │\n",
       "│ [{\"sy1@ex ┆ sy1@examp ┆ [\"3\",     ┆ 石蔭中心  ┆ … ┆ -10383.06 ┆ 27650.966 ┆ 2126.9973 ┆ 3        │\n",
       "│ ample.com ┆ le.com    ┆ \"4\"]      ┆ 隊        ┆   ┆ 4453      ┆ 797       ┆ 14        ┆          │\n",
       "│ \",\"石蔭中 ┆           ┆           ┆           ┆   ┆           ┆           ┆           ┆          │\n",
       "│ 心隊\",\"2… ┆           ┆           ┆           ┆   ┆           ┆           ┆           ┆          │\n",
       "│ []        ┆ sd1-2@exa ┆ []        ┆ 南區中心2 ┆ … ┆ -12500.0  ┆ 0.0       ┆ 0.0       ┆ 1        │\n",
       "│           ┆ mple.com  ┆           ┆ 隊        ┆   ┆           ┆           ┆           ┆          │\n",
       "└───────────┴───────────┴───────────┴───────────┴───┴───────────┴───────────┴───────────┴──────────┘"
      ]
     },
     "execution_count": 5,
     "metadata": {},
     "output_type": "execute_result"
    }
   ],
   "source": [
    "users_df = pl.DataFrame(list(users.values()))\n",
    "users_df = users_df.with_columns(pl.col('capturedPoints').list.len().alias('total_captured'))\n",
    "users_df = users_df.with_columns(pl.col('capturedPoints').map_elements(map_total_captured_unique, return_dtype=pl.Int8).alias('total_captured_unique'))\n",
    "users_df = users_df.with_columns(pl.col('capturedPoints').map_elements(map_score, return_dtype=pl.Float32).alias('score'))\n",
    "users_df = users_df.with_columns(pl.col('score').alias('score_offset') - 12500)\n",
    "users_df = users_df.with_columns(pl.col('capturedPoints').map_elements(map_duration, return_dtype=pl.Float32).alias('duration'))\n",
    "users_df = users_df.with_columns(pl.col('capturedPoints').map_elements(map_average_duration, return_dtype=pl.Float32).alias('average_duration'))\n",
    "users_df = users_df.with_columns(pl.col('capturedPoints').map_elements(map_final_level, return_dtype=pl.Int8).alias('final_level')).drop('level')\n",
    "users_df = users_df.sort('score', descending=True)\n",
    "users_df"
   ]
  },
  {
   "cell_type": "code",
   "execution_count": 6,
   "metadata": {},
   "outputs": [],
   "source": [
    "activity_logs_items = list(activity_logs.values())"
   ]
  },
  {
   "cell_type": "code",
   "execution_count": 7,
   "metadata": {},
   "outputs": [
    {
     "data": {
      "text/html": [
       "<div><style>\n",
       ".dataframe > thead > tr,\n",
       ".dataframe > tbody > tr {\n",
       "  text-align: right;\n",
       "  white-space: pre-wrap;\n",
       "}\n",
       "</style>\n",
       "<small>shape: (120, 9)</small><table border=\"1\" class=\"dataframe\"><thead><tr><th>datetime</th><th>type</th><th>user_email</th><th>user_name</th><th>user_level</th><th>point_id</th><th>point_name</th><th>point_user_email</th><th>point_user_name</th></tr><tr><td>datetime[μs, Asia/Hong_Kong]</td><td>str</td><td>str</td><td>str</td><td>i8</td><td>str</td><td>str</td><td>str</td><td>str</td></tr></thead><tbody><tr><td>2024-08-02 22:37:38.056 HKT</td><td>&quot;CAPTURE_POINT&quot;</td><td>&quot;sw-1@example.com&quot;</td><td>&quot;上環中心隊&quot;</td><td>3</td><td>&quot;0gHiSX9dMHkVpffFR9RU&quot;</td><td>&quot;天水圍體育館&quot;</td><td>&quot;sw-1@example.com&quot;</td><td>&quot;上環中心隊&quot;</td></tr><tr><td>2024-08-02 22:35:06.707 HKT</td><td>&quot;CAPTURE_POINT&quot;</td><td>&quot;sw-1@example.com&quot;</td><td>&quot;上環中心隊&quot;</td><td>3</td><td>&quot;Un4smPc0lSA8jpfvA5zJ&quot;</td><td>&quot;天水圍游泳池&quot;</td><td>&quot;sw-1@example.com&quot;</td><td>&quot;上環中心隊&quot;</td></tr><tr><td>2024-08-02 22:26:56.297 HKT</td><td>&quot;CAPTURE_POINT&quot;</td><td>&quot;sw-1@example.com&quot;</td><td>&quot;上環中心隊&quot;</td><td>3</td><td>&quot;YvzEAhiBhJrOstmGXoH3&quot;</td><td>&quot;天榮路東&quot;</td><td>&quot;sw-1@example.com&quot;</td><td>&quot;上環中心隊&quot;</td></tr><tr><td>2024-08-02 22:22:50.933 HKT</td><td>&quot;CAPTURE_POINT&quot;</td><td>&quot;sw-1@example.com&quot;</td><td>&quot;上環中心隊&quot;</td><td>3</td><td>&quot;IeOJr7CsyHXad2DUL3n4&quot;</td><td>&quot;栢慧豪廷門口&quot;</td><td>&quot;sw-1@example.com&quot;</td><td>&quot;上環中心隊&quot;</td></tr><tr><td>2024-08-02 22:15:27.703 HKT</td><td>&quot;CAPTURE_POINT&quot;</td><td>&quot;sw-2@example.com&quot;</td><td>&quot;上環/將軍澳中心隊&quot;</td><td>3</td><td>&quot;rSnhF4HYEnTG98p9E7To&quot;</td><td>&quot;天水圍公園（西）&quot;</td><td>&quot;sw-2@example.com&quot;</td><td>&quot;上環/將軍澳中心隊&quot;</td></tr><tr><td>&hellip;</td><td>&hellip;</td><td>&hellip;</td><td>&hellip;</td><td>&hellip;</td><td>&hellip;</td><td>&hellip;</td><td>&hellip;</td><td>&hellip;</td></tr><tr><td>2024-08-02 20:22:29.130 HKT</td><td>&quot;CAPTURE_POINT&quot;</td><td>&quot;skc-1@example.com&quot;</td><td>&quot;南葵中心1隊&quot;</td><td>1</td><td>&quot;xFldNrcu765eRZc2hrsn&quot;</td><td>&quot;聖葉理諾堂&quot;</td><td>&quot;skc-1@example.com&quot;</td><td>&quot;南葵中心1隊&quot;</td></tr><tr><td>2024-08-02 20:20:21.639 HKT</td><td>&quot;CAPTURE_POINT&quot;</td><td>&quot;skc-4@example.com&quot;</td><td>&quot;南葵中心4隊&quot;</td><td>1</td><td>&quot;yhDNSAU3ByPksCfmW3E3&quot;</td><td>&quot;天河路遊樂場涼亭&quot;</td><td>&quot;skc-4@example.com&quot;</td><td>&quot;南葵中心4隊&quot;</td></tr><tr><td>2024-08-02 20:19:06.398 HKT</td><td>&quot;CAPTURE_POINT&quot;</td><td>&quot;skc-4@example.com&quot;</td><td>&quot;南葵中心4隊&quot;</td><td>1</td><td>&quot;xFldNrcu765eRZc2hrsn&quot;</td><td>&quot;聖葉理諾堂&quot;</td><td>&quot;skc-4@example.com&quot;</td><td>&quot;南葵中心4隊&quot;</td></tr><tr><td>2024-08-02 20:18:47.907 HKT</td><td>&quot;CAPTURE_POINT&quot;</td><td>&quot;sy1@example.com&quot;</td><td>&quot;石蔭中心隊&quot;</td><td>1</td><td>&quot;Un4smPc0lSA8jpfvA5zJ&quot;</td><td>&quot;天水圍游泳池&quot;</td><td>&quot;sy1@example.com&quot;</td><td>&quot;石蔭中心隊&quot;</td></tr><tr><td>2024-08-02 20:14:56.154 HKT</td><td>&quot;CAPTURE_POINT&quot;</td><td>&quot;sy1@example.com&quot;</td><td>&quot;石蔭中心隊&quot;</td><td>1</td><td>&quot;0gHiSX9dMHkVpffFR9RU&quot;</td><td>&quot;天水圍體育館&quot;</td><td>&quot;sy1@example.com&quot;</td><td>&quot;石蔭中心隊&quot;</td></tr></tbody></table></div>"
      ],
      "text/plain": [
       "shape: (120, 9)\n",
       "┌───────────┬───────────┬───────────┬───────────┬───┬───────────┬───────────┬───────────┬──────────┐\n",
       "│ datetime  ┆ type      ┆ user_emai ┆ user_name ┆ … ┆ point_id  ┆ point_nam ┆ point_use ┆ point_us │\n",
       "│ ---       ┆ ---       ┆ l         ┆ ---       ┆   ┆ ---       ┆ e         ┆ r_email   ┆ er_name  │\n",
       "│ datetime[ ┆ str       ┆ ---       ┆ str       ┆   ┆ str       ┆ ---       ┆ ---       ┆ ---      │\n",
       "│ μs, Asia/ ┆           ┆ str       ┆           ┆   ┆           ┆ str       ┆ str       ┆ str      │\n",
       "│ Hong_Kong ┆           ┆           ┆           ┆   ┆           ┆           ┆           ┆          │\n",
       "│ ]         ┆           ┆           ┆           ┆   ┆           ┆           ┆           ┆          │\n",
       "╞═══════════╪═══════════╪═══════════╪═══════════╪═══╪═══════════╪═══════════╪═══════════╪══════════╡\n",
       "│ 2024-08-0 ┆ CAPTURE_P ┆ sw-1@exam ┆ 上環中心  ┆ … ┆ 0gHiSX9dM ┆ 天水圍體  ┆ sw-1@exam ┆ 上環中心 │\n",
       "│ 2 22:37:3 ┆ OINT      ┆ ple.com   ┆ 隊        ┆   ┆ HkVpffFR9 ┆ 育館      ┆ ple.com   ┆ 隊       │\n",
       "│ 8.056 HKT ┆           ┆           ┆           ┆   ┆ RU        ┆           ┆           ┆          │\n",
       "│ 2024-08-0 ┆ CAPTURE_P ┆ sw-1@exam ┆ 上環中心  ┆ … ┆ Un4smPc0l ┆ 天水圍游  ┆ sw-1@exam ┆ 上環中心 │\n",
       "│ 2 22:35:0 ┆ OINT      ┆ ple.com   ┆ 隊        ┆   ┆ SA8jpfvA5 ┆ 泳池      ┆ ple.com   ┆ 隊       │\n",
       "│ 6.707 HKT ┆           ┆           ┆           ┆   ┆ zJ        ┆           ┆           ┆          │\n",
       "│ 2024-08-0 ┆ CAPTURE_P ┆ sw-1@exam ┆ 上環中心  ┆ … ┆ YvzEAhiBh ┆ 天榮路東  ┆ sw-1@exam ┆ 上環中心 │\n",
       "│ 2 22:26:5 ┆ OINT      ┆ ple.com   ┆ 隊        ┆   ┆ JrOstmGXo ┆           ┆ ple.com   ┆ 隊       │\n",
       "│ 6.297 HKT ┆           ┆           ┆           ┆   ┆ H3        ┆           ┆           ┆          │\n",
       "│ 2024-08-0 ┆ CAPTURE_P ┆ sw-1@exam ┆ 上環中心  ┆ … ┆ IeOJr7Csy ┆ 栢慧豪廷  ┆ sw-1@exam ┆ 上環中心 │\n",
       "│ 2 22:22:5 ┆ OINT      ┆ ple.com   ┆ 隊        ┆   ┆ HXad2DUL3 ┆ 門口      ┆ ple.com   ┆ 隊       │\n",
       "│ 0.933 HKT ┆           ┆           ┆           ┆   ┆ n4        ┆           ┆           ┆          │\n",
       "│ 2024-08-0 ┆ CAPTURE_P ┆ sw-2@exam ┆ 上環/將軍 ┆ … ┆ rSnhF4HYE ┆ 天水圍公  ┆ sw-2@exam ┆ 上環/將  │\n",
       "│ 2 22:15:2 ┆ OINT      ┆ ple.com   ┆ 澳中心隊  ┆   ┆ nTG98p9E7 ┆ 園（西）  ┆ ple.com   ┆ 軍澳中心 │\n",
       "│ 7.703 HKT ┆           ┆           ┆           ┆   ┆ To        ┆           ┆           ┆ 隊       │\n",
       "│ …         ┆ …         ┆ …         ┆ …         ┆ … ┆ …         ┆ …         ┆ …         ┆ …        │\n",
       "│ 2024-08-0 ┆ CAPTURE_P ┆ skc-1@exa ┆ 南葵中心1 ┆ … ┆ xFldNrcu7 ┆ 聖葉理諾  ┆ skc-1@exa ┆ 南葵中心 │\n",
       "│ 2 20:22:2 ┆ OINT      ┆ mple.com  ┆ 隊        ┆   ┆ 65eRZc2hr ┆ 堂        ┆ mple.com  ┆ 1隊      │\n",
       "│ 9.130 HKT ┆           ┆           ┆           ┆   ┆ sn        ┆           ┆           ┆          │\n",
       "│ 2024-08-0 ┆ CAPTURE_P ┆ skc-4@exa ┆ 南葵中心4 ┆ … ┆ yhDNSAU3B ┆ 天河路遊  ┆ skc-4@exa ┆ 南葵中心 │\n",
       "│ 2 20:20:2 ┆ OINT      ┆ mple.com  ┆ 隊        ┆   ┆ yPksCfmW3 ┆ 樂場涼亭  ┆ mple.com  ┆ 4隊      │\n",
       "│ 1.639 HKT ┆           ┆           ┆           ┆   ┆ E3        ┆           ┆           ┆          │\n",
       "│ 2024-08-0 ┆ CAPTURE_P ┆ skc-4@exa ┆ 南葵中心4 ┆ … ┆ xFldNrcu7 ┆ 聖葉理諾  ┆ skc-4@exa ┆ 南葵中心 │\n",
       "│ 2 20:19:0 ┆ OINT      ┆ mple.com  ┆ 隊        ┆   ┆ 65eRZc2hr ┆ 堂        ┆ mple.com  ┆ 4隊      │\n",
       "│ 6.398 HKT ┆           ┆           ┆           ┆   ┆ sn        ┆           ┆           ┆          │\n",
       "│ 2024-08-0 ┆ CAPTURE_P ┆ sy1@examp ┆ 石蔭中心  ┆ … ┆ Un4smPc0l ┆ 天水圍游  ┆ sy1@examp ┆ 石蔭中心 │\n",
       "│ 2 20:18:4 ┆ OINT      ┆ le.com    ┆ 隊        ┆   ┆ SA8jpfvA5 ┆ 泳池      ┆ le.com    ┆ 隊       │\n",
       "│ 7.907 HKT ┆           ┆           ┆           ┆   ┆ zJ        ┆           ┆           ┆          │\n",
       "│ 2024-08-0 ┆ CAPTURE_P ┆ sy1@examp ┆ 石蔭中心  ┆ … ┆ 0gHiSX9dM ┆ 天水圍體  ┆ sy1@examp ┆ 石蔭中心 │\n",
       "│ 2 20:14:5 ┆ OINT      ┆ le.com    ┆ 隊        ┆   ┆ HkVpffFR9 ┆ 育館      ┆ le.com    ┆ 隊       │\n",
       "│ 6.154 HKT ┆           ┆           ┆           ┆   ┆ RU        ┆           ┆           ┆          │\n",
       "└───────────┴───────────┴───────────┴───────────┴───┴───────────┴───────────┴───────────┴──────────┘"
      ]
     },
     "execution_count": 7,
     "metadata": {},
     "output_type": "execute_result"
    }
   ],
   "source": [
    "captured_logs = [x for x in activity_logs_items if x['type'] == 'CAPTURE_POINT']\n",
    "captured_logs_df = pl.DataFrame(captured_logs)\n",
    "\n",
    "captured_logs_df = captured_logs_df.with_columns(pl.col('user').map_elements(lambda x: x['email'], return_dtype=pl.String).alias('user_email'))\n",
    "captured_logs_df = captured_logs_df.with_columns(pl.col('user').map_elements(lambda x: x['name'], return_dtype=pl.String).alias('user_name'))\n",
    "captured_logs_df = captured_logs_df.with_columns(pl.col('user').map_elements(lambda x: x['level'], return_dtype=pl.Int8).alias('user_level'))\n",
    "captured_logs_df = captured_logs_df.drop('user')\n",
    "\n",
    "captured_logs_df = captured_logs_df.with_columns(pl.col('point').map_elements(lambda x: x['pointId'], return_dtype=pl.String).alias('point_id'))\n",
    "captured_logs_df = captured_logs_df.with_columns(pl.col('point').map_elements(lambda x: x['pointName'], return_dtype=pl.String).alias('point_name'))\n",
    "captured_logs_df = captured_logs_df.with_columns(pl.col('point').map_elements(lambda x: x['userId'], return_dtype=pl.String).alias('point_user_email'))\n",
    "captured_logs_df = captured_logs_df.with_columns(pl.col('point').map_elements(lambda x: x['userName'], return_dtype=pl.String).alias('point_user_name'))\n",
    "captured_logs_df = captured_logs_df.drop('point')\n",
    "\n",
    "captured_logs_df = captured_logs_df.with_columns(pl.col('datetime').str.to_datetime().dt.replace_time_zone(\"Asia/Hong_Kong\"))\n",
    "\n",
    "captured_logs_df = captured_logs_df.sort('datetime', descending=True)\n",
    "\n",
    "captured_logs_df"
   ]
  },
  {
   "cell_type": "code",
   "execution_count": 8,
   "metadata": {},
   "outputs": [
    {
     "data": {
      "text/html": [
       "<div><style>\n",
       ".dataframe > thead > tr,\n",
       ".dataframe > tbody > tr {\n",
       "  text-align: right;\n",
       "  white-space: pre-wrap;\n",
       "}\n",
       "</style>\n",
       "<small>shape: (65, 8)</small><table border=\"1\" class=\"dataframe\"><thead><tr><th>datetime</th><th>type</th><th>user_email</th><th>user_name</th><th>point_id</th><th>point_name</th><th>point_user_email</th><th>point_user_name</th></tr><tr><td>datetime[μs, Asia/Hong_Kong]</td><td>str</td><td>str</td><td>str</td><td>str</td><td>str</td><td>str</td><td>str</td></tr></thead><tbody><tr><td>2024-08-02 22:35:06.501 HKT</td><td>&quot;CLEAR_POINT&quot;</td><td>&quot;sw-1@example.com&quot;</td><td>&quot;上環中心隊&quot;</td><td>&quot;Un4smPc0lSA8jpfvA5zJ&quot;</td><td>&quot;天水圍游泳池&quot;</td><td>&quot;sd1-1@example.com&quot;</td><td>&quot;南區中心1隊&quot;</td></tr><tr><td>2024-08-02 22:26:56.108 HKT</td><td>&quot;CLEAR_POINT&quot;</td><td>&quot;sw-1@example.com&quot;</td><td>&quot;上環中心隊&quot;</td><td>&quot;YvzEAhiBhJrOstmGXoH3&quot;</td><td>&quot;天榮路東&quot;</td><td>&quot;skc-1@example.com&quot;</td><td>&quot;南葵中心1隊&quot;</td></tr><tr><td>2024-08-02 22:22:50.758 HKT</td><td>&quot;CLEAR_POINT&quot;</td><td>&quot;sw-1@example.com&quot;</td><td>&quot;上環中心隊&quot;</td><td>&quot;IeOJr7CsyHXad2DUL3n4&quot;</td><td>&quot;栢慧豪廷門口&quot;</td><td>&quot;skc-2@example.com&quot;</td><td>&quot;南葵中心2隊&quot;</td></tr><tr><td>2024-08-02 22:15:27.155 HKT</td><td>&quot;CLEAR_POINT&quot;</td><td>&quot;sw-2@example.com&quot;</td><td>&quot;上環/將軍澳中心隊&quot;</td><td>&quot;rSnhF4HYEnTG98p9E7To&quot;</td><td>&quot;天水圍公園（西）&quot;</td><td>&quot;skc-4@example.com&quot;</td><td>&quot;南葵中心4隊&quot;</td></tr><tr><td>2024-08-02 22:13:59.970 HKT</td><td>&quot;CLEAR_POINT&quot;</td><td>&quot;sw-1@example.com&quot;</td><td>&quot;上環中心隊&quot;</td><td>&quot;778jzmzKpOvgRHIHcHms&quot;</td><td>&quot;麗湖居&quot;</td><td>&quot;skc-1@example.com&quot;</td><td>&quot;南葵中心1隊&quot;</td></tr><tr><td>&hellip;</td><td>&hellip;</td><td>&hellip;</td><td>&hellip;</td><td>&hellip;</td><td>&hellip;</td><td>&hellip;</td><td>&hellip;</td></tr><tr><td>2024-08-02 20:27:41.528 HKT</td><td>&quot;CLEAR_POINT&quot;</td><td>&quot;sw-2@example.com&quot;</td><td>&quot;上環/將軍澳中心隊&quot;</td><td>&quot;Un4smPc0lSA8jpfvA5zJ&quot;</td><td>&quot;天水圍游泳池&quot;</td><td>&quot;sy1@example.com&quot;</td><td>&quot;石蔭中心隊&quot;</td></tr><tr><td>2024-08-02 20:25:48.553 HKT</td><td>&quot;CLEAR_POINT&quot;</td><td>&quot;skc-1@example.com&quot;</td><td>&quot;南葵中心1隊&quot;</td><td>&quot;MM12lHGWCtvCbQvMy29H&quot;</td><td>&quot;天瑞俓（二）&quot;</td><td>&quot;skc-4@example.com&quot;</td><td>&quot;南葵中心4隊&quot;</td></tr><tr><td>2024-08-02 20:24:07.066 HKT</td><td>&quot;CLEAR_POINT&quot;</td><td>&quot;skc-1@example.com&quot;</td><td>&quot;南葵中心1隊&quot;</td><td>&quot;yhDNSAU3ByPksCfmW3E3&quot;</td><td>&quot;天河路遊樂場涼亭&quot;</td><td>&quot;skc-4@example.com&quot;</td><td>&quot;南葵中心4隊&quot;</td></tr><tr><td>2024-08-02 20:23:05.436 HKT</td><td>&quot;CLEAR_POINT&quot;</td><td>&quot;sw-2@example.com&quot;</td><td>&quot;上環/將軍澳中心隊&quot;</td><td>&quot;0gHiSX9dMHkVpffFR9RU&quot;</td><td>&quot;天水圍體育館&quot;</td><td>&quot;sy1@example.com&quot;</td><td>&quot;石蔭中心隊&quot;</td></tr><tr><td>2024-08-02 20:22:24.971 HKT</td><td>&quot;CLEAR_POINT&quot;</td><td>&quot;skc-1@example.com&quot;</td><td>&quot;南葵中心1隊&quot;</td><td>&quot;xFldNrcu765eRZc2hrsn&quot;</td><td>&quot;聖葉理諾堂&quot;</td><td>&quot;skc-4@example.com&quot;</td><td>&quot;南葵中心4隊&quot;</td></tr></tbody></table></div>"
      ],
      "text/plain": [
       "shape: (65, 8)\n",
       "┌────────────┬────────────┬────────────┬───────────┬───────────┬───────────┬───────────┬───────────┐\n",
       "│ datetime   ┆ type       ┆ user_email ┆ user_name ┆ point_id  ┆ point_nam ┆ point_use ┆ point_use │\n",
       "│ ---        ┆ ---        ┆ ---        ┆ ---       ┆ ---       ┆ e         ┆ r_email   ┆ r_name    │\n",
       "│ datetime[μ ┆ str        ┆ str        ┆ str       ┆ str       ┆ ---       ┆ ---       ┆ ---       │\n",
       "│ s, Asia/Ho ┆            ┆            ┆           ┆           ┆ str       ┆ str       ┆ str       │\n",
       "│ ng_Kong]   ┆            ┆            ┆           ┆           ┆           ┆           ┆           │\n",
       "╞════════════╪════════════╪════════════╪═══════════╪═══════════╪═══════════╪═══════════╪═══════════╡\n",
       "│ 2024-08-02 ┆ CLEAR_POIN ┆ sw-1@examp ┆ 上環中心  ┆ Un4smPc0l ┆ 天水圍游  ┆ sd1-1@exa ┆ 南區中心1 │\n",
       "│ 22:35:06.5 ┆ T          ┆ le.com     ┆ 隊        ┆ SA8jpfvA5 ┆ 泳池      ┆ mple.com  ┆ 隊        │\n",
       "│ 01 HKT     ┆            ┆            ┆           ┆ zJ        ┆           ┆           ┆           │\n",
       "│ 2024-08-02 ┆ CLEAR_POIN ┆ sw-1@examp ┆ 上環中心  ┆ YvzEAhiBh ┆ 天榮路東  ┆ skc-1@exa ┆ 南葵中心1 │\n",
       "│ 22:26:56.1 ┆ T          ┆ le.com     ┆ 隊        ┆ JrOstmGXo ┆           ┆ mple.com  ┆ 隊        │\n",
       "│ 08 HKT     ┆            ┆            ┆           ┆ H3        ┆           ┆           ┆           │\n",
       "│ 2024-08-02 ┆ CLEAR_POIN ┆ sw-1@examp ┆ 上環中心  ┆ IeOJr7Csy ┆ 栢慧豪廷  ┆ skc-2@exa ┆ 南葵中心2 │\n",
       "│ 22:22:50.7 ┆ T          ┆ le.com     ┆ 隊        ┆ HXad2DUL3 ┆ 門口      ┆ mple.com  ┆ 隊        │\n",
       "│ 58 HKT     ┆            ┆            ┆           ┆ n4        ┆           ┆           ┆           │\n",
       "│ 2024-08-02 ┆ CLEAR_POIN ┆ sw-2@examp ┆ 上環/將軍 ┆ rSnhF4HYE ┆ 天水圍公  ┆ skc-4@exa ┆ 南葵中心4 │\n",
       "│ 22:15:27.1 ┆ T          ┆ le.com     ┆ 澳中心隊  ┆ nTG98p9E7 ┆ 園（西）  ┆ mple.com  ┆ 隊        │\n",
       "│ 55 HKT     ┆            ┆            ┆           ┆ To        ┆           ┆           ┆           │\n",
       "│ 2024-08-02 ┆ CLEAR_POIN ┆ sw-1@examp ┆ 上環中心  ┆ 778jzmzKp ┆ 麗湖居    ┆ skc-1@exa ┆ 南葵中心1 │\n",
       "│ 22:13:59.9 ┆ T          ┆ le.com     ┆ 隊        ┆ OvgRHIHcH ┆           ┆ mple.com  ┆ 隊        │\n",
       "│ 70 HKT     ┆            ┆            ┆           ┆ ms        ┆           ┆           ┆           │\n",
       "│ …          ┆ …          ┆ …          ┆ …         ┆ …         ┆ …         ┆ …         ┆ …         │\n",
       "│ 2024-08-02 ┆ CLEAR_POIN ┆ sw-2@examp ┆ 上環/將軍 ┆ Un4smPc0l ┆ 天水圍游  ┆ sy1@examp ┆ 石蔭中心  │\n",
       "│ 20:27:41.5 ┆ T          ┆ le.com     ┆ 澳中心隊  ┆ SA8jpfvA5 ┆ 泳池      ┆ le.com    ┆ 隊        │\n",
       "│ 28 HKT     ┆            ┆            ┆           ┆ zJ        ┆           ┆           ┆           │\n",
       "│ 2024-08-02 ┆ CLEAR_POIN ┆ skc-1@exam ┆ 南葵中心1 ┆ MM12lHGWC ┆ 天瑞俓（  ┆ skc-4@exa ┆ 南葵中心4 │\n",
       "│ 20:25:48.5 ┆ T          ┆ ple.com    ┆ 隊        ┆ tvCbQvMy2 ┆ 二）      ┆ mple.com  ┆ 隊        │\n",
       "│ 53 HKT     ┆            ┆            ┆           ┆ 9H        ┆           ┆           ┆           │\n",
       "│ 2024-08-02 ┆ CLEAR_POIN ┆ skc-1@exam ┆ 南葵中心1 ┆ yhDNSAU3B ┆ 天河路遊  ┆ skc-4@exa ┆ 南葵中心4 │\n",
       "│ 20:24:07.0 ┆ T          ┆ ple.com    ┆ 隊        ┆ yPksCfmW3 ┆ 樂場涼亭  ┆ mple.com  ┆ 隊        │\n",
       "│ 66 HKT     ┆            ┆            ┆           ┆ E3        ┆           ┆           ┆           │\n",
       "│ 2024-08-02 ┆ CLEAR_POIN ┆ sw-2@examp ┆ 上環/將軍 ┆ 0gHiSX9dM ┆ 天水圍體  ┆ sy1@examp ┆ 石蔭中心  │\n",
       "│ 20:23:05.4 ┆ T          ┆ le.com     ┆ 澳中心隊  ┆ HkVpffFR9 ┆ 育館      ┆ le.com    ┆ 隊        │\n",
       "│ 36 HKT     ┆            ┆            ┆           ┆ RU        ┆           ┆           ┆           │\n",
       "│ 2024-08-02 ┆ CLEAR_POIN ┆ skc-1@exam ┆ 南葵中心1 ┆ xFldNrcu7 ┆ 聖葉理諾  ┆ skc-4@exa ┆ 南葵中心4 │\n",
       "│ 20:22:24.9 ┆ T          ┆ ple.com    ┆ 隊        ┆ 65eRZc2hr ┆ 堂        ┆ mple.com  ┆ 隊        │\n",
       "│ 71 HKT     ┆            ┆            ┆           ┆ sn        ┆           ┆           ┆           │\n",
       "└────────────┴────────────┴────────────┴───────────┴───────────┴───────────┴───────────┴───────────┘"
      ]
     },
     "execution_count": 8,
     "metadata": {},
     "output_type": "execute_result"
    }
   ],
   "source": [
    "clear_logs = [x for x in activity_logs_items if x['type'] == 'CLEAR_POINT']\n",
    "clear_logs_df = pl.DataFrame(clear_logs)\n",
    "\n",
    "clear_logs_df = clear_logs_df.with_columns(pl.col('user').map_elements(lambda x: x['email'], return_dtype=pl.String).alias('user_email'))\n",
    "clear_logs_df = clear_logs_df.with_columns(pl.col('user').map_elements(lambda x: x['name'], return_dtype=pl.String).alias('user_name'))\n",
    "clear_logs_df = clear_logs_df.drop('user')\n",
    "\n",
    "clear_logs_df = clear_logs_df.with_columns(pl.col('point').map_elements(lambda x: x['pointId'], return_dtype=pl.String).alias('point_id'))\n",
    "clear_logs_df = clear_logs_df.with_columns(pl.col('point').map_elements(lambda x: x['pointName'], return_dtype=pl.String).alias('point_name'))\n",
    "clear_logs_df = clear_logs_df.with_columns(pl.col('point').map_elements(lambda x: x['userId'], return_dtype=pl.String).alias('point_user_email'))\n",
    "clear_logs_df = clear_logs_df.with_columns(pl.col('point').map_elements(lambda x: x['userName'], return_dtype=pl.String).alias('point_user_name'))\n",
    "clear_logs_df = clear_logs_df.drop('point')\n",
    "\n",
    "clear_logs_df = clear_logs_df.with_columns(pl.col('datetime').str.to_datetime().dt.replace_time_zone(\"Asia/Hong_Kong\"))\n",
    "\n",
    "clear_logs_df = clear_logs_df.sort('datetime', descending=True)\n",
    "\n",
    "clear_logs_df"
   ]
  },
  {
   "cell_type": "code",
   "execution_count": 9,
   "metadata": {},
   "outputs": [
    {
     "data": {
      "text/html": [
       "<div><style>\n",
       ".dataframe > thead > tr,\n",
       ".dataframe > tbody > tr {\n",
       "  text-align: right;\n",
       "  white-space: pre-wrap;\n",
       "}\n",
       "</style>\n",
       "<small>shape: (185, 9)</small><table border=\"1\" class=\"dataframe\"><thead><tr><th>datetime</th><th>type</th><th>user_email</th><th>user_name</th><th>user_level</th><th>point_id</th><th>point_name</th><th>point_user_email</th><th>point_user_name</th></tr><tr><td>datetime[μs, Asia/Hong_Kong]</td><td>str</td><td>str</td><td>str</td><td>i8</td><td>str</td><td>str</td><td>str</td><td>str</td></tr></thead><tbody><tr><td>2024-08-02 20:14:56.154 HKT</td><td>&quot;CAPTURE_POINT&quot;</td><td>&quot;sy1@example.com&quot;</td><td>&quot;石蔭中心隊&quot;</td><td>1</td><td>&quot;0gHiSX9dMHkVpffFR9RU&quot;</td><td>&quot;天水圍體育館&quot;</td><td>&quot;sy1@example.com&quot;</td><td>&quot;石蔭中心隊&quot;</td></tr><tr><td>2024-08-02 20:18:47.907 HKT</td><td>&quot;CAPTURE_POINT&quot;</td><td>&quot;sy1@example.com&quot;</td><td>&quot;石蔭中心隊&quot;</td><td>1</td><td>&quot;Un4smPc0lSA8jpfvA5zJ&quot;</td><td>&quot;天水圍游泳池&quot;</td><td>&quot;sy1@example.com&quot;</td><td>&quot;石蔭中心隊&quot;</td></tr><tr><td>2024-08-02 20:19:06.398 HKT</td><td>&quot;CAPTURE_POINT&quot;</td><td>&quot;skc-4@example.com&quot;</td><td>&quot;南葵中心4隊&quot;</td><td>1</td><td>&quot;xFldNrcu765eRZc2hrsn&quot;</td><td>&quot;聖葉理諾堂&quot;</td><td>&quot;skc-4@example.com&quot;</td><td>&quot;南葵中心4隊&quot;</td></tr><tr><td>2024-08-02 20:20:21.639 HKT</td><td>&quot;CAPTURE_POINT&quot;</td><td>&quot;skc-4@example.com&quot;</td><td>&quot;南葵中心4隊&quot;</td><td>1</td><td>&quot;yhDNSAU3ByPksCfmW3E3&quot;</td><td>&quot;天河路遊樂場涼亭&quot;</td><td>&quot;skc-4@example.com&quot;</td><td>&quot;南葵中心4隊&quot;</td></tr><tr><td>2024-08-02 20:22:24.971 HKT</td><td>&quot;CLEAR_POINT&quot;</td><td>&quot;skc-1@example.com&quot;</td><td>&quot;南葵中心1隊&quot;</td><td>null</td><td>&quot;xFldNrcu765eRZc2hrsn&quot;</td><td>&quot;聖葉理諾堂&quot;</td><td>&quot;skc-4@example.com&quot;</td><td>&quot;南葵中心4隊&quot;</td></tr><tr><td>&hellip;</td><td>&hellip;</td><td>&hellip;</td><td>&hellip;</td><td>&hellip;</td><td>&hellip;</td><td>&hellip;</td><td>&hellip;</td><td>&hellip;</td></tr><tr><td>2024-08-02 22:26:56.108 HKT</td><td>&quot;CLEAR_POINT&quot;</td><td>&quot;sw-1@example.com&quot;</td><td>&quot;上環中心隊&quot;</td><td>null</td><td>&quot;YvzEAhiBhJrOstmGXoH3&quot;</td><td>&quot;天榮路東&quot;</td><td>&quot;skc-1@example.com&quot;</td><td>&quot;南葵中心1隊&quot;</td></tr><tr><td>2024-08-02 22:26:56.297 HKT</td><td>&quot;CAPTURE_POINT&quot;</td><td>&quot;sw-1@example.com&quot;</td><td>&quot;上環中心隊&quot;</td><td>3</td><td>&quot;YvzEAhiBhJrOstmGXoH3&quot;</td><td>&quot;天榮路東&quot;</td><td>&quot;sw-1@example.com&quot;</td><td>&quot;上環中心隊&quot;</td></tr><tr><td>2024-08-02 22:35:06.501 HKT</td><td>&quot;CLEAR_POINT&quot;</td><td>&quot;sw-1@example.com&quot;</td><td>&quot;上環中心隊&quot;</td><td>null</td><td>&quot;Un4smPc0lSA8jpfvA5zJ&quot;</td><td>&quot;天水圍游泳池&quot;</td><td>&quot;sd1-1@example.com&quot;</td><td>&quot;南區中心1隊&quot;</td></tr><tr><td>2024-08-02 22:35:06.707 HKT</td><td>&quot;CAPTURE_POINT&quot;</td><td>&quot;sw-1@example.com&quot;</td><td>&quot;上環中心隊&quot;</td><td>3</td><td>&quot;Un4smPc0lSA8jpfvA5zJ&quot;</td><td>&quot;天水圍游泳池&quot;</td><td>&quot;sw-1@example.com&quot;</td><td>&quot;上環中心隊&quot;</td></tr><tr><td>2024-08-02 22:37:38.056 HKT</td><td>&quot;CAPTURE_POINT&quot;</td><td>&quot;sw-1@example.com&quot;</td><td>&quot;上環中心隊&quot;</td><td>3</td><td>&quot;0gHiSX9dMHkVpffFR9RU&quot;</td><td>&quot;天水圍體育館&quot;</td><td>&quot;sw-1@example.com&quot;</td><td>&quot;上環中心隊&quot;</td></tr></tbody></table></div>"
      ],
      "text/plain": [
       "shape: (185, 9)\n",
       "┌───────────┬───────────┬───────────┬───────────┬───┬───────────┬───────────┬───────────┬──────────┐\n",
       "│ datetime  ┆ type      ┆ user_emai ┆ user_name ┆ … ┆ point_id  ┆ point_nam ┆ point_use ┆ point_us │\n",
       "│ ---       ┆ ---       ┆ l         ┆ ---       ┆   ┆ ---       ┆ e         ┆ r_email   ┆ er_name  │\n",
       "│ datetime[ ┆ str       ┆ ---       ┆ str       ┆   ┆ str       ┆ ---       ┆ ---       ┆ ---      │\n",
       "│ μs, Asia/ ┆           ┆ str       ┆           ┆   ┆           ┆ str       ┆ str       ┆ str      │\n",
       "│ Hong_Kong ┆           ┆           ┆           ┆   ┆           ┆           ┆           ┆          │\n",
       "│ ]         ┆           ┆           ┆           ┆   ┆           ┆           ┆           ┆          │\n",
       "╞═══════════╪═══════════╪═══════════╪═══════════╪═══╪═══════════╪═══════════╪═══════════╪══════════╡\n",
       "│ 2024-08-0 ┆ CAPTURE_P ┆ sy1@examp ┆ 石蔭中心  ┆ … ┆ 0gHiSX9dM ┆ 天水圍體  ┆ sy1@examp ┆ 石蔭中心 │\n",
       "│ 2 20:14:5 ┆ OINT      ┆ le.com    ┆ 隊        ┆   ┆ HkVpffFR9 ┆ 育館      ┆ le.com    ┆ 隊       │\n",
       "│ 6.154 HKT ┆           ┆           ┆           ┆   ┆ RU        ┆           ┆           ┆          │\n",
       "│ 2024-08-0 ┆ CAPTURE_P ┆ sy1@examp ┆ 石蔭中心  ┆ … ┆ Un4smPc0l ┆ 天水圍游  ┆ sy1@examp ┆ 石蔭中心 │\n",
       "│ 2 20:18:4 ┆ OINT      ┆ le.com    ┆ 隊        ┆   ┆ SA8jpfvA5 ┆ 泳池      ┆ le.com    ┆ 隊       │\n",
       "│ 7.907 HKT ┆           ┆           ┆           ┆   ┆ zJ        ┆           ┆           ┆          │\n",
       "│ 2024-08-0 ┆ CAPTURE_P ┆ skc-4@exa ┆ 南葵中心4 ┆ … ┆ xFldNrcu7 ┆ 聖葉理諾  ┆ skc-4@exa ┆ 南葵中心 │\n",
       "│ 2 20:19:0 ┆ OINT      ┆ mple.com  ┆ 隊        ┆   ┆ 65eRZc2hr ┆ 堂        ┆ mple.com  ┆ 4隊      │\n",
       "│ 6.398 HKT ┆           ┆           ┆           ┆   ┆ sn        ┆           ┆           ┆          │\n",
       "│ 2024-08-0 ┆ CAPTURE_P ┆ skc-4@exa ┆ 南葵中心4 ┆ … ┆ yhDNSAU3B ┆ 天河路遊  ┆ skc-4@exa ┆ 南葵中心 │\n",
       "│ 2 20:20:2 ┆ OINT      ┆ mple.com  ┆ 隊        ┆   ┆ yPksCfmW3 ┆ 樂場涼亭  ┆ mple.com  ┆ 4隊      │\n",
       "│ 1.639 HKT ┆           ┆           ┆           ┆   ┆ E3        ┆           ┆           ┆          │\n",
       "│ 2024-08-0 ┆ CLEAR_POI ┆ skc-1@exa ┆ 南葵中心1 ┆ … ┆ xFldNrcu7 ┆ 聖葉理諾  ┆ skc-4@exa ┆ 南葵中心 │\n",
       "│ 2 20:22:2 ┆ NT        ┆ mple.com  ┆ 隊        ┆   ┆ 65eRZc2hr ┆ 堂        ┆ mple.com  ┆ 4隊      │\n",
       "│ 4.971 HKT ┆           ┆           ┆           ┆   ┆ sn        ┆           ┆           ┆          │\n",
       "│ …         ┆ …         ┆ …         ┆ …         ┆ … ┆ …         ┆ …         ┆ …         ┆ …        │\n",
       "│ 2024-08-0 ┆ CLEAR_POI ┆ sw-1@exam ┆ 上環中心  ┆ … ┆ YvzEAhiBh ┆ 天榮路東  ┆ skc-1@exa ┆ 南葵中心 │\n",
       "│ 2 22:26:5 ┆ NT        ┆ ple.com   ┆ 隊        ┆   ┆ JrOstmGXo ┆           ┆ mple.com  ┆ 1隊      │\n",
       "│ 6.108 HKT ┆           ┆           ┆           ┆   ┆ H3        ┆           ┆           ┆          │\n",
       "│ 2024-08-0 ┆ CAPTURE_P ┆ sw-1@exam ┆ 上環中心  ┆ … ┆ YvzEAhiBh ┆ 天榮路東  ┆ sw-1@exam ┆ 上環中心 │\n",
       "│ 2 22:26:5 ┆ OINT      ┆ ple.com   ┆ 隊        ┆   ┆ JrOstmGXo ┆           ┆ ple.com   ┆ 隊       │\n",
       "│ 6.297 HKT ┆           ┆           ┆           ┆   ┆ H3        ┆           ┆           ┆          │\n",
       "│ 2024-08-0 ┆ CLEAR_POI ┆ sw-1@exam ┆ 上環中心  ┆ … ┆ Un4smPc0l ┆ 天水圍游  ┆ sd1-1@exa ┆ 南區中心 │\n",
       "│ 2 22:35:0 ┆ NT        ┆ ple.com   ┆ 隊        ┆   ┆ SA8jpfvA5 ┆ 泳池      ┆ mple.com  ┆ 1隊      │\n",
       "│ 6.501 HKT ┆           ┆           ┆           ┆   ┆ zJ        ┆           ┆           ┆          │\n",
       "│ 2024-08-0 ┆ CAPTURE_P ┆ sw-1@exam ┆ 上環中心  ┆ … ┆ Un4smPc0l ┆ 天水圍游  ┆ sw-1@exam ┆ 上環中心 │\n",
       "│ 2 22:35:0 ┆ OINT      ┆ ple.com   ┆ 隊        ┆   ┆ SA8jpfvA5 ┆ 泳池      ┆ ple.com   ┆ 隊       │\n",
       "│ 6.707 HKT ┆           ┆           ┆           ┆   ┆ zJ        ┆           ┆           ┆          │\n",
       "│ 2024-08-0 ┆ CAPTURE_P ┆ sw-1@exam ┆ 上環中心  ┆ … ┆ 0gHiSX9dM ┆ 天水圍體  ┆ sw-1@exam ┆ 上環中心 │\n",
       "│ 2 22:37:3 ┆ OINT      ┆ ple.com   ┆ 隊        ┆   ┆ HkVpffFR9 ┆ 育館      ┆ ple.com   ┆ 隊       │\n",
       "│ 8.056 HKT ┆           ┆           ┆           ┆   ┆ RU        ┆           ┆           ┆          │\n",
       "└───────────┴───────────┴───────────┴───────────┴───┴───────────┴───────────┴───────────┴──────────┘"
      ]
     },
     "execution_count": 9,
     "metadata": {},
     "output_type": "execute_result"
    }
   ],
   "source": [
    "points_logs = pl.concat([captured_logs_df, clear_logs_df], how='align')\n",
    "\n",
    "points_logs"
   ]
  },
  {
   "cell_type": "code",
   "execution_count": 10,
   "metadata": {},
   "outputs": [
    {
     "data": {
      "text/html": [
       "<div><style>\n",
       ".dataframe > thead > tr,\n",
       ".dataframe > tbody > tr {\n",
       "  text-align: right;\n",
       "  white-space: pre-wrap;\n",
       "}\n",
       "</style>\n",
       "<small>shape: (14, 5)</small><table border=\"1\" class=\"dataframe\"><thead><tr><th>datetime</th><th>type</th><th>user_email</th><th>user_name</th><th>upgrade_point</th></tr><tr><td>datetime[μs, Asia/Hong_Kong]</td><td>str</td><td>str</td><td>str</td><td>str</td></tr></thead><tbody><tr><td>2024-08-02 21:16:40.334 HKT</td><td>&quot;USER_UPGRADE&quot;</td><td>&quot;skc-3@example.com&quot;</td><td>&quot;南葵中心3隊&quot;</td><td>&quot;流浮山消防局&quot;</td></tr><tr><td>2024-08-02 21:30:30.259 HKT</td><td>&quot;USER_UPGRADE&quot;</td><td>&quot;sy1@example.com&quot;</td><td>&quot;石蔭中心隊&quot;</td><td>&quot;天瑞街市&quot;</td></tr><tr><td>2024-08-02 22:07:56.676 HKT</td><td>&quot;USER_UPGRADE&quot;</td><td>&quot;sw-1@example.com&quot;</td><td>&quot;上環中心隊&quot;</td><td>&quot;銀座&quot;</td></tr><tr><td>2024-08-02 20:57:03.568 HKT</td><td>&quot;USER_UPGRADE&quot;</td><td>&quot;sy1@example.com&quot;</td><td>&quot;石蔭中心隊&quot;</td><td>&quot;流浮山消防局&quot;</td></tr><tr><td>2024-08-02 21:48:34.104 HKT</td><td>&quot;USER_UPGRADE&quot;</td><td>&quot;sd1-1@example.com&quot;</td><td>&quot;南區中心1隊&quot;</td><td>&quot;銀座&quot;</td></tr><tr><td>&hellip;</td><td>&hellip;</td><td>&hellip;</td><td>&hellip;</td><td>&hellip;</td></tr><tr><td>2024-08-02 20:42:26.963 HKT</td><td>&quot;USER_UPGRADE&quot;</td><td>&quot;skc-1@example.com&quot;</td><td>&quot;南葵中心1隊&quot;</td><td>&quot;天瑞街市&quot;</td></tr><tr><td>2024-08-02 21:39:58.737 HKT</td><td>&quot;USER_UPGRADE&quot;</td><td>&quot;skc-4@example.com&quot;</td><td>&quot;南葵中心4隊&quot;</td><td>&quot;屏欣苑&quot;</td></tr><tr><td>2024-08-02 20:16:51.826 HKT</td><td>&quot;USER_UPGRADE&quot;</td><td>&quot;skc-3@example.com&quot;</td><td>&quot;南葵中心3隊&quot;</td><td>&quot;屏欣苑&quot;</td></tr><tr><td>2024-08-02 20:45:21.093 HKT</td><td>&quot;USER_UPGRADE&quot;</td><td>&quot;sw-1@example.com&quot;</td><td>&quot;上環中心隊&quot;</td><td>&quot;屏欣苑&quot;</td></tr><tr><td>2024-08-02 20:41:51.780 HKT</td><td>&quot;USER_UPGRADE&quot;</td><td>&quot;skc-4@example.com&quot;</td><td>&quot;南葵中心4隊&quot;</td><td>&quot;天瑞街市&quot;</td></tr></tbody></table></div>"
      ],
      "text/plain": [
       "shape: (14, 5)\n",
       "┌──────────────────────────────┬──────────────┬───────────────────┬─────────────┬───────────────┐\n",
       "│ datetime                     ┆ type         ┆ user_email        ┆ user_name   ┆ upgrade_point │\n",
       "│ ---                          ┆ ---          ┆ ---               ┆ ---         ┆ ---           │\n",
       "│ datetime[μs, Asia/Hong_Kong] ┆ str          ┆ str               ┆ str         ┆ str           │\n",
       "╞══════════════════════════════╪══════════════╪═══════════════════╪═════════════╪═══════════════╡\n",
       "│ 2024-08-02 21:16:40.334 HKT  ┆ USER_UPGRADE ┆ skc-3@example.com ┆ 南葵中心3隊 ┆ 流浮山消防局  │\n",
       "│ 2024-08-02 21:30:30.259 HKT  ┆ USER_UPGRADE ┆ sy1@example.com   ┆ 石蔭中心隊  ┆ 天瑞街市      │\n",
       "│ 2024-08-02 22:07:56.676 HKT  ┆ USER_UPGRADE ┆ sw-1@example.com  ┆ 上環中心隊  ┆ 銀座          │\n",
       "│ 2024-08-02 20:57:03.568 HKT  ┆ USER_UPGRADE ┆ sy1@example.com   ┆ 石蔭中心隊  ┆ 流浮山消防局  │\n",
       "│ 2024-08-02 21:48:34.104 HKT  ┆ USER_UPGRADE ┆ sd1-1@example.com ┆ 南區中心1隊 ┆ 銀座          │\n",
       "│ …                            ┆ …            ┆ …                 ┆ …           ┆ …             │\n",
       "│ 2024-08-02 20:42:26.963 HKT  ┆ USER_UPGRADE ┆ skc-1@example.com ┆ 南葵中心1隊 ┆ 天瑞街市      │\n",
       "│ 2024-08-02 21:39:58.737 HKT  ┆ USER_UPGRADE ┆ skc-4@example.com ┆ 南葵中心4隊 ┆ 屏欣苑        │\n",
       "│ 2024-08-02 20:16:51.826 HKT  ┆ USER_UPGRADE ┆ skc-3@example.com ┆ 南葵中心3隊 ┆ 屏欣苑        │\n",
       "│ 2024-08-02 20:45:21.093 HKT  ┆ USER_UPGRADE ┆ sw-1@example.com  ┆ 上環中心隊  ┆ 屏欣苑        │\n",
       "│ 2024-08-02 20:41:51.780 HKT  ┆ USER_UPGRADE ┆ skc-4@example.com ┆ 南葵中心4隊 ┆ 天瑞街市      │\n",
       "└──────────────────────────────┴──────────────┴───────────────────┴─────────────┴───────────────┘"
      ]
     },
     "execution_count": 10,
     "metadata": {},
     "output_type": "execute_result"
    }
   ],
   "source": [
    "upgrade_logs = [x for x in activity_logs_items if x['type'] == 'USER_UPGRADE']\n",
    "upgrade_logs_df = pl.DataFrame(upgrade_logs)\n",
    "\n",
    "upgrade_point = {\n",
    "    \"1\": \"屏欣苑\",\n",
    "    \"2\": \"銀座\",\n",
    "    \"3\": \"流浮山消防局\",\n",
    "    \"4\": \"天瑞街市\",\n",
    "}\n",
    "\n",
    "upgrade_logs_df = upgrade_logs_df.with_columns(pl.col('user').map_elements(lambda x: x['email'], return_dtype=pl.String).alias('user_email'))\n",
    "upgrade_logs_df = upgrade_logs_df.with_columns(pl.col('user').map_elements(lambda x: x['name'], return_dtype=pl.String).alias('user_name'))\n",
    "upgrade_logs_df = upgrade_logs_df.with_columns(pl.col('point').replace_strict(upgrade_point).alias('upgrade_point')).drop('point')\n",
    "upgrade_logs_df = upgrade_logs_df.drop('user')\n",
    "\n",
    "upgrade_logs_df = upgrade_logs_df.with_columns(pl.col('datetime').str.to_datetime().dt.replace_time_zone(\"Asia/Hong_Kong\"))\n",
    "\n",
    "upgrade_logs_df"
   ]
  },
  {
   "cell_type": "code",
   "execution_count": 11,
   "metadata": {},
   "outputs": [
    {
     "data": {
      "text/html": [
       "<div><style>\n",
       ".dataframe > thead > tr,\n",
       ".dataframe > tbody > tr {\n",
       "  text-align: right;\n",
       "  white-space: pre-wrap;\n",
       "}\n",
       "</style>\n",
       "<small>shape: (1, 3)</small><table border=\"1\" class=\"dataframe\"><thead><tr><th>point</th><th>datetime</th><th>type</th></tr><tr><td>struct[7]</td><td>datetime[μs, Asia/Hong_Kong]</td><td>str</td></tr></thead><tbody><tr><td>{&quot;sy1@example.com&quot;,&quot;石蔭中心隊&quot;,&quot;2024-08-02T22:33:31.782000&quot;,&quot;2024-08-02T20:45:43.903000&quot;,1,&quot;pbrw5fgRV2MRa5TDj7VB&quot;,&quot;天葵天橋&quot;}</td><td>2024-08-02 22:33:32.280 HKT</td><td>&quot;PATROL_CLEAR_POINT&quot;</td></tr></tbody></table></div>"
      ],
      "text/plain": [
       "shape: (1, 3)\n",
       "┌─────────────────────────────────┬──────────────────────────────┬────────────────────┐\n",
       "│ point                           ┆ datetime                     ┆ type               │\n",
       "│ ---                             ┆ ---                          ┆ ---                │\n",
       "│ struct[7]                       ┆ datetime[μs, Asia/Hong_Kong] ┆ str                │\n",
       "╞═════════════════════════════════╪══════════════════════════════╪════════════════════╡\n",
       "│ {\"sy1@example.com\",\"石蔭中心隊\" ┆ 2024-08-02 22:33:32.280 HKT  ┆ PATROL_CLEAR_POINT │\n",
       "│ ,\"20…                           ┆                              ┆                    │\n",
       "└─────────────────────────────────┴──────────────────────────────┴────────────────────┘"
      ]
     },
     "execution_count": 11,
     "metadata": {},
     "output_type": "execute_result"
    }
   ],
   "source": [
    "patrol_logs = [x for x in activity_logs_items if x['type'] == 'PATROL_CLEAR_POINT'][0]\n",
    "patrol_logs_df = pl.DataFrame(patrol_logs)\n",
    "\n",
    "patrol_logs_df = patrol_logs_df.with_columns(pl.col('datetime').str.to_datetime().dt.replace_time_zone(\"Asia/Hong_Kong\"))\n",
    "\n",
    "patrol_logs_df"
   ]
  },
  {
   "cell_type": "markdown",
   "metadata": {},
   "source": [
    "## Analysis"
   ]
  },
  {
   "cell_type": "markdown",
   "metadata": {},
   "source": [
    "### Team Ranking"
   ]
  },
  {
   "cell_type": "code",
   "execution_count": 12,
   "metadata": {},
   "outputs": [],
   "source": [
    "import plotly.express as px\n",
    "\n",
    "color_discrete_map = {\n",
    "    \"南葵中心3隊\": \"#ea3323\",\n",
    "    \"南葵中心4隊\": \"#ff8b00\",\n",
    "    \"上環/將軍澳中心隊\": \"#febb26\",\n",
    "    \"南葵中心2隊\": \"#17873f\",\n",
    "    \"南葵中心1隊\": \"#25dc67\",\n",
    "    \"南區中心1隊\": \"#4f7af9\",\n",
    "    \"上環中心隊\": \"#9c78fe\",\n",
    "    \"石蔭中心隊\": \"#ffccdd\",\n",
    "    \"南區中心2隊\": \"#ffffff\",\n",
    "}"
   ]
  },
  {
   "cell_type": "code",
   "execution_count": 13,
   "metadata": {},
   "outputs": [
    {
     "data": {
      "text/html": [
       "<div><style>\n",
       ".dataframe > thead > tr,\n",
       ".dataframe > tbody > tr {\n",
       "  text-align: right;\n",
       "  white-space: pre-wrap;\n",
       "}\n",
       "</style>\n",
       "<small>shape: (2, 11)</small><table border=\"1\" class=\"dataframe\"><thead><tr><th>capturedPoints</th><th>email</th><th>upgradedPoints</th><th>name</th><th>total_captured</th><th>total_captured_unique</th><th>score</th><th>score_offset</th><th>duration</th><th>average_duration</th><th>final_level</th></tr><tr><td>list[struct[7]]</td><td>str</td><td>list[str]</td><td>str</td><td>u32</td><td>i8</td><td>f32</td><td>f32</td><td>f32</td><td>f32</td><td>i8</td></tr></thead><tbody><tr><td>[{&quot;skc-3@example.com&quot;,&quot;南葵中心3隊&quot;,&quot;2024-08-02T21:44:31.341Z&quot;,&quot;2024-08-02T20:27:48.160Z&quot;,2,&quot;MM12lHGWCtvCbQvMy29H&quot;,&quot;天瑞俓（二）&quot;}, {&quot;skc-3@example.com&quot;,&quot;南葵中心3隊&quot;,&quot;2024-08-02T21:42:11.260Z&quot;,&quot;2024-08-02T20:29:51.988Z&quot;,2,&quot;Y54hD80CffPsd7hG6KZn&quot;,&quot;天瑞俓（三）&quot;}, … {&quot;skc-3@example.com&quot;,&quot;南葵中心3隊&quot;,&quot;2024-08-02T22:33:31.782Z&quot;,&quot;2024-08-02T21:48:30.321Z&quot;,3,&quot;xv6F5QsTKUVQasrDM5V5&quot;,&quot;天瑞俓（一）&quot;}]</td><td>&quot;skc-3@example.com&quot;</td><td>[&quot;1&quot;, &quot;3&quot;]</td><td>&quot;南葵中心3隊&quot;</td><td>19</td><td>10</td><td>55591.414062</td><td>43091.414062</td><td>46675.914062</td><td>2456.626953</td><td>3</td></tr><tr><td>[{&quot;skc-4@example.com&quot;,&quot;南葵中心4隊&quot;,&quot;2024-08-02T20:22:21.223Z&quot;,&quot;2024-08-02T20:19:06.128Z&quot;,1,&quot;xFldNrcu765eRZc2hrsn&quot;,&quot;聖葉理諾堂&quot;}, {&quot;skc-4@example.com&quot;,&quot;南葵中心4隊&quot;,&quot;2024-08-02T21:41:43.053Z&quot;,&quot;2024-08-02T20:20:21.384Z&quot;,1,&quot;yhDNSAU3ByPksCfmW3E3&quot;,&quot;天河路遊樂場涼亭&quot;}, … {&quot;skc-4@example.com&quot;,&quot;南葵中心4隊&quot;,&quot;2024-08-02T22:33:31.782Z&quot;,&quot;2024-08-02T21:42:41.441Z&quot;,3,&quot;gFJqiYep8W1OwbFTueIM&quot;,&quot;天瑞路公園涼亭&quot;}]</td><td>&quot;skc-4@example.com&quot;</td><td>[&quot;4&quot;, &quot;1&quot;]</td><td>&quot;南葵中心4隊&quot;</td><td>26</td><td>10</td><td>44894.796875</td><td>32394.796875</td><td>77038.289062</td><td>2963.01123</td><td>3</td></tr></tbody></table></div>"
      ],
      "text/plain": [
       "shape: (2, 11)\n",
       "┌───────────┬───────────┬───────────┬───────────┬───┬───────────┬───────────┬───────────┬──────────┐\n",
       "│ capturedP ┆ email     ┆ upgradedP ┆ name      ┆ … ┆ score_off ┆ duration  ┆ average_d ┆ final_le │\n",
       "│ oints     ┆ ---       ┆ oints     ┆ ---       ┆   ┆ set       ┆ ---       ┆ uration   ┆ vel      │\n",
       "│ ---       ┆ str       ┆ ---       ┆ str       ┆   ┆ ---       ┆ f32       ┆ ---       ┆ ---      │\n",
       "│ list[stru ┆           ┆ list[str] ┆           ┆   ┆ f32       ┆           ┆ f32       ┆ i8       │\n",
       "│ ct[7]]    ┆           ┆           ┆           ┆   ┆           ┆           ┆           ┆          │\n",
       "╞═══════════╪═══════════╪═══════════╪═══════════╪═══╪═══════════╪═══════════╪═══════════╪══════════╡\n",
       "│ [{\"skc-3@ ┆ skc-3@exa ┆ [\"1\",     ┆ 南葵中心3 ┆ … ┆ 43091.414 ┆ 46675.914 ┆ 2456.6269 ┆ 3        │\n",
       "│ example.c ┆ mple.com  ┆ \"3\"]      ┆ 隊        ┆   ┆ 062       ┆ 062       ┆ 53        ┆          │\n",
       "│ om\",\"南葵 ┆           ┆           ┆           ┆   ┆           ┆           ┆           ┆          │\n",
       "│ 中心3隊\"… ┆           ┆           ┆           ┆   ┆           ┆           ┆           ┆          │\n",
       "│ [{\"skc-4@ ┆ skc-4@exa ┆ [\"4\",     ┆ 南葵中心4 ┆ … ┆ 32394.796 ┆ 77038.289 ┆ 2963.0112 ┆ 3        │\n",
       "│ example.c ┆ mple.com  ┆ \"1\"]      ┆ 隊        ┆   ┆ 875       ┆ 062       ┆ 3         ┆          │\n",
       "│ om\",\"南葵 ┆           ┆           ┆           ┆   ┆           ┆           ┆           ┆          │\n",
       "│ 中心4隊\"… ┆           ┆           ┆           ┆   ┆           ┆           ┆           ┆          │\n",
       "└───────────┴───────────┴───────────┴───────────┴───┴───────────┴───────────┴───────────┴──────────┘"
      ]
     },
     "execution_count": 13,
     "metadata": {},
     "output_type": "execute_result"
    }
   ],
   "source": [
    "users_df.head(2)"
   ]
  },
  {
   "cell_type": "code",
   "execution_count": 14,
   "metadata": {},
   "outputs": [
    {
     "data": {
      "application/vnd.plotly.v1+json": {
       "config": {
        "plotlyServerURL": "https://plot.ly"
       },
       "data": [
        {
         "alignmentgroup": "True",
         "cliponaxis": false,
         "customdata": [
          [
           0,
           1
          ]
         ],
         "hovertemplate": "隊伍=%{x}<br>分數=%{y}<br>總佔領次數=%{customdata[0]}<br>最終等級=%{customdata[1]}<extra></extra>",
         "legendgroup": "南區中心2隊",
         "marker": {
          "color": "#ffffff",
          "pattern": {
           "shape": ""
          }
         },
         "name": "南區中心2隊",
         "offsetgroup": "南區中心2隊",
         "orientation": "v",
         "showlegend": true,
         "textangle": 0,
         "textfont": {
          "size": 12
         },
         "textposition": "outside",
         "texttemplate": "%{y:.0f}",
         "type": "bar",
         "x": [
          "南區中心2隊"
         ],
         "xaxis": "x",
         "y": [
          0
         ],
         "yaxis": "y"
        },
        {
         "alignmentgroup": "True",
         "cliponaxis": false,
         "customdata": [
          [
           13,
           3
          ]
         ],
         "hovertemplate": "隊伍=%{x}<br>分數=%{y}<br>總佔領次數=%{customdata[0]}<br>最終等級=%{customdata[1]}<extra></extra>",
         "legendgroup": "石蔭中心隊",
         "marker": {
          "color": "#ffccdd",
          "pattern": {
           "shape": ""
          }
         },
         "name": "石蔭中心隊",
         "offsetgroup": "石蔭中心隊",
         "orientation": "v",
         "showlegend": true,
         "textangle": 0,
         "textfont": {
          "size": 12
         },
         "textposition": "outside",
         "texttemplate": "%{y:.0f}",
         "type": "bar",
         "x": [
          "石蔭中心隊"
         ],
         "xaxis": "x",
         "y": [
          2116.935791015625
         ],
         "yaxis": "y"
        },
        {
         "alignmentgroup": "True",
         "cliponaxis": false,
         "customdata": [
          [
           7,
           3
          ]
         ],
         "hovertemplate": "隊伍=%{x}<br>分數=%{y}<br>總佔領次數=%{customdata[0]}<br>最終等級=%{customdata[1]}<extra></extra>",
         "legendgroup": "上環中心隊",
         "marker": {
          "color": "#9c78fe",
          "pattern": {
           "shape": ""
          }
         },
         "name": "上環中心隊",
         "offsetgroup": "上環中心隊",
         "orientation": "v",
         "showlegend": true,
         "textangle": 0,
         "textfont": {
          "size": 12
         },
         "textposition": "outside",
         "texttemplate": "%{y:.0f}",
         "type": "bar",
         "x": [
          "上環中心隊"
         ],
         "xaxis": "x",
         "y": [
          6006.6171875
         ],
         "yaxis": "y"
        },
        {
         "alignmentgroup": "True",
         "cliponaxis": false,
         "customdata": [
          [
           2,
           3
          ]
         ],
         "hovertemplate": "隊伍=%{x}<br>分數=%{y}<br>總佔領次數=%{customdata[0]}<br>最終等級=%{customdata[1]}<extra></extra>",
         "legendgroup": "南區中心1隊",
         "marker": {
          "color": "#4f7af9",
          "pattern": {
           "shape": ""
          }
         },
         "name": "南區中心1隊",
         "offsetgroup": "南區中心1隊",
         "orientation": "v",
         "showlegend": true,
         "textangle": 0,
         "textfont": {
          "size": 12
         },
         "textposition": "outside",
         "texttemplate": "%{y:.0f}",
         "type": "bar",
         "x": [
          "南區中心1隊"
         ],
         "xaxis": "x",
         "y": [
          8818.41796875
         ],
         "yaxis": "y"
        },
        {
         "alignmentgroup": "True",
         "cliponaxis": false,
         "customdata": [
          [
           23,
           2
          ]
         ],
         "hovertemplate": "隊伍=%{x}<br>分數=%{y}<br>總佔領次數=%{customdata[0]}<br>最終等級=%{customdata[1]}<extra></extra>",
         "legendgroup": "南葵中心1隊",
         "marker": {
          "color": "#25dc67",
          "pattern": {
           "shape": ""
          }
         },
         "name": "南葵中心1隊",
         "offsetgroup": "南葵中心1隊",
         "orientation": "v",
         "showlegend": true,
         "textangle": 0,
         "textfont": {
          "size": 12
         },
         "textposition": "outside",
         "texttemplate": "%{y:.0f}",
         "type": "bar",
         "x": [
          "南葵中心1隊"
         ],
         "xaxis": "x",
         "y": [
          10107.5458984375
         ],
         "yaxis": "y"
        },
        {
         "alignmentgroup": "True",
         "cliponaxis": false,
         "customdata": [
          [
           15,
           2
          ]
         ],
         "hovertemplate": "隊伍=%{x}<br>分數=%{y}<br>總佔領次數=%{customdata[0]}<br>最終等級=%{customdata[1]}<extra></extra>",
         "legendgroup": "南葵中心2隊",
         "marker": {
          "color": "#17873f",
          "pattern": {
           "shape": ""
          }
         },
         "name": "南葵中心2隊",
         "offsetgroup": "南葵中心2隊",
         "orientation": "v",
         "showlegend": true,
         "textangle": 0,
         "textfont": {
          "size": 12
         },
         "textposition": "outside",
         "texttemplate": "%{y:.0f}",
         "type": "bar",
         "x": [
          "南葵中心2隊"
         ],
         "xaxis": "x",
         "y": [
          15448.828125
         ],
         "yaxis": "y"
        },
        {
         "alignmentgroup": "True",
         "cliponaxis": false,
         "customdata": [
          [
           12,
           3
          ]
         ],
         "hovertemplate": "隊伍=%{x}<br>分數=%{y}<br>總佔領次數=%{customdata[0]}<br>最終等級=%{customdata[1]}<extra></extra>",
         "legendgroup": "上環/將軍澳中心隊",
         "marker": {
          "color": "#febb26",
          "pattern": {
           "shape": ""
          }
         },
         "name": "上環/將軍澳中心隊",
         "offsetgroup": "上環/將軍澳中心隊",
         "orientation": "v",
         "showlegend": true,
         "textangle": 0,
         "textfont": {
          "size": 12
         },
         "textposition": "outside",
         "texttemplate": "%{y:.0f}",
         "type": "bar",
         "x": [
          "上環/將軍澳中心隊"
         ],
         "xaxis": "x",
         "y": [
          15474.4443359375
         ],
         "yaxis": "y"
        },
        {
         "alignmentgroup": "True",
         "cliponaxis": false,
         "customdata": [
          [
           26,
           3
          ]
         ],
         "hovertemplate": "隊伍=%{x}<br>分數=%{y}<br>總佔領次數=%{customdata[0]}<br>最終等級=%{customdata[1]}<extra></extra>",
         "legendgroup": "南葵中心4隊",
         "marker": {
          "color": "#ff8b00",
          "pattern": {
           "shape": ""
          }
         },
         "name": "南葵中心4隊",
         "offsetgroup": "南葵中心4隊",
         "orientation": "v",
         "showlegend": true,
         "textangle": 0,
         "textfont": {
          "size": 12
         },
         "textposition": "outside",
         "texttemplate": "%{y:.0f}",
         "type": "bar",
         "x": [
          "南葵中心4隊"
         ],
         "xaxis": "x",
         "y": [
          44894.796875
         ],
         "yaxis": "y"
        },
        {
         "alignmentgroup": "True",
         "cliponaxis": false,
         "customdata": [
          [
           19,
           3
          ]
         ],
         "hovertemplate": "隊伍=%{x}<br>分數=%{y}<br>總佔領次數=%{customdata[0]}<br>最終等級=%{customdata[1]}<extra></extra>",
         "legendgroup": "南葵中心3隊",
         "marker": {
          "color": "#ea3323",
          "pattern": {
           "shape": ""
          }
         },
         "name": "南葵中心3隊",
         "offsetgroup": "南葵中心3隊",
         "orientation": "v",
         "showlegend": true,
         "textangle": 0,
         "textfont": {
          "size": 12
         },
         "textposition": "outside",
         "texttemplate": "%{y:.0f}",
         "type": "bar",
         "x": [
          "南葵中心3隊"
         ],
         "xaxis": "x",
         "y": [
          55591.4140625
         ],
         "yaxis": "y"
        }
       ],
       "layout": {
        "barmode": "relative",
        "legend": {
         "title": {
          "text": "隊伍"
         },
         "tracegroupgap": 0
        },
        "margin": {
         "t": 60
        },
        "template": {
         "data": {
          "bar": [
           {
            "error_x": {
             "color": "#2a3f5f"
            },
            "error_y": {
             "color": "#2a3f5f"
            },
            "marker": {
             "line": {
              "color": "#E5ECF6",
              "width": 0.5
             },
             "pattern": {
              "fillmode": "overlay",
              "size": 10,
              "solidity": 0.2
             }
            },
            "type": "bar"
           }
          ],
          "barpolar": [
           {
            "marker": {
             "line": {
              "color": "#E5ECF6",
              "width": 0.5
             },
             "pattern": {
              "fillmode": "overlay",
              "size": 10,
              "solidity": 0.2
             }
            },
            "type": "barpolar"
           }
          ],
          "carpet": [
           {
            "aaxis": {
             "endlinecolor": "#2a3f5f",
             "gridcolor": "white",
             "linecolor": "white",
             "minorgridcolor": "white",
             "startlinecolor": "#2a3f5f"
            },
            "baxis": {
             "endlinecolor": "#2a3f5f",
             "gridcolor": "white",
             "linecolor": "white",
             "minorgridcolor": "white",
             "startlinecolor": "#2a3f5f"
            },
            "type": "carpet"
           }
          ],
          "choropleth": [
           {
            "colorbar": {
             "outlinewidth": 0,
             "ticks": ""
            },
            "type": "choropleth"
           }
          ],
          "contour": [
           {
            "colorbar": {
             "outlinewidth": 0,
             "ticks": ""
            },
            "colorscale": [
             [
              0,
              "#0d0887"
             ],
             [
              0.1111111111111111,
              "#46039f"
             ],
             [
              0.2222222222222222,
              "#7201a8"
             ],
             [
              0.3333333333333333,
              "#9c179e"
             ],
             [
              0.4444444444444444,
              "#bd3786"
             ],
             [
              0.5555555555555556,
              "#d8576b"
             ],
             [
              0.6666666666666666,
              "#ed7953"
             ],
             [
              0.7777777777777778,
              "#fb9f3a"
             ],
             [
              0.8888888888888888,
              "#fdca26"
             ],
             [
              1,
              "#f0f921"
             ]
            ],
            "type": "contour"
           }
          ],
          "contourcarpet": [
           {
            "colorbar": {
             "outlinewidth": 0,
             "ticks": ""
            },
            "type": "contourcarpet"
           }
          ],
          "heatmap": [
           {
            "colorbar": {
             "outlinewidth": 0,
             "ticks": ""
            },
            "colorscale": [
             [
              0,
              "#0d0887"
             ],
             [
              0.1111111111111111,
              "#46039f"
             ],
             [
              0.2222222222222222,
              "#7201a8"
             ],
             [
              0.3333333333333333,
              "#9c179e"
             ],
             [
              0.4444444444444444,
              "#bd3786"
             ],
             [
              0.5555555555555556,
              "#d8576b"
             ],
             [
              0.6666666666666666,
              "#ed7953"
             ],
             [
              0.7777777777777778,
              "#fb9f3a"
             ],
             [
              0.8888888888888888,
              "#fdca26"
             ],
             [
              1,
              "#f0f921"
             ]
            ],
            "type": "heatmap"
           }
          ],
          "heatmapgl": [
           {
            "colorbar": {
             "outlinewidth": 0,
             "ticks": ""
            },
            "colorscale": [
             [
              0,
              "#0d0887"
             ],
             [
              0.1111111111111111,
              "#46039f"
             ],
             [
              0.2222222222222222,
              "#7201a8"
             ],
             [
              0.3333333333333333,
              "#9c179e"
             ],
             [
              0.4444444444444444,
              "#bd3786"
             ],
             [
              0.5555555555555556,
              "#d8576b"
             ],
             [
              0.6666666666666666,
              "#ed7953"
             ],
             [
              0.7777777777777778,
              "#fb9f3a"
             ],
             [
              0.8888888888888888,
              "#fdca26"
             ],
             [
              1,
              "#f0f921"
             ]
            ],
            "type": "heatmapgl"
           }
          ],
          "histogram": [
           {
            "marker": {
             "pattern": {
              "fillmode": "overlay",
              "size": 10,
              "solidity": 0.2
             }
            },
            "type": "histogram"
           }
          ],
          "histogram2d": [
           {
            "colorbar": {
             "outlinewidth": 0,
             "ticks": ""
            },
            "colorscale": [
             [
              0,
              "#0d0887"
             ],
             [
              0.1111111111111111,
              "#46039f"
             ],
             [
              0.2222222222222222,
              "#7201a8"
             ],
             [
              0.3333333333333333,
              "#9c179e"
             ],
             [
              0.4444444444444444,
              "#bd3786"
             ],
             [
              0.5555555555555556,
              "#d8576b"
             ],
             [
              0.6666666666666666,
              "#ed7953"
             ],
             [
              0.7777777777777778,
              "#fb9f3a"
             ],
             [
              0.8888888888888888,
              "#fdca26"
             ],
             [
              1,
              "#f0f921"
             ]
            ],
            "type": "histogram2d"
           }
          ],
          "histogram2dcontour": [
           {
            "colorbar": {
             "outlinewidth": 0,
             "ticks": ""
            },
            "colorscale": [
             [
              0,
              "#0d0887"
             ],
             [
              0.1111111111111111,
              "#46039f"
             ],
             [
              0.2222222222222222,
              "#7201a8"
             ],
             [
              0.3333333333333333,
              "#9c179e"
             ],
             [
              0.4444444444444444,
              "#bd3786"
             ],
             [
              0.5555555555555556,
              "#d8576b"
             ],
             [
              0.6666666666666666,
              "#ed7953"
             ],
             [
              0.7777777777777778,
              "#fb9f3a"
             ],
             [
              0.8888888888888888,
              "#fdca26"
             ],
             [
              1,
              "#f0f921"
             ]
            ],
            "type": "histogram2dcontour"
           }
          ],
          "mesh3d": [
           {
            "colorbar": {
             "outlinewidth": 0,
             "ticks": ""
            },
            "type": "mesh3d"
           }
          ],
          "parcoords": [
           {
            "line": {
             "colorbar": {
              "outlinewidth": 0,
              "ticks": ""
             }
            },
            "type": "parcoords"
           }
          ],
          "pie": [
           {
            "automargin": true,
            "type": "pie"
           }
          ],
          "scatter": [
           {
            "fillpattern": {
             "fillmode": "overlay",
             "size": 10,
             "solidity": 0.2
            },
            "type": "scatter"
           }
          ],
          "scatter3d": [
           {
            "line": {
             "colorbar": {
              "outlinewidth": 0,
              "ticks": ""
             }
            },
            "marker": {
             "colorbar": {
              "outlinewidth": 0,
              "ticks": ""
             }
            },
            "type": "scatter3d"
           }
          ],
          "scattercarpet": [
           {
            "marker": {
             "colorbar": {
              "outlinewidth": 0,
              "ticks": ""
             }
            },
            "type": "scattercarpet"
           }
          ],
          "scattergeo": [
           {
            "marker": {
             "colorbar": {
              "outlinewidth": 0,
              "ticks": ""
             }
            },
            "type": "scattergeo"
           }
          ],
          "scattergl": [
           {
            "marker": {
             "colorbar": {
              "outlinewidth": 0,
              "ticks": ""
             }
            },
            "type": "scattergl"
           }
          ],
          "scattermapbox": [
           {
            "marker": {
             "colorbar": {
              "outlinewidth": 0,
              "ticks": ""
             }
            },
            "type": "scattermapbox"
           }
          ],
          "scatterpolar": [
           {
            "marker": {
             "colorbar": {
              "outlinewidth": 0,
              "ticks": ""
             }
            },
            "type": "scatterpolar"
           }
          ],
          "scatterpolargl": [
           {
            "marker": {
             "colorbar": {
              "outlinewidth": 0,
              "ticks": ""
             }
            },
            "type": "scatterpolargl"
           }
          ],
          "scatterternary": [
           {
            "marker": {
             "colorbar": {
              "outlinewidth": 0,
              "ticks": ""
             }
            },
            "type": "scatterternary"
           }
          ],
          "surface": [
           {
            "colorbar": {
             "outlinewidth": 0,
             "ticks": ""
            },
            "colorscale": [
             [
              0,
              "#0d0887"
             ],
             [
              0.1111111111111111,
              "#46039f"
             ],
             [
              0.2222222222222222,
              "#7201a8"
             ],
             [
              0.3333333333333333,
              "#9c179e"
             ],
             [
              0.4444444444444444,
              "#bd3786"
             ],
             [
              0.5555555555555556,
              "#d8576b"
             ],
             [
              0.6666666666666666,
              "#ed7953"
             ],
             [
              0.7777777777777778,
              "#fb9f3a"
             ],
             [
              0.8888888888888888,
              "#fdca26"
             ],
             [
              1,
              "#f0f921"
             ]
            ],
            "type": "surface"
           }
          ],
          "table": [
           {
            "cells": {
             "fill": {
              "color": "#EBF0F8"
             },
             "line": {
              "color": "white"
             }
            },
            "header": {
             "fill": {
              "color": "#C8D4E3"
             },
             "line": {
              "color": "white"
             }
            },
            "type": "table"
           }
          ]
         },
         "layout": {
          "annotationdefaults": {
           "arrowcolor": "#2a3f5f",
           "arrowhead": 0,
           "arrowwidth": 1
          },
          "autotypenumbers": "strict",
          "coloraxis": {
           "colorbar": {
            "outlinewidth": 0,
            "ticks": ""
           }
          },
          "colorscale": {
           "diverging": [
            [
             0,
             "#8e0152"
            ],
            [
             0.1,
             "#c51b7d"
            ],
            [
             0.2,
             "#de77ae"
            ],
            [
             0.3,
             "#f1b6da"
            ],
            [
             0.4,
             "#fde0ef"
            ],
            [
             0.5,
             "#f7f7f7"
            ],
            [
             0.6,
             "#e6f5d0"
            ],
            [
             0.7,
             "#b8e186"
            ],
            [
             0.8,
             "#7fbc41"
            ],
            [
             0.9,
             "#4d9221"
            ],
            [
             1,
             "#276419"
            ]
           ],
           "sequential": [
            [
             0,
             "#0d0887"
            ],
            [
             0.1111111111111111,
             "#46039f"
            ],
            [
             0.2222222222222222,
             "#7201a8"
            ],
            [
             0.3333333333333333,
             "#9c179e"
            ],
            [
             0.4444444444444444,
             "#bd3786"
            ],
            [
             0.5555555555555556,
             "#d8576b"
            ],
            [
             0.6666666666666666,
             "#ed7953"
            ],
            [
             0.7777777777777778,
             "#fb9f3a"
            ],
            [
             0.8888888888888888,
             "#fdca26"
            ],
            [
             1,
             "#f0f921"
            ]
           ],
           "sequentialminus": [
            [
             0,
             "#0d0887"
            ],
            [
             0.1111111111111111,
             "#46039f"
            ],
            [
             0.2222222222222222,
             "#7201a8"
            ],
            [
             0.3333333333333333,
             "#9c179e"
            ],
            [
             0.4444444444444444,
             "#bd3786"
            ],
            [
             0.5555555555555556,
             "#d8576b"
            ],
            [
             0.6666666666666666,
             "#ed7953"
            ],
            [
             0.7777777777777778,
             "#fb9f3a"
            ],
            [
             0.8888888888888888,
             "#fdca26"
            ],
            [
             1,
             "#f0f921"
            ]
           ]
          },
          "colorway": [
           "#636efa",
           "#EF553B",
           "#00cc96",
           "#ab63fa",
           "#FFA15A",
           "#19d3f3",
           "#FF6692",
           "#B6E880",
           "#FF97FF",
           "#FECB52"
          ],
          "font": {
           "color": "#2a3f5f"
          },
          "geo": {
           "bgcolor": "white",
           "lakecolor": "white",
           "landcolor": "#E5ECF6",
           "showlakes": true,
           "showland": true,
           "subunitcolor": "white"
          },
          "hoverlabel": {
           "align": "left"
          },
          "hovermode": "closest",
          "mapbox": {
           "style": "light"
          },
          "paper_bgcolor": "white",
          "plot_bgcolor": "#E5ECF6",
          "polar": {
           "angularaxis": {
            "gridcolor": "white",
            "linecolor": "white",
            "ticks": ""
           },
           "bgcolor": "#E5ECF6",
           "radialaxis": {
            "gridcolor": "white",
            "linecolor": "white",
            "ticks": ""
           }
          },
          "scene": {
           "xaxis": {
            "backgroundcolor": "#E5ECF6",
            "gridcolor": "white",
            "gridwidth": 2,
            "linecolor": "white",
            "showbackground": true,
            "ticks": "",
            "zerolinecolor": "white"
           },
           "yaxis": {
            "backgroundcolor": "#E5ECF6",
            "gridcolor": "white",
            "gridwidth": 2,
            "linecolor": "white",
            "showbackground": true,
            "ticks": "",
            "zerolinecolor": "white"
           },
           "zaxis": {
            "backgroundcolor": "#E5ECF6",
            "gridcolor": "white",
            "gridwidth": 2,
            "linecolor": "white",
            "showbackground": true,
            "ticks": "",
            "zerolinecolor": "white"
           }
          },
          "shapedefaults": {
           "line": {
            "color": "#2a3f5f"
           }
          },
          "ternary": {
           "aaxis": {
            "gridcolor": "white",
            "linecolor": "white",
            "ticks": ""
           },
           "baxis": {
            "gridcolor": "white",
            "linecolor": "white",
            "ticks": ""
           },
           "bgcolor": "#E5ECF6",
           "caxis": {
            "gridcolor": "white",
            "linecolor": "white",
            "ticks": ""
           }
          },
          "title": {
           "x": 0.05
          },
          "xaxis": {
           "automargin": true,
           "gridcolor": "white",
           "linecolor": "white",
           "ticks": "",
           "title": {
            "standoff": 15
           },
           "zerolinecolor": "white",
           "zerolinewidth": 2
          },
          "yaxis": {
           "automargin": true,
           "gridcolor": "white",
           "linecolor": "white",
           "ticks": "",
           "title": {
            "standoff": 15
           },
           "zerolinecolor": "white",
           "zerolinewidth": 2
          }
         }
        },
        "title": {
         "text": "隊伍分數排行(對Boss傷害) <br><sup>分數由佔領時間及等級計算</sup>",
         "x": 0.5
        },
        "width": 800,
        "xaxis": {
         "anchor": "y",
         "categoryarray": [
          "南區中心2隊",
          "石蔭中心隊",
          "上環中心隊",
          "南區中心1隊",
          "南葵中心1隊",
          "南葵中心2隊",
          "上環/將軍澳中心隊",
          "南葵中心4隊",
          "南葵中心3隊"
         ],
         "categoryorder": "array",
         "domain": [
          0,
          1
         ],
         "title": {
          "text": "隊伍"
         }
        },
        "yaxis": {
         "anchor": "x",
         "domain": [
          0,
          1
         ],
         "title": {
          "text": "分數"
         }
        }
       }
      }
     },
     "metadata": {},
     "output_type": "display_data"
    }
   ],
   "source": [
    "fig = px.bar(\n",
    "    users_df.sort('score_offset'), \n",
    "    x='name', \n",
    "    y='score', \n",
    "    hover_data=['name', 'score', 'total_captured', 'final_level'], \n",
    "    labels={\n",
    "        'name': \"隊伍\",\n",
    "        'score_offset': \"分數\",\n",
    "        'score': \"分數\",\n",
    "        'total_captured': \"總佔領次數\",\n",
    "        'final_level': \"最終等級\"\n",
    "    }, \n",
    "    color='name', \n",
    "    color_discrete_map=color_discrete_map, \n",
    "    text_auto='.0f',\n",
    "    width=800,\n",
    ")\n",
    "\n",
    "fig.update_traces(textfont_size=12, textangle=0, textposition=\"outside\", cliponaxis=False)\n",
    "fig.update_layout(title_text='隊伍分數排行(對Boss傷害) <br><sup>分數由佔領時間及等級計算</sup>', title_x=0.5)\n",
    "\n",
    "fig.show()"
   ]
  },
  {
   "cell_type": "code",
   "execution_count": 15,
   "metadata": {},
   "outputs": [
    {
     "data": {
      "application/vnd.plotly.v1+json": {
       "config": {
        "plotlyServerURL": "https://plot.ly"
       },
       "data": [
        {
         "alignmentgroup": "True",
         "cliponaxis": false,
         "customdata": [
          [
           0,
           0,
           1
          ]
         ],
         "hovertemplate": "隊伍=%{x}<br>佔領時長=%{y}<br>分數=%{customdata[0]}<br>總佔領次數=%{customdata[1]}<br>最終等級=%{customdata[2]}<extra></extra>",
         "legendgroup": "南區中心2隊",
         "marker": {
          "color": "#ffffff",
          "pattern": {
           "shape": ""
          }
         },
         "name": "南區中心2隊",
         "offsetgroup": "南區中心2隊",
         "orientation": "v",
         "showlegend": true,
         "textangle": 0,
         "textfont": {
          "size": 12
         },
         "textposition": "outside",
         "texttemplate": "%{y:.0f}",
         "type": "bar",
         "x": [
          "南區中心2隊"
         ],
         "xaxis": "x",
         "y": [
          0
         ],
         "yaxis": "y"
        },
        {
         "alignmentgroup": "True",
         "cliponaxis": false,
         "customdata": [
          [
           8818.41796875,
           2,
           3
          ]
         ],
         "hovertemplate": "隊伍=%{x}<br>佔領時長=%{y}<br>分數=%{customdata[0]}<br>總佔領次數=%{customdata[1]}<br>最終等級=%{customdata[2]}<extra></extra>",
         "legendgroup": "南區中心1隊",
         "marker": {
          "color": "#4f7af9",
          "pattern": {
           "shape": ""
          }
         },
         "name": "南區中心1隊",
         "offsetgroup": "南區中心1隊",
         "orientation": "v",
         "showlegend": true,
         "textangle": 0,
         "textfont": {
          "size": 12
         },
         "textposition": "outside",
         "texttemplate": "%{y:.0f}",
         "type": "bar",
         "x": [
          "南區中心1隊"
         ],
         "xaxis": "x",
         "y": [
          3527.366943359375
         ],
         "yaxis": "y"
        },
        {
         "alignmentgroup": "True",
         "cliponaxis": false,
         "customdata": [
          [
           6006.6171875,
           7,
           3
          ]
         ],
         "hovertemplate": "隊伍=%{x}<br>佔領時長=%{y}<br>分數=%{customdata[0]}<br>總佔領次數=%{customdata[1]}<br>最終等級=%{customdata[2]}<extra></extra>",
         "legendgroup": "上環中心隊",
         "marker": {
          "color": "#9c78fe",
          "pattern": {
           "shape": ""
          }
         },
         "name": "上環中心隊",
         "offsetgroup": "上環中心隊",
         "orientation": "v",
         "showlegend": true,
         "textangle": 0,
         "textfont": {
          "size": 12
         },
         "textposition": "outside",
         "texttemplate": "%{y:.0f}",
         "type": "bar",
         "x": [
          "上環中心隊"
         ],
         "xaxis": "x",
         "y": [
          5870.3251953125
         ],
         "yaxis": "y"
        },
        {
         "alignmentgroup": "True",
         "cliponaxis": false,
         "customdata": [
          [
           2116.935791015625,
           13,
           3
          ]
         ],
         "hovertemplate": "隊伍=%{x}<br>佔領時長=%{y}<br>分數=%{customdata[0]}<br>總佔領次數=%{customdata[1]}<br>最終等級=%{customdata[2]}<extra></extra>",
         "legendgroup": "石蔭中心隊",
         "marker": {
          "color": "#ffccdd",
          "pattern": {
           "shape": ""
          }
         },
         "name": "石蔭中心隊",
         "offsetgroup": "石蔭中心隊",
         "orientation": "v",
         "showlegend": true,
         "textangle": 0,
         "textfont": {
          "size": 12
         },
         "textposition": "outside",
         "texttemplate": "%{y:.0f}",
         "type": "bar",
         "x": [
          "石蔭中心隊"
         ],
         "xaxis": "x",
         "y": [
          27650.966796875
         ],
         "yaxis": "y"
        },
        {
         "alignmentgroup": "True",
         "cliponaxis": false,
         "customdata": [
          [
           15474.4443359375,
           12,
           3
          ]
         ],
         "hovertemplate": "隊伍=%{x}<br>佔領時長=%{y}<br>分數=%{customdata[0]}<br>總佔領次數=%{customdata[1]}<br>最終等級=%{customdata[2]}<extra></extra>",
         "legendgroup": "上環/將軍澳中心隊",
         "marker": {
          "color": "#febb26",
          "pattern": {
           "shape": ""
          }
         },
         "name": "上環/將軍澳中心隊",
         "offsetgroup": "上環/將軍澳中心隊",
         "orientation": "v",
         "showlegend": true,
         "textangle": 0,
         "textfont": {
          "size": 12
         },
         "textposition": "outside",
         "texttemplate": "%{y:.0f}",
         "type": "bar",
         "x": [
          "上環/將軍澳中心隊"
         ],
         "xaxis": "x",
         "y": [
          44609.16015625
         ],
         "yaxis": "y"
        },
        {
         "alignmentgroup": "True",
         "cliponaxis": false,
         "customdata": [
          [
           15448.828125,
           15,
           2
          ]
         ],
         "hovertemplate": "隊伍=%{x}<br>佔領時長=%{y}<br>分數=%{customdata[0]}<br>總佔領次數=%{customdata[1]}<br>最終等級=%{customdata[2]}<extra></extra>",
         "legendgroup": "南葵中心2隊",
         "marker": {
          "color": "#17873f",
          "pattern": {
           "shape": ""
          }
         },
         "name": "南葵中心2隊",
         "offsetgroup": "南葵中心2隊",
         "orientation": "v",
         "showlegend": true,
         "textangle": 0,
         "textfont": {
          "size": 12
         },
         "textposition": "outside",
         "texttemplate": "%{y:.0f}",
         "type": "bar",
         "x": [
          "南葵中心2隊"
         ],
         "xaxis": "x",
         "y": [
          46435.5078125
         ],
         "yaxis": "y"
        },
        {
         "alignmentgroup": "True",
         "cliponaxis": false,
         "customdata": [
          [
           55591.4140625,
           19,
           3
          ]
         ],
         "hovertemplate": "隊伍=%{x}<br>佔領時長=%{y}<br>分數=%{customdata[0]}<br>總佔領次數=%{customdata[1]}<br>最終等級=%{customdata[2]}<extra></extra>",
         "legendgroup": "南葵中心3隊",
         "marker": {
          "color": "#ea3323",
          "pattern": {
           "shape": ""
          }
         },
         "name": "南葵中心3隊",
         "offsetgroup": "南葵中心3隊",
         "orientation": "v",
         "showlegend": true,
         "textangle": 0,
         "textfont": {
          "size": 12
         },
         "textposition": "outside",
         "texttemplate": "%{y:.0f}",
         "type": "bar",
         "x": [
          "南葵中心3隊"
         ],
         "xaxis": "x",
         "y": [
          46675.9140625
         ],
         "yaxis": "y"
        },
        {
         "alignmentgroup": "True",
         "cliponaxis": false,
         "customdata": [
          [
           10107.5458984375,
           23,
           2
          ]
         ],
         "hovertemplate": "隊伍=%{x}<br>佔領時長=%{y}<br>分數=%{customdata[0]}<br>總佔領次數=%{customdata[1]}<br>最終等級=%{customdata[2]}<extra></extra>",
         "legendgroup": "南葵中心1隊",
         "marker": {
          "color": "#25dc67",
          "pattern": {
           "shape": ""
          }
         },
         "name": "南葵中心1隊",
         "offsetgroup": "南葵中心1隊",
         "orientation": "v",
         "showlegend": true,
         "textangle": 0,
         "textfont": {
          "size": 12
         },
         "textposition": "outside",
         "texttemplate": "%{y:.0f}",
         "type": "bar",
         "x": [
          "南葵中心1隊"
         ],
         "xaxis": "x",
         "y": [
          47757.15234375
         ],
         "yaxis": "y"
        },
        {
         "alignmentgroup": "True",
         "cliponaxis": false,
         "customdata": [
          [
           44894.796875,
           26,
           3
          ]
         ],
         "hovertemplate": "隊伍=%{x}<br>佔領時長=%{y}<br>分數=%{customdata[0]}<br>總佔領次數=%{customdata[1]}<br>最終等級=%{customdata[2]}<extra></extra>",
         "legendgroup": "南葵中心4隊",
         "marker": {
          "color": "#ff8b00",
          "pattern": {
           "shape": ""
          }
         },
         "name": "南葵中心4隊",
         "offsetgroup": "南葵中心4隊",
         "orientation": "v",
         "showlegend": true,
         "textangle": 0,
         "textfont": {
          "size": 12
         },
         "textposition": "outside",
         "texttemplate": "%{y:.0f}",
         "type": "bar",
         "x": [
          "南葵中心4隊"
         ],
         "xaxis": "x",
         "y": [
          77038.2890625
         ],
         "yaxis": "y"
        }
       ],
       "layout": {
        "barmode": "relative",
        "legend": {
         "title": {
          "text": "隊伍"
         },
         "tracegroupgap": 0
        },
        "margin": {
         "t": 60
        },
        "template": {
         "data": {
          "bar": [
           {
            "error_x": {
             "color": "#2a3f5f"
            },
            "error_y": {
             "color": "#2a3f5f"
            },
            "marker": {
             "line": {
              "color": "#E5ECF6",
              "width": 0.5
             },
             "pattern": {
              "fillmode": "overlay",
              "size": 10,
              "solidity": 0.2
             }
            },
            "type": "bar"
           }
          ],
          "barpolar": [
           {
            "marker": {
             "line": {
              "color": "#E5ECF6",
              "width": 0.5
             },
             "pattern": {
              "fillmode": "overlay",
              "size": 10,
              "solidity": 0.2
             }
            },
            "type": "barpolar"
           }
          ],
          "carpet": [
           {
            "aaxis": {
             "endlinecolor": "#2a3f5f",
             "gridcolor": "white",
             "linecolor": "white",
             "minorgridcolor": "white",
             "startlinecolor": "#2a3f5f"
            },
            "baxis": {
             "endlinecolor": "#2a3f5f",
             "gridcolor": "white",
             "linecolor": "white",
             "minorgridcolor": "white",
             "startlinecolor": "#2a3f5f"
            },
            "type": "carpet"
           }
          ],
          "choropleth": [
           {
            "colorbar": {
             "outlinewidth": 0,
             "ticks": ""
            },
            "type": "choropleth"
           }
          ],
          "contour": [
           {
            "colorbar": {
             "outlinewidth": 0,
             "ticks": ""
            },
            "colorscale": [
             [
              0,
              "#0d0887"
             ],
             [
              0.1111111111111111,
              "#46039f"
             ],
             [
              0.2222222222222222,
              "#7201a8"
             ],
             [
              0.3333333333333333,
              "#9c179e"
             ],
             [
              0.4444444444444444,
              "#bd3786"
             ],
             [
              0.5555555555555556,
              "#d8576b"
             ],
             [
              0.6666666666666666,
              "#ed7953"
             ],
             [
              0.7777777777777778,
              "#fb9f3a"
             ],
             [
              0.8888888888888888,
              "#fdca26"
             ],
             [
              1,
              "#f0f921"
             ]
            ],
            "type": "contour"
           }
          ],
          "contourcarpet": [
           {
            "colorbar": {
             "outlinewidth": 0,
             "ticks": ""
            },
            "type": "contourcarpet"
           }
          ],
          "heatmap": [
           {
            "colorbar": {
             "outlinewidth": 0,
             "ticks": ""
            },
            "colorscale": [
             [
              0,
              "#0d0887"
             ],
             [
              0.1111111111111111,
              "#46039f"
             ],
             [
              0.2222222222222222,
              "#7201a8"
             ],
             [
              0.3333333333333333,
              "#9c179e"
             ],
             [
              0.4444444444444444,
              "#bd3786"
             ],
             [
              0.5555555555555556,
              "#d8576b"
             ],
             [
              0.6666666666666666,
              "#ed7953"
             ],
             [
              0.7777777777777778,
              "#fb9f3a"
             ],
             [
              0.8888888888888888,
              "#fdca26"
             ],
             [
              1,
              "#f0f921"
             ]
            ],
            "type": "heatmap"
           }
          ],
          "heatmapgl": [
           {
            "colorbar": {
             "outlinewidth": 0,
             "ticks": ""
            },
            "colorscale": [
             [
              0,
              "#0d0887"
             ],
             [
              0.1111111111111111,
              "#46039f"
             ],
             [
              0.2222222222222222,
              "#7201a8"
             ],
             [
              0.3333333333333333,
              "#9c179e"
             ],
             [
              0.4444444444444444,
              "#bd3786"
             ],
             [
              0.5555555555555556,
              "#d8576b"
             ],
             [
              0.6666666666666666,
              "#ed7953"
             ],
             [
              0.7777777777777778,
              "#fb9f3a"
             ],
             [
              0.8888888888888888,
              "#fdca26"
             ],
             [
              1,
              "#f0f921"
             ]
            ],
            "type": "heatmapgl"
           }
          ],
          "histogram": [
           {
            "marker": {
             "pattern": {
              "fillmode": "overlay",
              "size": 10,
              "solidity": 0.2
             }
            },
            "type": "histogram"
           }
          ],
          "histogram2d": [
           {
            "colorbar": {
             "outlinewidth": 0,
             "ticks": ""
            },
            "colorscale": [
             [
              0,
              "#0d0887"
             ],
             [
              0.1111111111111111,
              "#46039f"
             ],
             [
              0.2222222222222222,
              "#7201a8"
             ],
             [
              0.3333333333333333,
              "#9c179e"
             ],
             [
              0.4444444444444444,
              "#bd3786"
             ],
             [
              0.5555555555555556,
              "#d8576b"
             ],
             [
              0.6666666666666666,
              "#ed7953"
             ],
             [
              0.7777777777777778,
              "#fb9f3a"
             ],
             [
              0.8888888888888888,
              "#fdca26"
             ],
             [
              1,
              "#f0f921"
             ]
            ],
            "type": "histogram2d"
           }
          ],
          "histogram2dcontour": [
           {
            "colorbar": {
             "outlinewidth": 0,
             "ticks": ""
            },
            "colorscale": [
             [
              0,
              "#0d0887"
             ],
             [
              0.1111111111111111,
              "#46039f"
             ],
             [
              0.2222222222222222,
              "#7201a8"
             ],
             [
              0.3333333333333333,
              "#9c179e"
             ],
             [
              0.4444444444444444,
              "#bd3786"
             ],
             [
              0.5555555555555556,
              "#d8576b"
             ],
             [
              0.6666666666666666,
              "#ed7953"
             ],
             [
              0.7777777777777778,
              "#fb9f3a"
             ],
             [
              0.8888888888888888,
              "#fdca26"
             ],
             [
              1,
              "#f0f921"
             ]
            ],
            "type": "histogram2dcontour"
           }
          ],
          "mesh3d": [
           {
            "colorbar": {
             "outlinewidth": 0,
             "ticks": ""
            },
            "type": "mesh3d"
           }
          ],
          "parcoords": [
           {
            "line": {
             "colorbar": {
              "outlinewidth": 0,
              "ticks": ""
             }
            },
            "type": "parcoords"
           }
          ],
          "pie": [
           {
            "automargin": true,
            "type": "pie"
           }
          ],
          "scatter": [
           {
            "fillpattern": {
             "fillmode": "overlay",
             "size": 10,
             "solidity": 0.2
            },
            "type": "scatter"
           }
          ],
          "scatter3d": [
           {
            "line": {
             "colorbar": {
              "outlinewidth": 0,
              "ticks": ""
             }
            },
            "marker": {
             "colorbar": {
              "outlinewidth": 0,
              "ticks": ""
             }
            },
            "type": "scatter3d"
           }
          ],
          "scattercarpet": [
           {
            "marker": {
             "colorbar": {
              "outlinewidth": 0,
              "ticks": ""
             }
            },
            "type": "scattercarpet"
           }
          ],
          "scattergeo": [
           {
            "marker": {
             "colorbar": {
              "outlinewidth": 0,
              "ticks": ""
             }
            },
            "type": "scattergeo"
           }
          ],
          "scattergl": [
           {
            "marker": {
             "colorbar": {
              "outlinewidth": 0,
              "ticks": ""
             }
            },
            "type": "scattergl"
           }
          ],
          "scattermapbox": [
           {
            "marker": {
             "colorbar": {
              "outlinewidth": 0,
              "ticks": ""
             }
            },
            "type": "scattermapbox"
           }
          ],
          "scatterpolar": [
           {
            "marker": {
             "colorbar": {
              "outlinewidth": 0,
              "ticks": ""
             }
            },
            "type": "scatterpolar"
           }
          ],
          "scatterpolargl": [
           {
            "marker": {
             "colorbar": {
              "outlinewidth": 0,
              "ticks": ""
             }
            },
            "type": "scatterpolargl"
           }
          ],
          "scatterternary": [
           {
            "marker": {
             "colorbar": {
              "outlinewidth": 0,
              "ticks": ""
             }
            },
            "type": "scatterternary"
           }
          ],
          "surface": [
           {
            "colorbar": {
             "outlinewidth": 0,
             "ticks": ""
            },
            "colorscale": [
             [
              0,
              "#0d0887"
             ],
             [
              0.1111111111111111,
              "#46039f"
             ],
             [
              0.2222222222222222,
              "#7201a8"
             ],
             [
              0.3333333333333333,
              "#9c179e"
             ],
             [
              0.4444444444444444,
              "#bd3786"
             ],
             [
              0.5555555555555556,
              "#d8576b"
             ],
             [
              0.6666666666666666,
              "#ed7953"
             ],
             [
              0.7777777777777778,
              "#fb9f3a"
             ],
             [
              0.8888888888888888,
              "#fdca26"
             ],
             [
              1,
              "#f0f921"
             ]
            ],
            "type": "surface"
           }
          ],
          "table": [
           {
            "cells": {
             "fill": {
              "color": "#EBF0F8"
             },
             "line": {
              "color": "white"
             }
            },
            "header": {
             "fill": {
              "color": "#C8D4E3"
             },
             "line": {
              "color": "white"
             }
            },
            "type": "table"
           }
          ]
         },
         "layout": {
          "annotationdefaults": {
           "arrowcolor": "#2a3f5f",
           "arrowhead": 0,
           "arrowwidth": 1
          },
          "autotypenumbers": "strict",
          "coloraxis": {
           "colorbar": {
            "outlinewidth": 0,
            "ticks": ""
           }
          },
          "colorscale": {
           "diverging": [
            [
             0,
             "#8e0152"
            ],
            [
             0.1,
             "#c51b7d"
            ],
            [
             0.2,
             "#de77ae"
            ],
            [
             0.3,
             "#f1b6da"
            ],
            [
             0.4,
             "#fde0ef"
            ],
            [
             0.5,
             "#f7f7f7"
            ],
            [
             0.6,
             "#e6f5d0"
            ],
            [
             0.7,
             "#b8e186"
            ],
            [
             0.8,
             "#7fbc41"
            ],
            [
             0.9,
             "#4d9221"
            ],
            [
             1,
             "#276419"
            ]
           ],
           "sequential": [
            [
             0,
             "#0d0887"
            ],
            [
             0.1111111111111111,
             "#46039f"
            ],
            [
             0.2222222222222222,
             "#7201a8"
            ],
            [
             0.3333333333333333,
             "#9c179e"
            ],
            [
             0.4444444444444444,
             "#bd3786"
            ],
            [
             0.5555555555555556,
             "#d8576b"
            ],
            [
             0.6666666666666666,
             "#ed7953"
            ],
            [
             0.7777777777777778,
             "#fb9f3a"
            ],
            [
             0.8888888888888888,
             "#fdca26"
            ],
            [
             1,
             "#f0f921"
            ]
           ],
           "sequentialminus": [
            [
             0,
             "#0d0887"
            ],
            [
             0.1111111111111111,
             "#46039f"
            ],
            [
             0.2222222222222222,
             "#7201a8"
            ],
            [
             0.3333333333333333,
             "#9c179e"
            ],
            [
             0.4444444444444444,
             "#bd3786"
            ],
            [
             0.5555555555555556,
             "#d8576b"
            ],
            [
             0.6666666666666666,
             "#ed7953"
            ],
            [
             0.7777777777777778,
             "#fb9f3a"
            ],
            [
             0.8888888888888888,
             "#fdca26"
            ],
            [
             1,
             "#f0f921"
            ]
           ]
          },
          "colorway": [
           "#636efa",
           "#EF553B",
           "#00cc96",
           "#ab63fa",
           "#FFA15A",
           "#19d3f3",
           "#FF6692",
           "#B6E880",
           "#FF97FF",
           "#FECB52"
          ],
          "font": {
           "color": "#2a3f5f"
          },
          "geo": {
           "bgcolor": "white",
           "lakecolor": "white",
           "landcolor": "#E5ECF6",
           "showlakes": true,
           "showland": true,
           "subunitcolor": "white"
          },
          "hoverlabel": {
           "align": "left"
          },
          "hovermode": "closest",
          "mapbox": {
           "style": "light"
          },
          "paper_bgcolor": "white",
          "plot_bgcolor": "#E5ECF6",
          "polar": {
           "angularaxis": {
            "gridcolor": "white",
            "linecolor": "white",
            "ticks": ""
           },
           "bgcolor": "#E5ECF6",
           "radialaxis": {
            "gridcolor": "white",
            "linecolor": "white",
            "ticks": ""
           }
          },
          "scene": {
           "xaxis": {
            "backgroundcolor": "#E5ECF6",
            "gridcolor": "white",
            "gridwidth": 2,
            "linecolor": "white",
            "showbackground": true,
            "ticks": "",
            "zerolinecolor": "white"
           },
           "yaxis": {
            "backgroundcolor": "#E5ECF6",
            "gridcolor": "white",
            "gridwidth": 2,
            "linecolor": "white",
            "showbackground": true,
            "ticks": "",
            "zerolinecolor": "white"
           },
           "zaxis": {
            "backgroundcolor": "#E5ECF6",
            "gridcolor": "white",
            "gridwidth": 2,
            "linecolor": "white",
            "showbackground": true,
            "ticks": "",
            "zerolinecolor": "white"
           }
          },
          "shapedefaults": {
           "line": {
            "color": "#2a3f5f"
           }
          },
          "ternary": {
           "aaxis": {
            "gridcolor": "white",
            "linecolor": "white",
            "ticks": ""
           },
           "baxis": {
            "gridcolor": "white",
            "linecolor": "white",
            "ticks": ""
           },
           "bgcolor": "#E5ECF6",
           "caxis": {
            "gridcolor": "white",
            "linecolor": "white",
            "ticks": ""
           }
          },
          "title": {
           "x": 0.05
          },
          "xaxis": {
           "automargin": true,
           "gridcolor": "white",
           "linecolor": "white",
           "ticks": "",
           "title": {
            "standoff": 15
           },
           "zerolinecolor": "white",
           "zerolinewidth": 2
          },
          "yaxis": {
           "automargin": true,
           "gridcolor": "white",
           "linecolor": "white",
           "ticks": "",
           "title": {
            "standoff": 15
           },
           "zerolinecolor": "white",
           "zerolinewidth": 2
          }
         }
        },
        "title": {
         "text": "總佔領時長 <br><sup>隊伍所有佔領點合共的佔領時間</sup>",
         "x": 0.5
        },
        "width": 800,
        "xaxis": {
         "anchor": "y",
         "categoryarray": [
          "南區中心2隊",
          "南區中心1隊",
          "上環中心隊",
          "石蔭中心隊",
          "上環/將軍澳中心隊",
          "南葵中心2隊",
          "南葵中心3隊",
          "南葵中心1隊",
          "南葵中心4隊"
         ],
         "categoryorder": "array",
         "domain": [
          0,
          1
         ],
         "title": {
          "text": "隊伍"
         }
        },
        "yaxis": {
         "anchor": "x",
         "domain": [
          0,
          1
         ],
         "title": {
          "text": "佔領時長"
         }
        }
       }
      }
     },
     "metadata": {},
     "output_type": "display_data"
    }
   ],
   "source": [
    "fig = px.bar(\n",
    "    users_df.sort('duration'), \n",
    "    x='name', \n",
    "    y='duration', \n",
    "    hover_data=['name', 'score', 'total_captured', 'duration', 'final_level'], \n",
    "    labels={\n",
    "        'name': \"隊伍\",\n",
    "        'score': \"分數\",\n",
    "        'score_offset': \"分數\",\n",
    "        'total_captured': \"總佔領次數\",\n",
    "        'final_level': \"最終等級\",\n",
    "        'duration': \"佔領時長\"\n",
    "    }, \n",
    "    color='name', \n",
    "    color_discrete_map=color_discrete_map, \n",
    "    text_auto='.0f',\n",
    "    width=800,\n",
    ")\n",
    "\n",
    "fig.update_traces(textfont_size=12, textangle=0, textposition=\"outside\", cliponaxis=False)\n",
    "fig.update_layout(title_text='總佔領時長 <br><sup>隊伍所有佔領點合共的佔領時間</sup>', title_x=0.5)\n",
    "\n",
    "fig.show()"
   ]
  },
  {
   "cell_type": "code",
   "execution_count": 16,
   "metadata": {},
   "outputs": [
    {
     "data": {
      "application/vnd.plotly.v1+json": {
       "config": {
        "plotlyServerURL": "https://plot.ly"
       },
       "data": [
        {
         "alignmentgroup": "True",
         "cliponaxis": false,
         "customdata": [
          [
           0,
           0,
           1
          ]
         ],
         "hovertemplate": "隊伍=%{x}<br>總佔領次數=%{y}<br>分數=%{customdata[0]}<br>佔領時長=%{customdata[1]}<br>最終等級=%{customdata[2]}<extra></extra>",
         "legendgroup": "南區中心2隊",
         "marker": {
          "color": "#ffffff",
          "pattern": {
           "shape": ""
          }
         },
         "name": "南區中心2隊",
         "offsetgroup": "南區中心2隊",
         "orientation": "v",
         "showlegend": true,
         "textangle": 0,
         "textfont": {
          "size": 12
         },
         "textposition": "outside",
         "texttemplate": "%{y:.0f}",
         "type": "bar",
         "x": [
          "南區中心2隊"
         ],
         "xaxis": "x",
         "y": [
          0
         ],
         "yaxis": "y"
        },
        {
         "alignmentgroup": "True",
         "cliponaxis": false,
         "customdata": [
          [
           8818.41796875,
           3527.366943359375,
           3
          ]
         ],
         "hovertemplate": "隊伍=%{x}<br>總佔領次數=%{y}<br>分數=%{customdata[0]}<br>佔領時長=%{customdata[1]}<br>最終等級=%{customdata[2]}<extra></extra>",
         "legendgroup": "南區中心1隊",
         "marker": {
          "color": "#4f7af9",
          "pattern": {
           "shape": ""
          }
         },
         "name": "南區中心1隊",
         "offsetgroup": "南區中心1隊",
         "orientation": "v",
         "showlegend": true,
         "textangle": 0,
         "textfont": {
          "size": 12
         },
         "textposition": "outside",
         "texttemplate": "%{y:.0f}",
         "type": "bar",
         "x": [
          "南區中心1隊"
         ],
         "xaxis": "x",
         "y": [
          2
         ],
         "yaxis": "y"
        },
        {
         "alignmentgroup": "True",
         "cliponaxis": false,
         "customdata": [
          [
           6006.6171875,
           5870.3251953125,
           3
          ]
         ],
         "hovertemplate": "隊伍=%{x}<br>總佔領次數=%{y}<br>分數=%{customdata[0]}<br>佔領時長=%{customdata[1]}<br>最終等級=%{customdata[2]}<extra></extra>",
         "legendgroup": "上環中心隊",
         "marker": {
          "color": "#9c78fe",
          "pattern": {
           "shape": ""
          }
         },
         "name": "上環中心隊",
         "offsetgroup": "上環中心隊",
         "orientation": "v",
         "showlegend": true,
         "textangle": 0,
         "textfont": {
          "size": 12
         },
         "textposition": "outside",
         "texttemplate": "%{y:.0f}",
         "type": "bar",
         "x": [
          "上環中心隊"
         ],
         "xaxis": "x",
         "y": [
          7
         ],
         "yaxis": "y"
        },
        {
         "alignmentgroup": "True",
         "cliponaxis": false,
         "customdata": [
          [
           15474.4443359375,
           44609.16015625,
           3
          ]
         ],
         "hovertemplate": "隊伍=%{x}<br>總佔領次數=%{y}<br>分數=%{customdata[0]}<br>佔領時長=%{customdata[1]}<br>最終等級=%{customdata[2]}<extra></extra>",
         "legendgroup": "上環/將軍澳中心隊",
         "marker": {
          "color": "#febb26",
          "pattern": {
           "shape": ""
          }
         },
         "name": "上環/將軍澳中心隊",
         "offsetgroup": "上環/將軍澳中心隊",
         "orientation": "v",
         "showlegend": true,
         "textangle": 0,
         "textfont": {
          "size": 12
         },
         "textposition": "outside",
         "texttemplate": "%{y:.0f}",
         "type": "bar",
         "x": [
          "上環/將軍澳中心隊"
         ],
         "xaxis": "x",
         "y": [
          12
         ],
         "yaxis": "y"
        },
        {
         "alignmentgroup": "True",
         "cliponaxis": false,
         "customdata": [
          [
           2116.935791015625,
           27650.966796875,
           3
          ]
         ],
         "hovertemplate": "隊伍=%{x}<br>總佔領次數=%{y}<br>分數=%{customdata[0]}<br>佔領時長=%{customdata[1]}<br>最終等級=%{customdata[2]}<extra></extra>",
         "legendgroup": "石蔭中心隊",
         "marker": {
          "color": "#ffccdd",
          "pattern": {
           "shape": ""
          }
         },
         "name": "石蔭中心隊",
         "offsetgroup": "石蔭中心隊",
         "orientation": "v",
         "showlegend": true,
         "textangle": 0,
         "textfont": {
          "size": 12
         },
         "textposition": "outside",
         "texttemplate": "%{y:.0f}",
         "type": "bar",
         "x": [
          "石蔭中心隊"
         ],
         "xaxis": "x",
         "y": [
          13
         ],
         "yaxis": "y"
        },
        {
         "alignmentgroup": "True",
         "cliponaxis": false,
         "customdata": [
          [
           15448.828125,
           46435.5078125,
           2
          ]
         ],
         "hovertemplate": "隊伍=%{x}<br>總佔領次數=%{y}<br>分數=%{customdata[0]}<br>佔領時長=%{customdata[1]}<br>最終等級=%{customdata[2]}<extra></extra>",
         "legendgroup": "南葵中心2隊",
         "marker": {
          "color": "#17873f",
          "pattern": {
           "shape": ""
          }
         },
         "name": "南葵中心2隊",
         "offsetgroup": "南葵中心2隊",
         "orientation": "v",
         "showlegend": true,
         "textangle": 0,
         "textfont": {
          "size": 12
         },
         "textposition": "outside",
         "texttemplate": "%{y:.0f}",
         "type": "bar",
         "x": [
          "南葵中心2隊"
         ],
         "xaxis": "x",
         "y": [
          15
         ],
         "yaxis": "y"
        },
        {
         "alignmentgroup": "True",
         "cliponaxis": false,
         "customdata": [
          [
           55591.4140625,
           46675.9140625,
           3
          ]
         ],
         "hovertemplate": "隊伍=%{x}<br>總佔領次數=%{y}<br>分數=%{customdata[0]}<br>佔領時長=%{customdata[1]}<br>最終等級=%{customdata[2]}<extra></extra>",
         "legendgroup": "南葵中心3隊",
         "marker": {
          "color": "#ea3323",
          "pattern": {
           "shape": ""
          }
         },
         "name": "南葵中心3隊",
         "offsetgroup": "南葵中心3隊",
         "orientation": "v",
         "showlegend": true,
         "textangle": 0,
         "textfont": {
          "size": 12
         },
         "textposition": "outside",
         "texttemplate": "%{y:.0f}",
         "type": "bar",
         "x": [
          "南葵中心3隊"
         ],
         "xaxis": "x",
         "y": [
          19
         ],
         "yaxis": "y"
        },
        {
         "alignmentgroup": "True",
         "cliponaxis": false,
         "customdata": [
          [
           10107.5458984375,
           47757.15234375,
           2
          ]
         ],
         "hovertemplate": "隊伍=%{x}<br>總佔領次數=%{y}<br>分數=%{customdata[0]}<br>佔領時長=%{customdata[1]}<br>最終等級=%{customdata[2]}<extra></extra>",
         "legendgroup": "南葵中心1隊",
         "marker": {
          "color": "#25dc67",
          "pattern": {
           "shape": ""
          }
         },
         "name": "南葵中心1隊",
         "offsetgroup": "南葵中心1隊",
         "orientation": "v",
         "showlegend": true,
         "textangle": 0,
         "textfont": {
          "size": 12
         },
         "textposition": "outside",
         "texttemplate": "%{y:.0f}",
         "type": "bar",
         "x": [
          "南葵中心1隊"
         ],
         "xaxis": "x",
         "y": [
          23
         ],
         "yaxis": "y"
        },
        {
         "alignmentgroup": "True",
         "cliponaxis": false,
         "customdata": [
          [
           44894.796875,
           77038.2890625,
           3
          ]
         ],
         "hovertemplate": "隊伍=%{x}<br>總佔領次數=%{y}<br>分數=%{customdata[0]}<br>佔領時長=%{customdata[1]}<br>最終等級=%{customdata[2]}<extra></extra>",
         "legendgroup": "南葵中心4隊",
         "marker": {
          "color": "#ff8b00",
          "pattern": {
           "shape": ""
          }
         },
         "name": "南葵中心4隊",
         "offsetgroup": "南葵中心4隊",
         "orientation": "v",
         "showlegend": true,
         "textangle": 0,
         "textfont": {
          "size": 12
         },
         "textposition": "outside",
         "texttemplate": "%{y:.0f}",
         "type": "bar",
         "x": [
          "南葵中心4隊"
         ],
         "xaxis": "x",
         "y": [
          26
         ],
         "yaxis": "y"
        }
       ],
       "layout": {
        "barmode": "relative",
        "legend": {
         "title": {
          "text": "隊伍"
         },
         "tracegroupgap": 0
        },
        "margin": {
         "t": 60
        },
        "template": {
         "data": {
          "bar": [
           {
            "error_x": {
             "color": "#2a3f5f"
            },
            "error_y": {
             "color": "#2a3f5f"
            },
            "marker": {
             "line": {
              "color": "#E5ECF6",
              "width": 0.5
             },
             "pattern": {
              "fillmode": "overlay",
              "size": 10,
              "solidity": 0.2
             }
            },
            "type": "bar"
           }
          ],
          "barpolar": [
           {
            "marker": {
             "line": {
              "color": "#E5ECF6",
              "width": 0.5
             },
             "pattern": {
              "fillmode": "overlay",
              "size": 10,
              "solidity": 0.2
             }
            },
            "type": "barpolar"
           }
          ],
          "carpet": [
           {
            "aaxis": {
             "endlinecolor": "#2a3f5f",
             "gridcolor": "white",
             "linecolor": "white",
             "minorgridcolor": "white",
             "startlinecolor": "#2a3f5f"
            },
            "baxis": {
             "endlinecolor": "#2a3f5f",
             "gridcolor": "white",
             "linecolor": "white",
             "minorgridcolor": "white",
             "startlinecolor": "#2a3f5f"
            },
            "type": "carpet"
           }
          ],
          "choropleth": [
           {
            "colorbar": {
             "outlinewidth": 0,
             "ticks": ""
            },
            "type": "choropleth"
           }
          ],
          "contour": [
           {
            "colorbar": {
             "outlinewidth": 0,
             "ticks": ""
            },
            "colorscale": [
             [
              0,
              "#0d0887"
             ],
             [
              0.1111111111111111,
              "#46039f"
             ],
             [
              0.2222222222222222,
              "#7201a8"
             ],
             [
              0.3333333333333333,
              "#9c179e"
             ],
             [
              0.4444444444444444,
              "#bd3786"
             ],
             [
              0.5555555555555556,
              "#d8576b"
             ],
             [
              0.6666666666666666,
              "#ed7953"
             ],
             [
              0.7777777777777778,
              "#fb9f3a"
             ],
             [
              0.8888888888888888,
              "#fdca26"
             ],
             [
              1,
              "#f0f921"
             ]
            ],
            "type": "contour"
           }
          ],
          "contourcarpet": [
           {
            "colorbar": {
             "outlinewidth": 0,
             "ticks": ""
            },
            "type": "contourcarpet"
           }
          ],
          "heatmap": [
           {
            "colorbar": {
             "outlinewidth": 0,
             "ticks": ""
            },
            "colorscale": [
             [
              0,
              "#0d0887"
             ],
             [
              0.1111111111111111,
              "#46039f"
             ],
             [
              0.2222222222222222,
              "#7201a8"
             ],
             [
              0.3333333333333333,
              "#9c179e"
             ],
             [
              0.4444444444444444,
              "#bd3786"
             ],
             [
              0.5555555555555556,
              "#d8576b"
             ],
             [
              0.6666666666666666,
              "#ed7953"
             ],
             [
              0.7777777777777778,
              "#fb9f3a"
             ],
             [
              0.8888888888888888,
              "#fdca26"
             ],
             [
              1,
              "#f0f921"
             ]
            ],
            "type": "heatmap"
           }
          ],
          "heatmapgl": [
           {
            "colorbar": {
             "outlinewidth": 0,
             "ticks": ""
            },
            "colorscale": [
             [
              0,
              "#0d0887"
             ],
             [
              0.1111111111111111,
              "#46039f"
             ],
             [
              0.2222222222222222,
              "#7201a8"
             ],
             [
              0.3333333333333333,
              "#9c179e"
             ],
             [
              0.4444444444444444,
              "#bd3786"
             ],
             [
              0.5555555555555556,
              "#d8576b"
             ],
             [
              0.6666666666666666,
              "#ed7953"
             ],
             [
              0.7777777777777778,
              "#fb9f3a"
             ],
             [
              0.8888888888888888,
              "#fdca26"
             ],
             [
              1,
              "#f0f921"
             ]
            ],
            "type": "heatmapgl"
           }
          ],
          "histogram": [
           {
            "marker": {
             "pattern": {
              "fillmode": "overlay",
              "size": 10,
              "solidity": 0.2
             }
            },
            "type": "histogram"
           }
          ],
          "histogram2d": [
           {
            "colorbar": {
             "outlinewidth": 0,
             "ticks": ""
            },
            "colorscale": [
             [
              0,
              "#0d0887"
             ],
             [
              0.1111111111111111,
              "#46039f"
             ],
             [
              0.2222222222222222,
              "#7201a8"
             ],
             [
              0.3333333333333333,
              "#9c179e"
             ],
             [
              0.4444444444444444,
              "#bd3786"
             ],
             [
              0.5555555555555556,
              "#d8576b"
             ],
             [
              0.6666666666666666,
              "#ed7953"
             ],
             [
              0.7777777777777778,
              "#fb9f3a"
             ],
             [
              0.8888888888888888,
              "#fdca26"
             ],
             [
              1,
              "#f0f921"
             ]
            ],
            "type": "histogram2d"
           }
          ],
          "histogram2dcontour": [
           {
            "colorbar": {
             "outlinewidth": 0,
             "ticks": ""
            },
            "colorscale": [
             [
              0,
              "#0d0887"
             ],
             [
              0.1111111111111111,
              "#46039f"
             ],
             [
              0.2222222222222222,
              "#7201a8"
             ],
             [
              0.3333333333333333,
              "#9c179e"
             ],
             [
              0.4444444444444444,
              "#bd3786"
             ],
             [
              0.5555555555555556,
              "#d8576b"
             ],
             [
              0.6666666666666666,
              "#ed7953"
             ],
             [
              0.7777777777777778,
              "#fb9f3a"
             ],
             [
              0.8888888888888888,
              "#fdca26"
             ],
             [
              1,
              "#f0f921"
             ]
            ],
            "type": "histogram2dcontour"
           }
          ],
          "mesh3d": [
           {
            "colorbar": {
             "outlinewidth": 0,
             "ticks": ""
            },
            "type": "mesh3d"
           }
          ],
          "parcoords": [
           {
            "line": {
             "colorbar": {
              "outlinewidth": 0,
              "ticks": ""
             }
            },
            "type": "parcoords"
           }
          ],
          "pie": [
           {
            "automargin": true,
            "type": "pie"
           }
          ],
          "scatter": [
           {
            "fillpattern": {
             "fillmode": "overlay",
             "size": 10,
             "solidity": 0.2
            },
            "type": "scatter"
           }
          ],
          "scatter3d": [
           {
            "line": {
             "colorbar": {
              "outlinewidth": 0,
              "ticks": ""
             }
            },
            "marker": {
             "colorbar": {
              "outlinewidth": 0,
              "ticks": ""
             }
            },
            "type": "scatter3d"
           }
          ],
          "scattercarpet": [
           {
            "marker": {
             "colorbar": {
              "outlinewidth": 0,
              "ticks": ""
             }
            },
            "type": "scattercarpet"
           }
          ],
          "scattergeo": [
           {
            "marker": {
             "colorbar": {
              "outlinewidth": 0,
              "ticks": ""
             }
            },
            "type": "scattergeo"
           }
          ],
          "scattergl": [
           {
            "marker": {
             "colorbar": {
              "outlinewidth": 0,
              "ticks": ""
             }
            },
            "type": "scattergl"
           }
          ],
          "scattermapbox": [
           {
            "marker": {
             "colorbar": {
              "outlinewidth": 0,
              "ticks": ""
             }
            },
            "type": "scattermapbox"
           }
          ],
          "scatterpolar": [
           {
            "marker": {
             "colorbar": {
              "outlinewidth": 0,
              "ticks": ""
             }
            },
            "type": "scatterpolar"
           }
          ],
          "scatterpolargl": [
           {
            "marker": {
             "colorbar": {
              "outlinewidth": 0,
              "ticks": ""
             }
            },
            "type": "scatterpolargl"
           }
          ],
          "scatterternary": [
           {
            "marker": {
             "colorbar": {
              "outlinewidth": 0,
              "ticks": ""
             }
            },
            "type": "scatterternary"
           }
          ],
          "surface": [
           {
            "colorbar": {
             "outlinewidth": 0,
             "ticks": ""
            },
            "colorscale": [
             [
              0,
              "#0d0887"
             ],
             [
              0.1111111111111111,
              "#46039f"
             ],
             [
              0.2222222222222222,
              "#7201a8"
             ],
             [
              0.3333333333333333,
              "#9c179e"
             ],
             [
              0.4444444444444444,
              "#bd3786"
             ],
             [
              0.5555555555555556,
              "#d8576b"
             ],
             [
              0.6666666666666666,
              "#ed7953"
             ],
             [
              0.7777777777777778,
              "#fb9f3a"
             ],
             [
              0.8888888888888888,
              "#fdca26"
             ],
             [
              1,
              "#f0f921"
             ]
            ],
            "type": "surface"
           }
          ],
          "table": [
           {
            "cells": {
             "fill": {
              "color": "#EBF0F8"
             },
             "line": {
              "color": "white"
             }
            },
            "header": {
             "fill": {
              "color": "#C8D4E3"
             },
             "line": {
              "color": "white"
             }
            },
            "type": "table"
           }
          ]
         },
         "layout": {
          "annotationdefaults": {
           "arrowcolor": "#2a3f5f",
           "arrowhead": 0,
           "arrowwidth": 1
          },
          "autotypenumbers": "strict",
          "coloraxis": {
           "colorbar": {
            "outlinewidth": 0,
            "ticks": ""
           }
          },
          "colorscale": {
           "diverging": [
            [
             0,
             "#8e0152"
            ],
            [
             0.1,
             "#c51b7d"
            ],
            [
             0.2,
             "#de77ae"
            ],
            [
             0.3,
             "#f1b6da"
            ],
            [
             0.4,
             "#fde0ef"
            ],
            [
             0.5,
             "#f7f7f7"
            ],
            [
             0.6,
             "#e6f5d0"
            ],
            [
             0.7,
             "#b8e186"
            ],
            [
             0.8,
             "#7fbc41"
            ],
            [
             0.9,
             "#4d9221"
            ],
            [
             1,
             "#276419"
            ]
           ],
           "sequential": [
            [
             0,
             "#0d0887"
            ],
            [
             0.1111111111111111,
             "#46039f"
            ],
            [
             0.2222222222222222,
             "#7201a8"
            ],
            [
             0.3333333333333333,
             "#9c179e"
            ],
            [
             0.4444444444444444,
             "#bd3786"
            ],
            [
             0.5555555555555556,
             "#d8576b"
            ],
            [
             0.6666666666666666,
             "#ed7953"
            ],
            [
             0.7777777777777778,
             "#fb9f3a"
            ],
            [
             0.8888888888888888,
             "#fdca26"
            ],
            [
             1,
             "#f0f921"
            ]
           ],
           "sequentialminus": [
            [
             0,
             "#0d0887"
            ],
            [
             0.1111111111111111,
             "#46039f"
            ],
            [
             0.2222222222222222,
             "#7201a8"
            ],
            [
             0.3333333333333333,
             "#9c179e"
            ],
            [
             0.4444444444444444,
             "#bd3786"
            ],
            [
             0.5555555555555556,
             "#d8576b"
            ],
            [
             0.6666666666666666,
             "#ed7953"
            ],
            [
             0.7777777777777778,
             "#fb9f3a"
            ],
            [
             0.8888888888888888,
             "#fdca26"
            ],
            [
             1,
             "#f0f921"
            ]
           ]
          },
          "colorway": [
           "#636efa",
           "#EF553B",
           "#00cc96",
           "#ab63fa",
           "#FFA15A",
           "#19d3f3",
           "#FF6692",
           "#B6E880",
           "#FF97FF",
           "#FECB52"
          ],
          "font": {
           "color": "#2a3f5f"
          },
          "geo": {
           "bgcolor": "white",
           "lakecolor": "white",
           "landcolor": "#E5ECF6",
           "showlakes": true,
           "showland": true,
           "subunitcolor": "white"
          },
          "hoverlabel": {
           "align": "left"
          },
          "hovermode": "closest",
          "mapbox": {
           "style": "light"
          },
          "paper_bgcolor": "white",
          "plot_bgcolor": "#E5ECF6",
          "polar": {
           "angularaxis": {
            "gridcolor": "white",
            "linecolor": "white",
            "ticks": ""
           },
           "bgcolor": "#E5ECF6",
           "radialaxis": {
            "gridcolor": "white",
            "linecolor": "white",
            "ticks": ""
           }
          },
          "scene": {
           "xaxis": {
            "backgroundcolor": "#E5ECF6",
            "gridcolor": "white",
            "gridwidth": 2,
            "linecolor": "white",
            "showbackground": true,
            "ticks": "",
            "zerolinecolor": "white"
           },
           "yaxis": {
            "backgroundcolor": "#E5ECF6",
            "gridcolor": "white",
            "gridwidth": 2,
            "linecolor": "white",
            "showbackground": true,
            "ticks": "",
            "zerolinecolor": "white"
           },
           "zaxis": {
            "backgroundcolor": "#E5ECF6",
            "gridcolor": "white",
            "gridwidth": 2,
            "linecolor": "white",
            "showbackground": true,
            "ticks": "",
            "zerolinecolor": "white"
           }
          },
          "shapedefaults": {
           "line": {
            "color": "#2a3f5f"
           }
          },
          "ternary": {
           "aaxis": {
            "gridcolor": "white",
            "linecolor": "white",
            "ticks": ""
           },
           "baxis": {
            "gridcolor": "white",
            "linecolor": "white",
            "ticks": ""
           },
           "bgcolor": "#E5ECF6",
           "caxis": {
            "gridcolor": "white",
            "linecolor": "white",
            "ticks": ""
           }
          },
          "title": {
           "x": 0.05
          },
          "xaxis": {
           "automargin": true,
           "gridcolor": "white",
           "linecolor": "white",
           "ticks": "",
           "title": {
            "standoff": 15
           },
           "zerolinecolor": "white",
           "zerolinewidth": 2
          },
          "yaxis": {
           "automargin": true,
           "gridcolor": "white",
           "linecolor": "white",
           "ticks": "",
           "title": {
            "standoff": 15
           },
           "zerolinecolor": "white",
           "zerolinewidth": 2
          }
         }
        },
        "title": {
         "text": "總佔領次數 <br><sup>隊伍Scan了多少次QRCode</sup>",
         "x": 0.5
        },
        "width": 800,
        "xaxis": {
         "anchor": "y",
         "categoryarray": [
          "南區中心2隊",
          "南區中心1隊",
          "上環中心隊",
          "上環/將軍澳中心隊",
          "石蔭中心隊",
          "南葵中心2隊",
          "南葵中心3隊",
          "南葵中心1隊",
          "南葵中心4隊"
         ],
         "categoryorder": "array",
         "domain": [
          0,
          1
         ],
         "title": {
          "text": "隊伍"
         }
        },
        "yaxis": {
         "anchor": "x",
         "domain": [
          0,
          1
         ],
         "title": {
          "text": "總佔領次數"
         }
        }
       }
      }
     },
     "metadata": {},
     "output_type": "display_data"
    }
   ],
   "source": [
    "fig = px.bar(\n",
    "    users_df.sort('total_captured'), \n",
    "    x='name', \n",
    "    y='total_captured', \n",
    "    hover_data=['name', 'score', 'total_captured', 'duration', 'final_level', 'total_captured'], \n",
    "    labels={\n",
    "        'name': \"隊伍\",\n",
    "        'score': \"分數\",\n",
    "        'score_offset': \"分數\",\n",
    "        'total_captured': \"總佔領次數\",\n",
    "        'final_level': \"最終等級\",\n",
    "        'duration': \"佔領時長\",\n",
    "        'total_captured': \"總佔領次數\"\n",
    "    }, \n",
    "    color='name', \n",
    "    color_discrete_map=color_discrete_map, \n",
    "    text_auto='.0f',\n",
    "    width=800,\n",
    ")\n",
    "\n",
    "fig.update_traces(textfont_size=12, textangle=0, textposition=\"outside\", cliponaxis=False)\n",
    "fig.update_layout(title_text='總佔領次數 <br><sup>隊伍Scan了多少次QRCode</sup>', title_x=0.5)\n",
    "\n",
    "fig.show()"
   ]
  },
  {
   "cell_type": "code",
   "execution_count": 17,
   "metadata": {},
   "outputs": [
    {
     "data": {
      "application/vnd.plotly.v1+json": {
       "config": {
        "plotlyServerURL": "https://plot.ly"
       },
       "data": [
        {
         "alignmentgroup": "True",
         "cliponaxis": false,
         "customdata": [
          [
           0,
           0,
           0,
           1,
           0
          ]
         ],
         "hovertemplate": "隊伍=%{x}<br>總到訪佔領點=%{y}<br>分數=%{customdata[0]}<br>總佔領次數=%{customdata[4]}<br>佔領時長=%{customdata[2]}<br>最終等級=%{customdata[3]}<extra></extra>",
         "legendgroup": "南區中心2隊",
         "marker": {
          "color": "#ffffff",
          "pattern": {
           "shape": ""
          }
         },
         "name": "南區中心2隊",
         "offsetgroup": "南區中心2隊",
         "orientation": "v",
         "showlegend": true,
         "textangle": 0,
         "textfont": {
          "size": 12
         },
         "textposition": "outside",
         "texttemplate": "%{y:.0f}",
         "type": "bar",
         "x": [
          "南區中心2隊"
         ],
         "xaxis": "x",
         "y": [
          0
         ],
         "yaxis": "y"
        },
        {
         "alignmentgroup": "True",
         "cliponaxis": false,
         "customdata": [
          [
           8818.41796875,
           2,
           3527.366943359375,
           3,
           2
          ]
         ],
         "hovertemplate": "隊伍=%{x}<br>總到訪佔領點=%{y}<br>分數=%{customdata[0]}<br>總佔領次數=%{customdata[4]}<br>佔領時長=%{customdata[2]}<br>最終等級=%{customdata[3]}<extra></extra>",
         "legendgroup": "南區中心1隊",
         "marker": {
          "color": "#4f7af9",
          "pattern": {
           "shape": ""
          }
         },
         "name": "南區中心1隊",
         "offsetgroup": "南區中心1隊",
         "orientation": "v",
         "showlegend": true,
         "textangle": 0,
         "textfont": {
          "size": 12
         },
         "textposition": "outside",
         "texttemplate": "%{y:.0f}",
         "type": "bar",
         "x": [
          "南區中心1隊"
         ],
         "xaxis": "x",
         "y": [
          2
         ],
         "yaxis": "y"
        },
        {
         "alignmentgroup": "True",
         "cliponaxis": false,
         "customdata": [
          [
           6006.6171875,
           7,
           5870.3251953125,
           3,
           7
          ]
         ],
         "hovertemplate": "隊伍=%{x}<br>總到訪佔領點=%{y}<br>分數=%{customdata[0]}<br>總佔領次數=%{customdata[4]}<br>佔領時長=%{customdata[2]}<br>最終等級=%{customdata[3]}<extra></extra>",
         "legendgroup": "上環中心隊",
         "marker": {
          "color": "#9c78fe",
          "pattern": {
           "shape": ""
          }
         },
         "name": "上環中心隊",
         "offsetgroup": "上環中心隊",
         "orientation": "v",
         "showlegend": true,
         "textangle": 0,
         "textfont": {
          "size": 12
         },
         "textposition": "outside",
         "texttemplate": "%{y:.0f}",
         "type": "bar",
         "x": [
          "上環中心隊"
         ],
         "xaxis": "x",
         "y": [
          5
         ],
         "yaxis": "y"
        },
        {
         "alignmentgroup": "True",
         "cliponaxis": false,
         "customdata": [
          [
           55591.4140625,
           19,
           46675.9140625,
           3,
           19
          ]
         ],
         "hovertemplate": "隊伍=%{x}<br>總到訪佔領點=%{y}<br>分數=%{customdata[0]}<br>總佔領次數=%{customdata[4]}<br>佔領時長=%{customdata[2]}<br>最終等級=%{customdata[3]}<extra></extra>",
         "legendgroup": "南葵中心3隊",
         "marker": {
          "color": "#ea3323",
          "pattern": {
           "shape": ""
          }
         },
         "name": "南葵中心3隊",
         "offsetgroup": "南葵中心3隊",
         "orientation": "v",
         "showlegend": true,
         "textangle": 0,
         "textfont": {
          "size": 12
         },
         "textposition": "outside",
         "texttemplate": "%{y:.0f}",
         "type": "bar",
         "x": [
          "南葵中心3隊"
         ],
         "xaxis": "x",
         "y": [
          10
         ],
         "yaxis": "y"
        },
        {
         "alignmentgroup": "True",
         "cliponaxis": false,
         "customdata": [
          [
           44894.796875,
           26,
           77038.2890625,
           3,
           26
          ]
         ],
         "hovertemplate": "隊伍=%{x}<br>總到訪佔領點=%{y}<br>分數=%{customdata[0]}<br>總佔領次數=%{customdata[4]}<br>佔領時長=%{customdata[2]}<br>最終等級=%{customdata[3]}<extra></extra>",
         "legendgroup": "南葵中心4隊",
         "marker": {
          "color": "#ff8b00",
          "pattern": {
           "shape": ""
          }
         },
         "name": "南葵中心4隊",
         "offsetgroup": "南葵中心4隊",
         "orientation": "v",
         "showlegend": true,
         "textangle": 0,
         "textfont": {
          "size": 12
         },
         "textposition": "outside",
         "texttemplate": "%{y:.0f}",
         "type": "bar",
         "x": [
          "南葵中心4隊"
         ],
         "xaxis": "x",
         "y": [
          10
         ],
         "yaxis": "y"
        },
        {
         "alignmentgroup": "True",
         "cliponaxis": false,
         "customdata": [
          [
           15474.4443359375,
           12,
           44609.16015625,
           3,
           12
          ]
         ],
         "hovertemplate": "隊伍=%{x}<br>總到訪佔領點=%{y}<br>分數=%{customdata[0]}<br>總佔領次數=%{customdata[4]}<br>佔領時長=%{customdata[2]}<br>最終等級=%{customdata[3]}<extra></extra>",
         "legendgroup": "上環/將軍澳中心隊",
         "marker": {
          "color": "#febb26",
          "pattern": {
           "shape": ""
          }
         },
         "name": "上環/將軍澳中心隊",
         "offsetgroup": "上環/將軍澳中心隊",
         "orientation": "v",
         "showlegend": true,
         "textangle": 0,
         "textfont": {
          "size": 12
         },
         "textposition": "outside",
         "texttemplate": "%{y:.0f}",
         "type": "bar",
         "x": [
          "上環/將軍澳中心隊"
         ],
         "xaxis": "x",
         "y": [
          12
         ],
         "yaxis": "y"
        },
        {
         "alignmentgroup": "True",
         "cliponaxis": false,
         "customdata": [
          [
           2116.935791015625,
           13,
           27650.966796875,
           3,
           13
          ]
         ],
         "hovertemplate": "隊伍=%{x}<br>總到訪佔領點=%{y}<br>分數=%{customdata[0]}<br>總佔領次數=%{customdata[4]}<br>佔領時長=%{customdata[2]}<br>最終等級=%{customdata[3]}<extra></extra>",
         "legendgroup": "石蔭中心隊",
         "marker": {
          "color": "#ffccdd",
          "pattern": {
           "shape": ""
          }
         },
         "name": "石蔭中心隊",
         "offsetgroup": "石蔭中心隊",
         "orientation": "v",
         "showlegend": true,
         "textangle": 0,
         "textfont": {
          "size": 12
         },
         "textposition": "outside",
         "texttemplate": "%{y:.0f}",
         "type": "bar",
         "x": [
          "石蔭中心隊"
         ],
         "xaxis": "x",
         "y": [
          13
         ],
         "yaxis": "y"
        },
        {
         "alignmentgroup": "True",
         "cliponaxis": false,
         "customdata": [
          [
           15448.828125,
           15,
           46435.5078125,
           2,
           15
          ]
         ],
         "hovertemplate": "隊伍=%{x}<br>總到訪佔領點=%{y}<br>分數=%{customdata[0]}<br>總佔領次數=%{customdata[4]}<br>佔領時長=%{customdata[2]}<br>最終等級=%{customdata[3]}<extra></extra>",
         "legendgroup": "南葵中心2隊",
         "marker": {
          "color": "#17873f",
          "pattern": {
           "shape": ""
          }
         },
         "name": "南葵中心2隊",
         "offsetgroup": "南葵中心2隊",
         "orientation": "v",
         "showlegend": true,
         "textangle": 0,
         "textfont": {
          "size": 12
         },
         "textposition": "outside",
         "texttemplate": "%{y:.0f}",
         "type": "bar",
         "x": [
          "南葵中心2隊"
         ],
         "xaxis": "x",
         "y": [
          15
         ],
         "yaxis": "y"
        },
        {
         "alignmentgroup": "True",
         "cliponaxis": false,
         "customdata": [
          [
           10107.5458984375,
           23,
           47757.15234375,
           2,
           23
          ]
         ],
         "hovertemplate": "隊伍=%{x}<br>總到訪佔領點=%{y}<br>分數=%{customdata[0]}<br>總佔領次數=%{customdata[4]}<br>佔領時長=%{customdata[2]}<br>最終等級=%{customdata[3]}<extra></extra>",
         "legendgroup": "南葵中心1隊",
         "marker": {
          "color": "#25dc67",
          "pattern": {
           "shape": ""
          }
         },
         "name": "南葵中心1隊",
         "offsetgroup": "南葵中心1隊",
         "orientation": "v",
         "showlegend": true,
         "textangle": 0,
         "textfont": {
          "size": 12
         },
         "textposition": "outside",
         "texttemplate": "%{y:.0f}",
         "type": "bar",
         "x": [
          "南葵中心1隊"
         ],
         "xaxis": "x",
         "y": [
          17
         ],
         "yaxis": "y"
        }
       ],
       "layout": {
        "barmode": "relative",
        "legend": {
         "title": {
          "text": "隊伍"
         },
         "tracegroupgap": 0
        },
        "margin": {
         "t": 60
        },
        "template": {
         "data": {
          "bar": [
           {
            "error_x": {
             "color": "#2a3f5f"
            },
            "error_y": {
             "color": "#2a3f5f"
            },
            "marker": {
             "line": {
              "color": "#E5ECF6",
              "width": 0.5
             },
             "pattern": {
              "fillmode": "overlay",
              "size": 10,
              "solidity": 0.2
             }
            },
            "type": "bar"
           }
          ],
          "barpolar": [
           {
            "marker": {
             "line": {
              "color": "#E5ECF6",
              "width": 0.5
             },
             "pattern": {
              "fillmode": "overlay",
              "size": 10,
              "solidity": 0.2
             }
            },
            "type": "barpolar"
           }
          ],
          "carpet": [
           {
            "aaxis": {
             "endlinecolor": "#2a3f5f",
             "gridcolor": "white",
             "linecolor": "white",
             "minorgridcolor": "white",
             "startlinecolor": "#2a3f5f"
            },
            "baxis": {
             "endlinecolor": "#2a3f5f",
             "gridcolor": "white",
             "linecolor": "white",
             "minorgridcolor": "white",
             "startlinecolor": "#2a3f5f"
            },
            "type": "carpet"
           }
          ],
          "choropleth": [
           {
            "colorbar": {
             "outlinewidth": 0,
             "ticks": ""
            },
            "type": "choropleth"
           }
          ],
          "contour": [
           {
            "colorbar": {
             "outlinewidth": 0,
             "ticks": ""
            },
            "colorscale": [
             [
              0,
              "#0d0887"
             ],
             [
              0.1111111111111111,
              "#46039f"
             ],
             [
              0.2222222222222222,
              "#7201a8"
             ],
             [
              0.3333333333333333,
              "#9c179e"
             ],
             [
              0.4444444444444444,
              "#bd3786"
             ],
             [
              0.5555555555555556,
              "#d8576b"
             ],
             [
              0.6666666666666666,
              "#ed7953"
             ],
             [
              0.7777777777777778,
              "#fb9f3a"
             ],
             [
              0.8888888888888888,
              "#fdca26"
             ],
             [
              1,
              "#f0f921"
             ]
            ],
            "type": "contour"
           }
          ],
          "contourcarpet": [
           {
            "colorbar": {
             "outlinewidth": 0,
             "ticks": ""
            },
            "type": "contourcarpet"
           }
          ],
          "heatmap": [
           {
            "colorbar": {
             "outlinewidth": 0,
             "ticks": ""
            },
            "colorscale": [
             [
              0,
              "#0d0887"
             ],
             [
              0.1111111111111111,
              "#46039f"
             ],
             [
              0.2222222222222222,
              "#7201a8"
             ],
             [
              0.3333333333333333,
              "#9c179e"
             ],
             [
              0.4444444444444444,
              "#bd3786"
             ],
             [
              0.5555555555555556,
              "#d8576b"
             ],
             [
              0.6666666666666666,
              "#ed7953"
             ],
             [
              0.7777777777777778,
              "#fb9f3a"
             ],
             [
              0.8888888888888888,
              "#fdca26"
             ],
             [
              1,
              "#f0f921"
             ]
            ],
            "type": "heatmap"
           }
          ],
          "heatmapgl": [
           {
            "colorbar": {
             "outlinewidth": 0,
             "ticks": ""
            },
            "colorscale": [
             [
              0,
              "#0d0887"
             ],
             [
              0.1111111111111111,
              "#46039f"
             ],
             [
              0.2222222222222222,
              "#7201a8"
             ],
             [
              0.3333333333333333,
              "#9c179e"
             ],
             [
              0.4444444444444444,
              "#bd3786"
             ],
             [
              0.5555555555555556,
              "#d8576b"
             ],
             [
              0.6666666666666666,
              "#ed7953"
             ],
             [
              0.7777777777777778,
              "#fb9f3a"
             ],
             [
              0.8888888888888888,
              "#fdca26"
             ],
             [
              1,
              "#f0f921"
             ]
            ],
            "type": "heatmapgl"
           }
          ],
          "histogram": [
           {
            "marker": {
             "pattern": {
              "fillmode": "overlay",
              "size": 10,
              "solidity": 0.2
             }
            },
            "type": "histogram"
           }
          ],
          "histogram2d": [
           {
            "colorbar": {
             "outlinewidth": 0,
             "ticks": ""
            },
            "colorscale": [
             [
              0,
              "#0d0887"
             ],
             [
              0.1111111111111111,
              "#46039f"
             ],
             [
              0.2222222222222222,
              "#7201a8"
             ],
             [
              0.3333333333333333,
              "#9c179e"
             ],
             [
              0.4444444444444444,
              "#bd3786"
             ],
             [
              0.5555555555555556,
              "#d8576b"
             ],
             [
              0.6666666666666666,
              "#ed7953"
             ],
             [
              0.7777777777777778,
              "#fb9f3a"
             ],
             [
              0.8888888888888888,
              "#fdca26"
             ],
             [
              1,
              "#f0f921"
             ]
            ],
            "type": "histogram2d"
           }
          ],
          "histogram2dcontour": [
           {
            "colorbar": {
             "outlinewidth": 0,
             "ticks": ""
            },
            "colorscale": [
             [
              0,
              "#0d0887"
             ],
             [
              0.1111111111111111,
              "#46039f"
             ],
             [
              0.2222222222222222,
              "#7201a8"
             ],
             [
              0.3333333333333333,
              "#9c179e"
             ],
             [
              0.4444444444444444,
              "#bd3786"
             ],
             [
              0.5555555555555556,
              "#d8576b"
             ],
             [
              0.6666666666666666,
              "#ed7953"
             ],
             [
              0.7777777777777778,
              "#fb9f3a"
             ],
             [
              0.8888888888888888,
              "#fdca26"
             ],
             [
              1,
              "#f0f921"
             ]
            ],
            "type": "histogram2dcontour"
           }
          ],
          "mesh3d": [
           {
            "colorbar": {
             "outlinewidth": 0,
             "ticks": ""
            },
            "type": "mesh3d"
           }
          ],
          "parcoords": [
           {
            "line": {
             "colorbar": {
              "outlinewidth": 0,
              "ticks": ""
             }
            },
            "type": "parcoords"
           }
          ],
          "pie": [
           {
            "automargin": true,
            "type": "pie"
           }
          ],
          "scatter": [
           {
            "fillpattern": {
             "fillmode": "overlay",
             "size": 10,
             "solidity": 0.2
            },
            "type": "scatter"
           }
          ],
          "scatter3d": [
           {
            "line": {
             "colorbar": {
              "outlinewidth": 0,
              "ticks": ""
             }
            },
            "marker": {
             "colorbar": {
              "outlinewidth": 0,
              "ticks": ""
             }
            },
            "type": "scatter3d"
           }
          ],
          "scattercarpet": [
           {
            "marker": {
             "colorbar": {
              "outlinewidth": 0,
              "ticks": ""
             }
            },
            "type": "scattercarpet"
           }
          ],
          "scattergeo": [
           {
            "marker": {
             "colorbar": {
              "outlinewidth": 0,
              "ticks": ""
             }
            },
            "type": "scattergeo"
           }
          ],
          "scattergl": [
           {
            "marker": {
             "colorbar": {
              "outlinewidth": 0,
              "ticks": ""
             }
            },
            "type": "scattergl"
           }
          ],
          "scattermapbox": [
           {
            "marker": {
             "colorbar": {
              "outlinewidth": 0,
              "ticks": ""
             }
            },
            "type": "scattermapbox"
           }
          ],
          "scatterpolar": [
           {
            "marker": {
             "colorbar": {
              "outlinewidth": 0,
              "ticks": ""
             }
            },
            "type": "scatterpolar"
           }
          ],
          "scatterpolargl": [
           {
            "marker": {
             "colorbar": {
              "outlinewidth": 0,
              "ticks": ""
             }
            },
            "type": "scatterpolargl"
           }
          ],
          "scatterternary": [
           {
            "marker": {
             "colorbar": {
              "outlinewidth": 0,
              "ticks": ""
             }
            },
            "type": "scatterternary"
           }
          ],
          "surface": [
           {
            "colorbar": {
             "outlinewidth": 0,
             "ticks": ""
            },
            "colorscale": [
             [
              0,
              "#0d0887"
             ],
             [
              0.1111111111111111,
              "#46039f"
             ],
             [
              0.2222222222222222,
              "#7201a8"
             ],
             [
              0.3333333333333333,
              "#9c179e"
             ],
             [
              0.4444444444444444,
              "#bd3786"
             ],
             [
              0.5555555555555556,
              "#d8576b"
             ],
             [
              0.6666666666666666,
              "#ed7953"
             ],
             [
              0.7777777777777778,
              "#fb9f3a"
             ],
             [
              0.8888888888888888,
              "#fdca26"
             ],
             [
              1,
              "#f0f921"
             ]
            ],
            "type": "surface"
           }
          ],
          "table": [
           {
            "cells": {
             "fill": {
              "color": "#EBF0F8"
             },
             "line": {
              "color": "white"
             }
            },
            "header": {
             "fill": {
              "color": "#C8D4E3"
             },
             "line": {
              "color": "white"
             }
            },
            "type": "table"
           }
          ]
         },
         "layout": {
          "annotationdefaults": {
           "arrowcolor": "#2a3f5f",
           "arrowhead": 0,
           "arrowwidth": 1
          },
          "autotypenumbers": "strict",
          "coloraxis": {
           "colorbar": {
            "outlinewidth": 0,
            "ticks": ""
           }
          },
          "colorscale": {
           "diverging": [
            [
             0,
             "#8e0152"
            ],
            [
             0.1,
             "#c51b7d"
            ],
            [
             0.2,
             "#de77ae"
            ],
            [
             0.3,
             "#f1b6da"
            ],
            [
             0.4,
             "#fde0ef"
            ],
            [
             0.5,
             "#f7f7f7"
            ],
            [
             0.6,
             "#e6f5d0"
            ],
            [
             0.7,
             "#b8e186"
            ],
            [
             0.8,
             "#7fbc41"
            ],
            [
             0.9,
             "#4d9221"
            ],
            [
             1,
             "#276419"
            ]
           ],
           "sequential": [
            [
             0,
             "#0d0887"
            ],
            [
             0.1111111111111111,
             "#46039f"
            ],
            [
             0.2222222222222222,
             "#7201a8"
            ],
            [
             0.3333333333333333,
             "#9c179e"
            ],
            [
             0.4444444444444444,
             "#bd3786"
            ],
            [
             0.5555555555555556,
             "#d8576b"
            ],
            [
             0.6666666666666666,
             "#ed7953"
            ],
            [
             0.7777777777777778,
             "#fb9f3a"
            ],
            [
             0.8888888888888888,
             "#fdca26"
            ],
            [
             1,
             "#f0f921"
            ]
           ],
           "sequentialminus": [
            [
             0,
             "#0d0887"
            ],
            [
             0.1111111111111111,
             "#46039f"
            ],
            [
             0.2222222222222222,
             "#7201a8"
            ],
            [
             0.3333333333333333,
             "#9c179e"
            ],
            [
             0.4444444444444444,
             "#bd3786"
            ],
            [
             0.5555555555555556,
             "#d8576b"
            ],
            [
             0.6666666666666666,
             "#ed7953"
            ],
            [
             0.7777777777777778,
             "#fb9f3a"
            ],
            [
             0.8888888888888888,
             "#fdca26"
            ],
            [
             1,
             "#f0f921"
            ]
           ]
          },
          "colorway": [
           "#636efa",
           "#EF553B",
           "#00cc96",
           "#ab63fa",
           "#FFA15A",
           "#19d3f3",
           "#FF6692",
           "#B6E880",
           "#FF97FF",
           "#FECB52"
          ],
          "font": {
           "color": "#2a3f5f"
          },
          "geo": {
           "bgcolor": "white",
           "lakecolor": "white",
           "landcolor": "#E5ECF6",
           "showlakes": true,
           "showland": true,
           "subunitcolor": "white"
          },
          "hoverlabel": {
           "align": "left"
          },
          "hovermode": "closest",
          "mapbox": {
           "style": "light"
          },
          "paper_bgcolor": "white",
          "plot_bgcolor": "#E5ECF6",
          "polar": {
           "angularaxis": {
            "gridcolor": "white",
            "linecolor": "white",
            "ticks": ""
           },
           "bgcolor": "#E5ECF6",
           "radialaxis": {
            "gridcolor": "white",
            "linecolor": "white",
            "ticks": ""
           }
          },
          "scene": {
           "xaxis": {
            "backgroundcolor": "#E5ECF6",
            "gridcolor": "white",
            "gridwidth": 2,
            "linecolor": "white",
            "showbackground": true,
            "ticks": "",
            "zerolinecolor": "white"
           },
           "yaxis": {
            "backgroundcolor": "#E5ECF6",
            "gridcolor": "white",
            "gridwidth": 2,
            "linecolor": "white",
            "showbackground": true,
            "ticks": "",
            "zerolinecolor": "white"
           },
           "zaxis": {
            "backgroundcolor": "#E5ECF6",
            "gridcolor": "white",
            "gridwidth": 2,
            "linecolor": "white",
            "showbackground": true,
            "ticks": "",
            "zerolinecolor": "white"
           }
          },
          "shapedefaults": {
           "line": {
            "color": "#2a3f5f"
           }
          },
          "ternary": {
           "aaxis": {
            "gridcolor": "white",
            "linecolor": "white",
            "ticks": ""
           },
           "baxis": {
            "gridcolor": "white",
            "linecolor": "white",
            "ticks": ""
           },
           "bgcolor": "#E5ECF6",
           "caxis": {
            "gridcolor": "white",
            "linecolor": "white",
            "ticks": ""
           }
          },
          "title": {
           "x": 0.05
          },
          "xaxis": {
           "automargin": true,
           "gridcolor": "white",
           "linecolor": "white",
           "ticks": "",
           "title": {
            "standoff": 15
           },
           "zerolinecolor": "white",
           "zerolinewidth": 2
          },
          "yaxis": {
           "automargin": true,
           "gridcolor": "white",
           "linecolor": "white",
           "ticks": "",
           "title": {
            "standoff": 15
           },
           "zerolinecolor": "white",
           "zerolinewidth": 2
          }
         }
        },
        "title": {
         "text": "總到訪佔領點 <br><sup>隊伍到訪了多少個不同的佔領點</sup>",
         "x": 0.5
        },
        "width": 800,
        "xaxis": {
         "anchor": "y",
         "categoryarray": [
          "南區中心2隊",
          "南區中心1隊",
          "上環中心隊",
          "南葵中心3隊",
          "南葵中心4隊",
          "上環/將軍澳中心隊",
          "石蔭中心隊",
          "南葵中心2隊",
          "南葵中心1隊"
         ],
         "categoryorder": "array",
         "domain": [
          0,
          1
         ],
         "title": {
          "text": "隊伍"
         }
        },
        "yaxis": {
         "anchor": "x",
         "domain": [
          0,
          1
         ],
         "title": {
          "text": "總到訪佔領點"
         }
        }
       }
      }
     },
     "metadata": {},
     "output_type": "display_data"
    }
   ],
   "source": [
    "fig = px.bar(\n",
    "    users_df.sort('total_captured_unique'), \n",
    "    x='name', \n",
    "    y='total_captured_unique', \n",
    "    hover_data=['name', 'score', 'total_captured', 'duration', 'final_level', 'total_captured', 'total_captured_unique'], \n",
    "    labels={\n",
    "        'name': \"隊伍\",\n",
    "        'score': \"分數\",\n",
    "        'score_offset': \"分數\",\n",
    "        'total_captured': \"總佔領次數\",\n",
    "        'final_level': \"最終等級\",\n",
    "        'duration': \"佔領時長\",\n",
    "        'total_captured': \"總佔領次數\",\n",
    "        'total_captured_unique': \"總到訪佔領點\"\n",
    "    }, \n",
    "    color='name', \n",
    "    color_discrete_map=color_discrete_map, \n",
    "    text_auto='.0f',\n",
    "    width=800,\n",
    ")\n",
    "\n",
    "fig.update_traces(textfont_size=12, textangle=0, textposition=\"outside\", cliponaxis=False)\n",
    "fig.update_layout(title_text='總到訪佔領點 <br><sup>隊伍到訪了多少個不同的佔領點</sup>', title_x=0.5)\n",
    "\n",
    "fig.show()"
   ]
  },
  {
   "cell_type": "code",
   "execution_count": 18,
   "metadata": {},
   "outputs": [
    {
     "data": {
      "text/html": [
       "<div><style>\n",
       ".dataframe > thead > tr,\n",
       ".dataframe > tbody > tr {\n",
       "  text-align: right;\n",
       "  white-space: pre-wrap;\n",
       "}\n",
       "</style>\n",
       "<small>shape: (9, 2)</small><table border=\"1\" class=\"dataframe\"><thead><tr><th>statistic</th><th>value</th></tr><tr><td>str</td><td>f64</td></tr></thead><tbody><tr><td>&quot;count&quot;</td><td>9.0</td></tr><tr><td>&quot;null_count&quot;</td><td>0.0</td></tr><tr><td>&quot;mean&quot;</td><td>17606.554688</td></tr><tr><td>&quot;std&quot;</td><td>19412.121094</td></tr><tr><td>&quot;min&quot;</td><td>0.0</td></tr><tr><td>&quot;25%&quot;</td><td>6006.617188</td></tr><tr><td>&quot;50%&quot;</td><td>10107.545898</td></tr><tr><td>&quot;75%&quot;</td><td>15474.444336</td></tr><tr><td>&quot;max&quot;</td><td>55591.414062</td></tr></tbody></table></div>"
      ],
      "text/plain": [
       "shape: (9, 2)\n",
       "┌────────────┬──────────────┐\n",
       "│ statistic  ┆ value        │\n",
       "│ ---        ┆ ---          │\n",
       "│ str        ┆ f64          │\n",
       "╞════════════╪══════════════╡\n",
       "│ count      ┆ 9.0          │\n",
       "│ null_count ┆ 0.0          │\n",
       "│ mean       ┆ 17606.554688 │\n",
       "│ std        ┆ 19412.121094 │\n",
       "│ min        ┆ 0.0          │\n",
       "│ 25%        ┆ 6006.617188  │\n",
       "│ 50%        ┆ 10107.545898 │\n",
       "│ 75%        ┆ 15474.444336 │\n",
       "│ max        ┆ 55591.414062 │\n",
       "└────────────┴──────────────┘"
      ]
     },
     "execution_count": 18,
     "metadata": {},
     "output_type": "execute_result"
    }
   ],
   "source": [
    "users_df['score'].describe()"
   ]
  },
  {
   "cell_type": "code",
   "execution_count": 19,
   "metadata": {},
   "outputs": [
    {
     "data": {
      "application/vnd.plotly.v1+json": {
       "config": {
        "plotlyServerURL": "https://plot.ly"
       },
       "data": [
        {
         "alignmentgroup": "True",
         "boxpoints": "all",
         "hovertemplate": "分數=%{y}<extra></extra>",
         "legendgroup": "",
         "marker": {
          "color": "#636efa"
         },
         "name": "",
         "notched": false,
         "offsetgroup": "",
         "orientation": "v",
         "showlegend": false,
         "type": "box",
         "x0": " ",
         "xaxis": "x",
         "y": [
          55591.4140625,
          44894.796875,
          15474.4443359375,
          15448.828125,
          10107.5458984375,
          8818.41796875,
          6006.6171875,
          2116.935791015625,
          0
         ],
         "y0": " ",
         "yaxis": "y"
        }
       ],
       "layout": {
        "boxmode": "group",
        "legend": {
         "tracegroupgap": 0
        },
        "margin": {
         "t": 60
        },
        "template": {
         "data": {
          "bar": [
           {
            "error_x": {
             "color": "#2a3f5f"
            },
            "error_y": {
             "color": "#2a3f5f"
            },
            "marker": {
             "line": {
              "color": "#E5ECF6",
              "width": 0.5
             },
             "pattern": {
              "fillmode": "overlay",
              "size": 10,
              "solidity": 0.2
             }
            },
            "type": "bar"
           }
          ],
          "barpolar": [
           {
            "marker": {
             "line": {
              "color": "#E5ECF6",
              "width": 0.5
             },
             "pattern": {
              "fillmode": "overlay",
              "size": 10,
              "solidity": 0.2
             }
            },
            "type": "barpolar"
           }
          ],
          "carpet": [
           {
            "aaxis": {
             "endlinecolor": "#2a3f5f",
             "gridcolor": "white",
             "linecolor": "white",
             "minorgridcolor": "white",
             "startlinecolor": "#2a3f5f"
            },
            "baxis": {
             "endlinecolor": "#2a3f5f",
             "gridcolor": "white",
             "linecolor": "white",
             "minorgridcolor": "white",
             "startlinecolor": "#2a3f5f"
            },
            "type": "carpet"
           }
          ],
          "choropleth": [
           {
            "colorbar": {
             "outlinewidth": 0,
             "ticks": ""
            },
            "type": "choropleth"
           }
          ],
          "contour": [
           {
            "colorbar": {
             "outlinewidth": 0,
             "ticks": ""
            },
            "colorscale": [
             [
              0,
              "#0d0887"
             ],
             [
              0.1111111111111111,
              "#46039f"
             ],
             [
              0.2222222222222222,
              "#7201a8"
             ],
             [
              0.3333333333333333,
              "#9c179e"
             ],
             [
              0.4444444444444444,
              "#bd3786"
             ],
             [
              0.5555555555555556,
              "#d8576b"
             ],
             [
              0.6666666666666666,
              "#ed7953"
             ],
             [
              0.7777777777777778,
              "#fb9f3a"
             ],
             [
              0.8888888888888888,
              "#fdca26"
             ],
             [
              1,
              "#f0f921"
             ]
            ],
            "type": "contour"
           }
          ],
          "contourcarpet": [
           {
            "colorbar": {
             "outlinewidth": 0,
             "ticks": ""
            },
            "type": "contourcarpet"
           }
          ],
          "heatmap": [
           {
            "colorbar": {
             "outlinewidth": 0,
             "ticks": ""
            },
            "colorscale": [
             [
              0,
              "#0d0887"
             ],
             [
              0.1111111111111111,
              "#46039f"
             ],
             [
              0.2222222222222222,
              "#7201a8"
             ],
             [
              0.3333333333333333,
              "#9c179e"
             ],
             [
              0.4444444444444444,
              "#bd3786"
             ],
             [
              0.5555555555555556,
              "#d8576b"
             ],
             [
              0.6666666666666666,
              "#ed7953"
             ],
             [
              0.7777777777777778,
              "#fb9f3a"
             ],
             [
              0.8888888888888888,
              "#fdca26"
             ],
             [
              1,
              "#f0f921"
             ]
            ],
            "type": "heatmap"
           }
          ],
          "heatmapgl": [
           {
            "colorbar": {
             "outlinewidth": 0,
             "ticks": ""
            },
            "colorscale": [
             [
              0,
              "#0d0887"
             ],
             [
              0.1111111111111111,
              "#46039f"
             ],
             [
              0.2222222222222222,
              "#7201a8"
             ],
             [
              0.3333333333333333,
              "#9c179e"
             ],
             [
              0.4444444444444444,
              "#bd3786"
             ],
             [
              0.5555555555555556,
              "#d8576b"
             ],
             [
              0.6666666666666666,
              "#ed7953"
             ],
             [
              0.7777777777777778,
              "#fb9f3a"
             ],
             [
              0.8888888888888888,
              "#fdca26"
             ],
             [
              1,
              "#f0f921"
             ]
            ],
            "type": "heatmapgl"
           }
          ],
          "histogram": [
           {
            "marker": {
             "pattern": {
              "fillmode": "overlay",
              "size": 10,
              "solidity": 0.2
             }
            },
            "type": "histogram"
           }
          ],
          "histogram2d": [
           {
            "colorbar": {
             "outlinewidth": 0,
             "ticks": ""
            },
            "colorscale": [
             [
              0,
              "#0d0887"
             ],
             [
              0.1111111111111111,
              "#46039f"
             ],
             [
              0.2222222222222222,
              "#7201a8"
             ],
             [
              0.3333333333333333,
              "#9c179e"
             ],
             [
              0.4444444444444444,
              "#bd3786"
             ],
             [
              0.5555555555555556,
              "#d8576b"
             ],
             [
              0.6666666666666666,
              "#ed7953"
             ],
             [
              0.7777777777777778,
              "#fb9f3a"
             ],
             [
              0.8888888888888888,
              "#fdca26"
             ],
             [
              1,
              "#f0f921"
             ]
            ],
            "type": "histogram2d"
           }
          ],
          "histogram2dcontour": [
           {
            "colorbar": {
             "outlinewidth": 0,
             "ticks": ""
            },
            "colorscale": [
             [
              0,
              "#0d0887"
             ],
             [
              0.1111111111111111,
              "#46039f"
             ],
             [
              0.2222222222222222,
              "#7201a8"
             ],
             [
              0.3333333333333333,
              "#9c179e"
             ],
             [
              0.4444444444444444,
              "#bd3786"
             ],
             [
              0.5555555555555556,
              "#d8576b"
             ],
             [
              0.6666666666666666,
              "#ed7953"
             ],
             [
              0.7777777777777778,
              "#fb9f3a"
             ],
             [
              0.8888888888888888,
              "#fdca26"
             ],
             [
              1,
              "#f0f921"
             ]
            ],
            "type": "histogram2dcontour"
           }
          ],
          "mesh3d": [
           {
            "colorbar": {
             "outlinewidth": 0,
             "ticks": ""
            },
            "type": "mesh3d"
           }
          ],
          "parcoords": [
           {
            "line": {
             "colorbar": {
              "outlinewidth": 0,
              "ticks": ""
             }
            },
            "type": "parcoords"
           }
          ],
          "pie": [
           {
            "automargin": true,
            "type": "pie"
           }
          ],
          "scatter": [
           {
            "fillpattern": {
             "fillmode": "overlay",
             "size": 10,
             "solidity": 0.2
            },
            "type": "scatter"
           }
          ],
          "scatter3d": [
           {
            "line": {
             "colorbar": {
              "outlinewidth": 0,
              "ticks": ""
             }
            },
            "marker": {
             "colorbar": {
              "outlinewidth": 0,
              "ticks": ""
             }
            },
            "type": "scatter3d"
           }
          ],
          "scattercarpet": [
           {
            "marker": {
             "colorbar": {
              "outlinewidth": 0,
              "ticks": ""
             }
            },
            "type": "scattercarpet"
           }
          ],
          "scattergeo": [
           {
            "marker": {
             "colorbar": {
              "outlinewidth": 0,
              "ticks": ""
             }
            },
            "type": "scattergeo"
           }
          ],
          "scattergl": [
           {
            "marker": {
             "colorbar": {
              "outlinewidth": 0,
              "ticks": ""
             }
            },
            "type": "scattergl"
           }
          ],
          "scattermapbox": [
           {
            "marker": {
             "colorbar": {
              "outlinewidth": 0,
              "ticks": ""
             }
            },
            "type": "scattermapbox"
           }
          ],
          "scatterpolar": [
           {
            "marker": {
             "colorbar": {
              "outlinewidth": 0,
              "ticks": ""
             }
            },
            "type": "scatterpolar"
           }
          ],
          "scatterpolargl": [
           {
            "marker": {
             "colorbar": {
              "outlinewidth": 0,
              "ticks": ""
             }
            },
            "type": "scatterpolargl"
           }
          ],
          "scatterternary": [
           {
            "marker": {
             "colorbar": {
              "outlinewidth": 0,
              "ticks": ""
             }
            },
            "type": "scatterternary"
           }
          ],
          "surface": [
           {
            "colorbar": {
             "outlinewidth": 0,
             "ticks": ""
            },
            "colorscale": [
             [
              0,
              "#0d0887"
             ],
             [
              0.1111111111111111,
              "#46039f"
             ],
             [
              0.2222222222222222,
              "#7201a8"
             ],
             [
              0.3333333333333333,
              "#9c179e"
             ],
             [
              0.4444444444444444,
              "#bd3786"
             ],
             [
              0.5555555555555556,
              "#d8576b"
             ],
             [
              0.6666666666666666,
              "#ed7953"
             ],
             [
              0.7777777777777778,
              "#fb9f3a"
             ],
             [
              0.8888888888888888,
              "#fdca26"
             ],
             [
              1,
              "#f0f921"
             ]
            ],
            "type": "surface"
           }
          ],
          "table": [
           {
            "cells": {
             "fill": {
              "color": "#EBF0F8"
             },
             "line": {
              "color": "white"
             }
            },
            "header": {
             "fill": {
              "color": "#C8D4E3"
             },
             "line": {
              "color": "white"
             }
            },
            "type": "table"
           }
          ]
         },
         "layout": {
          "annotationdefaults": {
           "arrowcolor": "#2a3f5f",
           "arrowhead": 0,
           "arrowwidth": 1
          },
          "autotypenumbers": "strict",
          "coloraxis": {
           "colorbar": {
            "outlinewidth": 0,
            "ticks": ""
           }
          },
          "colorscale": {
           "diverging": [
            [
             0,
             "#8e0152"
            ],
            [
             0.1,
             "#c51b7d"
            ],
            [
             0.2,
             "#de77ae"
            ],
            [
             0.3,
             "#f1b6da"
            ],
            [
             0.4,
             "#fde0ef"
            ],
            [
             0.5,
             "#f7f7f7"
            ],
            [
             0.6,
             "#e6f5d0"
            ],
            [
             0.7,
             "#b8e186"
            ],
            [
             0.8,
             "#7fbc41"
            ],
            [
             0.9,
             "#4d9221"
            ],
            [
             1,
             "#276419"
            ]
           ],
           "sequential": [
            [
             0,
             "#0d0887"
            ],
            [
             0.1111111111111111,
             "#46039f"
            ],
            [
             0.2222222222222222,
             "#7201a8"
            ],
            [
             0.3333333333333333,
             "#9c179e"
            ],
            [
             0.4444444444444444,
             "#bd3786"
            ],
            [
             0.5555555555555556,
             "#d8576b"
            ],
            [
             0.6666666666666666,
             "#ed7953"
            ],
            [
             0.7777777777777778,
             "#fb9f3a"
            ],
            [
             0.8888888888888888,
             "#fdca26"
            ],
            [
             1,
             "#f0f921"
            ]
           ],
           "sequentialminus": [
            [
             0,
             "#0d0887"
            ],
            [
             0.1111111111111111,
             "#46039f"
            ],
            [
             0.2222222222222222,
             "#7201a8"
            ],
            [
             0.3333333333333333,
             "#9c179e"
            ],
            [
             0.4444444444444444,
             "#bd3786"
            ],
            [
             0.5555555555555556,
             "#d8576b"
            ],
            [
             0.6666666666666666,
             "#ed7953"
            ],
            [
             0.7777777777777778,
             "#fb9f3a"
            ],
            [
             0.8888888888888888,
             "#fdca26"
            ],
            [
             1,
             "#f0f921"
            ]
           ]
          },
          "colorway": [
           "#636efa",
           "#EF553B",
           "#00cc96",
           "#ab63fa",
           "#FFA15A",
           "#19d3f3",
           "#FF6692",
           "#B6E880",
           "#FF97FF",
           "#FECB52"
          ],
          "font": {
           "color": "#2a3f5f"
          },
          "geo": {
           "bgcolor": "white",
           "lakecolor": "white",
           "landcolor": "#E5ECF6",
           "showlakes": true,
           "showland": true,
           "subunitcolor": "white"
          },
          "hoverlabel": {
           "align": "left"
          },
          "hovermode": "closest",
          "mapbox": {
           "style": "light"
          },
          "paper_bgcolor": "white",
          "plot_bgcolor": "#E5ECF6",
          "polar": {
           "angularaxis": {
            "gridcolor": "white",
            "linecolor": "white",
            "ticks": ""
           },
           "bgcolor": "#E5ECF6",
           "radialaxis": {
            "gridcolor": "white",
            "linecolor": "white",
            "ticks": ""
           }
          },
          "scene": {
           "xaxis": {
            "backgroundcolor": "#E5ECF6",
            "gridcolor": "white",
            "gridwidth": 2,
            "linecolor": "white",
            "showbackground": true,
            "ticks": "",
            "zerolinecolor": "white"
           },
           "yaxis": {
            "backgroundcolor": "#E5ECF6",
            "gridcolor": "white",
            "gridwidth": 2,
            "linecolor": "white",
            "showbackground": true,
            "ticks": "",
            "zerolinecolor": "white"
           },
           "zaxis": {
            "backgroundcolor": "#E5ECF6",
            "gridcolor": "white",
            "gridwidth": 2,
            "linecolor": "white",
            "showbackground": true,
            "ticks": "",
            "zerolinecolor": "white"
           }
          },
          "shapedefaults": {
           "line": {
            "color": "#2a3f5f"
           }
          },
          "ternary": {
           "aaxis": {
            "gridcolor": "white",
            "linecolor": "white",
            "ticks": ""
           },
           "baxis": {
            "gridcolor": "white",
            "linecolor": "white",
            "ticks": ""
           },
           "bgcolor": "#E5ECF6",
           "caxis": {
            "gridcolor": "white",
            "linecolor": "white",
            "ticks": ""
           }
          },
          "title": {
           "x": 0.05
          },
          "xaxis": {
           "automargin": true,
           "gridcolor": "white",
           "linecolor": "white",
           "ticks": "",
           "title": {
            "standoff": 15
           },
           "zerolinecolor": "white",
           "zerolinewidth": 2
          },
          "yaxis": {
           "automargin": true,
           "gridcolor": "white",
           "linecolor": "white",
           "ticks": "",
           "title": {
            "standoff": 15
           },
           "zerolinecolor": "white",
           "zerolinewidth": 2
          }
         }
        },
        "title": {
         "text": "分數分布",
         "x": 0.5
        },
        "width": 400,
        "xaxis": {
         "anchor": "y",
         "domain": [
          0,
          1
         ]
        },
        "yaxis": {
         "anchor": "x",
         "domain": [
          0,
          1
         ],
         "title": {
          "text": "分數"
         }
        }
       }
      }
     },
     "metadata": {},
     "output_type": "display_data"
    }
   ],
   "source": [
    "df = px.data.tips()\n",
    "fig = px.box(\n",
    "    users_df, \n",
    "    y=\"score\",\n",
    "    points=\"all\",\n",
    "    width=400,\n",
    "    labels={\n",
    "        'score': \"分數\",\n",
    "    }\n",
    ")\n",
    "\n",
    "fig.update_layout(title_text='分數分布', title_x=0.5)\n",
    "\n",
    "fig.show()"
   ]
  },
  {
   "cell_type": "code",
   "execution_count": 20,
   "metadata": {},
   "outputs": [
    {
     "data": {
      "application/vnd.plotly.v1+json": {
       "config": {
        "plotlyServerURL": "https://plot.ly"
       },
       "data": [
        {
         "customdata": [
          [
           "南葵中心3隊",
           19,
           3
          ]
         ],
         "hovertemplate": "隊伍=%{customdata[0]}<br>佔領時長=%{x}<br>分數=%{y}<br>總佔領次數=%{customdata[1]}<br>最終等級=%{customdata[2]}<extra></extra>",
         "legendgroup": "南葵中心3隊",
         "marker": {
          "color": "#ea3323",
          "symbol": "circle"
         },
         "mode": "markers",
         "name": "南葵中心3隊",
         "orientation": "v",
         "showlegend": true,
         "type": "scatter",
         "x": [
          46675.9140625
         ],
         "xaxis": "x",
         "y": [
          55591.4140625
         ],
         "yaxis": "y"
        },
        {
         "customdata": [
          [
           "南葵中心4隊",
           26,
           3
          ]
         ],
         "hovertemplate": "隊伍=%{customdata[0]}<br>佔領時長=%{x}<br>分數=%{y}<br>總佔領次數=%{customdata[1]}<br>最終等級=%{customdata[2]}<extra></extra>",
         "legendgroup": "南葵中心4隊",
         "marker": {
          "color": "#ff8b00",
          "symbol": "circle"
         },
         "mode": "markers",
         "name": "南葵中心4隊",
         "orientation": "v",
         "showlegend": true,
         "type": "scatter",
         "x": [
          77038.2890625
         ],
         "xaxis": "x",
         "y": [
          44894.796875
         ],
         "yaxis": "y"
        },
        {
         "customdata": [
          [
           "上環/將軍澳中心隊",
           12,
           3
          ]
         ],
         "hovertemplate": "隊伍=%{customdata[0]}<br>佔領時長=%{x}<br>分數=%{y}<br>總佔領次數=%{customdata[1]}<br>最終等級=%{customdata[2]}<extra></extra>",
         "legendgroup": "上環/將軍澳中心隊",
         "marker": {
          "color": "#febb26",
          "symbol": "circle"
         },
         "mode": "markers",
         "name": "上環/將軍澳中心隊",
         "orientation": "v",
         "showlegend": true,
         "type": "scatter",
         "x": [
          44609.16015625
         ],
         "xaxis": "x",
         "y": [
          15474.4443359375
         ],
         "yaxis": "y"
        },
        {
         "customdata": [
          [
           "南葵中心2隊",
           15,
           2
          ]
         ],
         "hovertemplate": "隊伍=%{customdata[0]}<br>佔領時長=%{x}<br>分數=%{y}<br>總佔領次數=%{customdata[1]}<br>最終等級=%{customdata[2]}<extra></extra>",
         "legendgroup": "南葵中心2隊",
         "marker": {
          "color": "#17873f",
          "symbol": "circle"
         },
         "mode": "markers",
         "name": "南葵中心2隊",
         "orientation": "v",
         "showlegend": true,
         "type": "scatter",
         "x": [
          46435.5078125
         ],
         "xaxis": "x",
         "y": [
          15448.828125
         ],
         "yaxis": "y"
        },
        {
         "customdata": [
          [
           "南葵中心1隊",
           23,
           2
          ]
         ],
         "hovertemplate": "隊伍=%{customdata[0]}<br>佔領時長=%{x}<br>分數=%{y}<br>總佔領次數=%{customdata[1]}<br>最終等級=%{customdata[2]}<extra></extra>",
         "legendgroup": "南葵中心1隊",
         "marker": {
          "color": "#25dc67",
          "symbol": "circle"
         },
         "mode": "markers",
         "name": "南葵中心1隊",
         "orientation": "v",
         "showlegend": true,
         "type": "scatter",
         "x": [
          47757.15234375
         ],
         "xaxis": "x",
         "y": [
          10107.5458984375
         ],
         "yaxis": "y"
        },
        {
         "customdata": [
          [
           "南區中心1隊",
           2,
           3
          ]
         ],
         "hovertemplate": "隊伍=%{customdata[0]}<br>佔領時長=%{x}<br>分數=%{y}<br>總佔領次數=%{customdata[1]}<br>最終等級=%{customdata[2]}<extra></extra>",
         "legendgroup": "南區中心1隊",
         "marker": {
          "color": "#4f7af9",
          "symbol": "circle"
         },
         "mode": "markers",
         "name": "南區中心1隊",
         "orientation": "v",
         "showlegend": true,
         "type": "scatter",
         "x": [
          3527.366943359375
         ],
         "xaxis": "x",
         "y": [
          8818.41796875
         ],
         "yaxis": "y"
        },
        {
         "customdata": [
          [
           "上環中心隊",
           7,
           3
          ]
         ],
         "hovertemplate": "隊伍=%{customdata[0]}<br>佔領時長=%{x}<br>分數=%{y}<br>總佔領次數=%{customdata[1]}<br>最終等級=%{customdata[2]}<extra></extra>",
         "legendgroup": "上環中心隊",
         "marker": {
          "color": "#9c78fe",
          "symbol": "circle"
         },
         "mode": "markers",
         "name": "上環中心隊",
         "orientation": "v",
         "showlegend": true,
         "type": "scatter",
         "x": [
          5870.3251953125
         ],
         "xaxis": "x",
         "y": [
          6006.6171875
         ],
         "yaxis": "y"
        },
        {
         "customdata": [
          [
           "石蔭中心隊",
           13,
           3
          ]
         ],
         "hovertemplate": "隊伍=%{customdata[0]}<br>佔領時長=%{x}<br>分數=%{y}<br>總佔領次數=%{customdata[1]}<br>最終等級=%{customdata[2]}<extra></extra>",
         "legendgroup": "石蔭中心隊",
         "marker": {
          "color": "#ffccdd",
          "symbol": "circle"
         },
         "mode": "markers",
         "name": "石蔭中心隊",
         "orientation": "v",
         "showlegend": true,
         "type": "scatter",
         "x": [
          27650.966796875
         ],
         "xaxis": "x",
         "y": [
          2116.935791015625
         ],
         "yaxis": "y"
        },
        {
         "customdata": [
          [
           "南區中心2隊",
           0,
           1
          ]
         ],
         "hovertemplate": "隊伍=%{customdata[0]}<br>佔領時長=%{x}<br>分數=%{y}<br>總佔領次數=%{customdata[1]}<br>最終等級=%{customdata[2]}<extra></extra>",
         "legendgroup": "南區中心2隊",
         "marker": {
          "color": "#ffffff",
          "symbol": "circle"
         },
         "mode": "markers",
         "name": "南區中心2隊",
         "orientation": "v",
         "showlegend": true,
         "type": "scatter",
         "x": [
          0
         ],
         "xaxis": "x",
         "y": [
          0
         ],
         "yaxis": "y"
        }
       ],
       "layout": {
        "height": 500,
        "legend": {
         "title": {
          "text": "隊伍"
         },
         "tracegroupgap": 0
        },
        "margin": {
         "t": 60
        },
        "template": {
         "data": {
          "bar": [
           {
            "error_x": {
             "color": "#2a3f5f"
            },
            "error_y": {
             "color": "#2a3f5f"
            },
            "marker": {
             "line": {
              "color": "#E5ECF6",
              "width": 0.5
             },
             "pattern": {
              "fillmode": "overlay",
              "size": 10,
              "solidity": 0.2
             }
            },
            "type": "bar"
           }
          ],
          "barpolar": [
           {
            "marker": {
             "line": {
              "color": "#E5ECF6",
              "width": 0.5
             },
             "pattern": {
              "fillmode": "overlay",
              "size": 10,
              "solidity": 0.2
             }
            },
            "type": "barpolar"
           }
          ],
          "carpet": [
           {
            "aaxis": {
             "endlinecolor": "#2a3f5f",
             "gridcolor": "white",
             "linecolor": "white",
             "minorgridcolor": "white",
             "startlinecolor": "#2a3f5f"
            },
            "baxis": {
             "endlinecolor": "#2a3f5f",
             "gridcolor": "white",
             "linecolor": "white",
             "minorgridcolor": "white",
             "startlinecolor": "#2a3f5f"
            },
            "type": "carpet"
           }
          ],
          "choropleth": [
           {
            "colorbar": {
             "outlinewidth": 0,
             "ticks": ""
            },
            "type": "choropleth"
           }
          ],
          "contour": [
           {
            "colorbar": {
             "outlinewidth": 0,
             "ticks": ""
            },
            "colorscale": [
             [
              0,
              "#0d0887"
             ],
             [
              0.1111111111111111,
              "#46039f"
             ],
             [
              0.2222222222222222,
              "#7201a8"
             ],
             [
              0.3333333333333333,
              "#9c179e"
             ],
             [
              0.4444444444444444,
              "#bd3786"
             ],
             [
              0.5555555555555556,
              "#d8576b"
             ],
             [
              0.6666666666666666,
              "#ed7953"
             ],
             [
              0.7777777777777778,
              "#fb9f3a"
             ],
             [
              0.8888888888888888,
              "#fdca26"
             ],
             [
              1,
              "#f0f921"
             ]
            ],
            "type": "contour"
           }
          ],
          "contourcarpet": [
           {
            "colorbar": {
             "outlinewidth": 0,
             "ticks": ""
            },
            "type": "contourcarpet"
           }
          ],
          "heatmap": [
           {
            "colorbar": {
             "outlinewidth": 0,
             "ticks": ""
            },
            "colorscale": [
             [
              0,
              "#0d0887"
             ],
             [
              0.1111111111111111,
              "#46039f"
             ],
             [
              0.2222222222222222,
              "#7201a8"
             ],
             [
              0.3333333333333333,
              "#9c179e"
             ],
             [
              0.4444444444444444,
              "#bd3786"
             ],
             [
              0.5555555555555556,
              "#d8576b"
             ],
             [
              0.6666666666666666,
              "#ed7953"
             ],
             [
              0.7777777777777778,
              "#fb9f3a"
             ],
             [
              0.8888888888888888,
              "#fdca26"
             ],
             [
              1,
              "#f0f921"
             ]
            ],
            "type": "heatmap"
           }
          ],
          "heatmapgl": [
           {
            "colorbar": {
             "outlinewidth": 0,
             "ticks": ""
            },
            "colorscale": [
             [
              0,
              "#0d0887"
             ],
             [
              0.1111111111111111,
              "#46039f"
             ],
             [
              0.2222222222222222,
              "#7201a8"
             ],
             [
              0.3333333333333333,
              "#9c179e"
             ],
             [
              0.4444444444444444,
              "#bd3786"
             ],
             [
              0.5555555555555556,
              "#d8576b"
             ],
             [
              0.6666666666666666,
              "#ed7953"
             ],
             [
              0.7777777777777778,
              "#fb9f3a"
             ],
             [
              0.8888888888888888,
              "#fdca26"
             ],
             [
              1,
              "#f0f921"
             ]
            ],
            "type": "heatmapgl"
           }
          ],
          "histogram": [
           {
            "marker": {
             "pattern": {
              "fillmode": "overlay",
              "size": 10,
              "solidity": 0.2
             }
            },
            "type": "histogram"
           }
          ],
          "histogram2d": [
           {
            "colorbar": {
             "outlinewidth": 0,
             "ticks": ""
            },
            "colorscale": [
             [
              0,
              "#0d0887"
             ],
             [
              0.1111111111111111,
              "#46039f"
             ],
             [
              0.2222222222222222,
              "#7201a8"
             ],
             [
              0.3333333333333333,
              "#9c179e"
             ],
             [
              0.4444444444444444,
              "#bd3786"
             ],
             [
              0.5555555555555556,
              "#d8576b"
             ],
             [
              0.6666666666666666,
              "#ed7953"
             ],
             [
              0.7777777777777778,
              "#fb9f3a"
             ],
             [
              0.8888888888888888,
              "#fdca26"
             ],
             [
              1,
              "#f0f921"
             ]
            ],
            "type": "histogram2d"
           }
          ],
          "histogram2dcontour": [
           {
            "colorbar": {
             "outlinewidth": 0,
             "ticks": ""
            },
            "colorscale": [
             [
              0,
              "#0d0887"
             ],
             [
              0.1111111111111111,
              "#46039f"
             ],
             [
              0.2222222222222222,
              "#7201a8"
             ],
             [
              0.3333333333333333,
              "#9c179e"
             ],
             [
              0.4444444444444444,
              "#bd3786"
             ],
             [
              0.5555555555555556,
              "#d8576b"
             ],
             [
              0.6666666666666666,
              "#ed7953"
             ],
             [
              0.7777777777777778,
              "#fb9f3a"
             ],
             [
              0.8888888888888888,
              "#fdca26"
             ],
             [
              1,
              "#f0f921"
             ]
            ],
            "type": "histogram2dcontour"
           }
          ],
          "mesh3d": [
           {
            "colorbar": {
             "outlinewidth": 0,
             "ticks": ""
            },
            "type": "mesh3d"
           }
          ],
          "parcoords": [
           {
            "line": {
             "colorbar": {
              "outlinewidth": 0,
              "ticks": ""
             }
            },
            "type": "parcoords"
           }
          ],
          "pie": [
           {
            "automargin": true,
            "type": "pie"
           }
          ],
          "scatter": [
           {
            "fillpattern": {
             "fillmode": "overlay",
             "size": 10,
             "solidity": 0.2
            },
            "type": "scatter"
           }
          ],
          "scatter3d": [
           {
            "line": {
             "colorbar": {
              "outlinewidth": 0,
              "ticks": ""
             }
            },
            "marker": {
             "colorbar": {
              "outlinewidth": 0,
              "ticks": ""
             }
            },
            "type": "scatter3d"
           }
          ],
          "scattercarpet": [
           {
            "marker": {
             "colorbar": {
              "outlinewidth": 0,
              "ticks": ""
             }
            },
            "type": "scattercarpet"
           }
          ],
          "scattergeo": [
           {
            "marker": {
             "colorbar": {
              "outlinewidth": 0,
              "ticks": ""
             }
            },
            "type": "scattergeo"
           }
          ],
          "scattergl": [
           {
            "marker": {
             "colorbar": {
              "outlinewidth": 0,
              "ticks": ""
             }
            },
            "type": "scattergl"
           }
          ],
          "scattermapbox": [
           {
            "marker": {
             "colorbar": {
              "outlinewidth": 0,
              "ticks": ""
             }
            },
            "type": "scattermapbox"
           }
          ],
          "scatterpolar": [
           {
            "marker": {
             "colorbar": {
              "outlinewidth": 0,
              "ticks": ""
             }
            },
            "type": "scatterpolar"
           }
          ],
          "scatterpolargl": [
           {
            "marker": {
             "colorbar": {
              "outlinewidth": 0,
              "ticks": ""
             }
            },
            "type": "scatterpolargl"
           }
          ],
          "scatterternary": [
           {
            "marker": {
             "colorbar": {
              "outlinewidth": 0,
              "ticks": ""
             }
            },
            "type": "scatterternary"
           }
          ],
          "surface": [
           {
            "colorbar": {
             "outlinewidth": 0,
             "ticks": ""
            },
            "colorscale": [
             [
              0,
              "#0d0887"
             ],
             [
              0.1111111111111111,
              "#46039f"
             ],
             [
              0.2222222222222222,
              "#7201a8"
             ],
             [
              0.3333333333333333,
              "#9c179e"
             ],
             [
              0.4444444444444444,
              "#bd3786"
             ],
             [
              0.5555555555555556,
              "#d8576b"
             ],
             [
              0.6666666666666666,
              "#ed7953"
             ],
             [
              0.7777777777777778,
              "#fb9f3a"
             ],
             [
              0.8888888888888888,
              "#fdca26"
             ],
             [
              1,
              "#f0f921"
             ]
            ],
            "type": "surface"
           }
          ],
          "table": [
           {
            "cells": {
             "fill": {
              "color": "#EBF0F8"
             },
             "line": {
              "color": "white"
             }
            },
            "header": {
             "fill": {
              "color": "#C8D4E3"
             },
             "line": {
              "color": "white"
             }
            },
            "type": "table"
           }
          ]
         },
         "layout": {
          "annotationdefaults": {
           "arrowcolor": "#2a3f5f",
           "arrowhead": 0,
           "arrowwidth": 1
          },
          "autotypenumbers": "strict",
          "coloraxis": {
           "colorbar": {
            "outlinewidth": 0,
            "ticks": ""
           }
          },
          "colorscale": {
           "diverging": [
            [
             0,
             "#8e0152"
            ],
            [
             0.1,
             "#c51b7d"
            ],
            [
             0.2,
             "#de77ae"
            ],
            [
             0.3,
             "#f1b6da"
            ],
            [
             0.4,
             "#fde0ef"
            ],
            [
             0.5,
             "#f7f7f7"
            ],
            [
             0.6,
             "#e6f5d0"
            ],
            [
             0.7,
             "#b8e186"
            ],
            [
             0.8,
             "#7fbc41"
            ],
            [
             0.9,
             "#4d9221"
            ],
            [
             1,
             "#276419"
            ]
           ],
           "sequential": [
            [
             0,
             "#0d0887"
            ],
            [
             0.1111111111111111,
             "#46039f"
            ],
            [
             0.2222222222222222,
             "#7201a8"
            ],
            [
             0.3333333333333333,
             "#9c179e"
            ],
            [
             0.4444444444444444,
             "#bd3786"
            ],
            [
             0.5555555555555556,
             "#d8576b"
            ],
            [
             0.6666666666666666,
             "#ed7953"
            ],
            [
             0.7777777777777778,
             "#fb9f3a"
            ],
            [
             0.8888888888888888,
             "#fdca26"
            ],
            [
             1,
             "#f0f921"
            ]
           ],
           "sequentialminus": [
            [
             0,
             "#0d0887"
            ],
            [
             0.1111111111111111,
             "#46039f"
            ],
            [
             0.2222222222222222,
             "#7201a8"
            ],
            [
             0.3333333333333333,
             "#9c179e"
            ],
            [
             0.4444444444444444,
             "#bd3786"
            ],
            [
             0.5555555555555556,
             "#d8576b"
            ],
            [
             0.6666666666666666,
             "#ed7953"
            ],
            [
             0.7777777777777778,
             "#fb9f3a"
            ],
            [
             0.8888888888888888,
             "#fdca26"
            ],
            [
             1,
             "#f0f921"
            ]
           ]
          },
          "colorway": [
           "#636efa",
           "#EF553B",
           "#00cc96",
           "#ab63fa",
           "#FFA15A",
           "#19d3f3",
           "#FF6692",
           "#B6E880",
           "#FF97FF",
           "#FECB52"
          ],
          "font": {
           "color": "#2a3f5f"
          },
          "geo": {
           "bgcolor": "white",
           "lakecolor": "white",
           "landcolor": "#E5ECF6",
           "showlakes": true,
           "showland": true,
           "subunitcolor": "white"
          },
          "hoverlabel": {
           "align": "left"
          },
          "hovermode": "closest",
          "mapbox": {
           "style": "light"
          },
          "paper_bgcolor": "white",
          "plot_bgcolor": "#E5ECF6",
          "polar": {
           "angularaxis": {
            "gridcolor": "white",
            "linecolor": "white",
            "ticks": ""
           },
           "bgcolor": "#E5ECF6",
           "radialaxis": {
            "gridcolor": "white",
            "linecolor": "white",
            "ticks": ""
           }
          },
          "scene": {
           "xaxis": {
            "backgroundcolor": "#E5ECF6",
            "gridcolor": "white",
            "gridwidth": 2,
            "linecolor": "white",
            "showbackground": true,
            "ticks": "",
            "zerolinecolor": "white"
           },
           "yaxis": {
            "backgroundcolor": "#E5ECF6",
            "gridcolor": "white",
            "gridwidth": 2,
            "linecolor": "white",
            "showbackground": true,
            "ticks": "",
            "zerolinecolor": "white"
           },
           "zaxis": {
            "backgroundcolor": "#E5ECF6",
            "gridcolor": "white",
            "gridwidth": 2,
            "linecolor": "white",
            "showbackground": true,
            "ticks": "",
            "zerolinecolor": "white"
           }
          },
          "shapedefaults": {
           "line": {
            "color": "#2a3f5f"
           }
          },
          "ternary": {
           "aaxis": {
            "gridcolor": "white",
            "linecolor": "white",
            "ticks": ""
           },
           "baxis": {
            "gridcolor": "white",
            "linecolor": "white",
            "ticks": ""
           },
           "bgcolor": "#E5ECF6",
           "caxis": {
            "gridcolor": "white",
            "linecolor": "white",
            "ticks": ""
           }
          },
          "title": {
           "x": 0.05
          },
          "xaxis": {
           "automargin": true,
           "gridcolor": "white",
           "linecolor": "white",
           "ticks": "",
           "title": {
            "standoff": 15
           },
           "zerolinecolor": "white",
           "zerolinewidth": 2
          },
          "yaxis": {
           "automargin": true,
           "gridcolor": "white",
           "linecolor": "white",
           "ticks": "",
           "title": {
            "standoff": 15
           },
           "zerolinecolor": "white",
           "zerolinewidth": 2
          }
         }
        },
        "title": {
         "text": "分數 和 佔領時長 的關係",
         "x": 0.5
        },
        "width": 600,
        "xaxis": {
         "anchor": "y",
         "domain": [
          0,
          1
         ],
         "title": {
          "text": "佔領時長"
         }
        },
        "yaxis": {
         "anchor": "x",
         "domain": [
          0,
          1
         ],
         "title": {
          "text": "分數"
         }
        }
       }
      }
     },
     "metadata": {},
     "output_type": "display_data"
    }
   ],
   "source": [
    "fig = px.scatter(\n",
    "    users_df, \n",
    "    x=\"duration\", \n",
    "    y=\"score\",\n",
    "    \n",
    "    hover_data=['name', 'score', 'total_captured', 'duration', 'final_level'], \n",
    "    labels={\n",
    "        'name': \"隊伍\",\n",
    "        'score': \"分數\",\n",
    "        'score_offset': \"分數\",\n",
    "        'total_captured': \"總佔領次數\",\n",
    "        'final_level': \"最終等級\",\n",
    "        'duration': \"佔領時長\"\n",
    "    }, \n",
    "    color='name', \n",
    "    color_discrete_map=color_discrete_map, \n",
    "    width=600,\n",
    "    height=500\n",
    ")\n",
    "\n",
    "\n",
    "fig.update_layout(title_text='分數 和 佔領時長 的關係', title_x=0.5)\n",
    "\n",
    "fig.show()"
   ]
  },
  {
   "cell_type": "code",
   "execution_count": 21,
   "metadata": {},
   "outputs": [
    {
     "data": {
      "application/vnd.plotly.v1+json": {
       "config": {
        "plotlyServerURL": "https://plot.ly"
       },
       "data": [
        {
         "customdata": [
          [
           "南葵中心3隊",
           46675.9140625,
           3
          ]
         ],
         "hovertemplate": "隊伍=%{customdata[0]}<br>總佔領次數=%{x}<br>分數=%{y}<br>佔領時長=%{customdata[1]}<br>最終等級=%{customdata[2]}<extra></extra>",
         "legendgroup": "南葵中心3隊",
         "marker": {
          "color": "#ea3323",
          "symbol": "circle"
         },
         "mode": "markers",
         "name": "南葵中心3隊",
         "orientation": "v",
         "showlegend": true,
         "type": "scatter",
         "x": [
          19
         ],
         "xaxis": "x",
         "y": [
          55591.4140625
         ],
         "yaxis": "y"
        },
        {
         "customdata": [
          [
           "南葵中心4隊",
           77038.2890625,
           3
          ]
         ],
         "hovertemplate": "隊伍=%{customdata[0]}<br>總佔領次數=%{x}<br>分數=%{y}<br>佔領時長=%{customdata[1]}<br>最終等級=%{customdata[2]}<extra></extra>",
         "legendgroup": "南葵中心4隊",
         "marker": {
          "color": "#ff8b00",
          "symbol": "circle"
         },
         "mode": "markers",
         "name": "南葵中心4隊",
         "orientation": "v",
         "showlegend": true,
         "type": "scatter",
         "x": [
          26
         ],
         "xaxis": "x",
         "y": [
          44894.796875
         ],
         "yaxis": "y"
        },
        {
         "customdata": [
          [
           "上環/將軍澳中心隊",
           44609.16015625,
           3
          ]
         ],
         "hovertemplate": "隊伍=%{customdata[0]}<br>總佔領次數=%{x}<br>分數=%{y}<br>佔領時長=%{customdata[1]}<br>最終等級=%{customdata[2]}<extra></extra>",
         "legendgroup": "上環/將軍澳中心隊",
         "marker": {
          "color": "#febb26",
          "symbol": "circle"
         },
         "mode": "markers",
         "name": "上環/將軍澳中心隊",
         "orientation": "v",
         "showlegend": true,
         "type": "scatter",
         "x": [
          12
         ],
         "xaxis": "x",
         "y": [
          15474.4443359375
         ],
         "yaxis": "y"
        },
        {
         "customdata": [
          [
           "南葵中心2隊",
           46435.5078125,
           2
          ]
         ],
         "hovertemplate": "隊伍=%{customdata[0]}<br>總佔領次數=%{x}<br>分數=%{y}<br>佔領時長=%{customdata[1]}<br>最終等級=%{customdata[2]}<extra></extra>",
         "legendgroup": "南葵中心2隊",
         "marker": {
          "color": "#17873f",
          "symbol": "circle"
         },
         "mode": "markers",
         "name": "南葵中心2隊",
         "orientation": "v",
         "showlegend": true,
         "type": "scatter",
         "x": [
          15
         ],
         "xaxis": "x",
         "y": [
          15448.828125
         ],
         "yaxis": "y"
        },
        {
         "customdata": [
          [
           "南葵中心1隊",
           47757.15234375,
           2
          ]
         ],
         "hovertemplate": "隊伍=%{customdata[0]}<br>總佔領次數=%{x}<br>分數=%{y}<br>佔領時長=%{customdata[1]}<br>最終等級=%{customdata[2]}<extra></extra>",
         "legendgroup": "南葵中心1隊",
         "marker": {
          "color": "#25dc67",
          "symbol": "circle"
         },
         "mode": "markers",
         "name": "南葵中心1隊",
         "orientation": "v",
         "showlegend": true,
         "type": "scatter",
         "x": [
          23
         ],
         "xaxis": "x",
         "y": [
          10107.5458984375
         ],
         "yaxis": "y"
        },
        {
         "customdata": [
          [
           "南區中心1隊",
           3527.366943359375,
           3
          ]
         ],
         "hovertemplate": "隊伍=%{customdata[0]}<br>總佔領次數=%{x}<br>分數=%{y}<br>佔領時長=%{customdata[1]}<br>最終等級=%{customdata[2]}<extra></extra>",
         "legendgroup": "南區中心1隊",
         "marker": {
          "color": "#4f7af9",
          "symbol": "circle"
         },
         "mode": "markers",
         "name": "南區中心1隊",
         "orientation": "v",
         "showlegend": true,
         "type": "scatter",
         "x": [
          2
         ],
         "xaxis": "x",
         "y": [
          8818.41796875
         ],
         "yaxis": "y"
        },
        {
         "customdata": [
          [
           "上環中心隊",
           5870.3251953125,
           3
          ]
         ],
         "hovertemplate": "隊伍=%{customdata[0]}<br>總佔領次數=%{x}<br>分數=%{y}<br>佔領時長=%{customdata[1]}<br>最終等級=%{customdata[2]}<extra></extra>",
         "legendgroup": "上環中心隊",
         "marker": {
          "color": "#9c78fe",
          "symbol": "circle"
         },
         "mode": "markers",
         "name": "上環中心隊",
         "orientation": "v",
         "showlegend": true,
         "type": "scatter",
         "x": [
          7
         ],
         "xaxis": "x",
         "y": [
          6006.6171875
         ],
         "yaxis": "y"
        },
        {
         "customdata": [
          [
           "石蔭中心隊",
           27650.966796875,
           3
          ]
         ],
         "hovertemplate": "隊伍=%{customdata[0]}<br>總佔領次數=%{x}<br>分數=%{y}<br>佔領時長=%{customdata[1]}<br>最終等級=%{customdata[2]}<extra></extra>",
         "legendgroup": "石蔭中心隊",
         "marker": {
          "color": "#ffccdd",
          "symbol": "circle"
         },
         "mode": "markers",
         "name": "石蔭中心隊",
         "orientation": "v",
         "showlegend": true,
         "type": "scatter",
         "x": [
          13
         ],
         "xaxis": "x",
         "y": [
          2116.935791015625
         ],
         "yaxis": "y"
        },
        {
         "customdata": [
          [
           "南區中心2隊",
           0,
           1
          ]
         ],
         "hovertemplate": "隊伍=%{customdata[0]}<br>總佔領次數=%{x}<br>分數=%{y}<br>佔領時長=%{customdata[1]}<br>最終等級=%{customdata[2]}<extra></extra>",
         "legendgroup": "南區中心2隊",
         "marker": {
          "color": "#ffffff",
          "symbol": "circle"
         },
         "mode": "markers",
         "name": "南區中心2隊",
         "orientation": "v",
         "showlegend": true,
         "type": "scatter",
         "x": [
          0
         ],
         "xaxis": "x",
         "y": [
          0
         ],
         "yaxis": "y"
        }
       ],
       "layout": {
        "height": 500,
        "legend": {
         "title": {
          "text": "隊伍"
         },
         "tracegroupgap": 0
        },
        "margin": {
         "t": 60
        },
        "template": {
         "data": {
          "bar": [
           {
            "error_x": {
             "color": "#2a3f5f"
            },
            "error_y": {
             "color": "#2a3f5f"
            },
            "marker": {
             "line": {
              "color": "#E5ECF6",
              "width": 0.5
             },
             "pattern": {
              "fillmode": "overlay",
              "size": 10,
              "solidity": 0.2
             }
            },
            "type": "bar"
           }
          ],
          "barpolar": [
           {
            "marker": {
             "line": {
              "color": "#E5ECF6",
              "width": 0.5
             },
             "pattern": {
              "fillmode": "overlay",
              "size": 10,
              "solidity": 0.2
             }
            },
            "type": "barpolar"
           }
          ],
          "carpet": [
           {
            "aaxis": {
             "endlinecolor": "#2a3f5f",
             "gridcolor": "white",
             "linecolor": "white",
             "minorgridcolor": "white",
             "startlinecolor": "#2a3f5f"
            },
            "baxis": {
             "endlinecolor": "#2a3f5f",
             "gridcolor": "white",
             "linecolor": "white",
             "minorgridcolor": "white",
             "startlinecolor": "#2a3f5f"
            },
            "type": "carpet"
           }
          ],
          "choropleth": [
           {
            "colorbar": {
             "outlinewidth": 0,
             "ticks": ""
            },
            "type": "choropleth"
           }
          ],
          "contour": [
           {
            "colorbar": {
             "outlinewidth": 0,
             "ticks": ""
            },
            "colorscale": [
             [
              0,
              "#0d0887"
             ],
             [
              0.1111111111111111,
              "#46039f"
             ],
             [
              0.2222222222222222,
              "#7201a8"
             ],
             [
              0.3333333333333333,
              "#9c179e"
             ],
             [
              0.4444444444444444,
              "#bd3786"
             ],
             [
              0.5555555555555556,
              "#d8576b"
             ],
             [
              0.6666666666666666,
              "#ed7953"
             ],
             [
              0.7777777777777778,
              "#fb9f3a"
             ],
             [
              0.8888888888888888,
              "#fdca26"
             ],
             [
              1,
              "#f0f921"
             ]
            ],
            "type": "contour"
           }
          ],
          "contourcarpet": [
           {
            "colorbar": {
             "outlinewidth": 0,
             "ticks": ""
            },
            "type": "contourcarpet"
           }
          ],
          "heatmap": [
           {
            "colorbar": {
             "outlinewidth": 0,
             "ticks": ""
            },
            "colorscale": [
             [
              0,
              "#0d0887"
             ],
             [
              0.1111111111111111,
              "#46039f"
             ],
             [
              0.2222222222222222,
              "#7201a8"
             ],
             [
              0.3333333333333333,
              "#9c179e"
             ],
             [
              0.4444444444444444,
              "#bd3786"
             ],
             [
              0.5555555555555556,
              "#d8576b"
             ],
             [
              0.6666666666666666,
              "#ed7953"
             ],
             [
              0.7777777777777778,
              "#fb9f3a"
             ],
             [
              0.8888888888888888,
              "#fdca26"
             ],
             [
              1,
              "#f0f921"
             ]
            ],
            "type": "heatmap"
           }
          ],
          "heatmapgl": [
           {
            "colorbar": {
             "outlinewidth": 0,
             "ticks": ""
            },
            "colorscale": [
             [
              0,
              "#0d0887"
             ],
             [
              0.1111111111111111,
              "#46039f"
             ],
             [
              0.2222222222222222,
              "#7201a8"
             ],
             [
              0.3333333333333333,
              "#9c179e"
             ],
             [
              0.4444444444444444,
              "#bd3786"
             ],
             [
              0.5555555555555556,
              "#d8576b"
             ],
             [
              0.6666666666666666,
              "#ed7953"
             ],
             [
              0.7777777777777778,
              "#fb9f3a"
             ],
             [
              0.8888888888888888,
              "#fdca26"
             ],
             [
              1,
              "#f0f921"
             ]
            ],
            "type": "heatmapgl"
           }
          ],
          "histogram": [
           {
            "marker": {
             "pattern": {
              "fillmode": "overlay",
              "size": 10,
              "solidity": 0.2
             }
            },
            "type": "histogram"
           }
          ],
          "histogram2d": [
           {
            "colorbar": {
             "outlinewidth": 0,
             "ticks": ""
            },
            "colorscale": [
             [
              0,
              "#0d0887"
             ],
             [
              0.1111111111111111,
              "#46039f"
             ],
             [
              0.2222222222222222,
              "#7201a8"
             ],
             [
              0.3333333333333333,
              "#9c179e"
             ],
             [
              0.4444444444444444,
              "#bd3786"
             ],
             [
              0.5555555555555556,
              "#d8576b"
             ],
             [
              0.6666666666666666,
              "#ed7953"
             ],
             [
              0.7777777777777778,
              "#fb9f3a"
             ],
             [
              0.8888888888888888,
              "#fdca26"
             ],
             [
              1,
              "#f0f921"
             ]
            ],
            "type": "histogram2d"
           }
          ],
          "histogram2dcontour": [
           {
            "colorbar": {
             "outlinewidth": 0,
             "ticks": ""
            },
            "colorscale": [
             [
              0,
              "#0d0887"
             ],
             [
              0.1111111111111111,
              "#46039f"
             ],
             [
              0.2222222222222222,
              "#7201a8"
             ],
             [
              0.3333333333333333,
              "#9c179e"
             ],
             [
              0.4444444444444444,
              "#bd3786"
             ],
             [
              0.5555555555555556,
              "#d8576b"
             ],
             [
              0.6666666666666666,
              "#ed7953"
             ],
             [
              0.7777777777777778,
              "#fb9f3a"
             ],
             [
              0.8888888888888888,
              "#fdca26"
             ],
             [
              1,
              "#f0f921"
             ]
            ],
            "type": "histogram2dcontour"
           }
          ],
          "mesh3d": [
           {
            "colorbar": {
             "outlinewidth": 0,
             "ticks": ""
            },
            "type": "mesh3d"
           }
          ],
          "parcoords": [
           {
            "line": {
             "colorbar": {
              "outlinewidth": 0,
              "ticks": ""
             }
            },
            "type": "parcoords"
           }
          ],
          "pie": [
           {
            "automargin": true,
            "type": "pie"
           }
          ],
          "scatter": [
           {
            "fillpattern": {
             "fillmode": "overlay",
             "size": 10,
             "solidity": 0.2
            },
            "type": "scatter"
           }
          ],
          "scatter3d": [
           {
            "line": {
             "colorbar": {
              "outlinewidth": 0,
              "ticks": ""
             }
            },
            "marker": {
             "colorbar": {
              "outlinewidth": 0,
              "ticks": ""
             }
            },
            "type": "scatter3d"
           }
          ],
          "scattercarpet": [
           {
            "marker": {
             "colorbar": {
              "outlinewidth": 0,
              "ticks": ""
             }
            },
            "type": "scattercarpet"
           }
          ],
          "scattergeo": [
           {
            "marker": {
             "colorbar": {
              "outlinewidth": 0,
              "ticks": ""
             }
            },
            "type": "scattergeo"
           }
          ],
          "scattergl": [
           {
            "marker": {
             "colorbar": {
              "outlinewidth": 0,
              "ticks": ""
             }
            },
            "type": "scattergl"
           }
          ],
          "scattermapbox": [
           {
            "marker": {
             "colorbar": {
              "outlinewidth": 0,
              "ticks": ""
             }
            },
            "type": "scattermapbox"
           }
          ],
          "scatterpolar": [
           {
            "marker": {
             "colorbar": {
              "outlinewidth": 0,
              "ticks": ""
             }
            },
            "type": "scatterpolar"
           }
          ],
          "scatterpolargl": [
           {
            "marker": {
             "colorbar": {
              "outlinewidth": 0,
              "ticks": ""
             }
            },
            "type": "scatterpolargl"
           }
          ],
          "scatterternary": [
           {
            "marker": {
             "colorbar": {
              "outlinewidth": 0,
              "ticks": ""
             }
            },
            "type": "scatterternary"
           }
          ],
          "surface": [
           {
            "colorbar": {
             "outlinewidth": 0,
             "ticks": ""
            },
            "colorscale": [
             [
              0,
              "#0d0887"
             ],
             [
              0.1111111111111111,
              "#46039f"
             ],
             [
              0.2222222222222222,
              "#7201a8"
             ],
             [
              0.3333333333333333,
              "#9c179e"
             ],
             [
              0.4444444444444444,
              "#bd3786"
             ],
             [
              0.5555555555555556,
              "#d8576b"
             ],
             [
              0.6666666666666666,
              "#ed7953"
             ],
             [
              0.7777777777777778,
              "#fb9f3a"
             ],
             [
              0.8888888888888888,
              "#fdca26"
             ],
             [
              1,
              "#f0f921"
             ]
            ],
            "type": "surface"
           }
          ],
          "table": [
           {
            "cells": {
             "fill": {
              "color": "#EBF0F8"
             },
             "line": {
              "color": "white"
             }
            },
            "header": {
             "fill": {
              "color": "#C8D4E3"
             },
             "line": {
              "color": "white"
             }
            },
            "type": "table"
           }
          ]
         },
         "layout": {
          "annotationdefaults": {
           "arrowcolor": "#2a3f5f",
           "arrowhead": 0,
           "arrowwidth": 1
          },
          "autotypenumbers": "strict",
          "coloraxis": {
           "colorbar": {
            "outlinewidth": 0,
            "ticks": ""
           }
          },
          "colorscale": {
           "diverging": [
            [
             0,
             "#8e0152"
            ],
            [
             0.1,
             "#c51b7d"
            ],
            [
             0.2,
             "#de77ae"
            ],
            [
             0.3,
             "#f1b6da"
            ],
            [
             0.4,
             "#fde0ef"
            ],
            [
             0.5,
             "#f7f7f7"
            ],
            [
             0.6,
             "#e6f5d0"
            ],
            [
             0.7,
             "#b8e186"
            ],
            [
             0.8,
             "#7fbc41"
            ],
            [
             0.9,
             "#4d9221"
            ],
            [
             1,
             "#276419"
            ]
           ],
           "sequential": [
            [
             0,
             "#0d0887"
            ],
            [
             0.1111111111111111,
             "#46039f"
            ],
            [
             0.2222222222222222,
             "#7201a8"
            ],
            [
             0.3333333333333333,
             "#9c179e"
            ],
            [
             0.4444444444444444,
             "#bd3786"
            ],
            [
             0.5555555555555556,
             "#d8576b"
            ],
            [
             0.6666666666666666,
             "#ed7953"
            ],
            [
             0.7777777777777778,
             "#fb9f3a"
            ],
            [
             0.8888888888888888,
             "#fdca26"
            ],
            [
             1,
             "#f0f921"
            ]
           ],
           "sequentialminus": [
            [
             0,
             "#0d0887"
            ],
            [
             0.1111111111111111,
             "#46039f"
            ],
            [
             0.2222222222222222,
             "#7201a8"
            ],
            [
             0.3333333333333333,
             "#9c179e"
            ],
            [
             0.4444444444444444,
             "#bd3786"
            ],
            [
             0.5555555555555556,
             "#d8576b"
            ],
            [
             0.6666666666666666,
             "#ed7953"
            ],
            [
             0.7777777777777778,
             "#fb9f3a"
            ],
            [
             0.8888888888888888,
             "#fdca26"
            ],
            [
             1,
             "#f0f921"
            ]
           ]
          },
          "colorway": [
           "#636efa",
           "#EF553B",
           "#00cc96",
           "#ab63fa",
           "#FFA15A",
           "#19d3f3",
           "#FF6692",
           "#B6E880",
           "#FF97FF",
           "#FECB52"
          ],
          "font": {
           "color": "#2a3f5f"
          },
          "geo": {
           "bgcolor": "white",
           "lakecolor": "white",
           "landcolor": "#E5ECF6",
           "showlakes": true,
           "showland": true,
           "subunitcolor": "white"
          },
          "hoverlabel": {
           "align": "left"
          },
          "hovermode": "closest",
          "mapbox": {
           "style": "light"
          },
          "paper_bgcolor": "white",
          "plot_bgcolor": "#E5ECF6",
          "polar": {
           "angularaxis": {
            "gridcolor": "white",
            "linecolor": "white",
            "ticks": ""
           },
           "bgcolor": "#E5ECF6",
           "radialaxis": {
            "gridcolor": "white",
            "linecolor": "white",
            "ticks": ""
           }
          },
          "scene": {
           "xaxis": {
            "backgroundcolor": "#E5ECF6",
            "gridcolor": "white",
            "gridwidth": 2,
            "linecolor": "white",
            "showbackground": true,
            "ticks": "",
            "zerolinecolor": "white"
           },
           "yaxis": {
            "backgroundcolor": "#E5ECF6",
            "gridcolor": "white",
            "gridwidth": 2,
            "linecolor": "white",
            "showbackground": true,
            "ticks": "",
            "zerolinecolor": "white"
           },
           "zaxis": {
            "backgroundcolor": "#E5ECF6",
            "gridcolor": "white",
            "gridwidth": 2,
            "linecolor": "white",
            "showbackground": true,
            "ticks": "",
            "zerolinecolor": "white"
           }
          },
          "shapedefaults": {
           "line": {
            "color": "#2a3f5f"
           }
          },
          "ternary": {
           "aaxis": {
            "gridcolor": "white",
            "linecolor": "white",
            "ticks": ""
           },
           "baxis": {
            "gridcolor": "white",
            "linecolor": "white",
            "ticks": ""
           },
           "bgcolor": "#E5ECF6",
           "caxis": {
            "gridcolor": "white",
            "linecolor": "white",
            "ticks": ""
           }
          },
          "title": {
           "x": 0.05
          },
          "xaxis": {
           "automargin": true,
           "gridcolor": "white",
           "linecolor": "white",
           "ticks": "",
           "title": {
            "standoff": 15
           },
           "zerolinecolor": "white",
           "zerolinewidth": 2
          },
          "yaxis": {
           "automargin": true,
           "gridcolor": "white",
           "linecolor": "white",
           "ticks": "",
           "title": {
            "standoff": 15
           },
           "zerolinecolor": "white",
           "zerolinewidth": 2
          }
         }
        },
        "title": {
         "text": "分數 和 佔領次數 的關係",
         "x": 0.5
        },
        "width": 600,
        "xaxis": {
         "anchor": "y",
         "domain": [
          0,
          1
         ],
         "title": {
          "text": "總佔領次數"
         }
        },
        "yaxis": {
         "anchor": "x",
         "domain": [
          0,
          1
         ],
         "title": {
          "text": "分數"
         }
        }
       }
      }
     },
     "metadata": {},
     "output_type": "display_data"
    }
   ],
   "source": [
    "fig = px.scatter(\n",
    "    users_df, \n",
    "    x=\"total_captured\", \n",
    "    y=\"score\",\n",
    "    \n",
    "    hover_data=['name', 'score', 'total_captured', 'duration', 'final_level'], \n",
    "    labels={\n",
    "        'name': \"隊伍\",\n",
    "        'score': \"分數\",\n",
    "        'score_offset': \"分數\",\n",
    "        'total_captured': \"總佔領次數\",\n",
    "        'final_level': \"最終等級\",\n",
    "        'duration': \"佔領時長\"\n",
    "    }, \n",
    "    color='name', \n",
    "    color_discrete_map=color_discrete_map, \n",
    "    width=600,\n",
    "    height=500\n",
    ")\n",
    "\n",
    "\n",
    "fig.update_layout(title_text='分數 和 佔領次數 的關係', title_x=0.5)\n",
    "\n",
    "fig.show()"
   ]
  },
  {
   "cell_type": "code",
   "execution_count": 22,
   "metadata": {},
   "outputs": [
    {
     "name": "stderr",
     "output_type": "stream",
     "text": [
      "/var/folders/jw/hzz2wp3s7tq_30qpr57f65w40000gn/T/ipykernel_4310/1183825878.py:2: DeprecationWarning:\n",
      "\n",
      "`pl.count()` is deprecated. Please use `pl.len()` instead.\n",
      "\n"
     ]
    },
    {
     "data": {
      "application/vnd.plotly.v1+json": {
       "config": {
        "plotlyServerURL": "https://plot.ly"
       },
       "data": [
        {
         "coloraxis": "coloraxis",
         "hovertemplate": "count=%{z}<br>lat=%{lat}<br>long=%{lon}<extra></extra>",
         "lat": [
          22.4548219,
          22.4510973,
          22.4713162,
          22.4539074,
          22.465724,
          22.4553992,
          22.4624534,
          22.4654579,
          22.4585023,
          22.4663901,
          22.4666509,
          22.4668716,
          22.4660231,
          22.459445,
          22.4620884,
          22.469097,
          22.4618546,
          22.4681275,
          22.4504396,
          22.4620587,
          22.4557192,
          22.4519834,
          22.4519834,
          22.4609995,
          22.4609744,
          22.4617898,
          22.4570997,
          22.4615927,
          22.453213,
          22.4650118,
          22.4620289,
          22.4635652,
          22.4655961,
          22.4645854,
          22.4665215,
          22.4558306,
          22.4593465,
          22.4496103,
          22.449919,
          22.4498149,
          22.4607686,
          22.4639442
         ],
         "lon": [
          114.0067398,
          114.0085632,
          114.0022616,
          114.0037142,
          114.0050474,
          113.9994186,
          114.0079931,
          113.9959425,
          114.0041463,
          114.0032108,
          114.002266,
          113.9961331,
          113.9981634,
          114.0019393,
          114.0079821,
          113.9984766,
          113.9975799,
          114.0034872,
          113.9989511,
          114.0014806,
          114.0065091,
          114.0015153,
          113.998479,
          113.9971151,
          114.0018213,
          113.9945796,
          113.9953417,
          114.0019359,
          113.999273,
          114.0010065,
          114.0055869,
          114.0041254,
          113.99919,
          113.9977128,
          114.005496,
          113.9998148,
          113.9993166,
          114.0016226,
          113.9987955,
          114.0003673,
          113.9967442,
          114.006367
         ],
         "name": "",
         "opacity": 0.6,
         "radius": 200,
         "subplot": "mapbox",
         "type": "densitymapbox",
         "z": [
          6,
          1,
          3,
          1,
          2,
          7,
          2,
          3,
          4,
          1,
          1,
          2,
          3,
          2,
          2,
          3,
          1,
          2,
          10,
          1,
          6,
          1,
          7,
          1,
          3,
          4,
          4,
          2,
          3,
          1,
          1,
          1,
          3,
          3,
          1,
          5,
          1,
          3,
          4,
          6,
          2,
          1
         ]
        },
        {
         "hovertemplate": "<b>%{hovertext}</b><br><br>lat=%{lat}<br>long=%{lon}<extra></extra>",
         "hovertext": [
          "天水圍體育館",
          "隱藏集合點",
          "流浮山消防局",
          "天水圍運動場",
          "慧景軒巴士站",
          "天瑞社區中心",
          "天業路公園（表）",
          "天瑞俓（六）",
          "麗湖居",
          "屏欣苑鮮匯站",
          "濕地公園單車隧道",
          "天秀足球場",
          "天影徑（一）",
          "天華橋底",
          "天秀橋",
          "天秀路天橋",
          "栢慧豪廷門口",
          "天華垃圾筒",
          "天恆邨",
          "天華路迴旋處",
          "濕地公園門口",
          "天瑞俓（二）",
          "天悅天橋",
          "天水圍游泳池",
          "嘉湖新北商場",
          "天瑞俓（三）",
          "T TOWN 停車場外",
          "天榮路東",
          "天影徑（二）",
          "天華橋",
          "銀座",
          "天瑞俓（四）",
          "天城路天橋",
          "天瑞路公園涼亭",
          "天富苑（一）",
          "天華巴士站",
          "天影徑（三）",
          "天晴社區綜合服務大樓",
          "天富苑（二）",
          "天影徑（四）",
          "天富輕鐵站",
          "天葵天橋",
          "天瑞俓（五）",
          "天秀欖球場",
          "天水圍公園（西）",
          "天榮路西",
          "屏山圖書館",
          "天瑞街市外",
          "聖葉理諾堂",
          "天瑞俓（一）",
          "天河路遊樂場涼亭",
          "天華天橋樓梯",
          "天業路公園（裏）"
         ],
         "lat": [
          22.4548219,
          22.4510973,
          22.4713162,
          22.4539074,
          22.465724,
          22.4553992,
          22.4624534,
          22.4654579,
          22.4585023,
          22.4462263,
          22.4663901,
          22.4666509,
          35.6895,
          35.6895,
          22.4668716,
          22.4660231,
          22.459445,
          22.4620884,
          22.469097,
          22.4618546,
          22.4681275,
          22.4504396,
          22.4620587,
          22.4557192,
          22.4519834,
          22.4519834,
          22.4609995,
          22.4609744,
          35.6895,
          22.4617898,
          22.4572093,
          22.4570997,
          22.4615927,
          22.453213,
          22.4650118,
          22.4620289,
          35.6895,
          22.4635652,
          22.4655961,
          35.6895,
          22.4645854,
          22.4665215,
          22.4640794,
          22.4653546,
          22.4558306,
          22.4593465,
          22.4469353,
          22.4567946,
          22.4496103,
          22.449919,
          22.4498149,
          22.4607686,
          22.4639442
         ],
         "legendgroup": "",
         "lon": [
          114.0067398,
          114.0085632,
          114.0022616,
          114.0037142,
          114.0050474,
          113.9994186,
          114.0079931,
          113.9959425,
          114.0041463,
          114.0046246,
          114.0032108,
          114.002266,
          139.69171,
          139.69171,
          113.9961331,
          113.9981634,
          114.0019393,
          114.0079821,
          113.9984766,
          113.9975799,
          114.0034872,
          113.9989511,
          114.0014806,
          114.0065091,
          114.0015153,
          113.998479,
          113.9971151,
          114.0018213,
          139.69171,
          113.9945796,
          114.0034894,
          113.9953417,
          114.0019359,
          113.999273,
          114.0010065,
          114.0055869,
          139.69171,
          114.0041254,
          113.99919,
          139.69171,
          113.9977128,
          114.005496,
          113.9953075,
          114.0039212,
          113.9998148,
          113.9993166,
          114.0047239,
          113.9987692,
          114.0016226,
          113.9987955,
          114.0003673,
          113.9967442,
          114.006367
         ],
         "marker": {
          "color": "#636efa",
          "opacity": 0.75
         },
         "mode": "markers",
         "name": "",
         "showlegend": false,
         "subplot": "mapbox",
         "type": "scattermapbox"
        }
       ],
       "layout": {
        "coloraxis": {
         "colorbar": {
          "title": {
           "text": "count"
          }
         },
         "colorscale": [
          [
           0,
           "#0d0887"
          ],
          [
           0.1111111111111111,
           "#46039f"
          ],
          [
           0.2222222222222222,
           "#7201a8"
          ],
          [
           0.3333333333333333,
           "#9c179e"
          ],
          [
           0.4444444444444444,
           "#bd3786"
          ],
          [
           0.5555555555555556,
           "#d8576b"
          ],
          [
           0.6666666666666666,
           "#ed7953"
          ],
          [
           0.7777777777777778,
           "#fb9f3a"
          ],
          [
           0.8888888888888888,
           "#fdca26"
          ],
          [
           1,
           "#f0f921"
          ]
         ]
        },
        "height": 800,
        "legend": {
         "tracegroupgap": 0
        },
        "mapbox": {
         "center": {
          "lat": 22.45873,
          "lon": 114.00217
         },
         "domain": {
          "x": [
           0,
           1
          ],
          "y": [
           0,
           1
          ]
         },
         "style": "open-street-map",
         "zoom": 14
        },
        "margin": {
         "t": 60
        },
        "template": {
         "data": {
          "bar": [
           {
            "error_x": {
             "color": "#2a3f5f"
            },
            "error_y": {
             "color": "#2a3f5f"
            },
            "marker": {
             "line": {
              "color": "#E5ECF6",
              "width": 0.5
             },
             "pattern": {
              "fillmode": "overlay",
              "size": 10,
              "solidity": 0.2
             }
            },
            "type": "bar"
           }
          ],
          "barpolar": [
           {
            "marker": {
             "line": {
              "color": "#E5ECF6",
              "width": 0.5
             },
             "pattern": {
              "fillmode": "overlay",
              "size": 10,
              "solidity": 0.2
             }
            },
            "type": "barpolar"
           }
          ],
          "carpet": [
           {
            "aaxis": {
             "endlinecolor": "#2a3f5f",
             "gridcolor": "white",
             "linecolor": "white",
             "minorgridcolor": "white",
             "startlinecolor": "#2a3f5f"
            },
            "baxis": {
             "endlinecolor": "#2a3f5f",
             "gridcolor": "white",
             "linecolor": "white",
             "minorgridcolor": "white",
             "startlinecolor": "#2a3f5f"
            },
            "type": "carpet"
           }
          ],
          "choropleth": [
           {
            "colorbar": {
             "outlinewidth": 0,
             "ticks": ""
            },
            "type": "choropleth"
           }
          ],
          "contour": [
           {
            "colorbar": {
             "outlinewidth": 0,
             "ticks": ""
            },
            "colorscale": [
             [
              0,
              "#0d0887"
             ],
             [
              0.1111111111111111,
              "#46039f"
             ],
             [
              0.2222222222222222,
              "#7201a8"
             ],
             [
              0.3333333333333333,
              "#9c179e"
             ],
             [
              0.4444444444444444,
              "#bd3786"
             ],
             [
              0.5555555555555556,
              "#d8576b"
             ],
             [
              0.6666666666666666,
              "#ed7953"
             ],
             [
              0.7777777777777778,
              "#fb9f3a"
             ],
             [
              0.8888888888888888,
              "#fdca26"
             ],
             [
              1,
              "#f0f921"
             ]
            ],
            "type": "contour"
           }
          ],
          "contourcarpet": [
           {
            "colorbar": {
             "outlinewidth": 0,
             "ticks": ""
            },
            "type": "contourcarpet"
           }
          ],
          "heatmap": [
           {
            "colorbar": {
             "outlinewidth": 0,
             "ticks": ""
            },
            "colorscale": [
             [
              0,
              "#0d0887"
             ],
             [
              0.1111111111111111,
              "#46039f"
             ],
             [
              0.2222222222222222,
              "#7201a8"
             ],
             [
              0.3333333333333333,
              "#9c179e"
             ],
             [
              0.4444444444444444,
              "#bd3786"
             ],
             [
              0.5555555555555556,
              "#d8576b"
             ],
             [
              0.6666666666666666,
              "#ed7953"
             ],
             [
              0.7777777777777778,
              "#fb9f3a"
             ],
             [
              0.8888888888888888,
              "#fdca26"
             ],
             [
              1,
              "#f0f921"
             ]
            ],
            "type": "heatmap"
           }
          ],
          "heatmapgl": [
           {
            "colorbar": {
             "outlinewidth": 0,
             "ticks": ""
            },
            "colorscale": [
             [
              0,
              "#0d0887"
             ],
             [
              0.1111111111111111,
              "#46039f"
             ],
             [
              0.2222222222222222,
              "#7201a8"
             ],
             [
              0.3333333333333333,
              "#9c179e"
             ],
             [
              0.4444444444444444,
              "#bd3786"
             ],
             [
              0.5555555555555556,
              "#d8576b"
             ],
             [
              0.6666666666666666,
              "#ed7953"
             ],
             [
              0.7777777777777778,
              "#fb9f3a"
             ],
             [
              0.8888888888888888,
              "#fdca26"
             ],
             [
              1,
              "#f0f921"
             ]
            ],
            "type": "heatmapgl"
           }
          ],
          "histogram": [
           {
            "marker": {
             "pattern": {
              "fillmode": "overlay",
              "size": 10,
              "solidity": 0.2
             }
            },
            "type": "histogram"
           }
          ],
          "histogram2d": [
           {
            "colorbar": {
             "outlinewidth": 0,
             "ticks": ""
            },
            "colorscale": [
             [
              0,
              "#0d0887"
             ],
             [
              0.1111111111111111,
              "#46039f"
             ],
             [
              0.2222222222222222,
              "#7201a8"
             ],
             [
              0.3333333333333333,
              "#9c179e"
             ],
             [
              0.4444444444444444,
              "#bd3786"
             ],
             [
              0.5555555555555556,
              "#d8576b"
             ],
             [
              0.6666666666666666,
              "#ed7953"
             ],
             [
              0.7777777777777778,
              "#fb9f3a"
             ],
             [
              0.8888888888888888,
              "#fdca26"
             ],
             [
              1,
              "#f0f921"
             ]
            ],
            "type": "histogram2d"
           }
          ],
          "histogram2dcontour": [
           {
            "colorbar": {
             "outlinewidth": 0,
             "ticks": ""
            },
            "colorscale": [
             [
              0,
              "#0d0887"
             ],
             [
              0.1111111111111111,
              "#46039f"
             ],
             [
              0.2222222222222222,
              "#7201a8"
             ],
             [
              0.3333333333333333,
              "#9c179e"
             ],
             [
              0.4444444444444444,
              "#bd3786"
             ],
             [
              0.5555555555555556,
              "#d8576b"
             ],
             [
              0.6666666666666666,
              "#ed7953"
             ],
             [
              0.7777777777777778,
              "#fb9f3a"
             ],
             [
              0.8888888888888888,
              "#fdca26"
             ],
             [
              1,
              "#f0f921"
             ]
            ],
            "type": "histogram2dcontour"
           }
          ],
          "mesh3d": [
           {
            "colorbar": {
             "outlinewidth": 0,
             "ticks": ""
            },
            "type": "mesh3d"
           }
          ],
          "parcoords": [
           {
            "line": {
             "colorbar": {
              "outlinewidth": 0,
              "ticks": ""
             }
            },
            "type": "parcoords"
           }
          ],
          "pie": [
           {
            "automargin": true,
            "type": "pie"
           }
          ],
          "scatter": [
           {
            "fillpattern": {
             "fillmode": "overlay",
             "size": 10,
             "solidity": 0.2
            },
            "type": "scatter"
           }
          ],
          "scatter3d": [
           {
            "line": {
             "colorbar": {
              "outlinewidth": 0,
              "ticks": ""
             }
            },
            "marker": {
             "colorbar": {
              "outlinewidth": 0,
              "ticks": ""
             }
            },
            "type": "scatter3d"
           }
          ],
          "scattercarpet": [
           {
            "marker": {
             "colorbar": {
              "outlinewidth": 0,
              "ticks": ""
             }
            },
            "type": "scattercarpet"
           }
          ],
          "scattergeo": [
           {
            "marker": {
             "colorbar": {
              "outlinewidth": 0,
              "ticks": ""
             }
            },
            "type": "scattergeo"
           }
          ],
          "scattergl": [
           {
            "marker": {
             "colorbar": {
              "outlinewidth": 0,
              "ticks": ""
             }
            },
            "type": "scattergl"
           }
          ],
          "scattermapbox": [
           {
            "marker": {
             "colorbar": {
              "outlinewidth": 0,
              "ticks": ""
             }
            },
            "type": "scattermapbox"
           }
          ],
          "scatterpolar": [
           {
            "marker": {
             "colorbar": {
              "outlinewidth": 0,
              "ticks": ""
             }
            },
            "type": "scatterpolar"
           }
          ],
          "scatterpolargl": [
           {
            "marker": {
             "colorbar": {
              "outlinewidth": 0,
              "ticks": ""
             }
            },
            "type": "scatterpolargl"
           }
          ],
          "scatterternary": [
           {
            "marker": {
             "colorbar": {
              "outlinewidth": 0,
              "ticks": ""
             }
            },
            "type": "scatterternary"
           }
          ],
          "surface": [
           {
            "colorbar": {
             "outlinewidth": 0,
             "ticks": ""
            },
            "colorscale": [
             [
              0,
              "#0d0887"
             ],
             [
              0.1111111111111111,
              "#46039f"
             ],
             [
              0.2222222222222222,
              "#7201a8"
             ],
             [
              0.3333333333333333,
              "#9c179e"
             ],
             [
              0.4444444444444444,
              "#bd3786"
             ],
             [
              0.5555555555555556,
              "#d8576b"
             ],
             [
              0.6666666666666666,
              "#ed7953"
             ],
             [
              0.7777777777777778,
              "#fb9f3a"
             ],
             [
              0.8888888888888888,
              "#fdca26"
             ],
             [
              1,
              "#f0f921"
             ]
            ],
            "type": "surface"
           }
          ],
          "table": [
           {
            "cells": {
             "fill": {
              "color": "#EBF0F8"
             },
             "line": {
              "color": "white"
             }
            },
            "header": {
             "fill": {
              "color": "#C8D4E3"
             },
             "line": {
              "color": "white"
             }
            },
            "type": "table"
           }
          ]
         },
         "layout": {
          "annotationdefaults": {
           "arrowcolor": "#2a3f5f",
           "arrowhead": 0,
           "arrowwidth": 1
          },
          "autotypenumbers": "strict",
          "coloraxis": {
           "colorbar": {
            "outlinewidth": 0,
            "ticks": ""
           }
          },
          "colorscale": {
           "diverging": [
            [
             0,
             "#8e0152"
            ],
            [
             0.1,
             "#c51b7d"
            ],
            [
             0.2,
             "#de77ae"
            ],
            [
             0.3,
             "#f1b6da"
            ],
            [
             0.4,
             "#fde0ef"
            ],
            [
             0.5,
             "#f7f7f7"
            ],
            [
             0.6,
             "#e6f5d0"
            ],
            [
             0.7,
             "#b8e186"
            ],
            [
             0.8,
             "#7fbc41"
            ],
            [
             0.9,
             "#4d9221"
            ],
            [
             1,
             "#276419"
            ]
           ],
           "sequential": [
            [
             0,
             "#0d0887"
            ],
            [
             0.1111111111111111,
             "#46039f"
            ],
            [
             0.2222222222222222,
             "#7201a8"
            ],
            [
             0.3333333333333333,
             "#9c179e"
            ],
            [
             0.4444444444444444,
             "#bd3786"
            ],
            [
             0.5555555555555556,
             "#d8576b"
            ],
            [
             0.6666666666666666,
             "#ed7953"
            ],
            [
             0.7777777777777778,
             "#fb9f3a"
            ],
            [
             0.8888888888888888,
             "#fdca26"
            ],
            [
             1,
             "#f0f921"
            ]
           ],
           "sequentialminus": [
            [
             0,
             "#0d0887"
            ],
            [
             0.1111111111111111,
             "#46039f"
            ],
            [
             0.2222222222222222,
             "#7201a8"
            ],
            [
             0.3333333333333333,
             "#9c179e"
            ],
            [
             0.4444444444444444,
             "#bd3786"
            ],
            [
             0.5555555555555556,
             "#d8576b"
            ],
            [
             0.6666666666666666,
             "#ed7953"
            ],
            [
             0.7777777777777778,
             "#fb9f3a"
            ],
            [
             0.8888888888888888,
             "#fdca26"
            ],
            [
             1,
             "#f0f921"
            ]
           ]
          },
          "colorway": [
           "#636efa",
           "#EF553B",
           "#00cc96",
           "#ab63fa",
           "#FFA15A",
           "#19d3f3",
           "#FF6692",
           "#B6E880",
           "#FF97FF",
           "#FECB52"
          ],
          "font": {
           "color": "#2a3f5f"
          },
          "geo": {
           "bgcolor": "white",
           "lakecolor": "white",
           "landcolor": "#E5ECF6",
           "showlakes": true,
           "showland": true,
           "subunitcolor": "white"
          },
          "hoverlabel": {
           "align": "left"
          },
          "hovermode": "closest",
          "mapbox": {
           "style": "light"
          },
          "paper_bgcolor": "white",
          "plot_bgcolor": "#E5ECF6",
          "polar": {
           "angularaxis": {
            "gridcolor": "white",
            "linecolor": "white",
            "ticks": ""
           },
           "bgcolor": "#E5ECF6",
           "radialaxis": {
            "gridcolor": "white",
            "linecolor": "white",
            "ticks": ""
           }
          },
          "scene": {
           "xaxis": {
            "backgroundcolor": "#E5ECF6",
            "gridcolor": "white",
            "gridwidth": 2,
            "linecolor": "white",
            "showbackground": true,
            "ticks": "",
            "zerolinecolor": "white"
           },
           "yaxis": {
            "backgroundcolor": "#E5ECF6",
            "gridcolor": "white",
            "gridwidth": 2,
            "linecolor": "white",
            "showbackground": true,
            "ticks": "",
            "zerolinecolor": "white"
           },
           "zaxis": {
            "backgroundcolor": "#E5ECF6",
            "gridcolor": "white",
            "gridwidth": 2,
            "linecolor": "white",
            "showbackground": true,
            "ticks": "",
            "zerolinecolor": "white"
           }
          },
          "shapedefaults": {
           "line": {
            "color": "#2a3f5f"
           }
          },
          "ternary": {
           "aaxis": {
            "gridcolor": "white",
            "linecolor": "white",
            "ticks": ""
           },
           "baxis": {
            "gridcolor": "white",
            "linecolor": "white",
            "ticks": ""
           },
           "bgcolor": "#E5ECF6",
           "caxis": {
            "gridcolor": "white",
            "linecolor": "white",
            "ticks": ""
           }
          },
          "title": {
           "x": 0.05
          },
          "xaxis": {
           "automargin": true,
           "gridcolor": "white",
           "linecolor": "white",
           "ticks": "",
           "title": {
            "standoff": 15
           },
           "zerolinecolor": "white",
           "zerolinewidth": 2
          },
          "yaxis": {
           "automargin": true,
           "gridcolor": "white",
           "linecolor": "white",
           "ticks": "",
           "title": {
            "standoff": 15
           },
           "zerolinecolor": "white",
           "zerolinewidth": 2
          }
         }
        },
        "title": {
         "text": "佔領次數集中位置",
         "x": 0.5
        },
        "width": 600
       }
      }
     },
     "metadata": {},
     "output_type": "display_data"
    }
   ],
   "source": [
    "fig = px.density_mapbox(\n",
    "    captured_logs_df.group_by('point_name').agg(pl.count()).join(points_df[['point', 'lat', 'long']], left_on=\"point_name\", right_on=\"point\"),\n",
    "    lat='lat',\n",
    "    lon='long',\n",
    "    z='count',\n",
    "    radius=200,\n",
    "    center=dict(lat=22.45873, lon=114.00217),\n",
    "    zoom=14,\n",
    "    mapbox_style=\"open-street-map\",\n",
    "    \n",
    "    width=600,\n",
    "    height=800,\n",
    "    opacity=0.6\n",
    ")\n",
    "\n",
    "point_fig = px.scatter_mapbox(points_df,\n",
    "    lat=\"lat\",\n",
    "    lon='long',\n",
    "    hover_name=\"point\",\n",
    "    mapbox_style=\"open-street-map\",\n",
    "    center=dict(lat=22.45873, lon=114.00217),\n",
    "    zoom=14,\n",
    "    \n",
    "    width=600,\n",
    "    height=800,\n",
    "    opacity=0.75,\n",
    ")\n",
    "\n",
    "fig.add_trace(point_fig.data[0])\n",
    "\n",
    "fig.update_layout(title_text='佔領次數集中位置', title_x=0.5)\n",
    "\n",
    "fig.show()\n"
   ]
  },
  {
   "cell_type": "code",
   "execution_count": 23,
   "metadata": {},
   "outputs": [
    {
     "data": {
      "text/plain": [
       "[{'name': '南葵中心3隊',\n",
       "  'capturedPoints': [{'userId': 'skc-3@example.com',\n",
       "    'userName': '南葵中心3隊',\n",
       "    'expiredAt': datetime.datetime(2024, 8, 3, 5, 44, 31, 341000, tzinfo=<DstTzInfo 'Asia/Hong_Kong' HKT+8:00:00 STD>),\n",
       "    'createdAt': datetime.datetime(2024, 8, 3, 4, 27, 48, 160000, tzinfo=<DstTzInfo 'Asia/Hong_Kong' HKT+8:00:00 STD>),\n",
       "    'level': 2,\n",
       "    'pointId': 'MM12lHGWCtvCbQvMy29H',\n",
       "    'pointName': '天瑞俓（二）'},\n",
       "   {'userId': 'skc-3@example.com',\n",
       "    'userName': '南葵中心3隊',\n",
       "    'expiredAt': datetime.datetime(2024, 8, 3, 5, 42, 11, 260000, tzinfo=<DstTzInfo 'Asia/Hong_Kong' HKT+8:00:00 STD>),\n",
       "    'createdAt': datetime.datetime(2024, 8, 3, 4, 29, 51, 988000, tzinfo=<DstTzInfo 'Asia/Hong_Kong' HKT+8:00:00 STD>),\n",
       "    'level': 2,\n",
       "    'pointId': 'Y54hD80CffPsd7hG6KZn',\n",
       "    'pointName': '天瑞俓（三）'},\n",
       "   {'userId': 'skc-3@example.com',\n",
       "    'userName': '南葵中心3隊',\n",
       "    'expiredAt': datetime.datetime(2024, 8, 3, 5, 36, 41, 603000, tzinfo=<DstTzInfo 'Asia/Hong_Kong' HKT+8:00:00 STD>),\n",
       "    'createdAt': datetime.datetime(2024, 8, 3, 4, 33, 9, 584000, tzinfo=<DstTzInfo 'Asia/Hong_Kong' HKT+8:00:00 STD>),\n",
       "    'level': 2,\n",
       "    'pointId': 'cGkgDMMYwWfkNB0heYjM',\n",
       "    'pointName': '天瑞俓（四）'},\n",
       "   {'userId': 'skc-3@example.com',\n",
       "    'userName': '南葵中心3隊',\n",
       "    'expiredAt': datetime.datetime(2024, 8, 3, 5, 36, 23, 936000, tzinfo=<DstTzInfo 'Asia/Hong_Kong' HKT+8:00:00 STD>),\n",
       "    'createdAt': datetime.datetime(2024, 8, 3, 4, 36, 7, 846000, tzinfo=<DstTzInfo 'Asia/Hong_Kong' HKT+8:00:00 STD>),\n",
       "    'level': 2,\n",
       "    'pointId': '5FuPRNNQxn2MpCc3QxSq',\n",
       "    'pointName': '天瑞俓（六）'},\n",
       "   {'userId': 'skc-3@example.com',\n",
       "    'userName': '南葵中心3隊',\n",
       "    'expiredAt': datetime.datetime(2024, 8, 3, 5, 27, 32, 959000, tzinfo=<DstTzInfo 'Asia/Hong_Kong' HKT+8:00:00 STD>),\n",
       "    'createdAt': datetime.datetime(2024, 8, 3, 4, 41, 23, 148000, tzinfo=<DstTzInfo 'Asia/Hong_Kong' HKT+8:00:00 STD>),\n",
       "    'level': 2,\n",
       "    'pointId': 'H3FVbUzD54nQ2qo9qS4I',\n",
       "    'pointName': '天秀橋'},\n",
       "   {'userId': 'skc-3@example.com',\n",
       "    'userName': '南葵中心3隊',\n",
       "    'expiredAt': datetime.datetime(2024, 8, 3, 5, 33, 11, 754000, tzinfo=<DstTzInfo 'Asia/Hong_Kong' HKT+8:00:00 STD>),\n",
       "    'createdAt': datetime.datetime(2024, 8, 3, 4, 44, 50, 689000, tzinfo=<DstTzInfo 'Asia/Hong_Kong' HKT+8:00:00 STD>),\n",
       "    'level': 2,\n",
       "    'pointId': 'Hkvtx3FpDQ0tscj3JFoD',\n",
       "    'pointName': '天秀路天橋'},\n",
       "   {'userId': 'skc-3@example.com',\n",
       "    'userName': '南葵中心3隊',\n",
       "    'expiredAt': datetime.datetime(2024, 8, 3, 5, 34, 44, 264000, tzinfo=<DstTzInfo 'Asia/Hong_Kong' HKT+8:00:00 STD>),\n",
       "    'createdAt': datetime.datetime(2024, 8, 3, 4, 50, 19, 949000, tzinfo=<DstTzInfo 'Asia/Hong_Kong' HKT+8:00:00 STD>),\n",
       "    'level': 2,\n",
       "    'pointId': 'okz1iP0mtzm8Ng8w996H',\n",
       "    'pointName': '天富輕鐵站'},\n",
       "   {'userId': 'skc-3@example.com',\n",
       "    'userName': '南葵中心3隊',\n",
       "    'expiredAt': datetime.datetime(2024, 8, 3, 5, 25, 55, 902000, tzinfo=<DstTzInfo 'Asia/Hong_Kong' HKT+8:00:00 STD>),\n",
       "    'createdAt': datetime.datetime(2024, 8, 3, 4, 51, 20, 723000, tzinfo=<DstTzInfo 'Asia/Hong_Kong' HKT+8:00:00 STD>),\n",
       "    'level': 2,\n",
       "    'pointId': 'lsMaDq30KZQTqVmLhypX',\n",
       "    'pointName': '天富苑（二）'},\n",
       "   {'userId': 'skc-3@example.com',\n",
       "    'userName': '南葵中心3隊',\n",
       "    'expiredAt': datetime.datetime(2024, 8, 3, 5, 33, 23, 472000, tzinfo=<DstTzInfo 'Asia/Hong_Kong' HKT+8:00:00 STD>),\n",
       "    'createdAt': datetime.datetime(2024, 8, 3, 5, 9, 45, 157000, tzinfo=<DstTzInfo 'Asia/Hong_Kong' HKT+8:00:00 STD>),\n",
       "    'level': 2,\n",
       "    'pointId': 'Jyj6CjyjsJi2bCuGoJEh',\n",
       "    'pointName': '天恆邨'},\n",
       "   {'userId': 'skc-3@example.com',\n",
       "    'userName': '南葵中心3隊',\n",
       "    'expiredAt': datetime.datetime(2024, 8, 3, 5, 33, 23, 472000, tzinfo=<DstTzInfo 'Asia/Hong_Kong' HKT+8:00:00 STD>),\n",
       "    'createdAt': datetime.datetime(2024, 8, 3, 5, 20, 0, 795000, tzinfo=<DstTzInfo 'Asia/Hong_Kong' HKT+8:00:00 STD>),\n",
       "    'level': 3,\n",
       "    'pointId': 'Jyj6CjyjsJi2bCuGoJEh',\n",
       "    'pointName': '天恆邨'},\n",
       "   {'userId': 'skc-3@example.com',\n",
       "    'userName': '南葵中心3隊',\n",
       "    'expiredAt': datetime.datetime(2024, 8, 3, 5, 27, 32, 959000, tzinfo=<DstTzInfo 'Asia/Hong_Kong' HKT+8:00:00 STD>),\n",
       "    'createdAt': datetime.datetime(2024, 8, 3, 5, 23, 7, 697000, tzinfo=<DstTzInfo 'Asia/Hong_Kong' HKT+8:00:00 STD>),\n",
       "    'level': 3,\n",
       "    'pointId': 'H3FVbUzD54nQ2qo9qS4I',\n",
       "    'pointName': '天秀橋'},\n",
       "   {'userId': 'skc-3@example.com',\n",
       "    'userName': '南葵中心3隊',\n",
       "    'expiredAt': datetime.datetime(2024, 8, 3, 5, 34, 44, 264000, tzinfo=<DstTzInfo 'Asia/Hong_Kong' HKT+8:00:00 STD>),\n",
       "    'createdAt': datetime.datetime(2024, 8, 3, 5, 24, 3, 402000, tzinfo=<DstTzInfo 'Asia/Hong_Kong' HKT+8:00:00 STD>),\n",
       "    'level': 3,\n",
       "    'pointId': 'okz1iP0mtzm8Ng8w996H',\n",
       "    'pointName': '天富輕鐵站'},\n",
       "   {'userId': 'skc-3@example.com',\n",
       "    'userName': '南葵中心3隊',\n",
       "    'expiredAt': datetime.datetime(2024, 8, 3, 5, 33, 11, 754000, tzinfo=<DstTzInfo 'Asia/Hong_Kong' HKT+8:00:00 STD>),\n",
       "    'createdAt': datetime.datetime(2024, 8, 3, 5, 25, 32, 516000, tzinfo=<DstTzInfo 'Asia/Hong_Kong' HKT+8:00:00 STD>),\n",
       "    'level': 3,\n",
       "    'pointId': 'Hkvtx3FpDQ0tscj3JFoD',\n",
       "    'pointName': '天秀路天橋'},\n",
       "   {'userId': 'skc-3@example.com',\n",
       "    'userName': '南葵中心3隊',\n",
       "    'expiredAt': datetime.datetime(2024, 8, 3, 6, 33, 31, 782000, tzinfo=<DstTzInfo 'Asia/Hong_Kong' HKT+8:00:00 STD>),\n",
       "    'createdAt': datetime.datetime(2024, 8, 3, 5, 25, 55, 902000, tzinfo=<DstTzInfo 'Asia/Hong_Kong' HKT+8:00:00 STD>),\n",
       "    'level': 3,\n",
       "    'pointId': 'lsMaDq30KZQTqVmLhypX',\n",
       "    'pointName': '天富苑（二）'},\n",
       "   {'userId': 'skc-3@example.com',\n",
       "    'userName': '南葵中心3隊',\n",
       "    'expiredAt': datetime.datetime(2024, 8, 3, 5, 36, 23, 936000, tzinfo=<DstTzInfo 'Asia/Hong_Kong' HKT+8:00:00 STD>),\n",
       "    'createdAt': datetime.datetime(2024, 8, 3, 5, 34, 23, 792000, tzinfo=<DstTzInfo 'Asia/Hong_Kong' HKT+8:00:00 STD>),\n",
       "    'level': 3,\n",
       "    'pointId': '5FuPRNNQxn2MpCc3QxSq',\n",
       "    'pointName': '天瑞俓（六）'},\n",
       "   {'userId': 'skc-3@example.com',\n",
       "    'userName': '南葵中心3隊',\n",
       "    'expiredAt': datetime.datetime(2024, 8, 3, 6, 33, 31, 782000, tzinfo=<DstTzInfo 'Asia/Hong_Kong' HKT+8:00:00 STD>),\n",
       "    'createdAt': datetime.datetime(2024, 8, 3, 5, 36, 41, 603000, tzinfo=<DstTzInfo 'Asia/Hong_Kong' HKT+8:00:00 STD>),\n",
       "    'level': 3,\n",
       "    'pointId': 'cGkgDMMYwWfkNB0heYjM',\n",
       "    'pointName': '天瑞俓（四）'},\n",
       "   {'userId': 'skc-3@example.com',\n",
       "    'userName': '南葵中心3隊',\n",
       "    'expiredAt': datetime.datetime(2024, 8, 3, 6, 33, 31, 782000, tzinfo=<DstTzInfo 'Asia/Hong_Kong' HKT+8:00:00 STD>),\n",
       "    'createdAt': datetime.datetime(2024, 8, 3, 5, 42, 11, 260000, tzinfo=<DstTzInfo 'Asia/Hong_Kong' HKT+8:00:00 STD>),\n",
       "    'level': 3,\n",
       "    'pointId': 'Y54hD80CffPsd7hG6KZn',\n",
       "    'pointName': '天瑞俓（三）'},\n",
       "   {'userId': 'skc-3@example.com',\n",
       "    'userName': '南葵中心3隊',\n",
       "    'expiredAt': datetime.datetime(2024, 8, 3, 6, 33, 31, 782000, tzinfo=<DstTzInfo 'Asia/Hong_Kong' HKT+8:00:00 STD>),\n",
       "    'createdAt': datetime.datetime(2024, 8, 3, 5, 44, 31, 341000, tzinfo=<DstTzInfo 'Asia/Hong_Kong' HKT+8:00:00 STD>),\n",
       "    'level': 3,\n",
       "    'pointId': 'MM12lHGWCtvCbQvMy29H',\n",
       "    'pointName': '天瑞俓（二）'},\n",
       "   {'userId': 'skc-3@example.com',\n",
       "    'userName': '南葵中心3隊',\n",
       "    'expiredAt': datetime.datetime(2024, 8, 3, 6, 33, 31, 782000, tzinfo=<DstTzInfo 'Asia/Hong_Kong' HKT+8:00:00 STD>),\n",
       "    'createdAt': datetime.datetime(2024, 8, 3, 5, 48, 30, 321000, tzinfo=<DstTzInfo 'Asia/Hong_Kong' HKT+8:00:00 STD>),\n",
       "    'level': 3,\n",
       "    'pointId': 'xv6F5QsTKUVQasrDM5V5',\n",
       "    'pointName': '天瑞俓（一）'}]},\n",
       " {'name': '南葵中心4隊',\n",
       "  'capturedPoints': [{'userId': 'skc-4@example.com',\n",
       "    'userName': '南葵中心4隊',\n",
       "    'expiredAt': datetime.datetime(2024, 8, 3, 4, 22, 21, 223000, tzinfo=<DstTzInfo 'Asia/Hong_Kong' HKT+8:00:00 STD>),\n",
       "    'createdAt': datetime.datetime(2024, 8, 3, 4, 19, 6, 128000, tzinfo=<DstTzInfo 'Asia/Hong_Kong' HKT+8:00:00 STD>),\n",
       "    'level': 1,\n",
       "    'pointId': 'xFldNrcu765eRZc2hrsn',\n",
       "    'pointName': '聖葉理諾堂'},\n",
       "   {'userId': 'skc-4@example.com',\n",
       "    'userName': '南葵中心4隊',\n",
       "    'expiredAt': datetime.datetime(2024, 8, 3, 5, 41, 43, 53000, tzinfo=<DstTzInfo 'Asia/Hong_Kong' HKT+8:00:00 STD>),\n",
       "    'createdAt': datetime.datetime(2024, 8, 3, 4, 20, 21, 384000, tzinfo=<DstTzInfo 'Asia/Hong_Kong' HKT+8:00:00 STD>),\n",
       "    'level': 1,\n",
       "    'pointId': 'yhDNSAU3ByPksCfmW3E3',\n",
       "    'pointName': '天河路遊樂場涼亭'},\n",
       "   {'userId': 'skc-4@example.com',\n",
       "    'userName': '南葵中心4隊',\n",
       "    'expiredAt': datetime.datetime(2024, 8, 3, 5, 44, 31, 341000, tzinfo=<DstTzInfo 'Asia/Hong_Kong' HKT+8:00:00 STD>),\n",
       "    'createdAt': datetime.datetime(2024, 8, 3, 4, 22, 30, 677000, tzinfo=<DstTzInfo 'Asia/Hong_Kong' HKT+8:00:00 STD>),\n",
       "    'level': 1,\n",
       "    'pointId': 'MM12lHGWCtvCbQvMy29H',\n",
       "    'pointName': '天瑞俓（二）'},\n",
       "   {'userId': 'skc-4@example.com',\n",
       "    'userName': '南葵中心4隊',\n",
       "    'expiredAt': datetime.datetime(2024, 8, 3, 5, 42, 11, 260000, tzinfo=<DstTzInfo 'Asia/Hong_Kong' HKT+8:00:00 STD>),\n",
       "    'createdAt': datetime.datetime(2024, 8, 3, 4, 24, 10, 147000, tzinfo=<DstTzInfo 'Asia/Hong_Kong' HKT+8:00:00 STD>),\n",
       "    'level': 1,\n",
       "    'pointId': 'Y54hD80CffPsd7hG6KZn',\n",
       "    'pointName': '天瑞俓（三）'},\n",
       "   {'userId': 'skc-4@example.com',\n",
       "    'userName': '南葵中心4隊',\n",
       "    'expiredAt': datetime.datetime(2024, 8, 3, 5, 42, 41, 441000, tzinfo=<DstTzInfo 'Asia/Hong_Kong' HKT+8:00:00 STD>),\n",
       "    'createdAt': datetime.datetime(2024, 8, 3, 4, 27, 1, 823000, tzinfo=<DstTzInfo 'Asia/Hong_Kong' HKT+8:00:00 STD>),\n",
       "    'level': 1,\n",
       "    'pointId': 'gFJqiYep8W1OwbFTueIM',\n",
       "    'pointName': '天瑞路公園涼亭'},\n",
       "   {'userId': 'skc-4@example.com',\n",
       "    'userName': '南葵中心4隊',\n",
       "    'expiredAt': datetime.datetime(2024, 8, 3, 6, 12, 9, 63000, tzinfo=<DstTzInfo 'Asia/Hong_Kong' HKT+8:00:00 STD>),\n",
       "    'createdAt': datetime.datetime(2024, 8, 3, 4, 30, 22, 150000, tzinfo=<DstTzInfo 'Asia/Hong_Kong' HKT+8:00:00 STD>),\n",
       "    'level': 1,\n",
       "    'pointId': '45ntnYbmnHBUIEyvTtNs',\n",
       "    'pointName': '天瑞社區中心'},\n",
       "   {'userId': 'skc-4@example.com',\n",
       "    'userName': '南葵中心4隊',\n",
       "    'expiredAt': datetime.datetime(2024, 8, 3, 6, 15, 26, 468000, tzinfo=<DstTzInfo 'Asia/Hong_Kong' HKT+8:00:00 STD>),\n",
       "    'createdAt': datetime.datetime(2024, 8, 3, 4, 31, 43, 597000, tzinfo=<DstTzInfo 'Asia/Hong_Kong' HKT+8:00:00 STD>),\n",
       "    'level': 1,\n",
       "    'pointId': 'rSnhF4HYEnTG98p9E7To',\n",
       "    'pointName': '天水圍公園（西）'},\n",
       "   {'userId': 'skc-4@example.com',\n",
       "    'userName': '南葵中心4隊',\n",
       "    'expiredAt': datetime.datetime(2024, 8, 3, 5, 40, 49, 717000, tzinfo=<DstTzInfo 'Asia/Hong_Kong' HKT+8:00:00 STD>),\n",
       "    'createdAt': datetime.datetime(2024, 8, 3, 4, 49, 43, 805000, tzinfo=<DstTzInfo 'Asia/Hong_Kong' HKT+8:00:00 STD>),\n",
       "    'level': 2,\n",
       "    'pointId': 'bCr9LBCAj1mIDzHk63Iz',\n",
       "    'pointName': '天華橋'},\n",
       "   {'userId': 'skc-4@example.com',\n",
       "    'userName': '南葵中心4隊',\n",
       "    'expiredAt': datetime.datetime(2024, 8, 3, 6, 33, 31, 782000, tzinfo=<DstTzInfo 'Asia/Hong_Kong' HKT+8:00:00 STD>),\n",
       "    'createdAt': datetime.datetime(2024, 8, 3, 4, 53, 43, 491000, tzinfo=<DstTzInfo 'Asia/Hong_Kong' HKT+8:00:00 STD>),\n",
       "    'level': 2,\n",
       "    'pointId': 'zm9JjBWHejS6bInoC32d',\n",
       "    'pointName': '天華天橋樓梯'},\n",
       "   {'userId': 'skc-4@example.com',\n",
       "    'userName': '南葵中心4隊',\n",
       "    'expiredAt': datetime.datetime(2024, 8, 3, 6, 15, 26, 468000, tzinfo=<DstTzInfo 'Asia/Hong_Kong' HKT+8:00:00 STD>),\n",
       "    'createdAt': datetime.datetime(2024, 8, 3, 4, 58, 14, 60000, tzinfo=<DstTzInfo 'Asia/Hong_Kong' HKT+8:00:00 STD>),\n",
       "    'level': 2,\n",
       "    'pointId': 'rSnhF4HYEnTG98p9E7To',\n",
       "    'pointName': '天水圍公園（西）'},\n",
       "   {'userId': 'skc-4@example.com',\n",
       "    'userName': '南葵中心4隊',\n",
       "    'expiredAt': datetime.datetime(2024, 8, 3, 6, 12, 9, 63000, tzinfo=<DstTzInfo 'Asia/Hong_Kong' HKT+8:00:00 STD>),\n",
       "    'createdAt': datetime.datetime(2024, 8, 3, 4, 58, 32, 389000, tzinfo=<DstTzInfo 'Asia/Hong_Kong' HKT+8:00:00 STD>),\n",
       "    'level': 2,\n",
       "    'pointId': '45ntnYbmnHBUIEyvTtNs',\n",
       "    'pointName': '天瑞社區中心'},\n",
       "   {'userId': 'skc-4@example.com',\n",
       "    'userName': '南葵中心4隊',\n",
       "    'expiredAt': datetime.datetime(2024, 8, 3, 5, 42, 11, 260000, tzinfo=<DstTzInfo 'Asia/Hong_Kong' HKT+8:00:00 STD>),\n",
       "    'createdAt': datetime.datetime(2024, 8, 3, 5, 1, 14, 785000, tzinfo=<DstTzInfo 'Asia/Hong_Kong' HKT+8:00:00 STD>),\n",
       "    'level': 2,\n",
       "    'pointId': 'Y54hD80CffPsd7hG6KZn',\n",
       "    'pointName': '天瑞俓（三）'},\n",
       "   {'userId': 'skc-4@example.com',\n",
       "    'userName': '南葵中心4隊',\n",
       "    'expiredAt': datetime.datetime(2024, 8, 3, 5, 12, 44, 328000, tzinfo=<DstTzInfo 'Asia/Hong_Kong' HKT+8:00:00 STD>),\n",
       "    'createdAt': datetime.datetime(2024, 8, 3, 5, 5, 9, 19000, tzinfo=<DstTzInfo 'Asia/Hong_Kong' HKT+8:00:00 STD>),\n",
       "    'level': 2,\n",
       "    'pointId': 'xv6F5QsTKUVQasrDM5V5',\n",
       "    'pointName': '天瑞俓（一）'},\n",
       "   {'userId': 'skc-4@example.com',\n",
       "    'userName': '南葵中心4隊',\n",
       "    'expiredAt': datetime.datetime(2024, 8, 3, 5, 42, 11, 260000, tzinfo=<DstTzInfo 'Asia/Hong_Kong' HKT+8:00:00 STD>),\n",
       "    'createdAt': datetime.datetime(2024, 8, 3, 5, 6, 36, 316000, tzinfo=<DstTzInfo 'Asia/Hong_Kong' HKT+8:00:00 STD>),\n",
       "    'level': 2,\n",
       "    'pointId': 'Y54hD80CffPsd7hG6KZn',\n",
       "    'pointName': '天瑞俓（三）'},\n",
       "   {'userId': 'skc-4@example.com',\n",
       "    'userName': '南葵中心4隊',\n",
       "    'expiredAt': datetime.datetime(2024, 8, 3, 5, 44, 31, 341000, tzinfo=<DstTzInfo 'Asia/Hong_Kong' HKT+8:00:00 STD>),\n",
       "    'createdAt': datetime.datetime(2024, 8, 3, 5, 7, 4, 199000, tzinfo=<DstTzInfo 'Asia/Hong_Kong' HKT+8:00:00 STD>),\n",
       "    'level': 2,\n",
       "    'pointId': 'MM12lHGWCtvCbQvMy29H',\n",
       "    'pointName': '天瑞俓（二）'},\n",
       "   {'userId': 'skc-4@example.com',\n",
       "    'userName': '南葵中心4隊',\n",
       "    'expiredAt': datetime.datetime(2024, 8, 3, 5, 42, 41, 441000, tzinfo=<DstTzInfo 'Asia/Hong_Kong' HKT+8:00:00 STD>),\n",
       "    'createdAt': datetime.datetime(2024, 8, 3, 5, 8, 16, 402000, tzinfo=<DstTzInfo 'Asia/Hong_Kong' HKT+8:00:00 STD>),\n",
       "    'level': 2,\n",
       "    'pointId': 'gFJqiYep8W1OwbFTueIM',\n",
       "    'pointName': '天瑞路公園涼亭'},\n",
       "   {'userId': 'skc-4@example.com',\n",
       "    'userName': '南葵中心4隊',\n",
       "    'expiredAt': datetime.datetime(2024, 8, 3, 5, 41, 43, 53000, tzinfo=<DstTzInfo 'Asia/Hong_Kong' HKT+8:00:00 STD>),\n",
       "    'createdAt': datetime.datetime(2024, 8, 3, 5, 12, 54, 202000, tzinfo=<DstTzInfo 'Asia/Hong_Kong' HKT+8:00:00 STD>),\n",
       "    'level': 2,\n",
       "    'pointId': 'yhDNSAU3ByPksCfmW3E3',\n",
       "    'pointName': '天河路遊樂場涼亭'},\n",
       "   {'userId': 'skc-4@example.com',\n",
       "    'userName': '南葵中心4隊',\n",
       "    'expiredAt': datetime.datetime(2024, 8, 3, 5, 40, 49, 717000, tzinfo=<DstTzInfo 'Asia/Hong_Kong' HKT+8:00:00 STD>),\n",
       "    'createdAt': datetime.datetime(2024, 8, 3, 5, 17, 46, 594000, tzinfo=<DstTzInfo 'Asia/Hong_Kong' HKT+8:00:00 STD>),\n",
       "    'level': 2,\n",
       "    'pointId': 'bCr9LBCAj1mIDzHk63Iz',\n",
       "    'pointName': '天華橋'},\n",
       "   {'userId': 'skc-4@example.com',\n",
       "    'userName': '南葵中心4隊',\n",
       "    'expiredAt': datetime.datetime(2024, 8, 3, 5, 44, 31, 341000, tzinfo=<DstTzInfo 'Asia/Hong_Kong' HKT+8:00:00 STD>),\n",
       "    'createdAt': datetime.datetime(2024, 8, 3, 5, 20, 34, 646000, tzinfo=<DstTzInfo 'Asia/Hong_Kong' HKT+8:00:00 STD>),\n",
       "    'level': 2,\n",
       "    'pointId': 'MM12lHGWCtvCbQvMy29H',\n",
       "    'pointName': '天瑞俓（二）'},\n",
       "   {'userId': 'skc-4@example.com',\n",
       "    'userName': '南葵中心4隊',\n",
       "    'expiredAt': datetime.datetime(2024, 8, 3, 6, 33, 31, 782000, tzinfo=<DstTzInfo 'Asia/Hong_Kong' HKT+8:00:00 STD>),\n",
       "    'createdAt': datetime.datetime(2024, 8, 3, 5, 40, 49, 717000, tzinfo=<DstTzInfo 'Asia/Hong_Kong' HKT+8:00:00 STD>),\n",
       "    'level': 3,\n",
       "    'pointId': 'bCr9LBCAj1mIDzHk63Iz',\n",
       "    'pointName': '天華橋'},\n",
       "   {'userId': 'skc-4@example.com',\n",
       "    'userName': '南葵中心4隊',\n",
       "    'expiredAt': datetime.datetime(2024, 8, 3, 6, 12, 9, 63000, tzinfo=<DstTzInfo 'Asia/Hong_Kong' HKT+8:00:00 STD>),\n",
       "    'createdAt': datetime.datetime(2024, 8, 3, 5, 40, 56, 120000, tzinfo=<DstTzInfo 'Asia/Hong_Kong' HKT+8:00:00 STD>),\n",
       "    'level': 3,\n",
       "    'pointId': '45ntnYbmnHBUIEyvTtNs',\n",
       "    'pointName': '天瑞社區中心'},\n",
       "   {'userId': 'skc-4@example.com',\n",
       "    'userName': '南葵中心4隊',\n",
       "    'expiredAt': datetime.datetime(2024, 8, 3, 5, 42, 11, 260000, tzinfo=<DstTzInfo 'Asia/Hong_Kong' HKT+8:00:00 STD>),\n",
       "    'createdAt': datetime.datetime(2024, 8, 3, 5, 41, 1, 262000, tzinfo=<DstTzInfo 'Asia/Hong_Kong' HKT+8:00:00 STD>),\n",
       "    'level': 3,\n",
       "    'pointId': 'Y54hD80CffPsd7hG6KZn',\n",
       "    'pointName': '天瑞俓（三）'},\n",
       "   {'userId': 'skc-4@example.com',\n",
       "    'userName': '南葵中心4隊',\n",
       "    'expiredAt': datetime.datetime(2024, 8, 3, 5, 44, 31, 341000, tzinfo=<DstTzInfo 'Asia/Hong_Kong' HKT+8:00:00 STD>),\n",
       "    'createdAt': datetime.datetime(2024, 8, 3, 5, 41, 8, 423000, tzinfo=<DstTzInfo 'Asia/Hong_Kong' HKT+8:00:00 STD>),\n",
       "    'level': 3,\n",
       "    'pointId': 'MM12lHGWCtvCbQvMy29H',\n",
       "    'pointName': '天瑞俓（二）'},\n",
       "   {'userId': 'skc-4@example.com',\n",
       "    'userName': '南葵中心4隊',\n",
       "    'expiredAt': datetime.datetime(2024, 8, 3, 6, 33, 31, 782000, tzinfo=<DstTzInfo 'Asia/Hong_Kong' HKT+8:00:00 STD>),\n",
       "    'createdAt': datetime.datetime(2024, 8, 3, 5, 41, 43, 53000, tzinfo=<DstTzInfo 'Asia/Hong_Kong' HKT+8:00:00 STD>),\n",
       "    'level': 3,\n",
       "    'pointId': 'yhDNSAU3ByPksCfmW3E3',\n",
       "    'pointName': '天河路遊樂場涼亭'},\n",
       "   {'userId': 'skc-4@example.com',\n",
       "    'userName': '南葵中心4隊',\n",
       "    'expiredAt': datetime.datetime(2024, 8, 3, 6, 15, 26, 468000, tzinfo=<DstTzInfo 'Asia/Hong_Kong' HKT+8:00:00 STD>),\n",
       "    'createdAt': datetime.datetime(2024, 8, 3, 5, 41, 53, 978000, tzinfo=<DstTzInfo 'Asia/Hong_Kong' HKT+8:00:00 STD>),\n",
       "    'level': 3,\n",
       "    'pointId': 'rSnhF4HYEnTG98p9E7To',\n",
       "    'pointName': '天水圍公園（西）'},\n",
       "   {'userId': 'skc-4@example.com',\n",
       "    'userName': '南葵中心4隊',\n",
       "    'expiredAt': datetime.datetime(2024, 8, 3, 6, 33, 31, 782000, tzinfo=<DstTzInfo 'Asia/Hong_Kong' HKT+8:00:00 STD>),\n",
       "    'createdAt': datetime.datetime(2024, 8, 3, 5, 42, 41, 441000, tzinfo=<DstTzInfo 'Asia/Hong_Kong' HKT+8:00:00 STD>),\n",
       "    'level': 3,\n",
       "    'pointId': 'gFJqiYep8W1OwbFTueIM',\n",
       "    'pointName': '天瑞路公園涼亭'}]},\n",
       " {'name': '上環/將軍澳中心隊',\n",
       "  'capturedPoints': [{'userId': 'sw-2@example.com',\n",
       "    'userName': '上環/將軍澳中心隊',\n",
       "    'expiredAt': datetime.datetime(2024, 8, 3, 5, 46, 58, 326000, tzinfo=<DstTzInfo 'Asia/Hong_Kong' HKT+8:00:00 STD>),\n",
       "    'createdAt': datetime.datetime(2024, 8, 3, 4, 23, 5, 36000, tzinfo=<DstTzInfo 'Asia/Hong_Kong' HKT+8:00:00 STD>),\n",
       "    'level': 1,\n",
       "    'pointId': '0gHiSX9dMHkVpffFR9RU',\n",
       "    'pointName': '天水圍體育館'},\n",
       "   {'userId': 'sw-2@example.com',\n",
       "    'userName': '上環/將軍澳中心隊',\n",
       "    'expiredAt': datetime.datetime(2024, 8, 3, 5, 41, 47, 810000, tzinfo=<DstTzInfo 'Asia/Hong_Kong' HKT+8:00:00 STD>),\n",
       "    'createdAt': datetime.datetime(2024, 8, 3, 4, 27, 41, 262000, tzinfo=<DstTzInfo 'Asia/Hong_Kong' HKT+8:00:00 STD>),\n",
       "    'level': 1,\n",
       "    'pointId': 'Un4smPc0lSA8jpfvA5zJ',\n",
       "    'pointName': '天水圍游泳池'},\n",
       "   {'userId': 'sw-2@example.com',\n",
       "    'userName': '上環/將軍澳中心隊',\n",
       "    'expiredAt': datetime.datetime(2024, 8, 3, 5, 53, 44, 950000, tzinfo=<DstTzInfo 'Asia/Hong_Kong' HKT+8:00:00 STD>),\n",
       "    'createdAt': datetime.datetime(2024, 8, 3, 4, 33, 32, 115000, tzinfo=<DstTzInfo 'Asia/Hong_Kong' HKT+8:00:00 STD>),\n",
       "    'level': 1,\n",
       "    'pointId': '778jzmzKpOvgRHIHcHms',\n",
       "    'pointName': '麗湖居'},\n",
       "   {'userId': 'sw-2@example.com',\n",
       "    'userName': '上環/將軍澳中心隊',\n",
       "    'expiredAt': datetime.datetime(2024, 8, 3, 6, 33, 31, 782000, tzinfo=<DstTzInfo 'Asia/Hong_Kong' HKT+8:00:00 STD>),\n",
       "    'createdAt': datetime.datetime(2024, 8, 3, 5, 6, 22, 364000, tzinfo=<DstTzInfo 'Asia/Hong_Kong' HKT+8:00:00 STD>),\n",
       "    'level': 2,\n",
       "    'pointId': 'cWpn4JjGvqovfXr7L2rP',\n",
       "    'pointName': '天城路天橋'},\n",
       "   {'userId': 'sw-2@example.com',\n",
       "    'userName': '上環/將軍澳中心隊',\n",
       "    'expiredAt': datetime.datetime(2024, 8, 3, 6, 33, 31, 782000, tzinfo=<DstTzInfo 'Asia/Hong_Kong' HKT+8:00:00 STD>),\n",
       "    'createdAt': datetime.datetime(2024, 8, 3, 5, 15, 7, 643000, tzinfo=<DstTzInfo 'Asia/Hong_Kong' HKT+8:00:00 STD>),\n",
       "    'level': 2,\n",
       "    'pointId': 'ObC8rDBZIJcoRZJfBp1v',\n",
       "    'pointName': '天悅天橋'},\n",
       "   {'userId': 'sw-2@example.com',\n",
       "    'userName': '上環/將軍澳中心隊',\n",
       "    'expiredAt': datetime.datetime(2024, 8, 3, 6, 33, 31, 782000, tzinfo=<DstTzInfo 'Asia/Hong_Kong' HKT+8:00:00 STD>),\n",
       "    'createdAt': datetime.datetime(2024, 8, 3, 5, 21, 53, 146000, tzinfo=<DstTzInfo 'Asia/Hong_Kong' HKT+8:00:00 STD>),\n",
       "    'level': 2,\n",
       "    'pointId': 'jUxLM67JkOsDpcvCvso1',\n",
       "    'pointName': '天華巴士站'},\n",
       "   {'userId': 'sw-2@example.com',\n",
       "    'userName': '上環/將軍澳中心隊',\n",
       "    'expiredAt': datetime.datetime(2024, 8, 3, 6, 33, 31, 782000, tzinfo=<DstTzInfo 'Asia/Hong_Kong' HKT+8:00:00 STD>),\n",
       "    'createdAt': datetime.datetime(2024, 8, 3, 5, 25, 59, 135000, tzinfo=<DstTzInfo 'Asia/Hong_Kong' HKT+8:00:00 STD>),\n",
       "    'level': 2,\n",
       "    'pointId': 'IkAECCDTwkvlAMt5lQZ4',\n",
       "    'pointName': '天華垃圾筒'},\n",
       "   {'userId': 'sw-2@example.com',\n",
       "    'userName': '上環/將軍澳中心隊',\n",
       "    'expiredAt': datetime.datetime(2024, 8, 3, 6, 33, 31, 782000, tzinfo=<DstTzInfo 'Asia/Hong_Kong' HKT+8:00:00 STD>),\n",
       "    'createdAt': datetime.datetime(2024, 8, 3, 5, 28, 19, 730000, tzinfo=<DstTzInfo 'Asia/Hong_Kong' HKT+8:00:00 STD>),\n",
       "    'level': 2,\n",
       "    'pointId': '4WvOcZ1x4sDSnEXete8m',\n",
       "    'pointName': '天業路公園（表）'},\n",
       "   {'userId': 'sw-2@example.com',\n",
       "    'userName': '上環/將軍澳中心隊',\n",
       "    'expiredAt': datetime.datetime(2024, 8, 3, 6, 33, 31, 782000, tzinfo=<DstTzInfo 'Asia/Hong_Kong' HKT+8:00:00 STD>),\n",
       "    'createdAt': datetime.datetime(2024, 8, 3, 5, 44, 16, 441000, tzinfo=<DstTzInfo 'Asia/Hong_Kong' HKT+8:00:00 STD>),\n",
       "    'level': 2,\n",
       "    'pointId': 'kqK4XRQZ348HdJEaKjEd',\n",
       "    'pointName': '天晴社區綜合服務大樓'},\n",
       "   {'userId': 'sw-2@example.com',\n",
       "    'userName': '上環/將軍澳中心隊',\n",
       "    'expiredAt': datetime.datetime(2024, 8, 3, 6, 33, 31, 782000, tzinfo=<DstTzInfo 'Asia/Hong_Kong' HKT+8:00:00 STD>),\n",
       "    'createdAt': datetime.datetime(2024, 8, 3, 5, 46, 55, 562000, tzinfo=<DstTzInfo 'Asia/Hong_Kong' HKT+8:00:00 STD>),\n",
       "    'level': 2,\n",
       "    'pointId': 'zoKPwjKHPyiu0i6BtHmx',\n",
       "    'pointName': '天業路公園（裏）'},\n",
       "   {'userId': 'sw-2@example.com',\n",
       "    'userName': '上環/將軍澳中心隊',\n",
       "    'expiredAt': datetime.datetime(2024, 8, 3, 6, 33, 31, 782000, tzinfo=<DstTzInfo 'Asia/Hong_Kong' HKT+8:00:00 STD>),\n",
       "    'createdAt': datetime.datetime(2024, 8, 3, 6, 12, 9, 63000, tzinfo=<DstTzInfo 'Asia/Hong_Kong' HKT+8:00:00 STD>),\n",
       "    'level': 3,\n",
       "    'pointId': '45ntnYbmnHBUIEyvTtNs',\n",
       "    'pointName': '天瑞社區中心'},\n",
       "   {'userId': 'sw-2@example.com',\n",
       "    'userName': '上環/將軍澳中心隊',\n",
       "    'expiredAt': datetime.datetime(2024, 8, 3, 6, 33, 31, 782000, tzinfo=<DstTzInfo 'Asia/Hong_Kong' HKT+8:00:00 STD>),\n",
       "    'createdAt': datetime.datetime(2024, 8, 3, 6, 15, 26, 468000, tzinfo=<DstTzInfo 'Asia/Hong_Kong' HKT+8:00:00 STD>),\n",
       "    'level': 3,\n",
       "    'pointId': 'rSnhF4HYEnTG98p9E7To',\n",
       "    'pointName': '天水圍公園（西）'}]},\n",
       " {'name': '南葵中心2隊',\n",
       "  'capturedPoints': [{'userId': 'skc-2@example.com',\n",
       "    'userName': '南葵中心2隊',\n",
       "    'expiredAt': datetime.datetime(2024, 8, 3, 4, 35, 10, 285000, tzinfo=<DstTzInfo 'Asia/Hong_Kong' HKT+8:00:00 STD>),\n",
       "    'createdAt': datetime.datetime(2024, 8, 3, 4, 33, 36, 576000, tzinfo=<DstTzInfo 'Asia/Hong_Kong' HKT+8:00:00 STD>),\n",
       "    'level': 1,\n",
       "    'pointId': '45ntnYbmnHBUIEyvTtNs',\n",
       "    'pointName': '天瑞社區中心'},\n",
       "   {'userId': 'skc-2@example.com',\n",
       "    'userName': '南葵中心2隊',\n",
       "    'expiredAt': datetime.datetime(2024, 8, 3, 6, 33, 31, 782000, tzinfo=<DstTzInfo 'Asia/Hong_Kong' HKT+8:00:00 STD>),\n",
       "    'createdAt': datetime.datetime(2024, 8, 3, 4, 51, 29, 331000, tzinfo=<DstTzInfo 'Asia/Hong_Kong' HKT+8:00:00 STD>),\n",
       "    'level': 2,\n",
       "    'pointId': 'stpbAJ0ixmFg8KELxSzz',\n",
       "    'pointName': '天榮路西'},\n",
       "   {'userId': 'skc-2@example.com',\n",
       "    'userName': '南葵中心2隊',\n",
       "    'expiredAt': datetime.datetime(2024, 8, 3, 6, 22, 50, 375000, tzinfo=<DstTzInfo 'Asia/Hong_Kong' HKT+8:00:00 STD>),\n",
       "    'createdAt': datetime.datetime(2024, 8, 3, 4, 55, 35, 43000, tzinfo=<DstTzInfo 'Asia/Hong_Kong' HKT+8:00:00 STD>),\n",
       "    'level': 2,\n",
       "    'pointId': 'IeOJr7CsyHXad2DUL3n4',\n",
       "    'pointName': '栢慧豪廷門口'},\n",
       "   {'userId': 'skc-2@example.com',\n",
       "    'userName': '南葵中心2隊',\n",
       "    'expiredAt': datetime.datetime(2024, 8, 3, 5, 46, 46, 275000, tzinfo=<DstTzInfo 'Asia/Hong_Kong' HKT+8:00:00 STD>),\n",
       "    'createdAt': datetime.datetime(2024, 8, 3, 4, 59, 7, 445000, tzinfo=<DstTzInfo 'Asia/Hong_Kong' HKT+8:00:00 STD>),\n",
       "    'level': 2,\n",
       "    'pointId': 'YvzEAhiBhJrOstmGXoH3',\n",
       "    'pointName': '天榮路東'},\n",
       "   {'userId': 'skc-2@example.com',\n",
       "    'userName': '南葵中心2隊',\n",
       "    'expiredAt': datetime.datetime(2024, 8, 3, 6, 33, 31, 782000, tzinfo=<DstTzInfo 'Asia/Hong_Kong' HKT+8:00:00 STD>),\n",
       "    'createdAt': datetime.datetime(2024, 8, 3, 5, 3, 12, 295000, tzinfo=<DstTzInfo 'Asia/Hong_Kong' HKT+8:00:00 STD>),\n",
       "    'level': 2,\n",
       "    'pointId': 'KDlGq7jkxmDLdBQusflu',\n",
       "    'pointName': '天華路迴旋處'},\n",
       "   {'userId': 'skc-2@example.com',\n",
       "    'userName': '南葵中心2隊',\n",
       "    'expiredAt': datetime.datetime(2024, 8, 3, 6, 33, 31, 782000, tzinfo=<DstTzInfo 'Asia/Hong_Kong' HKT+8:00:00 STD>),\n",
       "    'createdAt': datetime.datetime(2024, 8, 3, 5, 5, 2, 578000, tzinfo=<DstTzInfo 'Asia/Hong_Kong' HKT+8:00:00 STD>),\n",
       "    'level': 2,\n",
       "    'pointId': 'YkBf4s7i1Q9vkKw6whxX',\n",
       "    'pointName': 'T TOWN\\xa0停車場外'},\n",
       "   {'userId': 'skc-2@example.com',\n",
       "    'userName': '南葵中心2隊',\n",
       "    'expiredAt': datetime.datetime(2024, 8, 3, 5, 24, 3, 402000, tzinfo=<DstTzInfo 'Asia/Hong_Kong' HKT+8:00:00 STD>),\n",
       "    'createdAt': datetime.datetime(2024, 8, 3, 5, 12, 2, 277000, tzinfo=<DstTzInfo 'Asia/Hong_Kong' HKT+8:00:00 STD>),\n",
       "    'level': 2,\n",
       "    'pointId': 'okz1iP0mtzm8Ng8w996H',\n",
       "    'pointName': '天富輕鐵站'},\n",
       "   {'userId': 'skc-2@example.com',\n",
       "    'userName': '南葵中心2隊',\n",
       "    'expiredAt': datetime.datetime(2024, 8, 3, 5, 25, 32, 516000, tzinfo=<DstTzInfo 'Asia/Hong_Kong' HKT+8:00:00 STD>),\n",
       "    'createdAt': datetime.datetime(2024, 8, 3, 5, 13, 38, 253000, tzinfo=<DstTzInfo 'Asia/Hong_Kong' HKT+8:00:00 STD>),\n",
       "    'level': 2,\n",
       "    'pointId': 'Hkvtx3FpDQ0tscj3JFoD',\n",
       "    'pointName': '天秀路天橋'},\n",
       "   {'userId': 'skc-2@example.com',\n",
       "    'userName': '南葵中心2隊',\n",
       "    'expiredAt': datetime.datetime(2024, 8, 3, 5, 25, 55, 902000, tzinfo=<DstTzInfo 'Asia/Hong_Kong' HKT+8:00:00 STD>),\n",
       "    'createdAt': datetime.datetime(2024, 8, 3, 5, 16, 33, 675000, tzinfo=<DstTzInfo 'Asia/Hong_Kong' HKT+8:00:00 STD>),\n",
       "    'level': 2,\n",
       "    'pointId': 'lsMaDq30KZQTqVmLhypX',\n",
       "    'pointName': '天富苑（二）'},\n",
       "   {'userId': 'skc-2@example.com',\n",
       "    'userName': '南葵中心2隊',\n",
       "    'expiredAt': datetime.datetime(2024, 8, 3, 6, 33, 31, 782000, tzinfo=<DstTzInfo 'Asia/Hong_Kong' HKT+8:00:00 STD>),\n",
       "    'createdAt': datetime.datetime(2024, 8, 3, 5, 18, 34, 461000, tzinfo=<DstTzInfo 'Asia/Hong_Kong' HKT+8:00:00 STD>),\n",
       "    'level': 2,\n",
       "    'pointId': 'hb8n1fRoYAoq98HCjsLM',\n",
       "    'pointName': '天富苑（一）'},\n",
       "   {'userId': 'skc-2@example.com',\n",
       "    'userName': '南葵中心2隊',\n",
       "    'expiredAt': datetime.datetime(2024, 8, 3, 6, 33, 31, 782000, tzinfo=<DstTzInfo 'Asia/Hong_Kong' HKT+8:00:00 STD>),\n",
       "    'createdAt': datetime.datetime(2024, 8, 3, 5, 24, 5, 436000, tzinfo=<DstTzInfo 'Asia/Hong_Kong' HKT+8:00:00 STD>),\n",
       "    'level': 2,\n",
       "    'pointId': '9x7CivYV0uH4VTfNU3Gs',\n",
       "    'pointName': '天秀足球場'},\n",
       "   {'userId': 'skc-2@example.com',\n",
       "    'userName': '南葵中心2隊',\n",
       "    'expiredAt': datetime.datetime(2024, 8, 3, 6, 33, 31, 782000, tzinfo=<DstTzInfo 'Asia/Hong_Kong' HKT+8:00:00 STD>),\n",
       "    'createdAt': datetime.datetime(2024, 8, 3, 5, 37, 44, 160000, tzinfo=<DstTzInfo 'Asia/Hong_Kong' HKT+8:00:00 STD>),\n",
       "    'level': 2,\n",
       "    'pointId': '8y79Ng02zepSw4BROkmt',\n",
       "    'pointName': '濕地公園單車隧道'},\n",
       "   {'userId': 'skc-2@example.com',\n",
       "    'userName': '南葵中心2隊',\n",
       "    'expiredAt': datetime.datetime(2024, 8, 3, 6, 33, 31, 782000, tzinfo=<DstTzInfo 'Asia/Hong_Kong' HKT+8:00:00 STD>),\n",
       "    'createdAt': datetime.datetime(2024, 8, 3, 5, 47, 34, 150000, tzinfo=<DstTzInfo 'Asia/Hong_Kong' HKT+8:00:00 STD>),\n",
       "    'level': 2,\n",
       "    'pointId': '45aLp8Tx5wGP606fx32M',\n",
       "    'pointName': '慧景軒巴士站'},\n",
       "   {'userId': 'skc-2@example.com',\n",
       "    'userName': '南葵中心2隊',\n",
       "    'expiredAt': datetime.datetime(2024, 8, 3, 6, 33, 31, 782000, tzinfo=<DstTzInfo 'Asia/Hong_Kong' HKT+8:00:00 STD>),\n",
       "    'createdAt': datetime.datetime(2024, 8, 3, 5, 53, 49, 592000, tzinfo=<DstTzInfo 'Asia/Hong_Kong' HKT+8:00:00 STD>),\n",
       "    'level': 2,\n",
       "    'pointId': 'KlBjSjUv2OjIMppFsvHq',\n",
       "    'pointName': '濕地公園門口'},\n",
       "   {'userId': 'skc-2@example.com',\n",
       "    'userName': '南葵中心2隊',\n",
       "    'expiredAt': datetime.datetime(2024, 8, 3, 6, 33, 31, 782000, tzinfo=<DstTzInfo 'Asia/Hong_Kong' HKT+8:00:00 STD>),\n",
       "    'createdAt': datetime.datetime(2024, 8, 3, 5, 56, 4, 14000, tzinfo=<DstTzInfo 'Asia/Hong_Kong' HKT+8:00:00 STD>),\n",
       "    'level': 2,\n",
       "    'pointId': '2d52tp09iWfccGggsMH5',\n",
       "    'pointName': '流浮山消防局'}]},\n",
       " {'name': '南葵中心1隊',\n",
       "  'capturedPoints': [{'userId': 'skc-1@example.com',\n",
       "    'userName': '南葵中心1隊',\n",
       "    'expiredAt': datetime.datetime(2024, 8, 3, 5, 7, 15, 858000, tzinfo=<DstTzInfo 'Asia/Hong_Kong' HKT+8:00:00 STD>),\n",
       "    'createdAt': datetime.datetime(2024, 8, 3, 4, 22, 21, 223000, tzinfo=<DstTzInfo 'Asia/Hong_Kong' HKT+8:00:00 STD>),\n",
       "    'level': 1,\n",
       "    'pointId': 'xFldNrcu765eRZc2hrsn',\n",
       "    'pointName': '聖葉理諾堂'},\n",
       "   {'userId': 'skc-1@example.com',\n",
       "    'userName': '南葵中心1隊',\n",
       "    'expiredAt': datetime.datetime(2024, 8, 3, 5, 41, 43, 53000, tzinfo=<DstTzInfo 'Asia/Hong_Kong' HKT+8:00:00 STD>),\n",
       "    'createdAt': datetime.datetime(2024, 8, 3, 4, 24, 1, 956000, tzinfo=<DstTzInfo 'Asia/Hong_Kong' HKT+8:00:00 STD>),\n",
       "    'level': 1,\n",
       "    'pointId': 'yhDNSAU3ByPksCfmW3E3',\n",
       "    'pointName': '天河路遊樂場涼亭'},\n",
       "   {'userId': 'skc-1@example.com',\n",
       "    'userName': '南葵中心1隊',\n",
       "    'expiredAt': datetime.datetime(2024, 8, 3, 5, 20, 34, 646000, tzinfo=<DstTzInfo 'Asia/Hong_Kong' HKT+8:00:00 STD>),\n",
       "    'createdAt': datetime.datetime(2024, 8, 3, 4, 25, 48, 348000, tzinfo=<DstTzInfo 'Asia/Hong_Kong' HKT+8:00:00 STD>),\n",
       "    'level': 1,\n",
       "    'pointId': 'MM12lHGWCtvCbQvMy29H',\n",
       "    'pointName': '天瑞俓（二）'},\n",
       "   {'userId': 'skc-1@example.com',\n",
       "    'userName': '南葵中心1隊',\n",
       "    'expiredAt': datetime.datetime(2024, 8, 3, 5, 48, 30, 321000, tzinfo=<DstTzInfo 'Asia/Hong_Kong' HKT+8:00:00 STD>),\n",
       "    'createdAt': datetime.datetime(2024, 8, 3, 4, 27, 43, 36000, tzinfo=<DstTzInfo 'Asia/Hong_Kong' HKT+8:00:00 STD>),\n",
       "    'level': 1,\n",
       "    'pointId': 'xv6F5QsTKUVQasrDM5V5',\n",
       "    'pointName': '天瑞俓（一）'},\n",
       "   {'userId': 'skc-1@example.com',\n",
       "    'userName': '南葵中心1隊',\n",
       "    'expiredAt': datetime.datetime(2024, 8, 3, 4, 58, 14, 60000, tzinfo=<DstTzInfo 'Asia/Hong_Kong' HKT+8:00:00 STD>),\n",
       "    'createdAt': datetime.datetime(2024, 8, 3, 4, 33, 53, 361000, tzinfo=<DstTzInfo 'Asia/Hong_Kong' HKT+8:00:00 STD>),\n",
       "    'level': 1,\n",
       "    'pointId': 'rSnhF4HYEnTG98p9E7To',\n",
       "    'pointName': '天水圍公園（西）'},\n",
       "   {'userId': 'skc-1@example.com',\n",
       "    'userName': '南葵中心1隊',\n",
       "    'expiredAt': datetime.datetime(2024, 8, 3, 4, 58, 32, 389000, tzinfo=<DstTzInfo 'Asia/Hong_Kong' HKT+8:00:00 STD>),\n",
       "    'createdAt': datetime.datetime(2024, 8, 3, 4, 35, 10, 285000, tzinfo=<DstTzInfo 'Asia/Hong_Kong' HKT+8:00:00 STD>),\n",
       "    'level': 1,\n",
       "    'pointId': '45ntnYbmnHBUIEyvTtNs',\n",
       "    'pointName': '天瑞社區中心'},\n",
       "   {'userId': 'skc-1@example.com',\n",
       "    'userName': '南葵中心1隊',\n",
       "    'expiredAt': datetime.datetime(2024, 8, 3, 4, 53, 43, 491000, tzinfo=<DstTzInfo 'Asia/Hong_Kong' HKT+8:00:00 STD>),\n",
       "    'createdAt': datetime.datetime(2024, 8, 3, 4, 47, 34, 26000, tzinfo=<DstTzInfo 'Asia/Hong_Kong' HKT+8:00:00 STD>),\n",
       "    'level': 2,\n",
       "    'pointId': 'zm9JjBWHejS6bInoC32d',\n",
       "    'pointName': '天華天橋樓梯'},\n",
       "   {'userId': 'skc-1@example.com',\n",
       "    'userName': '南葵中心1隊',\n",
       "    'expiredAt': datetime.datetime(2024, 8, 3, 5, 17, 46, 594000, tzinfo=<DstTzInfo 'Asia/Hong_Kong' HKT+8:00:00 STD>),\n",
       "    'createdAt': datetime.datetime(2024, 8, 3, 4, 55, 0, 828000, tzinfo=<DstTzInfo 'Asia/Hong_Kong' HKT+8:00:00 STD>),\n",
       "    'level': 2,\n",
       "    'pointId': 'bCr9LBCAj1mIDzHk63Iz',\n",
       "    'pointName': '天華橋'},\n",
       "   {'userId': 'skc-1@example.com',\n",
       "    'userName': '南葵中心1隊',\n",
       "    'expiredAt': datetime.datetime(2024, 8, 3, 5, 20, 4, 381000, tzinfo=<DstTzInfo 'Asia/Hong_Kong' HKT+8:00:00 STD>),\n",
       "    'createdAt': datetime.datetime(2024, 8, 3, 4, 57, 54, 213000, tzinfo=<DstTzInfo 'Asia/Hong_Kong' HKT+8:00:00 STD>),\n",
       "    'level': 2,\n",
       "    'pointId': 'cGkgDMMYwWfkNB0heYjM',\n",
       "    'pointName': '天瑞俓（四）'},\n",
       "   {'userId': 'skc-1@example.com',\n",
       "    'userName': '南葵中心1隊',\n",
       "    'expiredAt': datetime.datetime(2024, 8, 3, 5, 6, 36, 316000, tzinfo=<DstTzInfo 'Asia/Hong_Kong' HKT+8:00:00 STD>),\n",
       "    'createdAt': datetime.datetime(2024, 8, 3, 5, 3, 33, 40000, tzinfo=<DstTzInfo 'Asia/Hong_Kong' HKT+8:00:00 STD>),\n",
       "    'level': 2,\n",
       "    'pointId': 'Y54hD80CffPsd7hG6KZn',\n",
       "    'pointName': '天瑞俓（三）'},\n",
       "   {'userId': 'skc-1@example.com',\n",
       "    'userName': '南葵中心1隊',\n",
       "    'expiredAt': datetime.datetime(2024, 8, 3, 5, 20, 34, 646000, tzinfo=<DstTzInfo 'Asia/Hong_Kong' HKT+8:00:00 STD>),\n",
       "    'createdAt': datetime.datetime(2024, 8, 3, 5, 5, 0, 925000, tzinfo=<DstTzInfo 'Asia/Hong_Kong' HKT+8:00:00 STD>),\n",
       "    'level': 2,\n",
       "    'pointId': 'MM12lHGWCtvCbQvMy29H',\n",
       "    'pointName': '天瑞俓（二）'},\n",
       "   {'userId': 'skc-1@example.com',\n",
       "    'userName': '南葵中心1隊',\n",
       "    'expiredAt': datetime.datetime(2024, 8, 3, 5, 41, 43, 53000, tzinfo=<DstTzInfo 'Asia/Hong_Kong' HKT+8:00:00 STD>),\n",
       "    'createdAt': datetime.datetime(2024, 8, 3, 5, 6, 26, 192000, tzinfo=<DstTzInfo 'Asia/Hong_Kong' HKT+8:00:00 STD>),\n",
       "    'level': 2,\n",
       "    'pointId': 'yhDNSAU3ByPksCfmW3E3',\n",
       "    'pointName': '天河路遊樂場涼亭'},\n",
       "   {'userId': 'skc-1@example.com',\n",
       "    'userName': '南葵中心1隊',\n",
       "    'expiredAt': datetime.datetime(2024, 8, 3, 6, 33, 31, 782000, tzinfo=<DstTzInfo 'Asia/Hong_Kong' HKT+8:00:00 STD>),\n",
       "    'createdAt': datetime.datetime(2024, 8, 3, 5, 7, 15, 858000, tzinfo=<DstTzInfo 'Asia/Hong_Kong' HKT+8:00:00 STD>),\n",
       "    'level': 2,\n",
       "    'pointId': 'xFldNrcu765eRZc2hrsn',\n",
       "    'pointName': '聖葉理諾堂'},\n",
       "   {'userId': 'skc-1@example.com',\n",
       "    'userName': '南葵中心1隊',\n",
       "    'expiredAt': datetime.datetime(2024, 8, 3, 5, 20, 34, 646000, tzinfo=<DstTzInfo 'Asia/Hong_Kong' HKT+8:00:00 STD>),\n",
       "    'createdAt': datetime.datetime(2024, 8, 3, 5, 8, 40, 563000, tzinfo=<DstTzInfo 'Asia/Hong_Kong' HKT+8:00:00 STD>),\n",
       "    'level': 2,\n",
       "    'pointId': 'MM12lHGWCtvCbQvMy29H',\n",
       "    'pointName': '天瑞俓（二）'},\n",
       "   {'userId': 'skc-1@example.com',\n",
       "    'userName': '南葵中心1隊',\n",
       "    'expiredAt': datetime.datetime(2024, 8, 3, 5, 48, 30, 321000, tzinfo=<DstTzInfo 'Asia/Hong_Kong' HKT+8:00:00 STD>),\n",
       "    'createdAt': datetime.datetime(2024, 8, 3, 5, 12, 44, 328000, tzinfo=<DstTzInfo 'Asia/Hong_Kong' HKT+8:00:00 STD>),\n",
       "    'level': 2,\n",
       "    'pointId': 'xv6F5QsTKUVQasrDM5V5',\n",
       "    'pointName': '天瑞俓（一）'},\n",
       "   {'userId': 'skc-1@example.com',\n",
       "    'userName': '南葵中心1隊',\n",
       "    'expiredAt': datetime.datetime(2024, 8, 3, 5, 41, 43, 53000, tzinfo=<DstTzInfo 'Asia/Hong_Kong' HKT+8:00:00 STD>),\n",
       "    'createdAt': datetime.datetime(2024, 8, 3, 5, 20, 54, 754000, tzinfo=<DstTzInfo 'Asia/Hong_Kong' HKT+8:00:00 STD>),\n",
       "    'level': 2,\n",
       "    'pointId': 'yhDNSAU3ByPksCfmW3E3',\n",
       "    'pointName': '天河路遊樂場涼亭'},\n",
       "   {'userId': 'skc-1@example.com',\n",
       "    'userName': '南葵中心1隊',\n",
       "    'expiredAt': datetime.datetime(2024, 8, 3, 6, 33, 31, 782000, tzinfo=<DstTzInfo 'Asia/Hong_Kong' HKT+8:00:00 STD>),\n",
       "    'createdAt': datetime.datetime(2024, 8, 3, 5, 24, 1, 560000, tzinfo=<DstTzInfo 'Asia/Hong_Kong' HKT+8:00:00 STD>),\n",
       "    'level': 2,\n",
       "    'pointId': 'UvfG2gwfLek81y6K3u2D',\n",
       "    'pointName': '嘉湖新北商場'},\n",
       "   {'userId': 'skc-1@example.com',\n",
       "    'userName': '南葵中心1隊',\n",
       "    'expiredAt': datetime.datetime(2024, 8, 3, 6, 33, 31, 782000, tzinfo=<DstTzInfo 'Asia/Hong_Kong' HKT+8:00:00 STD>),\n",
       "    'createdAt': datetime.datetime(2024, 8, 3, 5, 30, 48, 224000, tzinfo=<DstTzInfo 'Asia/Hong_Kong' HKT+8:00:00 STD>),\n",
       "    'level': 2,\n",
       "    'pointId': '2wd13TbtnVTB8OIHhRa4',\n",
       "    'pointName': '天水圍運動場'},\n",
       "   {'userId': 'skc-1@example.com',\n",
       "    'userName': '南葵中心1隊',\n",
       "    'expiredAt': datetime.datetime(2024, 8, 3, 6, 26, 55, 806000, tzinfo=<DstTzInfo 'Asia/Hong_Kong' HKT+8:00:00 STD>),\n",
       "    'createdAt': datetime.datetime(2024, 8, 3, 5, 46, 46, 275000, tzinfo=<DstTzInfo 'Asia/Hong_Kong' HKT+8:00:00 STD>),\n",
       "    'level': 2,\n",
       "    'pointId': 'YvzEAhiBhJrOstmGXoH3',\n",
       "    'pointName': '天榮路東'},\n",
       "   {'userId': 'skc-1@example.com',\n",
       "    'userName': '南葵中心1隊',\n",
       "    'expiredAt': datetime.datetime(2024, 8, 3, 6, 13, 59, 701000, tzinfo=<DstTzInfo 'Asia/Hong_Kong' HKT+8:00:00 STD>),\n",
       "    'createdAt': datetime.datetime(2024, 8, 3, 5, 53, 44, 950000, tzinfo=<DstTzInfo 'Asia/Hong_Kong' HKT+8:00:00 STD>),\n",
       "    'level': 2,\n",
       "    'pointId': '778jzmzKpOvgRHIHcHms',\n",
       "    'pointName': '麗湖居'},\n",
       "   {'userId': 'skc-1@example.com',\n",
       "    'userName': '南葵中心1隊',\n",
       "    'expiredAt': datetime.datetime(2024, 8, 3, 6, 3, 0, 57000, tzinfo=<DstTzInfo 'Asia/Hong_Kong' HKT+8:00:00 STD>),\n",
       "    'createdAt': datetime.datetime(2024, 8, 3, 5, 58, 26, 990000, tzinfo=<DstTzInfo 'Asia/Hong_Kong' HKT+8:00:00 STD>),\n",
       "    'level': 2,\n",
       "    'pointId': 'Un4smPc0lSA8jpfvA5zJ',\n",
       "    'pointName': '天水圍游泳池'},\n",
       "   {'userId': 'skc-1@example.com',\n",
       "    'userName': '南葵中心1隊',\n",
       "    'expiredAt': datetime.datetime(2024, 8, 3, 6, 6, 50, 535000, tzinfo=<DstTzInfo 'Asia/Hong_Kong' HKT+8:00:00 STD>),\n",
       "    'createdAt': datetime.datetime(2024, 8, 3, 6, 0, 21, 126000, tzinfo=<DstTzInfo 'Asia/Hong_Kong' HKT+8:00:00 STD>),\n",
       "    'level': 2,\n",
       "    'pointId': '0gHiSX9dMHkVpffFR9RU',\n",
       "    'pointName': '天水圍體育館'},\n",
       "   {'userId': 'skc-1@example.com',\n",
       "    'userName': '南葵中心1隊',\n",
       "    'expiredAt': datetime.datetime(2024, 8, 3, 6, 33, 31, 782000, tzinfo=<DstTzInfo 'Asia/Hong_Kong' HKT+8:00:00 STD>),\n",
       "    'createdAt': datetime.datetime(2024, 8, 3, 6, 6, 50, 843000, tzinfo=<DstTzInfo 'Asia/Hong_Kong' HKT+8:00:00 STD>),\n",
       "    'level': 2,\n",
       "    'pointId': '1ZflGseWvmvEMDtj6YOq',\n",
       "    'pointName': '隱藏集合點'}]},\n",
       " {'name': '南區中心1隊',\n",
       "  'capturedPoints': [{'userId': 'sd1-1@example.com',\n",
       "    'userName': '南區中心1隊',\n",
       "    'expiredAt': datetime.datetime(2024, 8, 3, 6, 35, 6, 177000, tzinfo=<DstTzInfo 'Asia/Hong_Kong' HKT+8:00:00 STD>),\n",
       "    'createdAt': datetime.datetime(2024, 8, 3, 6, 3, 0, 57000, tzinfo=<DstTzInfo 'Asia/Hong_Kong' HKT+8:00:00 STD>),\n",
       "    'level': 3,\n",
       "    'pointId': 'Un4smPc0lSA8jpfvA5zJ',\n",
       "    'pointName': '天水圍游泳池'},\n",
       "   {'userId': 'sd1-1@example.com',\n",
       "    'userName': '南區中心1隊',\n",
       "    'expiredAt': datetime.datetime(2024, 8, 3, 6, 33, 31, 782000, tzinfo=<DstTzInfo 'Asia/Hong_Kong' HKT+8:00:00 STD>),\n",
       "    'createdAt': datetime.datetime(2024, 8, 3, 6, 6, 50, 535000, tzinfo=<DstTzInfo 'Asia/Hong_Kong' HKT+8:00:00 STD>),\n",
       "    'level': 3,\n",
       "    'pointId': '0gHiSX9dMHkVpffFR9RU',\n",
       "    'pointName': '天水圍體育館'}]},\n",
       " {'name': '上環中心隊',\n",
       "  'capturedPoints': [{'userId': 'sw-1@example.com',\n",
       "    'userName': '上環中心隊',\n",
       "    'expiredAt': datetime.datetime(2024, 8, 3, 6, 35, 6, 177000, tzinfo=<DstTzInfo 'Asia/Hong_Kong' HKT+8:00:00 STD>),\n",
       "    'createdAt': datetime.datetime(2024, 8, 3, 5, 41, 47, 810000, tzinfo=<DstTzInfo 'Asia/Hong_Kong' HKT+8:00:00 STD>),\n",
       "    'level': 2,\n",
       "    'pointId': 'Un4smPc0lSA8jpfvA5zJ',\n",
       "    'pointName': '天水圍游泳池'},\n",
       "   {'userId': 'sw-1@example.com',\n",
       "    'userName': '上環中心隊',\n",
       "    'expiredAt': datetime.datetime(2024, 8, 3, 6, 0, 21, 126000, tzinfo=<DstTzInfo 'Asia/Hong_Kong' HKT+8:00:00 STD>),\n",
       "    'createdAt': datetime.datetime(2024, 8, 3, 5, 46, 58, 326000, tzinfo=<DstTzInfo 'Asia/Hong_Kong' HKT+8:00:00 STD>),\n",
       "    'level': 2,\n",
       "    'pointId': '0gHiSX9dMHkVpffFR9RU',\n",
       "    'pointName': '天水圍體育館'},\n",
       "   {'userId': 'sw-1@example.com',\n",
       "    'userName': '上環中心隊',\n",
       "    'expiredAt': datetime.datetime(2024, 8, 3, 6, 33, 31, 782000, tzinfo=<DstTzInfo 'Asia/Hong_Kong' HKT+8:00:00 STD>),\n",
       "    'createdAt': datetime.datetime(2024, 8, 3, 6, 13, 59, 701000, tzinfo=<DstTzInfo 'Asia/Hong_Kong' HKT+8:00:00 STD>),\n",
       "    'level': 3,\n",
       "    'pointId': '778jzmzKpOvgRHIHcHms',\n",
       "    'pointName': '麗湖居'},\n",
       "   {'userId': 'sw-1@example.com',\n",
       "    'userName': '上環中心隊',\n",
       "    'expiredAt': datetime.datetime(2024, 8, 3, 6, 33, 31, 782000, tzinfo=<DstTzInfo 'Asia/Hong_Kong' HKT+8:00:00 STD>),\n",
       "    'createdAt': datetime.datetime(2024, 8, 3, 6, 22, 50, 375000, tzinfo=<DstTzInfo 'Asia/Hong_Kong' HKT+8:00:00 STD>),\n",
       "    'level': 3,\n",
       "    'pointId': 'IeOJr7CsyHXad2DUL3n4',\n",
       "    'pointName': '栢慧豪廷門口'},\n",
       "   {'userId': 'sw-1@example.com',\n",
       "    'userName': '上環中心隊',\n",
       "    'expiredAt': datetime.datetime(2024, 8, 3, 6, 33, 31, 782000, tzinfo=<DstTzInfo 'Asia/Hong_Kong' HKT+8:00:00 STD>),\n",
       "    'createdAt': datetime.datetime(2024, 8, 3, 6, 26, 55, 806000, tzinfo=<DstTzInfo 'Asia/Hong_Kong' HKT+8:00:00 STD>),\n",
       "    'level': 3,\n",
       "    'pointId': 'YvzEAhiBhJrOstmGXoH3',\n",
       "    'pointName': '天榮路東'},\n",
       "   {'userId': 'sw-1@example.com',\n",
       "    'userName': '上環中心隊',\n",
       "    'expiredAt': datetime.datetime(2024, 8, 3, 6, 33, 31, 782000, tzinfo=<DstTzInfo 'Asia/Hong_Kong' HKT+8:00:00 STD>),\n",
       "    'createdAt': datetime.datetime(2024, 8, 3, 6, 35, 6, 177000, tzinfo=<DstTzInfo 'Asia/Hong_Kong' HKT+8:00:00 STD>),\n",
       "    'level': 3,\n",
       "    'pointId': 'Un4smPc0lSA8jpfvA5zJ',\n",
       "    'pointName': '天水圍游泳池'},\n",
       "   {'userId': 'sw-1@example.com',\n",
       "    'userName': '上環中心隊',\n",
       "    'expiredAt': datetime.datetime(2024, 8, 3, 6, 33, 31, 782000, tzinfo=<DstTzInfo 'Asia/Hong_Kong' HKT+8:00:00 STD>),\n",
       "    'createdAt': datetime.datetime(2024, 8, 3, 6, 37, 37, 693000, tzinfo=<DstTzInfo 'Asia/Hong_Kong' HKT+8:00:00 STD>),\n",
       "    'level': 3,\n",
       "    'pointId': '0gHiSX9dMHkVpffFR9RU',\n",
       "    'pointName': '天水圍體育館'}]},\n",
       " {'name': '石蔭中心隊',\n",
       "  'capturedPoints': [{'userId': 'sy1@example.com',\n",
       "    'userName': '石蔭中心隊',\n",
       "    'expiredAt': datetime.datetime(2024, 8, 3, 4, 23, 5, 36000, tzinfo=<DstTzInfo 'Asia/Hong_Kong' HKT+8:00:00 STD>),\n",
       "    'createdAt': datetime.datetime(2024, 8, 3, 4, 14, 55, 939000, tzinfo=<DstTzInfo 'Asia/Hong_Kong' HKT+8:00:00 STD>),\n",
       "    'level': 1,\n",
       "    'pointId': '0gHiSX9dMHkVpffFR9RU',\n",
       "    'pointName': '天水圍體育館'},\n",
       "   {'userId': 'sy1@example.com',\n",
       "    'userName': '石蔭中心隊',\n",
       "    'expiredAt': datetime.datetime(2024, 8, 3, 4, 27, 41, 262000, tzinfo=<DstTzInfo 'Asia/Hong_Kong' HKT+8:00:00 STD>),\n",
       "    'createdAt': datetime.datetime(2024, 8, 3, 4, 18, 47, 636000, tzinfo=<DstTzInfo 'Asia/Hong_Kong' HKT+8:00:00 STD>),\n",
       "    'level': 1,\n",
       "    'pointId': 'Un4smPc0lSA8jpfvA5zJ',\n",
       "    'pointName': '天水圍游泳池'},\n",
       "   {'userId': 'sy1@example.com',\n",
       "    'userName': '石蔭中心隊',\n",
       "    'expiredAt': datetime.datetime(2024, 8, 3, 4, 33, 32, 115000, tzinfo=<DstTzInfo 'Asia/Hong_Kong' HKT+8:00:00 STD>),\n",
       "    'createdAt': datetime.datetime(2024, 8, 3, 4, 23, 27, 484000, tzinfo=<DstTzInfo 'Asia/Hong_Kong' HKT+8:00:00 STD>),\n",
       "    'level': 1,\n",
       "    'pointId': '778jzmzKpOvgRHIHcHms',\n",
       "    'pointName': '麗湖居'},\n",
       "   {'userId': 'sy1@example.com',\n",
       "    'userName': '石蔭中心隊',\n",
       "    'expiredAt': datetime.datetime(2024, 8, 3, 5, 6, 22, 364000, tzinfo=<DstTzInfo 'Asia/Hong_Kong' HKT+8:00:00 STD>),\n",
       "    'createdAt': datetime.datetime(2024, 8, 3, 4, 26, 58, 30000, tzinfo=<DstTzInfo 'Asia/Hong_Kong' HKT+8:00:00 STD>),\n",
       "    'level': 1,\n",
       "    'pointId': 'cWpn4JjGvqovfXr7L2rP',\n",
       "    'pointName': '天城路天橋'},\n",
       "   {'userId': 'sy1@example.com',\n",
       "    'userName': '石蔭中心隊',\n",
       "    'expiredAt': datetime.datetime(2024, 8, 3, 5, 25, 59, 135000, tzinfo=<DstTzInfo 'Asia/Hong_Kong' HKT+8:00:00 STD>),\n",
       "    'createdAt': datetime.datetime(2024, 8, 3, 4, 34, 13, 844000, tzinfo=<DstTzInfo 'Asia/Hong_Kong' HKT+8:00:00 STD>),\n",
       "    'level': 1,\n",
       "    'pointId': 'IkAECCDTwkvlAMt5lQZ4',\n",
       "    'pointName': '天華垃圾筒'},\n",
       "   {'userId': 'sy1@example.com',\n",
       "    'userName': '石蔭中心隊',\n",
       "    'expiredAt': datetime.datetime(2024, 8, 3, 5, 28, 19, 730000, tzinfo=<DstTzInfo 'Asia/Hong_Kong' HKT+8:00:00 STD>),\n",
       "    'createdAt': datetime.datetime(2024, 8, 3, 4, 36, 7, 977000, tzinfo=<DstTzInfo 'Asia/Hong_Kong' HKT+8:00:00 STD>),\n",
       "    'level': 1,\n",
       "    'pointId': '4WvOcZ1x4sDSnEXete8m',\n",
       "    'pointName': '天業路公園（表）'},\n",
       "   {'userId': 'sy1@example.com',\n",
       "    'userName': '石蔭中心隊',\n",
       "    'expiredAt': datetime.datetime(2024, 8, 3, 5, 47, 34, 150000, tzinfo=<DstTzInfo 'Asia/Hong_Kong' HKT+8:00:00 STD>),\n",
       "    'createdAt': datetime.datetime(2024, 8, 3, 4, 41, 7, 714000, tzinfo=<DstTzInfo 'Asia/Hong_Kong' HKT+8:00:00 STD>),\n",
       "    'level': 1,\n",
       "    'pointId': '45aLp8Tx5wGP606fx32M',\n",
       "    'pointName': '慧景軒巴士站'},\n",
       "   {'userId': 'sy1@example.com',\n",
       "    'userName': '石蔭中心隊',\n",
       "    'expiredAt': datetime.datetime(2024, 8, 3, 6, 33, 31, 782000, tzinfo=<DstTzInfo 'Asia/Hong_Kong' HKT+8:00:00 STD>),\n",
       "    'createdAt': datetime.datetime(2024, 8, 3, 4, 45, 43, 903000, tzinfo=<DstTzInfo 'Asia/Hong_Kong' HKT+8:00:00 STD>),\n",
       "    'level': 1,\n",
       "    'pointId': 'pbrw5fgRV2MRa5TDj7VB',\n",
       "    'pointName': '天葵天橋'},\n",
       "   {'userId': 'sy1@example.com',\n",
       "    'userName': '石蔭中心隊',\n",
       "    'expiredAt': datetime.datetime(2024, 8, 3, 5, 53, 49, 592000, tzinfo=<DstTzInfo 'Asia/Hong_Kong' HKT+8:00:00 STD>),\n",
       "    'createdAt': datetime.datetime(2024, 8, 3, 4, 48, 6, 722000, tzinfo=<DstTzInfo 'Asia/Hong_Kong' HKT+8:00:00 STD>),\n",
       "    'level': 1,\n",
       "    'pointId': 'KlBjSjUv2OjIMppFsvHq',\n",
       "    'pointName': '濕地公園門口'},\n",
       "   {'userId': 'sy1@example.com',\n",
       "    'userName': '石蔭中心隊',\n",
       "    'expiredAt': datetime.datetime(2024, 8, 3, 5, 9, 45, 157000, tzinfo=<DstTzInfo 'Asia/Hong_Kong' HKT+8:00:00 STD>),\n",
       "    'createdAt': datetime.datetime(2024, 8, 3, 5, 2, 50, 804000, tzinfo=<DstTzInfo 'Asia/Hong_Kong' HKT+8:00:00 STD>),\n",
       "    'level': 2,\n",
       "    'pointId': 'Jyj6CjyjsJi2bCuGoJEh',\n",
       "    'pointName': '天恆邨'},\n",
       "   {'userId': 'sy1@example.com',\n",
       "    'userName': '石蔭中心隊',\n",
       "    'expiredAt': datetime.datetime(2024, 8, 3, 5, 34, 23, 792000, tzinfo=<DstTzInfo 'Asia/Hong_Kong' HKT+8:00:00 STD>),\n",
       "    'createdAt': datetime.datetime(2024, 8, 3, 5, 12, 52, 543000, tzinfo=<DstTzInfo 'Asia/Hong_Kong' HKT+8:00:00 STD>),\n",
       "    'level': 2,\n",
       "    'pointId': '5FuPRNNQxn2MpCc3QxSq',\n",
       "    'pointName': '天瑞俓（六）'},\n",
       "   {'userId': 'sy1@example.com',\n",
       "    'userName': '石蔭中心隊',\n",
       "    'expiredAt': datetime.datetime(2024, 8, 3, 5, 36, 41, 603000, tzinfo=<DstTzInfo 'Asia/Hong_Kong' HKT+8:00:00 STD>),\n",
       "    'createdAt': datetime.datetime(2024, 8, 3, 5, 20, 4, 381000, tzinfo=<DstTzInfo 'Asia/Hong_Kong' HKT+8:00:00 STD>),\n",
       "    'level': 2,\n",
       "    'pointId': 'cGkgDMMYwWfkNB0heYjM',\n",
       "    'pointName': '天瑞俓（四）'},\n",
       "   {'userId': 'sy1@example.com',\n",
       "    'userName': '石蔭中心隊',\n",
       "    'expiredAt': datetime.datetime(2024, 8, 3, 5, 40, 56, 120000, tzinfo=<DstTzInfo 'Asia/Hong_Kong' HKT+8:00:00 STD>),\n",
       "    'createdAt': datetime.datetime(2024, 8, 3, 5, 35, 33, 895000, tzinfo=<DstTzInfo 'Asia/Hong_Kong' HKT+8:00:00 STD>),\n",
       "    'level': 3,\n",
       "    'pointId': '45ntnYbmnHBUIEyvTtNs',\n",
       "    'pointName': '天瑞社區中心'}]},\n",
       " {'name': '南區中心2隊', 'capturedPoints': []}]"
      ]
     },
     "execution_count": 23,
     "metadata": {},
     "output_type": "execute_result"
    }
   ],
   "source": [
    "from datetime import datetime, timedelta\n",
    "import pytz\n",
    "\n",
    "user_list = []\n",
    "for user in users_df[['name', 'capturedPoints']].to_dicts():\n",
    "    _pts = user['capturedPoints']\n",
    "    \n",
    "    pts =  []\n",
    "    for pt in _pts:\n",
    "        pt['createdAt'] = (datetime.fromisoformat(pt['createdAt'].replace('Z', '+00:00'))).astimezone(pytz.timezone('Asia/Hong_Kong'))\n",
    "        pt['expiredAt'] = (datetime.fromisoformat(pt['expiredAt'].replace('Z', '+00:00'))).astimezone(pytz.timezone('Asia/Hong_Kong'))\n",
    "        \n",
    "        pts.append(pt)\n",
    "    user_list.append(user)\n",
    "    \n",
    "user_list"
   ]
  },
  {
   "cell_type": "code",
   "execution_count": 24,
   "metadata": {},
   "outputs": [
    {
     "data": {
      "text/plain": [
       "[{'datetime': datetime.datetime(2024, 8, 3, 6, 37, 38, 56000, tzinfo=zoneinfo.ZoneInfo(key='Asia/Hong_Kong')),\n",
       "  'user_name': '上環中心隊'},\n",
       " {'datetime': datetime.datetime(2024, 8, 3, 6, 35, 6, 707000, tzinfo=zoneinfo.ZoneInfo(key='Asia/Hong_Kong')),\n",
       "  'user_name': '上環中心隊'},\n",
       " {'datetime': datetime.datetime(2024, 8, 3, 6, 26, 56, 297000, tzinfo=zoneinfo.ZoneInfo(key='Asia/Hong_Kong')),\n",
       "  'user_name': '上環中心隊'},\n",
       " {'datetime': datetime.datetime(2024, 8, 3, 6, 22, 50, 933000, tzinfo=zoneinfo.ZoneInfo(key='Asia/Hong_Kong')),\n",
       "  'user_name': '上環中心隊'},\n",
       " {'datetime': datetime.datetime(2024, 8, 3, 6, 15, 27, 703000, tzinfo=zoneinfo.ZoneInfo(key='Asia/Hong_Kong')),\n",
       "  'user_name': '上環/將軍澳中心隊'},\n",
       " {'datetime': datetime.datetime(2024, 8, 3, 6, 14, 0, 116000, tzinfo=zoneinfo.ZoneInfo(key='Asia/Hong_Kong')),\n",
       "  'user_name': '上環中心隊'},\n",
       " {'datetime': datetime.datetime(2024, 8, 3, 6, 12, 10, 551000, tzinfo=zoneinfo.ZoneInfo(key='Asia/Hong_Kong')),\n",
       "  'user_name': '上環/將軍澳中心隊'},\n",
       " {'datetime': datetime.datetime(2024, 8, 3, 6, 6, 51, 767000, tzinfo=zoneinfo.ZoneInfo(key='Asia/Hong_Kong')),\n",
       "  'user_name': '南葵中心1隊'},\n",
       " {'datetime': datetime.datetime(2024, 8, 3, 6, 6, 50, 965000, tzinfo=zoneinfo.ZoneInfo(key='Asia/Hong_Kong')),\n",
       "  'user_name': '南區中心1隊'},\n",
       " {'datetime': datetime.datetime(2024, 8, 3, 6, 3, 0, 715000, tzinfo=zoneinfo.ZoneInfo(key='Asia/Hong_Kong')),\n",
       "  'user_name': '南區中心1隊'},\n",
       " {'datetime': datetime.datetime(2024, 8, 3, 6, 0, 22, 428000, tzinfo=zoneinfo.ZoneInfo(key='Asia/Hong_Kong')),\n",
       "  'user_name': '南葵中心1隊'},\n",
       " {'datetime': datetime.datetime(2024, 8, 3, 5, 58, 28, 783000, tzinfo=zoneinfo.ZoneInfo(key='Asia/Hong_Kong')),\n",
       "  'user_name': '南葵中心1隊'},\n",
       " {'datetime': datetime.datetime(2024, 8, 3, 5, 56, 4, 499000, tzinfo=zoneinfo.ZoneInfo(key='Asia/Hong_Kong')),\n",
       "  'user_name': '南葵中心2隊'},\n",
       " {'datetime': datetime.datetime(2024, 8, 3, 5, 53, 50, 642000, tzinfo=zoneinfo.ZoneInfo(key='Asia/Hong_Kong')),\n",
       "  'user_name': '南葵中心2隊'},\n",
       " {'datetime': datetime.datetime(2024, 8, 3, 5, 53, 46, 286000, tzinfo=zoneinfo.ZoneInfo(key='Asia/Hong_Kong')),\n",
       "  'user_name': '南葵中心1隊'},\n",
       " {'datetime': datetime.datetime(2024, 8, 3, 5, 48, 30, 699000, tzinfo=zoneinfo.ZoneInfo(key='Asia/Hong_Kong')),\n",
       "  'user_name': '南葵中心3隊'},\n",
       " {'datetime': datetime.datetime(2024, 8, 3, 5, 47, 35, 137000, tzinfo=zoneinfo.ZoneInfo(key='Asia/Hong_Kong')),\n",
       "  'user_name': '南葵中心2隊'},\n",
       " {'datetime': datetime.datetime(2024, 8, 3, 5, 46, 58, 795000, tzinfo=zoneinfo.ZoneInfo(key='Asia/Hong_Kong')),\n",
       "  'user_name': '上環中心隊'},\n",
       " {'datetime': datetime.datetime(2024, 8, 3, 5, 46, 55, 834000, tzinfo=zoneinfo.ZoneInfo(key='Asia/Hong_Kong')),\n",
       "  'user_name': '上環/將軍澳中心隊'},\n",
       " {'datetime': datetime.datetime(2024, 8, 3, 5, 46, 54, 605000, tzinfo=zoneinfo.ZoneInfo(key='Asia/Hong_Kong')),\n",
       "  'user_name': '南葵中心1隊'},\n",
       " {'datetime': datetime.datetime(2024, 8, 3, 5, 44, 31, 637000, tzinfo=zoneinfo.ZoneInfo(key='Asia/Hong_Kong')),\n",
       "  'user_name': '南葵中心3隊'},\n",
       " {'datetime': datetime.datetime(2024, 8, 3, 5, 44, 16, 811000, tzinfo=zoneinfo.ZoneInfo(key='Asia/Hong_Kong')),\n",
       "  'user_name': '上環/將軍澳中心隊'},\n",
       " {'datetime': datetime.datetime(2024, 8, 3, 5, 42, 41, 675000, tzinfo=zoneinfo.ZoneInfo(key='Asia/Hong_Kong')),\n",
       "  'user_name': '南葵中心4隊'},\n",
       " {'datetime': datetime.datetime(2024, 8, 3, 5, 42, 11, 511000, tzinfo=zoneinfo.ZoneInfo(key='Asia/Hong_Kong')),\n",
       "  'user_name': '南葵中心3隊'},\n",
       " {'datetime': datetime.datetime(2024, 8, 3, 5, 41, 54, 229000, tzinfo=zoneinfo.ZoneInfo(key='Asia/Hong_Kong')),\n",
       "  'user_name': '南葵中心4隊'},\n",
       " {'datetime': datetime.datetime(2024, 8, 3, 5, 41, 48, 270000, tzinfo=zoneinfo.ZoneInfo(key='Asia/Hong_Kong')),\n",
       "  'user_name': '上環中心隊'},\n",
       " {'datetime': datetime.datetime(2024, 8, 3, 5, 41, 43, 511000, tzinfo=zoneinfo.ZoneInfo(key='Asia/Hong_Kong')),\n",
       "  'user_name': '南葵中心4隊'},\n",
       " {'datetime': datetime.datetime(2024, 8, 3, 5, 41, 8, 645000, tzinfo=zoneinfo.ZoneInfo(key='Asia/Hong_Kong')),\n",
       "  'user_name': '南葵中心4隊'},\n",
       " {'datetime': datetime.datetime(2024, 8, 3, 5, 41, 1, 495000, tzinfo=zoneinfo.ZoneInfo(key='Asia/Hong_Kong')),\n",
       "  'user_name': '南葵中心4隊'},\n",
       " {'datetime': datetime.datetime(2024, 8, 3, 5, 40, 56, 416000, tzinfo=zoneinfo.ZoneInfo(key='Asia/Hong_Kong')),\n",
       "  'user_name': '南葵中心4隊'},\n",
       " {'datetime': datetime.datetime(2024, 8, 3, 5, 40, 50, 578000, tzinfo=zoneinfo.ZoneInfo(key='Asia/Hong_Kong')),\n",
       "  'user_name': '南葵中心4隊'},\n",
       " {'datetime': datetime.datetime(2024, 8, 3, 5, 37, 45, 567000, tzinfo=zoneinfo.ZoneInfo(key='Asia/Hong_Kong')),\n",
       "  'user_name': '南葵中心2隊'},\n",
       " {'datetime': datetime.datetime(2024, 8, 3, 5, 36, 42, 65000, tzinfo=zoneinfo.ZoneInfo(key='Asia/Hong_Kong')),\n",
       "  'user_name': '南葵中心3隊'},\n",
       " {'datetime': datetime.datetime(2024, 8, 3, 5, 35, 34, 273000, tzinfo=zoneinfo.ZoneInfo(key='Asia/Hong_Kong')),\n",
       "  'user_name': '石蔭中心隊'},\n",
       " {'datetime': datetime.datetime(2024, 8, 3, 5, 34, 24, 204000, tzinfo=zoneinfo.ZoneInfo(key='Asia/Hong_Kong')),\n",
       "  'user_name': '南葵中心3隊'},\n",
       " {'datetime': datetime.datetime(2024, 8, 3, 5, 30, 51, 935000, tzinfo=zoneinfo.ZoneInfo(key='Asia/Hong_Kong')),\n",
       "  'user_name': '南葵中心1隊'},\n",
       " {'datetime': datetime.datetime(2024, 8, 3, 5, 28, 20, 170000, tzinfo=zoneinfo.ZoneInfo(key='Asia/Hong_Kong')),\n",
       "  'user_name': '上環/將軍澳中心隊'},\n",
       " {'datetime': datetime.datetime(2024, 8, 3, 5, 25, 59, 665000, tzinfo=zoneinfo.ZoneInfo(key='Asia/Hong_Kong')),\n",
       "  'user_name': '上環/將軍澳中心隊'},\n",
       " {'datetime': datetime.datetime(2024, 8, 3, 5, 25, 56, 453000, tzinfo=zoneinfo.ZoneInfo(key='Asia/Hong_Kong')),\n",
       "  'user_name': '南葵中心3隊'},\n",
       " {'datetime': datetime.datetime(2024, 8, 3, 5, 25, 32, 861000, tzinfo=zoneinfo.ZoneInfo(key='Asia/Hong_Kong')),\n",
       "  'user_name': '南葵中心3隊'},\n",
       " {'datetime': datetime.datetime(2024, 8, 3, 5, 24, 5, 933000, tzinfo=zoneinfo.ZoneInfo(key='Asia/Hong_Kong')),\n",
       "  'user_name': '南葵中心2隊'},\n",
       " {'datetime': datetime.datetime(2024, 8, 3, 5, 24, 3, 896000, tzinfo=zoneinfo.ZoneInfo(key='Asia/Hong_Kong')),\n",
       "  'user_name': '南葵中心1隊'},\n",
       " {'datetime': datetime.datetime(2024, 8, 3, 5, 24, 3, 706000, tzinfo=zoneinfo.ZoneInfo(key='Asia/Hong_Kong')),\n",
       "  'user_name': '南葵中心3隊'},\n",
       " {'datetime': datetime.datetime(2024, 8, 3, 5, 23, 7, 906000, tzinfo=zoneinfo.ZoneInfo(key='Asia/Hong_Kong')),\n",
       "  'user_name': '南葵中心3隊'},\n",
       " {'datetime': datetime.datetime(2024, 8, 3, 5, 21, 53, 888000, tzinfo=zoneinfo.ZoneInfo(key='Asia/Hong_Kong')),\n",
       "  'user_name': '上環/將軍澳中心隊'},\n",
       " {'datetime': datetime.datetime(2024, 8, 3, 5, 21, 3, 311000, tzinfo=zoneinfo.ZoneInfo(key='Asia/Hong_Kong')),\n",
       "  'user_name': '南葵中心1隊'},\n",
       " {'datetime': datetime.datetime(2024, 8, 3, 5, 20, 35, 202000, tzinfo=zoneinfo.ZoneInfo(key='Asia/Hong_Kong')),\n",
       "  'user_name': '南葵中心4隊'},\n",
       " {'datetime': datetime.datetime(2024, 8, 3, 5, 20, 4, 770000, tzinfo=zoneinfo.ZoneInfo(key='Asia/Hong_Kong')),\n",
       "  'user_name': '石蔭中心隊'},\n",
       " {'datetime': datetime.datetime(2024, 8, 3, 5, 20, 0, 955000, tzinfo=zoneinfo.ZoneInfo(key='Asia/Hong_Kong')),\n",
       "  'user_name': '南葵中心3隊'},\n",
       " {'datetime': datetime.datetime(2024, 8, 3, 5, 18, 34, 919000, tzinfo=zoneinfo.ZoneInfo(key='Asia/Hong_Kong')),\n",
       "  'user_name': '南葵中心2隊'},\n",
       " {'datetime': datetime.datetime(2024, 8, 3, 5, 17, 46, 926000, tzinfo=zoneinfo.ZoneInfo(key='Asia/Hong_Kong')),\n",
       "  'user_name': '南葵中心4隊'},\n",
       " {'datetime': datetime.datetime(2024, 8, 3, 5, 17, 21, 117000, tzinfo=zoneinfo.ZoneInfo(key='Asia/Hong_Kong')),\n",
       "  'user_name': '南葵中心3隊'},\n",
       " {'datetime': datetime.datetime(2024, 8, 3, 5, 16, 35, 141000, tzinfo=zoneinfo.ZoneInfo(key='Asia/Hong_Kong')),\n",
       "  'user_name': '南葵中心2隊'},\n",
       " {'datetime': datetime.datetime(2024, 8, 3, 5, 15, 7, 887000, tzinfo=zoneinfo.ZoneInfo(key='Asia/Hong_Kong')),\n",
       "  'user_name': '上環/將軍澳中心隊'},\n",
       " {'datetime': datetime.datetime(2024, 8, 3, 5, 13, 39, 18000, tzinfo=zoneinfo.ZoneInfo(key='Asia/Hong_Kong')),\n",
       "  'user_name': '南葵中心2隊'},\n",
       " {'datetime': datetime.datetime(2024, 8, 3, 5, 12, 54, 534000, tzinfo=zoneinfo.ZoneInfo(key='Asia/Hong_Kong')),\n",
       "  'user_name': '南葵中心4隊'},\n",
       " {'datetime': datetime.datetime(2024, 8, 3, 5, 12, 53, 109000, tzinfo=zoneinfo.ZoneInfo(key='Asia/Hong_Kong')),\n",
       "  'user_name': '南葵中心1隊'},\n",
       " {'datetime': datetime.datetime(2024, 8, 3, 5, 12, 52, 926000, tzinfo=zoneinfo.ZoneInfo(key='Asia/Hong_Kong')),\n",
       "  'user_name': '石蔭中心隊'},\n",
       " {'datetime': datetime.datetime(2024, 8, 3, 5, 12, 2, 994000, tzinfo=zoneinfo.ZoneInfo(key='Asia/Hong_Kong')),\n",
       "  'user_name': '南葵中心2隊'},\n",
       " {'datetime': datetime.datetime(2024, 8, 3, 5, 9, 45, 793000, tzinfo=zoneinfo.ZoneInfo(key='Asia/Hong_Kong')),\n",
       "  'user_name': '南葵中心3隊'},\n",
       " {'datetime': datetime.datetime(2024, 8, 3, 5, 8, 40, 838000, tzinfo=zoneinfo.ZoneInfo(key='Asia/Hong_Kong')),\n",
       "  'user_name': '南葵中心1隊'},\n",
       " {'datetime': datetime.datetime(2024, 8, 3, 5, 8, 16, 608000, tzinfo=zoneinfo.ZoneInfo(key='Asia/Hong_Kong')),\n",
       "  'user_name': '南葵中心4隊'},\n",
       " {'datetime': datetime.datetime(2024, 8, 3, 5, 7, 18, 49000, tzinfo=zoneinfo.ZoneInfo(key='Asia/Hong_Kong')),\n",
       "  'user_name': '南葵中心1隊'},\n",
       " {'datetime': datetime.datetime(2024, 8, 3, 5, 7, 4, 558000, tzinfo=zoneinfo.ZoneInfo(key='Asia/Hong_Kong')),\n",
       "  'user_name': '南葵中心4隊'},\n",
       " {'datetime': datetime.datetime(2024, 8, 3, 5, 6, 36, 719000, tzinfo=zoneinfo.ZoneInfo(key='Asia/Hong_Kong')),\n",
       "  'user_name': '南葵中心4隊'},\n",
       " {'datetime': datetime.datetime(2024, 8, 3, 5, 6, 28, 562000, tzinfo=zoneinfo.ZoneInfo(key='Asia/Hong_Kong')),\n",
       "  'user_name': '南葵中心1隊'},\n",
       " {'datetime': datetime.datetime(2024, 8, 3, 5, 6, 23, 62000, tzinfo=zoneinfo.ZoneInfo(key='Asia/Hong_Kong')),\n",
       "  'user_name': '上環/將軍澳中心隊'},\n",
       " {'datetime': datetime.datetime(2024, 8, 3, 5, 5, 9, 437000, tzinfo=zoneinfo.ZoneInfo(key='Asia/Hong_Kong')),\n",
       "  'user_name': '南葵中心4隊'},\n",
       " {'datetime': datetime.datetime(2024, 8, 3, 5, 5, 3, 570000, tzinfo=zoneinfo.ZoneInfo(key='Asia/Hong_Kong')),\n",
       "  'user_name': '南葵中心1隊'},\n",
       " {'datetime': datetime.datetime(2024, 8, 3, 5, 5, 2, 944000, tzinfo=zoneinfo.ZoneInfo(key='Asia/Hong_Kong')),\n",
       "  'user_name': '南葵中心2隊'},\n",
       " {'datetime': datetime.datetime(2024, 8, 3, 5, 3, 41, 184000, tzinfo=zoneinfo.ZoneInfo(key='Asia/Hong_Kong')),\n",
       "  'user_name': '南葵中心1隊'},\n",
       " {'datetime': datetime.datetime(2024, 8, 3, 5, 3, 35, 456000, tzinfo=zoneinfo.ZoneInfo(key='Asia/Hong_Kong')),\n",
       "  'user_name': '南葵中心4隊'},\n",
       " {'datetime': datetime.datetime(2024, 8, 3, 5, 3, 12, 948000, tzinfo=zoneinfo.ZoneInfo(key='Asia/Hong_Kong')),\n",
       "  'user_name': '南葵中心2隊'},\n",
       " {'datetime': datetime.datetime(2024, 8, 3, 5, 2, 50, 999000, tzinfo=zoneinfo.ZoneInfo(key='Asia/Hong_Kong')),\n",
       "  'user_name': '石蔭中心隊'},\n",
       " {'datetime': datetime.datetime(2024, 8, 3, 5, 1, 15, 314000, tzinfo=zoneinfo.ZoneInfo(key='Asia/Hong_Kong')),\n",
       "  'user_name': '南葵中心4隊'},\n",
       " {'datetime': datetime.datetime(2024, 8, 3, 4, 59, 7, 803000, tzinfo=zoneinfo.ZoneInfo(key='Asia/Hong_Kong')),\n",
       "  'user_name': '南葵中心2隊'},\n",
       " {'datetime': datetime.datetime(2024, 8, 3, 4, 58, 32, 759000, tzinfo=zoneinfo.ZoneInfo(key='Asia/Hong_Kong')),\n",
       "  'user_name': '南葵中心4隊'},\n",
       " {'datetime': datetime.datetime(2024, 8, 3, 4, 58, 14, 498000, tzinfo=zoneinfo.ZoneInfo(key='Asia/Hong_Kong')),\n",
       "  'user_name': '南葵中心4隊'},\n",
       " {'datetime': datetime.datetime(2024, 8, 3, 4, 58, 2, 532000, tzinfo=zoneinfo.ZoneInfo(key='Asia/Hong_Kong')),\n",
       "  'user_name': '南葵中心1隊'},\n",
       " {'datetime': datetime.datetime(2024, 8, 3, 4, 57, 50, 327000, tzinfo=zoneinfo.ZoneInfo(key='Asia/Hong_Kong')),\n",
       "  'user_name': '石蔭中心隊'},\n",
       " {'datetime': datetime.datetime(2024, 8, 3, 4, 55, 35, 526000, tzinfo=zoneinfo.ZoneInfo(key='Asia/Hong_Kong')),\n",
       "  'user_name': '南葵中心2隊'},\n",
       " {'datetime': datetime.datetime(2024, 8, 3, 4, 55, 8, 876000, tzinfo=zoneinfo.ZoneInfo(key='Asia/Hong_Kong')),\n",
       "  'user_name': '南葵中心1隊'},\n",
       " {'datetime': datetime.datetime(2024, 8, 3, 4, 53, 43, 996000, tzinfo=zoneinfo.ZoneInfo(key='Asia/Hong_Kong')),\n",
       "  'user_name': '南葵中心4隊'},\n",
       " {'datetime': datetime.datetime(2024, 8, 3, 4, 51, 30, 25000, tzinfo=zoneinfo.ZoneInfo(key='Asia/Hong_Kong')),\n",
       "  'user_name': '南葵中心2隊'},\n",
       " {'datetime': datetime.datetime(2024, 8, 3, 4, 51, 21, 299000, tzinfo=zoneinfo.ZoneInfo(key='Asia/Hong_Kong')),\n",
       "  'user_name': '南葵中心3隊'},\n",
       " {'datetime': datetime.datetime(2024, 8, 3, 4, 50, 20, 82000, tzinfo=zoneinfo.ZoneInfo(key='Asia/Hong_Kong')),\n",
       "  'user_name': '南葵中心3隊'},\n",
       " {'datetime': datetime.datetime(2024, 8, 3, 4, 49, 44, 139000, tzinfo=zoneinfo.ZoneInfo(key='Asia/Hong_Kong')),\n",
       "  'user_name': '南葵中心4隊'},\n",
       " {'datetime': datetime.datetime(2024, 8, 3, 4, 48, 7, 109000, tzinfo=zoneinfo.ZoneInfo(key='Asia/Hong_Kong')),\n",
       "  'user_name': '石蔭中心隊'},\n",
       " {'datetime': datetime.datetime(2024, 8, 3, 4, 47, 38, 751000, tzinfo=zoneinfo.ZoneInfo(key='Asia/Hong_Kong')),\n",
       "  'user_name': '南葵中心1隊'},\n",
       " {'datetime': datetime.datetime(2024, 8, 3, 4, 45, 44, 159000, tzinfo=zoneinfo.ZoneInfo(key='Asia/Hong_Kong')),\n",
       "  'user_name': '石蔭中心隊'},\n",
       " {'datetime': datetime.datetime(2024, 8, 3, 4, 44, 50, 864000, tzinfo=zoneinfo.ZoneInfo(key='Asia/Hong_Kong')),\n",
       "  'user_name': '南葵中心3隊'},\n",
       " {'datetime': datetime.datetime(2024, 8, 3, 4, 41, 23, 573000, tzinfo=zoneinfo.ZoneInfo(key='Asia/Hong_Kong')),\n",
       "  'user_name': '南葵中心3隊'},\n",
       " {'datetime': datetime.datetime(2024, 8, 3, 4, 41, 7, 942000, tzinfo=zoneinfo.ZoneInfo(key='Asia/Hong_Kong')),\n",
       "  'user_name': '石蔭中心隊'},\n",
       " {'datetime': datetime.datetime(2024, 8, 3, 4, 36, 8, 162000, tzinfo=zoneinfo.ZoneInfo(key='Asia/Hong_Kong')),\n",
       "  'user_name': '石蔭中心隊'},\n",
       " {'datetime': datetime.datetime(2024, 8, 3, 4, 36, 8, 6000, tzinfo=zoneinfo.ZoneInfo(key='Asia/Hong_Kong')),\n",
       "  'user_name': '南葵中心3隊'},\n",
       " {'datetime': datetime.datetime(2024, 8, 3, 4, 35, 28, 285000, tzinfo=zoneinfo.ZoneInfo(key='Asia/Hong_Kong')),\n",
       "  'user_name': '南葵中心1隊'},\n",
       " {'datetime': datetime.datetime(2024, 8, 3, 4, 34, 14, 52000, tzinfo=zoneinfo.ZoneInfo(key='Asia/Hong_Kong')),\n",
       "  'user_name': '石蔭中心隊'},\n",
       " {'datetime': datetime.datetime(2024, 8, 3, 4, 33, 59, 932000, tzinfo=zoneinfo.ZoneInfo(key='Asia/Hong_Kong')),\n",
       "  'user_name': '南葵中心1隊'},\n",
       " {'datetime': datetime.datetime(2024, 8, 3, 4, 33, 37, 124000, tzinfo=zoneinfo.ZoneInfo(key='Asia/Hong_Kong')),\n",
       "  'user_name': '南葵中心2隊'},\n",
       " {'datetime': datetime.datetime(2024, 8, 3, 4, 33, 32, 699000, tzinfo=zoneinfo.ZoneInfo(key='Asia/Hong_Kong')),\n",
       "  'user_name': '上環/將軍澳中心隊'},\n",
       " {'datetime': datetime.datetime(2024, 8, 3, 4, 33, 9, 813000, tzinfo=zoneinfo.ZoneInfo(key='Asia/Hong_Kong')),\n",
       "  'user_name': '南葵中心3隊'},\n",
       " {'datetime': datetime.datetime(2024, 8, 3, 4, 31, 43, 753000, tzinfo=zoneinfo.ZoneInfo(key='Asia/Hong_Kong')),\n",
       "  'user_name': '南葵中心4隊'},\n",
       " {'datetime': datetime.datetime(2024, 8, 3, 4, 30, 22, 410000, tzinfo=zoneinfo.ZoneInfo(key='Asia/Hong_Kong')),\n",
       "  'user_name': '南葵中心4隊'},\n",
       " {'datetime': datetime.datetime(2024, 8, 3, 4, 29, 52, 483000, tzinfo=zoneinfo.ZoneInfo(key='Asia/Hong_Kong')),\n",
       "  'user_name': '南葵中心3隊'},\n",
       " {'datetime': datetime.datetime(2024, 8, 3, 4, 27, 48, 593000, tzinfo=zoneinfo.ZoneInfo(key='Asia/Hong_Kong')),\n",
       "  'user_name': '南葵中心3隊'},\n",
       " {'datetime': datetime.datetime(2024, 8, 3, 4, 27, 46, 857000, tzinfo=zoneinfo.ZoneInfo(key='Asia/Hong_Kong')),\n",
       "  'user_name': '南葵中心1隊'},\n",
       " {'datetime': datetime.datetime(2024, 8, 3, 4, 27, 41, 720000, tzinfo=zoneinfo.ZoneInfo(key='Asia/Hong_Kong')),\n",
       "  'user_name': '上環/將軍澳中心隊'},\n",
       " {'datetime': datetime.datetime(2024, 8, 3, 4, 27, 2, 7000, tzinfo=zoneinfo.ZoneInfo(key='Asia/Hong_Kong')),\n",
       "  'user_name': '南葵中心4隊'},\n",
       " {'datetime': datetime.datetime(2024, 8, 3, 4, 26, 58, 185000, tzinfo=zoneinfo.ZoneInfo(key='Asia/Hong_Kong')),\n",
       "  'user_name': '石蔭中心隊'},\n",
       " {'datetime': datetime.datetime(2024, 8, 3, 4, 25, 48, 762000, tzinfo=zoneinfo.ZoneInfo(key='Asia/Hong_Kong')),\n",
       "  'user_name': '南葵中心1隊'},\n",
       " {'datetime': datetime.datetime(2024, 8, 3, 4, 24, 12, 155000, tzinfo=zoneinfo.ZoneInfo(key='Asia/Hong_Kong')),\n",
       "  'user_name': '南葵中心1隊'},\n",
       " {'datetime': datetime.datetime(2024, 8, 3, 4, 24, 10, 372000, tzinfo=zoneinfo.ZoneInfo(key='Asia/Hong_Kong')),\n",
       "  'user_name': '南葵中心4隊'},\n",
       " {'datetime': datetime.datetime(2024, 8, 3, 4, 23, 27, 667000, tzinfo=zoneinfo.ZoneInfo(key='Asia/Hong_Kong')),\n",
       "  'user_name': '石蔭中心隊'},\n",
       " {'datetime': datetime.datetime(2024, 8, 3, 4, 23, 5, 635000, tzinfo=zoneinfo.ZoneInfo(key='Asia/Hong_Kong')),\n",
       "  'user_name': '上環/將軍澳中心隊'},\n",
       " {'datetime': datetime.datetime(2024, 8, 3, 4, 22, 30, 919000, tzinfo=zoneinfo.ZoneInfo(key='Asia/Hong_Kong')),\n",
       "  'user_name': '南葵中心4隊'},\n",
       " {'datetime': datetime.datetime(2024, 8, 3, 4, 22, 29, 130000, tzinfo=zoneinfo.ZoneInfo(key='Asia/Hong_Kong')),\n",
       "  'user_name': '南葵中心1隊'},\n",
       " {'datetime': datetime.datetime(2024, 8, 3, 4, 20, 21, 639000, tzinfo=zoneinfo.ZoneInfo(key='Asia/Hong_Kong')),\n",
       "  'user_name': '南葵中心4隊'},\n",
       " {'datetime': datetime.datetime(2024, 8, 3, 4, 19, 6, 398000, tzinfo=zoneinfo.ZoneInfo(key='Asia/Hong_Kong')),\n",
       "  'user_name': '南葵中心4隊'},\n",
       " {'datetime': datetime.datetime(2024, 8, 3, 4, 18, 47, 907000, tzinfo=zoneinfo.ZoneInfo(key='Asia/Hong_Kong')),\n",
       "  'user_name': '石蔭中心隊'},\n",
       " {'datetime': datetime.datetime(2024, 8, 3, 4, 14, 56, 154000, tzinfo=zoneinfo.ZoneInfo(key='Asia/Hong_Kong')),\n",
       "  'user_name': '石蔭中心隊'}]"
      ]
     },
     "execution_count": 24,
     "metadata": {},
     "output_type": "execute_result"
    }
   ],
   "source": [
    "log_list = captured_logs_df.with_columns(pl.col(\"user_level\").cast(pl.String)).with_columns(pl.col('datetime') + pl.duration(hours=8)).with_columns(pl.col('datetime'))[['datetime', 'user_name']].to_dicts()\n",
    "log_list"
   ]
  },
  {
   "cell_type": "code",
   "execution_count": 25,
   "metadata": {},
   "outputs": [
    {
     "data": {
      "text/plain": [
       "[{'datetime': datetime.datetime(2024, 8, 3, 6, 37, 38, 56000, tzinfo=zoneinfo.ZoneInfo(key='Asia/Hong_Kong')),\n",
       "  'user_name': '上環中心隊',\n",
       "  'score': 6006.62},\n",
       " {'datetime': datetime.datetime(2024, 8, 3, 6, 35, 6, 707000, tzinfo=zoneinfo.ZoneInfo(key='Asia/Hong_Kong')),\n",
       "  'user_name': '上環中心隊',\n",
       "  'score': 6621.39},\n",
       " {'datetime': datetime.datetime(2024, 8, 3, 6, 26, 56, 297000, tzinfo=zoneinfo.ZoneInfo(key='Asia/Hong_Kong')),\n",
       "  'user_name': '上環中心隊',\n",
       "  'score': 3727.95},\n",
       " {'datetime': datetime.datetime(2024, 8, 3, 6, 22, 50, 933000, tzinfo=zoneinfo.ZoneInfo(key='Asia/Hong_Kong')),\n",
       "  'user_name': '上環中心隊',\n",
       "  'score': 2418.12},\n",
       " {'datetime': datetime.datetime(2024, 8, 3, 6, 15, 27, 703000, tzinfo=zoneinfo.ZoneInfo(key='Asia/Hong_Kong')),\n",
       "  'user_name': '上環/將軍澳中心隊',\n",
       "  'score': 7524.53},\n",
       " {'datetime': datetime.datetime(2024, 8, 3, 6, 14, 0, 116000, tzinfo=zoneinfo.ZoneInfo(key='Asia/Hong_Kong')),\n",
       "  'user_name': '上環中心隊',\n",
       "  'score': 912.74},\n",
       " {'datetime': datetime.datetime(2024, 8, 3, 6, 12, 10, 551000, tzinfo=zoneinfo.ZoneInfo(key='Asia/Hong_Kong')),\n",
       "  'user_name': '上環/將軍澳中心隊',\n",
       "  'score': 6568.54},\n",
       " {'datetime': datetime.datetime(2024, 8, 3, 6, 6, 51, 767000, tzinfo=zoneinfo.ZoneInfo(key='Asia/Hong_Kong')),\n",
       "  'user_name': '南葵中心1隊',\n",
       "  'score': 7430.2},\n",
       " {'datetime': datetime.datetime(2024, 8, 3, 6, 6, 50, 965000, tzinfo=zoneinfo.ZoneInfo(key='Asia/Hong_Kong')),\n",
       "  'user_name': '南區中心1隊',\n",
       "  'score': 578.35},\n",
       " {'datetime': datetime.datetime(2024, 8, 3, 6, 3, 0, 715000, tzinfo=zoneinfo.ZoneInfo(key='Asia/Hong_Kong')),\n",
       "  'user_name': '南區中心1隊',\n",
       "  'score': 1.65},\n",
       " {'datetime': datetime.datetime(2024, 8, 3, 6, 0, 22, 428000, tzinfo=zoneinfo.ZoneInfo(key='Asia/Hong_Kong')),\n",
       "  'user_name': '南葵中心1隊',\n",
       "  'score': 6599.08},\n",
       " {'datetime': datetime.datetime(2024, 8, 3, 5, 58, 28, 783000, tzinfo=zoneinfo.ZoneInfo(key='Asia/Hong_Kong')),\n",
       "  'user_name': '南葵中心1隊',\n",
       "  'score': 6371.36},\n",
       " {'datetime': datetime.datetime(2024, 8, 3, 5, 56, 4, 499000, tzinfo=zoneinfo.ZoneInfo(key='Asia/Hong_Kong')),\n",
       "  'user_name': '南葵中心2隊',\n",
       "  'score': 8171.69},\n",
       " {'datetime': datetime.datetime(2024, 8, 3, 5, 53, 50, 642000, tzinfo=zoneinfo.ZoneInfo(key='Asia/Hong_Kong')),\n",
       "  'user_name': '南葵中心2隊',\n",
       "  'score': 7769.95},\n",
       " {'datetime': datetime.datetime(2024, 8, 3, 5, 53, 46, 286000, tzinfo=zoneinfo.ZoneInfo(key='Asia/Hong_Kong')),\n",
       "  'user_name': '南葵中心1隊',\n",
       "  'score': 5899.93},\n",
       " {'datetime': datetime.datetime(2024, 8, 3, 5, 48, 30, 699000, tzinfo=zoneinfo.ZoneInfo(key='Asia/Hong_Kong')),\n",
       "  'user_name': '南葵中心3隊',\n",
       "  'score': 21827.88},\n",
       " {'datetime': datetime.datetime(2024, 8, 3, 5, 47, 35, 137000, tzinfo=zoneinfo.ZoneInfo(key='Asia/Hong_Kong')),\n",
       "  'user_name': '南葵中心2隊',\n",
       "  'score': 6768.26},\n",
       " {'datetime': datetime.datetime(2024, 8, 3, 5, 46, 58, 795000, tzinfo=zoneinfo.ZoneInfo(key='Asia/Hong_Kong')),\n",
       "  'user_name': '上環中心隊',\n",
       "  'score': 103.82},\n",
       " {'datetime': datetime.datetime(2024, 8, 3, 5, 46, 55, 834000, tzinfo=zoneinfo.ZoneInfo(key='Asia/Hong_Kong')),\n",
       "  'user_name': '上環/將軍澳中心隊',\n",
       "  'score': 3023.62},\n",
       " {'datetime': datetime.datetime(2024, 8, 3, 5, 46, 54, 605000, tzinfo=zoneinfo.ZoneInfo(key='Asia/Hong_Kong')),\n",
       "  'user_name': '南葵中心1隊',\n",
       "  'score': 5317.08},\n",
       " {'datetime': datetime.datetime(2024, 8, 3, 5, 44, 31, 637000, tzinfo=zoneinfo.ZoneInfo(key='Asia/Hong_Kong')),\n",
       "  'user_name': '南葵中心3隊',\n",
       "  'score': 19436.31},\n",
       " {'datetime': datetime.datetime(2024, 8, 3, 5, 44, 16, 811000, tzinfo=zoneinfo.ZoneInfo(key='Asia/Hong_Kong')),\n",
       "  'user_name': '上環/將軍澳中心隊',\n",
       "  'score': 2700.19},\n",
       " {'datetime': datetime.datetime(2024, 8, 3, 5, 42, 41, 675000, tzinfo=zoneinfo.ZoneInfo(key='Asia/Hong_Kong')),\n",
       "  'user_name': '南葵中心4隊',\n",
       "  'score': 10016.47},\n",
       " {'datetime': datetime.datetime(2024, 8, 3, 5, 42, 11, 511000, tzinfo=zoneinfo.ZoneInfo(key='Asia/Hong_Kong')),\n",
       "  'user_name': '南葵中心3隊',\n",
       "  'score': 18338.02},\n",
       " {'datetime': datetime.datetime(2024, 8, 3, 5, 41, 54, 229000, tzinfo=zoneinfo.ZoneInfo(key='Asia/Hong_Kong')),\n",
       "  'user_name': '南葵中心4隊',\n",
       "  'score': 9270.62},\n",
       " {'datetime': datetime.datetime(2024, 8, 3, 5, 41, 48, 270000, tzinfo=zoneinfo.ZoneInfo(key='Asia/Hong_Kong')),\n",
       "  'user_name': '上環中心隊',\n",
       "  'score': 0.15},\n",
       " {'datetime': datetime.datetime(2024, 8, 3, 5, 41, 43, 511000, tzinfo=zoneinfo.ZoneInfo(key='Asia/Hong_Kong')),\n",
       "  'user_name': '南葵中心4隊',\n",
       "  'score': 9106.55},\n",
       " {'datetime': datetime.datetime(2024, 8, 3, 5, 41, 8, 645000, tzinfo=zoneinfo.ZoneInfo(key='Asia/Hong_Kong')),\n",
       "  'user_name': '南葵中心4隊',\n",
       "  'score': 8648.82},\n",
       " {'datetime': datetime.datetime(2024, 8, 3, 5, 41, 1, 495000, tzinfo=zoneinfo.ZoneInfo(key='Asia/Hong_Kong')),\n",
       "  'user_name': '南葵中心4隊',\n",
       "  'score': 8572.47},\n",
       " {'datetime': datetime.datetime(2024, 8, 3, 5, 40, 56, 416000, tzinfo=zoneinfo.ZoneInfo(key='Asia/Hong_Kong')),\n",
       "  'user_name': '南葵中心4隊',\n",
       "  'score': 8530.75},\n",
       " {'datetime': datetime.datetime(2024, 8, 3, 5, 40, 50, 578000, tzinfo=zoneinfo.ZoneInfo(key='Asia/Hong_Kong')),\n",
       "  'user_name': '南葵中心4隊',\n",
       "  'score': 8497.32},\n",
       " {'datetime': datetime.datetime(2024, 8, 3, 5, 37, 45, 567000, tzinfo=zoneinfo.ZoneInfo(key='Asia/Hong_Kong')),\n",
       "  'user_name': '南葵中心2隊',\n",
       "  'score': 5212.03},\n",
       " {'datetime': datetime.datetime(2024, 8, 3, 5, 36, 42, 65000, tzinfo=zoneinfo.ZoneInfo(key='Asia/Hong_Kong')),\n",
       "  'user_name': '南葵中心3隊',\n",
       "  'score': 16470.61},\n",
       " {'datetime': datetime.datetime(2024, 8, 3, 5, 35, 34, 273000, tzinfo=zoneinfo.ZoneInfo(key='Asia/Hong_Kong')),\n",
       "  'user_name': '石蔭中心隊',\n",
       "  'score': 1201.66},\n",
       " {'datetime': datetime.datetime(2024, 8, 3, 5, 34, 24, 204000, tzinfo=zoneinfo.ZoneInfo(key='Asia/Hong_Kong')),\n",
       "  'user_name': '南葵中心3隊',\n",
       "  'score': 15591.02},\n",
       " {'datetime': datetime.datetime(2024, 8, 3, 5, 30, 51, 935000, tzinfo=zoneinfo.ZoneInfo(key='Asia/Hong_Kong')),\n",
       "  'user_name': '南葵中心1隊',\n",
       "  'score': 3569.77},\n",
       " {'datetime': datetime.datetime(2024, 8, 3, 5, 28, 20, 170000, tzinfo=zoneinfo.ZoneInfo(key='Asia/Hong_Kong')),\n",
       "  'user_name': '上環/將軍澳中心隊',\n",
       "  'score': 1060.31},\n",
       " {'datetime': datetime.datetime(2024, 8, 3, 5, 25, 59, 665000, tzinfo=zoneinfo.ZoneInfo(key='Asia/Hong_Kong')),\n",
       "  'user_name': '上環/將軍澳中心隊',\n",
       "  'score': 865.8},\n",
       " {'datetime': datetime.datetime(2024, 8, 3, 5, 25, 56, 453000, tzinfo=zoneinfo.ZoneInfo(key='Asia/Hong_Kong')),\n",
       "  'user_name': '南葵中心3隊',\n",
       "  'score': 9431.64},\n",
       " {'datetime': datetime.datetime(2024, 8, 3, 5, 25, 32, 861000, tzinfo=zoneinfo.ZoneInfo(key='Asia/Hong_Kong')),\n",
       "  'user_name': '南葵中心3隊',\n",
       "  'score': 9123.75},\n",
       " {'datetime': datetime.datetime(2024, 8, 3, 5, 24, 5, 933000, tzinfo=zoneinfo.ZoneInfo(key='Asia/Hong_Kong')),\n",
       "  'user_name': '南葵中心2隊',\n",
       "  'score': 3233.56},\n",
       " {'datetime': datetime.datetime(2024, 8, 3, 5, 24, 3, 896000, tzinfo=zoneinfo.ZoneInfo(key='Asia/Hong_Kong')),\n",
       "  'user_name': '南葵中心1隊',\n",
       "  'score': 2874.86},\n",
       " {'datetime': datetime.datetime(2024, 8, 3, 5, 24, 3, 706000, tzinfo=zoneinfo.ZoneInfo(key='Asia/Hong_Kong')),\n",
       "  'user_name': '南葵中心3隊',\n",
       "  'score': 8186.76},\n",
       " {'datetime': datetime.datetime(2024, 8, 3, 5, 23, 7, 906000, tzinfo=zoneinfo.ZoneInfo(key='Asia/Hong_Kong')),\n",
       "  'user_name': '南葵中心3隊',\n",
       "  'score': 7739.6},\n",
       " {'datetime': datetime.datetime(2024, 8, 3, 5, 21, 53, 888000, tzinfo=zoneinfo.ZoneInfo(key='Asia/Hong_Kong')),\n",
       "  'user_name': '上環/將軍澳中心隊',\n",
       "  'score': 607.56},\n",
       " {'datetime': datetime.datetime(2024, 8, 3, 5, 21, 3, 311000, tzinfo=zoneinfo.ZoneInfo(key='Asia/Hong_Kong')),\n",
       "  'user_name': '南葵中心1隊',\n",
       "  'score': 2627.29},\n",
       " {'datetime': datetime.datetime(2024, 8, 3, 5, 20, 35, 202000, tzinfo=zoneinfo.ZoneInfo(key='Asia/Hong_Kong')),\n",
       "  'user_name': '南葵中心4隊',\n",
       "  'score': 3917.82},\n",
       " {'datetime': datetime.datetime(2024, 8, 3, 5, 20, 4, 770000, tzinfo=zoneinfo.ZoneInfo(key='Asia/Hong_Kong')),\n",
       "  'user_name': '石蔭中心隊',\n",
       "  'score': 543.91},\n",
       " {'datetime': datetime.datetime(2024, 8, 3, 5, 20, 0, 955000, tzinfo=zoneinfo.ZoneInfo(key='Asia/Hong_Kong')),\n",
       "  'user_name': '南葵中心3隊',\n",
       "  'score': 6710.85},\n",
       " {'datetime': datetime.datetime(2024, 8, 3, 5, 18, 34, 919000, tzinfo=zoneinfo.ZoneInfo(key='Asia/Hong_Kong')),\n",
       "  'user_name': '南葵中心2隊',\n",
       "  'score': 2241.2},\n",
       " {'datetime': datetime.datetime(2024, 8, 3, 5, 17, 46, 926000, tzinfo=zoneinfo.ZoneInfo(key='Asia/Hong_Kong')),\n",
       "  'user_name': '南葵中心4隊',\n",
       "  'score': 3339.89},\n",
       " {'datetime': datetime.datetime(2024, 8, 3, 5, 17, 21, 117000, tzinfo=zoneinfo.ZoneInfo(key='Asia/Hong_Kong')),\n",
       "  'user_name': '南葵中心3隊',\n",
       "  'score': 6230.94},\n",
       " {'datetime': datetime.datetime(2024, 8, 3, 5, 16, 35, 141000, tzinfo=zoneinfo.ZoneInfo(key='Asia/Hong_Kong')),\n",
       "  'user_name': '南葵中心2隊',\n",
       "  'score': 1921.64},\n",
       " {'datetime': datetime.datetime(2024, 8, 3, 5, 15, 7, 887000, tzinfo=zoneinfo.ZoneInfo(key='Asia/Hong_Kong')),\n",
       "  'user_name': '上環/將軍澳中心隊',\n",
       "  'score': 316.34},\n",
       " {'datetime': datetime.datetime(2024, 8, 3, 5, 13, 39, 18000, tzinfo=zoneinfo.ZoneInfo(key='Asia/Hong_Kong')),\n",
       "  'user_name': '南葵中心2隊',\n",
       "  'score': 1510.2},\n",
       " {'datetime': datetime.datetime(2024, 8, 3, 5, 12, 54, 534000, tzinfo=zoneinfo.ZoneInfo(key='Asia/Hong_Kong')),\n",
       "  'user_name': '南葵中心4隊',\n",
       "  'score': 2433.36},\n",
       " {'datetime': datetime.datetime(2024, 8, 3, 5, 12, 53, 109000, tzinfo=zoneinfo.ZoneInfo(key='Asia/Hong_Kong')),\n",
       "  'user_name': '南葵中心1隊',\n",
       "  'score': 1560.92},\n",
       " {'datetime': datetime.datetime(2024, 8, 3, 5, 12, 52, 926000, tzinfo=zoneinfo.ZoneInfo(key='Asia/Hong_Kong')),\n",
       "  'user_name': '石蔭中心隊',\n",
       "  'score': 363.85},\n",
       " {'datetime': datetime.datetime(2024, 8, 3, 5, 12, 2, 994000, tzinfo=zoneinfo.ZoneInfo(key='Asia/Hong_Kong')),\n",
       "  'user_name': '南葵中心2隊',\n",
       "  'score': 1317.89},\n",
       " {'datetime': datetime.datetime(2024, 8, 3, 5, 9, 45, 793000, tzinfo=zoneinfo.ZoneInfo(key='Asia/Hong_Kong')),\n",
       "  'user_name': '南葵中心3隊',\n",
       "  'score': 4864.96},\n",
       " {'datetime': datetime.datetime(2024, 8, 3, 5, 8, 40, 838000, tzinfo=zoneinfo.ZoneInfo(key='Asia/Hong_Kong')),\n",
       "  'user_name': '南葵中心1隊',\n",
       "  'score': 1040.84},\n",
       " {'datetime': datetime.datetime(2024, 8, 3, 5, 8, 16, 608000, tzinfo=zoneinfo.ZoneInfo(key='Asia/Hong_Kong')),\n",
       "  'user_name': '南葵中心4隊',\n",
       "  'score': 1575.08},\n",
       " {'datetime': datetime.datetime(2024, 8, 3, 5, 7, 18, 49000, tzinfo=zoneinfo.ZoneInfo(key='Asia/Hong_Kong')),\n",
       "  'user_name': '南葵中心1隊',\n",
       "  'score': 898.63},\n",
       " {'datetime': datetime.datetime(2024, 8, 3, 5, 7, 4, 558000, tzinfo=zoneinfo.ZoneInfo(key='Asia/Hong_Kong')),\n",
       "  'user_name': '南葵中心4隊',\n",
       "  'score': 1375.68},\n",
       " {'datetime': datetime.datetime(2024, 8, 3, 5, 6, 36, 719000, tzinfo=zoneinfo.ZoneInfo(key='Asia/Hong_Kong')),\n",
       "  'user_name': '南葵中心4隊',\n",
       "  'score': 1307.82},\n",
       " {'datetime': datetime.datetime(2024, 8, 3, 5, 6, 28, 562000, tzinfo=zoneinfo.ZoneInfo(key='Asia/Hong_Kong')),\n",
       "  'user_name': '南葵中心1隊',\n",
       "  'score': 826.07},\n",
       " {'datetime': datetime.datetime(2024, 8, 3, 5, 6, 23, 62000, tzinfo=zoneinfo.ZoneInfo(key='Asia/Hong_Kong')),\n",
       "  'user_name': '上環/將軍澳中心隊',\n",
       "  'score': 115.08},\n",
       " {'datetime': datetime.datetime(2024, 8, 3, 5, 5, 9, 437000, tzinfo=zoneinfo.ZoneInfo(key='Asia/Hong_Kong')),\n",
       "  'user_name': '南葵中心4隊',\n",
       "  'score': 1124.39},\n",
       " {'datetime': datetime.datetime(2024, 8, 3, 5, 5, 3, 570000, tzinfo=zoneinfo.ZoneInfo(key='Asia/Hong_Kong')),\n",
       "  'user_name': '南葵中心1隊',\n",
       "  'score': 706.29},\n",
       " {'datetime': datetime.datetime(2024, 8, 3, 5, 5, 2, 944000, tzinfo=zoneinfo.ZoneInfo(key='Asia/Hong_Kong')),\n",
       "  'user_name': '南葵中心2隊',\n",
       "  'score': 617.57},\n",
       " {'datetime': datetime.datetime(2024, 8, 3, 5, 3, 41, 184000, tzinfo=zoneinfo.ZoneInfo(key='Asia/Hong_Kong')),\n",
       "  'user_name': '南葵中心1隊',\n",
       "  'score': 617.53},\n",
       " {'datetime': datetime.datetime(2024, 8, 3, 5, 3, 35, 456000, tzinfo=zoneinfo.ZoneInfo(key='Asia/Hong_Kong')),\n",
       "  'user_name': '南葵中心4隊',\n",
       "  'score': 958.22},\n",
       " {'datetime': datetime.datetime(2024, 8, 3, 5, 3, 12, 948000, tzinfo=zoneinfo.ZoneInfo(key='Asia/Hong_Kong')),\n",
       "  'user_name': '南葵中心2隊',\n",
       "  'score': 470.79},\n",
       " {'datetime': datetime.datetime(2024, 8, 3, 5, 2, 50, 999000, tzinfo=zoneinfo.ZoneInfo(key='Asia/Hong_Kong')),\n",
       "  'user_name': '石蔭中心隊',\n",
       "  'score': 171.98},\n",
       " {'datetime': datetime.datetime(2024, 8, 3, 5, 1, 15, 314000, tzinfo=zoneinfo.ZoneInfo(key='Asia/Hong_Kong')),\n",
       "  'user_name': '南葵中心4隊',\n",
       "  'score': 710.63},\n",
       " {'datetime': datetime.datetime(2024, 8, 3, 4, 59, 7, 803000, tzinfo=zoneinfo.ZoneInfo(key='Asia/Hong_Kong')),\n",
       "  'user_name': '南葵中心2隊',\n",
       "  'score': 225.43},\n",
       " {'datetime': datetime.datetime(2024, 8, 3, 4, 58, 32, 759000, tzinfo=zoneinfo.ZoneInfo(key='Asia/Hong_Kong')),\n",
       "  'user_name': '南葵中心4隊',\n",
       "  'score': 477.46},\n",
       " {'datetime': datetime.datetime(2024, 8, 3, 4, 58, 14, 498000, tzinfo=zoneinfo.ZoneInfo(key='Asia/Hong_Kong')),\n",
       "  'user_name': '南葵中心4隊',\n",
       "  'score': 457.25},\n",
       " {'datetime': datetime.datetime(2024, 8, 3, 4, 58, 2, 532000, tzinfo=zoneinfo.ZoneInfo(key='Asia/Hong_Kong')),\n",
       "  'user_name': '南葵中心1隊',\n",
       "  'score': 365.78},\n",
       " {'datetime': datetime.datetime(2024, 8, 3, 4, 57, 50, 327000, tzinfo=zoneinfo.ZoneInfo(key='Asia/Hong_Kong')),\n",
       "  'user_name': '石蔭中心隊',\n",
       "  'score': 141.85},\n",
       " {'datetime': datetime.datetime(2024, 8, 3, 4, 55, 35, 526000, tzinfo=zoneinfo.ZoneInfo(key='Asia/Hong_Kong')),\n",
       "  'user_name': '南葵中心2隊',\n",
       "  'score': 83.79},\n",
       " {'datetime': datetime.datetime(2024, 8, 3, 4, 55, 8, 876000, tzinfo=zoneinfo.ZoneInfo(key='Asia/Hong_Kong')),\n",
       "  'user_name': '南葵中心1隊',\n",
       "  'score': 287.76},\n",
       " {'datetime': datetime.datetime(2024, 8, 3, 4, 53, 43, 996000, tzinfo=zoneinfo.ZoneInfo(key='Asia/Hong_Kong')),\n",
       "  'user_name': '南葵中心4隊',\n",
       "  'score': 249.72},\n",
       " {'datetime': datetime.datetime(2024, 8, 3, 4, 51, 30, 25000, tzinfo=zoneinfo.ZoneInfo(key='Asia/Hong_Kong')),\n",
       "  'user_name': '南葵中心2隊',\n",
       "  'score': 1.79},\n",
       " {'datetime': datetime.datetime(2024, 8, 3, 4, 51, 21, 299000, tzinfo=zoneinfo.ZoneInfo(key='Asia/Hong_Kong')),\n",
       "  'user_name': '南葵中心3隊',\n",
       "  'score': 1919.43},\n",
       " {'datetime': datetime.datetime(2024, 8, 3, 4, 50, 20, 82000, tzinfo=zoneinfo.ZoneInfo(key='Asia/Hong_Kong')),\n",
       "  'user_name': '南葵中心3隊',\n",
       "  'score': 1776.4},\n",
       " {'datetime': datetime.datetime(2024, 8, 3, 4, 49, 44, 139000, tzinfo=zoneinfo.ZoneInfo(key='Asia/Hong_Kong')),\n",
       "  'user_name': '南葵中心4隊',\n",
       "  'score': 145.61},\n",
       " {'datetime': datetime.datetime(2024, 8, 3, 4, 48, 7, 109000, tzinfo=zoneinfo.ZoneInfo(key='Asia/Hong_Kong')),\n",
       "  'user_name': '石蔭中心隊',\n",
       "  'score': 83.53},\n",
       " {'datetime': datetime.datetime(2024, 8, 3, 4, 47, 38, 751000, tzinfo=zoneinfo.ZoneInfo(key='Asia/Hong_Kong')),\n",
       "  'user_name': '南葵中心1隊',\n",
       "  'score': 118.48},\n",
       " {'datetime': datetime.datetime(2024, 8, 3, 4, 45, 44, 159000, tzinfo=zoneinfo.ZoneInfo(key='Asia/Hong_Kong')),\n",
       "  'user_name': '石蔭中心隊',\n",
       "  'score': 71.61},\n",
       " {'datetime': datetime.datetime(2024, 8, 3, 4, 44, 50, 864000, tzinfo=zoneinfo.ZoneInfo(key='Asia/Hong_Kong')),\n",
       "  'user_name': '南葵中心3隊',\n",
       "  'score': 1117.92},\n",
       " {'datetime': datetime.datetime(2024, 8, 3, 4, 41, 23, 573000, tzinfo=zoneinfo.ZoneInfo(key='Asia/Hong_Kong')),\n",
       "  'user_name': '南葵中心3隊',\n",
       "  'score': 772.38},\n",
       " {'datetime': datetime.datetime(2024, 8, 3, 4, 41, 7, 942000, tzinfo=zoneinfo.ZoneInfo(key='Asia/Hong_Kong')),\n",
       "  'user_name': '石蔭中心隊',\n",
       "  'score': 53.19},\n",
       " {'datetime': datetime.datetime(2024, 8, 3, 4, 36, 8, 162000, tzinfo=zoneinfo.ZoneInfo(key='Asia/Hong_Kong')),\n",
       "  'user_name': '石蔭中心隊',\n",
       "  'score': 38.2},\n",
       " {'datetime': datetime.datetime(2024, 8, 3, 4, 36, 8, 6000, tzinfo=zoneinfo.ZoneInfo(key='Asia/Hong_Kong')),\n",
       "  'user_name': '南葵中心3隊',\n",
       "  'score': 351.48},\n",
       " {'datetime': datetime.datetime(2024, 8, 3, 4, 35, 28, 285000, tzinfo=zoneinfo.ZoneInfo(key='Asia/Hong_Kong')),\n",
       "  'user_name': '南葵中心1隊',\n",
       "  'score': 43.86},\n",
       " {'datetime': datetime.datetime(2024, 8, 3, 4, 34, 14, 52000, tzinfo=zoneinfo.ZoneInfo(key='Asia/Hong_Kong')),\n",
       "  'user_name': '石蔭中心隊',\n",
       "  'score': 34.39},\n",
       " {'datetime': datetime.datetime(2024, 8, 3, 4, 33, 59, 932000, tzinfo=zoneinfo.ZoneInfo(key='Asia/Hong_Kong')),\n",
       "  'user_name': '南葵中心1隊',\n",
       "  'score': 36.2},\n",
       " {'datetime': datetime.datetime(2024, 8, 3, 4, 33, 37, 124000, tzinfo=zoneinfo.ZoneInfo(key='Asia/Hong_Kong')),\n",
       "  'user_name': '南葵中心2隊',\n",
       "  'score': 0.01},\n",
       " {'datetime': datetime.datetime(2024, 8, 3, 4, 33, 32, 699000, tzinfo=zoneinfo.ZoneInfo(key='Asia/Hong_Kong')),\n",
       "  'user_name': '上環/將軍澳中心隊',\n",
       "  'score': 16.33},\n",
       " {'datetime': datetime.datetime(2024, 8, 3, 4, 33, 9, 813000, tzinfo=zoneinfo.ZoneInfo(key='Asia/Hong_Kong')),\n",
       "  'user_name': '南葵中心3隊',\n",
       "  'score': 173.24},\n",
       " {'datetime': datetime.datetime(2024, 8, 3, 4, 31, 43, 753000, tzinfo=zoneinfo.ZoneInfo(key='Asia/Hong_Kong')),\n",
       "  'user_name': '南葵中心4隊',\n",
       "  'score': 37.46},\n",
       " {'datetime': datetime.datetime(2024, 8, 3, 4, 30, 22, 410000, tzinfo=zoneinfo.ZoneInfo(key='Asia/Hong_Kong')),\n",
       "  'user_name': '南葵中心4隊',\n",
       "  'score': 30.68},\n",
       " {'datetime': datetime.datetime(2024, 8, 3, 4, 29, 52, 483000, tzinfo=zoneinfo.ZoneInfo(key='Asia/Hong_Kong')),\n",
       "  'user_name': '南葵中心3隊',\n",
       "  'score': 41.61},\n",
       " {'datetime': datetime.datetime(2024, 8, 3, 4, 27, 48, 593000, tzinfo=zoneinfo.ZoneInfo(key='Asia/Hong_Kong')),\n",
       "  'user_name': '南葵中心3隊',\n",
       "  'score': 0.14},\n",
       " {'datetime': datetime.datetime(2024, 8, 3, 4, 27, 46, 857000, tzinfo=zoneinfo.ZoneInfo(key='Asia/Hong_Kong')),\n",
       "  'user_name': '南葵中心1隊',\n",
       "  'score': 11.21},\n",
       " {'datetime': datetime.datetime(2024, 8, 3, 4, 27, 41, 720000, tzinfo=zoneinfo.ZoneInfo(key='Asia/Hong_Kong')),\n",
       "  'user_name': '上環/將軍澳中心隊',\n",
       "  'score': 4.62},\n",
       " {'datetime': datetime.datetime(2024, 8, 3, 4, 27, 2, 7000, tzinfo=zoneinfo.ZoneInfo(key='Asia/Hong_Kong')),\n",
       "  'user_name': '南葵中心4隊',\n",
       "  'score': 17.32},\n",
       " {'datetime': datetime.datetime(2024, 8, 3, 4, 26, 58, 185000, tzinfo=zoneinfo.ZoneInfo(key='Asia/Hong_Kong')),\n",
       "  'user_name': '石蔭中心隊',\n",
       "  'score': 19.84},\n",
       " {'datetime': datetime.datetime(2024, 8, 3, 4, 25, 48, 762000, tzinfo=zoneinfo.ZoneInfo(key='Asia/Hong_Kong')),\n",
       "  'user_name': '南葵中心1隊',\n",
       "  'score': 5.25},\n",
       " {'datetime': datetime.datetime(2024, 8, 3, 4, 24, 12, 155000, tzinfo=zoneinfo.ZoneInfo(key='Asia/Hong_Kong')),\n",
       "  'user_name': '南葵中心1隊',\n",
       "  'score': 2.02},\n",
       " {'datetime': datetime.datetime(2024, 8, 3, 4, 24, 10, 372000, tzinfo=zoneinfo.ZoneInfo(key='Asia/Hong_Kong')),\n",
       "  'user_name': '南葵中心4隊',\n",
       "  'score': 8.73},\n",
       " {'datetime': datetime.datetime(2024, 8, 3, 4, 23, 27, 667000, tzinfo=zoneinfo.ZoneInfo(key='Asia/Hong_Kong')),\n",
       "  'user_name': '石蔭中心隊',\n",
       "  'score': 12.82},\n",
       " {'datetime': datetime.datetime(2024, 8, 3, 4, 23, 5, 635000, tzinfo=zoneinfo.ZoneInfo(key='Asia/Hong_Kong')),\n",
       "  'user_name': '上環/將軍澳中心隊',\n",
       "  'score': 0.01},\n",
       " {'datetime': datetime.datetime(2024, 8, 3, 4, 22, 30, 919000, tzinfo=zoneinfo.ZoneInfo(key='Asia/Hong_Kong')),\n",
       "  'user_name': '南葵中心4隊',\n",
       "  'score': 5.41},\n",
       " {'datetime': datetime.datetime(2024, 8, 3, 4, 22, 29, 130000, tzinfo=zoneinfo.ZoneInfo(key='Asia/Hong_Kong')),\n",
       "  'user_name': '南葵中心1隊',\n",
       "  'score': 0.13},\n",
       " {'datetime': datetime.datetime(2024, 8, 3, 4, 20, 21, 639000, tzinfo=zoneinfo.ZoneInfo(key='Asia/Hong_Kong')),\n",
       "  'user_name': '南葵中心4隊',\n",
       "  'score': 1.26},\n",
       " {'datetime': datetime.datetime(2024, 8, 3, 4, 19, 6, 398000, tzinfo=zoneinfo.ZoneInfo(key='Asia/Hong_Kong')),\n",
       "  'user_name': '南葵中心4隊',\n",
       "  'score': 0.0},\n",
       " {'datetime': datetime.datetime(2024, 8, 3, 4, 18, 47, 907000, tzinfo=zoneinfo.ZoneInfo(key='Asia/Hong_Kong')),\n",
       "  'user_name': '石蔭中心隊',\n",
       "  'score': 3.87},\n",
       " {'datetime': datetime.datetime(2024, 8, 3, 4, 14, 56, 154000, tzinfo=zoneinfo.ZoneInfo(key='Asia/Hong_Kong')),\n",
       "  'user_name': '石蔭中心隊',\n",
       "  'score': 0.0},\n",
       " {'datetime': datetime.datetime(2024, 8, 3, 6, 27, 48, 56000, tzinfo=datetime.timezone(datetime.timedelta(seconds=28800))),\n",
       "  'user_name': '南葵中心3隊',\n",
       "  'score': 51294.84},\n",
       " {'datetime': datetime.datetime(2024, 8, 3, 6, 27, 48, 56000, tzinfo=datetime.timezone(datetime.timedelta(seconds=28800))),\n",
       "  'user_name': '南葵中心4隊',\n",
       "  'score': 42202.28},\n",
       " {'datetime': datetime.datetime(2024, 8, 3, 6, 27, 48, 56000, tzinfo=datetime.timezone(datetime.timedelta(seconds=28800))),\n",
       "  'user_name': '上環/將軍澳中心隊',\n",
       "  'score': 12953.79},\n",
       " {'datetime': datetime.datetime(2024, 8, 3, 6, 27, 48, 56000, tzinfo=datetime.timezone(datetime.timedelta(seconds=28800))),\n",
       "  'user_name': '南葵中心2隊',\n",
       "  'score': 14417.65},\n",
       " {'datetime': datetime.datetime(2024, 8, 3, 6, 27, 48, 56000, tzinfo=datetime.timezone(datetime.timedelta(seconds=28800))),\n",
       "  'user_name': '南葵中心1隊',\n",
       "  'score': 9649.24},\n",
       " {'datetime': datetime.datetime(2024, 8, 3, 6, 27, 48, 56000, tzinfo=datetime.timezone(datetime.timedelta(seconds=28800))),\n",
       "  'user_name': '南區中心1隊',\n",
       "  'score': 6863.8},\n",
       " {'datetime': datetime.datetime(2024, 8, 3, 6, 27, 48, 56000, tzinfo=datetime.timezone(datetime.timedelta(seconds=28800))),\n",
       "  'user_name': '上環中心隊',\n",
       "  'score': 4133.4},\n",
       " {'datetime': datetime.datetime(2024, 8, 3, 6, 27, 48, 56000, tzinfo=datetime.timezone(datetime.timedelta(seconds=28800))),\n",
       "  'user_name': '石蔭中心隊',\n",
       "  'score': 2111.21},\n",
       " {'datetime': datetime.datetime(2024, 8, 3, 6, 27, 48, 56000, tzinfo=datetime.timezone(datetime.timedelta(seconds=28800))),\n",
       "  'user_name': '南區中心2隊',\n",
       "  'score': 0}]"
      ]
     },
     "execution_count": 25,
     "metadata": {},
     "output_type": "execute_result"
    }
   ],
   "source": [
    "def map_score(data):\n",
    "    score_per_second = {\n",
    "        \"_\": 1 / 60,\n",
    "        \"1\": 1 / 60,\n",
    "        \"2\": 20 / 60,\n",
    "        \"3\": 150 / 60,\n",
    "        \"4\": 250 / 60,\n",
    "        \"5\": 500 / 60,\n",
    "    }\n",
    "    \n",
    "    total_score = 0\n",
    "    for item in data:\n",
    "        duration = (item['expiredAt'] - item['createdAt']).total_seconds()\n",
    "        level = str(item['level'])\n",
    "        score = duration * score_per_second.get(level, score_per_second[\"_\"])\n",
    "        total_score += score\n",
    "    return total_score\n",
    "\n",
    "for user in user_list:\n",
    "    log_list.append({'datetime': datetime.fromisoformat(\"2024-08-03 06:27:48.056000+08:00\"), 'user_name': user['name']})\n",
    "\n",
    "log_with_score = []\n",
    "for log in log_list:\n",
    "    # Get Available user record\n",
    "    user = [u for u in user_list if u['name'] == log['user_name']][0]\n",
    "    capturedPoints = user['capturedPoints']\n",
    "    \n",
    "    # Filter time after log datetime\n",
    "    capturedPoints = [{**cp, \"expiredAt\": cp['expiredAt'] if log['datetime'] > cp['expiredAt'] else log['datetime'] } for cp in capturedPoints if log['datetime'] > cp['createdAt']]\n",
    "    \n",
    "    score = map_score(capturedPoints)\n",
    "    # print(log['datetime'], log['user_name'], len(capturedPoints), round(score, 2))\n",
    "    \n",
    "    log_with_score.append({\n",
    "        \"datetime\": log['datetime'], \n",
    "        \"user_name\": log['user_name'], \n",
    "        \"score\": round(score, 2)\n",
    "    })\n",
    "log_with_score   "
   ]
  },
  {
   "cell_type": "code",
   "execution_count": 26,
   "metadata": {},
   "outputs": [
    {
     "data": {
      "text/html": [
       "<div><style>\n",
       ".dataframe > thead > tr,\n",
       ".dataframe > tbody > tr {\n",
       "  text-align: right;\n",
       "  white-space: pre-wrap;\n",
       "}\n",
       "</style>\n",
       "<small>shape: (129, 3)</small><table border=\"1\" class=\"dataframe\"><thead><tr><th>datetime</th><th>user_name</th><th>score</th></tr><tr><td>datetime[μs, UTC]</td><td>str</td><td>f64</td></tr></thead><tbody><tr><td>2024-08-03 06:37:38.056 UTC</td><td>&quot;上環中心隊&quot;</td><td>6006.62</td></tr><tr><td>2024-08-03 06:35:06.707 UTC</td><td>&quot;上環中心隊&quot;</td><td>6621.39</td></tr><tr><td>2024-08-03 06:27:48.056 UTC</td><td>&quot;南葵中心3隊&quot;</td><td>51294.84</td></tr><tr><td>2024-08-03 06:27:48.056 UTC</td><td>&quot;南葵中心4隊&quot;</td><td>42202.28</td></tr><tr><td>2024-08-03 06:27:48.056 UTC</td><td>&quot;上環/將軍澳中心隊&quot;</td><td>12953.79</td></tr><tr><td>&hellip;</td><td>&hellip;</td><td>&hellip;</td></tr><tr><td>2024-08-03 04:22:29.130 UTC</td><td>&quot;南葵中心1隊&quot;</td><td>0.13</td></tr><tr><td>2024-08-03 04:20:21.639 UTC</td><td>&quot;南葵中心4隊&quot;</td><td>1.26</td></tr><tr><td>2024-08-03 04:19:06.398 UTC</td><td>&quot;南葵中心4隊&quot;</td><td>0.0</td></tr><tr><td>2024-08-03 04:18:47.907 UTC</td><td>&quot;石蔭中心隊&quot;</td><td>3.87</td></tr><tr><td>2024-08-03 04:14:56.154 UTC</td><td>&quot;石蔭中心隊&quot;</td><td>0.0</td></tr></tbody></table></div>"
      ],
      "text/plain": [
       "shape: (129, 3)\n",
       "┌─────────────────────────────┬───────────────────┬──────────┐\n",
       "│ datetime                    ┆ user_name         ┆ score    │\n",
       "│ ---                         ┆ ---               ┆ ---      │\n",
       "│ datetime[μs, UTC]           ┆ str               ┆ f64      │\n",
       "╞═════════════════════════════╪═══════════════════╪══════════╡\n",
       "│ 2024-08-03 06:37:38.056 UTC ┆ 上環中心隊        ┆ 6006.62  │\n",
       "│ 2024-08-03 06:35:06.707 UTC ┆ 上環中心隊        ┆ 6621.39  │\n",
       "│ 2024-08-03 06:27:48.056 UTC ┆ 南葵中心3隊       ┆ 51294.84 │\n",
       "│ 2024-08-03 06:27:48.056 UTC ┆ 南葵中心4隊       ┆ 42202.28 │\n",
       "│ 2024-08-03 06:27:48.056 UTC ┆ 上環/將軍澳中心隊 ┆ 12953.79 │\n",
       "│ …                           ┆ …                 ┆ …        │\n",
       "│ 2024-08-03 04:22:29.130 UTC ┆ 南葵中心1隊       ┆ 0.13     │\n",
       "│ 2024-08-03 04:20:21.639 UTC ┆ 南葵中心4隊       ┆ 1.26     │\n",
       "│ 2024-08-03 04:19:06.398 UTC ┆ 南葵中心4隊       ┆ 0.0      │\n",
       "│ 2024-08-03 04:18:47.907 UTC ┆ 石蔭中心隊        ┆ 3.87     │\n",
       "│ 2024-08-03 04:14:56.154 UTC ┆ 石蔭中心隊        ┆ 0.0      │\n",
       "└─────────────────────────────┴───────────────────┴──────────┘"
      ]
     },
     "execution_count": 26,
     "metadata": {},
     "output_type": "execute_result"
    }
   ],
   "source": [
    "log_with_score_df = pl.DataFrame(log_with_score).sort('datetime', descending=True).with_columns(pl.col('datetime') + pl.duration(hours=8))\n",
    "log_with_score_df"
   ]
  },
  {
   "cell_type": "code",
   "execution_count": 27,
   "metadata": {},
   "outputs": [
    {
     "data": {
      "application/vnd.plotly.v1+json": {
       "config": {
        "plotlyServerURL": "https://plot.ly"
       },
       "data": [
        {
         "hovertemplate": "佔領等級=3<br>時間=%{x}<br>隊伍=%{y}<extra></extra>",
         "legendgroup": "3",
         "marker": {
          "color": "#0054e9",
          "size": 10,
          "symbol": "circle"
         },
         "mode": "markers",
         "name": "3",
         "orientation": "v",
         "showlegend": true,
         "type": "scatter",
         "x": [
          "2024-08-03T05:48:30.699000+08:00",
          "2024-08-03T05:44:31.637000+08:00",
          "2024-08-03T05:42:11.511000+08:00",
          "2024-08-03T05:36:42.065000+08:00",
          "2024-08-03T05:34:24.204000+08:00",
          "2024-08-03T05:25:56.453000+08:00",
          "2024-08-03T05:25:32.861000+08:00",
          "2024-08-03T05:24:03.706000+08:00",
          "2024-08-03T05:23:07.906000+08:00",
          "2024-08-03T05:20:00.955000+08:00",
          "2024-08-03T05:17:21.117000+08:00",
          "2024-08-03T05:42:41.675000+08:00",
          "2024-08-03T05:41:54.229000+08:00",
          "2024-08-03T05:41:43.511000+08:00",
          "2024-08-03T05:41:08.645000+08:00",
          "2024-08-03T05:41:01.495000+08:00",
          "2024-08-03T05:40:56.416000+08:00",
          "2024-08-03T05:40:50.578000+08:00",
          "2024-08-03T06:15:27.703000+08:00",
          "2024-08-03T06:12:10.551000+08:00",
          "2024-08-03T06:06:50.965000+08:00",
          "2024-08-03T06:03:00.715000+08:00",
          "2024-08-03T06:37:38.056000+08:00",
          "2024-08-03T06:35:06.707000+08:00",
          "2024-08-03T06:26:56.297000+08:00",
          "2024-08-03T06:22:50.933000+08:00",
          "2024-08-03T06:14:00.116000+08:00",
          "2024-08-03T05:35:34.273000+08:00"
         ],
         "xaxis": "x",
         "y": [
          "南葵中心3隊",
          "南葵中心3隊",
          "南葵中心3隊",
          "南葵中心3隊",
          "南葵中心3隊",
          "南葵中心3隊",
          "南葵中心3隊",
          "南葵中心3隊",
          "南葵中心3隊",
          "南葵中心3隊",
          "南葵中心3隊",
          "南葵中心4隊",
          "南葵中心4隊",
          "南葵中心4隊",
          "南葵中心4隊",
          "南葵中心4隊",
          "南葵中心4隊",
          "南葵中心4隊",
          "上環/將軍澳中心隊",
          "上環/將軍澳中心隊",
          "南區中心1隊",
          "南區中心1隊",
          "上環中心隊",
          "上環中心隊",
          "上環中心隊",
          "上環中心隊",
          "上環中心隊",
          "石蔭中心隊"
         ],
         "yaxis": "y"
        },
        {
         "hovertemplate": "佔領等級=2<br>時間=%{x}<br>隊伍=%{y}<extra></extra>",
         "legendgroup": "2",
         "marker": {
          "color": "#2dd55b",
          "size": 10,
          "symbol": "circle"
         },
         "mode": "markers",
         "name": "2",
         "orientation": "v",
         "showlegend": true,
         "type": "scatter",
         "x": [
          "2024-08-03T05:09:45.793000+08:00",
          "2024-08-03T04:51:21.299000+08:00",
          "2024-08-03T04:50:20.082000+08:00",
          "2024-08-03T04:44:50.864000+08:00",
          "2024-08-03T04:41:23.573000+08:00",
          "2024-08-03T04:36:08.006000+08:00",
          "2024-08-03T04:33:09.813000+08:00",
          "2024-08-03T04:29:52.483000+08:00",
          "2024-08-03T04:27:48.593000+08:00",
          "2024-08-03T05:20:35.202000+08:00",
          "2024-08-03T05:17:46.926000+08:00",
          "2024-08-03T05:12:54.534000+08:00",
          "2024-08-03T05:08:16.608000+08:00",
          "2024-08-03T05:07:04.558000+08:00",
          "2024-08-03T05:06:36.719000+08:00",
          "2024-08-03T05:05:09.437000+08:00",
          "2024-08-03T05:03:35.456000+08:00",
          "2024-08-03T05:01:15.314000+08:00",
          "2024-08-03T04:58:32.759000+08:00",
          "2024-08-03T04:58:14.498000+08:00",
          "2024-08-03T04:53:43.996000+08:00",
          "2024-08-03T04:49:44.139000+08:00",
          "2024-08-03T05:46:55.834000+08:00",
          "2024-08-03T05:44:16.811000+08:00",
          "2024-08-03T05:28:20.170000+08:00",
          "2024-08-03T05:25:59.665000+08:00",
          "2024-08-03T05:21:53.888000+08:00",
          "2024-08-03T05:15:07.887000+08:00",
          "2024-08-03T05:06:23.062000+08:00",
          "2024-08-03T05:56:04.499000+08:00",
          "2024-08-03T05:53:50.642000+08:00",
          "2024-08-03T05:47:35.137000+08:00",
          "2024-08-03T05:37:45.567000+08:00",
          "2024-08-03T05:24:05.933000+08:00",
          "2024-08-03T05:18:34.919000+08:00",
          "2024-08-03T05:16:35.141000+08:00",
          "2024-08-03T05:13:39.018000+08:00",
          "2024-08-03T05:12:02.994000+08:00",
          "2024-08-03T05:05:02.944000+08:00",
          "2024-08-03T05:03:12.948000+08:00",
          "2024-08-03T04:59:07.803000+08:00",
          "2024-08-03T04:55:35.526000+08:00",
          "2024-08-03T04:51:30.025000+08:00",
          "2024-08-03T06:06:51.767000+08:00",
          "2024-08-03T06:00:22.428000+08:00",
          "2024-08-03T05:58:28.783000+08:00",
          "2024-08-03T05:53:46.286000+08:00",
          "2024-08-03T05:46:54.605000+08:00",
          "2024-08-03T05:30:51.935000+08:00",
          "2024-08-03T05:24:03.896000+08:00",
          "2024-08-03T05:21:03.311000+08:00",
          "2024-08-03T05:12:53.109000+08:00",
          "2024-08-03T05:08:40.838000+08:00",
          "2024-08-03T05:07:18.049000+08:00",
          "2024-08-03T05:06:28.562000+08:00",
          "2024-08-03T05:05:03.570000+08:00",
          "2024-08-03T05:03:41.184000+08:00",
          "2024-08-03T04:58:02.532000+08:00",
          "2024-08-03T04:55:08.876000+08:00",
          "2024-08-03T04:47:38.751000+08:00",
          "2024-08-03T05:46:58.795000+08:00",
          "2024-08-03T05:41:48.270000+08:00",
          "2024-08-03T05:20:04.770000+08:00",
          "2024-08-03T05:12:52.926000+08:00",
          "2024-08-03T05:02:50.999000+08:00",
          "2024-08-03T04:57:50.327000+08:00"
         ],
         "xaxis": "x",
         "y": [
          "南葵中心3隊",
          "南葵中心3隊",
          "南葵中心3隊",
          "南葵中心3隊",
          "南葵中心3隊",
          "南葵中心3隊",
          "南葵中心3隊",
          "南葵中心3隊",
          "南葵中心3隊",
          "南葵中心4隊",
          "南葵中心4隊",
          "南葵中心4隊",
          "南葵中心4隊",
          "南葵中心4隊",
          "南葵中心4隊",
          "南葵中心4隊",
          "南葵中心4隊",
          "南葵中心4隊",
          "南葵中心4隊",
          "南葵中心4隊",
          "南葵中心4隊",
          "南葵中心4隊",
          "上環/將軍澳中心隊",
          "上環/將軍澳中心隊",
          "上環/將軍澳中心隊",
          "上環/將軍澳中心隊",
          "上環/將軍澳中心隊",
          "上環/將軍澳中心隊",
          "上環/將軍澳中心隊",
          "南葵中心2隊",
          "南葵中心2隊",
          "南葵中心2隊",
          "南葵中心2隊",
          "南葵中心2隊",
          "南葵中心2隊",
          "南葵中心2隊",
          "南葵中心2隊",
          "南葵中心2隊",
          "南葵中心2隊",
          "南葵中心2隊",
          "南葵中心2隊",
          "南葵中心2隊",
          "南葵中心2隊",
          "南葵中心1隊",
          "南葵中心1隊",
          "南葵中心1隊",
          "南葵中心1隊",
          "南葵中心1隊",
          "南葵中心1隊",
          "南葵中心1隊",
          "南葵中心1隊",
          "南葵中心1隊",
          "南葵中心1隊",
          "南葵中心1隊",
          "南葵中心1隊",
          "南葵中心1隊",
          "南葵中心1隊",
          "南葵中心1隊",
          "南葵中心1隊",
          "南葵中心1隊",
          "上環中心隊",
          "上環中心隊",
          "石蔭中心隊",
          "石蔭中心隊",
          "石蔭中心隊",
          "石蔭中心隊"
         ],
         "yaxis": "y"
        },
        {
         "hovertemplate": "佔領等級=1<br>時間=%{x}<br>隊伍=%{y}<extra></extra>",
         "legendgroup": "1",
         "marker": {
          "color": "#5f5f5f",
          "size": 10,
          "symbol": "circle"
         },
         "mode": "markers",
         "name": "1",
         "orientation": "v",
         "showlegend": true,
         "type": "scatter",
         "x": [
          "2024-08-03T04:31:43.753000+08:00",
          "2024-08-03T04:30:22.410000+08:00",
          "2024-08-03T04:27:02.007000+08:00",
          "2024-08-03T04:24:10.372000+08:00",
          "2024-08-03T04:22:30.919000+08:00",
          "2024-08-03T04:20:21.639000+08:00",
          "2024-08-03T04:19:06.398000+08:00",
          "2024-08-03T04:33:32.699000+08:00",
          "2024-08-03T04:27:41.720000+08:00",
          "2024-08-03T04:23:05.635000+08:00",
          "2024-08-03T04:33:37.124000+08:00",
          "2024-08-03T04:35:28.285000+08:00",
          "2024-08-03T04:33:59.932000+08:00",
          "2024-08-03T04:27:46.857000+08:00",
          "2024-08-03T04:25:48.762000+08:00",
          "2024-08-03T04:24:12.155000+08:00",
          "2024-08-03T04:22:29.130000+08:00",
          "2024-08-03T04:48:07.109000+08:00",
          "2024-08-03T04:45:44.159000+08:00",
          "2024-08-03T04:41:07.942000+08:00",
          "2024-08-03T04:36:08.162000+08:00",
          "2024-08-03T04:34:14.052000+08:00",
          "2024-08-03T04:26:58.185000+08:00",
          "2024-08-03T04:23:27.667000+08:00",
          "2024-08-03T04:18:47.907000+08:00",
          "2024-08-03T04:14:56.154000+08:00"
         ],
         "xaxis": "x",
         "y": [
          "南葵中心4隊",
          "南葵中心4隊",
          "南葵中心4隊",
          "南葵中心4隊",
          "南葵中心4隊",
          "南葵中心4隊",
          "南葵中心4隊",
          "上環/將軍澳中心隊",
          "上環/將軍澳中心隊",
          "上環/將軍澳中心隊",
          "南葵中心2隊",
          "南葵中心1隊",
          "南葵中心1隊",
          "南葵中心1隊",
          "南葵中心1隊",
          "南葵中心1隊",
          "南葵中心1隊",
          "石蔭中心隊",
          "石蔭中心隊",
          "石蔭中心隊",
          "石蔭中心隊",
          "石蔭中心隊",
          "石蔭中心隊",
          "石蔭中心隊",
          "石蔭中心隊",
          "石蔭中心隊"
         ],
         "yaxis": "y"
        },
        {
         "hovertemplate": "datetime=%{x}<br>user_name=%{y}<extra></extra>",
         "legendgroup": "",
         "marker": {
          "color": "red",
          "size": 10,
          "symbol": "circle"
         },
         "mode": "markers",
         "name": "",
         "orientation": "v",
         "showlegend": false,
         "type": "scatter",
         "x": [
          "2024-08-03T05:16:40.334000+08:00",
          "2024-08-03T05:30:30.259000+08:00",
          "2024-08-03T06:07:56.676000+08:00",
          "2024-08-03T04:57:03.568000+08:00",
          "2024-08-03T05:48:34.104000+08:00",
          "2024-08-03T05:07:38.669000+08:00",
          "2024-08-03T04:41:21.149000+08:00",
          "2024-08-03T06:08:19.569000+08:00",
          "2024-08-03T04:48:41.140000+08:00",
          "2024-08-03T04:42:26.963000+08:00",
          "2024-08-03T05:39:58.737000+08:00",
          "2024-08-03T04:16:51.826000+08:00",
          "2024-08-03T04:45:21.093000+08:00",
          "2024-08-03T04:41:51.780000+08:00"
         ],
         "xaxis": "x",
         "y": [
          "南葵中心3隊",
          "石蔭中心隊",
          "上環中心隊",
          "石蔭中心隊",
          "南區中心1隊",
          "南區中心1隊",
          "南葵中心2隊",
          "上環/將軍澳中心隊",
          "上環/將軍澳中心隊",
          "南葵中心1隊",
          "南葵中心4隊",
          "南葵中心3隊",
          "上環中心隊",
          "南葵中心4隊"
         ],
         "yaxis": "y"
        },
        {
         "hovertemplate": "user_name=上環中心隊<br>datetime=%{x}<br>score=%{y}<extra></extra>",
         "legendgroup": "上環中心隊",
         "line": {
          "color": "#9c78fe",
          "dash": "solid"
         },
         "marker": {
          "size": 10,
          "symbol": "circle"
         },
         "mode": "lines+markers",
         "name": "上環中心隊",
         "orientation": "v",
         "showlegend": true,
         "type": "scatter",
         "x": [
          "2024-08-03T06:37:38.056000+00:00",
          "2024-08-03T06:35:06.707000+00:00",
          "2024-08-03T06:27:48.056000+00:00",
          "2024-08-03T06:26:56.297000+00:00",
          "2024-08-03T06:22:50.933000+00:00",
          "2024-08-03T06:14:00.116000+00:00",
          "2024-08-03T05:46:58.795000+00:00",
          "2024-08-03T05:41:48.270000+00:00"
         ],
         "xaxis": "x",
         "y": [
          6006.62,
          6621.39,
          4133.4,
          3727.95,
          2418.12,
          912.74,
          103.82,
          0.15
         ],
         "yaxis": "y2"
        },
        {
         "hovertemplate": "user_name=南葵中心3隊<br>datetime=%{x}<br>score=%{y}<extra></extra>",
         "legendgroup": "南葵中心3隊",
         "line": {
          "color": "#ea3323",
          "dash": "solid"
         },
         "marker": {
          "size": 10,
          "symbol": "circle"
         },
         "mode": "lines+markers",
         "name": "南葵中心3隊",
         "orientation": "v",
         "showlegend": true,
         "type": "scatter",
         "x": [
          "2024-08-03T06:27:48.056000+00:00",
          "2024-08-03T05:48:30.699000+00:00",
          "2024-08-03T05:44:31.637000+00:00",
          "2024-08-03T05:42:11.511000+00:00",
          "2024-08-03T05:36:42.065000+00:00",
          "2024-08-03T05:34:24.204000+00:00",
          "2024-08-03T05:25:56.453000+00:00",
          "2024-08-03T05:25:32.861000+00:00",
          "2024-08-03T05:24:03.706000+00:00",
          "2024-08-03T05:23:07.906000+00:00",
          "2024-08-03T05:20:00.955000+00:00",
          "2024-08-03T05:17:21.117000+00:00",
          "2024-08-03T05:09:45.793000+00:00",
          "2024-08-03T04:51:21.299000+00:00",
          "2024-08-03T04:50:20.082000+00:00",
          "2024-08-03T04:44:50.864000+00:00",
          "2024-08-03T04:41:23.573000+00:00",
          "2024-08-03T04:36:08.006000+00:00",
          "2024-08-03T04:33:09.813000+00:00",
          "2024-08-03T04:29:52.483000+00:00",
          "2024-08-03T04:27:48.593000+00:00"
         ],
         "xaxis": "x",
         "y": [
          51294.84,
          21827.88,
          19436.31,
          18338.02,
          16470.61,
          15591.02,
          9431.64,
          9123.75,
          8186.76,
          7739.6,
          6710.85,
          6230.94,
          4864.96,
          1919.43,
          1776.4,
          1117.92,
          772.38,
          351.48,
          173.24,
          41.61,
          0.14
         ],
         "yaxis": "y2"
        },
        {
         "hovertemplate": "user_name=南葵中心4隊<br>datetime=%{x}<br>score=%{y}<extra></extra>",
         "legendgroup": "南葵中心4隊",
         "line": {
          "color": "#ff8b00",
          "dash": "solid"
         },
         "marker": {
          "size": 10,
          "symbol": "circle"
         },
         "mode": "lines+markers",
         "name": "南葵中心4隊",
         "orientation": "v",
         "showlegend": true,
         "type": "scatter",
         "x": [
          "2024-08-03T06:27:48.056000+00:00",
          "2024-08-03T05:42:41.675000+00:00",
          "2024-08-03T05:41:54.229000+00:00",
          "2024-08-03T05:41:43.511000+00:00",
          "2024-08-03T05:41:08.645000+00:00",
          "2024-08-03T05:41:01.495000+00:00",
          "2024-08-03T05:40:56.416000+00:00",
          "2024-08-03T05:40:50.578000+00:00",
          "2024-08-03T05:20:35.202000+00:00",
          "2024-08-03T05:17:46.926000+00:00",
          "2024-08-03T05:12:54.534000+00:00",
          "2024-08-03T05:08:16.608000+00:00",
          "2024-08-03T05:07:04.558000+00:00",
          "2024-08-03T05:06:36.719000+00:00",
          "2024-08-03T05:05:09.437000+00:00",
          "2024-08-03T05:03:35.456000+00:00",
          "2024-08-03T05:01:15.314000+00:00",
          "2024-08-03T04:58:32.759000+00:00",
          "2024-08-03T04:58:14.498000+00:00",
          "2024-08-03T04:53:43.996000+00:00",
          "2024-08-03T04:49:44.139000+00:00",
          "2024-08-03T04:31:43.753000+00:00",
          "2024-08-03T04:30:22.410000+00:00",
          "2024-08-03T04:27:02.007000+00:00",
          "2024-08-03T04:24:10.372000+00:00",
          "2024-08-03T04:22:30.919000+00:00",
          "2024-08-03T04:20:21.639000+00:00",
          "2024-08-03T04:19:06.398000+00:00"
         ],
         "xaxis": "x",
         "y": [
          42202.28,
          10016.47,
          9270.62,
          9106.55,
          8648.82,
          8572.47,
          8530.75,
          8497.32,
          3917.82,
          3339.89,
          2433.36,
          1575.08,
          1375.68,
          1307.82,
          1124.39,
          958.22,
          710.63,
          477.46,
          457.25,
          249.72,
          145.61,
          37.46,
          30.68,
          17.32,
          8.73,
          5.41,
          1.26,
          0
         ],
         "yaxis": "y2"
        },
        {
         "hovertemplate": "user_name=上環/將軍澳中心隊<br>datetime=%{x}<br>score=%{y}<extra></extra>",
         "legendgroup": "上環/將軍澳中心隊",
         "line": {
          "color": "#febb26",
          "dash": "solid"
         },
         "marker": {
          "size": 10,
          "symbol": "circle"
         },
         "mode": "lines+markers",
         "name": "上環/將軍澳中心隊",
         "orientation": "v",
         "showlegend": true,
         "type": "scatter",
         "x": [
          "2024-08-03T06:27:48.056000+00:00",
          "2024-08-03T06:15:27.703000+00:00",
          "2024-08-03T06:12:10.551000+00:00",
          "2024-08-03T05:46:55.834000+00:00",
          "2024-08-03T05:44:16.811000+00:00",
          "2024-08-03T05:28:20.170000+00:00",
          "2024-08-03T05:25:59.665000+00:00",
          "2024-08-03T05:21:53.888000+00:00",
          "2024-08-03T05:15:07.887000+00:00",
          "2024-08-03T05:06:23.062000+00:00",
          "2024-08-03T04:33:32.699000+00:00",
          "2024-08-03T04:27:41.720000+00:00",
          "2024-08-03T04:23:05.635000+00:00"
         ],
         "xaxis": "x",
         "y": [
          12953.79,
          7524.53,
          6568.54,
          3023.62,
          2700.19,
          1060.31,
          865.8,
          607.56,
          316.34,
          115.08,
          16.33,
          4.62,
          0.01
         ],
         "yaxis": "y2"
        },
        {
         "hovertemplate": "user_name=南葵中心2隊<br>datetime=%{x}<br>score=%{y}<extra></extra>",
         "legendgroup": "南葵中心2隊",
         "line": {
          "color": "#17873f",
          "dash": "solid"
         },
         "marker": {
          "size": 10,
          "symbol": "circle"
         },
         "mode": "lines+markers",
         "name": "南葵中心2隊",
         "orientation": "v",
         "showlegend": true,
         "type": "scatter",
         "x": [
          "2024-08-03T06:27:48.056000+00:00",
          "2024-08-03T05:56:04.499000+00:00",
          "2024-08-03T05:53:50.642000+00:00",
          "2024-08-03T05:47:35.137000+00:00",
          "2024-08-03T05:37:45.567000+00:00",
          "2024-08-03T05:24:05.933000+00:00",
          "2024-08-03T05:18:34.919000+00:00",
          "2024-08-03T05:16:35.141000+00:00",
          "2024-08-03T05:13:39.018000+00:00",
          "2024-08-03T05:12:02.994000+00:00",
          "2024-08-03T05:05:02.944000+00:00",
          "2024-08-03T05:03:12.948000+00:00",
          "2024-08-03T04:59:07.803000+00:00",
          "2024-08-03T04:55:35.526000+00:00",
          "2024-08-03T04:51:30.025000+00:00",
          "2024-08-03T04:33:37.124000+00:00"
         ],
         "xaxis": "x",
         "y": [
          14417.65,
          8171.69,
          7769.95,
          6768.26,
          5212.03,
          3233.56,
          2241.2,
          1921.64,
          1510.2,
          1317.89,
          617.57,
          470.79,
          225.43,
          83.79,
          1.79,
          0.01
         ],
         "yaxis": "y2"
        },
        {
         "hovertemplate": "user_name=南葵中心1隊<br>datetime=%{x}<br>score=%{y}<extra></extra>",
         "legendgroup": "南葵中心1隊",
         "line": {
          "color": "#25dc67",
          "dash": "solid"
         },
         "marker": {
          "size": 10,
          "symbol": "circle"
         },
         "mode": "lines+markers",
         "name": "南葵中心1隊",
         "orientation": "v",
         "showlegend": true,
         "type": "scatter",
         "x": [
          "2024-08-03T06:27:48.056000+00:00",
          "2024-08-03T06:06:51.767000+00:00",
          "2024-08-03T06:00:22.428000+00:00",
          "2024-08-03T05:58:28.783000+00:00",
          "2024-08-03T05:53:46.286000+00:00",
          "2024-08-03T05:46:54.605000+00:00",
          "2024-08-03T05:30:51.935000+00:00",
          "2024-08-03T05:24:03.896000+00:00",
          "2024-08-03T05:21:03.311000+00:00",
          "2024-08-03T05:12:53.109000+00:00",
          "2024-08-03T05:08:40.838000+00:00",
          "2024-08-03T05:07:18.049000+00:00",
          "2024-08-03T05:06:28.562000+00:00",
          "2024-08-03T05:05:03.570000+00:00",
          "2024-08-03T05:03:41.184000+00:00",
          "2024-08-03T04:58:02.532000+00:00",
          "2024-08-03T04:55:08.876000+00:00",
          "2024-08-03T04:47:38.751000+00:00",
          "2024-08-03T04:35:28.285000+00:00",
          "2024-08-03T04:33:59.932000+00:00",
          "2024-08-03T04:27:46.857000+00:00",
          "2024-08-03T04:25:48.762000+00:00",
          "2024-08-03T04:24:12.155000+00:00",
          "2024-08-03T04:22:29.130000+00:00"
         ],
         "xaxis": "x",
         "y": [
          9649.24,
          7430.2,
          6599.08,
          6371.36,
          5899.93,
          5317.08,
          3569.77,
          2874.86,
          2627.29,
          1560.92,
          1040.84,
          898.63,
          826.07,
          706.29,
          617.53,
          365.78,
          287.76,
          118.48,
          43.86,
          36.2,
          11.21,
          5.25,
          2.02,
          0.13
         ],
         "yaxis": "y2"
        },
        {
         "hovertemplate": "user_name=南區中心1隊<br>datetime=%{x}<br>score=%{y}<extra></extra>",
         "legendgroup": "南區中心1隊",
         "line": {
          "color": "#4f7af9",
          "dash": "solid"
         },
         "marker": {
          "size": 10,
          "symbol": "circle"
         },
         "mode": "lines+markers",
         "name": "南區中心1隊",
         "orientation": "v",
         "showlegend": true,
         "type": "scatter",
         "x": [
          "2024-08-03T06:27:48.056000+00:00",
          "2024-08-03T06:06:50.965000+00:00",
          "2024-08-03T06:03:00.715000+00:00"
         ],
         "xaxis": "x",
         "y": [
          6863.8,
          578.35,
          1.65
         ],
         "yaxis": "y2"
        },
        {
         "hovertemplate": "user_name=石蔭中心隊<br>datetime=%{x}<br>score=%{y}<extra></extra>",
         "legendgroup": "石蔭中心隊",
         "line": {
          "color": "#ffccdd",
          "dash": "solid"
         },
         "marker": {
          "size": 10,
          "symbol": "circle"
         },
         "mode": "lines+markers",
         "name": "石蔭中心隊",
         "orientation": "v",
         "showlegend": true,
         "type": "scatter",
         "x": [
          "2024-08-03T06:27:48.056000+00:00",
          "2024-08-03T05:35:34.273000+00:00",
          "2024-08-03T05:20:04.770000+00:00",
          "2024-08-03T05:12:52.926000+00:00",
          "2024-08-03T05:02:50.999000+00:00",
          "2024-08-03T04:57:50.327000+00:00",
          "2024-08-03T04:48:07.109000+00:00",
          "2024-08-03T04:45:44.159000+00:00",
          "2024-08-03T04:41:07.942000+00:00",
          "2024-08-03T04:36:08.162000+00:00",
          "2024-08-03T04:34:14.052000+00:00",
          "2024-08-03T04:26:58.185000+00:00",
          "2024-08-03T04:23:27.667000+00:00",
          "2024-08-03T04:18:47.907000+00:00",
          "2024-08-03T04:14:56.154000+00:00"
         ],
         "xaxis": "x",
         "y": [
          2111.21,
          1201.66,
          543.91,
          363.85,
          171.98,
          141.85,
          83.53,
          71.61,
          53.19,
          38.2,
          34.39,
          19.84,
          12.82,
          3.87,
          0
         ],
         "yaxis": "y2"
        },
        {
         "hovertemplate": "user_name=南區中心2隊<br>datetime=%{x}<br>score=%{y}<extra></extra>",
         "legendgroup": "南區中心2隊",
         "line": {
          "color": "#ffffff",
          "dash": "solid"
         },
         "marker": {
          "size": 10,
          "symbol": "circle"
         },
         "mode": "lines+markers",
         "name": "南區中心2隊",
         "orientation": "v",
         "showlegend": true,
         "type": "scatter",
         "x": [
          "2024-08-03T06:27:48.056000+00:00"
         ],
         "xaxis": "x",
         "y": [
          0
         ],
         "yaxis": "y2"
        }
       ],
       "layout": {
        "template": {
         "data": {
          "bar": [
           {
            "error_x": {
             "color": "#2a3f5f"
            },
            "error_y": {
             "color": "#2a3f5f"
            },
            "marker": {
             "line": {
              "color": "#E5ECF6",
              "width": 0.5
             },
             "pattern": {
              "fillmode": "overlay",
              "size": 10,
              "solidity": 0.2
             }
            },
            "type": "bar"
           }
          ],
          "barpolar": [
           {
            "marker": {
             "line": {
              "color": "#E5ECF6",
              "width": 0.5
             },
             "pattern": {
              "fillmode": "overlay",
              "size": 10,
              "solidity": 0.2
             }
            },
            "type": "barpolar"
           }
          ],
          "carpet": [
           {
            "aaxis": {
             "endlinecolor": "#2a3f5f",
             "gridcolor": "white",
             "linecolor": "white",
             "minorgridcolor": "white",
             "startlinecolor": "#2a3f5f"
            },
            "baxis": {
             "endlinecolor": "#2a3f5f",
             "gridcolor": "white",
             "linecolor": "white",
             "minorgridcolor": "white",
             "startlinecolor": "#2a3f5f"
            },
            "type": "carpet"
           }
          ],
          "choropleth": [
           {
            "colorbar": {
             "outlinewidth": 0,
             "ticks": ""
            },
            "type": "choropleth"
           }
          ],
          "contour": [
           {
            "colorbar": {
             "outlinewidth": 0,
             "ticks": ""
            },
            "colorscale": [
             [
              0,
              "#0d0887"
             ],
             [
              0.1111111111111111,
              "#46039f"
             ],
             [
              0.2222222222222222,
              "#7201a8"
             ],
             [
              0.3333333333333333,
              "#9c179e"
             ],
             [
              0.4444444444444444,
              "#bd3786"
             ],
             [
              0.5555555555555556,
              "#d8576b"
             ],
             [
              0.6666666666666666,
              "#ed7953"
             ],
             [
              0.7777777777777778,
              "#fb9f3a"
             ],
             [
              0.8888888888888888,
              "#fdca26"
             ],
             [
              1,
              "#f0f921"
             ]
            ],
            "type": "contour"
           }
          ],
          "contourcarpet": [
           {
            "colorbar": {
             "outlinewidth": 0,
             "ticks": ""
            },
            "type": "contourcarpet"
           }
          ],
          "heatmap": [
           {
            "colorbar": {
             "outlinewidth": 0,
             "ticks": ""
            },
            "colorscale": [
             [
              0,
              "#0d0887"
             ],
             [
              0.1111111111111111,
              "#46039f"
             ],
             [
              0.2222222222222222,
              "#7201a8"
             ],
             [
              0.3333333333333333,
              "#9c179e"
             ],
             [
              0.4444444444444444,
              "#bd3786"
             ],
             [
              0.5555555555555556,
              "#d8576b"
             ],
             [
              0.6666666666666666,
              "#ed7953"
             ],
             [
              0.7777777777777778,
              "#fb9f3a"
             ],
             [
              0.8888888888888888,
              "#fdca26"
             ],
             [
              1,
              "#f0f921"
             ]
            ],
            "type": "heatmap"
           }
          ],
          "heatmapgl": [
           {
            "colorbar": {
             "outlinewidth": 0,
             "ticks": ""
            },
            "colorscale": [
             [
              0,
              "#0d0887"
             ],
             [
              0.1111111111111111,
              "#46039f"
             ],
             [
              0.2222222222222222,
              "#7201a8"
             ],
             [
              0.3333333333333333,
              "#9c179e"
             ],
             [
              0.4444444444444444,
              "#bd3786"
             ],
             [
              0.5555555555555556,
              "#d8576b"
             ],
             [
              0.6666666666666666,
              "#ed7953"
             ],
             [
              0.7777777777777778,
              "#fb9f3a"
             ],
             [
              0.8888888888888888,
              "#fdca26"
             ],
             [
              1,
              "#f0f921"
             ]
            ],
            "type": "heatmapgl"
           }
          ],
          "histogram": [
           {
            "marker": {
             "pattern": {
              "fillmode": "overlay",
              "size": 10,
              "solidity": 0.2
             }
            },
            "type": "histogram"
           }
          ],
          "histogram2d": [
           {
            "colorbar": {
             "outlinewidth": 0,
             "ticks": ""
            },
            "colorscale": [
             [
              0,
              "#0d0887"
             ],
             [
              0.1111111111111111,
              "#46039f"
             ],
             [
              0.2222222222222222,
              "#7201a8"
             ],
             [
              0.3333333333333333,
              "#9c179e"
             ],
             [
              0.4444444444444444,
              "#bd3786"
             ],
             [
              0.5555555555555556,
              "#d8576b"
             ],
             [
              0.6666666666666666,
              "#ed7953"
             ],
             [
              0.7777777777777778,
              "#fb9f3a"
             ],
             [
              0.8888888888888888,
              "#fdca26"
             ],
             [
              1,
              "#f0f921"
             ]
            ],
            "type": "histogram2d"
           }
          ],
          "histogram2dcontour": [
           {
            "colorbar": {
             "outlinewidth": 0,
             "ticks": ""
            },
            "colorscale": [
             [
              0,
              "#0d0887"
             ],
             [
              0.1111111111111111,
              "#46039f"
             ],
             [
              0.2222222222222222,
              "#7201a8"
             ],
             [
              0.3333333333333333,
              "#9c179e"
             ],
             [
              0.4444444444444444,
              "#bd3786"
             ],
             [
              0.5555555555555556,
              "#d8576b"
             ],
             [
              0.6666666666666666,
              "#ed7953"
             ],
             [
              0.7777777777777778,
              "#fb9f3a"
             ],
             [
              0.8888888888888888,
              "#fdca26"
             ],
             [
              1,
              "#f0f921"
             ]
            ],
            "type": "histogram2dcontour"
           }
          ],
          "mesh3d": [
           {
            "colorbar": {
             "outlinewidth": 0,
             "ticks": ""
            },
            "type": "mesh3d"
           }
          ],
          "parcoords": [
           {
            "line": {
             "colorbar": {
              "outlinewidth": 0,
              "ticks": ""
             }
            },
            "type": "parcoords"
           }
          ],
          "pie": [
           {
            "automargin": true,
            "type": "pie"
           }
          ],
          "scatter": [
           {
            "fillpattern": {
             "fillmode": "overlay",
             "size": 10,
             "solidity": 0.2
            },
            "type": "scatter"
           }
          ],
          "scatter3d": [
           {
            "line": {
             "colorbar": {
              "outlinewidth": 0,
              "ticks": ""
             }
            },
            "marker": {
             "colorbar": {
              "outlinewidth": 0,
              "ticks": ""
             }
            },
            "type": "scatter3d"
           }
          ],
          "scattercarpet": [
           {
            "marker": {
             "colorbar": {
              "outlinewidth": 0,
              "ticks": ""
             }
            },
            "type": "scattercarpet"
           }
          ],
          "scattergeo": [
           {
            "marker": {
             "colorbar": {
              "outlinewidth": 0,
              "ticks": ""
             }
            },
            "type": "scattergeo"
           }
          ],
          "scattergl": [
           {
            "marker": {
             "colorbar": {
              "outlinewidth": 0,
              "ticks": ""
             }
            },
            "type": "scattergl"
           }
          ],
          "scattermapbox": [
           {
            "marker": {
             "colorbar": {
              "outlinewidth": 0,
              "ticks": ""
             }
            },
            "type": "scattermapbox"
           }
          ],
          "scatterpolar": [
           {
            "marker": {
             "colorbar": {
              "outlinewidth": 0,
              "ticks": ""
             }
            },
            "type": "scatterpolar"
           }
          ],
          "scatterpolargl": [
           {
            "marker": {
             "colorbar": {
              "outlinewidth": 0,
              "ticks": ""
             }
            },
            "type": "scatterpolargl"
           }
          ],
          "scatterternary": [
           {
            "marker": {
             "colorbar": {
              "outlinewidth": 0,
              "ticks": ""
             }
            },
            "type": "scatterternary"
           }
          ],
          "surface": [
           {
            "colorbar": {
             "outlinewidth": 0,
             "ticks": ""
            },
            "colorscale": [
             [
              0,
              "#0d0887"
             ],
             [
              0.1111111111111111,
              "#46039f"
             ],
             [
              0.2222222222222222,
              "#7201a8"
             ],
             [
              0.3333333333333333,
              "#9c179e"
             ],
             [
              0.4444444444444444,
              "#bd3786"
             ],
             [
              0.5555555555555556,
              "#d8576b"
             ],
             [
              0.6666666666666666,
              "#ed7953"
             ],
             [
              0.7777777777777778,
              "#fb9f3a"
             ],
             [
              0.8888888888888888,
              "#fdca26"
             ],
             [
              1,
              "#f0f921"
             ]
            ],
            "type": "surface"
           }
          ],
          "table": [
           {
            "cells": {
             "fill": {
              "color": "#EBF0F8"
             },
             "line": {
              "color": "white"
             }
            },
            "header": {
             "fill": {
              "color": "#C8D4E3"
             },
             "line": {
              "color": "white"
             }
            },
            "type": "table"
           }
          ]
         },
         "layout": {
          "annotationdefaults": {
           "arrowcolor": "#2a3f5f",
           "arrowhead": 0,
           "arrowwidth": 1
          },
          "autotypenumbers": "strict",
          "coloraxis": {
           "colorbar": {
            "outlinewidth": 0,
            "ticks": ""
           }
          },
          "colorscale": {
           "diverging": [
            [
             0,
             "#8e0152"
            ],
            [
             0.1,
             "#c51b7d"
            ],
            [
             0.2,
             "#de77ae"
            ],
            [
             0.3,
             "#f1b6da"
            ],
            [
             0.4,
             "#fde0ef"
            ],
            [
             0.5,
             "#f7f7f7"
            ],
            [
             0.6,
             "#e6f5d0"
            ],
            [
             0.7,
             "#b8e186"
            ],
            [
             0.8,
             "#7fbc41"
            ],
            [
             0.9,
             "#4d9221"
            ],
            [
             1,
             "#276419"
            ]
           ],
           "sequential": [
            [
             0,
             "#0d0887"
            ],
            [
             0.1111111111111111,
             "#46039f"
            ],
            [
             0.2222222222222222,
             "#7201a8"
            ],
            [
             0.3333333333333333,
             "#9c179e"
            ],
            [
             0.4444444444444444,
             "#bd3786"
            ],
            [
             0.5555555555555556,
             "#d8576b"
            ],
            [
             0.6666666666666666,
             "#ed7953"
            ],
            [
             0.7777777777777778,
             "#fb9f3a"
            ],
            [
             0.8888888888888888,
             "#fdca26"
            ],
            [
             1,
             "#f0f921"
            ]
           ],
           "sequentialminus": [
            [
             0,
             "#0d0887"
            ],
            [
             0.1111111111111111,
             "#46039f"
            ],
            [
             0.2222222222222222,
             "#7201a8"
            ],
            [
             0.3333333333333333,
             "#9c179e"
            ],
            [
             0.4444444444444444,
             "#bd3786"
            ],
            [
             0.5555555555555556,
             "#d8576b"
            ],
            [
             0.6666666666666666,
             "#ed7953"
            ],
            [
             0.7777777777777778,
             "#fb9f3a"
            ],
            [
             0.8888888888888888,
             "#fdca26"
            ],
            [
             1,
             "#f0f921"
            ]
           ]
          },
          "colorway": [
           "#636efa",
           "#EF553B",
           "#00cc96",
           "#ab63fa",
           "#FFA15A",
           "#19d3f3",
           "#FF6692",
           "#B6E880",
           "#FF97FF",
           "#FECB52"
          ],
          "font": {
           "color": "#2a3f5f"
          },
          "geo": {
           "bgcolor": "white",
           "lakecolor": "white",
           "landcolor": "#E5ECF6",
           "showlakes": true,
           "showland": true,
           "subunitcolor": "white"
          },
          "hoverlabel": {
           "align": "left"
          },
          "hovermode": "closest",
          "mapbox": {
           "style": "light"
          },
          "paper_bgcolor": "white",
          "plot_bgcolor": "#E5ECF6",
          "polar": {
           "angularaxis": {
            "gridcolor": "white",
            "linecolor": "white",
            "ticks": ""
           },
           "bgcolor": "#E5ECF6",
           "radialaxis": {
            "gridcolor": "white",
            "linecolor": "white",
            "ticks": ""
           }
          },
          "scene": {
           "xaxis": {
            "backgroundcolor": "#E5ECF6",
            "gridcolor": "white",
            "gridwidth": 2,
            "linecolor": "white",
            "showbackground": true,
            "ticks": "",
            "zerolinecolor": "white"
           },
           "yaxis": {
            "backgroundcolor": "#E5ECF6",
            "gridcolor": "white",
            "gridwidth": 2,
            "linecolor": "white",
            "showbackground": true,
            "ticks": "",
            "zerolinecolor": "white"
           },
           "zaxis": {
            "backgroundcolor": "#E5ECF6",
            "gridcolor": "white",
            "gridwidth": 2,
            "linecolor": "white",
            "showbackground": true,
            "ticks": "",
            "zerolinecolor": "white"
           }
          },
          "shapedefaults": {
           "line": {
            "color": "#2a3f5f"
           }
          },
          "ternary": {
           "aaxis": {
            "gridcolor": "white",
            "linecolor": "white",
            "ticks": ""
           },
           "baxis": {
            "gridcolor": "white",
            "linecolor": "white",
            "ticks": ""
           },
           "bgcolor": "#E5ECF6",
           "caxis": {
            "gridcolor": "white",
            "linecolor": "white",
            "ticks": ""
           }
          },
          "title": {
           "x": 0.05
          },
          "xaxis": {
           "automargin": true,
           "gridcolor": "white",
           "linecolor": "white",
           "ticks": "",
           "title": {
            "standoff": 15
           },
           "zerolinecolor": "white",
           "zerolinewidth": 2
          },
          "yaxis": {
           "automargin": true,
           "gridcolor": "white",
           "linecolor": "white",
           "ticks": "",
           "title": {
            "standoff": 15
           },
           "zerolinecolor": "white",
           "zerolinewidth": 2
          }
         }
        },
        "title": {
         "text": "佔領攻擊點的 時間 與 分數走勢",
         "x": 0.5
        },
        "xaxis": {
         "anchor": "y",
         "domain": [
          0,
          0.94
         ],
         "nticks": 30
        },
        "yaxis": {
         "anchor": "x",
         "domain": [
          0,
          1
         ]
        },
        "yaxis2": {
         "anchor": "x",
         "overlaying": "y",
         "side": "right"
        }
       }
      }
     },
     "metadata": {},
     "output_type": "display_data"
    }
   ],
   "source": [
    "from plotly.subplots import make_subplots\n",
    "\n",
    "fig = px.scatter(\n",
    "    captured_logs_df.with_columns(pl.col(\"user_level\").cast(pl.String)).with_columns(pl.col('datetime') + pl.duration(hours=8)).join(users_df['capturedPoints', 'name', 'score'], left_on=\"user_name\", right_on=\"name\").sort('score', descending=True),\n",
    "    y=\"user_name\", \n",
    "    x=\"datetime\",     \n",
    "    color='user_level', \n",
    "    color_discrete_map={\n",
    "        '1': \"#5f5f5f\",\n",
    "        '2': \"#2dd55b\",\n",
    "        '3': \"#0054e9\",\n",
    "    }, \n",
    "    labels={\n",
    "        'user_name': \"隊伍\",\n",
    "        'user_level': \"佔領等級\",\n",
    "        'datetime': \"時間\"\n",
    "    }, \n",
    ")\n",
    "\n",
    "fig.update_layout(title_text='佔領攻擊點的時間', title_x=0.5)\n",
    "\n",
    "\n",
    "point_fig = px.scatter(\n",
    "    upgrade_logs_df.with_columns(pl.col('datetime') + pl.duration(hours=8)).join(users_df, left_on=\"user_name\", right_on=\"name\"),\n",
    "    y=\"user_name\", \n",
    "    x=\"datetime\",\n",
    "    color_discrete_sequence=['red'],\n",
    ")\n",
    "point_fig.update_traces(marker={'size': 10})\n",
    "\n",
    "line_fig = px.line(\n",
    "    log_with_score_df, \n",
    "    x='datetime', \n",
    "    y='score', \n",
    "    color='user_name',\n",
    "    color_discrete_map=color_discrete_map,\n",
    "    markers=True\n",
    ")\n",
    "\n",
    "combined_fig = make_subplots(specs=[[{\"secondary_y\": True}]])\n",
    "\n",
    "# Add traces from fig\n",
    "for trace in fig.data:\n",
    "    combined_fig.add_trace(trace, secondary_y=False)\n",
    "\n",
    "# Add traces from point_fig\n",
    "for trace in point_fig.data:\n",
    "    combined_fig.add_trace(trace, secondary_y=False)\n",
    "\n",
    "# Add traces from line_fig\n",
    "for trace in line_fig.data:\n",
    "    combined_fig.add_trace(trace, secondary_y=True)\n",
    "\n",
    "# Update layout\n",
    "combined_fig.update_layout(\n",
    "    title_text='佔領攻擊點的 時間 與 分數走勢',\n",
    "    title_x=0.5\n",
    ")\n",
    "combined_fig.update_traces(marker_size=10)\n",
    "combined_fig.update_xaxes(nticks=30)\n",
    "\n",
    "combined_fig.show()\n"
   ]
  },
  {
   "cell_type": "code",
   "execution_count": 28,
   "metadata": {},
   "outputs": [
    {
     "data": {
      "application/vnd.plotly.v1+json": {
       "config": {
        "plotlyServerURL": "https://plot.ly"
       },
       "data": [
        {
         "hovertemplate": "佔領等級=3<br>時間=%{x}<br>隊伍=%{y}<extra></extra>",
         "legendgroup": "3",
         "marker": {
          "color": "#0054e9",
          "size": 10,
          "symbol": "circle"
         },
         "mode": "markers",
         "name": "3",
         "orientation": "v",
         "showlegend": true,
         "type": "scatter",
         "x": [
          "2024-08-03T05:48:30.699000+08:00",
          "2024-08-03T05:44:31.637000+08:00",
          "2024-08-03T05:42:11.511000+08:00",
          "2024-08-03T05:36:42.065000+08:00",
          "2024-08-03T05:34:24.204000+08:00",
          "2024-08-03T05:25:56.453000+08:00",
          "2024-08-03T05:25:32.861000+08:00",
          "2024-08-03T05:24:03.706000+08:00",
          "2024-08-03T05:23:07.906000+08:00",
          "2024-08-03T05:20:00.955000+08:00",
          "2024-08-03T05:17:21.117000+08:00",
          "2024-08-03T05:42:41.675000+08:00",
          "2024-08-03T05:41:54.229000+08:00",
          "2024-08-03T05:41:43.511000+08:00",
          "2024-08-03T05:41:08.645000+08:00",
          "2024-08-03T05:41:01.495000+08:00",
          "2024-08-03T05:40:56.416000+08:00",
          "2024-08-03T05:40:50.578000+08:00",
          "2024-08-03T06:15:27.703000+08:00",
          "2024-08-03T06:12:10.551000+08:00",
          "2024-08-03T06:06:50.965000+08:00",
          "2024-08-03T06:03:00.715000+08:00",
          "2024-08-03T06:37:38.056000+08:00",
          "2024-08-03T06:35:06.707000+08:00",
          "2024-08-03T06:26:56.297000+08:00",
          "2024-08-03T06:22:50.933000+08:00",
          "2024-08-03T06:14:00.116000+08:00",
          "2024-08-03T05:35:34.273000+08:00"
         ],
         "xaxis": "x",
         "y": [
          "南葵中心3隊",
          "南葵中心3隊",
          "南葵中心3隊",
          "南葵中心3隊",
          "南葵中心3隊",
          "南葵中心3隊",
          "南葵中心3隊",
          "南葵中心3隊",
          "南葵中心3隊",
          "南葵中心3隊",
          "南葵中心3隊",
          "南葵中心4隊",
          "南葵中心4隊",
          "南葵中心4隊",
          "南葵中心4隊",
          "南葵中心4隊",
          "南葵中心4隊",
          "南葵中心4隊",
          "上環/將軍澳中心隊",
          "上環/將軍澳中心隊",
          "南區中心1隊",
          "南區中心1隊",
          "上環中心隊",
          "上環中心隊",
          "上環中心隊",
          "上環中心隊",
          "上環中心隊",
          "石蔭中心隊"
         ],
         "yaxis": "y"
        },
        {
         "hovertemplate": "佔領等級=2<br>時間=%{x}<br>隊伍=%{y}<extra></extra>",
         "legendgroup": "2",
         "marker": {
          "color": "#2dd55b",
          "size": 10,
          "symbol": "circle"
         },
         "mode": "markers",
         "name": "2",
         "orientation": "v",
         "showlegend": true,
         "type": "scatter",
         "x": [
          "2024-08-03T05:09:45.793000+08:00",
          "2024-08-03T04:51:21.299000+08:00",
          "2024-08-03T04:50:20.082000+08:00",
          "2024-08-03T04:44:50.864000+08:00",
          "2024-08-03T04:41:23.573000+08:00",
          "2024-08-03T04:36:08.006000+08:00",
          "2024-08-03T04:33:09.813000+08:00",
          "2024-08-03T04:29:52.483000+08:00",
          "2024-08-03T04:27:48.593000+08:00",
          "2024-08-03T05:20:35.202000+08:00",
          "2024-08-03T05:17:46.926000+08:00",
          "2024-08-03T05:12:54.534000+08:00",
          "2024-08-03T05:08:16.608000+08:00",
          "2024-08-03T05:07:04.558000+08:00",
          "2024-08-03T05:06:36.719000+08:00",
          "2024-08-03T05:05:09.437000+08:00",
          "2024-08-03T05:03:35.456000+08:00",
          "2024-08-03T05:01:15.314000+08:00",
          "2024-08-03T04:58:32.759000+08:00",
          "2024-08-03T04:58:14.498000+08:00",
          "2024-08-03T04:53:43.996000+08:00",
          "2024-08-03T04:49:44.139000+08:00",
          "2024-08-03T05:46:55.834000+08:00",
          "2024-08-03T05:44:16.811000+08:00",
          "2024-08-03T05:28:20.170000+08:00",
          "2024-08-03T05:25:59.665000+08:00",
          "2024-08-03T05:21:53.888000+08:00",
          "2024-08-03T05:15:07.887000+08:00",
          "2024-08-03T05:06:23.062000+08:00",
          "2024-08-03T05:56:04.499000+08:00",
          "2024-08-03T05:53:50.642000+08:00",
          "2024-08-03T05:47:35.137000+08:00",
          "2024-08-03T05:37:45.567000+08:00",
          "2024-08-03T05:24:05.933000+08:00",
          "2024-08-03T05:18:34.919000+08:00",
          "2024-08-03T05:16:35.141000+08:00",
          "2024-08-03T05:13:39.018000+08:00",
          "2024-08-03T05:12:02.994000+08:00",
          "2024-08-03T05:05:02.944000+08:00",
          "2024-08-03T05:03:12.948000+08:00",
          "2024-08-03T04:59:07.803000+08:00",
          "2024-08-03T04:55:35.526000+08:00",
          "2024-08-03T04:51:30.025000+08:00",
          "2024-08-03T06:06:51.767000+08:00",
          "2024-08-03T06:00:22.428000+08:00",
          "2024-08-03T05:58:28.783000+08:00",
          "2024-08-03T05:53:46.286000+08:00",
          "2024-08-03T05:46:54.605000+08:00",
          "2024-08-03T05:30:51.935000+08:00",
          "2024-08-03T05:24:03.896000+08:00",
          "2024-08-03T05:21:03.311000+08:00",
          "2024-08-03T05:12:53.109000+08:00",
          "2024-08-03T05:08:40.838000+08:00",
          "2024-08-03T05:07:18.049000+08:00",
          "2024-08-03T05:06:28.562000+08:00",
          "2024-08-03T05:05:03.570000+08:00",
          "2024-08-03T05:03:41.184000+08:00",
          "2024-08-03T04:58:02.532000+08:00",
          "2024-08-03T04:55:08.876000+08:00",
          "2024-08-03T04:47:38.751000+08:00",
          "2024-08-03T05:46:58.795000+08:00",
          "2024-08-03T05:41:48.270000+08:00",
          "2024-08-03T05:20:04.770000+08:00",
          "2024-08-03T05:12:52.926000+08:00",
          "2024-08-03T05:02:50.999000+08:00",
          "2024-08-03T04:57:50.327000+08:00"
         ],
         "xaxis": "x",
         "y": [
          "南葵中心3隊",
          "南葵中心3隊",
          "南葵中心3隊",
          "南葵中心3隊",
          "南葵中心3隊",
          "南葵中心3隊",
          "南葵中心3隊",
          "南葵中心3隊",
          "南葵中心3隊",
          "南葵中心4隊",
          "南葵中心4隊",
          "南葵中心4隊",
          "南葵中心4隊",
          "南葵中心4隊",
          "南葵中心4隊",
          "南葵中心4隊",
          "南葵中心4隊",
          "南葵中心4隊",
          "南葵中心4隊",
          "南葵中心4隊",
          "南葵中心4隊",
          "南葵中心4隊",
          "上環/將軍澳中心隊",
          "上環/將軍澳中心隊",
          "上環/將軍澳中心隊",
          "上環/將軍澳中心隊",
          "上環/將軍澳中心隊",
          "上環/將軍澳中心隊",
          "上環/將軍澳中心隊",
          "南葵中心2隊",
          "南葵中心2隊",
          "南葵中心2隊",
          "南葵中心2隊",
          "南葵中心2隊",
          "南葵中心2隊",
          "南葵中心2隊",
          "南葵中心2隊",
          "南葵中心2隊",
          "南葵中心2隊",
          "南葵中心2隊",
          "南葵中心2隊",
          "南葵中心2隊",
          "南葵中心2隊",
          "南葵中心1隊",
          "南葵中心1隊",
          "南葵中心1隊",
          "南葵中心1隊",
          "南葵中心1隊",
          "南葵中心1隊",
          "南葵中心1隊",
          "南葵中心1隊",
          "南葵中心1隊",
          "南葵中心1隊",
          "南葵中心1隊",
          "南葵中心1隊",
          "南葵中心1隊",
          "南葵中心1隊",
          "南葵中心1隊",
          "南葵中心1隊",
          "南葵中心1隊",
          "上環中心隊",
          "上環中心隊",
          "石蔭中心隊",
          "石蔭中心隊",
          "石蔭中心隊",
          "石蔭中心隊"
         ],
         "yaxis": "y"
        },
        {
         "hovertemplate": "佔領等級=1<br>時間=%{x}<br>隊伍=%{y}<extra></extra>",
         "legendgroup": "1",
         "marker": {
          "color": "#5f5f5f",
          "size": 10,
          "symbol": "circle"
         },
         "mode": "markers",
         "name": "1",
         "orientation": "v",
         "showlegend": true,
         "type": "scatter",
         "x": [
          "2024-08-03T04:31:43.753000+08:00",
          "2024-08-03T04:30:22.410000+08:00",
          "2024-08-03T04:27:02.007000+08:00",
          "2024-08-03T04:24:10.372000+08:00",
          "2024-08-03T04:22:30.919000+08:00",
          "2024-08-03T04:20:21.639000+08:00",
          "2024-08-03T04:19:06.398000+08:00",
          "2024-08-03T04:33:32.699000+08:00",
          "2024-08-03T04:27:41.720000+08:00",
          "2024-08-03T04:23:05.635000+08:00",
          "2024-08-03T04:33:37.124000+08:00",
          "2024-08-03T04:35:28.285000+08:00",
          "2024-08-03T04:33:59.932000+08:00",
          "2024-08-03T04:27:46.857000+08:00",
          "2024-08-03T04:25:48.762000+08:00",
          "2024-08-03T04:24:12.155000+08:00",
          "2024-08-03T04:22:29.130000+08:00",
          "2024-08-03T04:48:07.109000+08:00",
          "2024-08-03T04:45:44.159000+08:00",
          "2024-08-03T04:41:07.942000+08:00",
          "2024-08-03T04:36:08.162000+08:00",
          "2024-08-03T04:34:14.052000+08:00",
          "2024-08-03T04:26:58.185000+08:00",
          "2024-08-03T04:23:27.667000+08:00",
          "2024-08-03T04:18:47.907000+08:00",
          "2024-08-03T04:14:56.154000+08:00"
         ],
         "xaxis": "x",
         "y": [
          "南葵中心4隊",
          "南葵中心4隊",
          "南葵中心4隊",
          "南葵中心4隊",
          "南葵中心4隊",
          "南葵中心4隊",
          "南葵中心4隊",
          "上環/將軍澳中心隊",
          "上環/將軍澳中心隊",
          "上環/將軍澳中心隊",
          "南葵中心2隊",
          "南葵中心1隊",
          "南葵中心1隊",
          "南葵中心1隊",
          "南葵中心1隊",
          "南葵中心1隊",
          "南葵中心1隊",
          "石蔭中心隊",
          "石蔭中心隊",
          "石蔭中心隊",
          "石蔭中心隊",
          "石蔭中心隊",
          "石蔭中心隊",
          "石蔭中心隊",
          "石蔭中心隊",
          "石蔭中心隊"
         ],
         "yaxis": "y"
        },
        {
         "hovertemplate": "datetime=%{x}<br>user_name=%{y}<extra></extra>",
         "legendgroup": "",
         "marker": {
          "color": "red",
          "size": 10,
          "symbol": "circle"
         },
         "mode": "markers",
         "name": "",
         "orientation": "v",
         "showlegend": false,
         "type": "scatter",
         "x": [
          "2024-08-03T05:16:40.334000+08:00",
          "2024-08-03T05:30:30.259000+08:00",
          "2024-08-03T06:07:56.676000+08:00",
          "2024-08-03T04:57:03.568000+08:00",
          "2024-08-03T05:48:34.104000+08:00",
          "2024-08-03T05:07:38.669000+08:00",
          "2024-08-03T04:41:21.149000+08:00",
          "2024-08-03T06:08:19.569000+08:00",
          "2024-08-03T04:48:41.140000+08:00",
          "2024-08-03T04:42:26.963000+08:00",
          "2024-08-03T05:39:58.737000+08:00",
          "2024-08-03T04:16:51.826000+08:00",
          "2024-08-03T04:45:21.093000+08:00",
          "2024-08-03T04:41:51.780000+08:00"
         ],
         "xaxis": "x",
         "y": [
          "南葵中心3隊",
          "石蔭中心隊",
          "上環中心隊",
          "石蔭中心隊",
          "南區中心1隊",
          "南區中心1隊",
          "南葵中心2隊",
          "上環/將軍澳中心隊",
          "上環/將軍澳中心隊",
          "南葵中心1隊",
          "南葵中心4隊",
          "南葵中心3隊",
          "上環中心隊",
          "南葵中心4隊"
         ],
         "yaxis": "y"
        }
       ],
       "layout": {
        "legend": {
         "title": {
          "text": "佔領等級"
         },
         "tracegroupgap": 0
        },
        "margin": {
         "t": 60
        },
        "template": {
         "data": {
          "bar": [
           {
            "error_x": {
             "color": "#2a3f5f"
            },
            "error_y": {
             "color": "#2a3f5f"
            },
            "marker": {
             "line": {
              "color": "#E5ECF6",
              "width": 0.5
             },
             "pattern": {
              "fillmode": "overlay",
              "size": 10,
              "solidity": 0.2
             }
            },
            "type": "bar"
           }
          ],
          "barpolar": [
           {
            "marker": {
             "line": {
              "color": "#E5ECF6",
              "width": 0.5
             },
             "pattern": {
              "fillmode": "overlay",
              "size": 10,
              "solidity": 0.2
             }
            },
            "type": "barpolar"
           }
          ],
          "carpet": [
           {
            "aaxis": {
             "endlinecolor": "#2a3f5f",
             "gridcolor": "white",
             "linecolor": "white",
             "minorgridcolor": "white",
             "startlinecolor": "#2a3f5f"
            },
            "baxis": {
             "endlinecolor": "#2a3f5f",
             "gridcolor": "white",
             "linecolor": "white",
             "minorgridcolor": "white",
             "startlinecolor": "#2a3f5f"
            },
            "type": "carpet"
           }
          ],
          "choropleth": [
           {
            "colorbar": {
             "outlinewidth": 0,
             "ticks": ""
            },
            "type": "choropleth"
           }
          ],
          "contour": [
           {
            "colorbar": {
             "outlinewidth": 0,
             "ticks": ""
            },
            "colorscale": [
             [
              0,
              "#0d0887"
             ],
             [
              0.1111111111111111,
              "#46039f"
             ],
             [
              0.2222222222222222,
              "#7201a8"
             ],
             [
              0.3333333333333333,
              "#9c179e"
             ],
             [
              0.4444444444444444,
              "#bd3786"
             ],
             [
              0.5555555555555556,
              "#d8576b"
             ],
             [
              0.6666666666666666,
              "#ed7953"
             ],
             [
              0.7777777777777778,
              "#fb9f3a"
             ],
             [
              0.8888888888888888,
              "#fdca26"
             ],
             [
              1,
              "#f0f921"
             ]
            ],
            "type": "contour"
           }
          ],
          "contourcarpet": [
           {
            "colorbar": {
             "outlinewidth": 0,
             "ticks": ""
            },
            "type": "contourcarpet"
           }
          ],
          "heatmap": [
           {
            "colorbar": {
             "outlinewidth": 0,
             "ticks": ""
            },
            "colorscale": [
             [
              0,
              "#0d0887"
             ],
             [
              0.1111111111111111,
              "#46039f"
             ],
             [
              0.2222222222222222,
              "#7201a8"
             ],
             [
              0.3333333333333333,
              "#9c179e"
             ],
             [
              0.4444444444444444,
              "#bd3786"
             ],
             [
              0.5555555555555556,
              "#d8576b"
             ],
             [
              0.6666666666666666,
              "#ed7953"
             ],
             [
              0.7777777777777778,
              "#fb9f3a"
             ],
             [
              0.8888888888888888,
              "#fdca26"
             ],
             [
              1,
              "#f0f921"
             ]
            ],
            "type": "heatmap"
           }
          ],
          "heatmapgl": [
           {
            "colorbar": {
             "outlinewidth": 0,
             "ticks": ""
            },
            "colorscale": [
             [
              0,
              "#0d0887"
             ],
             [
              0.1111111111111111,
              "#46039f"
             ],
             [
              0.2222222222222222,
              "#7201a8"
             ],
             [
              0.3333333333333333,
              "#9c179e"
             ],
             [
              0.4444444444444444,
              "#bd3786"
             ],
             [
              0.5555555555555556,
              "#d8576b"
             ],
             [
              0.6666666666666666,
              "#ed7953"
             ],
             [
              0.7777777777777778,
              "#fb9f3a"
             ],
             [
              0.8888888888888888,
              "#fdca26"
             ],
             [
              1,
              "#f0f921"
             ]
            ],
            "type": "heatmapgl"
           }
          ],
          "histogram": [
           {
            "marker": {
             "pattern": {
              "fillmode": "overlay",
              "size": 10,
              "solidity": 0.2
             }
            },
            "type": "histogram"
           }
          ],
          "histogram2d": [
           {
            "colorbar": {
             "outlinewidth": 0,
             "ticks": ""
            },
            "colorscale": [
             [
              0,
              "#0d0887"
             ],
             [
              0.1111111111111111,
              "#46039f"
             ],
             [
              0.2222222222222222,
              "#7201a8"
             ],
             [
              0.3333333333333333,
              "#9c179e"
             ],
             [
              0.4444444444444444,
              "#bd3786"
             ],
             [
              0.5555555555555556,
              "#d8576b"
             ],
             [
              0.6666666666666666,
              "#ed7953"
             ],
             [
              0.7777777777777778,
              "#fb9f3a"
             ],
             [
              0.8888888888888888,
              "#fdca26"
             ],
             [
              1,
              "#f0f921"
             ]
            ],
            "type": "histogram2d"
           }
          ],
          "histogram2dcontour": [
           {
            "colorbar": {
             "outlinewidth": 0,
             "ticks": ""
            },
            "colorscale": [
             [
              0,
              "#0d0887"
             ],
             [
              0.1111111111111111,
              "#46039f"
             ],
             [
              0.2222222222222222,
              "#7201a8"
             ],
             [
              0.3333333333333333,
              "#9c179e"
             ],
             [
              0.4444444444444444,
              "#bd3786"
             ],
             [
              0.5555555555555556,
              "#d8576b"
             ],
             [
              0.6666666666666666,
              "#ed7953"
             ],
             [
              0.7777777777777778,
              "#fb9f3a"
             ],
             [
              0.8888888888888888,
              "#fdca26"
             ],
             [
              1,
              "#f0f921"
             ]
            ],
            "type": "histogram2dcontour"
           }
          ],
          "mesh3d": [
           {
            "colorbar": {
             "outlinewidth": 0,
             "ticks": ""
            },
            "type": "mesh3d"
           }
          ],
          "parcoords": [
           {
            "line": {
             "colorbar": {
              "outlinewidth": 0,
              "ticks": ""
             }
            },
            "type": "parcoords"
           }
          ],
          "pie": [
           {
            "automargin": true,
            "type": "pie"
           }
          ],
          "scatter": [
           {
            "fillpattern": {
             "fillmode": "overlay",
             "size": 10,
             "solidity": 0.2
            },
            "type": "scatter"
           }
          ],
          "scatter3d": [
           {
            "line": {
             "colorbar": {
              "outlinewidth": 0,
              "ticks": ""
             }
            },
            "marker": {
             "colorbar": {
              "outlinewidth": 0,
              "ticks": ""
             }
            },
            "type": "scatter3d"
           }
          ],
          "scattercarpet": [
           {
            "marker": {
             "colorbar": {
              "outlinewidth": 0,
              "ticks": ""
             }
            },
            "type": "scattercarpet"
           }
          ],
          "scattergeo": [
           {
            "marker": {
             "colorbar": {
              "outlinewidth": 0,
              "ticks": ""
             }
            },
            "type": "scattergeo"
           }
          ],
          "scattergl": [
           {
            "marker": {
             "colorbar": {
              "outlinewidth": 0,
              "ticks": ""
             }
            },
            "type": "scattergl"
           }
          ],
          "scattermapbox": [
           {
            "marker": {
             "colorbar": {
              "outlinewidth": 0,
              "ticks": ""
             }
            },
            "type": "scattermapbox"
           }
          ],
          "scatterpolar": [
           {
            "marker": {
             "colorbar": {
              "outlinewidth": 0,
              "ticks": ""
             }
            },
            "type": "scatterpolar"
           }
          ],
          "scatterpolargl": [
           {
            "marker": {
             "colorbar": {
              "outlinewidth": 0,
              "ticks": ""
             }
            },
            "type": "scatterpolargl"
           }
          ],
          "scatterternary": [
           {
            "marker": {
             "colorbar": {
              "outlinewidth": 0,
              "ticks": ""
             }
            },
            "type": "scatterternary"
           }
          ],
          "surface": [
           {
            "colorbar": {
             "outlinewidth": 0,
             "ticks": ""
            },
            "colorscale": [
             [
              0,
              "#0d0887"
             ],
             [
              0.1111111111111111,
              "#46039f"
             ],
             [
              0.2222222222222222,
              "#7201a8"
             ],
             [
              0.3333333333333333,
              "#9c179e"
             ],
             [
              0.4444444444444444,
              "#bd3786"
             ],
             [
              0.5555555555555556,
              "#d8576b"
             ],
             [
              0.6666666666666666,
              "#ed7953"
             ],
             [
              0.7777777777777778,
              "#fb9f3a"
             ],
             [
              0.8888888888888888,
              "#fdca26"
             ],
             [
              1,
              "#f0f921"
             ]
            ],
            "type": "surface"
           }
          ],
          "table": [
           {
            "cells": {
             "fill": {
              "color": "#EBF0F8"
             },
             "line": {
              "color": "white"
             }
            },
            "header": {
             "fill": {
              "color": "#C8D4E3"
             },
             "line": {
              "color": "white"
             }
            },
            "type": "table"
           }
          ]
         },
         "layout": {
          "annotationdefaults": {
           "arrowcolor": "#2a3f5f",
           "arrowhead": 0,
           "arrowwidth": 1
          },
          "autotypenumbers": "strict",
          "coloraxis": {
           "colorbar": {
            "outlinewidth": 0,
            "ticks": ""
           }
          },
          "colorscale": {
           "diverging": [
            [
             0,
             "#8e0152"
            ],
            [
             0.1,
             "#c51b7d"
            ],
            [
             0.2,
             "#de77ae"
            ],
            [
             0.3,
             "#f1b6da"
            ],
            [
             0.4,
             "#fde0ef"
            ],
            [
             0.5,
             "#f7f7f7"
            ],
            [
             0.6,
             "#e6f5d0"
            ],
            [
             0.7,
             "#b8e186"
            ],
            [
             0.8,
             "#7fbc41"
            ],
            [
             0.9,
             "#4d9221"
            ],
            [
             1,
             "#276419"
            ]
           ],
           "sequential": [
            [
             0,
             "#0d0887"
            ],
            [
             0.1111111111111111,
             "#46039f"
            ],
            [
             0.2222222222222222,
             "#7201a8"
            ],
            [
             0.3333333333333333,
             "#9c179e"
            ],
            [
             0.4444444444444444,
             "#bd3786"
            ],
            [
             0.5555555555555556,
             "#d8576b"
            ],
            [
             0.6666666666666666,
             "#ed7953"
            ],
            [
             0.7777777777777778,
             "#fb9f3a"
            ],
            [
             0.8888888888888888,
             "#fdca26"
            ],
            [
             1,
             "#f0f921"
            ]
           ],
           "sequentialminus": [
            [
             0,
             "#0d0887"
            ],
            [
             0.1111111111111111,
             "#46039f"
            ],
            [
             0.2222222222222222,
             "#7201a8"
            ],
            [
             0.3333333333333333,
             "#9c179e"
            ],
            [
             0.4444444444444444,
             "#bd3786"
            ],
            [
             0.5555555555555556,
             "#d8576b"
            ],
            [
             0.6666666666666666,
             "#ed7953"
            ],
            [
             0.7777777777777778,
             "#fb9f3a"
            ],
            [
             0.8888888888888888,
             "#fdca26"
            ],
            [
             1,
             "#f0f921"
            ]
           ]
          },
          "colorway": [
           "#636efa",
           "#EF553B",
           "#00cc96",
           "#ab63fa",
           "#FFA15A",
           "#19d3f3",
           "#FF6692",
           "#B6E880",
           "#FF97FF",
           "#FECB52"
          ],
          "font": {
           "color": "#2a3f5f"
          },
          "geo": {
           "bgcolor": "white",
           "lakecolor": "white",
           "landcolor": "#E5ECF6",
           "showlakes": true,
           "showland": true,
           "subunitcolor": "white"
          },
          "hoverlabel": {
           "align": "left"
          },
          "hovermode": "closest",
          "mapbox": {
           "style": "light"
          },
          "paper_bgcolor": "white",
          "plot_bgcolor": "#E5ECF6",
          "polar": {
           "angularaxis": {
            "gridcolor": "white",
            "linecolor": "white",
            "ticks": ""
           },
           "bgcolor": "#E5ECF6",
           "radialaxis": {
            "gridcolor": "white",
            "linecolor": "white",
            "ticks": ""
           }
          },
          "scene": {
           "xaxis": {
            "backgroundcolor": "#E5ECF6",
            "gridcolor": "white",
            "gridwidth": 2,
            "linecolor": "white",
            "showbackground": true,
            "ticks": "",
            "zerolinecolor": "white"
           },
           "yaxis": {
            "backgroundcolor": "#E5ECF6",
            "gridcolor": "white",
            "gridwidth": 2,
            "linecolor": "white",
            "showbackground": true,
            "ticks": "",
            "zerolinecolor": "white"
           },
           "zaxis": {
            "backgroundcolor": "#E5ECF6",
            "gridcolor": "white",
            "gridwidth": 2,
            "linecolor": "white",
            "showbackground": true,
            "ticks": "",
            "zerolinecolor": "white"
           }
          },
          "shapedefaults": {
           "line": {
            "color": "#2a3f5f"
           }
          },
          "ternary": {
           "aaxis": {
            "gridcolor": "white",
            "linecolor": "white",
            "ticks": ""
           },
           "baxis": {
            "gridcolor": "white",
            "linecolor": "white",
            "ticks": ""
           },
           "bgcolor": "#E5ECF6",
           "caxis": {
            "gridcolor": "white",
            "linecolor": "white",
            "ticks": ""
           }
          },
          "title": {
           "x": 0.05
          },
          "xaxis": {
           "automargin": true,
           "gridcolor": "white",
           "linecolor": "white",
           "ticks": "",
           "title": {
            "standoff": 15
           },
           "zerolinecolor": "white",
           "zerolinewidth": 2
          },
          "yaxis": {
           "automargin": true,
           "gridcolor": "white",
           "linecolor": "white",
           "ticks": "",
           "title": {
            "standoff": 15
           },
           "zerolinecolor": "white",
           "zerolinewidth": 2
          }
         }
        },
        "title": {
         "text": "佔領攻擊點的時間",
         "x": 0.5
        },
        "xaxis": {
         "anchor": "y",
         "domain": [
          0,
          1
         ],
         "nticks": 30,
         "title": {
          "text": "時間"
         }
        },
        "yaxis": {
         "anchor": "x",
         "domain": [
          0,
          1
         ],
         "title": {
          "text": "隊伍"
         }
        }
       }
      }
     },
     "metadata": {},
     "output_type": "display_data"
    }
   ],
   "source": [
    "fig = px.scatter(\n",
    "    captured_logs_df.with_columns(pl.col(\"user_level\").cast(pl.String)).with_columns(pl.col('datetime') + pl.duration(hours=8)).join(users_df['capturedPoints', 'name', 'score'], left_on=\"user_name\", right_on=\"name\").sort('score', descending=True),\n",
    "    y=\"user_name\", \n",
    "    x=\"datetime\",     \n",
    "    color='user_level', \n",
    "    color_discrete_map={\n",
    "        '1': \"#5f5f5f\",\n",
    "        '2': \"#2dd55b\",\n",
    "        '3': \"#0054e9\",\n",
    "    }, \n",
    "    labels={\n",
    "        'user_name': \"隊伍\",\n",
    "        'user_level': \"佔領等級\",\n",
    "        'datetime': \"時間\"\n",
    "    }, \n",
    ")\n",
    "fig.update_traces(marker_size=10)\n",
    "fig.update_xaxes(nticks=30)\n",
    "\n",
    "fig.update_layout(title_text='佔領攻擊點的時間', title_x=0.5)\n",
    "\n",
    "\n",
    "point_fig = px.scatter(\n",
    "    upgrade_logs_df.with_columns(pl.col('datetime') + pl.duration(hours=8)).join(users_df, left_on=\"user_name\", right_on=\"name\"),\n",
    "    y=\"user_name\", \n",
    "    x=\"datetime\",\n",
    "    color_discrete_sequence=['red'],\n",
    ")\n",
    "point_fig.update_traces(marker={'size': 10})\n",
    "\n",
    "fig.add_trace(point_fig.data[0])\n",
    "\n",
    "fig"
   ]
  },
  {
   "cell_type": "code",
   "execution_count": 29,
   "metadata": {},
   "outputs": [
    {
     "data": {
      "application/vnd.plotly.v1+json": {
       "config": {
        "plotlyServerURL": "https://plot.ly"
       },
       "data": [
        {
         "hovertemplate": "user_name=上環中心隊<br>datetime=%{x}<br>score=%{y}<extra></extra>",
         "legendgroup": "上環中心隊",
         "line": {
          "color": "#9c78fe",
          "dash": "solid"
         },
         "marker": {
          "symbol": "circle"
         },
         "mode": "lines+markers",
         "name": "上環中心隊",
         "orientation": "v",
         "showlegend": true,
         "type": "scatter",
         "x": [
          "2024-08-03T06:37:38.056000+00:00",
          "2024-08-03T06:35:06.707000+00:00",
          "2024-08-03T06:27:48.056000+00:00",
          "2024-08-03T06:26:56.297000+00:00",
          "2024-08-03T06:22:50.933000+00:00",
          "2024-08-03T06:14:00.116000+00:00",
          "2024-08-03T05:46:58.795000+00:00",
          "2024-08-03T05:41:48.270000+00:00"
         ],
         "xaxis": "x",
         "y": [
          6006.62,
          6621.39,
          4133.4,
          3727.95,
          2418.12,
          912.74,
          103.82,
          0.15
         ],
         "yaxis": "y"
        },
        {
         "hovertemplate": "user_name=南葵中心3隊<br>datetime=%{x}<br>score=%{y}<extra></extra>",
         "legendgroup": "南葵中心3隊",
         "line": {
          "color": "#ea3323",
          "dash": "solid"
         },
         "marker": {
          "symbol": "circle"
         },
         "mode": "lines+markers",
         "name": "南葵中心3隊",
         "orientation": "v",
         "showlegend": true,
         "type": "scatter",
         "x": [
          "2024-08-03T06:27:48.056000+00:00",
          "2024-08-03T05:48:30.699000+00:00",
          "2024-08-03T05:44:31.637000+00:00",
          "2024-08-03T05:42:11.511000+00:00",
          "2024-08-03T05:36:42.065000+00:00",
          "2024-08-03T05:34:24.204000+00:00",
          "2024-08-03T05:25:56.453000+00:00",
          "2024-08-03T05:25:32.861000+00:00",
          "2024-08-03T05:24:03.706000+00:00",
          "2024-08-03T05:23:07.906000+00:00",
          "2024-08-03T05:20:00.955000+00:00",
          "2024-08-03T05:17:21.117000+00:00",
          "2024-08-03T05:09:45.793000+00:00",
          "2024-08-03T04:51:21.299000+00:00",
          "2024-08-03T04:50:20.082000+00:00",
          "2024-08-03T04:44:50.864000+00:00",
          "2024-08-03T04:41:23.573000+00:00",
          "2024-08-03T04:36:08.006000+00:00",
          "2024-08-03T04:33:09.813000+00:00",
          "2024-08-03T04:29:52.483000+00:00",
          "2024-08-03T04:27:48.593000+00:00"
         ],
         "xaxis": "x",
         "y": [
          51294.84,
          21827.88,
          19436.31,
          18338.02,
          16470.61,
          15591.02,
          9431.64,
          9123.75,
          8186.76,
          7739.6,
          6710.85,
          6230.94,
          4864.96,
          1919.43,
          1776.4,
          1117.92,
          772.38,
          351.48,
          173.24,
          41.61,
          0.14
         ],
         "yaxis": "y"
        },
        {
         "hovertemplate": "user_name=南葵中心4隊<br>datetime=%{x}<br>score=%{y}<extra></extra>",
         "legendgroup": "南葵中心4隊",
         "line": {
          "color": "#ff8b00",
          "dash": "solid"
         },
         "marker": {
          "symbol": "circle"
         },
         "mode": "lines+markers",
         "name": "南葵中心4隊",
         "orientation": "v",
         "showlegend": true,
         "type": "scatter",
         "x": [
          "2024-08-03T06:27:48.056000+00:00",
          "2024-08-03T05:42:41.675000+00:00",
          "2024-08-03T05:41:54.229000+00:00",
          "2024-08-03T05:41:43.511000+00:00",
          "2024-08-03T05:41:08.645000+00:00",
          "2024-08-03T05:41:01.495000+00:00",
          "2024-08-03T05:40:56.416000+00:00",
          "2024-08-03T05:40:50.578000+00:00",
          "2024-08-03T05:20:35.202000+00:00",
          "2024-08-03T05:17:46.926000+00:00",
          "2024-08-03T05:12:54.534000+00:00",
          "2024-08-03T05:08:16.608000+00:00",
          "2024-08-03T05:07:04.558000+00:00",
          "2024-08-03T05:06:36.719000+00:00",
          "2024-08-03T05:05:09.437000+00:00",
          "2024-08-03T05:03:35.456000+00:00",
          "2024-08-03T05:01:15.314000+00:00",
          "2024-08-03T04:58:32.759000+00:00",
          "2024-08-03T04:58:14.498000+00:00",
          "2024-08-03T04:53:43.996000+00:00",
          "2024-08-03T04:49:44.139000+00:00",
          "2024-08-03T04:31:43.753000+00:00",
          "2024-08-03T04:30:22.410000+00:00",
          "2024-08-03T04:27:02.007000+00:00",
          "2024-08-03T04:24:10.372000+00:00",
          "2024-08-03T04:22:30.919000+00:00",
          "2024-08-03T04:20:21.639000+00:00",
          "2024-08-03T04:19:06.398000+00:00"
         ],
         "xaxis": "x",
         "y": [
          42202.28,
          10016.47,
          9270.62,
          9106.55,
          8648.82,
          8572.47,
          8530.75,
          8497.32,
          3917.82,
          3339.89,
          2433.36,
          1575.08,
          1375.68,
          1307.82,
          1124.39,
          958.22,
          710.63,
          477.46,
          457.25,
          249.72,
          145.61,
          37.46,
          30.68,
          17.32,
          8.73,
          5.41,
          1.26,
          0
         ],
         "yaxis": "y"
        },
        {
         "hovertemplate": "user_name=上環/將軍澳中心隊<br>datetime=%{x}<br>score=%{y}<extra></extra>",
         "legendgroup": "上環/將軍澳中心隊",
         "line": {
          "color": "#febb26",
          "dash": "solid"
         },
         "marker": {
          "symbol": "circle"
         },
         "mode": "lines+markers",
         "name": "上環/將軍澳中心隊",
         "orientation": "v",
         "showlegend": true,
         "type": "scatter",
         "x": [
          "2024-08-03T06:27:48.056000+00:00",
          "2024-08-03T06:15:27.703000+00:00",
          "2024-08-03T06:12:10.551000+00:00",
          "2024-08-03T05:46:55.834000+00:00",
          "2024-08-03T05:44:16.811000+00:00",
          "2024-08-03T05:28:20.170000+00:00",
          "2024-08-03T05:25:59.665000+00:00",
          "2024-08-03T05:21:53.888000+00:00",
          "2024-08-03T05:15:07.887000+00:00",
          "2024-08-03T05:06:23.062000+00:00",
          "2024-08-03T04:33:32.699000+00:00",
          "2024-08-03T04:27:41.720000+00:00",
          "2024-08-03T04:23:05.635000+00:00"
         ],
         "xaxis": "x",
         "y": [
          12953.79,
          7524.53,
          6568.54,
          3023.62,
          2700.19,
          1060.31,
          865.8,
          607.56,
          316.34,
          115.08,
          16.33,
          4.62,
          0.01
         ],
         "yaxis": "y"
        },
        {
         "hovertemplate": "user_name=南葵中心2隊<br>datetime=%{x}<br>score=%{y}<extra></extra>",
         "legendgroup": "南葵中心2隊",
         "line": {
          "color": "#17873f",
          "dash": "solid"
         },
         "marker": {
          "symbol": "circle"
         },
         "mode": "lines+markers",
         "name": "南葵中心2隊",
         "orientation": "v",
         "showlegend": true,
         "type": "scatter",
         "x": [
          "2024-08-03T06:27:48.056000+00:00",
          "2024-08-03T05:56:04.499000+00:00",
          "2024-08-03T05:53:50.642000+00:00",
          "2024-08-03T05:47:35.137000+00:00",
          "2024-08-03T05:37:45.567000+00:00",
          "2024-08-03T05:24:05.933000+00:00",
          "2024-08-03T05:18:34.919000+00:00",
          "2024-08-03T05:16:35.141000+00:00",
          "2024-08-03T05:13:39.018000+00:00",
          "2024-08-03T05:12:02.994000+00:00",
          "2024-08-03T05:05:02.944000+00:00",
          "2024-08-03T05:03:12.948000+00:00",
          "2024-08-03T04:59:07.803000+00:00",
          "2024-08-03T04:55:35.526000+00:00",
          "2024-08-03T04:51:30.025000+00:00",
          "2024-08-03T04:33:37.124000+00:00"
         ],
         "xaxis": "x",
         "y": [
          14417.65,
          8171.69,
          7769.95,
          6768.26,
          5212.03,
          3233.56,
          2241.2,
          1921.64,
          1510.2,
          1317.89,
          617.57,
          470.79,
          225.43,
          83.79,
          1.79,
          0.01
         ],
         "yaxis": "y"
        },
        {
         "hovertemplate": "user_name=南葵中心1隊<br>datetime=%{x}<br>score=%{y}<extra></extra>",
         "legendgroup": "南葵中心1隊",
         "line": {
          "color": "#25dc67",
          "dash": "solid"
         },
         "marker": {
          "symbol": "circle"
         },
         "mode": "lines+markers",
         "name": "南葵中心1隊",
         "orientation": "v",
         "showlegend": true,
         "type": "scatter",
         "x": [
          "2024-08-03T06:27:48.056000+00:00",
          "2024-08-03T06:06:51.767000+00:00",
          "2024-08-03T06:00:22.428000+00:00",
          "2024-08-03T05:58:28.783000+00:00",
          "2024-08-03T05:53:46.286000+00:00",
          "2024-08-03T05:46:54.605000+00:00",
          "2024-08-03T05:30:51.935000+00:00",
          "2024-08-03T05:24:03.896000+00:00",
          "2024-08-03T05:21:03.311000+00:00",
          "2024-08-03T05:12:53.109000+00:00",
          "2024-08-03T05:08:40.838000+00:00",
          "2024-08-03T05:07:18.049000+00:00",
          "2024-08-03T05:06:28.562000+00:00",
          "2024-08-03T05:05:03.570000+00:00",
          "2024-08-03T05:03:41.184000+00:00",
          "2024-08-03T04:58:02.532000+00:00",
          "2024-08-03T04:55:08.876000+00:00",
          "2024-08-03T04:47:38.751000+00:00",
          "2024-08-03T04:35:28.285000+00:00",
          "2024-08-03T04:33:59.932000+00:00",
          "2024-08-03T04:27:46.857000+00:00",
          "2024-08-03T04:25:48.762000+00:00",
          "2024-08-03T04:24:12.155000+00:00",
          "2024-08-03T04:22:29.130000+00:00"
         ],
         "xaxis": "x",
         "y": [
          9649.24,
          7430.2,
          6599.08,
          6371.36,
          5899.93,
          5317.08,
          3569.77,
          2874.86,
          2627.29,
          1560.92,
          1040.84,
          898.63,
          826.07,
          706.29,
          617.53,
          365.78,
          287.76,
          118.48,
          43.86,
          36.2,
          11.21,
          5.25,
          2.02,
          0.13
         ],
         "yaxis": "y"
        },
        {
         "hovertemplate": "user_name=南區中心1隊<br>datetime=%{x}<br>score=%{y}<extra></extra>",
         "legendgroup": "南區中心1隊",
         "line": {
          "color": "#4f7af9",
          "dash": "solid"
         },
         "marker": {
          "symbol": "circle"
         },
         "mode": "lines+markers",
         "name": "南區中心1隊",
         "orientation": "v",
         "showlegend": true,
         "type": "scatter",
         "x": [
          "2024-08-03T06:27:48.056000+00:00",
          "2024-08-03T06:06:50.965000+00:00",
          "2024-08-03T06:03:00.715000+00:00"
         ],
         "xaxis": "x",
         "y": [
          6863.8,
          578.35,
          1.65
         ],
         "yaxis": "y"
        },
        {
         "hovertemplate": "user_name=石蔭中心隊<br>datetime=%{x}<br>score=%{y}<extra></extra>",
         "legendgroup": "石蔭中心隊",
         "line": {
          "color": "#ffccdd",
          "dash": "solid"
         },
         "marker": {
          "symbol": "circle"
         },
         "mode": "lines+markers",
         "name": "石蔭中心隊",
         "orientation": "v",
         "showlegend": true,
         "type": "scatter",
         "x": [
          "2024-08-03T06:27:48.056000+00:00",
          "2024-08-03T05:35:34.273000+00:00",
          "2024-08-03T05:20:04.770000+00:00",
          "2024-08-03T05:12:52.926000+00:00",
          "2024-08-03T05:02:50.999000+00:00",
          "2024-08-03T04:57:50.327000+00:00",
          "2024-08-03T04:48:07.109000+00:00",
          "2024-08-03T04:45:44.159000+00:00",
          "2024-08-03T04:41:07.942000+00:00",
          "2024-08-03T04:36:08.162000+00:00",
          "2024-08-03T04:34:14.052000+00:00",
          "2024-08-03T04:26:58.185000+00:00",
          "2024-08-03T04:23:27.667000+00:00",
          "2024-08-03T04:18:47.907000+00:00",
          "2024-08-03T04:14:56.154000+00:00"
         ],
         "xaxis": "x",
         "y": [
          2111.21,
          1201.66,
          543.91,
          363.85,
          171.98,
          141.85,
          83.53,
          71.61,
          53.19,
          38.2,
          34.39,
          19.84,
          12.82,
          3.87,
          0
         ],
         "yaxis": "y"
        },
        {
         "hovertemplate": "user_name=南區中心2隊<br>datetime=%{x}<br>score=%{y}<extra></extra>",
         "legendgroup": "南區中心2隊",
         "line": {
          "color": "#ffffff",
          "dash": "solid"
         },
         "marker": {
          "symbol": "circle"
         },
         "mode": "lines+markers",
         "name": "南區中心2隊",
         "orientation": "v",
         "showlegend": true,
         "type": "scatter",
         "x": [
          "2024-08-03T06:27:48.056000+00:00"
         ],
         "xaxis": "x",
         "y": [
          0
         ],
         "yaxis": "y"
        }
       ],
       "layout": {
        "legend": {
         "title": {
          "text": "user_name"
         },
         "tracegroupgap": 0
        },
        "margin": {
         "t": 60
        },
        "template": {
         "data": {
          "bar": [
           {
            "error_x": {
             "color": "#2a3f5f"
            },
            "error_y": {
             "color": "#2a3f5f"
            },
            "marker": {
             "line": {
              "color": "#E5ECF6",
              "width": 0.5
             },
             "pattern": {
              "fillmode": "overlay",
              "size": 10,
              "solidity": 0.2
             }
            },
            "type": "bar"
           }
          ],
          "barpolar": [
           {
            "marker": {
             "line": {
              "color": "#E5ECF6",
              "width": 0.5
             },
             "pattern": {
              "fillmode": "overlay",
              "size": 10,
              "solidity": 0.2
             }
            },
            "type": "barpolar"
           }
          ],
          "carpet": [
           {
            "aaxis": {
             "endlinecolor": "#2a3f5f",
             "gridcolor": "white",
             "linecolor": "white",
             "minorgridcolor": "white",
             "startlinecolor": "#2a3f5f"
            },
            "baxis": {
             "endlinecolor": "#2a3f5f",
             "gridcolor": "white",
             "linecolor": "white",
             "minorgridcolor": "white",
             "startlinecolor": "#2a3f5f"
            },
            "type": "carpet"
           }
          ],
          "choropleth": [
           {
            "colorbar": {
             "outlinewidth": 0,
             "ticks": ""
            },
            "type": "choropleth"
           }
          ],
          "contour": [
           {
            "colorbar": {
             "outlinewidth": 0,
             "ticks": ""
            },
            "colorscale": [
             [
              0,
              "#0d0887"
             ],
             [
              0.1111111111111111,
              "#46039f"
             ],
             [
              0.2222222222222222,
              "#7201a8"
             ],
             [
              0.3333333333333333,
              "#9c179e"
             ],
             [
              0.4444444444444444,
              "#bd3786"
             ],
             [
              0.5555555555555556,
              "#d8576b"
             ],
             [
              0.6666666666666666,
              "#ed7953"
             ],
             [
              0.7777777777777778,
              "#fb9f3a"
             ],
             [
              0.8888888888888888,
              "#fdca26"
             ],
             [
              1,
              "#f0f921"
             ]
            ],
            "type": "contour"
           }
          ],
          "contourcarpet": [
           {
            "colorbar": {
             "outlinewidth": 0,
             "ticks": ""
            },
            "type": "contourcarpet"
           }
          ],
          "heatmap": [
           {
            "colorbar": {
             "outlinewidth": 0,
             "ticks": ""
            },
            "colorscale": [
             [
              0,
              "#0d0887"
             ],
             [
              0.1111111111111111,
              "#46039f"
             ],
             [
              0.2222222222222222,
              "#7201a8"
             ],
             [
              0.3333333333333333,
              "#9c179e"
             ],
             [
              0.4444444444444444,
              "#bd3786"
             ],
             [
              0.5555555555555556,
              "#d8576b"
             ],
             [
              0.6666666666666666,
              "#ed7953"
             ],
             [
              0.7777777777777778,
              "#fb9f3a"
             ],
             [
              0.8888888888888888,
              "#fdca26"
             ],
             [
              1,
              "#f0f921"
             ]
            ],
            "type": "heatmap"
           }
          ],
          "heatmapgl": [
           {
            "colorbar": {
             "outlinewidth": 0,
             "ticks": ""
            },
            "colorscale": [
             [
              0,
              "#0d0887"
             ],
             [
              0.1111111111111111,
              "#46039f"
             ],
             [
              0.2222222222222222,
              "#7201a8"
             ],
             [
              0.3333333333333333,
              "#9c179e"
             ],
             [
              0.4444444444444444,
              "#bd3786"
             ],
             [
              0.5555555555555556,
              "#d8576b"
             ],
             [
              0.6666666666666666,
              "#ed7953"
             ],
             [
              0.7777777777777778,
              "#fb9f3a"
             ],
             [
              0.8888888888888888,
              "#fdca26"
             ],
             [
              1,
              "#f0f921"
             ]
            ],
            "type": "heatmapgl"
           }
          ],
          "histogram": [
           {
            "marker": {
             "pattern": {
              "fillmode": "overlay",
              "size": 10,
              "solidity": 0.2
             }
            },
            "type": "histogram"
           }
          ],
          "histogram2d": [
           {
            "colorbar": {
             "outlinewidth": 0,
             "ticks": ""
            },
            "colorscale": [
             [
              0,
              "#0d0887"
             ],
             [
              0.1111111111111111,
              "#46039f"
             ],
             [
              0.2222222222222222,
              "#7201a8"
             ],
             [
              0.3333333333333333,
              "#9c179e"
             ],
             [
              0.4444444444444444,
              "#bd3786"
             ],
             [
              0.5555555555555556,
              "#d8576b"
             ],
             [
              0.6666666666666666,
              "#ed7953"
             ],
             [
              0.7777777777777778,
              "#fb9f3a"
             ],
             [
              0.8888888888888888,
              "#fdca26"
             ],
             [
              1,
              "#f0f921"
             ]
            ],
            "type": "histogram2d"
           }
          ],
          "histogram2dcontour": [
           {
            "colorbar": {
             "outlinewidth": 0,
             "ticks": ""
            },
            "colorscale": [
             [
              0,
              "#0d0887"
             ],
             [
              0.1111111111111111,
              "#46039f"
             ],
             [
              0.2222222222222222,
              "#7201a8"
             ],
             [
              0.3333333333333333,
              "#9c179e"
             ],
             [
              0.4444444444444444,
              "#bd3786"
             ],
             [
              0.5555555555555556,
              "#d8576b"
             ],
             [
              0.6666666666666666,
              "#ed7953"
             ],
             [
              0.7777777777777778,
              "#fb9f3a"
             ],
             [
              0.8888888888888888,
              "#fdca26"
             ],
             [
              1,
              "#f0f921"
             ]
            ],
            "type": "histogram2dcontour"
           }
          ],
          "mesh3d": [
           {
            "colorbar": {
             "outlinewidth": 0,
             "ticks": ""
            },
            "type": "mesh3d"
           }
          ],
          "parcoords": [
           {
            "line": {
             "colorbar": {
              "outlinewidth": 0,
              "ticks": ""
             }
            },
            "type": "parcoords"
           }
          ],
          "pie": [
           {
            "automargin": true,
            "type": "pie"
           }
          ],
          "scatter": [
           {
            "fillpattern": {
             "fillmode": "overlay",
             "size": 10,
             "solidity": 0.2
            },
            "type": "scatter"
           }
          ],
          "scatter3d": [
           {
            "line": {
             "colorbar": {
              "outlinewidth": 0,
              "ticks": ""
             }
            },
            "marker": {
             "colorbar": {
              "outlinewidth": 0,
              "ticks": ""
             }
            },
            "type": "scatter3d"
           }
          ],
          "scattercarpet": [
           {
            "marker": {
             "colorbar": {
              "outlinewidth": 0,
              "ticks": ""
             }
            },
            "type": "scattercarpet"
           }
          ],
          "scattergeo": [
           {
            "marker": {
             "colorbar": {
              "outlinewidth": 0,
              "ticks": ""
             }
            },
            "type": "scattergeo"
           }
          ],
          "scattergl": [
           {
            "marker": {
             "colorbar": {
              "outlinewidth": 0,
              "ticks": ""
             }
            },
            "type": "scattergl"
           }
          ],
          "scattermapbox": [
           {
            "marker": {
             "colorbar": {
              "outlinewidth": 0,
              "ticks": ""
             }
            },
            "type": "scattermapbox"
           }
          ],
          "scatterpolar": [
           {
            "marker": {
             "colorbar": {
              "outlinewidth": 0,
              "ticks": ""
             }
            },
            "type": "scatterpolar"
           }
          ],
          "scatterpolargl": [
           {
            "marker": {
             "colorbar": {
              "outlinewidth": 0,
              "ticks": ""
             }
            },
            "type": "scatterpolargl"
           }
          ],
          "scatterternary": [
           {
            "marker": {
             "colorbar": {
              "outlinewidth": 0,
              "ticks": ""
             }
            },
            "type": "scatterternary"
           }
          ],
          "surface": [
           {
            "colorbar": {
             "outlinewidth": 0,
             "ticks": ""
            },
            "colorscale": [
             [
              0,
              "#0d0887"
             ],
             [
              0.1111111111111111,
              "#46039f"
             ],
             [
              0.2222222222222222,
              "#7201a8"
             ],
             [
              0.3333333333333333,
              "#9c179e"
             ],
             [
              0.4444444444444444,
              "#bd3786"
             ],
             [
              0.5555555555555556,
              "#d8576b"
             ],
             [
              0.6666666666666666,
              "#ed7953"
             ],
             [
              0.7777777777777778,
              "#fb9f3a"
             ],
             [
              0.8888888888888888,
              "#fdca26"
             ],
             [
              1,
              "#f0f921"
             ]
            ],
            "type": "surface"
           }
          ],
          "table": [
           {
            "cells": {
             "fill": {
              "color": "#EBF0F8"
             },
             "line": {
              "color": "white"
             }
            },
            "header": {
             "fill": {
              "color": "#C8D4E3"
             },
             "line": {
              "color": "white"
             }
            },
            "type": "table"
           }
          ]
         },
         "layout": {
          "annotationdefaults": {
           "arrowcolor": "#2a3f5f",
           "arrowhead": 0,
           "arrowwidth": 1
          },
          "autotypenumbers": "strict",
          "coloraxis": {
           "colorbar": {
            "outlinewidth": 0,
            "ticks": ""
           }
          },
          "colorscale": {
           "diverging": [
            [
             0,
             "#8e0152"
            ],
            [
             0.1,
             "#c51b7d"
            ],
            [
             0.2,
             "#de77ae"
            ],
            [
             0.3,
             "#f1b6da"
            ],
            [
             0.4,
             "#fde0ef"
            ],
            [
             0.5,
             "#f7f7f7"
            ],
            [
             0.6,
             "#e6f5d0"
            ],
            [
             0.7,
             "#b8e186"
            ],
            [
             0.8,
             "#7fbc41"
            ],
            [
             0.9,
             "#4d9221"
            ],
            [
             1,
             "#276419"
            ]
           ],
           "sequential": [
            [
             0,
             "#0d0887"
            ],
            [
             0.1111111111111111,
             "#46039f"
            ],
            [
             0.2222222222222222,
             "#7201a8"
            ],
            [
             0.3333333333333333,
             "#9c179e"
            ],
            [
             0.4444444444444444,
             "#bd3786"
            ],
            [
             0.5555555555555556,
             "#d8576b"
            ],
            [
             0.6666666666666666,
             "#ed7953"
            ],
            [
             0.7777777777777778,
             "#fb9f3a"
            ],
            [
             0.8888888888888888,
             "#fdca26"
            ],
            [
             1,
             "#f0f921"
            ]
           ],
           "sequentialminus": [
            [
             0,
             "#0d0887"
            ],
            [
             0.1111111111111111,
             "#46039f"
            ],
            [
             0.2222222222222222,
             "#7201a8"
            ],
            [
             0.3333333333333333,
             "#9c179e"
            ],
            [
             0.4444444444444444,
             "#bd3786"
            ],
            [
             0.5555555555555556,
             "#d8576b"
            ],
            [
             0.6666666666666666,
             "#ed7953"
            ],
            [
             0.7777777777777778,
             "#fb9f3a"
            ],
            [
             0.8888888888888888,
             "#fdca26"
            ],
            [
             1,
             "#f0f921"
            ]
           ]
          },
          "colorway": [
           "#636efa",
           "#EF553B",
           "#00cc96",
           "#ab63fa",
           "#FFA15A",
           "#19d3f3",
           "#FF6692",
           "#B6E880",
           "#FF97FF",
           "#FECB52"
          ],
          "font": {
           "color": "#2a3f5f"
          },
          "geo": {
           "bgcolor": "white",
           "lakecolor": "white",
           "landcolor": "#E5ECF6",
           "showlakes": true,
           "showland": true,
           "subunitcolor": "white"
          },
          "hoverlabel": {
           "align": "left"
          },
          "hovermode": "closest",
          "mapbox": {
           "style": "light"
          },
          "paper_bgcolor": "white",
          "plot_bgcolor": "#E5ECF6",
          "polar": {
           "angularaxis": {
            "gridcolor": "white",
            "linecolor": "white",
            "ticks": ""
           },
           "bgcolor": "#E5ECF6",
           "radialaxis": {
            "gridcolor": "white",
            "linecolor": "white",
            "ticks": ""
           }
          },
          "scene": {
           "xaxis": {
            "backgroundcolor": "#E5ECF6",
            "gridcolor": "white",
            "gridwidth": 2,
            "linecolor": "white",
            "showbackground": true,
            "ticks": "",
            "zerolinecolor": "white"
           },
           "yaxis": {
            "backgroundcolor": "#E5ECF6",
            "gridcolor": "white",
            "gridwidth": 2,
            "linecolor": "white",
            "showbackground": true,
            "ticks": "",
            "zerolinecolor": "white"
           },
           "zaxis": {
            "backgroundcolor": "#E5ECF6",
            "gridcolor": "white",
            "gridwidth": 2,
            "linecolor": "white",
            "showbackground": true,
            "ticks": "",
            "zerolinecolor": "white"
           }
          },
          "shapedefaults": {
           "line": {
            "color": "#2a3f5f"
           }
          },
          "ternary": {
           "aaxis": {
            "gridcolor": "white",
            "linecolor": "white",
            "ticks": ""
           },
           "baxis": {
            "gridcolor": "white",
            "linecolor": "white",
            "ticks": ""
           },
           "bgcolor": "#E5ECF6",
           "caxis": {
            "gridcolor": "white",
            "linecolor": "white",
            "ticks": ""
           }
          },
          "title": {
           "x": 0.05
          },
          "xaxis": {
           "automargin": true,
           "gridcolor": "white",
           "linecolor": "white",
           "ticks": "",
           "title": {
            "standoff": 15
           },
           "zerolinecolor": "white",
           "zerolinewidth": 2
          },
          "yaxis": {
           "automargin": true,
           "gridcolor": "white",
           "linecolor": "white",
           "ticks": "",
           "title": {
            "standoff": 15
           },
           "zerolinecolor": "white",
           "zerolinewidth": 2
          }
         }
        },
        "title": {
         "text": "分數走勢",
         "x": 0.5
        },
        "xaxis": {
         "anchor": "y",
         "domain": [
          0,
          1
         ],
         "title": {
          "text": "datetime"
         }
        },
        "yaxis": {
         "anchor": "x",
         "domain": [
          0,
          1
         ],
         "title": {
          "text": "score"
         }
        }
       }
      }
     },
     "metadata": {},
     "output_type": "display_data"
    }
   ],
   "source": [
    "# Update layout\n",
    "line_fig.update_layout(\n",
    "    title_text='分數走勢',\n",
    "    title_x=0.5\n",
    ")\n",
    "\n",
    "line_fig.show()"
   ]
  },
  {
   "cell_type": "code",
   "execution_count": 30,
   "metadata": {},
   "outputs": [
    {
     "name": "stdout",
     "output_type": "stream",
     "text": [
      "[{'datetime': datetime.datetime(2024, 8, 2, 22, 15, 27, 703000, tzinfo=zoneinfo.ZoneInfo(key='Asia/Hong_Kong')), 'type': 'CAPTURE_POINT', 'user_email': 'sw-2@example.com', 'user_name': '上環/將軍澳中心隊', 'user_level': 3, 'point_id': 'rSnhF4HYEnTG98p9E7To', 'point_name': '天水圍公園（西）', 'point_user_email': 'sw-2@example.com', 'point_user_name': '上環/將軍澳中心隊', 'duration': None}, {'datetime': datetime.datetime(2024, 8, 2, 22, 12, 10, 551000, tzinfo=zoneinfo.ZoneInfo(key='Asia/Hong_Kong')), 'type': 'CAPTURE_POINT', 'user_email': 'sw-2@example.com', 'user_name': '上環/將軍澳中心隊', 'user_level': 3, 'point_id': '45ntnYbmnHBUIEyvTtNs', 'point_name': '天瑞社區中心', 'point_user_email': 'sw-2@example.com', 'point_user_name': '上環/將軍澳中心隊', 'duration': 197.152}, {'datetime': datetime.datetime(2024, 8, 2, 21, 46, 55, 834000, tzinfo=zoneinfo.ZoneInfo(key='Asia/Hong_Kong')), 'type': 'CAPTURE_POINT', 'user_email': 'sw-2@example.com', 'user_name': '上環/將軍澳中心隊', 'user_level': 2, 'point_id': 'zoKPwjKHPyiu0i6BtHmx', 'point_name': '天業路公園（裏）', 'point_user_email': 'sw-2@example.com', 'point_user_name': '上環/將軍澳中心隊', 'duration': 1514.717}, {'datetime': datetime.datetime(2024, 8, 2, 21, 44, 16, 811000, tzinfo=zoneinfo.ZoneInfo(key='Asia/Hong_Kong')), 'type': 'CAPTURE_POINT', 'user_email': 'sw-2@example.com', 'user_name': '上環/將軍澳中心隊', 'user_level': 2, 'point_id': 'kqK4XRQZ348HdJEaKjEd', 'point_name': '天晴社區綜合服務大樓', 'point_user_email': 'sw-2@example.com', 'point_user_name': '上環/將軍澳中心隊', 'duration': 159.023}, {'datetime': datetime.datetime(2024, 8, 2, 21, 28, 20, 170000, tzinfo=zoneinfo.ZoneInfo(key='Asia/Hong_Kong')), 'type': 'CAPTURE_POINT', 'user_email': 'sw-2@example.com', 'user_name': '上環/將軍澳中心隊', 'user_level': 2, 'point_id': '4WvOcZ1x4sDSnEXete8m', 'point_name': '天業路公園（表）', 'point_user_email': 'sw-2@example.com', 'point_user_name': '上環/將軍澳中心隊', 'duration': 956.641}, {'datetime': datetime.datetime(2024, 8, 2, 21, 25, 59, 665000, tzinfo=zoneinfo.ZoneInfo(key='Asia/Hong_Kong')), 'type': 'CAPTURE_POINT', 'user_email': 'sw-2@example.com', 'user_name': '上環/將軍澳中心隊', 'user_level': 2, 'point_id': 'IkAECCDTwkvlAMt5lQZ4', 'point_name': '天華垃圾筒', 'point_user_email': 'sw-2@example.com', 'point_user_name': '上環/將軍澳中心隊', 'duration': 140.505}, {'datetime': datetime.datetime(2024, 8, 2, 21, 21, 53, 888000, tzinfo=zoneinfo.ZoneInfo(key='Asia/Hong_Kong')), 'type': 'CAPTURE_POINT', 'user_email': 'sw-2@example.com', 'user_name': '上環/將軍澳中心隊', 'user_level': 2, 'point_id': 'jUxLM67JkOsDpcvCvso1', 'point_name': '天華巴士站', 'point_user_email': 'sw-2@example.com', 'point_user_name': '上環/將軍澳中心隊', 'duration': 245.777}, {'datetime': datetime.datetime(2024, 8, 2, 21, 15, 7, 887000, tzinfo=zoneinfo.ZoneInfo(key='Asia/Hong_Kong')), 'type': 'CAPTURE_POINT', 'user_email': 'sw-2@example.com', 'user_name': '上環/將軍澳中心隊', 'user_level': 2, 'point_id': 'ObC8rDBZIJcoRZJfBp1v', 'point_name': '天悅天橋', 'point_user_email': 'sw-2@example.com', 'point_user_name': '上環/將軍澳中心隊', 'duration': 406.001}, {'datetime': datetime.datetime(2024, 8, 2, 21, 6, 23, 62000, tzinfo=zoneinfo.ZoneInfo(key='Asia/Hong_Kong')), 'type': 'CAPTURE_POINT', 'user_email': 'sw-2@example.com', 'user_name': '上環/將軍澳中心隊', 'user_level': 2, 'point_id': 'cWpn4JjGvqovfXr7L2rP', 'point_name': '天城路天橋', 'point_user_email': 'sw-2@example.com', 'point_user_name': '上環/將軍澳中心隊', 'duration': 524.825}, {'datetime': datetime.datetime(2024, 8, 2, 20, 33, 32, 699000, tzinfo=zoneinfo.ZoneInfo(key='Asia/Hong_Kong')), 'type': 'CAPTURE_POINT', 'user_email': 'sw-2@example.com', 'user_name': '上環/將軍澳中心隊', 'user_level': 1, 'point_id': '778jzmzKpOvgRHIHcHms', 'point_name': '麗湖居', 'point_user_email': 'sw-2@example.com', 'point_user_name': '上環/將軍澳中心隊', 'duration': 1970.363}, {'datetime': datetime.datetime(2024, 8, 2, 20, 27, 41, 720000, tzinfo=zoneinfo.ZoneInfo(key='Asia/Hong_Kong')), 'type': 'CAPTURE_POINT', 'user_email': 'sw-2@example.com', 'user_name': '上環/將軍澳中心隊', 'user_level': 1, 'point_id': 'Un4smPc0lSA8jpfvA5zJ', 'point_name': '天水圍游泳池', 'point_user_email': 'sw-2@example.com', 'point_user_name': '上環/將軍澳中心隊', 'duration': 350.979}, {'datetime': datetime.datetime(2024, 8, 2, 20, 23, 5, 635000, tzinfo=zoneinfo.ZoneInfo(key='Asia/Hong_Kong')), 'type': 'CAPTURE_POINT', 'user_email': 'sw-2@example.com', 'user_name': '上環/將軍澳中心隊', 'user_level': 1, 'point_id': '0gHiSX9dMHkVpffFR9RU', 'point_name': '天水圍體育館', 'point_user_email': 'sw-2@example.com', 'point_user_name': '上環/將軍澳中心隊', 'duration': 276.085}]\n",
      "[{'datetime': datetime.datetime(2024, 8, 2, 22, 37, 38, 56000, tzinfo=zoneinfo.ZoneInfo(key='Asia/Hong_Kong')), 'type': 'CAPTURE_POINT', 'user_email': 'sw-1@example.com', 'user_name': '上環中心隊', 'user_level': 3, 'point_id': '0gHiSX9dMHkVpffFR9RU', 'point_name': '天水圍體育館', 'point_user_email': 'sw-1@example.com', 'point_user_name': '上環中心隊', 'duration': None}, {'datetime': datetime.datetime(2024, 8, 2, 22, 35, 6, 707000, tzinfo=zoneinfo.ZoneInfo(key='Asia/Hong_Kong')), 'type': 'CAPTURE_POINT', 'user_email': 'sw-1@example.com', 'user_name': '上環中心隊', 'user_level': 3, 'point_id': 'Un4smPc0lSA8jpfvA5zJ', 'point_name': '天水圍游泳池', 'point_user_email': 'sw-1@example.com', 'point_user_name': '上環中心隊', 'duration': 151.349}, {'datetime': datetime.datetime(2024, 8, 2, 22, 26, 56, 297000, tzinfo=zoneinfo.ZoneInfo(key='Asia/Hong_Kong')), 'type': 'CAPTURE_POINT', 'user_email': 'sw-1@example.com', 'user_name': '上環中心隊', 'user_level': 3, 'point_id': 'YvzEAhiBhJrOstmGXoH3', 'point_name': '天榮路東', 'point_user_email': 'sw-1@example.com', 'point_user_name': '上環中心隊', 'duration': 490.41}, {'datetime': datetime.datetime(2024, 8, 2, 22, 22, 50, 933000, tzinfo=zoneinfo.ZoneInfo(key='Asia/Hong_Kong')), 'type': 'CAPTURE_POINT', 'user_email': 'sw-1@example.com', 'user_name': '上環中心隊', 'user_level': 3, 'point_id': 'IeOJr7CsyHXad2DUL3n4', 'point_name': '栢慧豪廷門口', 'point_user_email': 'sw-1@example.com', 'point_user_name': '上環中心隊', 'duration': 245.364}, {'datetime': datetime.datetime(2024, 8, 2, 22, 14, 0, 116000, tzinfo=zoneinfo.ZoneInfo(key='Asia/Hong_Kong')), 'type': 'CAPTURE_POINT', 'user_email': 'sw-1@example.com', 'user_name': '上環中心隊', 'user_level': 3, 'point_id': '778jzmzKpOvgRHIHcHms', 'point_name': '麗湖居', 'point_user_email': 'sw-1@example.com', 'point_user_name': '上環中心隊', 'duration': 530.817}, {'datetime': datetime.datetime(2024, 8, 2, 21, 46, 58, 795000, tzinfo=zoneinfo.ZoneInfo(key='Asia/Hong_Kong')), 'type': 'CAPTURE_POINT', 'user_email': 'sw-1@example.com', 'user_name': '上環中心隊', 'user_level': 2, 'point_id': '0gHiSX9dMHkVpffFR9RU', 'point_name': '天水圍體育館', 'point_user_email': 'sw-1@example.com', 'point_user_name': '上環中心隊', 'duration': 1621.321}, {'datetime': datetime.datetime(2024, 8, 2, 21, 41, 48, 270000, tzinfo=zoneinfo.ZoneInfo(key='Asia/Hong_Kong')), 'type': 'CAPTURE_POINT', 'user_email': 'sw-1@example.com', 'user_name': '上環中心隊', 'user_level': 2, 'point_id': 'Un4smPc0lSA8jpfvA5zJ', 'point_name': '天水圍游泳池', 'point_user_email': 'sw-1@example.com', 'point_user_name': '上環中心隊', 'duration': 310.525}]\n",
      "[{'datetime': datetime.datetime(2024, 8, 2, 22, 6, 50, 965000, tzinfo=zoneinfo.ZoneInfo(key='Asia/Hong_Kong')), 'type': 'CAPTURE_POINT', 'user_email': 'sd1-1@example.com', 'user_name': '南區中心1隊', 'user_level': 3, 'point_id': '0gHiSX9dMHkVpffFR9RU', 'point_name': '天水圍體育館', 'point_user_email': 'sd1-1@example.com', 'point_user_name': '南區中心1隊', 'duration': None}, {'datetime': datetime.datetime(2024, 8, 2, 22, 3, 0, 715000, tzinfo=zoneinfo.ZoneInfo(key='Asia/Hong_Kong')), 'type': 'CAPTURE_POINT', 'user_email': 'sd1-1@example.com', 'user_name': '南區中心1隊', 'user_level': 3, 'point_id': 'Un4smPc0lSA8jpfvA5zJ', 'point_name': '天水圍游泳池', 'point_user_email': 'sd1-1@example.com', 'point_user_name': '南區中心1隊', 'duration': 230.25}]\n",
      "[{'datetime': datetime.datetime(2024, 8, 2, 22, 6, 51, 767000, tzinfo=zoneinfo.ZoneInfo(key='Asia/Hong_Kong')), 'type': 'CAPTURE_POINT', 'user_email': 'skc-1@example.com', 'user_name': '南葵中心1隊', 'user_level': 2, 'point_id': '1ZflGseWvmvEMDtj6YOq', 'point_name': '隱藏集合點', 'point_user_email': 'skc-1@example.com', 'point_user_name': '南葵中心1隊', 'duration': None}, {'datetime': datetime.datetime(2024, 8, 2, 22, 0, 22, 428000, tzinfo=zoneinfo.ZoneInfo(key='Asia/Hong_Kong')), 'type': 'CAPTURE_POINT', 'user_email': 'skc-1@example.com', 'user_name': '南葵中心1隊', 'user_level': 2, 'point_id': '0gHiSX9dMHkVpffFR9RU', 'point_name': '天水圍體育館', 'point_user_email': 'skc-1@example.com', 'point_user_name': '南葵中心1隊', 'duration': 389.339}, {'datetime': datetime.datetime(2024, 8, 2, 21, 58, 28, 783000, tzinfo=zoneinfo.ZoneInfo(key='Asia/Hong_Kong')), 'type': 'CAPTURE_POINT', 'user_email': 'skc-1@example.com', 'user_name': '南葵中心1隊', 'user_level': 2, 'point_id': 'Un4smPc0lSA8jpfvA5zJ', 'point_name': '天水圍游泳池', 'point_user_email': 'skc-1@example.com', 'point_user_name': '南葵中心1隊', 'duration': 113.645}, {'datetime': datetime.datetime(2024, 8, 2, 21, 53, 46, 286000, tzinfo=zoneinfo.ZoneInfo(key='Asia/Hong_Kong')), 'type': 'CAPTURE_POINT', 'user_email': 'skc-1@example.com', 'user_name': '南葵中心1隊', 'user_level': 2, 'point_id': '778jzmzKpOvgRHIHcHms', 'point_name': '麗湖居', 'point_user_email': 'skc-1@example.com', 'point_user_name': '南葵中心1隊', 'duration': 282.497}, {'datetime': datetime.datetime(2024, 8, 2, 21, 46, 54, 605000, tzinfo=zoneinfo.ZoneInfo(key='Asia/Hong_Kong')), 'type': 'CAPTURE_POINT', 'user_email': 'skc-1@example.com', 'user_name': '南葵中心1隊', 'user_level': 2, 'point_id': 'YvzEAhiBhJrOstmGXoH3', 'point_name': '天榮路東', 'point_user_email': 'skc-1@example.com', 'point_user_name': '南葵中心1隊', 'duration': 411.681}, {'datetime': datetime.datetime(2024, 8, 2, 21, 30, 51, 935000, tzinfo=zoneinfo.ZoneInfo(key='Asia/Hong_Kong')), 'type': 'CAPTURE_POINT', 'user_email': 'skc-1@example.com', 'user_name': '南葵中心1隊', 'user_level': 2, 'point_id': '2wd13TbtnVTB8OIHhRa4', 'point_name': '天水圍運動場', 'point_user_email': 'skc-1@example.com', 'point_user_name': '南葵中心1隊', 'duration': 962.67}, {'datetime': datetime.datetime(2024, 8, 2, 21, 24, 3, 896000, tzinfo=zoneinfo.ZoneInfo(key='Asia/Hong_Kong')), 'type': 'CAPTURE_POINT', 'user_email': 'skc-1@example.com', 'user_name': '南葵中心1隊', 'user_level': 2, 'point_id': 'UvfG2gwfLek81y6K3u2D', 'point_name': '嘉湖新北商場', 'point_user_email': 'skc-1@example.com', 'point_user_name': '南葵中心1隊', 'duration': 408.039}, {'datetime': datetime.datetime(2024, 8, 2, 21, 21, 3, 311000, tzinfo=zoneinfo.ZoneInfo(key='Asia/Hong_Kong')), 'type': 'CAPTURE_POINT', 'user_email': 'skc-1@example.com', 'user_name': '南葵中心1隊', 'user_level': 2, 'point_id': 'yhDNSAU3ByPksCfmW3E3', 'point_name': '天河路遊樂場涼亭', 'point_user_email': 'skc-1@example.com', 'point_user_name': '南葵中心1隊', 'duration': 180.585}, {'datetime': datetime.datetime(2024, 8, 2, 21, 12, 53, 109000, tzinfo=zoneinfo.ZoneInfo(key='Asia/Hong_Kong')), 'type': 'CAPTURE_POINT', 'user_email': 'skc-1@example.com', 'user_name': '南葵中心1隊', 'user_level': 2, 'point_id': 'xv6F5QsTKUVQasrDM5V5', 'point_name': '天瑞俓（一）', 'point_user_email': 'skc-1@example.com', 'point_user_name': '南葵中心1隊', 'duration': 490.202}, {'datetime': datetime.datetime(2024, 8, 2, 21, 8, 40, 838000, tzinfo=zoneinfo.ZoneInfo(key='Asia/Hong_Kong')), 'type': 'CAPTURE_POINT', 'user_email': 'skc-1@example.com', 'user_name': '南葵中心1隊', 'user_level': 2, 'point_id': 'MM12lHGWCtvCbQvMy29H', 'point_name': '天瑞俓（二）', 'point_user_email': 'skc-1@example.com', 'point_user_name': '南葵中心1隊', 'duration': 252.271}, {'datetime': datetime.datetime(2024, 8, 2, 21, 7, 18, 49000, tzinfo=zoneinfo.ZoneInfo(key='Asia/Hong_Kong')), 'type': 'CAPTURE_POINT', 'user_email': 'skc-1@example.com', 'user_name': '南葵中心1隊', 'user_level': 2, 'point_id': 'xFldNrcu765eRZc2hrsn', 'point_name': '聖葉理諾堂', 'point_user_email': 'skc-1@example.com', 'point_user_name': '南葵中心1隊', 'duration': 82.789}, {'datetime': datetime.datetime(2024, 8, 2, 21, 6, 28, 562000, tzinfo=zoneinfo.ZoneInfo(key='Asia/Hong_Kong')), 'type': 'CAPTURE_POINT', 'user_email': 'skc-1@example.com', 'user_name': '南葵中心1隊', 'user_level': 2, 'point_id': 'yhDNSAU3ByPksCfmW3E3', 'point_name': '天河路遊樂場涼亭', 'point_user_email': 'skc-1@example.com', 'point_user_name': '南葵中心1隊', 'duration': 49.487}, {'datetime': datetime.datetime(2024, 8, 2, 21, 5, 3, 570000, tzinfo=zoneinfo.ZoneInfo(key='Asia/Hong_Kong')), 'type': 'CAPTURE_POINT', 'user_email': 'skc-1@example.com', 'user_name': '南葵中心1隊', 'user_level': 2, 'point_id': 'MM12lHGWCtvCbQvMy29H', 'point_name': '天瑞俓（二）', 'point_user_email': 'skc-1@example.com', 'point_user_name': '南葵中心1隊', 'duration': 84.992}, {'datetime': datetime.datetime(2024, 8, 2, 21, 3, 41, 184000, tzinfo=zoneinfo.ZoneInfo(key='Asia/Hong_Kong')), 'type': 'CAPTURE_POINT', 'user_email': 'skc-1@example.com', 'user_name': '南葵中心1隊', 'user_level': 2, 'point_id': 'Y54hD80CffPsd7hG6KZn', 'point_name': '天瑞俓（三）', 'point_user_email': 'skc-1@example.com', 'point_user_name': '南葵中心1隊', 'duration': 82.386}, {'datetime': datetime.datetime(2024, 8, 2, 20, 58, 2, 532000, tzinfo=zoneinfo.ZoneInfo(key='Asia/Hong_Kong')), 'type': 'CAPTURE_POINT', 'user_email': 'skc-1@example.com', 'user_name': '南葵中心1隊', 'user_level': 2, 'point_id': 'cGkgDMMYwWfkNB0heYjM', 'point_name': '天瑞俓（四）', 'point_user_email': 'skc-1@example.com', 'point_user_name': '南葵中心1隊', 'duration': 338.652}, {'datetime': datetime.datetime(2024, 8, 2, 20, 55, 8, 876000, tzinfo=zoneinfo.ZoneInfo(key='Asia/Hong_Kong')), 'type': 'CAPTURE_POINT', 'user_email': 'skc-1@example.com', 'user_name': '南葵中心1隊', 'user_level': 2, 'point_id': 'bCr9LBCAj1mIDzHk63Iz', 'point_name': '天華橋', 'point_user_email': 'skc-1@example.com', 'point_user_name': '南葵中心1隊', 'duration': 173.656}, {'datetime': datetime.datetime(2024, 8, 2, 20, 47, 38, 751000, tzinfo=zoneinfo.ZoneInfo(key='Asia/Hong_Kong')), 'type': 'CAPTURE_POINT', 'user_email': 'skc-1@example.com', 'user_name': '南葵中心1隊', 'user_level': 2, 'point_id': 'zm9JjBWHejS6bInoC32d', 'point_name': '天華天橋樓梯', 'point_user_email': 'skc-1@example.com', 'point_user_name': '南葵中心1隊', 'duration': 450.125}, {'datetime': datetime.datetime(2024, 8, 2, 20, 35, 28, 285000, tzinfo=zoneinfo.ZoneInfo(key='Asia/Hong_Kong')), 'type': 'CAPTURE_POINT', 'user_email': 'skc-1@example.com', 'user_name': '南葵中心1隊', 'user_level': 1, 'point_id': '45ntnYbmnHBUIEyvTtNs', 'point_name': '天瑞社區中心', 'point_user_email': 'skc-1@example.com', 'point_user_name': '南葵中心1隊', 'duration': 730.466}, {'datetime': datetime.datetime(2024, 8, 2, 20, 33, 59, 932000, tzinfo=zoneinfo.ZoneInfo(key='Asia/Hong_Kong')), 'type': 'CAPTURE_POINT', 'user_email': 'skc-1@example.com', 'user_name': '南葵中心1隊', 'user_level': 1, 'point_id': 'rSnhF4HYEnTG98p9E7To', 'point_name': '天水圍公園（西）', 'point_user_email': 'skc-1@example.com', 'point_user_name': '南葵中心1隊', 'duration': 88.353}, {'datetime': datetime.datetime(2024, 8, 2, 20, 27, 46, 857000, tzinfo=zoneinfo.ZoneInfo(key='Asia/Hong_Kong')), 'type': 'CAPTURE_POINT', 'user_email': 'skc-1@example.com', 'user_name': '南葵中心1隊', 'user_level': 1, 'point_id': 'xv6F5QsTKUVQasrDM5V5', 'point_name': '天瑞俓（一）', 'point_user_email': 'skc-1@example.com', 'point_user_name': '南葵中心1隊', 'duration': 373.075}, {'datetime': datetime.datetime(2024, 8, 2, 20, 25, 48, 762000, tzinfo=zoneinfo.ZoneInfo(key='Asia/Hong_Kong')), 'type': 'CAPTURE_POINT', 'user_email': 'skc-1@example.com', 'user_name': '南葵中心1隊', 'user_level': 1, 'point_id': 'MM12lHGWCtvCbQvMy29H', 'point_name': '天瑞俓（二）', 'point_user_email': 'skc-1@example.com', 'point_user_name': '南葵中心1隊', 'duration': 118.095}, {'datetime': datetime.datetime(2024, 8, 2, 20, 24, 12, 155000, tzinfo=zoneinfo.ZoneInfo(key='Asia/Hong_Kong')), 'type': 'CAPTURE_POINT', 'user_email': 'skc-1@example.com', 'user_name': '南葵中心1隊', 'user_level': 1, 'point_id': 'yhDNSAU3ByPksCfmW3E3', 'point_name': '天河路遊樂場涼亭', 'point_user_email': 'skc-1@example.com', 'point_user_name': '南葵中心1隊', 'duration': 96.607}, {'datetime': datetime.datetime(2024, 8, 2, 20, 22, 29, 130000, tzinfo=zoneinfo.ZoneInfo(key='Asia/Hong_Kong')), 'type': 'CAPTURE_POINT', 'user_email': 'skc-1@example.com', 'user_name': '南葵中心1隊', 'user_level': 1, 'point_id': 'xFldNrcu765eRZc2hrsn', 'point_name': '聖葉理諾堂', 'point_user_email': 'skc-1@example.com', 'point_user_name': '南葵中心1隊', 'duration': 103.025}]\n",
      "[{'datetime': datetime.datetime(2024, 8, 2, 21, 56, 4, 499000, tzinfo=zoneinfo.ZoneInfo(key='Asia/Hong_Kong')), 'type': 'CAPTURE_POINT', 'user_email': 'skc-2@example.com', 'user_name': '南葵中心2隊', 'user_level': 2, 'point_id': '2d52tp09iWfccGggsMH5', 'point_name': '流浮山消防局', 'point_user_email': 'skc-2@example.com', 'point_user_name': '南葵中心2隊', 'duration': None}, {'datetime': datetime.datetime(2024, 8, 2, 21, 53, 50, 642000, tzinfo=zoneinfo.ZoneInfo(key='Asia/Hong_Kong')), 'type': 'CAPTURE_POINT', 'user_email': 'skc-2@example.com', 'user_name': '南葵中心2隊', 'user_level': 2, 'point_id': 'KlBjSjUv2OjIMppFsvHq', 'point_name': '濕地公園門口', 'point_user_email': 'skc-2@example.com', 'point_user_name': '南葵中心2隊', 'duration': 133.857}, {'datetime': datetime.datetime(2024, 8, 2, 21, 47, 35, 137000, tzinfo=zoneinfo.ZoneInfo(key='Asia/Hong_Kong')), 'type': 'CAPTURE_POINT', 'user_email': 'skc-2@example.com', 'user_name': '南葵中心2隊', 'user_level': 2, 'point_id': '45aLp8Tx5wGP606fx32M', 'point_name': '慧景軒巴士站', 'point_user_email': 'skc-2@example.com', 'point_user_name': '南葵中心2隊', 'duration': 375.505}, {'datetime': datetime.datetime(2024, 8, 2, 21, 37, 45, 567000, tzinfo=zoneinfo.ZoneInfo(key='Asia/Hong_Kong')), 'type': 'CAPTURE_POINT', 'user_email': 'skc-2@example.com', 'user_name': '南葵中心2隊', 'user_level': 2, 'point_id': '8y79Ng02zepSw4BROkmt', 'point_name': '濕地公園單車隧道', 'point_user_email': 'skc-2@example.com', 'point_user_name': '南葵中心2隊', 'duration': 589.57}, {'datetime': datetime.datetime(2024, 8, 2, 21, 24, 5, 933000, tzinfo=zoneinfo.ZoneInfo(key='Asia/Hong_Kong')), 'type': 'CAPTURE_POINT', 'user_email': 'skc-2@example.com', 'user_name': '南葵中心2隊', 'user_level': 2, 'point_id': '9x7CivYV0uH4VTfNU3Gs', 'point_name': '天秀足球場', 'point_user_email': 'skc-2@example.com', 'point_user_name': '南葵中心2隊', 'duration': 819.634}, {'datetime': datetime.datetime(2024, 8, 2, 21, 18, 34, 919000, tzinfo=zoneinfo.ZoneInfo(key='Asia/Hong_Kong')), 'type': 'CAPTURE_POINT', 'user_email': 'skc-2@example.com', 'user_name': '南葵中心2隊', 'user_level': 2, 'point_id': 'hb8n1fRoYAoq98HCjsLM', 'point_name': '天富苑（一）', 'point_user_email': 'skc-2@example.com', 'point_user_name': '南葵中心2隊', 'duration': 331.014}, {'datetime': datetime.datetime(2024, 8, 2, 21, 16, 35, 141000, tzinfo=zoneinfo.ZoneInfo(key='Asia/Hong_Kong')), 'type': 'CAPTURE_POINT', 'user_email': 'skc-2@example.com', 'user_name': '南葵中心2隊', 'user_level': 2, 'point_id': 'lsMaDq30KZQTqVmLhypX', 'point_name': '天富苑（二）', 'point_user_email': 'skc-2@example.com', 'point_user_name': '南葵中心2隊', 'duration': 119.778}, {'datetime': datetime.datetime(2024, 8, 2, 21, 13, 39, 18000, tzinfo=zoneinfo.ZoneInfo(key='Asia/Hong_Kong')), 'type': 'CAPTURE_POINT', 'user_email': 'skc-2@example.com', 'user_name': '南葵中心2隊', 'user_level': 2, 'point_id': 'Hkvtx3FpDQ0tscj3JFoD', 'point_name': '天秀路天橋', 'point_user_email': 'skc-2@example.com', 'point_user_name': '南葵中心2隊', 'duration': 176.123}, {'datetime': datetime.datetime(2024, 8, 2, 21, 12, 2, 994000, tzinfo=zoneinfo.ZoneInfo(key='Asia/Hong_Kong')), 'type': 'CAPTURE_POINT', 'user_email': 'skc-2@example.com', 'user_name': '南葵中心2隊', 'user_level': 2, 'point_id': 'okz1iP0mtzm8Ng8w996H', 'point_name': '天富輕鐵站', 'point_user_email': 'skc-2@example.com', 'point_user_name': '南葵中心2隊', 'duration': 96.024}, {'datetime': datetime.datetime(2024, 8, 2, 21, 5, 2, 944000, tzinfo=zoneinfo.ZoneInfo(key='Asia/Hong_Kong')), 'type': 'CAPTURE_POINT', 'user_email': 'skc-2@example.com', 'user_name': '南葵中心2隊', 'user_level': 2, 'point_id': 'YkBf4s7i1Q9vkKw6whxX', 'point_name': 'T TOWN\\xa0停車場外', 'point_user_email': 'skc-2@example.com', 'point_user_name': '南葵中心2隊', 'duration': 420.05}, {'datetime': datetime.datetime(2024, 8, 2, 21, 3, 12, 948000, tzinfo=zoneinfo.ZoneInfo(key='Asia/Hong_Kong')), 'type': 'CAPTURE_POINT', 'user_email': 'skc-2@example.com', 'user_name': '南葵中心2隊', 'user_level': 2, 'point_id': 'KDlGq7jkxmDLdBQusflu', 'point_name': '天華路迴旋處', 'point_user_email': 'skc-2@example.com', 'point_user_name': '南葵中心2隊', 'duration': 109.996}, {'datetime': datetime.datetime(2024, 8, 2, 20, 59, 7, 803000, tzinfo=zoneinfo.ZoneInfo(key='Asia/Hong_Kong')), 'type': 'CAPTURE_POINT', 'user_email': 'skc-2@example.com', 'user_name': '南葵中心2隊', 'user_level': 2, 'point_id': 'YvzEAhiBhJrOstmGXoH3', 'point_name': '天榮路東', 'point_user_email': 'skc-2@example.com', 'point_user_name': '南葵中心2隊', 'duration': 245.145}, {'datetime': datetime.datetime(2024, 8, 2, 20, 55, 35, 526000, tzinfo=zoneinfo.ZoneInfo(key='Asia/Hong_Kong')), 'type': 'CAPTURE_POINT', 'user_email': 'skc-2@example.com', 'user_name': '南葵中心2隊', 'user_level': 2, 'point_id': 'IeOJr7CsyHXad2DUL3n4', 'point_name': '栢慧豪廷門口', 'point_user_email': 'skc-2@example.com', 'point_user_name': '南葵中心2隊', 'duration': 212.277}, {'datetime': datetime.datetime(2024, 8, 2, 20, 51, 30, 25000, tzinfo=zoneinfo.ZoneInfo(key='Asia/Hong_Kong')), 'type': 'CAPTURE_POINT', 'user_email': 'skc-2@example.com', 'user_name': '南葵中心2隊', 'user_level': 2, 'point_id': 'stpbAJ0ixmFg8KELxSzz', 'point_name': '天榮路西', 'point_user_email': 'skc-2@example.com', 'point_user_name': '南葵中心2隊', 'duration': 245.501}, {'datetime': datetime.datetime(2024, 8, 2, 20, 33, 37, 124000, tzinfo=zoneinfo.ZoneInfo(key='Asia/Hong_Kong')), 'type': 'CAPTURE_POINT', 'user_email': 'skc-2@example.com', 'user_name': '南葵中心2隊', 'user_level': 1, 'point_id': '45ntnYbmnHBUIEyvTtNs', 'point_name': '天瑞社區中心', 'point_user_email': 'skc-2@example.com', 'point_user_name': '南葵中心2隊', 'duration': 1072.901}]\n",
      "[{'datetime': datetime.datetime(2024, 8, 2, 21, 48, 30, 699000, tzinfo=zoneinfo.ZoneInfo(key='Asia/Hong_Kong')), 'type': 'CAPTURE_POINT', 'user_email': 'skc-3@example.com', 'user_name': '南葵中心3隊', 'user_level': 3, 'point_id': 'xv6F5QsTKUVQasrDM5V5', 'point_name': '天瑞俓（一）', 'point_user_email': 'skc-3@example.com', 'point_user_name': '南葵中心3隊', 'duration': None}, {'datetime': datetime.datetime(2024, 8, 2, 21, 44, 31, 637000, tzinfo=zoneinfo.ZoneInfo(key='Asia/Hong_Kong')), 'type': 'CAPTURE_POINT', 'user_email': 'skc-3@example.com', 'user_name': '南葵中心3隊', 'user_level': 3, 'point_id': 'MM12lHGWCtvCbQvMy29H', 'point_name': '天瑞俓（二）', 'point_user_email': 'skc-3@example.com', 'point_user_name': '南葵中心3隊', 'duration': 239.062}, {'datetime': datetime.datetime(2024, 8, 2, 21, 42, 11, 511000, tzinfo=zoneinfo.ZoneInfo(key='Asia/Hong_Kong')), 'type': 'CAPTURE_POINT', 'user_email': 'skc-3@example.com', 'user_name': '南葵中心3隊', 'user_level': 3, 'point_id': 'Y54hD80CffPsd7hG6KZn', 'point_name': '天瑞俓（三）', 'point_user_email': 'skc-3@example.com', 'point_user_name': '南葵中心3隊', 'duration': 140.126}, {'datetime': datetime.datetime(2024, 8, 2, 21, 36, 42, 65000, tzinfo=zoneinfo.ZoneInfo(key='Asia/Hong_Kong')), 'type': 'CAPTURE_POINT', 'user_email': 'skc-3@example.com', 'user_name': '南葵中心3隊', 'user_level': 3, 'point_id': 'cGkgDMMYwWfkNB0heYjM', 'point_name': '天瑞俓（四）', 'point_user_email': 'skc-3@example.com', 'point_user_name': '南葵中心3隊', 'duration': 329.446}, {'datetime': datetime.datetime(2024, 8, 2, 21, 34, 24, 204000, tzinfo=zoneinfo.ZoneInfo(key='Asia/Hong_Kong')), 'type': 'CAPTURE_POINT', 'user_email': 'skc-3@example.com', 'user_name': '南葵中心3隊', 'user_level': 3, 'point_id': '5FuPRNNQxn2MpCc3QxSq', 'point_name': '天瑞俓（六）', 'point_user_email': 'skc-3@example.com', 'point_user_name': '南葵中心3隊', 'duration': 137.861}, {'datetime': datetime.datetime(2024, 8, 2, 21, 25, 56, 453000, tzinfo=zoneinfo.ZoneInfo(key='Asia/Hong_Kong')), 'type': 'CAPTURE_POINT', 'user_email': 'skc-3@example.com', 'user_name': '南葵中心3隊', 'user_level': 3, 'point_id': 'lsMaDq30KZQTqVmLhypX', 'point_name': '天富苑（二）', 'point_user_email': 'skc-3@example.com', 'point_user_name': '南葵中心3隊', 'duration': 507.751}, {'datetime': datetime.datetime(2024, 8, 2, 21, 25, 32, 861000, tzinfo=zoneinfo.ZoneInfo(key='Asia/Hong_Kong')), 'type': 'CAPTURE_POINT', 'user_email': 'skc-3@example.com', 'user_name': '南葵中心3隊', 'user_level': 3, 'point_id': 'Hkvtx3FpDQ0tscj3JFoD', 'point_name': '天秀路天橋', 'point_user_email': 'skc-3@example.com', 'point_user_name': '南葵中心3隊', 'duration': 23.592}, {'datetime': datetime.datetime(2024, 8, 2, 21, 24, 3, 706000, tzinfo=zoneinfo.ZoneInfo(key='Asia/Hong_Kong')), 'type': 'CAPTURE_POINT', 'user_email': 'skc-3@example.com', 'user_name': '南葵中心3隊', 'user_level': 3, 'point_id': 'okz1iP0mtzm8Ng8w996H', 'point_name': '天富輕鐵站', 'point_user_email': 'skc-3@example.com', 'point_user_name': '南葵中心3隊', 'duration': 89.155}, {'datetime': datetime.datetime(2024, 8, 2, 21, 23, 7, 906000, tzinfo=zoneinfo.ZoneInfo(key='Asia/Hong_Kong')), 'type': 'CAPTURE_POINT', 'user_email': 'skc-3@example.com', 'user_name': '南葵中心3隊', 'user_level': 3, 'point_id': 'H3FVbUzD54nQ2qo9qS4I', 'point_name': '天秀橋', 'point_user_email': 'skc-3@example.com', 'point_user_name': '南葵中心3隊', 'duration': 55.8}, {'datetime': datetime.datetime(2024, 8, 2, 21, 20, 0, 955000, tzinfo=zoneinfo.ZoneInfo(key='Asia/Hong_Kong')), 'type': 'CAPTURE_POINT', 'user_email': 'skc-3@example.com', 'user_name': '南葵中心3隊', 'user_level': 3, 'point_id': 'Jyj6CjyjsJi2bCuGoJEh', 'point_name': '天恆邨', 'point_user_email': 'skc-3@example.com', 'point_user_name': '南葵中心3隊', 'duration': 186.951}, {'datetime': datetime.datetime(2024, 8, 2, 21, 17, 21, 117000, tzinfo=zoneinfo.ZoneInfo(key='Asia/Hong_Kong')), 'type': 'CAPTURE_POINT', 'user_email': 'skc-3@example.com', 'user_name': '南葵中心3隊', 'user_level': 3, 'point_id': '2d52tp09iWfccGggsMH5', 'point_name': '流浮山消防局', 'point_user_email': 'skc-3@example.com', 'point_user_name': '南葵中心3隊', 'duration': 159.838}, {'datetime': datetime.datetime(2024, 8, 2, 21, 9, 45, 793000, tzinfo=zoneinfo.ZoneInfo(key='Asia/Hong_Kong')), 'type': 'CAPTURE_POINT', 'user_email': 'skc-3@example.com', 'user_name': '南葵中心3隊', 'user_level': 2, 'point_id': 'Jyj6CjyjsJi2bCuGoJEh', 'point_name': '天恆邨', 'point_user_email': 'skc-3@example.com', 'point_user_name': '南葵中心3隊', 'duration': 455.324}, {'datetime': datetime.datetime(2024, 8, 2, 20, 51, 21, 299000, tzinfo=zoneinfo.ZoneInfo(key='Asia/Hong_Kong')), 'type': 'CAPTURE_POINT', 'user_email': 'skc-3@example.com', 'user_name': '南葵中心3隊', 'user_level': 2, 'point_id': 'lsMaDq30KZQTqVmLhypX', 'point_name': '天富苑（二）', 'point_user_email': 'skc-3@example.com', 'point_user_name': '南葵中心3隊', 'duration': 1104.494}, {'datetime': datetime.datetime(2024, 8, 2, 20, 50, 20, 82000, tzinfo=zoneinfo.ZoneInfo(key='Asia/Hong_Kong')), 'type': 'CAPTURE_POINT', 'user_email': 'skc-3@example.com', 'user_name': '南葵中心3隊', 'user_level': 2, 'point_id': 'okz1iP0mtzm8Ng8w996H', 'point_name': '天富輕鐵站', 'point_user_email': 'skc-3@example.com', 'point_user_name': '南葵中心3隊', 'duration': 61.217}, {'datetime': datetime.datetime(2024, 8, 2, 20, 44, 50, 864000, tzinfo=zoneinfo.ZoneInfo(key='Asia/Hong_Kong')), 'type': 'CAPTURE_POINT', 'user_email': 'skc-3@example.com', 'user_name': '南葵中心3隊', 'user_level': 2, 'point_id': 'Hkvtx3FpDQ0tscj3JFoD', 'point_name': '天秀路天橋', 'point_user_email': 'skc-3@example.com', 'point_user_name': '南葵中心3隊', 'duration': 329.218}, {'datetime': datetime.datetime(2024, 8, 2, 20, 41, 23, 573000, tzinfo=zoneinfo.ZoneInfo(key='Asia/Hong_Kong')), 'type': 'CAPTURE_POINT', 'user_email': 'skc-3@example.com', 'user_name': '南葵中心3隊', 'user_level': 2, 'point_id': 'H3FVbUzD54nQ2qo9qS4I', 'point_name': '天秀橋', 'point_user_email': 'skc-3@example.com', 'point_user_name': '南葵中心3隊', 'duration': 207.291}, {'datetime': datetime.datetime(2024, 8, 2, 20, 36, 8, 6000, tzinfo=zoneinfo.ZoneInfo(key='Asia/Hong_Kong')), 'type': 'CAPTURE_POINT', 'user_email': 'skc-3@example.com', 'user_name': '南葵中心3隊', 'user_level': 2, 'point_id': '5FuPRNNQxn2MpCc3QxSq', 'point_name': '天瑞俓（六）', 'point_user_email': 'skc-3@example.com', 'point_user_name': '南葵中心3隊', 'duration': 315.567}, {'datetime': datetime.datetime(2024, 8, 2, 20, 33, 9, 813000, tzinfo=zoneinfo.ZoneInfo(key='Asia/Hong_Kong')), 'type': 'CAPTURE_POINT', 'user_email': 'skc-3@example.com', 'user_name': '南葵中心3隊', 'user_level': 2, 'point_id': 'cGkgDMMYwWfkNB0heYjM', 'point_name': '天瑞俓（四）', 'point_user_email': 'skc-3@example.com', 'point_user_name': '南葵中心3隊', 'duration': 178.193}, {'datetime': datetime.datetime(2024, 8, 2, 20, 29, 52, 483000, tzinfo=zoneinfo.ZoneInfo(key='Asia/Hong_Kong')), 'type': 'CAPTURE_POINT', 'user_email': 'skc-3@example.com', 'user_name': '南葵中心3隊', 'user_level': 2, 'point_id': 'Y54hD80CffPsd7hG6KZn', 'point_name': '天瑞俓（三）', 'point_user_email': 'skc-3@example.com', 'point_user_name': '南葵中心3隊', 'duration': 197.33}, {'datetime': datetime.datetime(2024, 8, 2, 20, 27, 48, 593000, tzinfo=zoneinfo.ZoneInfo(key='Asia/Hong_Kong')), 'type': 'CAPTURE_POINT', 'user_email': 'skc-3@example.com', 'user_name': '南葵中心3隊', 'user_level': 2, 'point_id': 'MM12lHGWCtvCbQvMy29H', 'point_name': '天瑞俓（二）', 'point_user_email': 'skc-3@example.com', 'point_user_name': '南葵中心3隊', 'duration': 123.89}]\n",
      "[{'datetime': datetime.datetime(2024, 8, 2, 21, 42, 41, 675000, tzinfo=zoneinfo.ZoneInfo(key='Asia/Hong_Kong')), 'type': 'CAPTURE_POINT', 'user_email': 'skc-4@example.com', 'user_name': '南葵中心4隊', 'user_level': 3, 'point_id': 'gFJqiYep8W1OwbFTueIM', 'point_name': '天瑞路公園涼亭', 'point_user_email': 'skc-4@example.com', 'point_user_name': '南葵中心4隊', 'duration': None}, {'datetime': datetime.datetime(2024, 8, 2, 21, 41, 54, 229000, tzinfo=zoneinfo.ZoneInfo(key='Asia/Hong_Kong')), 'type': 'CAPTURE_POINT', 'user_email': 'skc-4@example.com', 'user_name': '南葵中心4隊', 'user_level': 3, 'point_id': 'rSnhF4HYEnTG98p9E7To', 'point_name': '天水圍公園（西）', 'point_user_email': 'skc-4@example.com', 'point_user_name': '南葵中心4隊', 'duration': 47.446}, {'datetime': datetime.datetime(2024, 8, 2, 21, 41, 43, 511000, tzinfo=zoneinfo.ZoneInfo(key='Asia/Hong_Kong')), 'type': 'CAPTURE_POINT', 'user_email': 'skc-4@example.com', 'user_name': '南葵中心4隊', 'user_level': 3, 'point_id': 'yhDNSAU3ByPksCfmW3E3', 'point_name': '天河路遊樂場涼亭', 'point_user_email': 'skc-4@example.com', 'point_user_name': '南葵中心4隊', 'duration': 10.718}, {'datetime': datetime.datetime(2024, 8, 2, 21, 41, 8, 645000, tzinfo=zoneinfo.ZoneInfo(key='Asia/Hong_Kong')), 'type': 'CAPTURE_POINT', 'user_email': 'skc-4@example.com', 'user_name': '南葵中心4隊', 'user_level': 3, 'point_id': 'MM12lHGWCtvCbQvMy29H', 'point_name': '天瑞俓（二）', 'point_user_email': 'skc-4@example.com', 'point_user_name': '南葵中心4隊', 'duration': 34.866}, {'datetime': datetime.datetime(2024, 8, 2, 21, 41, 1, 495000, tzinfo=zoneinfo.ZoneInfo(key='Asia/Hong_Kong')), 'type': 'CAPTURE_POINT', 'user_email': 'skc-4@example.com', 'user_name': '南葵中心4隊', 'user_level': 3, 'point_id': 'Y54hD80CffPsd7hG6KZn', 'point_name': '天瑞俓（三）', 'point_user_email': 'skc-4@example.com', 'point_user_name': '南葵中心4隊', 'duration': 7.15}, {'datetime': datetime.datetime(2024, 8, 2, 21, 40, 56, 416000, tzinfo=zoneinfo.ZoneInfo(key='Asia/Hong_Kong')), 'type': 'CAPTURE_POINT', 'user_email': 'skc-4@example.com', 'user_name': '南葵中心4隊', 'user_level': 3, 'point_id': '45ntnYbmnHBUIEyvTtNs', 'point_name': '天瑞社區中心', 'point_user_email': 'skc-4@example.com', 'point_user_name': '南葵中心4隊', 'duration': 5.079}, {'datetime': datetime.datetime(2024, 8, 2, 21, 40, 50, 578000, tzinfo=zoneinfo.ZoneInfo(key='Asia/Hong_Kong')), 'type': 'CAPTURE_POINT', 'user_email': 'skc-4@example.com', 'user_name': '南葵中心4隊', 'user_level': 3, 'point_id': 'bCr9LBCAj1mIDzHk63Iz', 'point_name': '天華橋', 'point_user_email': 'skc-4@example.com', 'point_user_name': '南葵中心4隊', 'duration': 5.838}, {'datetime': datetime.datetime(2024, 8, 2, 21, 20, 35, 202000, tzinfo=zoneinfo.ZoneInfo(key='Asia/Hong_Kong')), 'type': 'CAPTURE_POINT', 'user_email': 'skc-4@example.com', 'user_name': '南葵中心4隊', 'user_level': 2, 'point_id': 'MM12lHGWCtvCbQvMy29H', 'point_name': '天瑞俓（二）', 'point_user_email': 'skc-4@example.com', 'point_user_name': '南葵中心4隊', 'duration': 1215.376}, {'datetime': datetime.datetime(2024, 8, 2, 21, 17, 46, 926000, tzinfo=zoneinfo.ZoneInfo(key='Asia/Hong_Kong')), 'type': 'CAPTURE_POINT', 'user_email': 'skc-4@example.com', 'user_name': '南葵中心4隊', 'user_level': 2, 'point_id': 'bCr9LBCAj1mIDzHk63Iz', 'point_name': '天華橋', 'point_user_email': 'skc-4@example.com', 'point_user_name': '南葵中心4隊', 'duration': 168.276}, {'datetime': datetime.datetime(2024, 8, 2, 21, 12, 54, 534000, tzinfo=zoneinfo.ZoneInfo(key='Asia/Hong_Kong')), 'type': 'CAPTURE_POINT', 'user_email': 'skc-4@example.com', 'user_name': '南葵中心4隊', 'user_level': 2, 'point_id': 'yhDNSAU3ByPksCfmW3E3', 'point_name': '天河路遊樂場涼亭', 'point_user_email': 'skc-4@example.com', 'point_user_name': '南葵中心4隊', 'duration': 292.392}, {'datetime': datetime.datetime(2024, 8, 2, 21, 8, 16, 608000, tzinfo=zoneinfo.ZoneInfo(key='Asia/Hong_Kong')), 'type': 'CAPTURE_POINT', 'user_email': 'skc-4@example.com', 'user_name': '南葵中心4隊', 'user_level': 2, 'point_id': 'gFJqiYep8W1OwbFTueIM', 'point_name': '天瑞路公園涼亭', 'point_user_email': 'skc-4@example.com', 'point_user_name': '南葵中心4隊', 'duration': 277.926}, {'datetime': datetime.datetime(2024, 8, 2, 21, 7, 4, 558000, tzinfo=zoneinfo.ZoneInfo(key='Asia/Hong_Kong')), 'type': 'CAPTURE_POINT', 'user_email': 'skc-4@example.com', 'user_name': '南葵中心4隊', 'user_level': 2, 'point_id': 'MM12lHGWCtvCbQvMy29H', 'point_name': '天瑞俓（二）', 'point_user_email': 'skc-4@example.com', 'point_user_name': '南葵中心4隊', 'duration': 72.05}, {'datetime': datetime.datetime(2024, 8, 2, 21, 6, 36, 719000, tzinfo=zoneinfo.ZoneInfo(key='Asia/Hong_Kong')), 'type': 'CAPTURE_POINT', 'user_email': 'skc-4@example.com', 'user_name': '南葵中心4隊', 'user_level': 2, 'point_id': 'Y54hD80CffPsd7hG6KZn', 'point_name': '天瑞俓（三）', 'point_user_email': 'skc-4@example.com', 'point_user_name': '南葵中心4隊', 'duration': 27.839}, {'datetime': datetime.datetime(2024, 8, 2, 21, 5, 9, 437000, tzinfo=zoneinfo.ZoneInfo(key='Asia/Hong_Kong')), 'type': 'CAPTURE_POINT', 'user_email': 'skc-4@example.com', 'user_name': '南葵中心4隊', 'user_level': 2, 'point_id': 'xv6F5QsTKUVQasrDM5V5', 'point_name': '天瑞俓（一）', 'point_user_email': 'skc-4@example.com', 'point_user_name': '南葵中心4隊', 'duration': 87.282}, {'datetime': datetime.datetime(2024, 8, 2, 21, 3, 35, 456000, tzinfo=zoneinfo.ZoneInfo(key='Asia/Hong_Kong')), 'type': 'CAPTURE_POINT', 'user_email': 'skc-4@example.com', 'user_name': '南葵中心4隊', 'user_level': 2, 'point_id': 'MM12lHGWCtvCbQvMy29H', 'point_name': '天瑞俓（二）', 'point_user_email': 'skc-4@example.com', 'point_user_name': '南葵中心4隊', 'duration': 93.981}, {'datetime': datetime.datetime(2024, 8, 2, 21, 1, 15, 314000, tzinfo=zoneinfo.ZoneInfo(key='Asia/Hong_Kong')), 'type': 'CAPTURE_POINT', 'user_email': 'skc-4@example.com', 'user_name': '南葵中心4隊', 'user_level': 2, 'point_id': 'Y54hD80CffPsd7hG6KZn', 'point_name': '天瑞俓（三）', 'point_user_email': 'skc-4@example.com', 'point_user_name': '南葵中心4隊', 'duration': 140.142}, {'datetime': datetime.datetime(2024, 8, 2, 20, 58, 32, 759000, tzinfo=zoneinfo.ZoneInfo(key='Asia/Hong_Kong')), 'type': 'CAPTURE_POINT', 'user_email': 'skc-4@example.com', 'user_name': '南葵中心4隊', 'user_level': 2, 'point_id': '45ntnYbmnHBUIEyvTtNs', 'point_name': '天瑞社區中心', 'point_user_email': 'skc-4@example.com', 'point_user_name': '南葵中心4隊', 'duration': 162.555}, {'datetime': datetime.datetime(2024, 8, 2, 20, 58, 14, 498000, tzinfo=zoneinfo.ZoneInfo(key='Asia/Hong_Kong')), 'type': 'CAPTURE_POINT', 'user_email': 'skc-4@example.com', 'user_name': '南葵中心4隊', 'user_level': 2, 'point_id': 'rSnhF4HYEnTG98p9E7To', 'point_name': '天水圍公園（西）', 'point_user_email': 'skc-4@example.com', 'point_user_name': '南葵中心4隊', 'duration': 18.261}, {'datetime': datetime.datetime(2024, 8, 2, 20, 53, 43, 996000, tzinfo=zoneinfo.ZoneInfo(key='Asia/Hong_Kong')), 'type': 'CAPTURE_POINT', 'user_email': 'skc-4@example.com', 'user_name': '南葵中心4隊', 'user_level': 2, 'point_id': 'zm9JjBWHejS6bInoC32d', 'point_name': '天華天橋樓梯', 'point_user_email': 'skc-4@example.com', 'point_user_name': '南葵中心4隊', 'duration': 270.502}, {'datetime': datetime.datetime(2024, 8, 2, 20, 49, 44, 139000, tzinfo=zoneinfo.ZoneInfo(key='Asia/Hong_Kong')), 'type': 'CAPTURE_POINT', 'user_email': 'skc-4@example.com', 'user_name': '南葵中心4隊', 'user_level': 2, 'point_id': 'bCr9LBCAj1mIDzHk63Iz', 'point_name': '天華橋', 'point_user_email': 'skc-4@example.com', 'point_user_name': '南葵中心4隊', 'duration': 239.857}, {'datetime': datetime.datetime(2024, 8, 2, 20, 31, 43, 753000, tzinfo=zoneinfo.ZoneInfo(key='Asia/Hong_Kong')), 'type': 'CAPTURE_POINT', 'user_email': 'skc-4@example.com', 'user_name': '南葵中心4隊', 'user_level': 1, 'point_id': 'rSnhF4HYEnTG98p9E7To', 'point_name': '天水圍公園（西）', 'point_user_email': 'skc-4@example.com', 'point_user_name': '南葵中心4隊', 'duration': 1080.386}, {'datetime': datetime.datetime(2024, 8, 2, 20, 30, 22, 410000, tzinfo=zoneinfo.ZoneInfo(key='Asia/Hong_Kong')), 'type': 'CAPTURE_POINT', 'user_email': 'skc-4@example.com', 'user_name': '南葵中心4隊', 'user_level': 1, 'point_id': '45ntnYbmnHBUIEyvTtNs', 'point_name': '天瑞社區中心', 'point_user_email': 'skc-4@example.com', 'point_user_name': '南葵中心4隊', 'duration': 81.343}, {'datetime': datetime.datetime(2024, 8, 2, 20, 27, 2, 7000, tzinfo=zoneinfo.ZoneInfo(key='Asia/Hong_Kong')), 'type': 'CAPTURE_POINT', 'user_email': 'skc-4@example.com', 'user_name': '南葵中心4隊', 'user_level': 1, 'point_id': 'gFJqiYep8W1OwbFTueIM', 'point_name': '天瑞路公園涼亭', 'point_user_email': 'skc-4@example.com', 'point_user_name': '南葵中心4隊', 'duration': 200.403}, {'datetime': datetime.datetime(2024, 8, 2, 20, 24, 10, 372000, tzinfo=zoneinfo.ZoneInfo(key='Asia/Hong_Kong')), 'type': 'CAPTURE_POINT', 'user_email': 'skc-4@example.com', 'user_name': '南葵中心4隊', 'user_level': 1, 'point_id': 'Y54hD80CffPsd7hG6KZn', 'point_name': '天瑞俓（三）', 'point_user_email': 'skc-4@example.com', 'point_user_name': '南葵中心4隊', 'duration': 171.635}, {'datetime': datetime.datetime(2024, 8, 2, 20, 22, 30, 919000, tzinfo=zoneinfo.ZoneInfo(key='Asia/Hong_Kong')), 'type': 'CAPTURE_POINT', 'user_email': 'skc-4@example.com', 'user_name': '南葵中心4隊', 'user_level': 1, 'point_id': 'MM12lHGWCtvCbQvMy29H', 'point_name': '天瑞俓（二）', 'point_user_email': 'skc-4@example.com', 'point_user_name': '南葵中心4隊', 'duration': 99.453}, {'datetime': datetime.datetime(2024, 8, 2, 20, 20, 21, 639000, tzinfo=zoneinfo.ZoneInfo(key='Asia/Hong_Kong')), 'type': 'CAPTURE_POINT', 'user_email': 'skc-4@example.com', 'user_name': '南葵中心4隊', 'user_level': 1, 'point_id': 'yhDNSAU3ByPksCfmW3E3', 'point_name': '天河路遊樂場涼亭', 'point_user_email': 'skc-4@example.com', 'point_user_name': '南葵中心4隊', 'duration': 129.28}, {'datetime': datetime.datetime(2024, 8, 2, 20, 19, 6, 398000, tzinfo=zoneinfo.ZoneInfo(key='Asia/Hong_Kong')), 'type': 'CAPTURE_POINT', 'user_email': 'skc-4@example.com', 'user_name': '南葵中心4隊', 'user_level': 1, 'point_id': 'xFldNrcu765eRZc2hrsn', 'point_name': '聖葉理諾堂', 'point_user_email': 'skc-4@example.com', 'point_user_name': '南葵中心4隊', 'duration': 75.241}]\n",
      "[{'datetime': datetime.datetime(2024, 8, 2, 21, 35, 34, 273000, tzinfo=zoneinfo.ZoneInfo(key='Asia/Hong_Kong')), 'type': 'CAPTURE_POINT', 'user_email': 'sy1@example.com', 'user_name': '石蔭中心隊', 'user_level': 3, 'point_id': '45ntnYbmnHBUIEyvTtNs', 'point_name': '天瑞社區中心', 'point_user_email': 'sy1@example.com', 'point_user_name': '石蔭中心隊', 'duration': None}, {'datetime': datetime.datetime(2024, 8, 2, 21, 20, 4, 770000, tzinfo=zoneinfo.ZoneInfo(key='Asia/Hong_Kong')), 'type': 'CAPTURE_POINT', 'user_email': 'sy1@example.com', 'user_name': '石蔭中心隊', 'user_level': 2, 'point_id': 'cGkgDMMYwWfkNB0heYjM', 'point_name': '天瑞俓（四）', 'point_user_email': 'sy1@example.com', 'point_user_name': '石蔭中心隊', 'duration': 929.503}, {'datetime': datetime.datetime(2024, 8, 2, 21, 12, 52, 926000, tzinfo=zoneinfo.ZoneInfo(key='Asia/Hong_Kong')), 'type': 'CAPTURE_POINT', 'user_email': 'sy1@example.com', 'user_name': '石蔭中心隊', 'user_level': 2, 'point_id': '5FuPRNNQxn2MpCc3QxSq', 'point_name': '天瑞俓（六）', 'point_user_email': 'sy1@example.com', 'point_user_name': '石蔭中心隊', 'duration': 431.844}, {'datetime': datetime.datetime(2024, 8, 2, 21, 2, 50, 999000, tzinfo=zoneinfo.ZoneInfo(key='Asia/Hong_Kong')), 'type': 'CAPTURE_POINT', 'user_email': 'sy1@example.com', 'user_name': '石蔭中心隊', 'user_level': 2, 'point_id': 'Jyj6CjyjsJi2bCuGoJEh', 'point_name': '天恆邨', 'point_user_email': 'sy1@example.com', 'point_user_name': '石蔭中心隊', 'duration': 601.927}, {'datetime': datetime.datetime(2024, 8, 2, 20, 57, 50, 327000, tzinfo=zoneinfo.ZoneInfo(key='Asia/Hong_Kong')), 'type': 'CAPTURE_POINT', 'user_email': 'sy1@example.com', 'user_name': '石蔭中心隊', 'user_level': 2, 'point_id': '2d52tp09iWfccGggsMH5', 'point_name': '流浮山消防局', 'point_user_email': 'sy1@example.com', 'point_user_name': '石蔭中心隊', 'duration': 300.672}, {'datetime': datetime.datetime(2024, 8, 2, 20, 48, 7, 109000, tzinfo=zoneinfo.ZoneInfo(key='Asia/Hong_Kong')), 'type': 'CAPTURE_POINT', 'user_email': 'sy1@example.com', 'user_name': '石蔭中心隊', 'user_level': 1, 'point_id': 'KlBjSjUv2OjIMppFsvHq', 'point_name': '濕地公園門口', 'point_user_email': 'sy1@example.com', 'point_user_name': '石蔭中心隊', 'duration': 583.218}, {'datetime': datetime.datetime(2024, 8, 2, 20, 45, 44, 159000, tzinfo=zoneinfo.ZoneInfo(key='Asia/Hong_Kong')), 'type': 'CAPTURE_POINT', 'user_email': 'sy1@example.com', 'user_name': '石蔭中心隊', 'user_level': 1, 'point_id': 'pbrw5fgRV2MRa5TDj7VB', 'point_name': '天葵天橋', 'point_user_email': 'sy1@example.com', 'point_user_name': '石蔭中心隊', 'duration': 142.95}, {'datetime': datetime.datetime(2024, 8, 2, 20, 41, 7, 942000, tzinfo=zoneinfo.ZoneInfo(key='Asia/Hong_Kong')), 'type': 'CAPTURE_POINT', 'user_email': 'sy1@example.com', 'user_name': '石蔭中心隊', 'user_level': 1, 'point_id': '45aLp8Tx5wGP606fx32M', 'point_name': '慧景軒巴士站', 'point_user_email': 'sy1@example.com', 'point_user_name': '石蔭中心隊', 'duration': 276.217}, {'datetime': datetime.datetime(2024, 8, 2, 20, 36, 8, 162000, tzinfo=zoneinfo.ZoneInfo(key='Asia/Hong_Kong')), 'type': 'CAPTURE_POINT', 'user_email': 'sy1@example.com', 'user_name': '石蔭中心隊', 'user_level': 1, 'point_id': '4WvOcZ1x4sDSnEXete8m', 'point_name': '天業路公園（表）', 'point_user_email': 'sy1@example.com', 'point_user_name': '石蔭中心隊', 'duration': 299.78}, {'datetime': datetime.datetime(2024, 8, 2, 20, 34, 14, 52000, tzinfo=zoneinfo.ZoneInfo(key='Asia/Hong_Kong')), 'type': 'CAPTURE_POINT', 'user_email': 'sy1@example.com', 'user_name': '石蔭中心隊', 'user_level': 1, 'point_id': 'IkAECCDTwkvlAMt5lQZ4', 'point_name': '天華垃圾筒', 'point_user_email': 'sy1@example.com', 'point_user_name': '石蔭中心隊', 'duration': 114.11}, {'datetime': datetime.datetime(2024, 8, 2, 20, 26, 58, 185000, tzinfo=zoneinfo.ZoneInfo(key='Asia/Hong_Kong')), 'type': 'CAPTURE_POINT', 'user_email': 'sy1@example.com', 'user_name': '石蔭中心隊', 'user_level': 1, 'point_id': 'cWpn4JjGvqovfXr7L2rP', 'point_name': '天城路天橋', 'point_user_email': 'sy1@example.com', 'point_user_name': '石蔭中心隊', 'duration': 435.867}, {'datetime': datetime.datetime(2024, 8, 2, 20, 23, 27, 667000, tzinfo=zoneinfo.ZoneInfo(key='Asia/Hong_Kong')), 'type': 'CAPTURE_POINT', 'user_email': 'sy1@example.com', 'user_name': '石蔭中心隊', 'user_level': 1, 'point_id': '778jzmzKpOvgRHIHcHms', 'point_name': '麗湖居', 'point_user_email': 'sy1@example.com', 'point_user_name': '石蔭中心隊', 'duration': 210.518}, {'datetime': datetime.datetime(2024, 8, 2, 20, 18, 47, 907000, tzinfo=zoneinfo.ZoneInfo(key='Asia/Hong_Kong')), 'type': 'CAPTURE_POINT', 'user_email': 'sy1@example.com', 'user_name': '石蔭中心隊', 'user_level': 1, 'point_id': 'Un4smPc0lSA8jpfvA5zJ', 'point_name': '天水圍游泳池', 'point_user_email': 'sy1@example.com', 'point_user_name': '石蔭中心隊', 'duration': 279.76}, {'datetime': datetime.datetime(2024, 8, 2, 20, 14, 56, 154000, tzinfo=zoneinfo.ZoneInfo(key='Asia/Hong_Kong')), 'type': 'CAPTURE_POINT', 'user_email': 'sy1@example.com', 'user_name': '石蔭中心隊', 'user_level': 1, 'point_id': '0gHiSX9dMHkVpffFR9RU', 'point_name': '天水圍體育館', 'point_user_email': 'sy1@example.com', 'point_user_name': '石蔭中心隊', 'duration': 231.753}]\n"
     ]
    },
    {
     "data": {
      "text/html": [
       "<div><style>\n",
       ".dataframe > thead > tr,\n",
       ".dataframe > tbody > tr {\n",
       "  text-align: right;\n",
       "  white-space: pre-wrap;\n",
       "}\n",
       "</style>\n",
       "<small>shape: (120, 10)</small><table border=\"1\" class=\"dataframe\"><thead><tr><th>datetime</th><th>type</th><th>user_email</th><th>user_name</th><th>user_level</th><th>point_id</th><th>point_name</th><th>point_user_email</th><th>point_user_name</th><th>duration</th></tr><tr><td>datetime[μs, UTC]</td><td>str</td><td>str</td><td>str</td><td>i64</td><td>str</td><td>str</td><td>str</td><td>str</td><td>f64</td></tr></thead><tbody><tr><td>2024-08-02 14:37:38.056 UTC</td><td>&quot;CAPTURE_POINT&quot;</td><td>&quot;sw-1@example.com&quot;</td><td>&quot;上環中心隊&quot;</td><td>3</td><td>&quot;0gHiSX9dMHkVpffFR9RU&quot;</td><td>&quot;天水圍體育館&quot;</td><td>&quot;sw-1@example.com&quot;</td><td>&quot;上環中心隊&quot;</td><td>null</td></tr><tr><td>2024-08-02 14:35:06.707 UTC</td><td>&quot;CAPTURE_POINT&quot;</td><td>&quot;sw-1@example.com&quot;</td><td>&quot;上環中心隊&quot;</td><td>3</td><td>&quot;Un4smPc0lSA8jpfvA5zJ&quot;</td><td>&quot;天水圍游泳池&quot;</td><td>&quot;sw-1@example.com&quot;</td><td>&quot;上環中心隊&quot;</td><td>3.285867</td></tr><tr><td>2024-08-02 14:26:56.297 UTC</td><td>&quot;CAPTURE_POINT&quot;</td><td>&quot;sw-1@example.com&quot;</td><td>&quot;上環中心隊&quot;</td><td>3</td><td>&quot;YvzEAhiBhJrOstmGXoH3&quot;</td><td>&quot;天榮路東&quot;</td><td>&quot;sw-1@example.com&quot;</td><td>&quot;上環中心隊&quot;</td><td>25.245283</td></tr><tr><td>2024-08-02 14:22:50.933 UTC</td><td>&quot;CAPTURE_POINT&quot;</td><td>&quot;sw-1@example.com&quot;</td><td>&quot;上環中心隊&quot;</td><td>3</td><td>&quot;IeOJr7CsyHXad2DUL3n4&quot;</td><td>&quot;栢慧豪廷門口&quot;</td><td>&quot;sw-1@example.com&quot;</td><td>&quot;上環中心隊&quot;</td><td>2.650383</td></tr><tr><td>2024-08-02 14:15:27.703 UTC</td><td>&quot;CAPTURE_POINT&quot;</td><td>&quot;sw-2@example.com&quot;</td><td>&quot;上環/將軍澳中心隊&quot;</td><td>3</td><td>&quot;rSnhF4HYEnTG98p9E7To&quot;</td><td>&quot;天水圍公園（西）&quot;</td><td>&quot;sw-2@example.com&quot;</td><td>&quot;上環/將軍澳中心隊&quot;</td><td>15.944017</td></tr><tr><td>&hellip;</td><td>&hellip;</td><td>&hellip;</td><td>&hellip;</td><td>&hellip;</td><td>&hellip;</td><td>&hellip;</td><td>&hellip;</td><td>&hellip;</td><td>&hellip;</td></tr><tr><td>2024-08-02 12:22:29.130 UTC</td><td>&quot;CAPTURE_POINT&quot;</td><td>&quot;skc-1@example.com&quot;</td><td>&quot;南葵中心1隊&quot;</td><td>1</td><td>&quot;xFldNrcu765eRZc2hrsn&quot;</td><td>&quot;聖葉理諾堂&quot;</td><td>&quot;skc-1@example.com&quot;</td><td>&quot;南葵中心1隊&quot;</td><td>1.901833</td></tr><tr><td>2024-08-02 12:20:21.639 UTC</td><td>&quot;CAPTURE_POINT&quot;</td><td>&quot;skc-4@example.com&quot;</td><td>&quot;南葵中心4隊&quot;</td><td>1</td><td>&quot;yhDNSAU3ByPksCfmW3E3&quot;</td><td>&quot;天河路遊樂場涼亭&quot;</td><td>&quot;skc-4@example.com&quot;</td><td>&quot;南葵中心4隊&quot;</td><td>7.26445</td></tr><tr><td>2024-08-02 12:19:06.398 UTC</td><td>&quot;CAPTURE_POINT&quot;</td><td>&quot;skc-4@example.com&quot;</td><td>&quot;南葵中心4隊&quot;</td><td>1</td><td>&quot;xFldNrcu765eRZc2hrsn&quot;</td><td>&quot;聖葉理諾堂&quot;</td><td>&quot;skc-4@example.com&quot;</td><td>&quot;南葵中心4隊&quot;</td><td>3.508633</td></tr><tr><td>2024-08-02 12:18:47.907 UTC</td><td>&quot;CAPTURE_POINT&quot;</td><td>&quot;sy1@example.com&quot;</td><td>&quot;石蔭中心隊&quot;</td><td>1</td><td>&quot;Un4smPc0lSA8jpfvA5zJ&quot;</td><td>&quot;天水圍游泳池&quot;</td><td>&quot;sy1@example.com&quot;</td><td>&quot;石蔭中心隊&quot;</td><td>4.662667</td></tr><tr><td>2024-08-02 12:14:56.154 UTC</td><td>&quot;CAPTURE_POINT&quot;</td><td>&quot;sy1@example.com&quot;</td><td>&quot;石蔭中心隊&quot;</td><td>1</td><td>&quot;0gHiSX9dMHkVpffFR9RU&quot;</td><td>&quot;天水圍體育館&quot;</td><td>&quot;sy1@example.com&quot;</td><td>&quot;石蔭中心隊&quot;</td><td>3.86255</td></tr></tbody></table></div>"
      ],
      "text/plain": [
       "shape: (120, 10)\n",
       "┌───────────┬───────────┬───────────┬───────────┬───┬───────────┬───────────┬───────────┬──────────┐\n",
       "│ datetime  ┆ type      ┆ user_emai ┆ user_name ┆ … ┆ point_nam ┆ point_use ┆ point_use ┆ duration │\n",
       "│ ---       ┆ ---       ┆ l         ┆ ---       ┆   ┆ e         ┆ r_email   ┆ r_name    ┆ ---      │\n",
       "│ datetime[ ┆ str       ┆ ---       ┆ str       ┆   ┆ ---       ┆ ---       ┆ ---       ┆ f64      │\n",
       "│ μs, UTC]  ┆           ┆ str       ┆           ┆   ┆ str       ┆ str       ┆ str       ┆          │\n",
       "╞═══════════╪═══════════╪═══════════╪═══════════╪═══╪═══════════╪═══════════╪═══════════╪══════════╡\n",
       "│ 2024-08-0 ┆ CAPTURE_P ┆ sw-1@exam ┆ 上環中心  ┆ … ┆ 天水圍體  ┆ sw-1@exam ┆ 上環中心  ┆ null     │\n",
       "│ 2 14:37:3 ┆ OINT      ┆ ple.com   ┆ 隊        ┆   ┆ 育館      ┆ ple.com   ┆ 隊        ┆          │\n",
       "│ 8.056 UTC ┆           ┆           ┆           ┆   ┆           ┆           ┆           ┆          │\n",
       "│ 2024-08-0 ┆ CAPTURE_P ┆ sw-1@exam ┆ 上環中心  ┆ … ┆ 天水圍游  ┆ sw-1@exam ┆ 上環中心  ┆ 3.285867 │\n",
       "│ 2 14:35:0 ┆ OINT      ┆ ple.com   ┆ 隊        ┆   ┆ 泳池      ┆ ple.com   ┆ 隊        ┆          │\n",
       "│ 6.707 UTC ┆           ┆           ┆           ┆   ┆           ┆           ┆           ┆          │\n",
       "│ 2024-08-0 ┆ CAPTURE_P ┆ sw-1@exam ┆ 上環中心  ┆ … ┆ 天榮路東  ┆ sw-1@exam ┆ 上環中心  ┆ 25.24528 │\n",
       "│ 2 14:26:5 ┆ OINT      ┆ ple.com   ┆ 隊        ┆   ┆           ┆ ple.com   ┆ 隊        ┆ 3        │\n",
       "│ 6.297 UTC ┆           ┆           ┆           ┆   ┆           ┆           ┆           ┆          │\n",
       "│ 2024-08-0 ┆ CAPTURE_P ┆ sw-1@exam ┆ 上環中心  ┆ … ┆ 栢慧豪廷  ┆ sw-1@exam ┆ 上環中心  ┆ 2.650383 │\n",
       "│ 2 14:22:5 ┆ OINT      ┆ ple.com   ┆ 隊        ┆   ┆ 門口      ┆ ple.com   ┆ 隊        ┆          │\n",
       "│ 0.933 UTC ┆           ┆           ┆           ┆   ┆           ┆           ┆           ┆          │\n",
       "│ 2024-08-0 ┆ CAPTURE_P ┆ sw-2@exam ┆ 上環/將軍 ┆ … ┆ 天水圍公  ┆ sw-2@exam ┆ 上環/將軍 ┆ 15.94401 │\n",
       "│ 2 14:15:2 ┆ OINT      ┆ ple.com   ┆ 澳中心隊  ┆   ┆ 園（西）  ┆ ple.com   ┆ 澳中心隊  ┆ 7        │\n",
       "│ 7.703 UTC ┆           ┆           ┆           ┆   ┆           ┆           ┆           ┆          │\n",
       "│ …         ┆ …         ┆ …         ┆ …         ┆ … ┆ …         ┆ …         ┆ …         ┆ …        │\n",
       "│ 2024-08-0 ┆ CAPTURE_P ┆ skc-1@exa ┆ 南葵中心1 ┆ … ┆ 聖葉理諾  ┆ skc-1@exa ┆ 南葵中心1 ┆ 1.901833 │\n",
       "│ 2 12:22:2 ┆ OINT      ┆ mple.com  ┆ 隊        ┆   ┆ 堂        ┆ mple.com  ┆ 隊        ┆          │\n",
       "│ 9.130 UTC ┆           ┆           ┆           ┆   ┆           ┆           ┆           ┆          │\n",
       "│ 2024-08-0 ┆ CAPTURE_P ┆ skc-4@exa ┆ 南葵中心4 ┆ … ┆ 天河路遊  ┆ skc-4@exa ┆ 南葵中心4 ┆ 7.26445  │\n",
       "│ 2 12:20:2 ┆ OINT      ┆ mple.com  ┆ 隊        ┆   ┆ 樂場涼亭  ┆ mple.com  ┆ 隊        ┆          │\n",
       "│ 1.639 UTC ┆           ┆           ┆           ┆   ┆           ┆           ┆           ┆          │\n",
       "│ 2024-08-0 ┆ CAPTURE_P ┆ skc-4@exa ┆ 南葵中心4 ┆ … ┆ 聖葉理諾  ┆ skc-4@exa ┆ 南葵中心4 ┆ 3.508633 │\n",
       "│ 2 12:19:0 ┆ OINT      ┆ mple.com  ┆ 隊        ┆   ┆ 堂        ┆ mple.com  ┆ 隊        ┆          │\n",
       "│ 6.398 UTC ┆           ┆           ┆           ┆   ┆           ┆           ┆           ┆          │\n",
       "│ 2024-08-0 ┆ CAPTURE_P ┆ sy1@examp ┆ 石蔭中心  ┆ … ┆ 天水圍游  ┆ sy1@examp ┆ 石蔭中心  ┆ 4.662667 │\n",
       "│ 2 12:18:4 ┆ OINT      ┆ le.com    ┆ 隊        ┆   ┆ 泳池      ┆ le.com    ┆ 隊        ┆          │\n",
       "│ 7.907 UTC ┆           ┆           ┆           ┆   ┆           ┆           ┆           ┆          │\n",
       "│ 2024-08-0 ┆ CAPTURE_P ┆ sy1@examp ┆ 石蔭中心  ┆ … ┆ 天水圍體  ┆ sy1@examp ┆ 石蔭中心  ┆ 3.86255  │\n",
       "│ 2 12:14:5 ┆ OINT      ┆ le.com    ┆ 隊        ┆   ┆ 育館      ┆ le.com    ┆ 隊        ┆          │\n",
       "│ 6.154 UTC ┆           ┆           ┆           ┆   ┆           ┆           ┆           ┆          │\n",
       "└───────────┴───────────┴───────────┴───────────┴───┴───────────┴───────────┴───────────┴──────────┘"
      ]
     },
     "execution_count": 30,
     "metadata": {},
     "output_type": "execute_result"
    }
   ],
   "source": [
    "logs_with_duration = pl.DataFrame()\n",
    "\n",
    "for team in captured_logs_df['user_name'].unique().sort().to_list():\n",
    "    logs = captured_logs_df.sort('user_name').filter(pl.col('user_name') == team).sort('datetime', descending=True).to_dicts()\n",
    "    results = []\n",
    "    \n",
    "    last = None\n",
    "    \n",
    "    total = 0\n",
    "    for log in logs:\n",
    "        if last is None:\n",
    "            last = log['datetime']\n",
    "            log['duration'] = None\n",
    "        else:\n",
    "            # print(team, last, log['datetime'], (last - log['datetime']).total_seconds() / 60)\n",
    "            duration = (last - log['datetime']).total_seconds()\n",
    "            last = log['datetime']\n",
    "            log['duration'] = duration\n",
    "        results.append(log)\n",
    "    print(results)\n",
    "    logs_with_duration = pl.concat([logs_with_duration, pl.DataFrame(results)])\n",
    "\n",
    "logs_with_duration = logs_with_duration.sort('datetime', descending=True).with_columns(logs_with_duration['duration'] / 60)\n",
    "logs_with_duration"
   ]
  },
  {
   "cell_type": "code",
   "execution_count": 31,
   "metadata": {},
   "outputs": [
    {
     "data": {
      "text/html": [
       "<div><style>\n",
       ".dataframe > thead > tr,\n",
       ".dataframe > tbody > tr {\n",
       "  text-align: right;\n",
       "  white-space: pre-wrap;\n",
       "}\n",
       "</style>\n",
       "<small>shape: (12, 10)</small><table border=\"1\" class=\"dataframe\"><thead><tr><th>datetime</th><th>type</th><th>user_email</th><th>user_name</th><th>user_level</th><th>point_id</th><th>point_name</th><th>point_user_email</th><th>point_user_name</th><th>duration</th></tr><tr><td>datetime[μs, UTC]</td><td>str</td><td>str</td><td>str</td><td>i64</td><td>str</td><td>str</td><td>str</td><td>str</td><td>f64</td></tr></thead><tbody><tr><td>2024-08-02 14:15:27.703 UTC</td><td>&quot;CAPTURE_POINT&quot;</td><td>&quot;sw-2@example.com&quot;</td><td>&quot;上環/將軍澳中心隊&quot;</td><td>3</td><td>&quot;rSnhF4HYEnTG98p9E7To&quot;</td><td>&quot;天水圍公園（西）&quot;</td><td>&quot;sw-2@example.com&quot;</td><td>&quot;上環/將軍澳中心隊&quot;</td><td>15.944017</td></tr><tr><td>2024-08-02 14:12:10.551 UTC</td><td>&quot;CAPTURE_POINT&quot;</td><td>&quot;sw-2@example.com&quot;</td><td>&quot;上環/將軍澳中心隊&quot;</td><td>3</td><td>&quot;45ntnYbmnHBUIEyvTtNs&quot;</td><td>&quot;天瑞社區中心&quot;</td><td>&quot;sw-2@example.com&quot;</td><td>&quot;上環/將軍澳中心隊&quot;</td><td>4.096283</td></tr><tr><td>2024-08-02 13:46:55.834 UTC</td><td>&quot;CAPTURE_POINT&quot;</td><td>&quot;sw-2@example.com&quot;</td><td>&quot;上環/將軍澳中心隊&quot;</td><td>2</td><td>&quot;zoKPwjKHPyiu0i6BtHmx&quot;</td><td>&quot;天業路公園（裏）&quot;</td><td>&quot;sw-2@example.com&quot;</td><td>&quot;上環/將軍澳中心隊&quot;</td><td>5.175417</td></tr><tr><td>2024-08-02 13:44:16.811 UTC</td><td>&quot;CAPTURE_POINT&quot;</td><td>&quot;sw-2@example.com&quot;</td><td>&quot;上環/將軍澳中心隊&quot;</td><td>2</td><td>&quot;kqK4XRQZ348HdJEaKjEd&quot;</td><td>&quot;天晴社區綜合服務大樓&quot;</td><td>&quot;sw-2@example.com&quot;</td><td>&quot;上環/將軍澳中心隊&quot;</td><td>null</td></tr><tr><td>2024-08-02 13:28:20.170 UTC</td><td>&quot;CAPTURE_POINT&quot;</td><td>&quot;sw-2@example.com&quot;</td><td>&quot;上環/將軍澳中心隊&quot;</td><td>2</td><td>&quot;4WvOcZ1x4sDSnEXete8m&quot;</td><td>&quot;天業路公園（表）&quot;</td><td>&quot;sw-2@example.com&quot;</td><td>&quot;上環/將軍澳中心隊&quot;</td><td>2.894267</td></tr><tr><td>&hellip;</td><td>&hellip;</td><td>&hellip;</td><td>&hellip;</td><td>&hellip;</td><td>&hellip;</td><td>&hellip;</td><td>&hellip;</td><td>&hellip;</td><td>&hellip;</td></tr><tr><td>2024-08-02 13:15:07.887 UTC</td><td>&quot;CAPTURE_POINT&quot;</td><td>&quot;sw-2@example.com&quot;</td><td>&quot;上環/將軍澳中心隊&quot;</td><td>2</td><td>&quot;ObC8rDBZIJcoRZJfBp1v&quot;</td><td>&quot;天悅天橋&quot;</td><td>&quot;sw-2@example.com&quot;</td><td>&quot;上環/將軍澳中心隊&quot;</td><td>7.000833</td></tr><tr><td>2024-08-02 13:06:23.062 UTC</td><td>&quot;CAPTURE_POINT&quot;</td><td>&quot;sw-2@example.com&quot;</td><td>&quot;上環/將軍澳中心隊&quot;</td><td>2</td><td>&quot;cWpn4JjGvqovfXr7L2rP&quot;</td><td>&quot;天城路天橋&quot;</td><td>&quot;sw-2@example.com&quot;</td><td>&quot;上環/將軍澳中心隊&quot;</td><td>1.485917</td></tr><tr><td>2024-08-02 12:33:32.699 UTC</td><td>&quot;CAPTURE_POINT&quot;</td><td>&quot;sw-2@example.com&quot;</td><td>&quot;上環/將軍澳中心隊&quot;</td><td>1</td><td>&quot;778jzmzKpOvgRHIHcHms&quot;</td><td>&quot;麗湖居&quot;</td><td>&quot;sw-2@example.com&quot;</td><td>&quot;上環/將軍澳中心隊&quot;</td><td>18.006433</td></tr><tr><td>2024-08-02 12:27:41.720 UTC</td><td>&quot;CAPTURE_POINT&quot;</td><td>&quot;sw-2@example.com&quot;</td><td>&quot;上環/將軍澳中心隊&quot;</td><td>1</td><td>&quot;Un4smPc0lSA8jpfvA5zJ&quot;</td><td>&quot;天水圍游泳池&quot;</td><td>&quot;sw-2@example.com&quot;</td><td>&quot;上環/將軍澳中心隊&quot;</td><td>null</td></tr><tr><td>2024-08-02 12:23:05.635 UTC</td><td>&quot;CAPTURE_POINT&quot;</td><td>&quot;sw-2@example.com&quot;</td><td>&quot;上環/將軍澳中心隊&quot;</td><td>1</td><td>&quot;0gHiSX9dMHkVpffFR9RU&quot;</td><td>&quot;天水圍體育館&quot;</td><td>&quot;sw-2@example.com&quot;</td><td>&quot;上環/將軍澳中心隊&quot;</td><td>4.603617</td></tr></tbody></table></div>"
      ],
      "text/plain": [
       "shape: (12, 10)\n",
       "┌───────────┬───────────┬───────────┬───────────┬───┬───────────┬───────────┬───────────┬──────────┐\n",
       "│ datetime  ┆ type      ┆ user_emai ┆ user_name ┆ … ┆ point_nam ┆ point_use ┆ point_use ┆ duration │\n",
       "│ ---       ┆ ---       ┆ l         ┆ ---       ┆   ┆ e         ┆ r_email   ┆ r_name    ┆ ---      │\n",
       "│ datetime[ ┆ str       ┆ ---       ┆ str       ┆   ┆ ---       ┆ ---       ┆ ---       ┆ f64      │\n",
       "│ μs, UTC]  ┆           ┆ str       ┆           ┆   ┆ str       ┆ str       ┆ str       ┆          │\n",
       "╞═══════════╪═══════════╪═══════════╪═══════════╪═══╪═══════════╪═══════════╪═══════════╪══════════╡\n",
       "│ 2024-08-0 ┆ CAPTURE_P ┆ sw-2@exam ┆ 上環/將軍 ┆ … ┆ 天水圍公  ┆ sw-2@exam ┆ 上環/將軍 ┆ 15.94401 │\n",
       "│ 2 14:15:2 ┆ OINT      ┆ ple.com   ┆ 澳中心隊  ┆   ┆ 園（西）  ┆ ple.com   ┆ 澳中心隊  ┆ 7        │\n",
       "│ 7.703 UTC ┆           ┆           ┆           ┆   ┆           ┆           ┆           ┆          │\n",
       "│ 2024-08-0 ┆ CAPTURE_P ┆ sw-2@exam ┆ 上環/將軍 ┆ … ┆ 天瑞社區  ┆ sw-2@exam ┆ 上環/將軍 ┆ 4.096283 │\n",
       "│ 2 14:12:1 ┆ OINT      ┆ ple.com   ┆ 澳中心隊  ┆   ┆ 中心      ┆ ple.com   ┆ 澳中心隊  ┆          │\n",
       "│ 0.551 UTC ┆           ┆           ┆           ┆   ┆           ┆           ┆           ┆          │\n",
       "│ 2024-08-0 ┆ CAPTURE_P ┆ sw-2@exam ┆ 上環/將軍 ┆ … ┆ 天業路公  ┆ sw-2@exam ┆ 上環/將軍 ┆ 5.175417 │\n",
       "│ 2 13:46:5 ┆ OINT      ┆ ple.com   ┆ 澳中心隊  ┆   ┆ 園（裏）  ┆ ple.com   ┆ 澳中心隊  ┆          │\n",
       "│ 5.834 UTC ┆           ┆           ┆           ┆   ┆           ┆           ┆           ┆          │\n",
       "│ 2024-08-0 ┆ CAPTURE_P ┆ sw-2@exam ┆ 上環/將軍 ┆ … ┆ 天晴社區  ┆ sw-2@exam ┆ 上環/將軍 ┆ null     │\n",
       "│ 2 13:44:1 ┆ OINT      ┆ ple.com   ┆ 澳中心隊  ┆   ┆ 綜合服務  ┆ ple.com   ┆ 澳中心隊  ┆          │\n",
       "│ 6.811 UTC ┆           ┆           ┆           ┆   ┆ 大樓      ┆           ┆           ┆          │\n",
       "│ 2024-08-0 ┆ CAPTURE_P ┆ sw-2@exam ┆ 上環/將軍 ┆ … ┆ 天業路公  ┆ sw-2@exam ┆ 上環/將軍 ┆ 2.894267 │\n",
       "│ 2 13:28:2 ┆ OINT      ┆ ple.com   ┆ 澳中心隊  ┆   ┆ 園（表）  ┆ ple.com   ┆ 澳中心隊  ┆          │\n",
       "│ 0.170 UTC ┆           ┆           ┆           ┆   ┆           ┆           ┆           ┆          │\n",
       "│ …         ┆ …         ┆ …         ┆ …         ┆ … ┆ …         ┆ …         ┆ …         ┆ …        │\n",
       "│ 2024-08-0 ┆ CAPTURE_P ┆ sw-2@exam ┆ 上環/將軍 ┆ … ┆ 天悅天橋  ┆ sw-2@exam ┆ 上環/將軍 ┆ 7.000833 │\n",
       "│ 2 13:15:0 ┆ OINT      ┆ ple.com   ┆ 澳中心隊  ┆   ┆           ┆ ple.com   ┆ 澳中心隊  ┆          │\n",
       "│ 7.887 UTC ┆           ┆           ┆           ┆   ┆           ┆           ┆           ┆          │\n",
       "│ 2024-08-0 ┆ CAPTURE_P ┆ sw-2@exam ┆ 上環/將軍 ┆ … ┆ 天城路天  ┆ sw-2@exam ┆ 上環/將軍 ┆ 1.485917 │\n",
       "│ 2 13:06:2 ┆ OINT      ┆ ple.com   ┆ 澳中心隊  ┆   ┆ 橋        ┆ ple.com   ┆ 澳中心隊  ┆          │\n",
       "│ 3.062 UTC ┆           ┆           ┆           ┆   ┆           ┆           ┆           ┆          │\n",
       "│ 2024-08-0 ┆ CAPTURE_P ┆ sw-2@exam ┆ 上環/將軍 ┆ … ┆ 麗湖居    ┆ sw-2@exam ┆ 上環/將軍 ┆ 18.00643 │\n",
       "│ 2 12:33:3 ┆ OINT      ┆ ple.com   ┆ 澳中心隊  ┆   ┆           ┆ ple.com   ┆ 澳中心隊  ┆ 3        │\n",
       "│ 2.699 UTC ┆           ┆           ┆           ┆   ┆           ┆           ┆           ┆          │\n",
       "│ 2024-08-0 ┆ CAPTURE_P ┆ sw-2@exam ┆ 上環/將軍 ┆ … ┆ 天水圍游  ┆ sw-2@exam ┆ 上環/將軍 ┆ null     │\n",
       "│ 2 12:27:4 ┆ OINT      ┆ ple.com   ┆ 澳中心隊  ┆   ┆ 泳池      ┆ ple.com   ┆ 澳中心隊  ┆          │\n",
       "│ 1.720 UTC ┆           ┆           ┆           ┆   ┆           ┆           ┆           ┆          │\n",
       "│ 2024-08-0 ┆ CAPTURE_P ┆ sw-2@exam ┆ 上環/將軍 ┆ … ┆ 天水圍體  ┆ sw-2@exam ┆ 上環/將軍 ┆ 4.603617 │\n",
       "│ 2 12:23:0 ┆ OINT      ┆ ple.com   ┆ 澳中心隊  ┆   ┆ 育館      ┆ ple.com   ┆ 澳中心隊  ┆          │\n",
       "│ 5.635 UTC ┆           ┆           ┆           ┆   ┆           ┆           ┆           ┆          │\n",
       "└───────────┴───────────┴───────────┴───────────┴───┴───────────┴───────────┴───────────┴──────────┘"
      ]
     },
     "execution_count": 31,
     "metadata": {},
     "output_type": "execute_result"
    }
   ],
   "source": [
    "logs_with_duration.filter(pl.col('user_name') == \"上環/將軍澳中心隊\")"
   ]
  },
  {
   "cell_type": "code",
   "execution_count": 32,
   "metadata": {},
   "outputs": [
    {
     "data": {
      "text/html": [
       "<div><style>\n",
       ".dataframe > thead > tr,\n",
       ".dataframe > tbody > tr {\n",
       "  text-align: right;\n",
       "  white-space: pre-wrap;\n",
       "}\n",
       "</style>\n",
       "<small>shape: (8, 2)</small><table border=\"1\" class=\"dataframe\"><thead><tr><th>user_name</th><th>duration</th></tr><tr><td>str</td><td>f64</td></tr></thead><tbody><tr><td>&quot;上環/將軍澳中心隊&quot;</td><td>7.412096</td></tr><tr><td>&quot;上環中心隊&quot;</td><td>11.234442</td></tr><tr><td>&quot;南區中心1隊&quot;</td><td>20.793233</td></tr><tr><td>&quot;南葵中心1隊&quot;</td><td>4.176317</td></tr><tr><td>&quot;南葵中心2隊&quot;</td><td>4.260762</td></tr><tr><td>&quot;南葵中心3隊&quot;</td><td>2.891547</td></tr><tr><td>&quot;南葵中心4隊&quot;</td><td>6.367928</td></tr><tr><td>&quot;石蔭中心隊&quot;</td><td>3.822197</td></tr></tbody></table></div>"
      ],
      "text/plain": [
       "shape: (8, 2)\n",
       "┌───────────────────┬───────────┐\n",
       "│ user_name         ┆ duration  │\n",
       "│ ---               ┆ ---       │\n",
       "│ str               ┆ f64       │\n",
       "╞═══════════════════╪═══════════╡\n",
       "│ 上環/將軍澳中心隊 ┆ 7.412096  │\n",
       "│ 上環中心隊        ┆ 11.234442 │\n",
       "│ 南區中心1隊       ┆ 20.793233 │\n",
       "│ 南葵中心1隊       ┆ 4.176317  │\n",
       "│ 南葵中心2隊       ┆ 4.260762  │\n",
       "│ 南葵中心3隊       ┆ 2.891547  │\n",
       "│ 南葵中心4隊       ┆ 6.367928  │\n",
       "│ 石蔭中心隊        ┆ 3.822197  │\n",
       "└───────────────────┴───────────┘"
      ]
     },
     "execution_count": 32,
     "metadata": {},
     "output_type": "execute_result"
    }
   ],
   "source": [
    "logs_with_duration.group_by('user_name').agg(pl.mean('duration')).sort('user_name')"
   ]
  },
  {
   "cell_type": "code",
   "execution_count": 33,
   "metadata": {},
   "outputs": [
    {
     "data": {
      "text/html": [
       "<div><style>\n",
       ".dataframe > thead > tr,\n",
       ".dataframe > tbody > tr {\n",
       "  text-align: right;\n",
       "  white-space: pre-wrap;\n",
       "}\n",
       "</style>\n",
       "<small>shape: (9, 2)</small><table border=\"1\" class=\"dataframe\"><thead><tr><th>statistic</th><th>value</th></tr><tr><td>str</td><td>f64</td></tr></thead><tbody><tr><td>&quot;count&quot;</td><td>112.0</td></tr><tr><td>&quot;null_count&quot;</td><td>8.0</td></tr><tr><td>&quot;mean&quot;</td><td>5.391015</td></tr><tr><td>&quot;std&quot;</td><td>5.742222</td></tr><tr><td>&quot;min&quot;</td><td>0.08465</td></tr><tr><td>&quot;25%&quot;</td><td>1.901833</td></tr><tr><td>&quot;50%&quot;</td><td>3.8375</td></tr><tr><td>&quot;75%&quot;</td><td>6.488983</td></tr><tr><td>&quot;max&quot;</td><td>32.839383</td></tr></tbody></table></div>"
      ],
      "text/plain": [
       "shape: (9, 2)\n",
       "┌────────────┬───────────┐\n",
       "│ statistic  ┆ value     │\n",
       "│ ---        ┆ ---       │\n",
       "│ str        ┆ f64       │\n",
       "╞════════════╪═══════════╡\n",
       "│ count      ┆ 112.0     │\n",
       "│ null_count ┆ 8.0       │\n",
       "│ mean       ┆ 5.391015  │\n",
       "│ std        ┆ 5.742222  │\n",
       "│ min        ┆ 0.08465   │\n",
       "│ 25%        ┆ 1.901833  │\n",
       "│ 50%        ┆ 3.8375    │\n",
       "│ 75%        ┆ 6.488983  │\n",
       "│ max        ┆ 32.839383 │\n",
       "└────────────┴───────────┘"
      ]
     },
     "execution_count": 33,
     "metadata": {},
     "output_type": "execute_result"
    }
   ],
   "source": [
    "logs_with_duration['duration'].describe()"
   ]
  },
  {
   "cell_type": "code",
   "execution_count": 34,
   "metadata": {},
   "outputs": [
    {
     "data": {
      "application/vnd.plotly.v1+json": {
       "config": {
        "plotlyServerURL": "https://plot.ly"
       },
       "data": [
        {
         "alignmentgroup": "True",
         "cliponaxis": false,
         "hovertemplate": "隊伍=%{x}<br>佔領時長=%{y}<extra></extra>",
         "legendgroup": "南葵中心3隊",
         "marker": {
          "color": "#ea3323",
          "pattern": {
           "shape": ""
          }
         },
         "name": "南葵中心3隊",
         "offsetgroup": "南葵中心3隊",
         "orientation": "v",
         "showlegend": true,
         "textangle": 0,
         "textfont": {
          "size": 12
         },
         "textposition": "outside",
         "texttemplate": "%{y:.0f}",
         "type": "bar",
         "x": [
          "南葵中心3隊"
         ],
         "xaxis": "x",
         "y": [
          2.8915473684210524
         ],
         "yaxis": "y"
        },
        {
         "alignmentgroup": "True",
         "cliponaxis": false,
         "hovertemplate": "隊伍=%{x}<br>佔領時長=%{y}<extra></extra>",
         "legendgroup": "石蔭中心隊",
         "marker": {
          "color": "#ffccdd",
          "pattern": {
           "shape": ""
          }
         },
         "name": "石蔭中心隊",
         "offsetgroup": "石蔭中心隊",
         "orientation": "v",
         "showlegend": true,
         "textangle": 0,
         "textfont": {
          "size": 12
         },
         "textposition": "outside",
         "texttemplate": "%{y:.0f}",
         "type": "bar",
         "x": [
          "石蔭中心隊"
         ],
         "xaxis": "x",
         "y": [
          3.822197435897436
         ],
         "yaxis": "y"
        },
        {
         "alignmentgroup": "True",
         "cliponaxis": false,
         "hovertemplate": "隊伍=%{x}<br>佔領時長=%{y}<extra></extra>",
         "legendgroup": "南葵中心1隊",
         "marker": {
          "color": "#25dc67",
          "pattern": {
           "shape": ""
          }
         },
         "name": "南葵中心1隊",
         "offsetgroup": "南葵中心1隊",
         "orientation": "v",
         "showlegend": true,
         "textangle": 0,
         "textfont": {
          "size": 12
         },
         "textposition": "outside",
         "texttemplate": "%{y:.0f}",
         "type": "bar",
         "x": [
          "南葵中心1隊"
         ],
         "xaxis": "x",
         "y": [
          4.176316666666666
         ],
         "yaxis": "y"
        },
        {
         "alignmentgroup": "True",
         "cliponaxis": false,
         "hovertemplate": "隊伍=%{x}<br>佔領時長=%{y}<extra></extra>",
         "legendgroup": "南葵中心2隊",
         "marker": {
          "color": "#17873f",
          "pattern": {
           "shape": ""
          }
         },
         "name": "南葵中心2隊",
         "offsetgroup": "南葵中心2隊",
         "orientation": "v",
         "showlegend": true,
         "textangle": 0,
         "textfont": {
          "size": 12
         },
         "textposition": "outside",
         "texttemplate": "%{y:.0f}",
         "type": "bar",
         "x": [
          "南葵中心2隊"
         ],
         "xaxis": "x",
         "y": [
          4.260761904761905
         ],
         "yaxis": "y"
        },
        {
         "alignmentgroup": "True",
         "cliponaxis": false,
         "hovertemplate": "隊伍=%{x}<br>佔領時長=%{y}<extra></extra>",
         "legendgroup": "南葵中心4隊",
         "marker": {
          "color": "#ff8b00",
          "pattern": {
           "shape": ""
          }
         },
         "name": "南葵中心4隊",
         "offsetgroup": "南葵中心4隊",
         "orientation": "v",
         "showlegend": true,
         "textangle": 0,
         "textfont": {
          "size": 12
         },
         "textposition": "outside",
         "texttemplate": "%{y:.0f}",
         "type": "bar",
         "x": [
          "南葵中心4隊"
         ],
         "xaxis": "x",
         "y": [
          6.367927777777777
         ],
         "yaxis": "y"
        },
        {
         "alignmentgroup": "True",
         "cliponaxis": false,
         "hovertemplate": "隊伍=%{x}<br>佔領時長=%{y}<extra></extra>",
         "legendgroup": "上環/將軍澳中心隊",
         "marker": {
          "color": "#febb26",
          "pattern": {
           "shape": ""
          }
         },
         "name": "上環/將軍澳中心隊",
         "offsetgroup": "上環/將軍澳中心隊",
         "orientation": "v",
         "showlegend": true,
         "textangle": 0,
         "textfont": {
          "size": 12
         },
         "textposition": "outside",
         "texttemplate": "%{y:.0f}",
         "type": "bar",
         "x": [
          "上環/將軍澳中心隊"
         ],
         "xaxis": "x",
         "y": [
          7.412096296296296
         ],
         "yaxis": "y"
        },
        {
         "alignmentgroup": "True",
         "cliponaxis": false,
         "hovertemplate": "隊伍=%{x}<br>佔領時長=%{y}<extra></extra>",
         "legendgroup": "上環中心隊",
         "marker": {
          "color": "#9c78fe",
          "pattern": {
           "shape": ""
          }
         },
         "name": "上環中心隊",
         "offsetgroup": "上環中心隊",
         "orientation": "v",
         "showlegend": true,
         "textangle": 0,
         "textfont": {
          "size": 12
         },
         "textposition": "outside",
         "texttemplate": "%{y:.0f}",
         "type": "bar",
         "x": [
          "上環中心隊"
         ],
         "xaxis": "x",
         "y": [
          11.234441666666667
         ],
         "yaxis": "y"
        },
        {
         "alignmentgroup": "True",
         "cliponaxis": false,
         "hovertemplate": "隊伍=%{x}<br>佔領時長=%{y}<extra></extra>",
         "legendgroup": "南區中心1隊",
         "marker": {
          "color": "#4f7af9",
          "pattern": {
           "shape": ""
          }
         },
         "name": "南區中心1隊",
         "offsetgroup": "南區中心1隊",
         "orientation": "v",
         "showlegend": true,
         "textangle": 0,
         "textfont": {
          "size": 12
         },
         "textposition": "outside",
         "texttemplate": "%{y:.0f}",
         "type": "bar",
         "x": [
          "南區中心1隊"
         ],
         "xaxis": "x",
         "y": [
          20.793233333333333
         ],
         "yaxis": "y"
        }
       ],
       "layout": {
        "barmode": "relative",
        "legend": {
         "title": {
          "text": "隊伍"
         },
         "tracegroupgap": 0
        },
        "margin": {
         "t": 60
        },
        "template": {
         "data": {
          "bar": [
           {
            "error_x": {
             "color": "#2a3f5f"
            },
            "error_y": {
             "color": "#2a3f5f"
            },
            "marker": {
             "line": {
              "color": "#E5ECF6",
              "width": 0.5
             },
             "pattern": {
              "fillmode": "overlay",
              "size": 10,
              "solidity": 0.2
             }
            },
            "type": "bar"
           }
          ],
          "barpolar": [
           {
            "marker": {
             "line": {
              "color": "#E5ECF6",
              "width": 0.5
             },
             "pattern": {
              "fillmode": "overlay",
              "size": 10,
              "solidity": 0.2
             }
            },
            "type": "barpolar"
           }
          ],
          "carpet": [
           {
            "aaxis": {
             "endlinecolor": "#2a3f5f",
             "gridcolor": "white",
             "linecolor": "white",
             "minorgridcolor": "white",
             "startlinecolor": "#2a3f5f"
            },
            "baxis": {
             "endlinecolor": "#2a3f5f",
             "gridcolor": "white",
             "linecolor": "white",
             "minorgridcolor": "white",
             "startlinecolor": "#2a3f5f"
            },
            "type": "carpet"
           }
          ],
          "choropleth": [
           {
            "colorbar": {
             "outlinewidth": 0,
             "ticks": ""
            },
            "type": "choropleth"
           }
          ],
          "contour": [
           {
            "colorbar": {
             "outlinewidth": 0,
             "ticks": ""
            },
            "colorscale": [
             [
              0,
              "#0d0887"
             ],
             [
              0.1111111111111111,
              "#46039f"
             ],
             [
              0.2222222222222222,
              "#7201a8"
             ],
             [
              0.3333333333333333,
              "#9c179e"
             ],
             [
              0.4444444444444444,
              "#bd3786"
             ],
             [
              0.5555555555555556,
              "#d8576b"
             ],
             [
              0.6666666666666666,
              "#ed7953"
             ],
             [
              0.7777777777777778,
              "#fb9f3a"
             ],
             [
              0.8888888888888888,
              "#fdca26"
             ],
             [
              1,
              "#f0f921"
             ]
            ],
            "type": "contour"
           }
          ],
          "contourcarpet": [
           {
            "colorbar": {
             "outlinewidth": 0,
             "ticks": ""
            },
            "type": "contourcarpet"
           }
          ],
          "heatmap": [
           {
            "colorbar": {
             "outlinewidth": 0,
             "ticks": ""
            },
            "colorscale": [
             [
              0,
              "#0d0887"
             ],
             [
              0.1111111111111111,
              "#46039f"
             ],
             [
              0.2222222222222222,
              "#7201a8"
             ],
             [
              0.3333333333333333,
              "#9c179e"
             ],
             [
              0.4444444444444444,
              "#bd3786"
             ],
             [
              0.5555555555555556,
              "#d8576b"
             ],
             [
              0.6666666666666666,
              "#ed7953"
             ],
             [
              0.7777777777777778,
              "#fb9f3a"
             ],
             [
              0.8888888888888888,
              "#fdca26"
             ],
             [
              1,
              "#f0f921"
             ]
            ],
            "type": "heatmap"
           }
          ],
          "heatmapgl": [
           {
            "colorbar": {
             "outlinewidth": 0,
             "ticks": ""
            },
            "colorscale": [
             [
              0,
              "#0d0887"
             ],
             [
              0.1111111111111111,
              "#46039f"
             ],
             [
              0.2222222222222222,
              "#7201a8"
             ],
             [
              0.3333333333333333,
              "#9c179e"
             ],
             [
              0.4444444444444444,
              "#bd3786"
             ],
             [
              0.5555555555555556,
              "#d8576b"
             ],
             [
              0.6666666666666666,
              "#ed7953"
             ],
             [
              0.7777777777777778,
              "#fb9f3a"
             ],
             [
              0.8888888888888888,
              "#fdca26"
             ],
             [
              1,
              "#f0f921"
             ]
            ],
            "type": "heatmapgl"
           }
          ],
          "histogram": [
           {
            "marker": {
             "pattern": {
              "fillmode": "overlay",
              "size": 10,
              "solidity": 0.2
             }
            },
            "type": "histogram"
           }
          ],
          "histogram2d": [
           {
            "colorbar": {
             "outlinewidth": 0,
             "ticks": ""
            },
            "colorscale": [
             [
              0,
              "#0d0887"
             ],
             [
              0.1111111111111111,
              "#46039f"
             ],
             [
              0.2222222222222222,
              "#7201a8"
             ],
             [
              0.3333333333333333,
              "#9c179e"
             ],
             [
              0.4444444444444444,
              "#bd3786"
             ],
             [
              0.5555555555555556,
              "#d8576b"
             ],
             [
              0.6666666666666666,
              "#ed7953"
             ],
             [
              0.7777777777777778,
              "#fb9f3a"
             ],
             [
              0.8888888888888888,
              "#fdca26"
             ],
             [
              1,
              "#f0f921"
             ]
            ],
            "type": "histogram2d"
           }
          ],
          "histogram2dcontour": [
           {
            "colorbar": {
             "outlinewidth": 0,
             "ticks": ""
            },
            "colorscale": [
             [
              0,
              "#0d0887"
             ],
             [
              0.1111111111111111,
              "#46039f"
             ],
             [
              0.2222222222222222,
              "#7201a8"
             ],
             [
              0.3333333333333333,
              "#9c179e"
             ],
             [
              0.4444444444444444,
              "#bd3786"
             ],
             [
              0.5555555555555556,
              "#d8576b"
             ],
             [
              0.6666666666666666,
              "#ed7953"
             ],
             [
              0.7777777777777778,
              "#fb9f3a"
             ],
             [
              0.8888888888888888,
              "#fdca26"
             ],
             [
              1,
              "#f0f921"
             ]
            ],
            "type": "histogram2dcontour"
           }
          ],
          "mesh3d": [
           {
            "colorbar": {
             "outlinewidth": 0,
             "ticks": ""
            },
            "type": "mesh3d"
           }
          ],
          "parcoords": [
           {
            "line": {
             "colorbar": {
              "outlinewidth": 0,
              "ticks": ""
             }
            },
            "type": "parcoords"
           }
          ],
          "pie": [
           {
            "automargin": true,
            "type": "pie"
           }
          ],
          "scatter": [
           {
            "fillpattern": {
             "fillmode": "overlay",
             "size": 10,
             "solidity": 0.2
            },
            "type": "scatter"
           }
          ],
          "scatter3d": [
           {
            "line": {
             "colorbar": {
              "outlinewidth": 0,
              "ticks": ""
             }
            },
            "marker": {
             "colorbar": {
              "outlinewidth": 0,
              "ticks": ""
             }
            },
            "type": "scatter3d"
           }
          ],
          "scattercarpet": [
           {
            "marker": {
             "colorbar": {
              "outlinewidth": 0,
              "ticks": ""
             }
            },
            "type": "scattercarpet"
           }
          ],
          "scattergeo": [
           {
            "marker": {
             "colorbar": {
              "outlinewidth": 0,
              "ticks": ""
             }
            },
            "type": "scattergeo"
           }
          ],
          "scattergl": [
           {
            "marker": {
             "colorbar": {
              "outlinewidth": 0,
              "ticks": ""
             }
            },
            "type": "scattergl"
           }
          ],
          "scattermapbox": [
           {
            "marker": {
             "colorbar": {
              "outlinewidth": 0,
              "ticks": ""
             }
            },
            "type": "scattermapbox"
           }
          ],
          "scatterpolar": [
           {
            "marker": {
             "colorbar": {
              "outlinewidth": 0,
              "ticks": ""
             }
            },
            "type": "scatterpolar"
           }
          ],
          "scatterpolargl": [
           {
            "marker": {
             "colorbar": {
              "outlinewidth": 0,
              "ticks": ""
             }
            },
            "type": "scatterpolargl"
           }
          ],
          "scatterternary": [
           {
            "marker": {
             "colorbar": {
              "outlinewidth": 0,
              "ticks": ""
             }
            },
            "type": "scatterternary"
           }
          ],
          "surface": [
           {
            "colorbar": {
             "outlinewidth": 0,
             "ticks": ""
            },
            "colorscale": [
             [
              0,
              "#0d0887"
             ],
             [
              0.1111111111111111,
              "#46039f"
             ],
             [
              0.2222222222222222,
              "#7201a8"
             ],
             [
              0.3333333333333333,
              "#9c179e"
             ],
             [
              0.4444444444444444,
              "#bd3786"
             ],
             [
              0.5555555555555556,
              "#d8576b"
             ],
             [
              0.6666666666666666,
              "#ed7953"
             ],
             [
              0.7777777777777778,
              "#fb9f3a"
             ],
             [
              0.8888888888888888,
              "#fdca26"
             ],
             [
              1,
              "#f0f921"
             ]
            ],
            "type": "surface"
           }
          ],
          "table": [
           {
            "cells": {
             "fill": {
              "color": "#EBF0F8"
             },
             "line": {
              "color": "white"
             }
            },
            "header": {
             "fill": {
              "color": "#C8D4E3"
             },
             "line": {
              "color": "white"
             }
            },
            "type": "table"
           }
          ]
         },
         "layout": {
          "annotationdefaults": {
           "arrowcolor": "#2a3f5f",
           "arrowhead": 0,
           "arrowwidth": 1
          },
          "autotypenumbers": "strict",
          "coloraxis": {
           "colorbar": {
            "outlinewidth": 0,
            "ticks": ""
           }
          },
          "colorscale": {
           "diverging": [
            [
             0,
             "#8e0152"
            ],
            [
             0.1,
             "#c51b7d"
            ],
            [
             0.2,
             "#de77ae"
            ],
            [
             0.3,
             "#f1b6da"
            ],
            [
             0.4,
             "#fde0ef"
            ],
            [
             0.5,
             "#f7f7f7"
            ],
            [
             0.6,
             "#e6f5d0"
            ],
            [
             0.7,
             "#b8e186"
            ],
            [
             0.8,
             "#7fbc41"
            ],
            [
             0.9,
             "#4d9221"
            ],
            [
             1,
             "#276419"
            ]
           ],
           "sequential": [
            [
             0,
             "#0d0887"
            ],
            [
             0.1111111111111111,
             "#46039f"
            ],
            [
             0.2222222222222222,
             "#7201a8"
            ],
            [
             0.3333333333333333,
             "#9c179e"
            ],
            [
             0.4444444444444444,
             "#bd3786"
            ],
            [
             0.5555555555555556,
             "#d8576b"
            ],
            [
             0.6666666666666666,
             "#ed7953"
            ],
            [
             0.7777777777777778,
             "#fb9f3a"
            ],
            [
             0.8888888888888888,
             "#fdca26"
            ],
            [
             1,
             "#f0f921"
            ]
           ],
           "sequentialminus": [
            [
             0,
             "#0d0887"
            ],
            [
             0.1111111111111111,
             "#46039f"
            ],
            [
             0.2222222222222222,
             "#7201a8"
            ],
            [
             0.3333333333333333,
             "#9c179e"
            ],
            [
             0.4444444444444444,
             "#bd3786"
            ],
            [
             0.5555555555555556,
             "#d8576b"
            ],
            [
             0.6666666666666666,
             "#ed7953"
            ],
            [
             0.7777777777777778,
             "#fb9f3a"
            ],
            [
             0.8888888888888888,
             "#fdca26"
            ],
            [
             1,
             "#f0f921"
            ]
           ]
          },
          "colorway": [
           "#636efa",
           "#EF553B",
           "#00cc96",
           "#ab63fa",
           "#FFA15A",
           "#19d3f3",
           "#FF6692",
           "#B6E880",
           "#FF97FF",
           "#FECB52"
          ],
          "font": {
           "color": "#2a3f5f"
          },
          "geo": {
           "bgcolor": "white",
           "lakecolor": "white",
           "landcolor": "#E5ECF6",
           "showlakes": true,
           "showland": true,
           "subunitcolor": "white"
          },
          "hoverlabel": {
           "align": "left"
          },
          "hovermode": "closest",
          "mapbox": {
           "style": "light"
          },
          "paper_bgcolor": "white",
          "plot_bgcolor": "#E5ECF6",
          "polar": {
           "angularaxis": {
            "gridcolor": "white",
            "linecolor": "white",
            "ticks": ""
           },
           "bgcolor": "#E5ECF6",
           "radialaxis": {
            "gridcolor": "white",
            "linecolor": "white",
            "ticks": ""
           }
          },
          "scene": {
           "xaxis": {
            "backgroundcolor": "#E5ECF6",
            "gridcolor": "white",
            "gridwidth": 2,
            "linecolor": "white",
            "showbackground": true,
            "ticks": "",
            "zerolinecolor": "white"
           },
           "yaxis": {
            "backgroundcolor": "#E5ECF6",
            "gridcolor": "white",
            "gridwidth": 2,
            "linecolor": "white",
            "showbackground": true,
            "ticks": "",
            "zerolinecolor": "white"
           },
           "zaxis": {
            "backgroundcolor": "#E5ECF6",
            "gridcolor": "white",
            "gridwidth": 2,
            "linecolor": "white",
            "showbackground": true,
            "ticks": "",
            "zerolinecolor": "white"
           }
          },
          "shapedefaults": {
           "line": {
            "color": "#2a3f5f"
           }
          },
          "ternary": {
           "aaxis": {
            "gridcolor": "white",
            "linecolor": "white",
            "ticks": ""
           },
           "baxis": {
            "gridcolor": "white",
            "linecolor": "white",
            "ticks": ""
           },
           "bgcolor": "#E5ECF6",
           "caxis": {
            "gridcolor": "white",
            "linecolor": "white",
            "ticks": ""
           }
          },
          "title": {
           "x": 0.05
          },
          "xaxis": {
           "automargin": true,
           "gridcolor": "white",
           "linecolor": "white",
           "ticks": "",
           "title": {
            "standoff": 15
           },
           "zerolinecolor": "white",
           "zerolinewidth": 2
          },
          "yaxis": {
           "automargin": true,
           "gridcolor": "white",
           "linecolor": "white",
           "ticks": "",
           "title": {
            "standoff": 15
           },
           "zerolinecolor": "white",
           "zerolinewidth": 2
          }
         }
        },
        "title": {
         "text": "平均佔領攻擊點所需時間(分鐘) <br><sup>佔領攻擊點的時間差距</sup>",
         "x": 0.5
        },
        "width": 800,
        "xaxis": {
         "anchor": "y",
         "categoryarray": [
          "南葵中心3隊",
          "石蔭中心隊",
          "南葵中心1隊",
          "南葵中心2隊",
          "南葵中心4隊",
          "上環/將軍澳中心隊",
          "上環中心隊",
          "南區中心1隊"
         ],
         "categoryorder": "array",
         "domain": [
          0,
          1
         ],
         "title": {
          "text": "隊伍"
         }
        },
        "yaxis": {
         "anchor": "x",
         "domain": [
          0,
          1
         ],
         "title": {
          "text": "佔領時長"
         }
        }
       }
      }
     },
     "metadata": {},
     "output_type": "display_data"
    }
   ],
   "source": [
    "fig = px.bar(\n",
    "    logs_with_duration.group_by('user_name').agg(pl.mean('duration')).sort('duration'),\n",
    "    x='user_name', \n",
    "    y='duration', \n",
    "    labels={\n",
    "        'user_name': \"隊伍\",\n",
    "        'duration': \"佔領時長\"\n",
    "    }, \n",
    "    color='user_name', \n",
    "    color_discrete_map=color_discrete_map, \n",
    "    text_auto='.0f',\n",
    "    width=800,\n",
    ")\n",
    "\n",
    "fig.update_traces(textfont_size=12, textangle=0, textposition=\"outside\", cliponaxis=False)\n",
    "fig.update_layout(title_text='平均佔領攻擊點所需時間(分鐘) <br><sup>佔領攻擊點的時間差距</sup>', title_x=0.5)\n",
    "\n",
    "fig.show()"
   ]
  },
  {
   "cell_type": "code",
   "execution_count": 35,
   "metadata": {},
   "outputs": [
    {
     "data": {
      "application/vnd.plotly.v1+json": {
       "config": {
        "plotlyServerURL": "https://plot.ly"
       },
       "data": [
        {
         "hovertemplate": "user_name=南葵中心3隊<br>佔領時長=%{x}<br>分數=%{y}<extra></extra>",
         "legendgroup": "南葵中心3隊",
         "marker": {
          "color": "#ea3323",
          "symbol": "circle"
         },
         "mode": "markers",
         "name": "南葵中心3隊",
         "orientation": "v",
         "showlegend": true,
         "type": "scatter",
         "x": [
          2.8915473684210524
         ],
         "xaxis": "x",
         "y": [
          55591.4140625
         ],
         "yaxis": "y"
        },
        {
         "hovertemplate": "user_name=南葵中心4隊<br>佔領時長=%{x}<br>分數=%{y}<extra></extra>",
         "legendgroup": "南葵中心4隊",
         "marker": {
          "color": "#ff8b00",
          "symbol": "circle"
         },
         "mode": "markers",
         "name": "南葵中心4隊",
         "orientation": "v",
         "showlegend": true,
         "type": "scatter",
         "x": [
          6.367927777777777
         ],
         "xaxis": "x",
         "y": [
          44894.796875
         ],
         "yaxis": "y"
        },
        {
         "hovertemplate": "user_name=上環/將軍澳中心隊<br>佔領時長=%{x}<br>分數=%{y}<extra></extra>",
         "legendgroup": "上環/將軍澳中心隊",
         "marker": {
          "color": "#febb26",
          "symbol": "circle"
         },
         "mode": "markers",
         "name": "上環/將軍澳中心隊",
         "orientation": "v",
         "showlegend": true,
         "type": "scatter",
         "x": [
          7.412096296296296
         ],
         "xaxis": "x",
         "y": [
          15474.4443359375
         ],
         "yaxis": "y"
        },
        {
         "hovertemplate": "user_name=南葵中心2隊<br>佔領時長=%{x}<br>分數=%{y}<extra></extra>",
         "legendgroup": "南葵中心2隊",
         "marker": {
          "color": "#17873f",
          "symbol": "circle"
         },
         "mode": "markers",
         "name": "南葵中心2隊",
         "orientation": "v",
         "showlegend": true,
         "type": "scatter",
         "x": [
          4.260761904761905
         ],
         "xaxis": "x",
         "y": [
          15448.828125
         ],
         "yaxis": "y"
        },
        {
         "hovertemplate": "user_name=南葵中心1隊<br>佔領時長=%{x}<br>分數=%{y}<extra></extra>",
         "legendgroup": "南葵中心1隊",
         "marker": {
          "color": "#25dc67",
          "symbol": "circle"
         },
         "mode": "markers",
         "name": "南葵中心1隊",
         "orientation": "v",
         "showlegend": true,
         "type": "scatter",
         "x": [
          4.176316666666666
         ],
         "xaxis": "x",
         "y": [
          10107.5458984375
         ],
         "yaxis": "y"
        },
        {
         "hovertemplate": "user_name=南區中心1隊<br>佔領時長=%{x}<br>分數=%{y}<extra></extra>",
         "legendgroup": "南區中心1隊",
         "marker": {
          "color": "#4f7af9",
          "symbol": "circle"
         },
         "mode": "markers",
         "name": "南區中心1隊",
         "orientation": "v",
         "showlegend": true,
         "type": "scatter",
         "x": [
          20.793233333333333
         ],
         "xaxis": "x",
         "y": [
          8818.41796875
         ],
         "yaxis": "y"
        },
        {
         "hovertemplate": "user_name=上環中心隊<br>佔領時長=%{x}<br>分數=%{y}<extra></extra>",
         "legendgroup": "上環中心隊",
         "marker": {
          "color": "#9c78fe",
          "symbol": "circle"
         },
         "mode": "markers",
         "name": "上環中心隊",
         "orientation": "v",
         "showlegend": true,
         "type": "scatter",
         "x": [
          11.234441666666667
         ],
         "xaxis": "x",
         "y": [
          6006.6171875
         ],
         "yaxis": "y"
        },
        {
         "hovertemplate": "user_name=石蔭中心隊<br>佔領時長=%{x}<br>分數=%{y}<extra></extra>",
         "legendgroup": "石蔭中心隊",
         "marker": {
          "color": "#ffccdd",
          "symbol": "circle"
         },
         "mode": "markers",
         "name": "石蔭中心隊",
         "orientation": "v",
         "showlegend": true,
         "type": "scatter",
         "x": [
          3.822197435897436
         ],
         "xaxis": "x",
         "y": [
          2116.935791015625
         ],
         "yaxis": "y"
        }
       ],
       "layout": {
        "height": 500,
        "legend": {
         "title": {
          "text": "user_name"
         },
         "tracegroupgap": 0
        },
        "margin": {
         "t": 60
        },
        "template": {
         "data": {
          "bar": [
           {
            "error_x": {
             "color": "#2a3f5f"
            },
            "error_y": {
             "color": "#2a3f5f"
            },
            "marker": {
             "line": {
              "color": "#E5ECF6",
              "width": 0.5
             },
             "pattern": {
              "fillmode": "overlay",
              "size": 10,
              "solidity": 0.2
             }
            },
            "type": "bar"
           }
          ],
          "barpolar": [
           {
            "marker": {
             "line": {
              "color": "#E5ECF6",
              "width": 0.5
             },
             "pattern": {
              "fillmode": "overlay",
              "size": 10,
              "solidity": 0.2
             }
            },
            "type": "barpolar"
           }
          ],
          "carpet": [
           {
            "aaxis": {
             "endlinecolor": "#2a3f5f",
             "gridcolor": "white",
             "linecolor": "white",
             "minorgridcolor": "white",
             "startlinecolor": "#2a3f5f"
            },
            "baxis": {
             "endlinecolor": "#2a3f5f",
             "gridcolor": "white",
             "linecolor": "white",
             "minorgridcolor": "white",
             "startlinecolor": "#2a3f5f"
            },
            "type": "carpet"
           }
          ],
          "choropleth": [
           {
            "colorbar": {
             "outlinewidth": 0,
             "ticks": ""
            },
            "type": "choropleth"
           }
          ],
          "contour": [
           {
            "colorbar": {
             "outlinewidth": 0,
             "ticks": ""
            },
            "colorscale": [
             [
              0,
              "#0d0887"
             ],
             [
              0.1111111111111111,
              "#46039f"
             ],
             [
              0.2222222222222222,
              "#7201a8"
             ],
             [
              0.3333333333333333,
              "#9c179e"
             ],
             [
              0.4444444444444444,
              "#bd3786"
             ],
             [
              0.5555555555555556,
              "#d8576b"
             ],
             [
              0.6666666666666666,
              "#ed7953"
             ],
             [
              0.7777777777777778,
              "#fb9f3a"
             ],
             [
              0.8888888888888888,
              "#fdca26"
             ],
             [
              1,
              "#f0f921"
             ]
            ],
            "type": "contour"
           }
          ],
          "contourcarpet": [
           {
            "colorbar": {
             "outlinewidth": 0,
             "ticks": ""
            },
            "type": "contourcarpet"
           }
          ],
          "heatmap": [
           {
            "colorbar": {
             "outlinewidth": 0,
             "ticks": ""
            },
            "colorscale": [
             [
              0,
              "#0d0887"
             ],
             [
              0.1111111111111111,
              "#46039f"
             ],
             [
              0.2222222222222222,
              "#7201a8"
             ],
             [
              0.3333333333333333,
              "#9c179e"
             ],
             [
              0.4444444444444444,
              "#bd3786"
             ],
             [
              0.5555555555555556,
              "#d8576b"
             ],
             [
              0.6666666666666666,
              "#ed7953"
             ],
             [
              0.7777777777777778,
              "#fb9f3a"
             ],
             [
              0.8888888888888888,
              "#fdca26"
             ],
             [
              1,
              "#f0f921"
             ]
            ],
            "type": "heatmap"
           }
          ],
          "heatmapgl": [
           {
            "colorbar": {
             "outlinewidth": 0,
             "ticks": ""
            },
            "colorscale": [
             [
              0,
              "#0d0887"
             ],
             [
              0.1111111111111111,
              "#46039f"
             ],
             [
              0.2222222222222222,
              "#7201a8"
             ],
             [
              0.3333333333333333,
              "#9c179e"
             ],
             [
              0.4444444444444444,
              "#bd3786"
             ],
             [
              0.5555555555555556,
              "#d8576b"
             ],
             [
              0.6666666666666666,
              "#ed7953"
             ],
             [
              0.7777777777777778,
              "#fb9f3a"
             ],
             [
              0.8888888888888888,
              "#fdca26"
             ],
             [
              1,
              "#f0f921"
             ]
            ],
            "type": "heatmapgl"
           }
          ],
          "histogram": [
           {
            "marker": {
             "pattern": {
              "fillmode": "overlay",
              "size": 10,
              "solidity": 0.2
             }
            },
            "type": "histogram"
           }
          ],
          "histogram2d": [
           {
            "colorbar": {
             "outlinewidth": 0,
             "ticks": ""
            },
            "colorscale": [
             [
              0,
              "#0d0887"
             ],
             [
              0.1111111111111111,
              "#46039f"
             ],
             [
              0.2222222222222222,
              "#7201a8"
             ],
             [
              0.3333333333333333,
              "#9c179e"
             ],
             [
              0.4444444444444444,
              "#bd3786"
             ],
             [
              0.5555555555555556,
              "#d8576b"
             ],
             [
              0.6666666666666666,
              "#ed7953"
             ],
             [
              0.7777777777777778,
              "#fb9f3a"
             ],
             [
              0.8888888888888888,
              "#fdca26"
             ],
             [
              1,
              "#f0f921"
             ]
            ],
            "type": "histogram2d"
           }
          ],
          "histogram2dcontour": [
           {
            "colorbar": {
             "outlinewidth": 0,
             "ticks": ""
            },
            "colorscale": [
             [
              0,
              "#0d0887"
             ],
             [
              0.1111111111111111,
              "#46039f"
             ],
             [
              0.2222222222222222,
              "#7201a8"
             ],
             [
              0.3333333333333333,
              "#9c179e"
             ],
             [
              0.4444444444444444,
              "#bd3786"
             ],
             [
              0.5555555555555556,
              "#d8576b"
             ],
             [
              0.6666666666666666,
              "#ed7953"
             ],
             [
              0.7777777777777778,
              "#fb9f3a"
             ],
             [
              0.8888888888888888,
              "#fdca26"
             ],
             [
              1,
              "#f0f921"
             ]
            ],
            "type": "histogram2dcontour"
           }
          ],
          "mesh3d": [
           {
            "colorbar": {
             "outlinewidth": 0,
             "ticks": ""
            },
            "type": "mesh3d"
           }
          ],
          "parcoords": [
           {
            "line": {
             "colorbar": {
              "outlinewidth": 0,
              "ticks": ""
             }
            },
            "type": "parcoords"
           }
          ],
          "pie": [
           {
            "automargin": true,
            "type": "pie"
           }
          ],
          "scatter": [
           {
            "fillpattern": {
             "fillmode": "overlay",
             "size": 10,
             "solidity": 0.2
            },
            "type": "scatter"
           }
          ],
          "scatter3d": [
           {
            "line": {
             "colorbar": {
              "outlinewidth": 0,
              "ticks": ""
             }
            },
            "marker": {
             "colorbar": {
              "outlinewidth": 0,
              "ticks": ""
             }
            },
            "type": "scatter3d"
           }
          ],
          "scattercarpet": [
           {
            "marker": {
             "colorbar": {
              "outlinewidth": 0,
              "ticks": ""
             }
            },
            "type": "scattercarpet"
           }
          ],
          "scattergeo": [
           {
            "marker": {
             "colorbar": {
              "outlinewidth": 0,
              "ticks": ""
             }
            },
            "type": "scattergeo"
           }
          ],
          "scattergl": [
           {
            "marker": {
             "colorbar": {
              "outlinewidth": 0,
              "ticks": ""
             }
            },
            "type": "scattergl"
           }
          ],
          "scattermapbox": [
           {
            "marker": {
             "colorbar": {
              "outlinewidth": 0,
              "ticks": ""
             }
            },
            "type": "scattermapbox"
           }
          ],
          "scatterpolar": [
           {
            "marker": {
             "colorbar": {
              "outlinewidth": 0,
              "ticks": ""
             }
            },
            "type": "scatterpolar"
           }
          ],
          "scatterpolargl": [
           {
            "marker": {
             "colorbar": {
              "outlinewidth": 0,
              "ticks": ""
             }
            },
            "type": "scatterpolargl"
           }
          ],
          "scatterternary": [
           {
            "marker": {
             "colorbar": {
              "outlinewidth": 0,
              "ticks": ""
             }
            },
            "type": "scatterternary"
           }
          ],
          "surface": [
           {
            "colorbar": {
             "outlinewidth": 0,
             "ticks": ""
            },
            "colorscale": [
             [
              0,
              "#0d0887"
             ],
             [
              0.1111111111111111,
              "#46039f"
             ],
             [
              0.2222222222222222,
              "#7201a8"
             ],
             [
              0.3333333333333333,
              "#9c179e"
             ],
             [
              0.4444444444444444,
              "#bd3786"
             ],
             [
              0.5555555555555556,
              "#d8576b"
             ],
             [
              0.6666666666666666,
              "#ed7953"
             ],
             [
              0.7777777777777778,
              "#fb9f3a"
             ],
             [
              0.8888888888888888,
              "#fdca26"
             ],
             [
              1,
              "#f0f921"
             ]
            ],
            "type": "surface"
           }
          ],
          "table": [
           {
            "cells": {
             "fill": {
              "color": "#EBF0F8"
             },
             "line": {
              "color": "white"
             }
            },
            "header": {
             "fill": {
              "color": "#C8D4E3"
             },
             "line": {
              "color": "white"
             }
            },
            "type": "table"
           }
          ]
         },
         "layout": {
          "annotationdefaults": {
           "arrowcolor": "#2a3f5f",
           "arrowhead": 0,
           "arrowwidth": 1
          },
          "autotypenumbers": "strict",
          "coloraxis": {
           "colorbar": {
            "outlinewidth": 0,
            "ticks": ""
           }
          },
          "colorscale": {
           "diverging": [
            [
             0,
             "#8e0152"
            ],
            [
             0.1,
             "#c51b7d"
            ],
            [
             0.2,
             "#de77ae"
            ],
            [
             0.3,
             "#f1b6da"
            ],
            [
             0.4,
             "#fde0ef"
            ],
            [
             0.5,
             "#f7f7f7"
            ],
            [
             0.6,
             "#e6f5d0"
            ],
            [
             0.7,
             "#b8e186"
            ],
            [
             0.8,
             "#7fbc41"
            ],
            [
             0.9,
             "#4d9221"
            ],
            [
             1,
             "#276419"
            ]
           ],
           "sequential": [
            [
             0,
             "#0d0887"
            ],
            [
             0.1111111111111111,
             "#46039f"
            ],
            [
             0.2222222222222222,
             "#7201a8"
            ],
            [
             0.3333333333333333,
             "#9c179e"
            ],
            [
             0.4444444444444444,
             "#bd3786"
            ],
            [
             0.5555555555555556,
             "#d8576b"
            ],
            [
             0.6666666666666666,
             "#ed7953"
            ],
            [
             0.7777777777777778,
             "#fb9f3a"
            ],
            [
             0.8888888888888888,
             "#fdca26"
            ],
            [
             1,
             "#f0f921"
            ]
           ],
           "sequentialminus": [
            [
             0,
             "#0d0887"
            ],
            [
             0.1111111111111111,
             "#46039f"
            ],
            [
             0.2222222222222222,
             "#7201a8"
            ],
            [
             0.3333333333333333,
             "#9c179e"
            ],
            [
             0.4444444444444444,
             "#bd3786"
            ],
            [
             0.5555555555555556,
             "#d8576b"
            ],
            [
             0.6666666666666666,
             "#ed7953"
            ],
            [
             0.7777777777777778,
             "#fb9f3a"
            ],
            [
             0.8888888888888888,
             "#fdca26"
            ],
            [
             1,
             "#f0f921"
            ]
           ]
          },
          "colorway": [
           "#636efa",
           "#EF553B",
           "#00cc96",
           "#ab63fa",
           "#FFA15A",
           "#19d3f3",
           "#FF6692",
           "#B6E880",
           "#FF97FF",
           "#FECB52"
          ],
          "font": {
           "color": "#2a3f5f"
          },
          "geo": {
           "bgcolor": "white",
           "lakecolor": "white",
           "landcolor": "#E5ECF6",
           "showlakes": true,
           "showland": true,
           "subunitcolor": "white"
          },
          "hoverlabel": {
           "align": "left"
          },
          "hovermode": "closest",
          "mapbox": {
           "style": "light"
          },
          "paper_bgcolor": "white",
          "plot_bgcolor": "#E5ECF6",
          "polar": {
           "angularaxis": {
            "gridcolor": "white",
            "linecolor": "white",
            "ticks": ""
           },
           "bgcolor": "#E5ECF6",
           "radialaxis": {
            "gridcolor": "white",
            "linecolor": "white",
            "ticks": ""
           }
          },
          "scene": {
           "xaxis": {
            "backgroundcolor": "#E5ECF6",
            "gridcolor": "white",
            "gridwidth": 2,
            "linecolor": "white",
            "showbackground": true,
            "ticks": "",
            "zerolinecolor": "white"
           },
           "yaxis": {
            "backgroundcolor": "#E5ECF6",
            "gridcolor": "white",
            "gridwidth": 2,
            "linecolor": "white",
            "showbackground": true,
            "ticks": "",
            "zerolinecolor": "white"
           },
           "zaxis": {
            "backgroundcolor": "#E5ECF6",
            "gridcolor": "white",
            "gridwidth": 2,
            "linecolor": "white",
            "showbackground": true,
            "ticks": "",
            "zerolinecolor": "white"
           }
          },
          "shapedefaults": {
           "line": {
            "color": "#2a3f5f"
           }
          },
          "ternary": {
           "aaxis": {
            "gridcolor": "white",
            "linecolor": "white",
            "ticks": ""
           },
           "baxis": {
            "gridcolor": "white",
            "linecolor": "white",
            "ticks": ""
           },
           "bgcolor": "#E5ECF6",
           "caxis": {
            "gridcolor": "white",
            "linecolor": "white",
            "ticks": ""
           }
          },
          "title": {
           "x": 0.05
          },
          "xaxis": {
           "automargin": true,
           "gridcolor": "white",
           "linecolor": "white",
           "ticks": "",
           "title": {
            "standoff": 15
           },
           "zerolinecolor": "white",
           "zerolinewidth": 2
          },
          "yaxis": {
           "automargin": true,
           "gridcolor": "white",
           "linecolor": "white",
           "ticks": "",
           "title": {
            "standoff": 15
           },
           "zerolinecolor": "white",
           "zerolinewidth": 2
          }
         }
        },
        "title": {
         "text": "分數 和 佔領所需時間 的關係",
         "x": 0.5
        },
        "width": 600,
        "xaxis": {
         "anchor": "y",
         "domain": [
          0,
          1
         ],
         "title": {
          "text": "佔領時長"
         }
        },
        "yaxis": {
         "anchor": "x",
         "domain": [
          0,
          1
         ],
         "title": {
          "text": "分數"
         }
        }
       }
      }
     },
     "metadata": {},
     "output_type": "display_data"
    }
   ],
   "source": [
    "fig = px.scatter(\n",
    "    logs_with_duration.group_by('user_name').agg(pl.mean('duration')).sort('user_name').join(users_df, left_on='user_name', right_on=\"name\"), \n",
    "    x=\"duration\", \n",
    "    y=\"score\",\n",
    "    \n",
    "    labels={\n",
    "        'name': \"隊伍\",\n",
    "        'score': \"分數\",\n",
    "        'score_offset': \"分數\",\n",
    "        'total_captured': \"總佔領次數\",\n",
    "        'final_level': \"最終等級\",\n",
    "        'duration': \"佔領時長\"\n",
    "    }, \n",
    "    color='user_name', \n",
    "    color_discrete_map=color_discrete_map, \n",
    "    width=600,\n",
    "    height=500\n",
    ")\n",
    "\n",
    "\n",
    "fig.update_layout(title_text='分數 和 佔領所需時間 的關係', title_x=0.5)\n",
    "\n",
    "fig.show()"
   ]
  },
  {
   "cell_type": "code",
   "execution_count": 36,
   "metadata": {},
   "outputs": [
    {
     "data": {
      "application/vnd.plotly.v1+json": {
       "config": {
        "plotlyServerURL": "https://plot.ly"
       },
       "data": [
        {
         "alignmentgroup": "True",
         "cliponaxis": false,
         "hovertemplate": "隊伍=%{x}<br>時長=%{y}<extra></extra>",
         "legendgroup": "南區中心2隊",
         "marker": {
          "color": "#ffffff",
          "pattern": {
           "shape": ""
          }
         },
         "name": "南區中心2隊",
         "offsetgroup": "南區中心2隊",
         "orientation": "v",
         "showlegend": true,
         "textangle": 0,
         "textfont": {
          "size": 12
         },
         "textposition": "outside",
         "texttemplate": "%{y:.0f}",
         "type": "bar",
         "x": [
          "南區中心2隊"
         ],
         "xaxis": "x",
         "y": [
          0
         ],
         "yaxis": "y"
        },
        {
         "alignmentgroup": "True",
         "cliponaxis": false,
         "hovertemplate": "隊伍=%{x}<br>時長=%{y}<extra></extra>",
         "legendgroup": "上環中心隊",
         "marker": {
          "color": "#9c78fe",
          "pattern": {
           "shape": ""
          }
         },
         "name": "上環中心隊",
         "offsetgroup": "上環中心隊",
         "orientation": "v",
         "showlegend": true,
         "textangle": 0,
         "textfont": {
          "size": 12
         },
         "textposition": "outside",
         "texttemplate": "%{y:.0f}",
         "type": "bar",
         "x": [
          "上環中心隊"
         ],
         "xaxis": "x",
         "y": [
          13.976964950561523
         ],
         "yaxis": "y"
        },
        {
         "alignmentgroup": "True",
         "cliponaxis": false,
         "hovertemplate": "隊伍=%{x}<br>時長=%{y}<extra></extra>",
         "legendgroup": "南區中心1隊",
         "marker": {
          "color": "#4f7af9",
          "pattern": {
           "shape": ""
          }
         },
         "name": "南區中心1隊",
         "offsetgroup": "南區中心1隊",
         "orientation": "v",
         "showlegend": true,
         "textangle": 0,
         "textfont": {
          "size": 12
         },
         "textposition": "outside",
         "texttemplate": "%{y:.0f}",
         "type": "bar",
         "x": [
          "南區中心1隊"
         ],
         "xaxis": "x",
         "y": [
          29.394725799560547
         ],
         "yaxis": "y"
        },
        {
         "alignmentgroup": "True",
         "cliponaxis": false,
         "hovertemplate": "隊伍=%{x}<br>時長=%{y}<extra></extra>",
         "legendgroup": "南葵中心1隊",
         "marker": {
          "color": "#25dc67",
          "pattern": {
           "shape": ""
          }
         },
         "name": "南葵中心1隊",
         "offsetgroup": "南葵中心1隊",
         "orientation": "v",
         "showlegend": true,
         "textangle": 0,
         "textfont": {
          "size": 12
         },
         "textposition": "outside",
         "texttemplate": "%{y:.0f}",
         "type": "bar",
         "x": [
          "南葵中心1隊"
         ],
         "xaxis": "x",
         "y": [
          34.60663604736328
         ],
         "yaxis": "y"
        },
        {
         "alignmentgroup": "True",
         "cliponaxis": false,
         "hovertemplate": "隊伍=%{x}<br>時長=%{y}<extra></extra>",
         "legendgroup": "石蔭中心隊",
         "marker": {
          "color": "#ffccdd",
          "pattern": {
           "shape": ""
          }
         },
         "name": "石蔭中心隊",
         "offsetgroup": "石蔭中心隊",
         "orientation": "v",
         "showlegend": true,
         "textangle": 0,
         "textfont": {
          "size": 12
         },
         "textposition": "outside",
         "texttemplate": "%{y:.0f}",
         "type": "bar",
         "x": [
          "石蔭中心隊"
         ],
         "xaxis": "x",
         "y": [
          35.44995880126953
         ],
         "yaxis": "y"
        },
        {
         "alignmentgroup": "True",
         "cliponaxis": false,
         "hovertemplate": "隊伍=%{x}<br>時長=%{y}<extra></extra>",
         "legendgroup": "南葵中心3隊",
         "marker": {
          "color": "#ea3323",
          "pattern": {
           "shape": ""
          }
         },
         "name": "南葵中心3隊",
         "offsetgroup": "南葵中心3隊",
         "orientation": "v",
         "showlegend": true,
         "textangle": 0,
         "textfont": {
          "size": 12
         },
         "textposition": "outside",
         "texttemplate": "%{y:.0f}",
         "type": "bar",
         "x": [
          "南葵中心3隊"
         ],
         "xaxis": "x",
         "y": [
          40.943782806396484
         ],
         "yaxis": "y"
        },
        {
         "alignmentgroup": "True",
         "cliponaxis": false,
         "hovertemplate": "隊伍=%{x}<br>時長=%{y}<extra></extra>",
         "legendgroup": "南葵中心4隊",
         "marker": {
          "color": "#ff8b00",
          "pattern": {
           "shape": ""
          }
         },
         "name": "南葵中心4隊",
         "offsetgroup": "南葵中心4隊",
         "orientation": "v",
         "showlegend": true,
         "textangle": 0,
         "textfont": {
          "size": 12
         },
         "textposition": "outside",
         "texttemplate": "%{y:.0f}",
         "type": "bar",
         "x": [
          "南葵中心4隊"
         ],
         "xaxis": "x",
         "y": [
          49.383522033691406
         ],
         "yaxis": "y"
        },
        {
         "alignmentgroup": "True",
         "cliponaxis": false,
         "hovertemplate": "隊伍=%{x}<br>時長=%{y}<extra></extra>",
         "legendgroup": "南葵中心2隊",
         "marker": {
          "color": "#17873f",
          "pattern": {
           "shape": ""
          }
         },
         "name": "南葵中心2隊",
         "offsetgroup": "南葵中心2隊",
         "orientation": "v",
         "showlegend": true,
         "textangle": 0,
         "textfont": {
          "size": 12
         },
         "textposition": "outside",
         "texttemplate": "%{y:.0f}",
         "type": "bar",
         "x": [
          "南葵中心2隊"
         ],
         "xaxis": "x",
         "y": [
          51.595008850097656
         ],
         "yaxis": "y"
        },
        {
         "alignmentgroup": "True",
         "cliponaxis": false,
         "hovertemplate": "隊伍=%{x}<br>時長=%{y}<extra></extra>",
         "legendgroup": "上環/將軍澳中心隊",
         "marker": {
          "color": "#febb26",
          "pattern": {
           "shape": ""
          }
         },
         "name": "上環/將軍澳中心隊",
         "offsetgroup": "上環/將軍澳中心隊",
         "orientation": "v",
         "showlegend": true,
         "textangle": 0,
         "textfont": {
          "size": 12
         },
         "textposition": "outside",
         "texttemplate": "%{y:.0f}",
         "type": "bar",
         "x": [
          "上環/將軍澳中心隊"
         ],
         "xaxis": "x",
         "y": [
          61.95716857910156
         ],
         "yaxis": "y"
        }
       ],
       "layout": {
        "barmode": "relative",
        "legend": {
         "title": {
          "text": "隊伍"
         },
         "tracegroupgap": 0
        },
        "margin": {
         "t": 60
        },
        "template": {
         "data": {
          "bar": [
           {
            "error_x": {
             "color": "#2a3f5f"
            },
            "error_y": {
             "color": "#2a3f5f"
            },
            "marker": {
             "line": {
              "color": "#E5ECF6",
              "width": 0.5
             },
             "pattern": {
              "fillmode": "overlay",
              "size": 10,
              "solidity": 0.2
             }
            },
            "type": "bar"
           }
          ],
          "barpolar": [
           {
            "marker": {
             "line": {
              "color": "#E5ECF6",
              "width": 0.5
             },
             "pattern": {
              "fillmode": "overlay",
              "size": 10,
              "solidity": 0.2
             }
            },
            "type": "barpolar"
           }
          ],
          "carpet": [
           {
            "aaxis": {
             "endlinecolor": "#2a3f5f",
             "gridcolor": "white",
             "linecolor": "white",
             "minorgridcolor": "white",
             "startlinecolor": "#2a3f5f"
            },
            "baxis": {
             "endlinecolor": "#2a3f5f",
             "gridcolor": "white",
             "linecolor": "white",
             "minorgridcolor": "white",
             "startlinecolor": "#2a3f5f"
            },
            "type": "carpet"
           }
          ],
          "choropleth": [
           {
            "colorbar": {
             "outlinewidth": 0,
             "ticks": ""
            },
            "type": "choropleth"
           }
          ],
          "contour": [
           {
            "colorbar": {
             "outlinewidth": 0,
             "ticks": ""
            },
            "colorscale": [
             [
              0,
              "#0d0887"
             ],
             [
              0.1111111111111111,
              "#46039f"
             ],
             [
              0.2222222222222222,
              "#7201a8"
             ],
             [
              0.3333333333333333,
              "#9c179e"
             ],
             [
              0.4444444444444444,
              "#bd3786"
             ],
             [
              0.5555555555555556,
              "#d8576b"
             ],
             [
              0.6666666666666666,
              "#ed7953"
             ],
             [
              0.7777777777777778,
              "#fb9f3a"
             ],
             [
              0.8888888888888888,
              "#fdca26"
             ],
             [
              1,
              "#f0f921"
             ]
            ],
            "type": "contour"
           }
          ],
          "contourcarpet": [
           {
            "colorbar": {
             "outlinewidth": 0,
             "ticks": ""
            },
            "type": "contourcarpet"
           }
          ],
          "heatmap": [
           {
            "colorbar": {
             "outlinewidth": 0,
             "ticks": ""
            },
            "colorscale": [
             [
              0,
              "#0d0887"
             ],
             [
              0.1111111111111111,
              "#46039f"
             ],
             [
              0.2222222222222222,
              "#7201a8"
             ],
             [
              0.3333333333333333,
              "#9c179e"
             ],
             [
              0.4444444444444444,
              "#bd3786"
             ],
             [
              0.5555555555555556,
              "#d8576b"
             ],
             [
              0.6666666666666666,
              "#ed7953"
             ],
             [
              0.7777777777777778,
              "#fb9f3a"
             ],
             [
              0.8888888888888888,
              "#fdca26"
             ],
             [
              1,
              "#f0f921"
             ]
            ],
            "type": "heatmap"
           }
          ],
          "heatmapgl": [
           {
            "colorbar": {
             "outlinewidth": 0,
             "ticks": ""
            },
            "colorscale": [
             [
              0,
              "#0d0887"
             ],
             [
              0.1111111111111111,
              "#46039f"
             ],
             [
              0.2222222222222222,
              "#7201a8"
             ],
             [
              0.3333333333333333,
              "#9c179e"
             ],
             [
              0.4444444444444444,
              "#bd3786"
             ],
             [
              0.5555555555555556,
              "#d8576b"
             ],
             [
              0.6666666666666666,
              "#ed7953"
             ],
             [
              0.7777777777777778,
              "#fb9f3a"
             ],
             [
              0.8888888888888888,
              "#fdca26"
             ],
             [
              1,
              "#f0f921"
             ]
            ],
            "type": "heatmapgl"
           }
          ],
          "histogram": [
           {
            "marker": {
             "pattern": {
              "fillmode": "overlay",
              "size": 10,
              "solidity": 0.2
             }
            },
            "type": "histogram"
           }
          ],
          "histogram2d": [
           {
            "colorbar": {
             "outlinewidth": 0,
             "ticks": ""
            },
            "colorscale": [
             [
              0,
              "#0d0887"
             ],
             [
              0.1111111111111111,
              "#46039f"
             ],
             [
              0.2222222222222222,
              "#7201a8"
             ],
             [
              0.3333333333333333,
              "#9c179e"
             ],
             [
              0.4444444444444444,
              "#bd3786"
             ],
             [
              0.5555555555555556,
              "#d8576b"
             ],
             [
              0.6666666666666666,
              "#ed7953"
             ],
             [
              0.7777777777777778,
              "#fb9f3a"
             ],
             [
              0.8888888888888888,
              "#fdca26"
             ],
             [
              1,
              "#f0f921"
             ]
            ],
            "type": "histogram2d"
           }
          ],
          "histogram2dcontour": [
           {
            "colorbar": {
             "outlinewidth": 0,
             "ticks": ""
            },
            "colorscale": [
             [
              0,
              "#0d0887"
             ],
             [
              0.1111111111111111,
              "#46039f"
             ],
             [
              0.2222222222222222,
              "#7201a8"
             ],
             [
              0.3333333333333333,
              "#9c179e"
             ],
             [
              0.4444444444444444,
              "#bd3786"
             ],
             [
              0.5555555555555556,
              "#d8576b"
             ],
             [
              0.6666666666666666,
              "#ed7953"
             ],
             [
              0.7777777777777778,
              "#fb9f3a"
             ],
             [
              0.8888888888888888,
              "#fdca26"
             ],
             [
              1,
              "#f0f921"
             ]
            ],
            "type": "histogram2dcontour"
           }
          ],
          "mesh3d": [
           {
            "colorbar": {
             "outlinewidth": 0,
             "ticks": ""
            },
            "type": "mesh3d"
           }
          ],
          "parcoords": [
           {
            "line": {
             "colorbar": {
              "outlinewidth": 0,
              "ticks": ""
             }
            },
            "type": "parcoords"
           }
          ],
          "pie": [
           {
            "automargin": true,
            "type": "pie"
           }
          ],
          "scatter": [
           {
            "fillpattern": {
             "fillmode": "overlay",
             "size": 10,
             "solidity": 0.2
            },
            "type": "scatter"
           }
          ],
          "scatter3d": [
           {
            "line": {
             "colorbar": {
              "outlinewidth": 0,
              "ticks": ""
             }
            },
            "marker": {
             "colorbar": {
              "outlinewidth": 0,
              "ticks": ""
             }
            },
            "type": "scatter3d"
           }
          ],
          "scattercarpet": [
           {
            "marker": {
             "colorbar": {
              "outlinewidth": 0,
              "ticks": ""
             }
            },
            "type": "scattercarpet"
           }
          ],
          "scattergeo": [
           {
            "marker": {
             "colorbar": {
              "outlinewidth": 0,
              "ticks": ""
             }
            },
            "type": "scattergeo"
           }
          ],
          "scattergl": [
           {
            "marker": {
             "colorbar": {
              "outlinewidth": 0,
              "ticks": ""
             }
            },
            "type": "scattergl"
           }
          ],
          "scattermapbox": [
           {
            "marker": {
             "colorbar": {
              "outlinewidth": 0,
              "ticks": ""
             }
            },
            "type": "scattermapbox"
           }
          ],
          "scatterpolar": [
           {
            "marker": {
             "colorbar": {
              "outlinewidth": 0,
              "ticks": ""
             }
            },
            "type": "scatterpolar"
           }
          ],
          "scatterpolargl": [
           {
            "marker": {
             "colorbar": {
              "outlinewidth": 0,
              "ticks": ""
             }
            },
            "type": "scatterpolargl"
           }
          ],
          "scatterternary": [
           {
            "marker": {
             "colorbar": {
              "outlinewidth": 0,
              "ticks": ""
             }
            },
            "type": "scatterternary"
           }
          ],
          "surface": [
           {
            "colorbar": {
             "outlinewidth": 0,
             "ticks": ""
            },
            "colorscale": [
             [
              0,
              "#0d0887"
             ],
             [
              0.1111111111111111,
              "#46039f"
             ],
             [
              0.2222222222222222,
              "#7201a8"
             ],
             [
              0.3333333333333333,
              "#9c179e"
             ],
             [
              0.4444444444444444,
              "#bd3786"
             ],
             [
              0.5555555555555556,
              "#d8576b"
             ],
             [
              0.6666666666666666,
              "#ed7953"
             ],
             [
              0.7777777777777778,
              "#fb9f3a"
             ],
             [
              0.8888888888888888,
              "#fdca26"
             ],
             [
              1,
              "#f0f921"
             ]
            ],
            "type": "surface"
           }
          ],
          "table": [
           {
            "cells": {
             "fill": {
              "color": "#EBF0F8"
             },
             "line": {
              "color": "white"
             }
            },
            "header": {
             "fill": {
              "color": "#C8D4E3"
             },
             "line": {
              "color": "white"
             }
            },
            "type": "table"
           }
          ]
         },
         "layout": {
          "annotationdefaults": {
           "arrowcolor": "#2a3f5f",
           "arrowhead": 0,
           "arrowwidth": 1
          },
          "autotypenumbers": "strict",
          "coloraxis": {
           "colorbar": {
            "outlinewidth": 0,
            "ticks": ""
           }
          },
          "colorscale": {
           "diverging": [
            [
             0,
             "#8e0152"
            ],
            [
             0.1,
             "#c51b7d"
            ],
            [
             0.2,
             "#de77ae"
            ],
            [
             0.3,
             "#f1b6da"
            ],
            [
             0.4,
             "#fde0ef"
            ],
            [
             0.5,
             "#f7f7f7"
            ],
            [
             0.6,
             "#e6f5d0"
            ],
            [
             0.7,
             "#b8e186"
            ],
            [
             0.8,
             "#7fbc41"
            ],
            [
             0.9,
             "#4d9221"
            ],
            [
             1,
             "#276419"
            ]
           ],
           "sequential": [
            [
             0,
             "#0d0887"
            ],
            [
             0.1111111111111111,
             "#46039f"
            ],
            [
             0.2222222222222222,
             "#7201a8"
            ],
            [
             0.3333333333333333,
             "#9c179e"
            ],
            [
             0.4444444444444444,
             "#bd3786"
            ],
            [
             0.5555555555555556,
             "#d8576b"
            ],
            [
             0.6666666666666666,
             "#ed7953"
            ],
            [
             0.7777777777777778,
             "#fb9f3a"
            ],
            [
             0.8888888888888888,
             "#fdca26"
            ],
            [
             1,
             "#f0f921"
            ]
           ],
           "sequentialminus": [
            [
             0,
             "#0d0887"
            ],
            [
             0.1111111111111111,
             "#46039f"
            ],
            [
             0.2222222222222222,
             "#7201a8"
            ],
            [
             0.3333333333333333,
             "#9c179e"
            ],
            [
             0.4444444444444444,
             "#bd3786"
            ],
            [
             0.5555555555555556,
             "#d8576b"
            ],
            [
             0.6666666666666666,
             "#ed7953"
            ],
            [
             0.7777777777777778,
             "#fb9f3a"
            ],
            [
             0.8888888888888888,
             "#fdca26"
            ],
            [
             1,
             "#f0f921"
            ]
           ]
          },
          "colorway": [
           "#636efa",
           "#EF553B",
           "#00cc96",
           "#ab63fa",
           "#FFA15A",
           "#19d3f3",
           "#FF6692",
           "#B6E880",
           "#FF97FF",
           "#FECB52"
          ],
          "font": {
           "color": "#2a3f5f"
          },
          "geo": {
           "bgcolor": "white",
           "lakecolor": "white",
           "landcolor": "#E5ECF6",
           "showlakes": true,
           "showland": true,
           "subunitcolor": "white"
          },
          "hoverlabel": {
           "align": "left"
          },
          "hovermode": "closest",
          "mapbox": {
           "style": "light"
          },
          "paper_bgcolor": "white",
          "plot_bgcolor": "#E5ECF6",
          "polar": {
           "angularaxis": {
            "gridcolor": "white",
            "linecolor": "white",
            "ticks": ""
           },
           "bgcolor": "#E5ECF6",
           "radialaxis": {
            "gridcolor": "white",
            "linecolor": "white",
            "ticks": ""
           }
          },
          "scene": {
           "xaxis": {
            "backgroundcolor": "#E5ECF6",
            "gridcolor": "white",
            "gridwidth": 2,
            "linecolor": "white",
            "showbackground": true,
            "ticks": "",
            "zerolinecolor": "white"
           },
           "yaxis": {
            "backgroundcolor": "#E5ECF6",
            "gridcolor": "white",
            "gridwidth": 2,
            "linecolor": "white",
            "showbackground": true,
            "ticks": "",
            "zerolinecolor": "white"
           },
           "zaxis": {
            "backgroundcolor": "#E5ECF6",
            "gridcolor": "white",
            "gridwidth": 2,
            "linecolor": "white",
            "showbackground": true,
            "ticks": "",
            "zerolinecolor": "white"
           }
          },
          "shapedefaults": {
           "line": {
            "color": "#2a3f5f"
           }
          },
          "ternary": {
           "aaxis": {
            "gridcolor": "white",
            "linecolor": "white",
            "ticks": ""
           },
           "baxis": {
            "gridcolor": "white",
            "linecolor": "white",
            "ticks": ""
           },
           "bgcolor": "#E5ECF6",
           "caxis": {
            "gridcolor": "white",
            "linecolor": "white",
            "ticks": ""
           }
          },
          "title": {
           "x": 0.05
          },
          "xaxis": {
           "automargin": true,
           "gridcolor": "white",
           "linecolor": "white",
           "ticks": "",
           "title": {
            "standoff": 15
           },
           "zerolinecolor": "white",
           "zerolinewidth": 2
          },
          "yaxis": {
           "automargin": true,
           "gridcolor": "white",
           "linecolor": "white",
           "ticks": "",
           "title": {
            "standoff": 15
           },
           "zerolinecolor": "white",
           "zerolinewidth": 2
          }
         }
        },
        "title": {
         "text": "平均持有攻擊點時間",
         "x": 0.5
        },
        "width": 800,
        "xaxis": {
         "anchor": "y",
         "categoryarray": [
          "南區中心2隊",
          "上環中心隊",
          "南區中心1隊",
          "南葵中心1隊",
          "石蔭中心隊",
          "南葵中心3隊",
          "南葵中心4隊",
          "南葵中心2隊",
          "上環/將軍澳中心隊"
         ],
         "categoryorder": "array",
         "domain": [
          0,
          1
         ],
         "title": {
          "text": "隊伍"
         }
        },
        "yaxis": {
         "anchor": "x",
         "domain": [
          0,
          1
         ],
         "title": {
          "text": "時長"
         }
        }
       }
      }
     },
     "metadata": {},
     "output_type": "display_data"
    }
   ],
   "source": [
    "fig = px.bar(\n",
    "    users_df[['name', 'average_duration']].with_columns(pl.col('average_duration') / 60).sort('average_duration'),\n",
    "    x='name', \n",
    "    y='average_duration', \n",
    "    labels={\n",
    "        'name': \"隊伍\",\n",
    "        'average_duration': \"時長\"\n",
    "    }, \n",
    "    color='name', \n",
    "    color_discrete_map=color_discrete_map, \n",
    "    text_auto='.0f',\n",
    "    width=800,\n",
    ")\n",
    "\n",
    "fig.update_traces(textfont_size=12, textangle=0, textposition=\"outside\", cliponaxis=False)\n",
    "fig.update_layout(title_text='平均持有攻擊點時間', title_x=0.5)\n",
    "\n",
    "fig.show()"
   ]
  },
  {
   "cell_type": "code",
   "execution_count": 37,
   "metadata": {},
   "outputs": [
    {
     "data": {
      "text/html": [
       "<div><style>\n",
       ".dataframe > thead > tr,\n",
       ".dataframe > tbody > tr {\n",
       "  text-align: right;\n",
       "  white-space: pre-wrap;\n",
       "}\n",
       "</style>\n",
       "<small>shape: (9, 3)</small><table border=\"1\" class=\"dataframe\"><thead><tr><th>statistic</th><th>name</th><th>average_duration</th></tr><tr><td>str</td><td>str</td><td>f64</td></tr></thead><tbody><tr><td>&quot;count&quot;</td><td>&quot;9&quot;</td><td>9.0</td></tr><tr><td>&quot;null_count&quot;</td><td>&quot;0&quot;</td><td>0.0</td></tr><tr><td>&quot;mean&quot;</td><td>null</td><td>35.25642</td></tr><tr><td>&quot;std&quot;</td><td>null</td><td>19.178276</td></tr><tr><td>&quot;min&quot;</td><td>&quot;上環/將軍澳中心隊&quot;</td><td>0.0</td></tr><tr><td>&quot;25%&quot;</td><td>null</td><td>29.394726</td></tr><tr><td>&quot;50%&quot;</td><td>null</td><td>35.449959</td></tr><tr><td>&quot;75%&quot;</td><td>null</td><td>49.383522</td></tr><tr><td>&quot;max&quot;</td><td>&quot;石蔭中心隊&quot;</td><td>61.957169</td></tr></tbody></table></div>"
      ],
      "text/plain": [
       "shape: (9, 3)\n",
       "┌────────────┬───────────────────┬──────────────────┐\n",
       "│ statistic  ┆ name              ┆ average_duration │\n",
       "│ ---        ┆ ---               ┆ ---              │\n",
       "│ str        ┆ str               ┆ f64              │\n",
       "╞════════════╪═══════════════════╪══════════════════╡\n",
       "│ count      ┆ 9                 ┆ 9.0              │\n",
       "│ null_count ┆ 0                 ┆ 0.0              │\n",
       "│ mean       ┆ null              ┆ 35.25642         │\n",
       "│ std        ┆ null              ┆ 19.178276        │\n",
       "│ min        ┆ 上環/將軍澳中心隊 ┆ 0.0              │\n",
       "│ 25%        ┆ null              ┆ 29.394726        │\n",
       "│ 50%        ┆ null              ┆ 35.449959        │\n",
       "│ 75%        ┆ null              ┆ 49.383522        │\n",
       "│ max        ┆ 石蔭中心隊        ┆ 61.957169        │\n",
       "└────────────┴───────────────────┴──────────────────┘"
      ]
     },
     "execution_count": 37,
     "metadata": {},
     "output_type": "execute_result"
    }
   ],
   "source": [
    "users_df[['name', 'average_duration']].with_columns(pl.col('average_duration') / 60).describe()"
   ]
  },
  {
   "cell_type": "code",
   "execution_count": 38,
   "metadata": {},
   "outputs": [
    {
     "data": {
      "text/html": [
       "<div><style>\n",
       ".dataframe > thead > tr,\n",
       ".dataframe > tbody > tr {\n",
       "  text-align: right;\n",
       "  white-space: pre-wrap;\n",
       "}\n",
       "</style>\n",
       "<small>shape: (117, 11)</small><table border=\"1\" class=\"dataframe\"><thead><tr><th>userId</th><th>userName</th><th>expiredAt</th><th>createdAt</th><th>level</th><th>pointId</th><th>pointName</th><th>isPublic</th><th>heroImage</th><th>long</th><th>lat</th></tr><tr><td>str</td><td>str</td><td>str</td><td>str</td><td>i64</td><td>str</td><td>str</td><td>bool</td><td>str</td><td>f64</td><td>f64</td></tr></thead><tbody><tr><td>&quot;sy1@example.com&quot;</td><td>&quot;石蔭中心隊&quot;</td><td>&quot;2024-08-02T20:23:05.036Z&quot;</td><td>&quot;2024-08-02T20:14:55.939Z&quot;</td><td>1</td><td>&quot;0gHiSX9dMHkVpffFR9RU&quot;</td><td>&quot;天水圍體育館&quot;</td><td>true</td><td>&quot;https://firebasestorage.google…</td><td>114.00674</td><td>22.454822</td></tr><tr><td>&quot;sy1@example.com&quot;</td><td>&quot;石蔭中心隊&quot;</td><td>&quot;2024-08-02T20:27:41.262Z&quot;</td><td>&quot;2024-08-02T20:18:47.636Z&quot;</td><td>1</td><td>&quot;Un4smPc0lSA8jpfvA5zJ&quot;</td><td>&quot;天水圍游泳池&quot;</td><td>true</td><td>&quot;https://firebasestorage.google…</td><td>114.006509</td><td>22.455719</td></tr><tr><td>&quot;skc-4@example.com&quot;</td><td>&quot;南葵中心4隊&quot;</td><td>&quot;2024-08-02T20:22:21.223Z&quot;</td><td>&quot;2024-08-02T20:19:06.128Z&quot;</td><td>1</td><td>&quot;xFldNrcu765eRZc2hrsn&quot;</td><td>&quot;聖葉理諾堂&quot;</td><td>true</td><td>&quot;https://firebasestorage.google…</td><td>114.001623</td><td>22.44961</td></tr><tr><td>&quot;skc-4@example.com&quot;</td><td>&quot;南葵中心4隊&quot;</td><td>&quot;2024-08-02T21:41:43.053Z&quot;</td><td>&quot;2024-08-02T20:20:21.384Z&quot;</td><td>1</td><td>&quot;yhDNSAU3ByPksCfmW3E3&quot;</td><td>&quot;天河路遊樂場涼亭&quot;</td><td>true</td><td>&quot;https://firebasestorage.google…</td><td>114.000367</td><td>22.449815</td></tr><tr><td>&quot;skc-1@example.com&quot;</td><td>&quot;南葵中心1隊&quot;</td><td>&quot;2024-08-02T21:07:15.858Z&quot;</td><td>&quot;2024-08-02T20:22:21.223Z&quot;</td><td>1</td><td>&quot;xFldNrcu765eRZc2hrsn&quot;</td><td>&quot;聖葉理諾堂&quot;</td><td>true</td><td>&quot;https://firebasestorage.google…</td><td>114.001623</td><td>22.44961</td></tr><tr><td>&hellip;</td><td>&hellip;</td><td>&hellip;</td><td>&hellip;</td><td>&hellip;</td><td>&hellip;</td><td>&hellip;</td><td>&hellip;</td><td>&hellip;</td><td>&hellip;</td><td>&hellip;</td></tr><tr><td>&quot;sw-2@example.com&quot;</td><td>&quot;上環/將軍澳中心隊&quot;</td><td>&quot;2024-08-02T22:33:31.782Z&quot;</td><td>&quot;2024-08-02T22:15:26.468Z&quot;</td><td>3</td><td>&quot;rSnhF4HYEnTG98p9E7To&quot;</td><td>&quot;天水圍公園（西）&quot;</td><td>true</td><td>&quot;https://firebasestorage.google…</td><td>113.999815</td><td>22.455831</td></tr><tr><td>&quot;sw-1@example.com&quot;</td><td>&quot;上環中心隊&quot;</td><td>&quot;2024-08-02T22:33:31.782Z&quot;</td><td>&quot;2024-08-02T22:22:50.375Z&quot;</td><td>3</td><td>&quot;IeOJr7CsyHXad2DUL3n4&quot;</td><td>&quot;栢慧豪廷門口&quot;</td><td>true</td><td>&quot;https://firebasestorage.google…</td><td>114.001939</td><td>22.459445</td></tr><tr><td>&quot;sw-1@example.com&quot;</td><td>&quot;上環中心隊&quot;</td><td>&quot;2024-08-02T22:33:31.782Z&quot;</td><td>&quot;2024-08-02T22:26:55.806Z&quot;</td><td>3</td><td>&quot;YvzEAhiBhJrOstmGXoH3&quot;</td><td>&quot;天榮路東&quot;</td><td>true</td><td>&quot;https://firebasestorage.google…</td><td>114.001821</td><td>22.460974</td></tr><tr><td>&quot;sw-1@example.com&quot;</td><td>&quot;上環中心隊&quot;</td><td>&quot;2024-08-02T22:33:31.782Z&quot;</td><td>&quot;2024-08-02T22:35:06.177Z&quot;</td><td>3</td><td>&quot;Un4smPc0lSA8jpfvA5zJ&quot;</td><td>&quot;天水圍游泳池&quot;</td><td>true</td><td>&quot;https://firebasestorage.google…</td><td>114.006509</td><td>22.455719</td></tr><tr><td>&quot;sw-1@example.com&quot;</td><td>&quot;上環中心隊&quot;</td><td>&quot;2024-08-02T22:33:31.782Z&quot;</td><td>&quot;2024-08-02T22:37:37.693Z&quot;</td><td>3</td><td>&quot;0gHiSX9dMHkVpffFR9RU&quot;</td><td>&quot;天水圍體育館&quot;</td><td>true</td><td>&quot;https://firebasestorage.google…</td><td>114.00674</td><td>22.454822</td></tr></tbody></table></div>"
      ],
      "text/plain": [
       "shape: (117, 11)\n",
       "┌───────────┬───────────┬───────────┬───────────┬───┬──────────┬───────────┬───────────┬───────────┐\n",
       "│ userId    ┆ userName  ┆ expiredAt ┆ createdAt ┆ … ┆ isPublic ┆ heroImage ┆ long      ┆ lat       │\n",
       "│ ---       ┆ ---       ┆ ---       ┆ ---       ┆   ┆ ---      ┆ ---       ┆ ---       ┆ ---       │\n",
       "│ str       ┆ str       ┆ str       ┆ str       ┆   ┆ bool     ┆ str       ┆ f64       ┆ f64       │\n",
       "╞═══════════╪═══════════╪═══════════╪═══════════╪═══╪══════════╪═══════════╪═══════════╪═══════════╡\n",
       "│ sy1@examp ┆ 石蔭中心  ┆ 2024-08-0 ┆ 2024-08-0 ┆ … ┆ true     ┆ https://f ┆ 114.00674 ┆ 22.454822 │\n",
       "│ le.com    ┆ 隊        ┆ 2T20:23:0 ┆ 2T20:14:5 ┆   ┆          ┆ irebasest ┆           ┆           │\n",
       "│           ┆           ┆ 5.036Z    ┆ 5.939Z    ┆   ┆          ┆ orage.goo ┆           ┆           │\n",
       "│           ┆           ┆           ┆           ┆   ┆          ┆ gle…      ┆           ┆           │\n",
       "│ sy1@examp ┆ 石蔭中心  ┆ 2024-08-0 ┆ 2024-08-0 ┆ … ┆ true     ┆ https://f ┆ 114.00650 ┆ 22.455719 │\n",
       "│ le.com    ┆ 隊        ┆ 2T20:27:4 ┆ 2T20:18:4 ┆   ┆          ┆ irebasest ┆ 9         ┆           │\n",
       "│           ┆           ┆ 1.262Z    ┆ 7.636Z    ┆   ┆          ┆ orage.goo ┆           ┆           │\n",
       "│           ┆           ┆           ┆           ┆   ┆          ┆ gle…      ┆           ┆           │\n",
       "│ skc-4@exa ┆ 南葵中心4 ┆ 2024-08-0 ┆ 2024-08-0 ┆ … ┆ true     ┆ https://f ┆ 114.00162 ┆ 22.44961  │\n",
       "│ mple.com  ┆ 隊        ┆ 2T20:22:2 ┆ 2T20:19:0 ┆   ┆          ┆ irebasest ┆ 3         ┆           │\n",
       "│           ┆           ┆ 1.223Z    ┆ 6.128Z    ┆   ┆          ┆ orage.goo ┆           ┆           │\n",
       "│           ┆           ┆           ┆           ┆   ┆          ┆ gle…      ┆           ┆           │\n",
       "│ skc-4@exa ┆ 南葵中心4 ┆ 2024-08-0 ┆ 2024-08-0 ┆ … ┆ true     ┆ https://f ┆ 114.00036 ┆ 22.449815 │\n",
       "│ mple.com  ┆ 隊        ┆ 2T21:41:4 ┆ 2T20:20:2 ┆   ┆          ┆ irebasest ┆ 7         ┆           │\n",
       "│           ┆           ┆ 3.053Z    ┆ 1.384Z    ┆   ┆          ┆ orage.goo ┆           ┆           │\n",
       "│           ┆           ┆           ┆           ┆   ┆          ┆ gle…      ┆           ┆           │\n",
       "│ skc-1@exa ┆ 南葵中心1 ┆ 2024-08-0 ┆ 2024-08-0 ┆ … ┆ true     ┆ https://f ┆ 114.00162 ┆ 22.44961  │\n",
       "│ mple.com  ┆ 隊        ┆ 2T21:07:1 ┆ 2T20:22:2 ┆   ┆          ┆ irebasest ┆ 3         ┆           │\n",
       "│           ┆           ┆ 5.858Z    ┆ 1.223Z    ┆   ┆          ┆ orage.goo ┆           ┆           │\n",
       "│           ┆           ┆           ┆           ┆   ┆          ┆ gle…      ┆           ┆           │\n",
       "│ …         ┆ …         ┆ …         ┆ …         ┆ … ┆ …        ┆ …         ┆ …         ┆ …         │\n",
       "│ sw-2@exam ┆ 上環/將軍 ┆ 2024-08-0 ┆ 2024-08-0 ┆ … ┆ true     ┆ https://f ┆ 113.99981 ┆ 22.455831 │\n",
       "│ ple.com   ┆ 澳中心隊  ┆ 2T22:33:3 ┆ 2T22:15:2 ┆   ┆          ┆ irebasest ┆ 5         ┆           │\n",
       "│           ┆           ┆ 1.782Z    ┆ 6.468Z    ┆   ┆          ┆ orage.goo ┆           ┆           │\n",
       "│           ┆           ┆           ┆           ┆   ┆          ┆ gle…      ┆           ┆           │\n",
       "│ sw-1@exam ┆ 上環中心  ┆ 2024-08-0 ┆ 2024-08-0 ┆ … ┆ true     ┆ https://f ┆ 114.00193 ┆ 22.459445 │\n",
       "│ ple.com   ┆ 隊        ┆ 2T22:33:3 ┆ 2T22:22:5 ┆   ┆          ┆ irebasest ┆ 9         ┆           │\n",
       "│           ┆           ┆ 1.782Z    ┆ 0.375Z    ┆   ┆          ┆ orage.goo ┆           ┆           │\n",
       "│           ┆           ┆           ┆           ┆   ┆          ┆ gle…      ┆           ┆           │\n",
       "│ sw-1@exam ┆ 上環中心  ┆ 2024-08-0 ┆ 2024-08-0 ┆ … ┆ true     ┆ https://f ┆ 114.00182 ┆ 22.460974 │\n",
       "│ ple.com   ┆ 隊        ┆ 2T22:33:3 ┆ 2T22:26:5 ┆   ┆          ┆ irebasest ┆ 1         ┆           │\n",
       "│           ┆           ┆ 1.782Z    ┆ 5.806Z    ┆   ┆          ┆ orage.goo ┆           ┆           │\n",
       "│           ┆           ┆           ┆           ┆   ┆          ┆ gle…      ┆           ┆           │\n",
       "│ sw-1@exam ┆ 上環中心  ┆ 2024-08-0 ┆ 2024-08-0 ┆ … ┆ true     ┆ https://f ┆ 114.00650 ┆ 22.455719 │\n",
       "│ ple.com   ┆ 隊        ┆ 2T22:33:3 ┆ 2T22:35:0 ┆   ┆          ┆ irebasest ┆ 9         ┆           │\n",
       "│           ┆           ┆ 1.782Z    ┆ 6.177Z    ┆   ┆          ┆ orage.goo ┆           ┆           │\n",
       "│           ┆           ┆           ┆           ┆   ┆          ┆ gle…      ┆           ┆           │\n",
       "│ sw-1@exam ┆ 上環中心  ┆ 2024-08-0 ┆ 2024-08-0 ┆ … ┆ true     ┆ https://f ┆ 114.00674 ┆ 22.454822 │\n",
       "│ ple.com   ┆ 隊        ┆ 2T22:33:3 ┆ 2T22:37:3 ┆   ┆          ┆ irebasest ┆           ┆           │\n",
       "│           ┆           ┆ 1.782Z    ┆ 7.693Z    ┆   ┆          ┆ orage.goo ┆           ┆           │\n",
       "│           ┆           ┆           ┆           ┆   ┆          ┆ gle…      ┆           ┆           │\n",
       "└───────────┴───────────┴───────────┴───────────┴───┴──────────┴───────────┴───────────┴───────────┘"
      ]
     },
     "execution_count": 38,
     "metadata": {},
     "output_type": "execute_result"
    }
   ],
   "source": [
    "user_captured_points_df = pl.DataFrame([y for x in users_df['capturedPoints'].to_list() for y in x])\n",
    "map_data = user_captured_points_df.join(points_df, left_on=\"pointName\", right_on=\"point\")\n",
    "map_data.sort('createdAt')\n",
    "\n",
    "\n",
    "    # mapbox_zoom=14,\n",
    "    # mapbox_center={\"lat\": 22.45873, \"lon\": 114.00217},"
   ]
  },
  {
   "cell_type": "code",
   "execution_count": 40,
   "metadata": {},
   "outputs": [
    {
     "name": "stderr",
     "output_type": "stream",
     "text": [
      "/var/folders/jw/hzz2wp3s7tq_30qpr57f65w40000gn/T/ipykernel_4310/61009926.py:23: ChronoFormatWarning:\n",
      "\n",
      "Detected the pattern `.%f` in the chrono format string. This pattern should not be used to parse values after a decimal point. Use `%.f` instead. See the full specification: https://docs.rs/chrono/latest/chrono/format/strftime\n",
      "\n",
      "/var/folders/jw/hzz2wp3s7tq_30qpr57f65w40000gn/T/ipykernel_4310/61009926.py:24: ChronoFormatWarning:\n",
      "\n",
      "Detected the pattern `.%f` in the chrono format string. This pattern should not be used to parse values after a decimal point. Use `%.f` instead. See the full specification: https://docs.rs/chrono/latest/chrono/format/strftime\n",
      "\n"
     ]
    },
    {
     "data": {
      "application/vnd.plotly.v1+json": {
       "config": {
        "plotlyServerURL": "https://plot.ly"
       },
       "data": [
        {
         "lat": [
          22.4548219
         ],
         "lon": [
          114.0067398
         ],
         "marker": {
          "color": [
           "#ffccdd"
          ],
          "size": 15
         },
         "mode": "markers",
         "name": "2024-08-02 20:14:55",
         "text": [
          "石蔭中心隊"
         ],
         "type": "scattermapbox"
        },
        {
         "lat": [
          22.4548219
         ],
         "lon": [
          114.0067398
         ],
         "marker": {
          "color": [
           "#ffccdd"
          ],
          "size": 15
         },
         "mode": "markers",
         "name": "2024-08-02 20:17:55",
         "text": [
          "石蔭中心隊"
         ],
         "type": "scattermapbox"
        },
        {
         "lat": [
          22.4496103,
          22.4498149,
          22.4548219,
          22.4557192
         ],
         "lon": [
          114.0016226,
          114.0003673,
          114.0067398,
          114.0065091
         ],
         "marker": {
          "color": [
           "#ff8b00",
           "#ff8b00",
           "#ffccdd",
           "#ffccdd"
          ],
          "size": 15
         },
         "mode": "markers",
         "name": "2024-08-02 20:20:55",
         "text": [
          "南葵中心4隊",
          "南葵中心4隊",
          "石蔭中心隊",
          "石蔭中心隊"
         ],
         "type": "scattermapbox"
        },
        {
         "lat": [
          22.4498149,
          22.4504396,
          22.4548219,
          22.4496103,
          22.4557192,
          22.4585023
         ],
         "lon": [
          114.0003673,
          113.9989511,
          114.0067398,
          114.0016226,
          114.0065091,
          114.0041463
         ],
         "marker": {
          "color": [
           "#ff8b00",
           "#ff8b00",
           "#febb26",
           "#25dc67",
           "#ffccdd",
           "#ffccdd"
          ],
          "size": 15
         },
         "mode": "markers",
         "name": "2024-08-02 20:23:55",
         "text": [
          "南葵中心4隊",
          "南葵中心4隊",
          "上環/將軍澳中心隊",
          "南葵中心1隊",
          "石蔭中心隊",
          "石蔭中心隊"
         ],
         "type": "scattermapbox"
        },
        {
         "lat": [
          22.4498149,
          22.4504396,
          22.4519834,
          22.4548219,
          22.4496103,
          22.4498149,
          22.4504396,
          22.4557192,
          22.4585023
         ],
         "lon": [
          114.0003673,
          113.9989511,
          113.998479,
          114.0067398,
          114.0016226,
          114.0003673,
          113.9989511,
          114.0065091,
          114.0041463
         ],
         "marker": {
          "color": [
           "#ff8b00",
           "#ff8b00",
           "#ff8b00",
           "#febb26",
           "#25dc67",
           "#25dc67",
           "#25dc67",
           "#ffccdd",
           "#ffccdd"
          ],
          "size": 15
         },
         "mode": "markers",
         "name": "2024-08-02 20:26:55",
         "text": [
          "南葵中心4隊",
          "南葵中心4隊",
          "南葵中心4隊",
          "上環/將軍澳中心隊",
          "南葵中心1隊",
          "南葵中心1隊",
          "南葵中心1隊",
          "石蔭中心隊",
          "石蔭中心隊"
         ],
         "type": "scattermapbox"
        },
        {
         "lat": [
          22.4504396,
          22.4519834,
          22.4498149,
          22.4504396,
          22.4519834,
          22.453213,
          22.4548219,
          22.4557192,
          22.4496103,
          22.4498149,
          22.4504396,
          22.449919,
          22.4585023,
          22.4615927
         ],
         "lon": [
          113.9989511,
          113.998479,
          114.0003673,
          113.9989511,
          113.998479,
          113.999273,
          114.0067398,
          114.0065091,
          114.0016226,
          114.0003673,
          113.9989511,
          113.9987955,
          114.0041463,
          114.0019359
         ],
         "marker": {
          "color": [
           "#ea3323",
           "#ea3323",
           "#ff8b00",
           "#ff8b00",
           "#ff8b00",
           "#ff8b00",
           "#febb26",
           "#febb26",
           "#25dc67",
           "#25dc67",
           "#25dc67",
           "#25dc67",
           "#ffccdd",
           "#ffccdd"
          ],
          "size": 15
         },
         "mode": "markers",
         "name": "2024-08-02 20:29:55",
         "text": [
          "南葵中心3隊",
          "南葵中心3隊",
          "南葵中心4隊",
          "南葵中心4隊",
          "南葵中心4隊",
          "南葵中心4隊",
          "上環/將軍澳中心隊",
          "上環/將軍澳中心隊",
          "南葵中心1隊",
          "南葵中心1隊",
          "南葵中心1隊",
          "南葵中心1隊",
          "石蔭中心隊",
          "石蔭中心隊"
         ],
         "type": "scattermapbox"
        },
        {
         "lat": [
          22.4504396,
          22.4519834,
          22.4498149,
          22.4504396,
          22.4519834,
          22.453213,
          22.4553992,
          22.4558306,
          22.4548219,
          22.4557192,
          22.4496103,
          22.4498149,
          22.4504396,
          22.449919,
          22.4585023,
          22.4615927
         ],
         "lon": [
          113.9989511,
          113.998479,
          114.0003673,
          113.9989511,
          113.998479,
          113.999273,
          113.9994186,
          113.9998148,
          114.0067398,
          114.0065091,
          114.0016226,
          114.0003673,
          113.9989511,
          113.9987955,
          114.0041463,
          114.0019359
         ],
         "marker": {
          "color": [
           "#ea3323",
           "#ea3323",
           "#ff8b00",
           "#ff8b00",
           "#ff8b00",
           "#ff8b00",
           "#ff8b00",
           "#ff8b00",
           "#febb26",
           "#febb26",
           "#25dc67",
           "#25dc67",
           "#25dc67",
           "#25dc67",
           "#ffccdd",
           "#ffccdd"
          ],
          "size": 15
         },
         "mode": "markers",
         "name": "2024-08-02 20:32:55",
         "text": [
          "南葵中心3隊",
          "南葵中心3隊",
          "南葵中心4隊",
          "南葵中心4隊",
          "南葵中心4隊",
          "南葵中心4隊",
          "南葵中心4隊",
          "南葵中心4隊",
          "上環/將軍澳中心隊",
          "上環/將軍澳中心隊",
          "南葵中心1隊",
          "南葵中心1隊",
          "南葵中心1隊",
          "南葵中心1隊",
          "石蔭中心隊",
          "石蔭中心隊"
         ],
         "type": "scattermapbox"
        },
        {
         "lat": [
          22.4504396,
          22.4519834,
          22.4570997,
          22.4498149,
          22.4504396,
          22.4519834,
          22.453213,
          22.4553992,
          22.4558306,
          22.4548219,
          22.4557192,
          22.4585023,
          22.4496103,
          22.4498149,
          22.4504396,
          22.449919,
          22.4558306,
          22.4553992,
          22.4615927,
          22.4620884
         ],
         "lon": [
          113.9989511,
          113.998479,
          113.9953417,
          114.0003673,
          113.9989511,
          113.998479,
          113.999273,
          113.9994186,
          113.9998148,
          114.0067398,
          114.0065091,
          114.0041463,
          114.0016226,
          114.0003673,
          113.9989511,
          113.9987955,
          113.9998148,
          113.9994186,
          114.0019359,
          114.0079821
         ],
         "marker": {
          "color": [
           "#ea3323",
           "#ea3323",
           "#ea3323",
           "#ff8b00",
           "#ff8b00",
           "#ff8b00",
           "#ff8b00",
           "#ff8b00",
           "#ff8b00",
           "#febb26",
           "#febb26",
           "#febb26",
           "#25dc67",
           "#25dc67",
           "#25dc67",
           "#25dc67",
           "#25dc67",
           "#25dc67",
           "#ffccdd",
           "#ffccdd"
          ],
          "size": 15
         },
         "mode": "markers",
         "name": "2024-08-02 20:35:55",
         "text": [
          "南葵中心3隊",
          "南葵中心3隊",
          "南葵中心3隊",
          "南葵中心4隊",
          "南葵中心4隊",
          "南葵中心4隊",
          "南葵中心4隊",
          "南葵中心4隊",
          "南葵中心4隊",
          "上環/將軍澳中心隊",
          "上環/將軍澳中心隊",
          "上環/將軍澳中心隊",
          "南葵中心1隊",
          "南葵中心1隊",
          "南葵中心1隊",
          "南葵中心1隊",
          "南葵中心1隊",
          "南葵中心1隊",
          "石蔭中心隊",
          "石蔭中心隊"
         ],
         "type": "scattermapbox"
        },
        {
         "lat": [
          22.4504396,
          22.4519834,
          22.4570997,
          22.4654579,
          22.4498149,
          22.4504396,
          22.4519834,
          22.453213,
          22.4553992,
          22.4558306,
          22.4548219,
          22.4557192,
          22.4585023,
          22.4496103,
          22.4498149,
          22.4504396,
          22.449919,
          22.4558306,
          22.4553992,
          22.4615927,
          22.4620884,
          22.4624534
         ],
         "lon": [
          113.9989511,
          113.998479,
          113.9953417,
          113.9959425,
          114.0003673,
          113.9989511,
          113.998479,
          113.999273,
          113.9994186,
          113.9998148,
          114.0067398,
          114.0065091,
          114.0041463,
          114.0016226,
          114.0003673,
          113.9989511,
          113.9987955,
          113.9998148,
          113.9994186,
          114.0019359,
          114.0079821,
          114.0079931
         ],
         "marker": {
          "color": [
           "#ea3323",
           "#ea3323",
           "#ea3323",
           "#ea3323",
           "#ff8b00",
           "#ff8b00",
           "#ff8b00",
           "#ff8b00",
           "#ff8b00",
           "#ff8b00",
           "#febb26",
           "#febb26",
           "#febb26",
           "#25dc67",
           "#25dc67",
           "#25dc67",
           "#25dc67",
           "#25dc67",
           "#25dc67",
           "#ffccdd",
           "#ffccdd",
           "#ffccdd"
          ],
          "size": 15
         },
         "mode": "markers",
         "name": "2024-08-02 20:38:55",
         "text": [
          "南葵中心3隊",
          "南葵中心3隊",
          "南葵中心3隊",
          "南葵中心3隊",
          "南葵中心4隊",
          "南葵中心4隊",
          "南葵中心4隊",
          "南葵中心4隊",
          "南葵中心4隊",
          "南葵中心4隊",
          "上環/將軍澳中心隊",
          "上環/將軍澳中心隊",
          "上環/將軍澳中心隊",
          "南葵中心1隊",
          "南葵中心1隊",
          "南葵中心1隊",
          "南葵中心1隊",
          "南葵中心1隊",
          "南葵中心1隊",
          "石蔭中心隊",
          "石蔭中心隊",
          "石蔭中心隊"
         ],
         "type": "scattermapbox"
        },
        {
         "lat": [
          22.4504396,
          22.4519834,
          22.4570997,
          22.4654579,
          22.4668716,
          22.4498149,
          22.4504396,
          22.4519834,
          22.453213,
          22.4553992,
          22.4558306,
          22.4548219,
          22.4557192,
          22.4585023,
          22.4496103,
          22.4498149,
          22.4504396,
          22.449919,
          22.4558306,
          22.4553992,
          22.4615927,
          22.4620884,
          22.4624534,
          22.465724
         ],
         "lon": [
          113.9989511,
          113.998479,
          113.9953417,
          113.9959425,
          113.9961331,
          114.0003673,
          113.9989511,
          113.998479,
          113.999273,
          113.9994186,
          113.9998148,
          114.0067398,
          114.0065091,
          114.0041463,
          114.0016226,
          114.0003673,
          113.9989511,
          113.9987955,
          113.9998148,
          113.9994186,
          114.0019359,
          114.0079821,
          114.0079931,
          114.0050474
         ],
         "marker": {
          "color": [
           "#ea3323",
           "#ea3323",
           "#ea3323",
           "#ea3323",
           "#ea3323",
           "#ff8b00",
           "#ff8b00",
           "#ff8b00",
           "#ff8b00",
           "#ff8b00",
           "#ff8b00",
           "#febb26",
           "#febb26",
           "#febb26",
           "#25dc67",
           "#25dc67",
           "#25dc67",
           "#25dc67",
           "#25dc67",
           "#25dc67",
           "#ffccdd",
           "#ffccdd",
           "#ffccdd",
           "#ffccdd"
          ],
          "size": 15
         },
         "mode": "markers",
         "name": "2024-08-02 20:41:55",
         "text": [
          "南葵中心3隊",
          "南葵中心3隊",
          "南葵中心3隊",
          "南葵中心3隊",
          "南葵中心3隊",
          "南葵中心4隊",
          "南葵中心4隊",
          "南葵中心4隊",
          "南葵中心4隊",
          "南葵中心4隊",
          "南葵中心4隊",
          "上環/將軍澳中心隊",
          "上環/將軍澳中心隊",
          "上環/將軍澳中心隊",
          "南葵中心1隊",
          "南葵中心1隊",
          "南葵中心1隊",
          "南葵中心1隊",
          "南葵中心1隊",
          "南葵中心1隊",
          "石蔭中心隊",
          "石蔭中心隊",
          "石蔭中心隊",
          "石蔭中心隊"
         ],
         "type": "scattermapbox"
        },
        {
         "lat": [
          22.4504396,
          22.4519834,
          22.4570997,
          22.4654579,
          22.4668716,
          22.4660231,
          22.4498149,
          22.4504396,
          22.4519834,
          22.453213,
          22.4553992,
          22.4558306,
          22.4548219,
          22.4557192,
          22.4585023,
          22.4496103,
          22.4498149,
          22.4504396,
          22.449919,
          22.4558306,
          22.4553992,
          22.4615927,
          22.4620884,
          22.4624534,
          22.465724
         ],
         "lon": [
          113.9989511,
          113.998479,
          113.9953417,
          113.9959425,
          113.9961331,
          113.9981634,
          114.0003673,
          113.9989511,
          113.998479,
          113.999273,
          113.9994186,
          113.9998148,
          114.0067398,
          114.0065091,
          114.0041463,
          114.0016226,
          114.0003673,
          113.9989511,
          113.9987955,
          113.9998148,
          113.9994186,
          114.0019359,
          114.0079821,
          114.0079931,
          114.0050474
         ],
         "marker": {
          "color": [
           "#ea3323",
           "#ea3323",
           "#ea3323",
           "#ea3323",
           "#ea3323",
           "#ea3323",
           "#ff8b00",
           "#ff8b00",
           "#ff8b00",
           "#ff8b00",
           "#ff8b00",
           "#ff8b00",
           "#febb26",
           "#febb26",
           "#febb26",
           "#25dc67",
           "#25dc67",
           "#25dc67",
           "#25dc67",
           "#25dc67",
           "#25dc67",
           "#ffccdd",
           "#ffccdd",
           "#ffccdd",
           "#ffccdd"
          ],
          "size": 15
         },
         "mode": "markers",
         "name": "2024-08-02 20:44:55",
         "text": [
          "南葵中心3隊",
          "南葵中心3隊",
          "南葵中心3隊",
          "南葵中心3隊",
          "南葵中心3隊",
          "南葵中心3隊",
          "南葵中心4隊",
          "南葵中心4隊",
          "南葵中心4隊",
          "南葵中心4隊",
          "南葵中心4隊",
          "南葵中心4隊",
          "上環/將軍澳中心隊",
          "上環/將軍澳中心隊",
          "上環/將軍澳中心隊",
          "南葵中心1隊",
          "南葵中心1隊",
          "南葵中心1隊",
          "南葵中心1隊",
          "南葵中心1隊",
          "南葵中心1隊",
          "石蔭中心隊",
          "石蔭中心隊",
          "石蔭中心隊",
          "石蔭中心隊"
         ],
         "type": "scattermapbox"
        },
        {
         "lat": [
          22.4504396,
          22.4519834,
          22.4570997,
          22.4654579,
          22.4668716,
          22.4660231,
          22.4498149,
          22.4504396,
          22.4519834,
          22.453213,
          22.4553992,
          22.4558306,
          22.4548219,
          22.4557192,
          22.4585023,
          22.4496103,
          22.4498149,
          22.4504396,
          22.449919,
          22.4558306,
          22.4553992,
          22.4607686,
          22.4615927,
          22.4620884,
          22.4624534,
          22.465724,
          22.4665215
         ],
         "lon": [
          113.9989511,
          113.998479,
          113.9953417,
          113.9959425,
          113.9961331,
          113.9981634,
          114.0003673,
          113.9989511,
          113.998479,
          113.999273,
          113.9994186,
          113.9998148,
          114.0067398,
          114.0065091,
          114.0041463,
          114.0016226,
          114.0003673,
          113.9989511,
          113.9987955,
          113.9998148,
          113.9994186,
          113.9967442,
          114.0019359,
          114.0079821,
          114.0079931,
          114.0050474,
          114.005496
         ],
         "marker": {
          "color": [
           "#ea3323",
           "#ea3323",
           "#ea3323",
           "#ea3323",
           "#ea3323",
           "#ea3323",
           "#ff8b00",
           "#ff8b00",
           "#ff8b00",
           "#ff8b00",
           "#ff8b00",
           "#ff8b00",
           "#febb26",
           "#febb26",
           "#febb26",
           "#25dc67",
           "#25dc67",
           "#25dc67",
           "#25dc67",
           "#25dc67",
           "#25dc67",
           "#25dc67",
           "#ffccdd",
           "#ffccdd",
           "#ffccdd",
           "#ffccdd",
           "#ffccdd"
          ],
          "size": 15
         },
         "mode": "markers",
         "name": "2024-08-02 20:47:55",
         "text": [
          "南葵中心3隊",
          "南葵中心3隊",
          "南葵中心3隊",
          "南葵中心3隊",
          "南葵中心3隊",
          "南葵中心3隊",
          "南葵中心4隊",
          "南葵中心4隊",
          "南葵中心4隊",
          "南葵中心4隊",
          "南葵中心4隊",
          "南葵中心4隊",
          "上環/將軍澳中心隊",
          "上環/將軍澳中心隊",
          "上環/將軍澳中心隊",
          "南葵中心1隊",
          "南葵中心1隊",
          "南葵中心1隊",
          "南葵中心1隊",
          "南葵中心1隊",
          "南葵中心1隊",
          "南葵中心1隊",
          "石蔭中心隊",
          "石蔭中心隊",
          "石蔭中心隊",
          "石蔭中心隊",
          "石蔭中心隊"
         ],
         "type": "scattermapbox"
        },
        {
         "lat": [
          22.4504396,
          22.4519834,
          22.4570997,
          22.4654579,
          22.4668716,
          22.4660231,
          22.4645854,
          22.4498149,
          22.4504396,
          22.4519834,
          22.453213,
          22.4553992,
          22.4558306,
          22.4617898,
          22.4548219,
          22.4557192,
          22.4585023,
          22.4496103,
          22.4498149,
          22.4504396,
          22.449919,
          22.4558306,
          22.4553992,
          22.4607686,
          22.4615927,
          22.4620884,
          22.4624534,
          22.465724,
          22.4665215,
          22.4681275
         ],
         "lon": [
          113.9989511,
          113.998479,
          113.9953417,
          113.9959425,
          113.9961331,
          113.9981634,
          113.9977128,
          114.0003673,
          113.9989511,
          113.998479,
          113.999273,
          113.9994186,
          113.9998148,
          113.9945796,
          114.0067398,
          114.0065091,
          114.0041463,
          114.0016226,
          114.0003673,
          113.9989511,
          113.9987955,
          113.9998148,
          113.9994186,
          113.9967442,
          114.0019359,
          114.0079821,
          114.0079931,
          114.0050474,
          114.005496,
          114.0034872
         ],
         "marker": {
          "color": [
           "#ea3323",
           "#ea3323",
           "#ea3323",
           "#ea3323",
           "#ea3323",
           "#ea3323",
           "#ea3323",
           "#ff8b00",
           "#ff8b00",
           "#ff8b00",
           "#ff8b00",
           "#ff8b00",
           "#ff8b00",
           "#ff8b00",
           "#febb26",
           "#febb26",
           "#febb26",
           "#25dc67",
           "#25dc67",
           "#25dc67",
           "#25dc67",
           "#25dc67",
           "#25dc67",
           "#25dc67",
           "#ffccdd",
           "#ffccdd",
           "#ffccdd",
           "#ffccdd",
           "#ffccdd",
           "#ffccdd"
          ],
          "size": 15
         },
         "mode": "markers",
         "name": "2024-08-02 20:50:55",
         "text": [
          "南葵中心3隊",
          "南葵中心3隊",
          "南葵中心3隊",
          "南葵中心3隊",
          "南葵中心3隊",
          "南葵中心3隊",
          "南葵中心3隊",
          "南葵中心4隊",
          "南葵中心4隊",
          "南葵中心4隊",
          "南葵中心4隊",
          "南葵中心4隊",
          "南葵中心4隊",
          "南葵中心4隊",
          "上環/將軍澳中心隊",
          "上環/將軍澳中心隊",
          "上環/將軍澳中心隊",
          "南葵中心1隊",
          "南葵中心1隊",
          "南葵中心1隊",
          "南葵中心1隊",
          "南葵中心1隊",
          "南葵中心1隊",
          "南葵中心1隊",
          "石蔭中心隊",
          "石蔭中心隊",
          "石蔭中心隊",
          "石蔭中心隊",
          "石蔭中心隊",
          "石蔭中心隊"
         ],
         "type": "scattermapbox"
        },
        {
         "lat": [
          22.4504396,
          22.4519834,
          22.4570997,
          22.4654579,
          22.4668716,
          22.4660231,
          22.4645854,
          22.4655961,
          22.4498149,
          22.4504396,
          22.4519834,
          22.453213,
          22.4553992,
          22.4558306,
          22.4617898,
          22.4607686,
          22.4548219,
          22.4557192,
          22.4585023,
          22.4593465,
          22.4496103,
          22.4498149,
          22.4504396,
          22.449919,
          22.4558306,
          22.4553992,
          22.4615927,
          22.4620884,
          22.4624534,
          22.465724,
          22.4665215,
          22.4681275
         ],
         "lon": [
          113.9989511,
          113.998479,
          113.9953417,
          113.9959425,
          113.9961331,
          113.9981634,
          113.9977128,
          113.99919,
          114.0003673,
          113.9989511,
          113.998479,
          113.999273,
          113.9994186,
          113.9998148,
          113.9945796,
          113.9967442,
          114.0067398,
          114.0065091,
          114.0041463,
          113.9993166,
          114.0016226,
          114.0003673,
          113.9989511,
          113.9987955,
          113.9998148,
          113.9994186,
          114.0019359,
          114.0079821,
          114.0079931,
          114.0050474,
          114.005496,
          114.0034872
         ],
         "marker": {
          "color": [
           "#ea3323",
           "#ea3323",
           "#ea3323",
           "#ea3323",
           "#ea3323",
           "#ea3323",
           "#ea3323",
           "#ea3323",
           "#ff8b00",
           "#ff8b00",
           "#ff8b00",
           "#ff8b00",
           "#ff8b00",
           "#ff8b00",
           "#ff8b00",
           "#ff8b00",
           "#febb26",
           "#febb26",
           "#febb26",
           "#17873f",
           "#25dc67",
           "#25dc67",
           "#25dc67",
           "#25dc67",
           "#25dc67",
           "#25dc67",
           "#ffccdd",
           "#ffccdd",
           "#ffccdd",
           "#ffccdd",
           "#ffccdd",
           "#ffccdd"
          ],
          "size": 15
         },
         "mode": "markers",
         "name": "2024-08-02 20:53:55",
         "text": [
          "南葵中心3隊",
          "南葵中心3隊",
          "南葵中心3隊",
          "南葵中心3隊",
          "南葵中心3隊",
          "南葵中心3隊",
          "南葵中心3隊",
          "南葵中心3隊",
          "南葵中心4隊",
          "南葵中心4隊",
          "南葵中心4隊",
          "南葵中心4隊",
          "南葵中心4隊",
          "南葵中心4隊",
          "南葵中心4隊",
          "南葵中心4隊",
          "上環/將軍澳中心隊",
          "上環/將軍澳中心隊",
          "上環/將軍澳中心隊",
          "南葵中心2隊",
          "南葵中心1隊",
          "南葵中心1隊",
          "南葵中心1隊",
          "南葵中心1隊",
          "南葵中心1隊",
          "南葵中心1隊",
          "石蔭中心隊",
          "石蔭中心隊",
          "石蔭中心隊",
          "石蔭中心隊",
          "石蔭中心隊",
          "石蔭中心隊"
         ],
         "type": "scattermapbox"
        },
        {
         "lat": [
          22.4504396,
          22.4519834,
          22.4570997,
          22.4654579,
          22.4668716,
          22.4660231,
          22.4645854,
          22.4655961,
          22.4498149,
          22.4504396,
          22.4519834,
          22.453213,
          22.4553992,
          22.4558306,
          22.4617898,
          22.4607686,
          22.4548219,
          22.4557192,
          22.4585023,
          22.4593465,
          22.459445,
          22.4496103,
          22.4498149,
          22.4504396,
          22.449919,
          22.4558306,
          22.4553992,
          22.4617898,
          22.4615927,
          22.4620884,
          22.4624534,
          22.465724,
          22.4665215,
          22.4681275
         ],
         "lon": [
          113.9989511,
          113.998479,
          113.9953417,
          113.9959425,
          113.9961331,
          113.9981634,
          113.9977128,
          113.99919,
          114.0003673,
          113.9989511,
          113.998479,
          113.999273,
          113.9994186,
          113.9998148,
          113.9945796,
          113.9967442,
          114.0067398,
          114.0065091,
          114.0041463,
          113.9993166,
          114.0019393,
          114.0016226,
          114.0003673,
          113.9989511,
          113.9987955,
          113.9998148,
          113.9994186,
          113.9945796,
          114.0019359,
          114.0079821,
          114.0079931,
          114.0050474,
          114.005496,
          114.0034872
         ],
         "marker": {
          "color": [
           "#ea3323",
           "#ea3323",
           "#ea3323",
           "#ea3323",
           "#ea3323",
           "#ea3323",
           "#ea3323",
           "#ea3323",
           "#ff8b00",
           "#ff8b00",
           "#ff8b00",
           "#ff8b00",
           "#ff8b00",
           "#ff8b00",
           "#ff8b00",
           "#ff8b00",
           "#febb26",
           "#febb26",
           "#febb26",
           "#17873f",
           "#17873f",
           "#25dc67",
           "#25dc67",
           "#25dc67",
           "#25dc67",
           "#25dc67",
           "#25dc67",
           "#25dc67",
           "#ffccdd",
           "#ffccdd",
           "#ffccdd",
           "#ffccdd",
           "#ffccdd",
           "#ffccdd"
          ],
          "size": 15
         },
         "mode": "markers",
         "name": "2024-08-02 20:56:55",
         "text": [
          "南葵中心3隊",
          "南葵中心3隊",
          "南葵中心3隊",
          "南葵中心3隊",
          "南葵中心3隊",
          "南葵中心3隊",
          "南葵中心3隊",
          "南葵中心3隊",
          "南葵中心4隊",
          "南葵中心4隊",
          "南葵中心4隊",
          "南葵中心4隊",
          "南葵中心4隊",
          "南葵中心4隊",
          "南葵中心4隊",
          "南葵中心4隊",
          "上環/將軍澳中心隊",
          "上環/將軍澳中心隊",
          "上環/將軍澳中心隊",
          "南葵中心2隊",
          "南葵中心2隊",
          "南葵中心1隊",
          "南葵中心1隊",
          "南葵中心1隊",
          "南葵中心1隊",
          "南葵中心1隊",
          "南葵中心1隊",
          "南葵中心1隊",
          "石蔭中心隊",
          "石蔭中心隊",
          "石蔭中心隊",
          "石蔭中心隊",
          "石蔭中心隊",
          "石蔭中心隊"
         ],
         "type": "scattermapbox"
        },
        {
         "lat": [
          22.4504396,
          22.4519834,
          22.4570997,
          22.4654579,
          22.4668716,
          22.4660231,
          22.4645854,
          22.4655961,
          22.4498149,
          22.4504396,
          22.4519834,
          22.453213,
          22.4553992,
          22.4558306,
          22.4617898,
          22.4607686,
          22.4558306,
          22.4553992,
          22.4548219,
          22.4557192,
          22.4585023,
          22.4593465,
          22.459445,
          22.4609744,
          22.4496103,
          22.4498149,
          22.4504396,
          22.449919,
          22.4617898,
          22.4570997,
          22.4615927,
          22.4620884,
          22.4624534,
          22.465724,
          22.4665215,
          22.4681275
         ],
         "lon": [
          113.9989511,
          113.998479,
          113.9953417,
          113.9959425,
          113.9961331,
          113.9981634,
          113.9977128,
          113.99919,
          114.0003673,
          113.9989511,
          113.998479,
          113.999273,
          113.9994186,
          113.9998148,
          113.9945796,
          113.9967442,
          113.9998148,
          113.9994186,
          114.0067398,
          114.0065091,
          114.0041463,
          113.9993166,
          114.0019393,
          114.0018213,
          114.0016226,
          114.0003673,
          113.9989511,
          113.9987955,
          113.9945796,
          113.9953417,
          114.0019359,
          114.0079821,
          114.0079931,
          114.0050474,
          114.005496,
          114.0034872
         ],
         "marker": {
          "color": [
           "#ea3323",
           "#ea3323",
           "#ea3323",
           "#ea3323",
           "#ea3323",
           "#ea3323",
           "#ea3323",
           "#ea3323",
           "#ff8b00",
           "#ff8b00",
           "#ff8b00",
           "#ff8b00",
           "#ff8b00",
           "#ff8b00",
           "#ff8b00",
           "#ff8b00",
           "#ff8b00",
           "#ff8b00",
           "#febb26",
           "#febb26",
           "#febb26",
           "#17873f",
           "#17873f",
           "#17873f",
           "#25dc67",
           "#25dc67",
           "#25dc67",
           "#25dc67",
           "#25dc67",
           "#25dc67",
           "#ffccdd",
           "#ffccdd",
           "#ffccdd",
           "#ffccdd",
           "#ffccdd",
           "#ffccdd"
          ],
          "size": 15
         },
         "mode": "markers",
         "name": "2024-08-02 20:59:55",
         "text": [
          "南葵中心3隊",
          "南葵中心3隊",
          "南葵中心3隊",
          "南葵中心3隊",
          "南葵中心3隊",
          "南葵中心3隊",
          "南葵中心3隊",
          "南葵中心3隊",
          "南葵中心4隊",
          "南葵中心4隊",
          "南葵中心4隊",
          "南葵中心4隊",
          "南葵中心4隊",
          "南葵中心4隊",
          "南葵中心4隊",
          "南葵中心4隊",
          "南葵中心4隊",
          "南葵中心4隊",
          "上環/將軍澳中心隊",
          "上環/將軍澳中心隊",
          "上環/將軍澳中心隊",
          "南葵中心2隊",
          "南葵中心2隊",
          "南葵中心2隊",
          "南葵中心1隊",
          "南葵中心1隊",
          "南葵中心1隊",
          "南葵中心1隊",
          "南葵中心1隊",
          "南葵中心1隊",
          "石蔭中心隊",
          "石蔭中心隊",
          "石蔭中心隊",
          "石蔭中心隊",
          "石蔭中心隊",
          "石蔭中心隊"
         ],
         "type": "scattermapbox"
        },
        {
         "lat": [
          22.4504396,
          22.4519834,
          22.4570997,
          22.4654579,
          22.4668716,
          22.4660231,
          22.4645854,
          22.4655961,
          22.4498149,
          22.4504396,
          22.4519834,
          22.453213,
          22.4553992,
          22.4558306,
          22.4617898,
          22.4607686,
          22.4558306,
          22.4553992,
          22.4519834,
          22.4548219,
          22.4557192,
          22.4585023,
          22.4593465,
          22.459445,
          22.4609744,
          22.4496103,
          22.4498149,
          22.4504396,
          22.449919,
          22.4617898,
          22.4570997,
          22.4615927,
          22.4620884,
          22.4624534,
          22.465724,
          22.4665215,
          22.4681275,
          22.469097
         ],
         "lon": [
          113.9989511,
          113.998479,
          113.9953417,
          113.9959425,
          113.9961331,
          113.9981634,
          113.9977128,
          113.99919,
          114.0003673,
          113.9989511,
          113.998479,
          113.999273,
          113.9994186,
          113.9998148,
          113.9945796,
          113.9967442,
          113.9998148,
          113.9994186,
          113.998479,
          114.0067398,
          114.0065091,
          114.0041463,
          113.9993166,
          114.0019393,
          114.0018213,
          114.0016226,
          114.0003673,
          113.9989511,
          113.9987955,
          113.9945796,
          113.9953417,
          114.0019359,
          114.0079821,
          114.0079931,
          114.0050474,
          114.005496,
          114.0034872,
          113.9984766
         ],
         "marker": {
          "color": [
           "#ea3323",
           "#ea3323",
           "#ea3323",
           "#ea3323",
           "#ea3323",
           "#ea3323",
           "#ea3323",
           "#ea3323",
           "#ff8b00",
           "#ff8b00",
           "#ff8b00",
           "#ff8b00",
           "#ff8b00",
           "#ff8b00",
           "#ff8b00",
           "#ff8b00",
           "#ff8b00",
           "#ff8b00",
           "#ff8b00",
           "#febb26",
           "#febb26",
           "#febb26",
           "#17873f",
           "#17873f",
           "#17873f",
           "#25dc67",
           "#25dc67",
           "#25dc67",
           "#25dc67",
           "#25dc67",
           "#25dc67",
           "#ffccdd",
           "#ffccdd",
           "#ffccdd",
           "#ffccdd",
           "#ffccdd",
           "#ffccdd",
           "#ffccdd"
          ],
          "size": 15
         },
         "mode": "markers",
         "name": "2024-08-02 21:02:55",
         "text": [
          "南葵中心3隊",
          "南葵中心3隊",
          "南葵中心3隊",
          "南葵中心3隊",
          "南葵中心3隊",
          "南葵中心3隊",
          "南葵中心3隊",
          "南葵中心3隊",
          "南葵中心4隊",
          "南葵中心4隊",
          "南葵中心4隊",
          "南葵中心4隊",
          "南葵中心4隊",
          "南葵中心4隊",
          "南葵中心4隊",
          "南葵中心4隊",
          "南葵中心4隊",
          "南葵中心4隊",
          "南葵中心4隊",
          "上環/將軍澳中心隊",
          "上環/將軍澳中心隊",
          "上環/將軍澳中心隊",
          "南葵中心2隊",
          "南葵中心2隊",
          "南葵中心2隊",
          "南葵中心1隊",
          "南葵中心1隊",
          "南葵中心1隊",
          "南葵中心1隊",
          "南葵中心1隊",
          "南葵中心1隊",
          "石蔭中心隊",
          "石蔭中心隊",
          "石蔭中心隊",
          "石蔭中心隊",
          "石蔭中心隊",
          "石蔭中心隊",
          "石蔭中心隊"
         ],
         "type": "scattermapbox"
        },
        {
         "lat": [
          22.4504396,
          22.4519834,
          22.4570997,
          22.4654579,
          22.4668716,
          22.4660231,
          22.4645854,
          22.4655961,
          22.4498149,
          22.4504396,
          22.4519834,
          22.453213,
          22.4553992,
          22.4558306,
          22.4617898,
          22.4607686,
          22.4558306,
          22.4553992,
          22.4519834,
          22.449919,
          22.4548219,
          22.4557192,
          22.4585023,
          22.4593465,
          22.459445,
          22.4609744,
          22.4618546,
          22.4609995,
          22.4496103,
          22.4498149,
          22.4504396,
          22.449919,
          22.4617898,
          22.4570997,
          22.4519834,
          22.4504396,
          22.4615927,
          22.4620884,
          22.4624534,
          22.465724,
          22.4665215,
          22.4681275,
          22.469097
         ],
         "lon": [
          113.9989511,
          113.998479,
          113.9953417,
          113.9959425,
          113.9961331,
          113.9981634,
          113.9977128,
          113.99919,
          114.0003673,
          113.9989511,
          113.998479,
          113.999273,
          113.9994186,
          113.9998148,
          113.9945796,
          113.9967442,
          113.9998148,
          113.9994186,
          113.998479,
          113.9987955,
          114.0067398,
          114.0065091,
          114.0041463,
          113.9993166,
          114.0019393,
          114.0018213,
          113.9975799,
          113.9971151,
          114.0016226,
          114.0003673,
          113.9989511,
          113.9987955,
          113.9945796,
          113.9953417,
          113.998479,
          113.9989511,
          114.0019359,
          114.0079821,
          114.0079931,
          114.0050474,
          114.005496,
          114.0034872,
          113.9984766
         ],
         "marker": {
          "color": [
           "#ea3323",
           "#ea3323",
           "#ea3323",
           "#ea3323",
           "#ea3323",
           "#ea3323",
           "#ea3323",
           "#ea3323",
           "#ff8b00",
           "#ff8b00",
           "#ff8b00",
           "#ff8b00",
           "#ff8b00",
           "#ff8b00",
           "#ff8b00",
           "#ff8b00",
           "#ff8b00",
           "#ff8b00",
           "#ff8b00",
           "#ff8b00",
           "#febb26",
           "#febb26",
           "#febb26",
           "#17873f",
           "#17873f",
           "#17873f",
           "#17873f",
           "#17873f",
           "#25dc67",
           "#25dc67",
           "#25dc67",
           "#25dc67",
           "#25dc67",
           "#25dc67",
           "#25dc67",
           "#25dc67",
           "#ffccdd",
           "#ffccdd",
           "#ffccdd",
           "#ffccdd",
           "#ffccdd",
           "#ffccdd",
           "#ffccdd"
          ],
          "size": 15
         },
         "mode": "markers",
         "name": "2024-08-02 21:05:55",
         "text": [
          "南葵中心3隊",
          "南葵中心3隊",
          "南葵中心3隊",
          "南葵中心3隊",
          "南葵中心3隊",
          "南葵中心3隊",
          "南葵中心3隊",
          "南葵中心3隊",
          "南葵中心4隊",
          "南葵中心4隊",
          "南葵中心4隊",
          "南葵中心4隊",
          "南葵中心4隊",
          "南葵中心4隊",
          "南葵中心4隊",
          "南葵中心4隊",
          "南葵中心4隊",
          "南葵中心4隊",
          "南葵中心4隊",
          "南葵中心4隊",
          "上環/將軍澳中心隊",
          "上環/將軍澳中心隊",
          "上環/將軍澳中心隊",
          "南葵中心2隊",
          "南葵中心2隊",
          "南葵中心2隊",
          "南葵中心2隊",
          "南葵中心2隊",
          "南葵中心1隊",
          "南葵中心1隊",
          "南葵中心1隊",
          "南葵中心1隊",
          "南葵中心1隊",
          "南葵中心1隊",
          "南葵中心1隊",
          "南葵中心1隊",
          "石蔭中心隊",
          "石蔭中心隊",
          "石蔭中心隊",
          "石蔭中心隊",
          "石蔭中心隊",
          "石蔭中心隊",
          "石蔭中心隊"
         ],
         "type": "scattermapbox"
        },
        {
         "lat": [
          22.4504396,
          22.4519834,
          22.4570997,
          22.4654579,
          22.4668716,
          22.4660231,
          22.4645854,
          22.4655961,
          22.4498149,
          22.4504396,
          22.4519834,
          22.453213,
          22.4553992,
          22.4558306,
          22.4617898,
          22.4607686,
          22.4558306,
          22.4553992,
          22.4519834,
          22.449919,
          22.4519834,
          22.4504396,
          22.453213,
          22.4548219,
          22.4557192,
          22.4585023,
          22.4615927,
          22.4593465,
          22.459445,
          22.4609744,
          22.4618546,
          22.4609995,
          22.4498149,
          22.4504396,
          22.449919,
          22.4617898,
          22.4570997,
          22.4504396,
          22.4498149,
          22.4496103,
          22.4504396,
          22.4620884,
          22.4624534,
          22.465724,
          22.4665215,
          22.4681275,
          22.469097
         ],
         "lon": [
          113.9989511,
          113.998479,
          113.9953417,
          113.9959425,
          113.9961331,
          113.9981634,
          113.9977128,
          113.99919,
          114.0003673,
          113.9989511,
          113.998479,
          113.999273,
          113.9994186,
          113.9998148,
          113.9945796,
          113.9967442,
          113.9998148,
          113.9994186,
          113.998479,
          113.9987955,
          113.998479,
          113.9989511,
          113.999273,
          114.0067398,
          114.0065091,
          114.0041463,
          114.0019359,
          113.9993166,
          114.0019393,
          114.0018213,
          113.9975799,
          113.9971151,
          114.0003673,
          113.9989511,
          113.9987955,
          113.9945796,
          113.9953417,
          113.9989511,
          114.0003673,
          114.0016226,
          113.9989511,
          114.0079821,
          114.0079931,
          114.0050474,
          114.005496,
          114.0034872,
          113.9984766
         ],
         "marker": {
          "color": [
           "#ea3323",
           "#ea3323",
           "#ea3323",
           "#ea3323",
           "#ea3323",
           "#ea3323",
           "#ea3323",
           "#ea3323",
           "#ff8b00",
           "#ff8b00",
           "#ff8b00",
           "#ff8b00",
           "#ff8b00",
           "#ff8b00",
           "#ff8b00",
           "#ff8b00",
           "#ff8b00",
           "#ff8b00",
           "#ff8b00",
           "#ff8b00",
           "#ff8b00",
           "#ff8b00",
           "#ff8b00",
           "#febb26",
           "#febb26",
           "#febb26",
           "#febb26",
           "#17873f",
           "#17873f",
           "#17873f",
           "#17873f",
           "#17873f",
           "#25dc67",
           "#25dc67",
           "#25dc67",
           "#25dc67",
           "#25dc67",
           "#25dc67",
           "#25dc67",
           "#25dc67",
           "#25dc67",
           "#ffccdd",
           "#ffccdd",
           "#ffccdd",
           "#ffccdd",
           "#ffccdd",
           "#ffccdd"
          ],
          "size": 15
         },
         "mode": "markers",
         "name": "2024-08-02 21:08:55",
         "text": [
          "南葵中心3隊",
          "南葵中心3隊",
          "南葵中心3隊",
          "南葵中心3隊",
          "南葵中心3隊",
          "南葵中心3隊",
          "南葵中心3隊",
          "南葵中心3隊",
          "南葵中心4隊",
          "南葵中心4隊",
          "南葵中心4隊",
          "南葵中心4隊",
          "南葵中心4隊",
          "南葵中心4隊",
          "南葵中心4隊",
          "南葵中心4隊",
          "南葵中心4隊",
          "南葵中心4隊",
          "南葵中心4隊",
          "南葵中心4隊",
          "南葵中心4隊",
          "南葵中心4隊",
          "南葵中心4隊",
          "上環/將軍澳中心隊",
          "上環/將軍澳中心隊",
          "上環/將軍澳中心隊",
          "上環/將軍澳中心隊",
          "南葵中心2隊",
          "南葵中心2隊",
          "南葵中心2隊",
          "南葵中心2隊",
          "南葵中心2隊",
          "南葵中心1隊",
          "南葵中心1隊",
          "南葵中心1隊",
          "南葵中心1隊",
          "南葵中心1隊",
          "南葵中心1隊",
          "南葵中心1隊",
          "南葵中心1隊",
          "南葵中心1隊",
          "石蔭中心隊",
          "石蔭中心隊",
          "石蔭中心隊",
          "石蔭中心隊",
          "石蔭中心隊",
          "石蔭中心隊"
         ],
         "type": "scattermapbox"
        },
        {
         "lat": [
          22.4504396,
          22.4519834,
          22.4570997,
          22.4654579,
          22.4668716,
          22.4660231,
          22.4645854,
          22.4655961,
          22.469097,
          22.4498149,
          22.4504396,
          22.4519834,
          22.453213,
          22.4553992,
          22.4558306,
          22.4617898,
          22.4607686,
          22.4558306,
          22.4553992,
          22.4519834,
          22.449919,
          22.4519834,
          22.4504396,
          22.453213,
          22.4548219,
          22.4557192,
          22.4585023,
          22.4615927,
          22.4593465,
          22.459445,
          22.4609744,
          22.4618546,
          22.4609995,
          22.4498149,
          22.4504396,
          22.449919,
          22.4617898,
          22.4570997,
          22.4504396,
          22.4498149,
          22.4496103,
          22.4504396,
          22.4620884,
          22.4624534,
          22.465724,
          22.4665215,
          22.4681275
         ],
         "lon": [
          113.9989511,
          113.998479,
          113.9953417,
          113.9959425,
          113.9961331,
          113.9981634,
          113.9977128,
          113.99919,
          113.9984766,
          114.0003673,
          113.9989511,
          113.998479,
          113.999273,
          113.9994186,
          113.9998148,
          113.9945796,
          113.9967442,
          113.9998148,
          113.9994186,
          113.998479,
          113.9987955,
          113.998479,
          113.9989511,
          113.999273,
          114.0067398,
          114.0065091,
          114.0041463,
          114.0019359,
          113.9993166,
          114.0019393,
          114.0018213,
          113.9975799,
          113.9971151,
          114.0003673,
          113.9989511,
          113.9987955,
          113.9945796,
          113.9953417,
          113.9989511,
          114.0003673,
          114.0016226,
          113.9989511,
          114.0079821,
          114.0079931,
          114.0050474,
          114.005496,
          114.0034872
         ],
         "marker": {
          "color": [
           "#ea3323",
           "#ea3323",
           "#ea3323",
           "#ea3323",
           "#ea3323",
           "#ea3323",
           "#ea3323",
           "#ea3323",
           "#ea3323",
           "#ff8b00",
           "#ff8b00",
           "#ff8b00",
           "#ff8b00",
           "#ff8b00",
           "#ff8b00",
           "#ff8b00",
           "#ff8b00",
           "#ff8b00",
           "#ff8b00",
           "#ff8b00",
           "#ff8b00",
           "#ff8b00",
           "#ff8b00",
           "#ff8b00",
           "#febb26",
           "#febb26",
           "#febb26",
           "#febb26",
           "#17873f",
           "#17873f",
           "#17873f",
           "#17873f",
           "#17873f",
           "#25dc67",
           "#25dc67",
           "#25dc67",
           "#25dc67",
           "#25dc67",
           "#25dc67",
           "#25dc67",
           "#25dc67",
           "#25dc67",
           "#ffccdd",
           "#ffccdd",
           "#ffccdd",
           "#ffccdd",
           "#ffccdd"
          ],
          "size": 15
         },
         "mode": "markers",
         "name": "2024-08-02 21:11:55",
         "text": [
          "南葵中心3隊",
          "南葵中心3隊",
          "南葵中心3隊",
          "南葵中心3隊",
          "南葵中心3隊",
          "南葵中心3隊",
          "南葵中心3隊",
          "南葵中心3隊",
          "南葵中心3隊",
          "南葵中心4隊",
          "南葵中心4隊",
          "南葵中心4隊",
          "南葵中心4隊",
          "南葵中心4隊",
          "南葵中心4隊",
          "南葵中心4隊",
          "南葵中心4隊",
          "南葵中心4隊",
          "南葵中心4隊",
          "南葵中心4隊",
          "南葵中心4隊",
          "南葵中心4隊",
          "南葵中心4隊",
          "南葵中心4隊",
          "上環/將軍澳中心隊",
          "上環/將軍澳中心隊",
          "上環/將軍澳中心隊",
          "上環/將軍澳中心隊",
          "南葵中心2隊",
          "南葵中心2隊",
          "南葵中心2隊",
          "南葵中心2隊",
          "南葵中心2隊",
          "南葵中心1隊",
          "南葵中心1隊",
          "南葵中心1隊",
          "南葵中心1隊",
          "南葵中心1隊",
          "南葵中心1隊",
          "南葵中心1隊",
          "南葵中心1隊",
          "南葵中心1隊",
          "石蔭中心隊",
          "石蔭中心隊",
          "石蔭中心隊",
          "石蔭中心隊",
          "石蔭中心隊"
         ],
         "type": "scattermapbox"
        },
        {
         "lat": [
          22.4504396,
          22.4519834,
          22.4570997,
          22.4654579,
          22.4668716,
          22.4660231,
          22.4645854,
          22.4655961,
          22.469097,
          22.4498149,
          22.4504396,
          22.4519834,
          22.453213,
          22.4553992,
          22.4558306,
          22.4617898,
          22.4607686,
          22.4558306,
          22.4553992,
          22.4519834,
          22.4519834,
          22.4504396,
          22.453213,
          22.4498149,
          22.4548219,
          22.4557192,
          22.4585023,
          22.4615927,
          22.4593465,
          22.459445,
          22.4609744,
          22.4618546,
          22.4609995,
          22.4645854,
          22.4660231,
          22.4498149,
          22.4504396,
          22.449919,
          22.4617898,
          22.4570997,
          22.4504396,
          22.4498149,
          22.4496103,
          22.4504396,
          22.449919,
          22.4620884,
          22.4624534,
          22.465724,
          22.4665215,
          22.4681275,
          22.4654579
         ],
         "lon": [
          113.9989511,
          113.998479,
          113.9953417,
          113.9959425,
          113.9961331,
          113.9981634,
          113.9977128,
          113.99919,
          113.9984766,
          114.0003673,
          113.9989511,
          113.998479,
          113.999273,
          113.9994186,
          113.9998148,
          113.9945796,
          113.9967442,
          113.9998148,
          113.9994186,
          113.998479,
          113.998479,
          113.9989511,
          113.999273,
          114.0003673,
          114.0067398,
          114.0065091,
          114.0041463,
          114.0019359,
          113.9993166,
          114.0019393,
          114.0018213,
          113.9975799,
          113.9971151,
          113.9977128,
          113.9981634,
          114.0003673,
          113.9989511,
          113.9987955,
          113.9945796,
          113.9953417,
          113.9989511,
          114.0003673,
          114.0016226,
          113.9989511,
          113.9987955,
          114.0079821,
          114.0079931,
          114.0050474,
          114.005496,
          114.0034872,
          113.9959425
         ],
         "marker": {
          "color": [
           "#ea3323",
           "#ea3323",
           "#ea3323",
           "#ea3323",
           "#ea3323",
           "#ea3323",
           "#ea3323",
           "#ea3323",
           "#ea3323",
           "#ff8b00",
           "#ff8b00",
           "#ff8b00",
           "#ff8b00",
           "#ff8b00",
           "#ff8b00",
           "#ff8b00",
           "#ff8b00",
           "#ff8b00",
           "#ff8b00",
           "#ff8b00",
           "#ff8b00",
           "#ff8b00",
           "#ff8b00",
           "#ff8b00",
           "#febb26",
           "#febb26",
           "#febb26",
           "#febb26",
           "#17873f",
           "#17873f",
           "#17873f",
           "#17873f",
           "#17873f",
           "#17873f",
           "#17873f",
           "#25dc67",
           "#25dc67",
           "#25dc67",
           "#25dc67",
           "#25dc67",
           "#25dc67",
           "#25dc67",
           "#25dc67",
           "#25dc67",
           "#25dc67",
           "#ffccdd",
           "#ffccdd",
           "#ffccdd",
           "#ffccdd",
           "#ffccdd",
           "#ffccdd"
          ],
          "size": 15
         },
         "mode": "markers",
         "name": "2024-08-02 21:14:55",
         "text": [
          "南葵中心3隊",
          "南葵中心3隊",
          "南葵中心3隊",
          "南葵中心3隊",
          "南葵中心3隊",
          "南葵中心3隊",
          "南葵中心3隊",
          "南葵中心3隊",
          "南葵中心3隊",
          "南葵中心4隊",
          "南葵中心4隊",
          "南葵中心4隊",
          "南葵中心4隊",
          "南葵中心4隊",
          "南葵中心4隊",
          "南葵中心4隊",
          "南葵中心4隊",
          "南葵中心4隊",
          "南葵中心4隊",
          "南葵中心4隊",
          "南葵中心4隊",
          "南葵中心4隊",
          "南葵中心4隊",
          "南葵中心4隊",
          "上環/將軍澳中心隊",
          "上環/將軍澳中心隊",
          "上環/將軍澳中心隊",
          "上環/將軍澳中心隊",
          "南葵中心2隊",
          "南葵中心2隊",
          "南葵中心2隊",
          "南葵中心2隊",
          "南葵中心2隊",
          "南葵中心2隊",
          "南葵中心2隊",
          "南葵中心1隊",
          "南葵中心1隊",
          "南葵中心1隊",
          "南葵中心1隊",
          "南葵中心1隊",
          "南葵中心1隊",
          "南葵中心1隊",
          "南葵中心1隊",
          "南葵中心1隊",
          "南葵中心1隊",
          "石蔭中心隊",
          "石蔭中心隊",
          "石蔭中心隊",
          "石蔭中心隊",
          "石蔭中心隊",
          "石蔭中心隊"
         ],
         "type": "scattermapbox"
        },
        {
         "lat": [
          22.4504396,
          22.4519834,
          22.4570997,
          22.4654579,
          22.4668716,
          22.4660231,
          22.4645854,
          22.4655961,
          22.469097,
          22.4498149,
          22.4504396,
          22.4519834,
          22.453213,
          22.4553992,
          22.4558306,
          22.4617898,
          22.4607686,
          22.4558306,
          22.4553992,
          22.4519834,
          22.4519834,
          22.4504396,
          22.453213,
          22.4498149,
          22.4617898,
          22.4548219,
          22.4557192,
          22.4585023,
          22.4615927,
          22.4620587,
          22.4593465,
          22.459445,
          22.4609744,
          22.4618546,
          22.4609995,
          22.4645854,
          22.4660231,
          22.4655961,
          22.4498149,
          22.4504396,
          22.449919,
          22.4570997,
          22.4504396,
          22.4498149,
          22.4496103,
          22.4504396,
          22.449919,
          22.4620884,
          22.4624534,
          22.465724,
          22.4665215,
          22.4681275,
          22.4654579
         ],
         "lon": [
          113.9989511,
          113.998479,
          113.9953417,
          113.9959425,
          113.9961331,
          113.9981634,
          113.9977128,
          113.99919,
          113.9984766,
          114.0003673,
          113.9989511,
          113.998479,
          113.999273,
          113.9994186,
          113.9998148,
          113.9945796,
          113.9967442,
          113.9998148,
          113.9994186,
          113.998479,
          113.998479,
          113.9989511,
          113.999273,
          114.0003673,
          113.9945796,
          114.0067398,
          114.0065091,
          114.0041463,
          114.0019359,
          114.0014806,
          113.9993166,
          114.0019393,
          114.0018213,
          113.9975799,
          113.9971151,
          113.9977128,
          113.9981634,
          113.99919,
          114.0003673,
          113.9989511,
          113.9987955,
          113.9953417,
          113.9989511,
          114.0003673,
          114.0016226,
          113.9989511,
          113.9987955,
          114.0079821,
          114.0079931,
          114.0050474,
          114.005496,
          114.0034872,
          113.9959425
         ],
         "marker": {
          "color": [
           "#ea3323",
           "#ea3323",
           "#ea3323",
           "#ea3323",
           "#ea3323",
           "#ea3323",
           "#ea3323",
           "#ea3323",
           "#ea3323",
           "#ff8b00",
           "#ff8b00",
           "#ff8b00",
           "#ff8b00",
           "#ff8b00",
           "#ff8b00",
           "#ff8b00",
           "#ff8b00",
           "#ff8b00",
           "#ff8b00",
           "#ff8b00",
           "#ff8b00",
           "#ff8b00",
           "#ff8b00",
           "#ff8b00",
           "#ff8b00",
           "#febb26",
           "#febb26",
           "#febb26",
           "#febb26",
           "#febb26",
           "#17873f",
           "#17873f",
           "#17873f",
           "#17873f",
           "#17873f",
           "#17873f",
           "#17873f",
           "#17873f",
           "#25dc67",
           "#25dc67",
           "#25dc67",
           "#25dc67",
           "#25dc67",
           "#25dc67",
           "#25dc67",
           "#25dc67",
           "#25dc67",
           "#ffccdd",
           "#ffccdd",
           "#ffccdd",
           "#ffccdd",
           "#ffccdd",
           "#ffccdd"
          ],
          "size": 15
         },
         "mode": "markers",
         "name": "2024-08-02 21:17:55",
         "text": [
          "南葵中心3隊",
          "南葵中心3隊",
          "南葵中心3隊",
          "南葵中心3隊",
          "南葵中心3隊",
          "南葵中心3隊",
          "南葵中心3隊",
          "南葵中心3隊",
          "南葵中心3隊",
          "南葵中心4隊",
          "南葵中心4隊",
          "南葵中心4隊",
          "南葵中心4隊",
          "南葵中心4隊",
          "南葵中心4隊",
          "南葵中心4隊",
          "南葵中心4隊",
          "南葵中心4隊",
          "南葵中心4隊",
          "南葵中心4隊",
          "南葵中心4隊",
          "南葵中心4隊",
          "南葵中心4隊",
          "南葵中心4隊",
          "南葵中心4隊",
          "上環/將軍澳中心隊",
          "上環/將軍澳中心隊",
          "上環/將軍澳中心隊",
          "上環/將軍澳中心隊",
          "上環/將軍澳中心隊",
          "南葵中心2隊",
          "南葵中心2隊",
          "南葵中心2隊",
          "南葵中心2隊",
          "南葵中心2隊",
          "南葵中心2隊",
          "南葵中心2隊",
          "南葵中心2隊",
          "南葵中心1隊",
          "南葵中心1隊",
          "南葵中心1隊",
          "南葵中心1隊",
          "南葵中心1隊",
          "南葵中心1隊",
          "南葵中心1隊",
          "南葵中心1隊",
          "南葵中心1隊",
          "石蔭中心隊",
          "石蔭中心隊",
          "石蔭中心隊",
          "石蔭中心隊",
          "石蔭中心隊",
          "石蔭中心隊"
         ],
         "type": "scattermapbox"
        },
        {
         "lat": [
          22.4504396,
          22.4519834,
          22.4570997,
          22.4654579,
          22.4668716,
          22.4660231,
          22.4645854,
          22.4655961,
          22.469097,
          22.469097,
          22.4498149,
          22.4504396,
          22.4519834,
          22.453213,
          22.4553992,
          22.4558306,
          22.4617898,
          22.4607686,
          22.4558306,
          22.4553992,
          22.4519834,
          22.4519834,
          22.4504396,
          22.453213,
          22.4498149,
          22.4617898,
          22.4504396,
          22.4548219,
          22.4557192,
          22.4585023,
          22.4615927,
          22.4620587,
          22.4593465,
          22.459445,
          22.4609744,
          22.4618546,
          22.4609995,
          22.4645854,
          22.4660231,
          22.4655961,
          22.4650118,
          22.4498149,
          22.449919,
          22.4498149,
          22.4496103,
          22.449919,
          22.4498149,
          22.4620884,
          22.4624534,
          22.465724,
          22.4665215,
          22.4681275,
          22.4654579,
          22.4570997
         ],
         "lon": [
          113.9989511,
          113.998479,
          113.9953417,
          113.9959425,
          113.9961331,
          113.9981634,
          113.9977128,
          113.99919,
          113.9984766,
          113.9984766,
          114.0003673,
          113.9989511,
          113.998479,
          113.999273,
          113.9994186,
          113.9998148,
          113.9945796,
          113.9967442,
          113.9998148,
          113.9994186,
          113.998479,
          113.998479,
          113.9989511,
          113.999273,
          114.0003673,
          113.9945796,
          113.9989511,
          114.0067398,
          114.0065091,
          114.0041463,
          114.0019359,
          114.0014806,
          113.9993166,
          114.0019393,
          114.0018213,
          113.9975799,
          113.9971151,
          113.9977128,
          113.9981634,
          113.99919,
          114.0010065,
          114.0003673,
          113.9987955,
          114.0003673,
          114.0016226,
          113.9987955,
          114.0003673,
          114.0079821,
          114.0079931,
          114.0050474,
          114.005496,
          114.0034872,
          113.9959425,
          113.9953417
         ],
         "marker": {
          "color": [
           "#ea3323",
           "#ea3323",
           "#ea3323",
           "#ea3323",
           "#ea3323",
           "#ea3323",
           "#ea3323",
           "#ea3323",
           "#ea3323",
           "#ea3323",
           "#ff8b00",
           "#ff8b00",
           "#ff8b00",
           "#ff8b00",
           "#ff8b00",
           "#ff8b00",
           "#ff8b00",
           "#ff8b00",
           "#ff8b00",
           "#ff8b00",
           "#ff8b00",
           "#ff8b00",
           "#ff8b00",
           "#ff8b00",
           "#ff8b00",
           "#ff8b00",
           "#ff8b00",
           "#febb26",
           "#febb26",
           "#febb26",
           "#febb26",
           "#febb26",
           "#17873f",
           "#17873f",
           "#17873f",
           "#17873f",
           "#17873f",
           "#17873f",
           "#17873f",
           "#17873f",
           "#17873f",
           "#25dc67",
           "#25dc67",
           "#25dc67",
           "#25dc67",
           "#25dc67",
           "#25dc67",
           "#ffccdd",
           "#ffccdd",
           "#ffccdd",
           "#ffccdd",
           "#ffccdd",
           "#ffccdd",
           "#ffccdd"
          ],
          "size": 15
         },
         "mode": "markers",
         "name": "2024-08-02 21:20:55",
         "text": [
          "南葵中心3隊",
          "南葵中心3隊",
          "南葵中心3隊",
          "南葵中心3隊",
          "南葵中心3隊",
          "南葵中心3隊",
          "南葵中心3隊",
          "南葵中心3隊",
          "南葵中心3隊",
          "南葵中心3隊",
          "南葵中心4隊",
          "南葵中心4隊",
          "南葵中心4隊",
          "南葵中心4隊",
          "南葵中心4隊",
          "南葵中心4隊",
          "南葵中心4隊",
          "南葵中心4隊",
          "南葵中心4隊",
          "南葵中心4隊",
          "南葵中心4隊",
          "南葵中心4隊",
          "南葵中心4隊",
          "南葵中心4隊",
          "南葵中心4隊",
          "南葵中心4隊",
          "南葵中心4隊",
          "上環/將軍澳中心隊",
          "上環/將軍澳中心隊",
          "上環/將軍澳中心隊",
          "上環/將軍澳中心隊",
          "上環/將軍澳中心隊",
          "南葵中心2隊",
          "南葵中心2隊",
          "南葵中心2隊",
          "南葵中心2隊",
          "南葵中心2隊",
          "南葵中心2隊",
          "南葵中心2隊",
          "南葵中心2隊",
          "南葵中心2隊",
          "南葵中心1隊",
          "南葵中心1隊",
          "南葵中心1隊",
          "南葵中心1隊",
          "南葵中心1隊",
          "南葵中心1隊",
          "石蔭中心隊",
          "石蔭中心隊",
          "石蔭中心隊",
          "石蔭中心隊",
          "石蔭中心隊",
          "石蔭中心隊",
          "石蔭中心隊"
         ],
         "type": "scattermapbox"
        },
        {
         "lat": [
          22.4504396,
          22.4519834,
          22.4570997,
          22.4654579,
          22.4668716,
          22.4660231,
          22.4645854,
          22.4655961,
          22.469097,
          22.469097,
          22.4668716,
          22.4498149,
          22.4504396,
          22.4519834,
          22.453213,
          22.4553992,
          22.4558306,
          22.4617898,
          22.4607686,
          22.4558306,
          22.4553992,
          22.4519834,
          22.4519834,
          22.4504396,
          22.453213,
          22.4498149,
          22.4617898,
          22.4504396,
          22.4548219,
          22.4557192,
          22.4585023,
          22.4615927,
          22.4620587,
          22.4620289,
          22.4593465,
          22.459445,
          22.4609744,
          22.4618546,
          22.4609995,
          22.4645854,
          22.4660231,
          22.4655961,
          22.4650118,
          22.4498149,
          22.449919,
          22.4498149,
          22.4496103,
          22.449919,
          22.4498149,
          22.4620884,
          22.4624534,
          22.465724,
          22.4665215,
          22.4681275,
          22.4654579,
          22.4570997
         ],
         "lon": [
          113.9989511,
          113.998479,
          113.9953417,
          113.9959425,
          113.9961331,
          113.9981634,
          113.9977128,
          113.99919,
          113.9984766,
          113.9984766,
          113.9961331,
          114.0003673,
          113.9989511,
          113.998479,
          113.999273,
          113.9994186,
          113.9998148,
          113.9945796,
          113.9967442,
          113.9998148,
          113.9994186,
          113.998479,
          113.998479,
          113.9989511,
          113.999273,
          114.0003673,
          113.9945796,
          113.9989511,
          114.0067398,
          114.0065091,
          114.0041463,
          114.0019359,
          114.0014806,
          114.0055869,
          113.9993166,
          114.0019393,
          114.0018213,
          113.9975799,
          113.9971151,
          113.9977128,
          113.9981634,
          113.99919,
          114.0010065,
          114.0003673,
          113.9987955,
          114.0003673,
          114.0016226,
          113.9987955,
          114.0003673,
          114.0079821,
          114.0079931,
          114.0050474,
          114.005496,
          114.0034872,
          113.9959425,
          113.9953417
         ],
         "marker": {
          "color": [
           "#ea3323",
           "#ea3323",
           "#ea3323",
           "#ea3323",
           "#ea3323",
           "#ea3323",
           "#ea3323",
           "#ea3323",
           "#ea3323",
           "#ea3323",
           "#ea3323",
           "#ff8b00",
           "#ff8b00",
           "#ff8b00",
           "#ff8b00",
           "#ff8b00",
           "#ff8b00",
           "#ff8b00",
           "#ff8b00",
           "#ff8b00",
           "#ff8b00",
           "#ff8b00",
           "#ff8b00",
           "#ff8b00",
           "#ff8b00",
           "#ff8b00",
           "#ff8b00",
           "#ff8b00",
           "#febb26",
           "#febb26",
           "#febb26",
           "#febb26",
           "#febb26",
           "#febb26",
           "#17873f",
           "#17873f",
           "#17873f",
           "#17873f",
           "#17873f",
           "#17873f",
           "#17873f",
           "#17873f",
           "#17873f",
           "#25dc67",
           "#25dc67",
           "#25dc67",
           "#25dc67",
           "#25dc67",
           "#25dc67",
           "#ffccdd",
           "#ffccdd",
           "#ffccdd",
           "#ffccdd",
           "#ffccdd",
           "#ffccdd",
           "#ffccdd"
          ],
          "size": 15
         },
         "mode": "markers",
         "name": "2024-08-02 21:23:55",
         "text": [
          "南葵中心3隊",
          "南葵中心3隊",
          "南葵中心3隊",
          "南葵中心3隊",
          "南葵中心3隊",
          "南葵中心3隊",
          "南葵中心3隊",
          "南葵中心3隊",
          "南葵中心3隊",
          "南葵中心3隊",
          "南葵中心3隊",
          "南葵中心4隊",
          "南葵中心4隊",
          "南葵中心4隊",
          "南葵中心4隊",
          "南葵中心4隊",
          "南葵中心4隊",
          "南葵中心4隊",
          "南葵中心4隊",
          "南葵中心4隊",
          "南葵中心4隊",
          "南葵中心4隊",
          "南葵中心4隊",
          "南葵中心4隊",
          "南葵中心4隊",
          "南葵中心4隊",
          "南葵中心4隊",
          "南葵中心4隊",
          "上環/將軍澳中心隊",
          "上環/將軍澳中心隊",
          "上環/將軍澳中心隊",
          "上環/將軍澳中心隊",
          "上環/將軍澳中心隊",
          "上環/將軍澳中心隊",
          "南葵中心2隊",
          "南葵中心2隊",
          "南葵中心2隊",
          "南葵中心2隊",
          "南葵中心2隊",
          "南葵中心2隊",
          "南葵中心2隊",
          "南葵中心2隊",
          "南葵中心2隊",
          "南葵中心1隊",
          "南葵中心1隊",
          "南葵中心1隊",
          "南葵中心1隊",
          "南葵中心1隊",
          "南葵中心1隊",
          "石蔭中心隊",
          "石蔭中心隊",
          "石蔭中心隊",
          "石蔭中心隊",
          "石蔭中心隊",
          "石蔭中心隊",
          "石蔭中心隊"
         ],
         "type": "scattermapbox"
        },
        {
         "lat": [
          22.4504396,
          22.4519834,
          22.4570997,
          22.4654579,
          22.4668716,
          22.4660231,
          22.4645854,
          22.469097,
          22.469097,
          22.4668716,
          22.4645854,
          22.4660231,
          22.4655961,
          22.4498149,
          22.4504396,
          22.4519834,
          22.453213,
          22.4553992,
          22.4558306,
          22.4617898,
          22.4607686,
          22.4558306,
          22.4553992,
          22.4519834,
          22.4519834,
          22.4504396,
          22.453213,
          22.4498149,
          22.4617898,
          22.4504396,
          22.4548219,
          22.4557192,
          22.4585023,
          22.4615927,
          22.4620587,
          22.4620289,
          22.4620884,
          22.4593465,
          22.459445,
          22.4609744,
          22.4618546,
          22.4609995,
          22.4650118,
          22.4666509,
          22.4498149,
          22.449919,
          22.4498149,
          22.4496103,
          22.449919,
          22.4498149,
          22.4519834,
          22.4624534,
          22.465724,
          22.4665215,
          22.4681275,
          22.4654579,
          22.4570997
         ],
         "lon": [
          113.9989511,
          113.998479,
          113.9953417,
          113.9959425,
          113.9961331,
          113.9981634,
          113.9977128,
          113.9984766,
          113.9984766,
          113.9961331,
          113.9977128,
          113.9981634,
          113.99919,
          114.0003673,
          113.9989511,
          113.998479,
          113.999273,
          113.9994186,
          113.9998148,
          113.9945796,
          113.9967442,
          113.9998148,
          113.9994186,
          113.998479,
          113.998479,
          113.9989511,
          113.999273,
          114.0003673,
          113.9945796,
          113.9989511,
          114.0067398,
          114.0065091,
          114.0041463,
          114.0019359,
          114.0014806,
          114.0055869,
          114.0079821,
          113.9993166,
          114.0019393,
          114.0018213,
          113.9975799,
          113.9971151,
          114.0010065,
          114.002266,
          114.0003673,
          113.9987955,
          114.0003673,
          114.0016226,
          113.9987955,
          114.0003673,
          114.0015153,
          114.0079931,
          114.0050474,
          114.005496,
          114.0034872,
          113.9959425,
          113.9953417
         ],
         "marker": {
          "color": [
           "#ea3323",
           "#ea3323",
           "#ea3323",
           "#ea3323",
           "#ea3323",
           "#ea3323",
           "#ea3323",
           "#ea3323",
           "#ea3323",
           "#ea3323",
           "#ea3323",
           "#ea3323",
           "#ea3323",
           "#ff8b00",
           "#ff8b00",
           "#ff8b00",
           "#ff8b00",
           "#ff8b00",
           "#ff8b00",
           "#ff8b00",
           "#ff8b00",
           "#ff8b00",
           "#ff8b00",
           "#ff8b00",
           "#ff8b00",
           "#ff8b00",
           "#ff8b00",
           "#ff8b00",
           "#ff8b00",
           "#ff8b00",
           "#febb26",
           "#febb26",
           "#febb26",
           "#febb26",
           "#febb26",
           "#febb26",
           "#febb26",
           "#17873f",
           "#17873f",
           "#17873f",
           "#17873f",
           "#17873f",
           "#17873f",
           "#17873f",
           "#25dc67",
           "#25dc67",
           "#25dc67",
           "#25dc67",
           "#25dc67",
           "#25dc67",
           "#25dc67",
           "#ffccdd",
           "#ffccdd",
           "#ffccdd",
           "#ffccdd",
           "#ffccdd",
           "#ffccdd"
          ],
          "size": 15
         },
         "mode": "markers",
         "name": "2024-08-02 21:26:55",
         "text": [
          "南葵中心3隊",
          "南葵中心3隊",
          "南葵中心3隊",
          "南葵中心3隊",
          "南葵中心3隊",
          "南葵中心3隊",
          "南葵中心3隊",
          "南葵中心3隊",
          "南葵中心3隊",
          "南葵中心3隊",
          "南葵中心3隊",
          "南葵中心3隊",
          "南葵中心3隊",
          "南葵中心4隊",
          "南葵中心4隊",
          "南葵中心4隊",
          "南葵中心4隊",
          "南葵中心4隊",
          "南葵中心4隊",
          "南葵中心4隊",
          "南葵中心4隊",
          "南葵中心4隊",
          "南葵中心4隊",
          "南葵中心4隊",
          "南葵中心4隊",
          "南葵中心4隊",
          "南葵中心4隊",
          "南葵中心4隊",
          "南葵中心4隊",
          "南葵中心4隊",
          "上環/將軍澳中心隊",
          "上環/將軍澳中心隊",
          "上環/將軍澳中心隊",
          "上環/將軍澳中心隊",
          "上環/將軍澳中心隊",
          "上環/將軍澳中心隊",
          "上環/將軍澳中心隊",
          "南葵中心2隊",
          "南葵中心2隊",
          "南葵中心2隊",
          "南葵中心2隊",
          "南葵中心2隊",
          "南葵中心2隊",
          "南葵中心2隊",
          "南葵中心1隊",
          "南葵中心1隊",
          "南葵中心1隊",
          "南葵中心1隊",
          "南葵中心1隊",
          "南葵中心1隊",
          "南葵中心1隊",
          "石蔭中心隊",
          "石蔭中心隊",
          "石蔭中心隊",
          "石蔭中心隊",
          "石蔭中心隊",
          "石蔭中心隊"
         ],
         "type": "scattermapbox"
        },
        {
         "lat": [
          22.4504396,
          22.4519834,
          22.4570997,
          22.4654579,
          22.4660231,
          22.4645854,
          22.469097,
          22.469097,
          22.4645854,
          22.4660231,
          22.4655961,
          22.4498149,
          22.4504396,
          22.4519834,
          22.453213,
          22.4553992,
          22.4558306,
          22.4617898,
          22.4607686,
          22.4558306,
          22.4553992,
          22.4519834,
          22.4519834,
          22.4504396,
          22.453213,
          22.4498149,
          22.4617898,
          22.4504396,
          22.4548219,
          22.4557192,
          22.4585023,
          22.4615927,
          22.4620587,
          22.4620289,
          22.4620884,
          22.4624534,
          22.4593465,
          22.459445,
          22.4609744,
          22.4618546,
          22.4609995,
          22.4650118,
          22.4666509,
          22.4498149,
          22.449919,
          22.4498149,
          22.4496103,
          22.449919,
          22.4498149,
          22.4519834,
          22.465724,
          22.4665215,
          22.4681275,
          22.4654579,
          22.4570997
         ],
         "lon": [
          113.9989511,
          113.998479,
          113.9953417,
          113.9959425,
          113.9981634,
          113.9977128,
          113.9984766,
          113.9984766,
          113.9977128,
          113.9981634,
          113.99919,
          114.0003673,
          113.9989511,
          113.998479,
          113.999273,
          113.9994186,
          113.9998148,
          113.9945796,
          113.9967442,
          113.9998148,
          113.9994186,
          113.998479,
          113.998479,
          113.9989511,
          113.999273,
          114.0003673,
          113.9945796,
          113.9989511,
          114.0067398,
          114.0065091,
          114.0041463,
          114.0019359,
          114.0014806,
          114.0055869,
          114.0079821,
          114.0079931,
          113.9993166,
          114.0019393,
          114.0018213,
          113.9975799,
          113.9971151,
          114.0010065,
          114.002266,
          114.0003673,
          113.9987955,
          114.0003673,
          114.0016226,
          113.9987955,
          114.0003673,
          114.0015153,
          114.0050474,
          114.005496,
          114.0034872,
          113.9959425,
          113.9953417
         ],
         "marker": {
          "color": [
           "#ea3323",
           "#ea3323",
           "#ea3323",
           "#ea3323",
           "#ea3323",
           "#ea3323",
           "#ea3323",
           "#ea3323",
           "#ea3323",
           "#ea3323",
           "#ea3323",
           "#ff8b00",
           "#ff8b00",
           "#ff8b00",
           "#ff8b00",
           "#ff8b00",
           "#ff8b00",
           "#ff8b00",
           "#ff8b00",
           "#ff8b00",
           "#ff8b00",
           "#ff8b00",
           "#ff8b00",
           "#ff8b00",
           "#ff8b00",
           "#ff8b00",
           "#ff8b00",
           "#ff8b00",
           "#febb26",
           "#febb26",
           "#febb26",
           "#febb26",
           "#febb26",
           "#febb26",
           "#febb26",
           "#febb26",
           "#17873f",
           "#17873f",
           "#17873f",
           "#17873f",
           "#17873f",
           "#17873f",
           "#17873f",
           "#25dc67",
           "#25dc67",
           "#25dc67",
           "#25dc67",
           "#25dc67",
           "#25dc67",
           "#25dc67",
           "#ffccdd",
           "#ffccdd",
           "#ffccdd",
           "#ffccdd",
           "#ffccdd"
          ],
          "size": 15
         },
         "mode": "markers",
         "name": "2024-08-02 21:29:55",
         "text": [
          "南葵中心3隊",
          "南葵中心3隊",
          "南葵中心3隊",
          "南葵中心3隊",
          "南葵中心3隊",
          "南葵中心3隊",
          "南葵中心3隊",
          "南葵中心3隊",
          "南葵中心3隊",
          "南葵中心3隊",
          "南葵中心3隊",
          "南葵中心4隊",
          "南葵中心4隊",
          "南葵中心4隊",
          "南葵中心4隊",
          "南葵中心4隊",
          "南葵中心4隊",
          "南葵中心4隊",
          "南葵中心4隊",
          "南葵中心4隊",
          "南葵中心4隊",
          "南葵中心4隊",
          "南葵中心4隊",
          "南葵中心4隊",
          "南葵中心4隊",
          "南葵中心4隊",
          "南葵中心4隊",
          "南葵中心4隊",
          "上環/將軍澳中心隊",
          "上環/將軍澳中心隊",
          "上環/將軍澳中心隊",
          "上環/將軍澳中心隊",
          "上環/將軍澳中心隊",
          "上環/將軍澳中心隊",
          "上環/將軍澳中心隊",
          "上環/將軍澳中心隊",
          "南葵中心2隊",
          "南葵中心2隊",
          "南葵中心2隊",
          "南葵中心2隊",
          "南葵中心2隊",
          "南葵中心2隊",
          "南葵中心2隊",
          "南葵中心1隊",
          "南葵中心1隊",
          "南葵中心1隊",
          "南葵中心1隊",
          "南葵中心1隊",
          "南葵中心1隊",
          "南葵中心1隊",
          "石蔭中心隊",
          "石蔭中心隊",
          "石蔭中心隊",
          "石蔭中心隊",
          "石蔭中心隊"
         ],
         "type": "scattermapbox"
        },
        {
         "lat": [
          22.4504396,
          22.4519834,
          22.4570997,
          22.4654579,
          22.4660231,
          22.4645854,
          22.469097,
          22.469097,
          22.4645854,
          22.4660231,
          22.4655961,
          22.4498149,
          22.4504396,
          22.4519834,
          22.453213,
          22.4553992,
          22.4558306,
          22.4617898,
          22.4607686,
          22.4558306,
          22.4553992,
          22.4519834,
          22.4519834,
          22.4504396,
          22.453213,
          22.4498149,
          22.4617898,
          22.4504396,
          22.4548219,
          22.4557192,
          22.4585023,
          22.4615927,
          22.4620587,
          22.4620289,
          22.4620884,
          22.4624534,
          22.4593465,
          22.459445,
          22.4609744,
          22.4618546,
          22.4609995,
          22.4650118,
          22.4666509,
          22.4498149,
          22.449919,
          22.4498149,
          22.4496103,
          22.449919,
          22.4498149,
          22.4519834,
          22.4539074,
          22.465724,
          22.4665215,
          22.4681275,
          22.4654579,
          22.4570997
         ],
         "lon": [
          113.9989511,
          113.998479,
          113.9953417,
          113.9959425,
          113.9981634,
          113.9977128,
          113.9984766,
          113.9984766,
          113.9977128,
          113.9981634,
          113.99919,
          114.0003673,
          113.9989511,
          113.998479,
          113.999273,
          113.9994186,
          113.9998148,
          113.9945796,
          113.9967442,
          113.9998148,
          113.9994186,
          113.998479,
          113.998479,
          113.9989511,
          113.999273,
          114.0003673,
          113.9945796,
          113.9989511,
          114.0067398,
          114.0065091,
          114.0041463,
          114.0019359,
          114.0014806,
          114.0055869,
          114.0079821,
          114.0079931,
          113.9993166,
          114.0019393,
          114.0018213,
          113.9975799,
          113.9971151,
          114.0010065,
          114.002266,
          114.0003673,
          113.9987955,
          114.0003673,
          114.0016226,
          113.9987955,
          114.0003673,
          114.0015153,
          114.0037142,
          114.0050474,
          114.005496,
          114.0034872,
          113.9959425,
          113.9953417
         ],
         "marker": {
          "color": [
           "#ea3323",
           "#ea3323",
           "#ea3323",
           "#ea3323",
           "#ea3323",
           "#ea3323",
           "#ea3323",
           "#ea3323",
           "#ea3323",
           "#ea3323",
           "#ea3323",
           "#ff8b00",
           "#ff8b00",
           "#ff8b00",
           "#ff8b00",
           "#ff8b00",
           "#ff8b00",
           "#ff8b00",
           "#ff8b00",
           "#ff8b00",
           "#ff8b00",
           "#ff8b00",
           "#ff8b00",
           "#ff8b00",
           "#ff8b00",
           "#ff8b00",
           "#ff8b00",
           "#ff8b00",
           "#febb26",
           "#febb26",
           "#febb26",
           "#febb26",
           "#febb26",
           "#febb26",
           "#febb26",
           "#febb26",
           "#17873f",
           "#17873f",
           "#17873f",
           "#17873f",
           "#17873f",
           "#17873f",
           "#17873f",
           "#25dc67",
           "#25dc67",
           "#25dc67",
           "#25dc67",
           "#25dc67",
           "#25dc67",
           "#25dc67",
           "#25dc67",
           "#ffccdd",
           "#ffccdd",
           "#ffccdd",
           "#ffccdd",
           "#ffccdd"
          ],
          "size": 15
         },
         "mode": "markers",
         "name": "2024-08-02 21:32:55",
         "text": [
          "南葵中心3隊",
          "南葵中心3隊",
          "南葵中心3隊",
          "南葵中心3隊",
          "南葵中心3隊",
          "南葵中心3隊",
          "南葵中心3隊",
          "南葵中心3隊",
          "南葵中心3隊",
          "南葵中心3隊",
          "南葵中心3隊",
          "南葵中心4隊",
          "南葵中心4隊",
          "南葵中心4隊",
          "南葵中心4隊",
          "南葵中心4隊",
          "南葵中心4隊",
          "南葵中心4隊",
          "南葵中心4隊",
          "南葵中心4隊",
          "南葵中心4隊",
          "南葵中心4隊",
          "南葵中心4隊",
          "南葵中心4隊",
          "南葵中心4隊",
          "南葵中心4隊",
          "南葵中心4隊",
          "南葵中心4隊",
          "上環/將軍澳中心隊",
          "上環/將軍澳中心隊",
          "上環/將軍澳中心隊",
          "上環/將軍澳中心隊",
          "上環/將軍澳中心隊",
          "上環/將軍澳中心隊",
          "上環/將軍澳中心隊",
          "上環/將軍澳中心隊",
          "南葵中心2隊",
          "南葵中心2隊",
          "南葵中心2隊",
          "南葵中心2隊",
          "南葵中心2隊",
          "南葵中心2隊",
          "南葵中心2隊",
          "南葵中心1隊",
          "南葵中心1隊",
          "南葵中心1隊",
          "南葵中心1隊",
          "南葵中心1隊",
          "南葵中心1隊",
          "南葵中心1隊",
          "南葵中心1隊",
          "石蔭中心隊",
          "石蔭中心隊",
          "石蔭中心隊",
          "石蔭中心隊",
          "石蔭中心隊"
         ],
         "type": "scattermapbox"
        },
        {
         "lat": [
          22.4504396,
          22.4519834,
          22.4570997,
          22.4654579,
          22.4655961,
          22.4654579,
          22.4498149,
          22.4504396,
          22.4519834,
          22.453213,
          22.4553992,
          22.4558306,
          22.4617898,
          22.4607686,
          22.4558306,
          22.4553992,
          22.4519834,
          22.4519834,
          22.4504396,
          22.453213,
          22.4498149,
          22.4617898,
          22.4504396,
          22.4548219,
          22.4557192,
          22.4585023,
          22.4615927,
          22.4620587,
          22.4620289,
          22.4620884,
          22.4624534,
          22.4593465,
          22.459445,
          22.4609744,
          22.4618546,
          22.4609995,
          22.4650118,
          22.4666509,
          22.4498149,
          22.449919,
          22.4498149,
          22.4496103,
          22.449919,
          22.4498149,
          22.4519834,
          22.4539074,
          22.465724,
          22.4665215,
          22.4681275,
          22.4570997,
          22.4553992
         ],
         "lon": [
          113.9989511,
          113.998479,
          113.9953417,
          113.9959425,
          113.99919,
          113.9959425,
          114.0003673,
          113.9989511,
          113.998479,
          113.999273,
          113.9994186,
          113.9998148,
          113.9945796,
          113.9967442,
          113.9998148,
          113.9994186,
          113.998479,
          113.998479,
          113.9989511,
          113.999273,
          114.0003673,
          113.9945796,
          113.9989511,
          114.0067398,
          114.0065091,
          114.0041463,
          114.0019359,
          114.0014806,
          114.0055869,
          114.0079821,
          114.0079931,
          113.9993166,
          114.0019393,
          114.0018213,
          113.9975799,
          113.9971151,
          114.0010065,
          114.002266,
          114.0003673,
          113.9987955,
          114.0003673,
          114.0016226,
          113.9987955,
          114.0003673,
          114.0015153,
          114.0037142,
          114.0050474,
          114.005496,
          114.0034872,
          113.9953417,
          113.9994186
         ],
         "marker": {
          "color": [
           "#ea3323",
           "#ea3323",
           "#ea3323",
           "#ea3323",
           "#ea3323",
           "#ea3323",
           "#ff8b00",
           "#ff8b00",
           "#ff8b00",
           "#ff8b00",
           "#ff8b00",
           "#ff8b00",
           "#ff8b00",
           "#ff8b00",
           "#ff8b00",
           "#ff8b00",
           "#ff8b00",
           "#ff8b00",
           "#ff8b00",
           "#ff8b00",
           "#ff8b00",
           "#ff8b00",
           "#ff8b00",
           "#febb26",
           "#febb26",
           "#febb26",
           "#febb26",
           "#febb26",
           "#febb26",
           "#febb26",
           "#febb26",
           "#17873f",
           "#17873f",
           "#17873f",
           "#17873f",
           "#17873f",
           "#17873f",
           "#17873f",
           "#25dc67",
           "#25dc67",
           "#25dc67",
           "#25dc67",
           "#25dc67",
           "#25dc67",
           "#25dc67",
           "#25dc67",
           "#ffccdd",
           "#ffccdd",
           "#ffccdd",
           "#ffccdd",
           "#ffccdd"
          ],
          "size": 15
         },
         "mode": "markers",
         "name": "2024-08-02 21:35:55",
         "text": [
          "南葵中心3隊",
          "南葵中心3隊",
          "南葵中心3隊",
          "南葵中心3隊",
          "南葵中心3隊",
          "南葵中心3隊",
          "南葵中心4隊",
          "南葵中心4隊",
          "南葵中心4隊",
          "南葵中心4隊",
          "南葵中心4隊",
          "南葵中心4隊",
          "南葵中心4隊",
          "南葵中心4隊",
          "南葵中心4隊",
          "南葵中心4隊",
          "南葵中心4隊",
          "南葵中心4隊",
          "南葵中心4隊",
          "南葵中心4隊",
          "南葵中心4隊",
          "南葵中心4隊",
          "南葵中心4隊",
          "上環/將軍澳中心隊",
          "上環/將軍澳中心隊",
          "上環/將軍澳中心隊",
          "上環/將軍澳中心隊",
          "上環/將軍澳中心隊",
          "上環/將軍澳中心隊",
          "上環/將軍澳中心隊",
          "上環/將軍澳中心隊",
          "南葵中心2隊",
          "南葵中心2隊",
          "南葵中心2隊",
          "南葵中心2隊",
          "南葵中心2隊",
          "南葵中心2隊",
          "南葵中心2隊",
          "南葵中心1隊",
          "南葵中心1隊",
          "南葵中心1隊",
          "南葵中心1隊",
          "南葵中心1隊",
          "南葵中心1隊",
          "南葵中心1隊",
          "南葵中心1隊",
          "石蔭中心隊",
          "石蔭中心隊",
          "石蔭中心隊",
          "石蔭中心隊",
          "石蔭中心隊"
         ],
         "type": "scattermapbox"
        },
        {
         "lat": [
          22.4504396,
          22.4519834,
          22.4655961,
          22.4570997,
          22.4498149,
          22.4504396,
          22.4519834,
          22.453213,
          22.4553992,
          22.4558306,
          22.4617898,
          22.4607686,
          22.4558306,
          22.4553992,
          22.4519834,
          22.4519834,
          22.4504396,
          22.453213,
          22.4498149,
          22.4617898,
          22.4504396,
          22.4548219,
          22.4557192,
          22.4585023,
          22.4615927,
          22.4620587,
          22.4620289,
          22.4620884,
          22.4624534,
          22.4593465,
          22.459445,
          22.4609744,
          22.4618546,
          22.4609995,
          22.4650118,
          22.4666509,
          22.4663901,
          22.4498149,
          22.449919,
          22.4498149,
          22.4496103,
          22.449919,
          22.4498149,
          22.4519834,
          22.4539074,
          22.465724,
          22.4665215,
          22.4681275,
          22.4553992
         ],
         "lon": [
          113.9989511,
          113.998479,
          113.99919,
          113.9953417,
          114.0003673,
          113.9989511,
          113.998479,
          113.999273,
          113.9994186,
          113.9998148,
          113.9945796,
          113.9967442,
          113.9998148,
          113.9994186,
          113.998479,
          113.998479,
          113.9989511,
          113.999273,
          114.0003673,
          113.9945796,
          113.9989511,
          114.0067398,
          114.0065091,
          114.0041463,
          114.0019359,
          114.0014806,
          114.0055869,
          114.0079821,
          114.0079931,
          113.9993166,
          114.0019393,
          114.0018213,
          113.9975799,
          113.9971151,
          114.0010065,
          114.002266,
          114.0032108,
          114.0003673,
          113.9987955,
          114.0003673,
          114.0016226,
          113.9987955,
          114.0003673,
          114.0015153,
          114.0037142,
          114.0050474,
          114.005496,
          114.0034872,
          113.9994186
         ],
         "marker": {
          "color": [
           "#ea3323",
           "#ea3323",
           "#ea3323",
           "#ea3323",
           "#ff8b00",
           "#ff8b00",
           "#ff8b00",
           "#ff8b00",
           "#ff8b00",
           "#ff8b00",
           "#ff8b00",
           "#ff8b00",
           "#ff8b00",
           "#ff8b00",
           "#ff8b00",
           "#ff8b00",
           "#ff8b00",
           "#ff8b00",
           "#ff8b00",
           "#ff8b00",
           "#ff8b00",
           "#febb26",
           "#febb26",
           "#febb26",
           "#febb26",
           "#febb26",
           "#febb26",
           "#febb26",
           "#febb26",
           "#17873f",
           "#17873f",
           "#17873f",
           "#17873f",
           "#17873f",
           "#17873f",
           "#17873f",
           "#17873f",
           "#25dc67",
           "#25dc67",
           "#25dc67",
           "#25dc67",
           "#25dc67",
           "#25dc67",
           "#25dc67",
           "#25dc67",
           "#ffccdd",
           "#ffccdd",
           "#ffccdd",
           "#ffccdd"
          ],
          "size": 15
         },
         "mode": "markers",
         "name": "2024-08-02 21:38:55",
         "text": [
          "南葵中心3隊",
          "南葵中心3隊",
          "南葵中心3隊",
          "南葵中心3隊",
          "南葵中心4隊",
          "南葵中心4隊",
          "南葵中心4隊",
          "南葵中心4隊",
          "南葵中心4隊",
          "南葵中心4隊",
          "南葵中心4隊",
          "南葵中心4隊",
          "南葵中心4隊",
          "南葵中心4隊",
          "南葵中心4隊",
          "南葵中心4隊",
          "南葵中心4隊",
          "南葵中心4隊",
          "南葵中心4隊",
          "南葵中心4隊",
          "南葵中心4隊",
          "上環/將軍澳中心隊",
          "上環/將軍澳中心隊",
          "上環/將軍澳中心隊",
          "上環/將軍澳中心隊",
          "上環/將軍澳中心隊",
          "上環/將軍澳中心隊",
          "上環/將軍澳中心隊",
          "上環/將軍澳中心隊",
          "南葵中心2隊",
          "南葵中心2隊",
          "南葵中心2隊",
          "南葵中心2隊",
          "南葵中心2隊",
          "南葵中心2隊",
          "南葵中心2隊",
          "南葵中心2隊",
          "南葵中心1隊",
          "南葵中心1隊",
          "南葵中心1隊",
          "南葵中心1隊",
          "南葵中心1隊",
          "南葵中心1隊",
          "南葵中心1隊",
          "南葵中心1隊",
          "石蔭中心隊",
          "石蔭中心隊",
          "石蔭中心隊",
          "石蔭中心隊"
         ],
         "type": "scattermapbox"
        },
        {
         "lat": [
          22.4504396,
          22.4519834,
          22.4655961,
          22.4570997,
          22.4504396,
          22.4519834,
          22.453213,
          22.4553992,
          22.4558306,
          22.4607686,
          22.4558306,
          22.4553992,
          22.4519834,
          22.4519834,
          22.4504396,
          22.453213,
          22.4504396,
          22.4617898,
          22.4553992,
          22.4519834,
          22.4504396,
          22.4498149,
          22.4558306,
          22.4548219,
          22.4585023,
          22.4615927,
          22.4620587,
          22.4620289,
          22.4620884,
          22.4624534,
          22.4593465,
          22.459445,
          22.4609744,
          22.4618546,
          22.4609995,
          22.4650118,
          22.4666509,
          22.4663901,
          22.449919,
          22.4496103,
          22.449919,
          22.4519834,
          22.4539074,
          22.4557192,
          22.465724,
          22.4665215,
          22.4681275
         ],
         "lon": [
          113.9989511,
          113.998479,
          113.99919,
          113.9953417,
          113.9989511,
          113.998479,
          113.999273,
          113.9994186,
          113.9998148,
          113.9967442,
          113.9998148,
          113.9994186,
          113.998479,
          113.998479,
          113.9989511,
          113.999273,
          113.9989511,
          113.9945796,
          113.9994186,
          113.998479,
          113.9989511,
          114.0003673,
          113.9998148,
          114.0067398,
          114.0041463,
          114.0019359,
          114.0014806,
          114.0055869,
          114.0079821,
          114.0079931,
          113.9993166,
          114.0019393,
          114.0018213,
          113.9975799,
          113.9971151,
          114.0010065,
          114.002266,
          114.0032108,
          113.9987955,
          114.0016226,
          113.9987955,
          114.0015153,
          114.0037142,
          114.0065091,
          114.0050474,
          114.005496,
          114.0034872
         ],
         "marker": {
          "color": [
           "#ea3323",
           "#ea3323",
           "#ea3323",
           "#ea3323",
           "#ff8b00",
           "#ff8b00",
           "#ff8b00",
           "#ff8b00",
           "#ff8b00",
           "#ff8b00",
           "#ff8b00",
           "#ff8b00",
           "#ff8b00",
           "#ff8b00",
           "#ff8b00",
           "#ff8b00",
           "#ff8b00",
           "#ff8b00",
           "#ff8b00",
           "#ff8b00",
           "#ff8b00",
           "#ff8b00",
           "#ff8b00",
           "#febb26",
           "#febb26",
           "#febb26",
           "#febb26",
           "#febb26",
           "#febb26",
           "#febb26",
           "#17873f",
           "#17873f",
           "#17873f",
           "#17873f",
           "#17873f",
           "#17873f",
           "#17873f",
           "#17873f",
           "#25dc67",
           "#25dc67",
           "#25dc67",
           "#25dc67",
           "#25dc67",
           "#9c78fe",
           "#ffccdd",
           "#ffccdd",
           "#ffccdd"
          ],
          "size": 15
         },
         "mode": "markers",
         "name": "2024-08-02 21:41:55",
         "text": [
          "南葵中心3隊",
          "南葵中心3隊",
          "南葵中心3隊",
          "南葵中心3隊",
          "南葵中心4隊",
          "南葵中心4隊",
          "南葵中心4隊",
          "南葵中心4隊",
          "南葵中心4隊",
          "南葵中心4隊",
          "南葵中心4隊",
          "南葵中心4隊",
          "南葵中心4隊",
          "南葵中心4隊",
          "南葵中心4隊",
          "南葵中心4隊",
          "南葵中心4隊",
          "南葵中心4隊",
          "南葵中心4隊",
          "南葵中心4隊",
          "南葵中心4隊",
          "南葵中心4隊",
          "南葵中心4隊",
          "上環/將軍澳中心隊",
          "上環/將軍澳中心隊",
          "上環/將軍澳中心隊",
          "上環/將軍澳中心隊",
          "上環/將軍澳中心隊",
          "上環/將軍澳中心隊",
          "上環/將軍澳中心隊",
          "南葵中心2隊",
          "南葵中心2隊",
          "南葵中心2隊",
          "南葵中心2隊",
          "南葵中心2隊",
          "南葵中心2隊",
          "南葵中心2隊",
          "南葵中心2隊",
          "南葵中心1隊",
          "南葵中心1隊",
          "南葵中心1隊",
          "南葵中心1隊",
          "南葵中心1隊",
          "上環中心隊",
          "石蔭中心隊",
          "石蔭中心隊",
          "石蔭中心隊"
         ],
         "type": "scattermapbox"
        },
        {
         "lat": [
          22.4655961,
          22.4570997,
          22.4519834,
          22.4504396,
          22.4553992,
          22.4558306,
          22.4607686,
          22.4558306,
          22.4553992,
          22.4617898,
          22.4553992,
          22.4498149,
          22.4558306,
          22.453213,
          22.4548219,
          22.4585023,
          22.4615927,
          22.4620587,
          22.4620289,
          22.4620884,
          22.4624534,
          22.4635652,
          22.4593465,
          22.459445,
          22.4609744,
          22.4618546,
          22.4609995,
          22.4650118,
          22.4666509,
          22.4663901,
          22.449919,
          22.4496103,
          22.449919,
          22.4519834,
          22.4539074,
          22.4557192,
          22.465724,
          22.4665215,
          22.4681275
         ],
         "lon": [
          113.99919,
          113.9953417,
          113.998479,
          113.9989511,
          113.9994186,
          113.9998148,
          113.9967442,
          113.9998148,
          113.9994186,
          113.9945796,
          113.9994186,
          114.0003673,
          113.9998148,
          113.999273,
          114.0067398,
          114.0041463,
          114.0019359,
          114.0014806,
          114.0055869,
          114.0079821,
          114.0079931,
          114.0041254,
          113.9993166,
          114.0019393,
          114.0018213,
          113.9975799,
          113.9971151,
          114.0010065,
          114.002266,
          114.0032108,
          113.9987955,
          114.0016226,
          113.9987955,
          114.0015153,
          114.0037142,
          114.0065091,
          114.0050474,
          114.005496,
          114.0034872
         ],
         "marker": {
          "color": [
           "#ea3323",
           "#ea3323",
           "#ea3323",
           "#ea3323",
           "#ff8b00",
           "#ff8b00",
           "#ff8b00",
           "#ff8b00",
           "#ff8b00",
           "#ff8b00",
           "#ff8b00",
           "#ff8b00",
           "#ff8b00",
           "#ff8b00",
           "#febb26",
           "#febb26",
           "#febb26",
           "#febb26",
           "#febb26",
           "#febb26",
           "#febb26",
           "#febb26",
           "#17873f",
           "#17873f",
           "#17873f",
           "#17873f",
           "#17873f",
           "#17873f",
           "#17873f",
           "#17873f",
           "#25dc67",
           "#25dc67",
           "#25dc67",
           "#25dc67",
           "#25dc67",
           "#9c78fe",
           "#ffccdd",
           "#ffccdd",
           "#ffccdd"
          ],
          "size": 15
         },
         "mode": "markers",
         "name": "2024-08-02 21:44:55",
         "text": [
          "南葵中心3隊",
          "南葵中心3隊",
          "南葵中心3隊",
          "南葵中心3隊",
          "南葵中心4隊",
          "南葵中心4隊",
          "南葵中心4隊",
          "南葵中心4隊",
          "南葵中心4隊",
          "南葵中心4隊",
          "南葵中心4隊",
          "南葵中心4隊",
          "南葵中心4隊",
          "南葵中心4隊",
          "上環/將軍澳中心隊",
          "上環/將軍澳中心隊",
          "上環/將軍澳中心隊",
          "上環/將軍澳中心隊",
          "上環/將軍澳中心隊",
          "上環/將軍澳中心隊",
          "上環/將軍澳中心隊",
          "上環/將軍澳中心隊",
          "南葵中心2隊",
          "南葵中心2隊",
          "南葵中心2隊",
          "南葵中心2隊",
          "南葵中心2隊",
          "南葵中心2隊",
          "南葵中心2隊",
          "南葵中心2隊",
          "南葵中心1隊",
          "南葵中心1隊",
          "南葵中心1隊",
          "南葵中心1隊",
          "南葵中心1隊",
          "上環中心隊",
          "石蔭中心隊",
          "石蔭中心隊",
          "石蔭中心隊"
         ],
         "type": "scattermapbox"
        },
        {
         "lat": [
          22.4655961,
          22.4570997,
          22.4519834,
          22.4504396,
          22.4553992,
          22.4558306,
          22.4607686,
          22.4558306,
          22.4553992,
          22.4617898,
          22.4553992,
          22.4498149,
          22.4558306,
          22.453213,
          22.4585023,
          22.4615927,
          22.4620587,
          22.4620289,
          22.4620884,
          22.4624534,
          22.4635652,
          22.4639442,
          22.4593465,
          22.459445,
          22.4618546,
          22.4609995,
          22.4650118,
          22.4666509,
          22.4663901,
          22.465724,
          22.449919,
          22.4496103,
          22.449919,
          22.4519834,
          22.4539074,
          22.4609744,
          22.4557192,
          22.4548219,
          22.4665215,
          22.4681275
         ],
         "lon": [
          113.99919,
          113.9953417,
          113.998479,
          113.9989511,
          113.9994186,
          113.9998148,
          113.9967442,
          113.9998148,
          113.9994186,
          113.9945796,
          113.9994186,
          114.0003673,
          113.9998148,
          113.999273,
          114.0041463,
          114.0019359,
          114.0014806,
          114.0055869,
          114.0079821,
          114.0079931,
          114.0041254,
          114.006367,
          113.9993166,
          114.0019393,
          113.9975799,
          113.9971151,
          114.0010065,
          114.002266,
          114.0032108,
          114.0050474,
          113.9987955,
          114.0016226,
          113.9987955,
          114.0015153,
          114.0037142,
          114.0018213,
          114.0065091,
          114.0067398,
          114.005496,
          114.0034872
         ],
         "marker": {
          "color": [
           "#ea3323",
           "#ea3323",
           "#ea3323",
           "#ea3323",
           "#ff8b00",
           "#ff8b00",
           "#ff8b00",
           "#ff8b00",
           "#ff8b00",
           "#ff8b00",
           "#ff8b00",
           "#ff8b00",
           "#ff8b00",
           "#ff8b00",
           "#febb26",
           "#febb26",
           "#febb26",
           "#febb26",
           "#febb26",
           "#febb26",
           "#febb26",
           "#febb26",
           "#17873f",
           "#17873f",
           "#17873f",
           "#17873f",
           "#17873f",
           "#17873f",
           "#17873f",
           "#17873f",
           "#25dc67",
           "#25dc67",
           "#25dc67",
           "#25dc67",
           "#25dc67",
           "#25dc67",
           "#9c78fe",
           "#9c78fe",
           "#ffccdd",
           "#ffccdd"
          ],
          "size": 15
         },
         "mode": "markers",
         "name": "2024-08-02 21:47:55",
         "text": [
          "南葵中心3隊",
          "南葵中心3隊",
          "南葵中心3隊",
          "南葵中心3隊",
          "南葵中心4隊",
          "南葵中心4隊",
          "南葵中心4隊",
          "南葵中心4隊",
          "南葵中心4隊",
          "南葵中心4隊",
          "南葵中心4隊",
          "南葵中心4隊",
          "南葵中心4隊",
          "南葵中心4隊",
          "上環/將軍澳中心隊",
          "上環/將軍澳中心隊",
          "上環/將軍澳中心隊",
          "上環/將軍澳中心隊",
          "上環/將軍澳中心隊",
          "上環/將軍澳中心隊",
          "上環/將軍澳中心隊",
          "上環/將軍澳中心隊",
          "南葵中心2隊",
          "南葵中心2隊",
          "南葵中心2隊",
          "南葵中心2隊",
          "南葵中心2隊",
          "南葵中心2隊",
          "南葵中心2隊",
          "南葵中心2隊",
          "南葵中心1隊",
          "南葵中心1隊",
          "南葵中心1隊",
          "南葵中心1隊",
          "南葵中心1隊",
          "南葵中心1隊",
          "上環中心隊",
          "上環中心隊",
          "石蔭中心隊",
          "石蔭中心隊"
         ],
         "type": "scattermapbox"
        },
        {
         "lat": [
          22.4655961,
          22.4570997,
          22.4519834,
          22.4504396,
          22.449919,
          22.4553992,
          22.4558306,
          22.4607686,
          22.4558306,
          22.4553992,
          22.4617898,
          22.4553992,
          22.4498149,
          22.4558306,
          22.453213,
          22.4585023,
          22.4615927,
          22.4620587,
          22.4620289,
          22.4620884,
          22.4624534,
          22.4635652,
          22.4639442,
          22.4593465,
          22.459445,
          22.4618546,
          22.4609995,
          22.4650118,
          22.4666509,
          22.4663901,
          22.465724,
          22.4496103,
          22.4519834,
          22.4539074,
          22.4609744,
          22.4557192,
          22.4548219,
          22.4665215,
          22.4681275
         ],
         "lon": [
          113.99919,
          113.9953417,
          113.998479,
          113.9989511,
          113.9987955,
          113.9994186,
          113.9998148,
          113.9967442,
          113.9998148,
          113.9994186,
          113.9945796,
          113.9994186,
          114.0003673,
          113.9998148,
          113.999273,
          114.0041463,
          114.0019359,
          114.0014806,
          114.0055869,
          114.0079821,
          114.0079931,
          114.0041254,
          114.006367,
          113.9993166,
          114.0019393,
          113.9975799,
          113.9971151,
          114.0010065,
          114.002266,
          114.0032108,
          114.0050474,
          114.0016226,
          114.0015153,
          114.0037142,
          114.0018213,
          114.0065091,
          114.0067398,
          114.005496,
          114.0034872
         ],
         "marker": {
          "color": [
           "#ea3323",
           "#ea3323",
           "#ea3323",
           "#ea3323",
           "#ea3323",
           "#ff8b00",
           "#ff8b00",
           "#ff8b00",
           "#ff8b00",
           "#ff8b00",
           "#ff8b00",
           "#ff8b00",
           "#ff8b00",
           "#ff8b00",
           "#ff8b00",
           "#febb26",
           "#febb26",
           "#febb26",
           "#febb26",
           "#febb26",
           "#febb26",
           "#febb26",
           "#febb26",
           "#17873f",
           "#17873f",
           "#17873f",
           "#17873f",
           "#17873f",
           "#17873f",
           "#17873f",
           "#17873f",
           "#25dc67",
           "#25dc67",
           "#25dc67",
           "#25dc67",
           "#9c78fe",
           "#9c78fe",
           "#ffccdd",
           "#ffccdd"
          ],
          "size": 15
         },
         "mode": "markers",
         "name": "2024-08-02 21:50:55",
         "text": [
          "南葵中心3隊",
          "南葵中心3隊",
          "南葵中心3隊",
          "南葵中心3隊",
          "南葵中心3隊",
          "南葵中心4隊",
          "南葵中心4隊",
          "南葵中心4隊",
          "南葵中心4隊",
          "南葵中心4隊",
          "南葵中心4隊",
          "南葵中心4隊",
          "南葵中心4隊",
          "南葵中心4隊",
          "南葵中心4隊",
          "上環/將軍澳中心隊",
          "上環/將軍澳中心隊",
          "上環/將軍澳中心隊",
          "上環/將軍澳中心隊",
          "上環/將軍澳中心隊",
          "上環/將軍澳中心隊",
          "上環/將軍澳中心隊",
          "上環/將軍澳中心隊",
          "南葵中心2隊",
          "南葵中心2隊",
          "南葵中心2隊",
          "南葵中心2隊",
          "南葵中心2隊",
          "南葵中心2隊",
          "南葵中心2隊",
          "南葵中心2隊",
          "南葵中心1隊",
          "南葵中心1隊",
          "南葵中心1隊",
          "南葵中心1隊",
          "上環中心隊",
          "上環中心隊",
          "石蔭中心隊",
          "石蔭中心隊"
         ],
         "type": "scattermapbox"
        },
        {
         "lat": [
          22.4655961,
          22.4570997,
          22.4519834,
          22.4504396,
          22.449919,
          22.4553992,
          22.4558306,
          22.4607686,
          22.4558306,
          22.4553992,
          22.4617898,
          22.4553992,
          22.4498149,
          22.4558306,
          22.453213,
          22.4615927,
          22.4620587,
          22.4620289,
          22.4620884,
          22.4624534,
          22.4635652,
          22.4639442,
          22.4593465,
          22.459445,
          22.4618546,
          22.4609995,
          22.4650118,
          22.4666509,
          22.4663901,
          22.465724,
          22.4681275,
          22.4496103,
          22.4519834,
          22.4539074,
          22.4609744,
          22.4585023,
          22.4557192,
          22.4548219,
          22.4665215
         ],
         "lon": [
          113.99919,
          113.9953417,
          113.998479,
          113.9989511,
          113.9987955,
          113.9994186,
          113.9998148,
          113.9967442,
          113.9998148,
          113.9994186,
          113.9945796,
          113.9994186,
          114.0003673,
          113.9998148,
          113.999273,
          114.0019359,
          114.0014806,
          114.0055869,
          114.0079821,
          114.0079931,
          114.0041254,
          114.006367,
          113.9993166,
          114.0019393,
          113.9975799,
          113.9971151,
          114.0010065,
          114.002266,
          114.0032108,
          114.0050474,
          114.0034872,
          114.0016226,
          114.0015153,
          114.0037142,
          114.0018213,
          114.0041463,
          114.0065091,
          114.0067398,
          114.005496
         ],
         "marker": {
          "color": [
           "#ea3323",
           "#ea3323",
           "#ea3323",
           "#ea3323",
           "#ea3323",
           "#ff8b00",
           "#ff8b00",
           "#ff8b00",
           "#ff8b00",
           "#ff8b00",
           "#ff8b00",
           "#ff8b00",
           "#ff8b00",
           "#ff8b00",
           "#ff8b00",
           "#febb26",
           "#febb26",
           "#febb26",
           "#febb26",
           "#febb26",
           "#febb26",
           "#febb26",
           "#17873f",
           "#17873f",
           "#17873f",
           "#17873f",
           "#17873f",
           "#17873f",
           "#17873f",
           "#17873f",
           "#17873f",
           "#25dc67",
           "#25dc67",
           "#25dc67",
           "#25dc67",
           "#25dc67",
           "#9c78fe",
           "#9c78fe",
           "#ffccdd"
          ],
          "size": 15
         },
         "mode": "markers",
         "name": "2024-08-02 21:53:55",
         "text": [
          "南葵中心3隊",
          "南葵中心3隊",
          "南葵中心3隊",
          "南葵中心3隊",
          "南葵中心3隊",
          "南葵中心4隊",
          "南葵中心4隊",
          "南葵中心4隊",
          "南葵中心4隊",
          "南葵中心4隊",
          "南葵中心4隊",
          "南葵中心4隊",
          "南葵中心4隊",
          "南葵中心4隊",
          "南葵中心4隊",
          "上環/將軍澳中心隊",
          "上環/將軍澳中心隊",
          "上環/將軍澳中心隊",
          "上環/將軍澳中心隊",
          "上環/將軍澳中心隊",
          "上環/將軍澳中心隊",
          "上環/將軍澳中心隊",
          "南葵中心2隊",
          "南葵中心2隊",
          "南葵中心2隊",
          "南葵中心2隊",
          "南葵中心2隊",
          "南葵中心2隊",
          "南葵中心2隊",
          "南葵中心2隊",
          "南葵中心2隊",
          "南葵中心1隊",
          "南葵中心1隊",
          "南葵中心1隊",
          "南葵中心1隊",
          "南葵中心1隊",
          "上環中心隊",
          "上環中心隊",
          "石蔭中心隊"
         ],
         "type": "scattermapbox"
        },
        {
         "lat": [
          22.4655961,
          22.4570997,
          22.4519834,
          22.4504396,
          22.449919,
          22.4553992,
          22.4558306,
          22.4607686,
          22.4558306,
          22.4553992,
          22.4617898,
          22.4553992,
          22.4498149,
          22.4558306,
          22.453213,
          22.4615927,
          22.4620587,
          22.4620289,
          22.4620884,
          22.4624534,
          22.4635652,
          22.4639442,
          22.4593465,
          22.459445,
          22.4618546,
          22.4609995,
          22.4650118,
          22.4666509,
          22.4663901,
          22.465724,
          22.4681275,
          22.4713162,
          22.4496103,
          22.4519834,
          22.4539074,
          22.4609744,
          22.4585023,
          22.4557192,
          22.4548219,
          22.4665215
         ],
         "lon": [
          113.99919,
          113.9953417,
          113.998479,
          113.9989511,
          113.9987955,
          113.9994186,
          113.9998148,
          113.9967442,
          113.9998148,
          113.9994186,
          113.9945796,
          113.9994186,
          114.0003673,
          113.9998148,
          113.999273,
          114.0019359,
          114.0014806,
          114.0055869,
          114.0079821,
          114.0079931,
          114.0041254,
          114.006367,
          113.9993166,
          114.0019393,
          113.9975799,
          113.9971151,
          114.0010065,
          114.002266,
          114.0032108,
          114.0050474,
          114.0034872,
          114.0022616,
          114.0016226,
          114.0015153,
          114.0037142,
          114.0018213,
          114.0041463,
          114.0065091,
          114.0067398,
          114.005496
         ],
         "marker": {
          "color": [
           "#ea3323",
           "#ea3323",
           "#ea3323",
           "#ea3323",
           "#ea3323",
           "#ff8b00",
           "#ff8b00",
           "#ff8b00",
           "#ff8b00",
           "#ff8b00",
           "#ff8b00",
           "#ff8b00",
           "#ff8b00",
           "#ff8b00",
           "#ff8b00",
           "#febb26",
           "#febb26",
           "#febb26",
           "#febb26",
           "#febb26",
           "#febb26",
           "#febb26",
           "#17873f",
           "#17873f",
           "#17873f",
           "#17873f",
           "#17873f",
           "#17873f",
           "#17873f",
           "#17873f",
           "#17873f",
           "#17873f",
           "#25dc67",
           "#25dc67",
           "#25dc67",
           "#25dc67",
           "#25dc67",
           "#9c78fe",
           "#9c78fe",
           "#ffccdd"
          ],
          "size": 15
         },
         "mode": "markers",
         "name": "2024-08-02 21:56:55",
         "text": [
          "南葵中心3隊",
          "南葵中心3隊",
          "南葵中心3隊",
          "南葵中心3隊",
          "南葵中心3隊",
          "南葵中心4隊",
          "南葵中心4隊",
          "南葵中心4隊",
          "南葵中心4隊",
          "南葵中心4隊",
          "南葵中心4隊",
          "南葵中心4隊",
          "南葵中心4隊",
          "南葵中心4隊",
          "南葵中心4隊",
          "上環/將軍澳中心隊",
          "上環/將軍澳中心隊",
          "上環/將軍澳中心隊",
          "上環/將軍澳中心隊",
          "上環/將軍澳中心隊",
          "上環/將軍澳中心隊",
          "上環/將軍澳中心隊",
          "南葵中心2隊",
          "南葵中心2隊",
          "南葵中心2隊",
          "南葵中心2隊",
          "南葵中心2隊",
          "南葵中心2隊",
          "南葵中心2隊",
          "南葵中心2隊",
          "南葵中心2隊",
          "南葵中心2隊",
          "南葵中心1隊",
          "南葵中心1隊",
          "南葵中心1隊",
          "南葵中心1隊",
          "南葵中心1隊",
          "上環中心隊",
          "上環中心隊",
          "石蔭中心隊"
         ],
         "type": "scattermapbox"
        },
        {
         "lat": [
          22.4655961,
          22.4570997,
          22.4519834,
          22.4504396,
          22.449919,
          22.4553992,
          22.4558306,
          22.4607686,
          22.4558306,
          22.4553992,
          22.4617898,
          22.4553992,
          22.4498149,
          22.4558306,
          22.453213,
          22.4615927,
          22.4620587,
          22.4620289,
          22.4620884,
          22.4624534,
          22.4635652,
          22.4639442,
          22.4593465,
          22.459445,
          22.4618546,
          22.4609995,
          22.4650118,
          22.4666509,
          22.4663901,
          22.465724,
          22.4681275,
          22.4713162,
          22.4496103,
          22.4519834,
          22.4539074,
          22.4609744,
          22.4585023,
          22.4557192,
          22.4557192,
          22.4548219,
          22.4665215
         ],
         "lon": [
          113.99919,
          113.9953417,
          113.998479,
          113.9989511,
          113.9987955,
          113.9994186,
          113.9998148,
          113.9967442,
          113.9998148,
          113.9994186,
          113.9945796,
          113.9994186,
          114.0003673,
          113.9998148,
          113.999273,
          114.0019359,
          114.0014806,
          114.0055869,
          114.0079821,
          114.0079931,
          114.0041254,
          114.006367,
          113.9993166,
          114.0019393,
          113.9975799,
          113.9971151,
          114.0010065,
          114.002266,
          114.0032108,
          114.0050474,
          114.0034872,
          114.0022616,
          114.0016226,
          114.0015153,
          114.0037142,
          114.0018213,
          114.0041463,
          114.0065091,
          114.0065091,
          114.0067398,
          114.005496
         ],
         "marker": {
          "color": [
           "#ea3323",
           "#ea3323",
           "#ea3323",
           "#ea3323",
           "#ea3323",
           "#ff8b00",
           "#ff8b00",
           "#ff8b00",
           "#ff8b00",
           "#ff8b00",
           "#ff8b00",
           "#ff8b00",
           "#ff8b00",
           "#ff8b00",
           "#ff8b00",
           "#febb26",
           "#febb26",
           "#febb26",
           "#febb26",
           "#febb26",
           "#febb26",
           "#febb26",
           "#17873f",
           "#17873f",
           "#17873f",
           "#17873f",
           "#17873f",
           "#17873f",
           "#17873f",
           "#17873f",
           "#17873f",
           "#17873f",
           "#25dc67",
           "#25dc67",
           "#25dc67",
           "#25dc67",
           "#25dc67",
           "#25dc67",
           "#9c78fe",
           "#9c78fe",
           "#ffccdd"
          ],
          "size": 15
         },
         "mode": "markers",
         "name": "2024-08-02 21:59:55",
         "text": [
          "南葵中心3隊",
          "南葵中心3隊",
          "南葵中心3隊",
          "南葵中心3隊",
          "南葵中心3隊",
          "南葵中心4隊",
          "南葵中心4隊",
          "南葵中心4隊",
          "南葵中心4隊",
          "南葵中心4隊",
          "南葵中心4隊",
          "南葵中心4隊",
          "南葵中心4隊",
          "南葵中心4隊",
          "南葵中心4隊",
          "上環/將軍澳中心隊",
          "上環/將軍澳中心隊",
          "上環/將軍澳中心隊",
          "上環/將軍澳中心隊",
          "上環/將軍澳中心隊",
          "上環/將軍澳中心隊",
          "上環/將軍澳中心隊",
          "南葵中心2隊",
          "南葵中心2隊",
          "南葵中心2隊",
          "南葵中心2隊",
          "南葵中心2隊",
          "南葵中心2隊",
          "南葵中心2隊",
          "南葵中心2隊",
          "南葵中心2隊",
          "南葵中心2隊",
          "南葵中心1隊",
          "南葵中心1隊",
          "南葵中心1隊",
          "南葵中心1隊",
          "南葵中心1隊",
          "南葵中心1隊",
          "上環中心隊",
          "上環中心隊",
          "石蔭中心隊"
         ],
         "type": "scattermapbox"
        },
        {
         "lat": [
          22.4655961,
          22.4570997,
          22.4519834,
          22.4504396,
          22.449919,
          22.4553992,
          22.4558306,
          22.4607686,
          22.4558306,
          22.4553992,
          22.4617898,
          22.4553992,
          22.4498149,
          22.4558306,
          22.453213,
          22.4615927,
          22.4620587,
          22.4620289,
          22.4620884,
          22.4624534,
          22.4635652,
          22.4639442,
          22.4593465,
          22.459445,
          22.4618546,
          22.4609995,
          22.4650118,
          22.4666509,
          22.4663901,
          22.465724,
          22.4681275,
          22.4713162,
          22.4496103,
          22.4519834,
          22.4539074,
          22.4609744,
          22.4585023,
          22.4557192,
          22.4548219,
          22.4557192,
          22.4665215
         ],
         "lon": [
          113.99919,
          113.9953417,
          113.998479,
          113.9989511,
          113.9987955,
          113.9994186,
          113.9998148,
          113.9967442,
          113.9998148,
          113.9994186,
          113.9945796,
          113.9994186,
          114.0003673,
          113.9998148,
          113.999273,
          114.0019359,
          114.0014806,
          114.0055869,
          114.0079821,
          114.0079931,
          114.0041254,
          114.006367,
          113.9993166,
          114.0019393,
          113.9975799,
          113.9971151,
          114.0010065,
          114.002266,
          114.0032108,
          114.0050474,
          114.0034872,
          114.0022616,
          114.0016226,
          114.0015153,
          114.0037142,
          114.0018213,
          114.0041463,
          114.0065091,
          114.0067398,
          114.0065091,
          114.005496
         ],
         "marker": {
          "color": [
           "#ea3323",
           "#ea3323",
           "#ea3323",
           "#ea3323",
           "#ea3323",
           "#ff8b00",
           "#ff8b00",
           "#ff8b00",
           "#ff8b00",
           "#ff8b00",
           "#ff8b00",
           "#ff8b00",
           "#ff8b00",
           "#ff8b00",
           "#ff8b00",
           "#febb26",
           "#febb26",
           "#febb26",
           "#febb26",
           "#febb26",
           "#febb26",
           "#febb26",
           "#17873f",
           "#17873f",
           "#17873f",
           "#17873f",
           "#17873f",
           "#17873f",
           "#17873f",
           "#17873f",
           "#17873f",
           "#17873f",
           "#25dc67",
           "#25dc67",
           "#25dc67",
           "#25dc67",
           "#25dc67",
           "#25dc67",
           "#25dc67",
           "#9c78fe",
           "#ffccdd"
          ],
          "size": 15
         },
         "mode": "markers",
         "name": "2024-08-02 22:02:55",
         "text": [
          "南葵中心3隊",
          "南葵中心3隊",
          "南葵中心3隊",
          "南葵中心3隊",
          "南葵中心3隊",
          "南葵中心4隊",
          "南葵中心4隊",
          "南葵中心4隊",
          "南葵中心4隊",
          "南葵中心4隊",
          "南葵中心4隊",
          "南葵中心4隊",
          "南葵中心4隊",
          "南葵中心4隊",
          "南葵中心4隊",
          "上環/將軍澳中心隊",
          "上環/將軍澳中心隊",
          "上環/將軍澳中心隊",
          "上環/將軍澳中心隊",
          "上環/將軍澳中心隊",
          "上環/將軍澳中心隊",
          "上環/將軍澳中心隊",
          "南葵中心2隊",
          "南葵中心2隊",
          "南葵中心2隊",
          "南葵中心2隊",
          "南葵中心2隊",
          "南葵中心2隊",
          "南葵中心2隊",
          "南葵中心2隊",
          "南葵中心2隊",
          "南葵中心2隊",
          "南葵中心1隊",
          "南葵中心1隊",
          "南葵中心1隊",
          "南葵中心1隊",
          "南葵中心1隊",
          "南葵中心1隊",
          "南葵中心1隊",
          "上環中心隊",
          "石蔭中心隊"
         ],
         "type": "scattermapbox"
        },
        {
         "lat": [
          22.4655961,
          22.4570997,
          22.4519834,
          22.4504396,
          22.449919,
          22.4553992,
          22.4558306,
          22.4607686,
          22.4558306,
          22.4553992,
          22.4617898,
          22.4553992,
          22.4498149,
          22.4558306,
          22.453213,
          22.4615927,
          22.4620587,
          22.4620289,
          22.4620884,
          22.4624534,
          22.4635652,
          22.4639442,
          22.4593465,
          22.459445,
          22.4618546,
          22.4609995,
          22.4650118,
          22.4666509,
          22.4663901,
          22.465724,
          22.4681275,
          22.4713162,
          22.4496103,
          22.4519834,
          22.4539074,
          22.4609744,
          22.4585023,
          22.4548219,
          22.4557192,
          22.4557192,
          22.4665215
         ],
         "lon": [
          113.99919,
          113.9953417,
          113.998479,
          113.9989511,
          113.9987955,
          113.9994186,
          113.9998148,
          113.9967442,
          113.9998148,
          113.9994186,
          113.9945796,
          113.9994186,
          114.0003673,
          113.9998148,
          113.999273,
          114.0019359,
          114.0014806,
          114.0055869,
          114.0079821,
          114.0079931,
          114.0041254,
          114.006367,
          113.9993166,
          114.0019393,
          113.9975799,
          113.9971151,
          114.0010065,
          114.002266,
          114.0032108,
          114.0050474,
          114.0034872,
          114.0022616,
          114.0016226,
          114.0015153,
          114.0037142,
          114.0018213,
          114.0041463,
          114.0067398,
          114.0065091,
          114.0065091,
          114.005496
         ],
         "marker": {
          "color": [
           "#ea3323",
           "#ea3323",
           "#ea3323",
           "#ea3323",
           "#ea3323",
           "#ff8b00",
           "#ff8b00",
           "#ff8b00",
           "#ff8b00",
           "#ff8b00",
           "#ff8b00",
           "#ff8b00",
           "#ff8b00",
           "#ff8b00",
           "#ff8b00",
           "#febb26",
           "#febb26",
           "#febb26",
           "#febb26",
           "#febb26",
           "#febb26",
           "#febb26",
           "#17873f",
           "#17873f",
           "#17873f",
           "#17873f",
           "#17873f",
           "#17873f",
           "#17873f",
           "#17873f",
           "#17873f",
           "#17873f",
           "#25dc67",
           "#25dc67",
           "#25dc67",
           "#25dc67",
           "#25dc67",
           "#25dc67",
           "#4f7af9",
           "#9c78fe",
           "#ffccdd"
          ],
          "size": 15
         },
         "mode": "markers",
         "name": "2024-08-02 22:05:55",
         "text": [
          "南葵中心3隊",
          "南葵中心3隊",
          "南葵中心3隊",
          "南葵中心3隊",
          "南葵中心3隊",
          "南葵中心4隊",
          "南葵中心4隊",
          "南葵中心4隊",
          "南葵中心4隊",
          "南葵中心4隊",
          "南葵中心4隊",
          "南葵中心4隊",
          "南葵中心4隊",
          "南葵中心4隊",
          "南葵中心4隊",
          "上環/將軍澳中心隊",
          "上環/將軍澳中心隊",
          "上環/將軍澳中心隊",
          "上環/將軍澳中心隊",
          "上環/將軍澳中心隊",
          "上環/將軍澳中心隊",
          "上環/將軍澳中心隊",
          "南葵中心2隊",
          "南葵中心2隊",
          "南葵中心2隊",
          "南葵中心2隊",
          "南葵中心2隊",
          "南葵中心2隊",
          "南葵中心2隊",
          "南葵中心2隊",
          "南葵中心2隊",
          "南葵中心2隊",
          "南葵中心1隊",
          "南葵中心1隊",
          "南葵中心1隊",
          "南葵中心1隊",
          "南葵中心1隊",
          "南葵中心1隊",
          "南區中心1隊",
          "上環中心隊",
          "石蔭中心隊"
         ],
         "type": "scattermapbox"
        },
        {
         "lat": [
          22.4655961,
          22.4570997,
          22.4519834,
          22.4504396,
          22.449919,
          22.4553992,
          22.4558306,
          22.4607686,
          22.4558306,
          22.4553992,
          22.4617898,
          22.4553992,
          22.4498149,
          22.4558306,
          22.453213,
          22.4615927,
          22.4620587,
          22.4620289,
          22.4620884,
          22.4624534,
          22.4635652,
          22.4639442,
          22.4593465,
          22.459445,
          22.4618546,
          22.4609995,
          22.4650118,
          22.4666509,
          22.4663901,
          22.465724,
          22.4681275,
          22.4713162,
          22.4496103,
          22.4519834,
          22.4539074,
          22.4609744,
          22.4585023,
          22.4510973,
          22.4557192,
          22.4548219,
          22.4557192,
          22.4665215
         ],
         "lon": [
          113.99919,
          113.9953417,
          113.998479,
          113.9989511,
          113.9987955,
          113.9994186,
          113.9998148,
          113.9967442,
          113.9998148,
          113.9994186,
          113.9945796,
          113.9994186,
          114.0003673,
          113.9998148,
          113.999273,
          114.0019359,
          114.0014806,
          114.0055869,
          114.0079821,
          114.0079931,
          114.0041254,
          114.006367,
          113.9993166,
          114.0019393,
          113.9975799,
          113.9971151,
          114.0010065,
          114.002266,
          114.0032108,
          114.0050474,
          114.0034872,
          114.0022616,
          114.0016226,
          114.0015153,
          114.0037142,
          114.0018213,
          114.0041463,
          114.0085632,
          114.0065091,
          114.0067398,
          114.0065091,
          114.005496
         ],
         "marker": {
          "color": [
           "#ea3323",
           "#ea3323",
           "#ea3323",
           "#ea3323",
           "#ea3323",
           "#ff8b00",
           "#ff8b00",
           "#ff8b00",
           "#ff8b00",
           "#ff8b00",
           "#ff8b00",
           "#ff8b00",
           "#ff8b00",
           "#ff8b00",
           "#ff8b00",
           "#febb26",
           "#febb26",
           "#febb26",
           "#febb26",
           "#febb26",
           "#febb26",
           "#febb26",
           "#17873f",
           "#17873f",
           "#17873f",
           "#17873f",
           "#17873f",
           "#17873f",
           "#17873f",
           "#17873f",
           "#17873f",
           "#17873f",
           "#25dc67",
           "#25dc67",
           "#25dc67",
           "#25dc67",
           "#25dc67",
           "#25dc67",
           "#4f7af9",
           "#4f7af9",
           "#9c78fe",
           "#ffccdd"
          ],
          "size": 15
         },
         "mode": "markers",
         "name": "2024-08-02 22:08:55",
         "text": [
          "南葵中心3隊",
          "南葵中心3隊",
          "南葵中心3隊",
          "南葵中心3隊",
          "南葵中心3隊",
          "南葵中心4隊",
          "南葵中心4隊",
          "南葵中心4隊",
          "南葵中心4隊",
          "南葵中心4隊",
          "南葵中心4隊",
          "南葵中心4隊",
          "南葵中心4隊",
          "南葵中心4隊",
          "南葵中心4隊",
          "上環/將軍澳中心隊",
          "上環/將軍澳中心隊",
          "上環/將軍澳中心隊",
          "上環/將軍澳中心隊",
          "上環/將軍澳中心隊",
          "上環/將軍澳中心隊",
          "上環/將軍澳中心隊",
          "南葵中心2隊",
          "南葵中心2隊",
          "南葵中心2隊",
          "南葵中心2隊",
          "南葵中心2隊",
          "南葵中心2隊",
          "南葵中心2隊",
          "南葵中心2隊",
          "南葵中心2隊",
          "南葵中心2隊",
          "南葵中心1隊",
          "南葵中心1隊",
          "南葵中心1隊",
          "南葵中心1隊",
          "南葵中心1隊",
          "南葵中心1隊",
          "南區中心1隊",
          "南區中心1隊",
          "上環中心隊",
          "石蔭中心隊"
         ],
         "type": "scattermapbox"
        },
        {
         "lat": [
          22.4655961,
          22.4570997,
          22.4519834,
          22.4504396,
          22.449919,
          22.4553992,
          22.4558306,
          22.4607686,
          22.4558306,
          22.4553992,
          22.4617898,
          22.4553992,
          22.4498149,
          22.4558306,
          22.453213,
          22.4615927,
          22.4620587,
          22.4620289,
          22.4620884,
          22.4624534,
          22.4635652,
          22.4639442,
          22.4593465,
          22.459445,
          22.4618546,
          22.4609995,
          22.4650118,
          22.4666509,
          22.4663901,
          22.465724,
          22.4681275,
          22.4713162,
          22.4496103,
          22.4519834,
          22.4539074,
          22.4609744,
          22.4585023,
          22.4510973,
          22.4557192,
          22.4548219,
          22.4557192,
          22.4665215
         ],
         "lon": [
          113.99919,
          113.9953417,
          113.998479,
          113.9989511,
          113.9987955,
          113.9994186,
          113.9998148,
          113.9967442,
          113.9998148,
          113.9994186,
          113.9945796,
          113.9994186,
          114.0003673,
          113.9998148,
          113.999273,
          114.0019359,
          114.0014806,
          114.0055869,
          114.0079821,
          114.0079931,
          114.0041254,
          114.006367,
          113.9993166,
          114.0019393,
          113.9975799,
          113.9971151,
          114.0010065,
          114.002266,
          114.0032108,
          114.0050474,
          114.0034872,
          114.0022616,
          114.0016226,
          114.0015153,
          114.0037142,
          114.0018213,
          114.0041463,
          114.0085632,
          114.0065091,
          114.0067398,
          114.0065091,
          114.005496
         ],
         "marker": {
          "color": [
           "#ea3323",
           "#ea3323",
           "#ea3323",
           "#ea3323",
           "#ea3323",
           "#ff8b00",
           "#ff8b00",
           "#ff8b00",
           "#ff8b00",
           "#ff8b00",
           "#ff8b00",
           "#ff8b00",
           "#ff8b00",
           "#ff8b00",
           "#ff8b00",
           "#febb26",
           "#febb26",
           "#febb26",
           "#febb26",
           "#febb26",
           "#febb26",
           "#febb26",
           "#17873f",
           "#17873f",
           "#17873f",
           "#17873f",
           "#17873f",
           "#17873f",
           "#17873f",
           "#17873f",
           "#17873f",
           "#17873f",
           "#25dc67",
           "#25dc67",
           "#25dc67",
           "#25dc67",
           "#25dc67",
           "#25dc67",
           "#4f7af9",
           "#4f7af9",
           "#9c78fe",
           "#ffccdd"
          ],
          "size": 15
         },
         "mode": "markers",
         "name": "2024-08-02 22:11:55",
         "text": [
          "南葵中心3隊",
          "南葵中心3隊",
          "南葵中心3隊",
          "南葵中心3隊",
          "南葵中心3隊",
          "南葵中心4隊",
          "南葵中心4隊",
          "南葵中心4隊",
          "南葵中心4隊",
          "南葵中心4隊",
          "南葵中心4隊",
          "南葵中心4隊",
          "南葵中心4隊",
          "南葵中心4隊",
          "南葵中心4隊",
          "上環/將軍澳中心隊",
          "上環/將軍澳中心隊",
          "上環/將軍澳中心隊",
          "上環/將軍澳中心隊",
          "上環/將軍澳中心隊",
          "上環/將軍澳中心隊",
          "上環/將軍澳中心隊",
          "南葵中心2隊",
          "南葵中心2隊",
          "南葵中心2隊",
          "南葵中心2隊",
          "南葵中心2隊",
          "南葵中心2隊",
          "南葵中心2隊",
          "南葵中心2隊",
          "南葵中心2隊",
          "南葵中心2隊",
          "南葵中心1隊",
          "南葵中心1隊",
          "南葵中心1隊",
          "南葵中心1隊",
          "南葵中心1隊",
          "南葵中心1隊",
          "南區中心1隊",
          "南區中心1隊",
          "上環中心隊",
          "石蔭中心隊"
         ],
         "type": "scattermapbox"
        },
        {
         "lat": [
          22.4655961,
          22.4570997,
          22.4519834,
          22.4504396,
          22.449919,
          22.4558306,
          22.4607686,
          22.4558306,
          22.4617898,
          22.4498149,
          22.4558306,
          22.453213,
          22.4615927,
          22.4620587,
          22.4620289,
          22.4620884,
          22.4624534,
          22.4635652,
          22.4639442,
          22.4553992,
          22.4593465,
          22.459445,
          22.4618546,
          22.4609995,
          22.4650118,
          22.4666509,
          22.4663901,
          22.465724,
          22.4681275,
          22.4713162,
          22.4496103,
          22.4519834,
          22.4539074,
          22.4609744,
          22.4510973,
          22.4557192,
          22.4548219,
          22.4557192,
          22.4585023,
          22.4665215
         ],
         "lon": [
          113.99919,
          113.9953417,
          113.998479,
          113.9989511,
          113.9987955,
          113.9998148,
          113.9967442,
          113.9998148,
          113.9945796,
          114.0003673,
          113.9998148,
          113.999273,
          114.0019359,
          114.0014806,
          114.0055869,
          114.0079821,
          114.0079931,
          114.0041254,
          114.006367,
          113.9994186,
          113.9993166,
          114.0019393,
          113.9975799,
          113.9971151,
          114.0010065,
          114.002266,
          114.0032108,
          114.0050474,
          114.0034872,
          114.0022616,
          114.0016226,
          114.0015153,
          114.0037142,
          114.0018213,
          114.0085632,
          114.0065091,
          114.0067398,
          114.0065091,
          114.0041463,
          114.005496
         ],
         "marker": {
          "color": [
           "#ea3323",
           "#ea3323",
           "#ea3323",
           "#ea3323",
           "#ea3323",
           "#ff8b00",
           "#ff8b00",
           "#ff8b00",
           "#ff8b00",
           "#ff8b00",
           "#ff8b00",
           "#ff8b00",
           "#febb26",
           "#febb26",
           "#febb26",
           "#febb26",
           "#febb26",
           "#febb26",
           "#febb26",
           "#febb26",
           "#17873f",
           "#17873f",
           "#17873f",
           "#17873f",
           "#17873f",
           "#17873f",
           "#17873f",
           "#17873f",
           "#17873f",
           "#17873f",
           "#25dc67",
           "#25dc67",
           "#25dc67",
           "#25dc67",
           "#25dc67",
           "#4f7af9",
           "#4f7af9",
           "#9c78fe",
           "#9c78fe",
           "#ffccdd"
          ],
          "size": 15
         },
         "mode": "markers",
         "name": "2024-08-02 22:14:55",
         "text": [
          "南葵中心3隊",
          "南葵中心3隊",
          "南葵中心3隊",
          "南葵中心3隊",
          "南葵中心3隊",
          "南葵中心4隊",
          "南葵中心4隊",
          "南葵中心4隊",
          "南葵中心4隊",
          "南葵中心4隊",
          "南葵中心4隊",
          "南葵中心4隊",
          "上環/將軍澳中心隊",
          "上環/將軍澳中心隊",
          "上環/將軍澳中心隊",
          "上環/將軍澳中心隊",
          "上環/將軍澳中心隊",
          "上環/將軍澳中心隊",
          "上環/將軍澳中心隊",
          "上環/將軍澳中心隊",
          "南葵中心2隊",
          "南葵中心2隊",
          "南葵中心2隊",
          "南葵中心2隊",
          "南葵中心2隊",
          "南葵中心2隊",
          "南葵中心2隊",
          "南葵中心2隊",
          "南葵中心2隊",
          "南葵中心2隊",
          "南葵中心1隊",
          "南葵中心1隊",
          "南葵中心1隊",
          "南葵中心1隊",
          "南葵中心1隊",
          "南區中心1隊",
          "南區中心1隊",
          "上環中心隊",
          "上環中心隊",
          "石蔭中心隊"
         ],
         "type": "scattermapbox"
        },
        {
         "lat": [
          22.4655961,
          22.4570997,
          22.4519834,
          22.4504396,
          22.449919,
          22.4607686,
          22.4617898,
          22.4498149,
          22.453213,
          22.4615927,
          22.4620587,
          22.4620289,
          22.4620884,
          22.4624534,
          22.4635652,
          22.4639442,
          22.4553992,
          22.4558306,
          22.4593465,
          22.459445,
          22.4618546,
          22.4609995,
          22.4650118,
          22.4666509,
          22.4663901,
          22.465724,
          22.4681275,
          22.4713162,
          22.4496103,
          22.4519834,
          22.4539074,
          22.4609744,
          22.4510973,
          22.4557192,
          22.4548219,
          22.4557192,
          22.4585023,
          22.4665215
         ],
         "lon": [
          113.99919,
          113.9953417,
          113.998479,
          113.9989511,
          113.9987955,
          113.9967442,
          113.9945796,
          114.0003673,
          113.999273,
          114.0019359,
          114.0014806,
          114.0055869,
          114.0079821,
          114.0079931,
          114.0041254,
          114.006367,
          113.9994186,
          113.9998148,
          113.9993166,
          114.0019393,
          113.9975799,
          113.9971151,
          114.0010065,
          114.002266,
          114.0032108,
          114.0050474,
          114.0034872,
          114.0022616,
          114.0016226,
          114.0015153,
          114.0037142,
          114.0018213,
          114.0085632,
          114.0065091,
          114.0067398,
          114.0065091,
          114.0041463,
          114.005496
         ],
         "marker": {
          "color": [
           "#ea3323",
           "#ea3323",
           "#ea3323",
           "#ea3323",
           "#ea3323",
           "#ff8b00",
           "#ff8b00",
           "#ff8b00",
           "#ff8b00",
           "#febb26",
           "#febb26",
           "#febb26",
           "#febb26",
           "#febb26",
           "#febb26",
           "#febb26",
           "#febb26",
           "#febb26",
           "#17873f",
           "#17873f",
           "#17873f",
           "#17873f",
           "#17873f",
           "#17873f",
           "#17873f",
           "#17873f",
           "#17873f",
           "#17873f",
           "#25dc67",
           "#25dc67",
           "#25dc67",
           "#25dc67",
           "#25dc67",
           "#4f7af9",
           "#4f7af9",
           "#9c78fe",
           "#9c78fe",
           "#ffccdd"
          ],
          "size": 15
         },
         "mode": "markers",
         "name": "2024-08-02 22:17:55",
         "text": [
          "南葵中心3隊",
          "南葵中心3隊",
          "南葵中心3隊",
          "南葵中心3隊",
          "南葵中心3隊",
          "南葵中心4隊",
          "南葵中心4隊",
          "南葵中心4隊",
          "南葵中心4隊",
          "上環/將軍澳中心隊",
          "上環/將軍澳中心隊",
          "上環/將軍澳中心隊",
          "上環/將軍澳中心隊",
          "上環/將軍澳中心隊",
          "上環/將軍澳中心隊",
          "上環/將軍澳中心隊",
          "上環/將軍澳中心隊",
          "上環/將軍澳中心隊",
          "南葵中心2隊",
          "南葵中心2隊",
          "南葵中心2隊",
          "南葵中心2隊",
          "南葵中心2隊",
          "南葵中心2隊",
          "南葵中心2隊",
          "南葵中心2隊",
          "南葵中心2隊",
          "南葵中心2隊",
          "南葵中心1隊",
          "南葵中心1隊",
          "南葵中心1隊",
          "南葵中心1隊",
          "南葵中心1隊",
          "南區中心1隊",
          "南區中心1隊",
          "上環中心隊",
          "上環中心隊",
          "石蔭中心隊"
         ],
         "type": "scattermapbox"
        },
        {
         "lat": [
          22.4655961,
          22.4570997,
          22.4519834,
          22.4504396,
          22.449919,
          22.4607686,
          22.4617898,
          22.4498149,
          22.453213,
          22.4615927,
          22.4620587,
          22.4620289,
          22.4620884,
          22.4624534,
          22.4635652,
          22.4639442,
          22.4553992,
          22.4558306,
          22.4593465,
          22.459445,
          22.4618546,
          22.4609995,
          22.4650118,
          22.4666509,
          22.4663901,
          22.465724,
          22.4681275,
          22.4713162,
          22.4496103,
          22.4519834,
          22.4539074,
          22.4609744,
          22.4510973,
          22.4557192,
          22.4548219,
          22.4557192,
          22.4585023,
          22.4665215
         ],
         "lon": [
          113.99919,
          113.9953417,
          113.998479,
          113.9989511,
          113.9987955,
          113.9967442,
          113.9945796,
          114.0003673,
          113.999273,
          114.0019359,
          114.0014806,
          114.0055869,
          114.0079821,
          114.0079931,
          114.0041254,
          114.006367,
          113.9994186,
          113.9998148,
          113.9993166,
          114.0019393,
          113.9975799,
          113.9971151,
          114.0010065,
          114.002266,
          114.0032108,
          114.0050474,
          114.0034872,
          114.0022616,
          114.0016226,
          114.0015153,
          114.0037142,
          114.0018213,
          114.0085632,
          114.0065091,
          114.0067398,
          114.0065091,
          114.0041463,
          114.005496
         ],
         "marker": {
          "color": [
           "#ea3323",
           "#ea3323",
           "#ea3323",
           "#ea3323",
           "#ea3323",
           "#ff8b00",
           "#ff8b00",
           "#ff8b00",
           "#ff8b00",
           "#febb26",
           "#febb26",
           "#febb26",
           "#febb26",
           "#febb26",
           "#febb26",
           "#febb26",
           "#febb26",
           "#febb26",
           "#17873f",
           "#17873f",
           "#17873f",
           "#17873f",
           "#17873f",
           "#17873f",
           "#17873f",
           "#17873f",
           "#17873f",
           "#17873f",
           "#25dc67",
           "#25dc67",
           "#25dc67",
           "#25dc67",
           "#25dc67",
           "#4f7af9",
           "#4f7af9",
           "#9c78fe",
           "#9c78fe",
           "#ffccdd"
          ],
          "size": 15
         },
         "mode": "markers",
         "name": "2024-08-02 22:20:55",
         "text": [
          "南葵中心3隊",
          "南葵中心3隊",
          "南葵中心3隊",
          "南葵中心3隊",
          "南葵中心3隊",
          "南葵中心4隊",
          "南葵中心4隊",
          "南葵中心4隊",
          "南葵中心4隊",
          "上環/將軍澳中心隊",
          "上環/將軍澳中心隊",
          "上環/將軍澳中心隊",
          "上環/將軍澳中心隊",
          "上環/將軍澳中心隊",
          "上環/將軍澳中心隊",
          "上環/將軍澳中心隊",
          "上環/將軍澳中心隊",
          "上環/將軍澳中心隊",
          "南葵中心2隊",
          "南葵中心2隊",
          "南葵中心2隊",
          "南葵中心2隊",
          "南葵中心2隊",
          "南葵中心2隊",
          "南葵中心2隊",
          "南葵中心2隊",
          "南葵中心2隊",
          "南葵中心2隊",
          "南葵中心1隊",
          "南葵中心1隊",
          "南葵中心1隊",
          "南葵中心1隊",
          "南葵中心1隊",
          "南區中心1隊",
          "南區中心1隊",
          "上環中心隊",
          "上環中心隊",
          "石蔭中心隊"
         ],
         "type": "scattermapbox"
        },
        {
         "lat": [
          22.4655961,
          22.4570997,
          22.4519834,
          22.4504396,
          22.449919,
          22.4607686,
          22.4617898,
          22.4498149,
          22.453213,
          22.4615927,
          22.4620587,
          22.4620289,
          22.4620884,
          22.4624534,
          22.4635652,
          22.4639442,
          22.4553992,
          22.4558306,
          22.4593465,
          22.4618546,
          22.4609995,
          22.4650118,
          22.4666509,
          22.4663901,
          22.465724,
          22.4681275,
          22.4713162,
          22.4496103,
          22.4519834,
          22.4539074,
          22.4609744,
          22.4510973,
          22.4557192,
          22.4548219,
          22.4557192,
          22.4585023,
          22.459445,
          22.4665215
         ],
         "lon": [
          113.99919,
          113.9953417,
          113.998479,
          113.9989511,
          113.9987955,
          113.9967442,
          113.9945796,
          114.0003673,
          113.999273,
          114.0019359,
          114.0014806,
          114.0055869,
          114.0079821,
          114.0079931,
          114.0041254,
          114.006367,
          113.9994186,
          113.9998148,
          113.9993166,
          113.9975799,
          113.9971151,
          114.0010065,
          114.002266,
          114.0032108,
          114.0050474,
          114.0034872,
          114.0022616,
          114.0016226,
          114.0015153,
          114.0037142,
          114.0018213,
          114.0085632,
          114.0065091,
          114.0067398,
          114.0065091,
          114.0041463,
          114.0019393,
          114.005496
         ],
         "marker": {
          "color": [
           "#ea3323",
           "#ea3323",
           "#ea3323",
           "#ea3323",
           "#ea3323",
           "#ff8b00",
           "#ff8b00",
           "#ff8b00",
           "#ff8b00",
           "#febb26",
           "#febb26",
           "#febb26",
           "#febb26",
           "#febb26",
           "#febb26",
           "#febb26",
           "#febb26",
           "#febb26",
           "#17873f",
           "#17873f",
           "#17873f",
           "#17873f",
           "#17873f",
           "#17873f",
           "#17873f",
           "#17873f",
           "#17873f",
           "#25dc67",
           "#25dc67",
           "#25dc67",
           "#25dc67",
           "#25dc67",
           "#4f7af9",
           "#4f7af9",
           "#9c78fe",
           "#9c78fe",
           "#9c78fe",
           "#ffccdd"
          ],
          "size": 15
         },
         "mode": "markers",
         "name": "2024-08-02 22:23:55",
         "text": [
          "南葵中心3隊",
          "南葵中心3隊",
          "南葵中心3隊",
          "南葵中心3隊",
          "南葵中心3隊",
          "南葵中心4隊",
          "南葵中心4隊",
          "南葵中心4隊",
          "南葵中心4隊",
          "上環/將軍澳中心隊",
          "上環/將軍澳中心隊",
          "上環/將軍澳中心隊",
          "上環/將軍澳中心隊",
          "上環/將軍澳中心隊",
          "上環/將軍澳中心隊",
          "上環/將軍澳中心隊",
          "上環/將軍澳中心隊",
          "上環/將軍澳中心隊",
          "南葵中心2隊",
          "南葵中心2隊",
          "南葵中心2隊",
          "南葵中心2隊",
          "南葵中心2隊",
          "南葵中心2隊",
          "南葵中心2隊",
          "南葵中心2隊",
          "南葵中心2隊",
          "南葵中心1隊",
          "南葵中心1隊",
          "南葵中心1隊",
          "南葵中心1隊",
          "南葵中心1隊",
          "南區中心1隊",
          "南區中心1隊",
          "上環中心隊",
          "上環中心隊",
          "上環中心隊",
          "石蔭中心隊"
         ],
         "type": "scattermapbox"
        },
        {
         "lat": [
          22.4655961,
          22.4570997,
          22.4519834,
          22.4504396,
          22.449919,
          22.4607686,
          22.4617898,
          22.4498149,
          22.453213,
          22.4615927,
          22.4620587,
          22.4620289,
          22.4620884,
          22.4624534,
          22.4635652,
          22.4639442,
          22.4553992,
          22.4558306,
          22.4593465,
          22.4618546,
          22.4609995,
          22.4650118,
          22.4666509,
          22.4663901,
          22.465724,
          22.4681275,
          22.4713162,
          22.4496103,
          22.4519834,
          22.4539074,
          22.4609744,
          22.4510973,
          22.4557192,
          22.4548219,
          22.4557192,
          22.4585023,
          22.459445,
          22.4609744,
          22.4665215
         ],
         "lon": [
          113.99919,
          113.9953417,
          113.998479,
          113.9989511,
          113.9987955,
          113.9967442,
          113.9945796,
          114.0003673,
          113.999273,
          114.0019359,
          114.0014806,
          114.0055869,
          114.0079821,
          114.0079931,
          114.0041254,
          114.006367,
          113.9994186,
          113.9998148,
          113.9993166,
          113.9975799,
          113.9971151,
          114.0010065,
          114.002266,
          114.0032108,
          114.0050474,
          114.0034872,
          114.0022616,
          114.0016226,
          114.0015153,
          114.0037142,
          114.0018213,
          114.0085632,
          114.0065091,
          114.0067398,
          114.0065091,
          114.0041463,
          114.0019393,
          114.0018213,
          114.005496
         ],
         "marker": {
          "color": [
           "#ea3323",
           "#ea3323",
           "#ea3323",
           "#ea3323",
           "#ea3323",
           "#ff8b00",
           "#ff8b00",
           "#ff8b00",
           "#ff8b00",
           "#febb26",
           "#febb26",
           "#febb26",
           "#febb26",
           "#febb26",
           "#febb26",
           "#febb26",
           "#febb26",
           "#febb26",
           "#17873f",
           "#17873f",
           "#17873f",
           "#17873f",
           "#17873f",
           "#17873f",
           "#17873f",
           "#17873f",
           "#17873f",
           "#25dc67",
           "#25dc67",
           "#25dc67",
           "#25dc67",
           "#25dc67",
           "#4f7af9",
           "#4f7af9",
           "#9c78fe",
           "#9c78fe",
           "#9c78fe",
           "#9c78fe",
           "#ffccdd"
          ],
          "size": 15
         },
         "mode": "markers",
         "name": "2024-08-02 22:26:55",
         "text": [
          "南葵中心3隊",
          "南葵中心3隊",
          "南葵中心3隊",
          "南葵中心3隊",
          "南葵中心3隊",
          "南葵中心4隊",
          "南葵中心4隊",
          "南葵中心4隊",
          "南葵中心4隊",
          "上環/將軍澳中心隊",
          "上環/將軍澳中心隊",
          "上環/將軍澳中心隊",
          "上環/將軍澳中心隊",
          "上環/將軍澳中心隊",
          "上環/將軍澳中心隊",
          "上環/將軍澳中心隊",
          "上環/將軍澳中心隊",
          "上環/將軍澳中心隊",
          "南葵中心2隊",
          "南葵中心2隊",
          "南葵中心2隊",
          "南葵中心2隊",
          "南葵中心2隊",
          "南葵中心2隊",
          "南葵中心2隊",
          "南葵中心2隊",
          "南葵中心2隊",
          "南葵中心1隊",
          "南葵中心1隊",
          "南葵中心1隊",
          "南葵中心1隊",
          "南葵中心1隊",
          "南區中心1隊",
          "南區中心1隊",
          "上環中心隊",
          "上環中心隊",
          "上環中心隊",
          "上環中心隊",
          "石蔭中心隊"
         ],
         "type": "scattermapbox"
        },
        {
         "lat": [
          22.4655961,
          22.4570997,
          22.4519834,
          22.4504396,
          22.449919,
          22.4607686,
          22.4617898,
          22.4498149,
          22.453213,
          22.4615927,
          22.4620587,
          22.4620289,
          22.4620884,
          22.4624534,
          22.4635652,
          22.4639442,
          22.4553992,
          22.4558306,
          22.4593465,
          22.4618546,
          22.4609995,
          22.4650118,
          22.4666509,
          22.4663901,
          22.465724,
          22.4681275,
          22.4713162,
          22.4496103,
          22.4519834,
          22.4539074,
          22.4510973,
          22.4557192,
          22.4548219,
          22.4557192,
          22.4585023,
          22.459445,
          22.4609744,
          22.4665215
         ],
         "lon": [
          113.99919,
          113.9953417,
          113.998479,
          113.9989511,
          113.9987955,
          113.9967442,
          113.9945796,
          114.0003673,
          113.999273,
          114.0019359,
          114.0014806,
          114.0055869,
          114.0079821,
          114.0079931,
          114.0041254,
          114.006367,
          113.9994186,
          113.9998148,
          113.9993166,
          113.9975799,
          113.9971151,
          114.0010065,
          114.002266,
          114.0032108,
          114.0050474,
          114.0034872,
          114.0022616,
          114.0016226,
          114.0015153,
          114.0037142,
          114.0085632,
          114.0065091,
          114.0067398,
          114.0065091,
          114.0041463,
          114.0019393,
          114.0018213,
          114.005496
         ],
         "marker": {
          "color": [
           "#ea3323",
           "#ea3323",
           "#ea3323",
           "#ea3323",
           "#ea3323",
           "#ff8b00",
           "#ff8b00",
           "#ff8b00",
           "#ff8b00",
           "#febb26",
           "#febb26",
           "#febb26",
           "#febb26",
           "#febb26",
           "#febb26",
           "#febb26",
           "#febb26",
           "#febb26",
           "#17873f",
           "#17873f",
           "#17873f",
           "#17873f",
           "#17873f",
           "#17873f",
           "#17873f",
           "#17873f",
           "#17873f",
           "#25dc67",
           "#25dc67",
           "#25dc67",
           "#25dc67",
           "#4f7af9",
           "#4f7af9",
           "#9c78fe",
           "#9c78fe",
           "#9c78fe",
           "#9c78fe",
           "#ffccdd"
          ],
          "size": 15
         },
         "mode": "markers",
         "name": "2024-08-02 22:29:55",
         "text": [
          "南葵中心3隊",
          "南葵中心3隊",
          "南葵中心3隊",
          "南葵中心3隊",
          "南葵中心3隊",
          "南葵中心4隊",
          "南葵中心4隊",
          "南葵中心4隊",
          "南葵中心4隊",
          "上環/將軍澳中心隊",
          "上環/將軍澳中心隊",
          "上環/將軍澳中心隊",
          "上環/將軍澳中心隊",
          "上環/將軍澳中心隊",
          "上環/將軍澳中心隊",
          "上環/將軍澳中心隊",
          "上環/將軍澳中心隊",
          "上環/將軍澳中心隊",
          "南葵中心2隊",
          "南葵中心2隊",
          "南葵中心2隊",
          "南葵中心2隊",
          "南葵中心2隊",
          "南葵中心2隊",
          "南葵中心2隊",
          "南葵中心2隊",
          "南葵中心2隊",
          "南葵中心1隊",
          "南葵中心1隊",
          "南葵中心1隊",
          "南葵中心1隊",
          "南區中心1隊",
          "南區中心1隊",
          "上環中心隊",
          "上環中心隊",
          "上環中心隊",
          "上環中心隊",
          "石蔭中心隊"
         ],
         "type": "scattermapbox"
        },
        {
         "lat": [
          22.4655961,
          22.4570997,
          22.4519834,
          22.4504396,
          22.449919,
          22.4607686,
          22.4617898,
          22.4498149,
          22.453213,
          22.4615927,
          22.4620587,
          22.4620289,
          22.4620884,
          22.4624534,
          22.4635652,
          22.4639442,
          22.4553992,
          22.4558306,
          22.4593465,
          22.4618546,
          22.4609995,
          22.4650118,
          22.4666509,
          22.4663901,
          22.465724,
          22.4681275,
          22.4713162,
          22.4496103,
          22.4519834,
          22.4539074,
          22.4510973,
          22.4557192,
          22.4548219,
          22.4557192,
          22.4585023,
          22.459445,
          22.4609744,
          22.4665215
         ],
         "lon": [
          113.99919,
          113.9953417,
          113.998479,
          113.9989511,
          113.9987955,
          113.9967442,
          113.9945796,
          114.0003673,
          113.999273,
          114.0019359,
          114.0014806,
          114.0055869,
          114.0079821,
          114.0079931,
          114.0041254,
          114.006367,
          113.9994186,
          113.9998148,
          113.9993166,
          113.9975799,
          113.9971151,
          114.0010065,
          114.002266,
          114.0032108,
          114.0050474,
          114.0034872,
          114.0022616,
          114.0016226,
          114.0015153,
          114.0037142,
          114.0085632,
          114.0065091,
          114.0067398,
          114.0065091,
          114.0041463,
          114.0019393,
          114.0018213,
          114.005496
         ],
         "marker": {
          "color": [
           "#ea3323",
           "#ea3323",
           "#ea3323",
           "#ea3323",
           "#ea3323",
           "#ff8b00",
           "#ff8b00",
           "#ff8b00",
           "#ff8b00",
           "#febb26",
           "#febb26",
           "#febb26",
           "#febb26",
           "#febb26",
           "#febb26",
           "#febb26",
           "#febb26",
           "#febb26",
           "#17873f",
           "#17873f",
           "#17873f",
           "#17873f",
           "#17873f",
           "#17873f",
           "#17873f",
           "#17873f",
           "#17873f",
           "#25dc67",
           "#25dc67",
           "#25dc67",
           "#25dc67",
           "#4f7af9",
           "#4f7af9",
           "#9c78fe",
           "#9c78fe",
           "#9c78fe",
           "#9c78fe",
           "#ffccdd"
          ],
          "size": 15
         },
         "mode": "markers",
         "name": "2024-08-02 22:32:55",
         "text": [
          "南葵中心3隊",
          "南葵中心3隊",
          "南葵中心3隊",
          "南葵中心3隊",
          "南葵中心3隊",
          "南葵中心4隊",
          "南葵中心4隊",
          "南葵中心4隊",
          "南葵中心4隊",
          "上環/將軍澳中心隊",
          "上環/將軍澳中心隊",
          "上環/將軍澳中心隊",
          "上環/將軍澳中心隊",
          "上環/將軍澳中心隊",
          "上環/將軍澳中心隊",
          "上環/將軍澳中心隊",
          "上環/將軍澳中心隊",
          "上環/將軍澳中心隊",
          "南葵中心2隊",
          "南葵中心2隊",
          "南葵中心2隊",
          "南葵中心2隊",
          "南葵中心2隊",
          "南葵中心2隊",
          "南葵中心2隊",
          "南葵中心2隊",
          "南葵中心2隊",
          "南葵中心1隊",
          "南葵中心1隊",
          "南葵中心1隊",
          "南葵中心1隊",
          "南區中心1隊",
          "南區中心1隊",
          "上環中心隊",
          "上環中心隊",
          "上環中心隊",
          "上環中心隊",
          "石蔭中心隊"
         ],
         "type": "scattermapbox"
        }
       ],
       "layout": {
        "height": 1000,
        "mapbox": {
         "center": {
          "lat": 22.45873,
          "lon": 114.00217
         },
         "style": "open-street-map",
         "zoom": 14
        },
        "sliders": [
         {
          "steps": [
           {
            "args": [
             {
              "visible": [
               true,
               false,
               false,
               false,
               false,
               false,
               false,
               false,
               false,
               false,
               false,
               false,
               false,
               false,
               false,
               false,
               false,
               false,
               false,
               false,
               false,
               false,
               false,
               false,
               false,
               false,
               false,
               false,
               false,
               false,
               false,
               false,
               false,
               false,
               false,
               false,
               false,
               false,
               false,
               false,
               false,
               false,
               false,
               false,
               false,
               false,
               false
              ]
             }
            ],
            "label": "20:14:55",
            "method": "update"
           },
           {
            "args": [
             {
              "visible": [
               false,
               true,
               false,
               false,
               false,
               false,
               false,
               false,
               false,
               false,
               false,
               false,
               false,
               false,
               false,
               false,
               false,
               false,
               false,
               false,
               false,
               false,
               false,
               false,
               false,
               false,
               false,
               false,
               false,
               false,
               false,
               false,
               false,
               false,
               false,
               false,
               false,
               false,
               false,
               false,
               false,
               false,
               false,
               false,
               false,
               false,
               false
              ]
             }
            ],
            "label": "20:17:55",
            "method": "update"
           },
           {
            "args": [
             {
              "visible": [
               false,
               false,
               true,
               false,
               false,
               false,
               false,
               false,
               false,
               false,
               false,
               false,
               false,
               false,
               false,
               false,
               false,
               false,
               false,
               false,
               false,
               false,
               false,
               false,
               false,
               false,
               false,
               false,
               false,
               false,
               false,
               false,
               false,
               false,
               false,
               false,
               false,
               false,
               false,
               false,
               false,
               false,
               false,
               false,
               false,
               false,
               false
              ]
             }
            ],
            "label": "20:20:55",
            "method": "update"
           },
           {
            "args": [
             {
              "visible": [
               false,
               false,
               false,
               true,
               false,
               false,
               false,
               false,
               false,
               false,
               false,
               false,
               false,
               false,
               false,
               false,
               false,
               false,
               false,
               false,
               false,
               false,
               false,
               false,
               false,
               false,
               false,
               false,
               false,
               false,
               false,
               false,
               false,
               false,
               false,
               false,
               false,
               false,
               false,
               false,
               false,
               false,
               false,
               false,
               false,
               false,
               false
              ]
             }
            ],
            "label": "20:23:55",
            "method": "update"
           },
           {
            "args": [
             {
              "visible": [
               false,
               false,
               false,
               false,
               true,
               false,
               false,
               false,
               false,
               false,
               false,
               false,
               false,
               false,
               false,
               false,
               false,
               false,
               false,
               false,
               false,
               false,
               false,
               false,
               false,
               false,
               false,
               false,
               false,
               false,
               false,
               false,
               false,
               false,
               false,
               false,
               false,
               false,
               false,
               false,
               false,
               false,
               false,
               false,
               false,
               false,
               false
              ]
             }
            ],
            "label": "20:26:55",
            "method": "update"
           },
           {
            "args": [
             {
              "visible": [
               false,
               false,
               false,
               false,
               false,
               true,
               false,
               false,
               false,
               false,
               false,
               false,
               false,
               false,
               false,
               false,
               false,
               false,
               false,
               false,
               false,
               false,
               false,
               false,
               false,
               false,
               false,
               false,
               false,
               false,
               false,
               false,
               false,
               false,
               false,
               false,
               false,
               false,
               false,
               false,
               false,
               false,
               false,
               false,
               false,
               false,
               false
              ]
             }
            ],
            "label": "20:29:55",
            "method": "update"
           },
           {
            "args": [
             {
              "visible": [
               false,
               false,
               false,
               false,
               false,
               false,
               true,
               false,
               false,
               false,
               false,
               false,
               false,
               false,
               false,
               false,
               false,
               false,
               false,
               false,
               false,
               false,
               false,
               false,
               false,
               false,
               false,
               false,
               false,
               false,
               false,
               false,
               false,
               false,
               false,
               false,
               false,
               false,
               false,
               false,
               false,
               false,
               false,
               false,
               false,
               false,
               false
              ]
             }
            ],
            "label": "20:32:55",
            "method": "update"
           },
           {
            "args": [
             {
              "visible": [
               false,
               false,
               false,
               false,
               false,
               false,
               false,
               true,
               false,
               false,
               false,
               false,
               false,
               false,
               false,
               false,
               false,
               false,
               false,
               false,
               false,
               false,
               false,
               false,
               false,
               false,
               false,
               false,
               false,
               false,
               false,
               false,
               false,
               false,
               false,
               false,
               false,
               false,
               false,
               false,
               false,
               false,
               false,
               false,
               false,
               false,
               false
              ]
             }
            ],
            "label": "20:35:55",
            "method": "update"
           },
           {
            "args": [
             {
              "visible": [
               false,
               false,
               false,
               false,
               false,
               false,
               false,
               false,
               true,
               false,
               false,
               false,
               false,
               false,
               false,
               false,
               false,
               false,
               false,
               false,
               false,
               false,
               false,
               false,
               false,
               false,
               false,
               false,
               false,
               false,
               false,
               false,
               false,
               false,
               false,
               false,
               false,
               false,
               false,
               false,
               false,
               false,
               false,
               false,
               false,
               false,
               false
              ]
             }
            ],
            "label": "20:38:55",
            "method": "update"
           },
           {
            "args": [
             {
              "visible": [
               false,
               false,
               false,
               false,
               false,
               false,
               false,
               false,
               false,
               true,
               false,
               false,
               false,
               false,
               false,
               false,
               false,
               false,
               false,
               false,
               false,
               false,
               false,
               false,
               false,
               false,
               false,
               false,
               false,
               false,
               false,
               false,
               false,
               false,
               false,
               false,
               false,
               false,
               false,
               false,
               false,
               false,
               false,
               false,
               false,
               false,
               false
              ]
             }
            ],
            "label": "20:41:55",
            "method": "update"
           },
           {
            "args": [
             {
              "visible": [
               false,
               false,
               false,
               false,
               false,
               false,
               false,
               false,
               false,
               false,
               true,
               false,
               false,
               false,
               false,
               false,
               false,
               false,
               false,
               false,
               false,
               false,
               false,
               false,
               false,
               false,
               false,
               false,
               false,
               false,
               false,
               false,
               false,
               false,
               false,
               false,
               false,
               false,
               false,
               false,
               false,
               false,
               false,
               false,
               false,
               false,
               false
              ]
             }
            ],
            "label": "20:44:55",
            "method": "update"
           },
           {
            "args": [
             {
              "visible": [
               false,
               false,
               false,
               false,
               false,
               false,
               false,
               false,
               false,
               false,
               false,
               true,
               false,
               false,
               false,
               false,
               false,
               false,
               false,
               false,
               false,
               false,
               false,
               false,
               false,
               false,
               false,
               false,
               false,
               false,
               false,
               false,
               false,
               false,
               false,
               false,
               false,
               false,
               false,
               false,
               false,
               false,
               false,
               false,
               false,
               false,
               false
              ]
             }
            ],
            "label": "20:47:55",
            "method": "update"
           },
           {
            "args": [
             {
              "visible": [
               false,
               false,
               false,
               false,
               false,
               false,
               false,
               false,
               false,
               false,
               false,
               false,
               true,
               false,
               false,
               false,
               false,
               false,
               false,
               false,
               false,
               false,
               false,
               false,
               false,
               false,
               false,
               false,
               false,
               false,
               false,
               false,
               false,
               false,
               false,
               false,
               false,
               false,
               false,
               false,
               false,
               false,
               false,
               false,
               false,
               false,
               false
              ]
             }
            ],
            "label": "20:50:55",
            "method": "update"
           },
           {
            "args": [
             {
              "visible": [
               false,
               false,
               false,
               false,
               false,
               false,
               false,
               false,
               false,
               false,
               false,
               false,
               false,
               true,
               false,
               false,
               false,
               false,
               false,
               false,
               false,
               false,
               false,
               false,
               false,
               false,
               false,
               false,
               false,
               false,
               false,
               false,
               false,
               false,
               false,
               false,
               false,
               false,
               false,
               false,
               false,
               false,
               false,
               false,
               false,
               false,
               false
              ]
             }
            ],
            "label": "20:53:55",
            "method": "update"
           },
           {
            "args": [
             {
              "visible": [
               false,
               false,
               false,
               false,
               false,
               false,
               false,
               false,
               false,
               false,
               false,
               false,
               false,
               false,
               true,
               false,
               false,
               false,
               false,
               false,
               false,
               false,
               false,
               false,
               false,
               false,
               false,
               false,
               false,
               false,
               false,
               false,
               false,
               false,
               false,
               false,
               false,
               false,
               false,
               false,
               false,
               false,
               false,
               false,
               false,
               false,
               false
              ]
             }
            ],
            "label": "20:56:55",
            "method": "update"
           },
           {
            "args": [
             {
              "visible": [
               false,
               false,
               false,
               false,
               false,
               false,
               false,
               false,
               false,
               false,
               false,
               false,
               false,
               false,
               false,
               true,
               false,
               false,
               false,
               false,
               false,
               false,
               false,
               false,
               false,
               false,
               false,
               false,
               false,
               false,
               false,
               false,
               false,
               false,
               false,
               false,
               false,
               false,
               false,
               false,
               false,
               false,
               false,
               false,
               false,
               false,
               false
              ]
             }
            ],
            "label": "20:59:55",
            "method": "update"
           },
           {
            "args": [
             {
              "visible": [
               false,
               false,
               false,
               false,
               false,
               false,
               false,
               false,
               false,
               false,
               false,
               false,
               false,
               false,
               false,
               false,
               true,
               false,
               false,
               false,
               false,
               false,
               false,
               false,
               false,
               false,
               false,
               false,
               false,
               false,
               false,
               false,
               false,
               false,
               false,
               false,
               false,
               false,
               false,
               false,
               false,
               false,
               false,
               false,
               false,
               false,
               false
              ]
             }
            ],
            "label": "21:02:55",
            "method": "update"
           },
           {
            "args": [
             {
              "visible": [
               false,
               false,
               false,
               false,
               false,
               false,
               false,
               false,
               false,
               false,
               false,
               false,
               false,
               false,
               false,
               false,
               false,
               true,
               false,
               false,
               false,
               false,
               false,
               false,
               false,
               false,
               false,
               false,
               false,
               false,
               false,
               false,
               false,
               false,
               false,
               false,
               false,
               false,
               false,
               false,
               false,
               false,
               false,
               false,
               false,
               false,
               false
              ]
             }
            ],
            "label": "21:05:55",
            "method": "update"
           },
           {
            "args": [
             {
              "visible": [
               false,
               false,
               false,
               false,
               false,
               false,
               false,
               false,
               false,
               false,
               false,
               false,
               false,
               false,
               false,
               false,
               false,
               false,
               true,
               false,
               false,
               false,
               false,
               false,
               false,
               false,
               false,
               false,
               false,
               false,
               false,
               false,
               false,
               false,
               false,
               false,
               false,
               false,
               false,
               false,
               false,
               false,
               false,
               false,
               false,
               false,
               false
              ]
             }
            ],
            "label": "21:08:55",
            "method": "update"
           },
           {
            "args": [
             {
              "visible": [
               false,
               false,
               false,
               false,
               false,
               false,
               false,
               false,
               false,
               false,
               false,
               false,
               false,
               false,
               false,
               false,
               false,
               false,
               false,
               true,
               false,
               false,
               false,
               false,
               false,
               false,
               false,
               false,
               false,
               false,
               false,
               false,
               false,
               false,
               false,
               false,
               false,
               false,
               false,
               false,
               false,
               false,
               false,
               false,
               false,
               false,
               false
              ]
             }
            ],
            "label": "21:11:55",
            "method": "update"
           },
           {
            "args": [
             {
              "visible": [
               false,
               false,
               false,
               false,
               false,
               false,
               false,
               false,
               false,
               false,
               false,
               false,
               false,
               false,
               false,
               false,
               false,
               false,
               false,
               false,
               true,
               false,
               false,
               false,
               false,
               false,
               false,
               false,
               false,
               false,
               false,
               false,
               false,
               false,
               false,
               false,
               false,
               false,
               false,
               false,
               false,
               false,
               false,
               false,
               false,
               false,
               false
              ]
             }
            ],
            "label": "21:14:55",
            "method": "update"
           },
           {
            "args": [
             {
              "visible": [
               false,
               false,
               false,
               false,
               false,
               false,
               false,
               false,
               false,
               false,
               false,
               false,
               false,
               false,
               false,
               false,
               false,
               false,
               false,
               false,
               false,
               true,
               false,
               false,
               false,
               false,
               false,
               false,
               false,
               false,
               false,
               false,
               false,
               false,
               false,
               false,
               false,
               false,
               false,
               false,
               false,
               false,
               false,
               false,
               false,
               false,
               false
              ]
             }
            ],
            "label": "21:17:55",
            "method": "update"
           },
           {
            "args": [
             {
              "visible": [
               false,
               false,
               false,
               false,
               false,
               false,
               false,
               false,
               false,
               false,
               false,
               false,
               false,
               false,
               false,
               false,
               false,
               false,
               false,
               false,
               false,
               false,
               true,
               false,
               false,
               false,
               false,
               false,
               false,
               false,
               false,
               false,
               false,
               false,
               false,
               false,
               false,
               false,
               false,
               false,
               false,
               false,
               false,
               false,
               false,
               false,
               false
              ]
             }
            ],
            "label": "21:20:55",
            "method": "update"
           },
           {
            "args": [
             {
              "visible": [
               false,
               false,
               false,
               false,
               false,
               false,
               false,
               false,
               false,
               false,
               false,
               false,
               false,
               false,
               false,
               false,
               false,
               false,
               false,
               false,
               false,
               false,
               false,
               true,
               false,
               false,
               false,
               false,
               false,
               false,
               false,
               false,
               false,
               false,
               false,
               false,
               false,
               false,
               false,
               false,
               false,
               false,
               false,
               false,
               false,
               false,
               false
              ]
             }
            ],
            "label": "21:23:55",
            "method": "update"
           },
           {
            "args": [
             {
              "visible": [
               false,
               false,
               false,
               false,
               false,
               false,
               false,
               false,
               false,
               false,
               false,
               false,
               false,
               false,
               false,
               false,
               false,
               false,
               false,
               false,
               false,
               false,
               false,
               false,
               true,
               false,
               false,
               false,
               false,
               false,
               false,
               false,
               false,
               false,
               false,
               false,
               false,
               false,
               false,
               false,
               false,
               false,
               false,
               false,
               false,
               false,
               false
              ]
             }
            ],
            "label": "21:26:55",
            "method": "update"
           },
           {
            "args": [
             {
              "visible": [
               false,
               false,
               false,
               false,
               false,
               false,
               false,
               false,
               false,
               false,
               false,
               false,
               false,
               false,
               false,
               false,
               false,
               false,
               false,
               false,
               false,
               false,
               false,
               false,
               false,
               true,
               false,
               false,
               false,
               false,
               false,
               false,
               false,
               false,
               false,
               false,
               false,
               false,
               false,
               false,
               false,
               false,
               false,
               false,
               false,
               false,
               false
              ]
             }
            ],
            "label": "21:29:55",
            "method": "update"
           },
           {
            "args": [
             {
              "visible": [
               false,
               false,
               false,
               false,
               false,
               false,
               false,
               false,
               false,
               false,
               false,
               false,
               false,
               false,
               false,
               false,
               false,
               false,
               false,
               false,
               false,
               false,
               false,
               false,
               false,
               false,
               true,
               false,
               false,
               false,
               false,
               false,
               false,
               false,
               false,
               false,
               false,
               false,
               false,
               false,
               false,
               false,
               false,
               false,
               false,
               false,
               false
              ]
             }
            ],
            "label": "21:32:55",
            "method": "update"
           },
           {
            "args": [
             {
              "visible": [
               false,
               false,
               false,
               false,
               false,
               false,
               false,
               false,
               false,
               false,
               false,
               false,
               false,
               false,
               false,
               false,
               false,
               false,
               false,
               false,
               false,
               false,
               false,
               false,
               false,
               false,
               false,
               true,
               false,
               false,
               false,
               false,
               false,
               false,
               false,
               false,
               false,
               false,
               false,
               false,
               false,
               false,
               false,
               false,
               false,
               false,
               false
              ]
             }
            ],
            "label": "21:35:55",
            "method": "update"
           },
           {
            "args": [
             {
              "visible": [
               false,
               false,
               false,
               false,
               false,
               false,
               false,
               false,
               false,
               false,
               false,
               false,
               false,
               false,
               false,
               false,
               false,
               false,
               false,
               false,
               false,
               false,
               false,
               false,
               false,
               false,
               false,
               false,
               true,
               false,
               false,
               false,
               false,
               false,
               false,
               false,
               false,
               false,
               false,
               false,
               false,
               false,
               false,
               false,
               false,
               false,
               false
              ]
             }
            ],
            "label": "21:38:55",
            "method": "update"
           },
           {
            "args": [
             {
              "visible": [
               false,
               false,
               false,
               false,
               false,
               false,
               false,
               false,
               false,
               false,
               false,
               false,
               false,
               false,
               false,
               false,
               false,
               false,
               false,
               false,
               false,
               false,
               false,
               false,
               false,
               false,
               false,
               false,
               false,
               true,
               false,
               false,
               false,
               false,
               false,
               false,
               false,
               false,
               false,
               false,
               false,
               false,
               false,
               false,
               false,
               false,
               false
              ]
             }
            ],
            "label": "21:41:55",
            "method": "update"
           },
           {
            "args": [
             {
              "visible": [
               false,
               false,
               false,
               false,
               false,
               false,
               false,
               false,
               false,
               false,
               false,
               false,
               false,
               false,
               false,
               false,
               false,
               false,
               false,
               false,
               false,
               false,
               false,
               false,
               false,
               false,
               false,
               false,
               false,
               false,
               true,
               false,
               false,
               false,
               false,
               false,
               false,
               false,
               false,
               false,
               false,
               false,
               false,
               false,
               false,
               false,
               false
              ]
             }
            ],
            "label": "21:44:55",
            "method": "update"
           },
           {
            "args": [
             {
              "visible": [
               false,
               false,
               false,
               false,
               false,
               false,
               false,
               false,
               false,
               false,
               false,
               false,
               false,
               false,
               false,
               false,
               false,
               false,
               false,
               false,
               false,
               false,
               false,
               false,
               false,
               false,
               false,
               false,
               false,
               false,
               false,
               true,
               false,
               false,
               false,
               false,
               false,
               false,
               false,
               false,
               false,
               false,
               false,
               false,
               false,
               false,
               false
              ]
             }
            ],
            "label": "21:47:55",
            "method": "update"
           },
           {
            "args": [
             {
              "visible": [
               false,
               false,
               false,
               false,
               false,
               false,
               false,
               false,
               false,
               false,
               false,
               false,
               false,
               false,
               false,
               false,
               false,
               false,
               false,
               false,
               false,
               false,
               false,
               false,
               false,
               false,
               false,
               false,
               false,
               false,
               false,
               false,
               true,
               false,
               false,
               false,
               false,
               false,
               false,
               false,
               false,
               false,
               false,
               false,
               false,
               false,
               false
              ]
             }
            ],
            "label": "21:50:55",
            "method": "update"
           },
           {
            "args": [
             {
              "visible": [
               false,
               false,
               false,
               false,
               false,
               false,
               false,
               false,
               false,
               false,
               false,
               false,
               false,
               false,
               false,
               false,
               false,
               false,
               false,
               false,
               false,
               false,
               false,
               false,
               false,
               false,
               false,
               false,
               false,
               false,
               false,
               false,
               false,
               true,
               false,
               false,
               false,
               false,
               false,
               false,
               false,
               false,
               false,
               false,
               false,
               false,
               false
              ]
             }
            ],
            "label": "21:53:55",
            "method": "update"
           },
           {
            "args": [
             {
              "visible": [
               false,
               false,
               false,
               false,
               false,
               false,
               false,
               false,
               false,
               false,
               false,
               false,
               false,
               false,
               false,
               false,
               false,
               false,
               false,
               false,
               false,
               false,
               false,
               false,
               false,
               false,
               false,
               false,
               false,
               false,
               false,
               false,
               false,
               false,
               true,
               false,
               false,
               false,
               false,
               false,
               false,
               false,
               false,
               false,
               false,
               false,
               false
              ]
             }
            ],
            "label": "21:56:55",
            "method": "update"
           },
           {
            "args": [
             {
              "visible": [
               false,
               false,
               false,
               false,
               false,
               false,
               false,
               false,
               false,
               false,
               false,
               false,
               false,
               false,
               false,
               false,
               false,
               false,
               false,
               false,
               false,
               false,
               false,
               false,
               false,
               false,
               false,
               false,
               false,
               false,
               false,
               false,
               false,
               false,
               false,
               true,
               false,
               false,
               false,
               false,
               false,
               false,
               false,
               false,
               false,
               false,
               false
              ]
             }
            ],
            "label": "21:59:55",
            "method": "update"
           },
           {
            "args": [
             {
              "visible": [
               false,
               false,
               false,
               false,
               false,
               false,
               false,
               false,
               false,
               false,
               false,
               false,
               false,
               false,
               false,
               false,
               false,
               false,
               false,
               false,
               false,
               false,
               false,
               false,
               false,
               false,
               false,
               false,
               false,
               false,
               false,
               false,
               false,
               false,
               false,
               false,
               true,
               false,
               false,
               false,
               false,
               false,
               false,
               false,
               false,
               false,
               false
              ]
             }
            ],
            "label": "22:02:55",
            "method": "update"
           },
           {
            "args": [
             {
              "visible": [
               false,
               false,
               false,
               false,
               false,
               false,
               false,
               false,
               false,
               false,
               false,
               false,
               false,
               false,
               false,
               false,
               false,
               false,
               false,
               false,
               false,
               false,
               false,
               false,
               false,
               false,
               false,
               false,
               false,
               false,
               false,
               false,
               false,
               false,
               false,
               false,
               false,
               true,
               false,
               false,
               false,
               false,
               false,
               false,
               false,
               false,
               false
              ]
             }
            ],
            "label": "22:05:55",
            "method": "update"
           },
           {
            "args": [
             {
              "visible": [
               false,
               false,
               false,
               false,
               false,
               false,
               false,
               false,
               false,
               false,
               false,
               false,
               false,
               false,
               false,
               false,
               false,
               false,
               false,
               false,
               false,
               false,
               false,
               false,
               false,
               false,
               false,
               false,
               false,
               false,
               false,
               false,
               false,
               false,
               false,
               false,
               false,
               false,
               true,
               false,
               false,
               false,
               false,
               false,
               false,
               false,
               false
              ]
             }
            ],
            "label": "22:08:55",
            "method": "update"
           },
           {
            "args": [
             {
              "visible": [
               false,
               false,
               false,
               false,
               false,
               false,
               false,
               false,
               false,
               false,
               false,
               false,
               false,
               false,
               false,
               false,
               false,
               false,
               false,
               false,
               false,
               false,
               false,
               false,
               false,
               false,
               false,
               false,
               false,
               false,
               false,
               false,
               false,
               false,
               false,
               false,
               false,
               false,
               false,
               true,
               false,
               false,
               false,
               false,
               false,
               false,
               false
              ]
             }
            ],
            "label": "22:11:55",
            "method": "update"
           },
           {
            "args": [
             {
              "visible": [
               false,
               false,
               false,
               false,
               false,
               false,
               false,
               false,
               false,
               false,
               false,
               false,
               false,
               false,
               false,
               false,
               false,
               false,
               false,
               false,
               false,
               false,
               false,
               false,
               false,
               false,
               false,
               false,
               false,
               false,
               false,
               false,
               false,
               false,
               false,
               false,
               false,
               false,
               false,
               false,
               true,
               false,
               false,
               false,
               false,
               false,
               false
              ]
             }
            ],
            "label": "22:14:55",
            "method": "update"
           },
           {
            "args": [
             {
              "visible": [
               false,
               false,
               false,
               false,
               false,
               false,
               false,
               false,
               false,
               false,
               false,
               false,
               false,
               false,
               false,
               false,
               false,
               false,
               false,
               false,
               false,
               false,
               false,
               false,
               false,
               false,
               false,
               false,
               false,
               false,
               false,
               false,
               false,
               false,
               false,
               false,
               false,
               false,
               false,
               false,
               false,
               true,
               false,
               false,
               false,
               false,
               false
              ]
             }
            ],
            "label": "22:17:55",
            "method": "update"
           },
           {
            "args": [
             {
              "visible": [
               false,
               false,
               false,
               false,
               false,
               false,
               false,
               false,
               false,
               false,
               false,
               false,
               false,
               false,
               false,
               false,
               false,
               false,
               false,
               false,
               false,
               false,
               false,
               false,
               false,
               false,
               false,
               false,
               false,
               false,
               false,
               false,
               false,
               false,
               false,
               false,
               false,
               false,
               false,
               false,
               false,
               false,
               true,
               false,
               false,
               false,
               false
              ]
             }
            ],
            "label": "22:20:55",
            "method": "update"
           },
           {
            "args": [
             {
              "visible": [
               false,
               false,
               false,
               false,
               false,
               false,
               false,
               false,
               false,
               false,
               false,
               false,
               false,
               false,
               false,
               false,
               false,
               false,
               false,
               false,
               false,
               false,
               false,
               false,
               false,
               false,
               false,
               false,
               false,
               false,
               false,
               false,
               false,
               false,
               false,
               false,
               false,
               false,
               false,
               false,
               false,
               false,
               false,
               true,
               false,
               false,
               false
              ]
             }
            ],
            "label": "22:23:55",
            "method": "update"
           },
           {
            "args": [
             {
              "visible": [
               false,
               false,
               false,
               false,
               false,
               false,
               false,
               false,
               false,
               false,
               false,
               false,
               false,
               false,
               false,
               false,
               false,
               false,
               false,
               false,
               false,
               false,
               false,
               false,
               false,
               false,
               false,
               false,
               false,
               false,
               false,
               false,
               false,
               false,
               false,
               false,
               false,
               false,
               false,
               false,
               false,
               false,
               false,
               false,
               true,
               false,
               false
              ]
             }
            ],
            "label": "22:26:55",
            "method": "update"
           },
           {
            "args": [
             {
              "visible": [
               false,
               false,
               false,
               false,
               false,
               false,
               false,
               false,
               false,
               false,
               false,
               false,
               false,
               false,
               false,
               false,
               false,
               false,
               false,
               false,
               false,
               false,
               false,
               false,
               false,
               false,
               false,
               false,
               false,
               false,
               false,
               false,
               false,
               false,
               false,
               false,
               false,
               false,
               false,
               false,
               false,
               false,
               false,
               false,
               false,
               true,
               false
              ]
             }
            ],
            "label": "22:29:55",
            "method": "update"
           },
           {
            "args": [
             {
              "visible": [
               false,
               false,
               false,
               false,
               false,
               false,
               false,
               false,
               false,
               false,
               false,
               false,
               false,
               false,
               false,
               false,
               false,
               false,
               false,
               false,
               false,
               false,
               false,
               false,
               false,
               false,
               false,
               false,
               false,
               false,
               false,
               false,
               false,
               false,
               false,
               false,
               false,
               false,
               false,
               false,
               false,
               false,
               false,
               false,
               false,
               false,
               true
              ]
             }
            ],
            "label": "22:32:55",
            "method": "update"
           }
          ]
         }
        ],
        "template": {
         "data": {
          "bar": [
           {
            "error_x": {
             "color": "#2a3f5f"
            },
            "error_y": {
             "color": "#2a3f5f"
            },
            "marker": {
             "line": {
              "color": "#E5ECF6",
              "width": 0.5
             },
             "pattern": {
              "fillmode": "overlay",
              "size": 10,
              "solidity": 0.2
             }
            },
            "type": "bar"
           }
          ],
          "barpolar": [
           {
            "marker": {
             "line": {
              "color": "#E5ECF6",
              "width": 0.5
             },
             "pattern": {
              "fillmode": "overlay",
              "size": 10,
              "solidity": 0.2
             }
            },
            "type": "barpolar"
           }
          ],
          "carpet": [
           {
            "aaxis": {
             "endlinecolor": "#2a3f5f",
             "gridcolor": "white",
             "linecolor": "white",
             "minorgridcolor": "white",
             "startlinecolor": "#2a3f5f"
            },
            "baxis": {
             "endlinecolor": "#2a3f5f",
             "gridcolor": "white",
             "linecolor": "white",
             "minorgridcolor": "white",
             "startlinecolor": "#2a3f5f"
            },
            "type": "carpet"
           }
          ],
          "choropleth": [
           {
            "colorbar": {
             "outlinewidth": 0,
             "ticks": ""
            },
            "type": "choropleth"
           }
          ],
          "contour": [
           {
            "colorbar": {
             "outlinewidth": 0,
             "ticks": ""
            },
            "colorscale": [
             [
              0,
              "#0d0887"
             ],
             [
              0.1111111111111111,
              "#46039f"
             ],
             [
              0.2222222222222222,
              "#7201a8"
             ],
             [
              0.3333333333333333,
              "#9c179e"
             ],
             [
              0.4444444444444444,
              "#bd3786"
             ],
             [
              0.5555555555555556,
              "#d8576b"
             ],
             [
              0.6666666666666666,
              "#ed7953"
             ],
             [
              0.7777777777777778,
              "#fb9f3a"
             ],
             [
              0.8888888888888888,
              "#fdca26"
             ],
             [
              1,
              "#f0f921"
             ]
            ],
            "type": "contour"
           }
          ],
          "contourcarpet": [
           {
            "colorbar": {
             "outlinewidth": 0,
             "ticks": ""
            },
            "type": "contourcarpet"
           }
          ],
          "heatmap": [
           {
            "colorbar": {
             "outlinewidth": 0,
             "ticks": ""
            },
            "colorscale": [
             [
              0,
              "#0d0887"
             ],
             [
              0.1111111111111111,
              "#46039f"
             ],
             [
              0.2222222222222222,
              "#7201a8"
             ],
             [
              0.3333333333333333,
              "#9c179e"
             ],
             [
              0.4444444444444444,
              "#bd3786"
             ],
             [
              0.5555555555555556,
              "#d8576b"
             ],
             [
              0.6666666666666666,
              "#ed7953"
             ],
             [
              0.7777777777777778,
              "#fb9f3a"
             ],
             [
              0.8888888888888888,
              "#fdca26"
             ],
             [
              1,
              "#f0f921"
             ]
            ],
            "type": "heatmap"
           }
          ],
          "heatmapgl": [
           {
            "colorbar": {
             "outlinewidth": 0,
             "ticks": ""
            },
            "colorscale": [
             [
              0,
              "#0d0887"
             ],
             [
              0.1111111111111111,
              "#46039f"
             ],
             [
              0.2222222222222222,
              "#7201a8"
             ],
             [
              0.3333333333333333,
              "#9c179e"
             ],
             [
              0.4444444444444444,
              "#bd3786"
             ],
             [
              0.5555555555555556,
              "#d8576b"
             ],
             [
              0.6666666666666666,
              "#ed7953"
             ],
             [
              0.7777777777777778,
              "#fb9f3a"
             ],
             [
              0.8888888888888888,
              "#fdca26"
             ],
             [
              1,
              "#f0f921"
             ]
            ],
            "type": "heatmapgl"
           }
          ],
          "histogram": [
           {
            "marker": {
             "pattern": {
              "fillmode": "overlay",
              "size": 10,
              "solidity": 0.2
             }
            },
            "type": "histogram"
           }
          ],
          "histogram2d": [
           {
            "colorbar": {
             "outlinewidth": 0,
             "ticks": ""
            },
            "colorscale": [
             [
              0,
              "#0d0887"
             ],
             [
              0.1111111111111111,
              "#46039f"
             ],
             [
              0.2222222222222222,
              "#7201a8"
             ],
             [
              0.3333333333333333,
              "#9c179e"
             ],
             [
              0.4444444444444444,
              "#bd3786"
             ],
             [
              0.5555555555555556,
              "#d8576b"
             ],
             [
              0.6666666666666666,
              "#ed7953"
             ],
             [
              0.7777777777777778,
              "#fb9f3a"
             ],
             [
              0.8888888888888888,
              "#fdca26"
             ],
             [
              1,
              "#f0f921"
             ]
            ],
            "type": "histogram2d"
           }
          ],
          "histogram2dcontour": [
           {
            "colorbar": {
             "outlinewidth": 0,
             "ticks": ""
            },
            "colorscale": [
             [
              0,
              "#0d0887"
             ],
             [
              0.1111111111111111,
              "#46039f"
             ],
             [
              0.2222222222222222,
              "#7201a8"
             ],
             [
              0.3333333333333333,
              "#9c179e"
             ],
             [
              0.4444444444444444,
              "#bd3786"
             ],
             [
              0.5555555555555556,
              "#d8576b"
             ],
             [
              0.6666666666666666,
              "#ed7953"
             ],
             [
              0.7777777777777778,
              "#fb9f3a"
             ],
             [
              0.8888888888888888,
              "#fdca26"
             ],
             [
              1,
              "#f0f921"
             ]
            ],
            "type": "histogram2dcontour"
           }
          ],
          "mesh3d": [
           {
            "colorbar": {
             "outlinewidth": 0,
             "ticks": ""
            },
            "type": "mesh3d"
           }
          ],
          "parcoords": [
           {
            "line": {
             "colorbar": {
              "outlinewidth": 0,
              "ticks": ""
             }
            },
            "type": "parcoords"
           }
          ],
          "pie": [
           {
            "automargin": true,
            "type": "pie"
           }
          ],
          "scatter": [
           {
            "fillpattern": {
             "fillmode": "overlay",
             "size": 10,
             "solidity": 0.2
            },
            "type": "scatter"
           }
          ],
          "scatter3d": [
           {
            "line": {
             "colorbar": {
              "outlinewidth": 0,
              "ticks": ""
             }
            },
            "marker": {
             "colorbar": {
              "outlinewidth": 0,
              "ticks": ""
             }
            },
            "type": "scatter3d"
           }
          ],
          "scattercarpet": [
           {
            "marker": {
             "colorbar": {
              "outlinewidth": 0,
              "ticks": ""
             }
            },
            "type": "scattercarpet"
           }
          ],
          "scattergeo": [
           {
            "marker": {
             "colorbar": {
              "outlinewidth": 0,
              "ticks": ""
             }
            },
            "type": "scattergeo"
           }
          ],
          "scattergl": [
           {
            "marker": {
             "colorbar": {
              "outlinewidth": 0,
              "ticks": ""
             }
            },
            "type": "scattergl"
           }
          ],
          "scattermapbox": [
           {
            "marker": {
             "colorbar": {
              "outlinewidth": 0,
              "ticks": ""
             }
            },
            "type": "scattermapbox"
           }
          ],
          "scatterpolar": [
           {
            "marker": {
             "colorbar": {
              "outlinewidth": 0,
              "ticks": ""
             }
            },
            "type": "scatterpolar"
           }
          ],
          "scatterpolargl": [
           {
            "marker": {
             "colorbar": {
              "outlinewidth": 0,
              "ticks": ""
             }
            },
            "type": "scatterpolargl"
           }
          ],
          "scatterternary": [
           {
            "marker": {
             "colorbar": {
              "outlinewidth": 0,
              "ticks": ""
             }
            },
            "type": "scatterternary"
           }
          ],
          "surface": [
           {
            "colorbar": {
             "outlinewidth": 0,
             "ticks": ""
            },
            "colorscale": [
             [
              0,
              "#0d0887"
             ],
             [
              0.1111111111111111,
              "#46039f"
             ],
             [
              0.2222222222222222,
              "#7201a8"
             ],
             [
              0.3333333333333333,
              "#9c179e"
             ],
             [
              0.4444444444444444,
              "#bd3786"
             ],
             [
              0.5555555555555556,
              "#d8576b"
             ],
             [
              0.6666666666666666,
              "#ed7953"
             ],
             [
              0.7777777777777778,
              "#fb9f3a"
             ],
             [
              0.8888888888888888,
              "#fdca26"
             ],
             [
              1,
              "#f0f921"
             ]
            ],
            "type": "surface"
           }
          ],
          "table": [
           {
            "cells": {
             "fill": {
              "color": "#EBF0F8"
             },
             "line": {
              "color": "white"
             }
            },
            "header": {
             "fill": {
              "color": "#C8D4E3"
             },
             "line": {
              "color": "white"
             }
            },
            "type": "table"
           }
          ]
         },
         "layout": {
          "annotationdefaults": {
           "arrowcolor": "#2a3f5f",
           "arrowhead": 0,
           "arrowwidth": 1
          },
          "autotypenumbers": "strict",
          "coloraxis": {
           "colorbar": {
            "outlinewidth": 0,
            "ticks": ""
           }
          },
          "colorscale": {
           "diverging": [
            [
             0,
             "#8e0152"
            ],
            [
             0.1,
             "#c51b7d"
            ],
            [
             0.2,
             "#de77ae"
            ],
            [
             0.3,
             "#f1b6da"
            ],
            [
             0.4,
             "#fde0ef"
            ],
            [
             0.5,
             "#f7f7f7"
            ],
            [
             0.6,
             "#e6f5d0"
            ],
            [
             0.7,
             "#b8e186"
            ],
            [
             0.8,
             "#7fbc41"
            ],
            [
             0.9,
             "#4d9221"
            ],
            [
             1,
             "#276419"
            ]
           ],
           "sequential": [
            [
             0,
             "#0d0887"
            ],
            [
             0.1111111111111111,
             "#46039f"
            ],
            [
             0.2222222222222222,
             "#7201a8"
            ],
            [
             0.3333333333333333,
             "#9c179e"
            ],
            [
             0.4444444444444444,
             "#bd3786"
            ],
            [
             0.5555555555555556,
             "#d8576b"
            ],
            [
             0.6666666666666666,
             "#ed7953"
            ],
            [
             0.7777777777777778,
             "#fb9f3a"
            ],
            [
             0.8888888888888888,
             "#fdca26"
            ],
            [
             1,
             "#f0f921"
            ]
           ],
           "sequentialminus": [
            [
             0,
             "#0d0887"
            ],
            [
             0.1111111111111111,
             "#46039f"
            ],
            [
             0.2222222222222222,
             "#7201a8"
            ],
            [
             0.3333333333333333,
             "#9c179e"
            ],
            [
             0.4444444444444444,
             "#bd3786"
            ],
            [
             0.5555555555555556,
             "#d8576b"
            ],
            [
             0.6666666666666666,
             "#ed7953"
            ],
            [
             0.7777777777777778,
             "#fb9f3a"
            ],
            [
             0.8888888888888888,
             "#fdca26"
            ],
            [
             1,
             "#f0f921"
            ]
           ]
          },
          "colorway": [
           "#636efa",
           "#EF553B",
           "#00cc96",
           "#ab63fa",
           "#FFA15A",
           "#19d3f3",
           "#FF6692",
           "#B6E880",
           "#FF97FF",
           "#FECB52"
          ],
          "font": {
           "color": "#2a3f5f"
          },
          "geo": {
           "bgcolor": "white",
           "lakecolor": "white",
           "landcolor": "#E5ECF6",
           "showlakes": true,
           "showland": true,
           "subunitcolor": "white"
          },
          "hoverlabel": {
           "align": "left"
          },
          "hovermode": "closest",
          "mapbox": {
           "style": "light"
          },
          "paper_bgcolor": "white",
          "plot_bgcolor": "#E5ECF6",
          "polar": {
           "angularaxis": {
            "gridcolor": "white",
            "linecolor": "white",
            "ticks": ""
           },
           "bgcolor": "#E5ECF6",
           "radialaxis": {
            "gridcolor": "white",
            "linecolor": "white",
            "ticks": ""
           }
          },
          "scene": {
           "xaxis": {
            "backgroundcolor": "#E5ECF6",
            "gridcolor": "white",
            "gridwidth": 2,
            "linecolor": "white",
            "showbackground": true,
            "ticks": "",
            "zerolinecolor": "white"
           },
           "yaxis": {
            "backgroundcolor": "#E5ECF6",
            "gridcolor": "white",
            "gridwidth": 2,
            "linecolor": "white",
            "showbackground": true,
            "ticks": "",
            "zerolinecolor": "white"
           },
           "zaxis": {
            "backgroundcolor": "#E5ECF6",
            "gridcolor": "white",
            "gridwidth": 2,
            "linecolor": "white",
            "showbackground": true,
            "ticks": "",
            "zerolinecolor": "white"
           }
          },
          "shapedefaults": {
           "line": {
            "color": "#2a3f5f"
           }
          },
          "ternary": {
           "aaxis": {
            "gridcolor": "white",
            "linecolor": "white",
            "ticks": ""
           },
           "baxis": {
            "gridcolor": "white",
            "linecolor": "white",
            "ticks": ""
           },
           "bgcolor": "#E5ECF6",
           "caxis": {
            "gridcolor": "white",
            "linecolor": "white",
            "ticks": ""
           }
          },
          "title": {
           "x": 0.05
          },
          "xaxis": {
           "automargin": true,
           "gridcolor": "white",
           "linecolor": "white",
           "ticks": "",
           "title": {
            "standoff": 15
           },
           "zerolinecolor": "white",
           "zerolinewidth": 2
          },
          "yaxis": {
           "automargin": true,
           "gridcolor": "white",
           "linecolor": "white",
           "ticks": "",
           "title": {
            "standoff": 15
           },
           "zerolinecolor": "white",
           "zerolinewidth": 2
          }
         }
        },
        "width": 800
       }
      }
     },
     "metadata": {},
     "output_type": "display_data"
    }
   ],
   "source": [
    "import polars as pl\n",
    "import plotly.express as px\n",
    "import plotly.graph_objects as go\n",
    "from plotly.subplots import make_subplots\n",
    "import datetime\n",
    "\n",
    "color_discrete_map = {\n",
    "    \"南葵中心3隊\": \"#ea3323\",\n",
    "    \"南葵中心4隊\": \"#ff8b00\",\n",
    "    \"上環/將軍澳中心隊\": \"#febb26\",\n",
    "    \"南葵中心2隊\": \"#17873f\",\n",
    "    \"南葵中心1隊\": \"#25dc67\",\n",
    "    \"南區中心1隊\": \"#4f7af9\",\n",
    "    \"上環中心隊\": \"#9c78fe\",\n",
    "    \"石蔭中心隊\": \"#ffccdd\",\n",
    "    \"南區中心2隊\": \"#ffffff\",\n",
    "}\n",
    "\n",
    "df = pl.DataFrame(map_data)\n",
    "\n",
    "# Convert date columns to datetime\n",
    "df = df.with_columns(\n",
    "    pl.col(\"createdAt\").str.strptime(pl.Datetime, \"%Y-%m-%dT%H:%M:%S.%fZ\"),\n",
    "    pl.col(\"expiredAt\").str.strptime(pl.Datetime, \"%Y-%m-%dT%H:%M:%S.%fZ\")\n",
    ")\n",
    "\n",
    "# Generate 5-minute intervals\n",
    "start_time = df[\"createdAt\"].min()\n",
    "end_time = df[\"expiredAt\"].max()\n",
    "\n",
    "intervals = []\n",
    "current_time = start_time\n",
    "\n",
    "while current_time <= end_time:\n",
    "    intervals.append(current_time)\n",
    "    current_time += datetime.timedelta(minutes=3)\n",
    "\n",
    "# Create a Plotly scatter mapbox plot\n",
    "fig = go.Figure()\n",
    "\n",
    "# Add scatter traces for each time step\n",
    "for interval in intervals:\n",
    "    filtered_df = df.filter(pl.col(\"createdAt\") <= interval).filter(pl.col(\"expiredAt\") >= interval)\n",
    "    c = [color_discrete_map[x['userName']] for x in filtered_df.to_dicts()]\n",
    "    fig.add_trace(go.Scattermapbox(\n",
    "        lon=filtered_df[\"long\"],\n",
    "        lat=filtered_df[\"lat\"],\n",
    "        mode='markers',\n",
    "        marker=go.scattermapbox.Marker(size=15, color=c),\n",
    "        name=str(interval),\n",
    "        text=filtered_df[\"userName\"],\n",
    "    ))\n",
    "    \n",
    "steps = []\n",
    "for i in range(len(fig.data)):\n",
    "    step = dict(\n",
    "        method=\"update\",\n",
    "        args=[{\"visible\": [False] * len(fig.data)}],\n",
    "        label=intervals[i].strftime(\"%H:%M:%S\")\n",
    "    )\n",
    "    step[\"args\"][0][\"visible\"][i] = True  # Toggle i'th trace to \"visible\"\n",
    "    steps.append(step)\n",
    "\n",
    "# Update layout with mapbox style and initial view\n",
    "fig.update_layout(\n",
    "    # updatemenus=[{\n",
    "    #     \"direction\": \"left\",\n",
    "    #     \"pad\": {\"r\": 10, \"t\": 87},\n",
    "    #     \"showactive\": False,\n",
    "    #     \"type\": \"buttons\",\n",
    "    #     \"x\": 0.1,\n",
    "    #     \"xanchor\": \"right\",\n",
    "    #     \"y\": 0,\n",
    "    #     \"yanchor\": \"top\"\n",
    "    # }],\n",
    "    # sliders=[{\n",
    "    #     \"steps\": [\n",
    "    #         {\"args\": [[str(interval)], {\"frame\": {\"duration\": 300, \"redraw\": True}, \"mode\": \"immediate\"}],\n",
    "    #          \"label\": str(interval),\n",
    "    #          \"method\": \"animate\"} for interval in intervals\n",
    "    #     ],\n",
    "    #     \"transition\": {\"duration\": 300},\n",
    "    #     \"x\": 0.1,\n",
    "    #     \"len\": 0.9\n",
    "    # }]\n",
    "    \n",
    "    sliders=[dict(\n",
    "        steps=steps\n",
    "    )]\n",
    "\n",
    ")\n",
    "\n",
    "fig.update_layout(\n",
    "    mapbox_style=\"open-street-map\",\n",
    "    mapbox_zoom=14,\n",
    "    mapbox_center={\"lat\": 22.45873, \"lon\": 114.00217},\n",
    "    width=800,\n",
    "    height=1000,\n",
    ")\n",
    "\n",
    "fig.show()\n"
   ]
  },
  {
   "cell_type": "code",
   "execution_count": null,
   "metadata": {},
   "outputs": [],
   "source": []
  }
 ],
 "metadata": {
  "kernelspec": {
   "display_name": "venv",
   "language": "python",
   "name": "python3"
  },
  "language_info": {
   "codemirror_mode": {
    "name": "ipython",
    "version": 3
   },
   "file_extension": ".py",
   "mimetype": "text/x-python",
   "name": "python",
   "nbconvert_exporter": "python",
   "pygments_lexer": "ipython3",
   "version": "3.9.6"
  }
 },
 "nbformat": 4,
 "nbformat_minor": 2
}
